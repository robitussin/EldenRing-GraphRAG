{
 "cells": [
  {
   "cell_type": "markdown",
   "metadata": {},
   "source": [
    "# Convert text to a graph"
   ]
  },
  {
   "cell_type": "markdown",
   "metadata": {},
   "source": [
    "This notebook demonstrates how to extract graph from any text using the graph maker\n",
    "\n",
    "Steps:\n",
    "1. Split the document\n",
    "2. Construct the knowledge graph\n",
    "3. Save the graph to a graph database"
   ]
  },
  {
   "cell_type": "code",
   "execution_count": 1,
   "metadata": {},
   "outputs": [],
   "source": [
    "import os"
   ]
  },
  {
   "cell_type": "code",
   "execution_count": 2,
   "metadata": {},
   "outputs": [],
   "source": [
    "os.environ[\"OPENAI_API_KEY\"] = os.getenv(\"OPENAI_API_KEY\")\n",
    "os.environ[\"GROQ_API_KEY\"] = \"TEST\""
   ]
  },
  {
   "cell_type": "code",
   "execution_count": 3,
   "metadata": {},
   "outputs": [],
   "source": [
    "from knowledge_graph_maker import GraphMaker, Ontology, OpenAIClient\n",
    "from knowledge_graph_maker import Document"
   ]
  },
  {
   "cell_type": "markdown",
   "metadata": {},
   "source": [
    "## Split the document"
   ]
  },
  {
   "cell_type": "code",
   "execution_count": 418,
   "metadata": {},
   "outputs": [],
   "source": [
    "#from langchain_experimental.text_splitter import SemanticChunker\n",
    "# from langchain_openai.embeddings import OpenAIEmbeddings"
   ]
  },
  {
   "cell_type": "code",
   "execution_count": 419,
   "metadata": {},
   "outputs": [],
   "source": [
    "# text_splitter = SemanticChunker(OpenAIEmbeddings())\n",
    "# docs1 = text_splitter.split_text(temp)"
   ]
  },
  {
   "cell_type": "code",
   "execution_count": 4,
   "metadata": {},
   "outputs": [],
   "source": [
    "from langchain import hub\n",
    "from langchain_community.chat_models import ChatOpenAI\n",
    "from langchain.chains import create_extraction_chain_pydantic\n",
    "from langchain_core.pydantic_v1 import BaseModel\n",
    "from typing import Optional, List"
   ]
  },
  {
   "cell_type": "markdown",
   "metadata": {},
   "source": [
    "### Extract propositions from each paragraph\n",
    "\n",
    "In this part, we will use an LLM to extract stand alone statements from a raw piece of text.\n",
    "\n",
    "Example: Greg went to the park. He likes walking > ['Greg went to the park.', 'Greg likes walking']"
   ]
  },
  {
   "cell_type": "markdown",
   "metadata": {},
   "source": [
    "Pulling out propositions is done via a well-crafted prompt. I'm going to pull it from LangHub, LangChain's home for prompts.\n",
    "\n",
    "Use custom prompt to instruct an LLM to extract propositions."
   ]
  },
  {
   "cell_type": "code",
   "execution_count": 5,
   "metadata": {},
   "outputs": [
    {
     "name": "stderr",
     "output_type": "stream",
     "text": [
      "/Users/user/miniconda3/envs/graphmaker/lib/python3.11/site-packages/langchain/hub.py:86: DeprecationWarning: The `langchainhub sdk` is deprecated.\n",
      "Please use the `langsmith sdk` instead:\n",
      "  pip install langsmith\n",
      "Use the `pull_prompt` method.\n",
      "  res_dict = client.pull_repo(owner_repo_commit)\n"
     ]
    }
   ],
   "source": [
    "obj = hub.pull(\"wfh/proposal-indexing\")"
   ]
  },
  {
   "cell_type": "markdown",
   "metadata": {},
   "source": [
    "We will be using gpt-4o-mini to extract the propositions"
   ]
  },
  {
   "cell_type": "code",
   "execution_count": 6,
   "metadata": {},
   "outputs": [
    {
     "name": "stderr",
     "output_type": "stream",
     "text": [
      "/Users/user/miniconda3/envs/graphmaker/lib/python3.11/site-packages/langchain_core/_api/deprecation.py:139: LangChainDeprecationWarning: The class `ChatOpenAI` was deprecated in LangChain 0.0.10 and will be removed in 0.3.0. An updated version of the class exists in the langchain-openai package and should be used instead. To use it run `pip install -U langchain-openai` and import as `from langchain_openai import ChatOpenAI`.\n",
      "  warn_deprecated(\n"
     ]
    }
   ],
   "source": [
    "chunking_llm = ChatOpenAI(model='gpt-4o-mini', openai_api_key = os.getenv(\"OPENAI_API_KEY\", 'YouKey'))"
   ]
  },
  {
   "cell_type": "markdown",
   "metadata": {},
   "source": [
    "Then I'll make a runnable w/ langchain, this'll be a short way to combine the prompt and llm"
   ]
  },
  {
   "cell_type": "code",
   "execution_count": 7,
   "metadata": {},
   "outputs": [],
   "source": [
    "# use it in a runnable\n",
    "runnable = obj | chunking_llm"
   ]
  },
  {
   "cell_type": "markdown",
   "metadata": {},
   "source": [
    "The output from a runnable is a json-esque structure in a string. We need to pull the sentences out. I found that LangChain's example extraction was giving me a hard time so I'm doing it manually with a pydantic data class. There is definitely room to improve this.\n",
    "\n",
    "Create your class then put it in an extraction chain."
   ]
  },
  {
   "cell_type": "code",
   "execution_count": 8,
   "metadata": {},
   "outputs": [
    {
     "name": "stderr",
     "output_type": "stream",
     "text": [
      "/Users/user/miniconda3/envs/graphmaker/lib/python3.11/site-packages/langchain_core/_api/deprecation.py:139: LangChainDeprecationWarning: LangChain has introduced a method called `with_structured_output` thatis available on ChatModels capable of tool calling.You can read more about the method here: <https://python.langchain.com/docs/modules/model_io/chat/structured_output/>. Please follow our extraction use case documentation for more guidelineson how to do information extraction with LLMs.<https://python.langchain.com/docs/use_cases/extraction/>. If you notice other issues, please provide feedback here:<https://github.com/langchain-ai/langchain/discussions/18154>\n",
      "  warn_deprecated(\n"
     ]
    }
   ],
   "source": [
    "# Pydantic data class\n",
    "class Sentences(BaseModel):\n",
    "    sentences: List[str]\n",
    "    \n",
    "# Extraction\n",
    "extraction_chain = create_extraction_chain_pydantic(pydantic_schema=Sentences, llm=chunking_llm)"
   ]
  },
  {
   "cell_type": "markdown",
   "metadata": {},
   "source": [
    "Define a function to extract propositions"
   ]
  },
  {
   "cell_type": "code",
   "execution_count": 9,
   "metadata": {},
   "outputs": [],
   "source": [
    "def get_propositions(text):\n",
    "    runnable_output = runnable.invoke({\n",
    "    \t\"input\": text\n",
    "    }).content\n",
    "    \n",
    "    propositions = extraction_chain.run(runnable_output)[0].sentences\n",
    "    return propositions"
   ]
  },
  {
   "cell_type": "markdown",
   "metadata": {},
   "source": [
    "Load source document"
   ]
  },
  {
   "cell_type": "code",
   "execution_count": 10,
   "metadata": {},
   "outputs": [],
   "source": [
    "with open('./data_input/eldenring.txt') as file:\n",
    "    essay = file.read()"
   ]
  },
  {
   "cell_type": "markdown",
   "metadata": {},
   "source": [
    "Then you need to decide what you send to your proposal maker. The prompt has an example that is about 1K characters long. So I would experiment with what works for you. This isn't another chunking decision, just pick something reasonable and try it out.\n",
    "\n",
    "I'm using paragraphs\n",
    "\n",
    "Split the documents at each line break"
   ]
  },
  {
   "cell_type": "code",
   "execution_count": 11,
   "metadata": {},
   "outputs": [],
   "source": [
    "paragraphs = essay.split(\"\\n\\n\")"
   ]
  },
  {
   "cell_type": "markdown",
   "metadata": {},
   "source": [
    "Let's see how many we have"
   ]
  },
  {
   "cell_type": "code",
   "execution_count": 12,
   "metadata": {},
   "outputs": [
    {
     "data": {
      "text/plain": [
       "66"
      ]
     },
     "execution_count": 12,
     "metadata": {},
     "output_type": "execute_result"
    }
   ],
   "source": [
    "len(paragraphs)"
   ]
  },
  {
   "cell_type": "code",
   "execution_count": 13,
   "metadata": {},
   "outputs": [
    {
     "data": {
      "text/plain": [
       "['Lore in Elden Ring covers all the information related to the world and mythos of the game. From past events that occurred long ago, to the history of the Lands Between and the mystery of the elusive Elden Ring, all can be found here. Please note that this page contains heavy spoilers.',\n",
       " '- The Mythos of Elden Ring was written by George R. R. Martin. Mythos refers to the overall narrative theme or plot structure. It can also be interpreted as a belief system.\\n- The Story of Elden Ring was written by Hidetaka Miyazaki and his team at FromSoftware\\n- The Lore and Story of Elden Ring are told in a similar manner to other FromSofware \"Souls\" games, so players should expect to find plenty left to interpretation as well as seemingly contradictory statements about various game characters, elements, and concepts.',\n",
       " 'Elden Ring Lore Overview',\n",
       " 'The storyteller folds her slender hands - both pairs - and speaks. “It happened an age ago. But when I recall, I see it true.” So begins the tale of the Shattering, a devastating war between the children of Marika, Demigods of the Lands Between. One grim night in the depths of winter, a flock of unknown assassins stole across the Lands Between.\\nIn a coetaneous attack, this foul covenant snuffed out the lives of many of the God-Queen’s kin throughout the empire, too numerous and too scattered for her godly protection to save. The assassins’ targets were multifold, but none was as devastating a loss to the Eternal Queen as that of Godwyn the Golden. After his death, the Elden Ring was somehow shattered, and the order of the world broke with it.\\nOut of this chaos came war. Open, bitter war, pitting blood against blood and kin against kin. The conflict broke a vast and prosperous empire into brittle fragments. No single side could find enough purchase to maintain a decisive victory, even when fueled by the power of a Great Rune.\\nThe battle of General Radahn against Malenia the Severed illustrated that neither strength nor skill alone would be enough to take control of the entirety of the lands Marika had united. And so, the Lands Between are no longer gripped by open war, but caught in an uneasy stalemate that seems impossible to resolve. “Unless of course,” the storyteller says, a coy smile on both her lips, “thou shouldst take the crown?”\\nTake a deeper dive into the carefully crafted mythology of George R.R. Martin – author of The New York Times best-selling fantasy series, A Song of Ice and Fire – and the world created by FromSoftware based on his work in this new trailer available here.\\nTransported to ages long ago, you will relive the Shattering, a war that brought darkness to the Lands Between, initiated by demigods’ hunger for power. You’ll fight alongside General Radahn and Malenia the Severed, but even these two undefeatable warriors couldn’t reunite a world so badly broken. There is only one hope left: the hope that a new Elden Lord will rise and lift the veil of shadows that has fallen over Marika’s domain.\\nThe wait is almost over. Soon you’ll venture into the Lands Between and strive to become its Elden Lord. Stand ready, Tarnished, and prepare to claim what fate has promised you.',\n",
       " 'Elden Ring Location Lore\\nThe Lands Between is the world of Elden Ring, and those who live in The Lands Between were blessed by Grace through the Elden Ring and the Erdtree. Those who were blessed by the Elden Ring are characterized by having a golden aura that can be seen in their eyes. However, at some point, some of those who were blessed lost their grace; they were exiled and labeled the Tarnished.  As time passed, for unknown reasons, the Elden Ring was shattered and its shards were scattered across the Lands Between. The largest of these pieces were called Great Runes and were claimed by the six Demigod children of Queen Marika the Eternal, causing them to inherit different powers and have been physically changed and twisted due to being corrupted by the power of these runes.\\nThe Lands Between is divided into 7 distinct areas,',\n",
       " '- Limgrave\\n- Caelid \\n- Liurnia of the Lakes \\n- Altus Plateau \\n- Mt. Gelmir\\n- Mountaintops of the Giants\\n- The River Kingdoms (underground) \\n- Each overseen by a Demigod, and features a central \"overworld\" that connects all of these areas. According to an interview with Miyazaki, players will have total freedom as to the order they want to tackle for each area, and it is up to the player on how they want to approach it. The hub area similar to Firelink Shrine or Majula in previous games will not be accessible at the beginning of the game, which means you will need to progress the game until you reach the hub area.',\n",
       " 'Elden Ring Character Lore',\n",
       " 'The Tarnished\\nAccording to Hidetaka Miyazaki: \"The Lands Between is supposed to invoke this feeling of something that\\'s very mysterious and very ethereal – and we hope that when players play the game, they\\'re going to experience that.\"\\nIn the opening of the official reveal trailer that was presented in E3 2021, we see a softly spoken, hooded woman saying \"The Tarnished, will soon return.\" The question is, who and what is The Tarnished? Simply put, you are the Tarnished. As the player, you are one of the Tarnished that have been exiled upon losing their blessing of Grace granted by the Elden Ring and the Erdtree, a tree that hosts source and life of The Lands Between. Very much like previous Souls games, where you are the Chosen Undead or the Ashen One. After the shattering of the Elden Ring, you are then called back by this lost Grace to The Lands Between, along with other Tarnished to recover the shards of the Elden Ring, to make them whole once again, and to become the Elden Lord of The Lands Between.\\nAccording to Hidetaka Miyazaki in an interview: \" I feel like one of the main themes of the game is how the player, the Tarnished, approaches or treats this new-found grace and this return to the land that they were once banished from, how they interpret this and the meaning. It\\'s not just the player-character, of course, it\\'s lots of characters in the game, who are all beckoned back and will have their own adventures and motives. We want the player to discover for themselves what that means and how they want to begin their adventure.\"',\n",
       " 'Melina\\nOne of the first people the Tarnished encounters on their journey, Melina maintains an air of mystery throughout the game. She does not have a physical form and acts as the Tarnished\\'s Finger Maiden in exchange for taking her to the Erdtree, then later on, to the Mountaintops of the Giants. She approaches the Tarnished to aid her in her search for her purpose given to her by her mother, who she believes can be found at the base of the Erdtree, leading many to speculate that her mother is Marika. When summoned, she wields the Blade of Calling, a dagger that was previously owned by the kindling maiden, fitting considering her role as kindling when the Erdtree is burnt down. Speaking with Melina at various Sites of Grace reveals her ability to recall echoes of Queen Marika\\'s past actions and words, which she offers in lieu of a \"maiden\\'s guidance\".\\nMelina holds contempt for the Frenzied Flame and believes that whoever lords over the chaos and damage it brings is no Lord at all. If the Tarnished takes the Frenzied Flame before the event at the Forge of the Giants, she will leave them and will threaten to deliver them Destined Death once they become Lord of the Frenzied Flame.',\n",
       " \"White Mask Varre\\nThe White Masks encountered in Mohgwyn Palace were initially abducted by Mogh, Lord of Blood and turned into Bloody Fingers through an unknown ritual involving Mogh's accursed Omen blood. Of the four White Masks the Tarnished encounters in game, only Varre was able to withstand and tame the accursed blood. Despite being abducted by the Lord of Blood, he remains loyal to the Mohgwyn Dynasty and tries to indoctrinate the Tarnished into the dynasty. Even as he is dying at the at the end of his questline, forsaken by his Lord, he calls out to Mohg and blesses the Mohgwyn Dynasty.\",\n",
       " \"Bloody Finger Hunter Yura\\nA samurai from the Land of Reeds whose purpose is to hunt down Bloody Fingers. His biggest target is Eleonora, Violet Bloody Finger, a Tarnished whom he holds in high regard. It is uncertain what exactly caused Eleonora's corruption into a Bloody Finger - Yura himself warns the Tarnished against the dangers of Dragon Communion, stating that those who partake in it one day lose their humanity. On the other hand, other Bloody Fingers the Tarnished encounter, some of which are Yura's targets, are those that have been approached and swayed by Mohg, the Lord of Blood himself.\",\n",
       " \"Sorcerer Rogier\\nA Tarnished that, despite his easy-going nature, is said to be a wise and powerful sorcerer by his old travelling companion, D. Rogier was once a scholar seeking the truth behind the Night of the Black Knives. His scholarly pursuits eventually brought him under Stormveil Castle, where he found and disturbed a corpse, causing him to be afflicted with Death. As opposed to D who sees Those Who Live in Death as a threat against the Golden Order, Rogier is empathetic towards them, believing them to have committed no offence. By finishing Rogier's quest, the Tarnished is able to help him reveal many insights about the night of the assassination before he finally succumbs to his affliction.\",\n",
       " \"Fia\\nA Tarnished Deathbed Companion driven from her home when awoken by the guidance of grace. Fia describes a Deathbed Companion as a person who receives warmth and life from numerous champions, and then lays with the remains of an exalted noble to revive them, an act she says is revered in her homeland. She is empathetic towards Those Who Live in Death and put it upon herself to be their guardian.\\nBefore meeting her at Deeproot Depths, the Tarnished will encounter her champions - one of which is Rogier, and another who is Lionel the Lionhearted, a knight Fia met on her journey to the Lands Between who declared being her father. After bringing together Ranni's half of the Cursemark of Death from the Divine Tower of Liurnia and Godwyn's half from D, she implies that being Godwyn's Deathbed Companion will have him be reborn as a rune representing Those Who Live in Death - the Mending Rune of the Death-Prince.\",\n",
       " \"D, Hunter of the Dead\\nA devout follower of the Golden Order, D hunts Those Who Live in Death, most notably Tibia Mariners for their Deathroot. He has a twin brother whose dialogue suggests his name is Darian. Despite having separate bodies and separate minds, the twins share the same soul and one cannot be conscious when the other is. Where other Orders would have seen them as cursed beings, the two twins found comfort in the Golden Order, the one Order that doesn't. D states that Those Who Live in Death go against the principles of the Golden Order, and so they must be exterminated.\",\n",
       " \"D, Beholder of Death\\nD's Twin Brother, whose name is inferred to be Devin from D's voicelines. He can be found slumbering in the Siofra Aqueduct while D is alive, and in the same place grieving when D is dead. Despite not being able to talk and interact with one another, the two brothers seem to be close as he swears revenge against his brother's killer, whether it be Fia or the Tarnished, when given his brother's armor set.\",\n",
       " \"Gurranq, Beast Clergyman\\nA large beastman who hungers for Deathroot. Before meeting the Tarnished, D was in charge of hunting for and providing Gurranq with these Deathroot. It is heavily implied that the Beast Clergyman the Tarnished encounters in Crumbling Farum Azula is Gurranq himself as he recognises them if they have given him all 9 Deathroot. It is therefore also implied that Gurranq is Maliketh, the Black Blade.\\nMaliketh is Marika's Shadow bestowed upon her by the Greater Will as an Empyrean, like how Blaidd is to Ranni. According to the Stone of Gurranq, Maliketh was a ferocious warrior whose name meant 'Death of the Demigods'. He was ordered by Marika to lock away the Rune of Death, also referred to as Destined Death. However, a fragment of the rune was stolen and used in the Night of the Black Knives, leading to the death of the first demigod, Godwyn the Golden. To ensure the rune was never stolen again, Maliketh bound his sword, imbued with the Rune of Death, within his own body and changed his name. His Remembrance implies that he was betrayed by Marika, though in what exact matter is unknown.\",\n",
       " \"Roderika\\nA Tarnished driven away from her home across the sea. The cloak she wears implies that she used to be a member of royalty. At some point upon arriving at the Lands Between, she happened upon White Mask Varre, who gave her the same advice as he gives the Tarnished at the beginning of their journey - to seek Godrick and his Great Rune at Stormveil Castle. Upon arriving at Stormhill, the men escorting her were taken and sacrificed for grafting, leaving her in guilt about the fact that she's too afraid to join them.\\nShe moves to the Roundtable Hold to find purpose after receiving the hopeful echoes of her men through the Chrysalids' Memento. Here, Smithing Master Hewg recognises her potential for spirit tuning through her eyes, and with a bit of encouragement from the Tarnished, trains her to be a skillful spirit tuner. The two become close, and even as the Roundtable Hold is burning down, she stays behind with him to repay his kindness.\",\n",
       " 'Smithing Master Hewg\\nA misbegotten chained and imprisoned at the Roundtable Hold. Here, he is tasked by Queen Marika to smith a weapon strong enough to kill a god, a task that he makes his life goal. Hewg strongly believes the Tarnished will be the one to become Elden Lord, and will say so before he completely loses his memory.',\n",
       " 'Nepheli Loux\\nAdoptive daughter of Sir Gideon Ofnir. According to Gideon, he took her in when she lost the guidance of grace and became a Tarnished. Nepheli is a skilled warrior who believes in standing up and enacting justice for the weak and oppressed. She once believed that her adoptive father held the same beliefs, but after learning that he was the mastermind behind the attack on the Village of the Albinaurics, she loses faith in him. It is speculated that Nepheli has ties with the first Elden Lord, Godfrey, and therefore the Golden Lineage, as she bears the same last name as Hoarah Loux and as Kenneth Haight deems her worthy of taking up the mantle of leader of Limgrave.',\n",
       " \"Kenneth Haight\\nA member of the Erdtree royalty, self-proclaimed rightful leader of Limgrave and owner of Fort Haight. Kenneth looks down on Godrick and deems him unworthy of ruling Limgrave for his cowardly actions during the Shattering, as well as not possessing the proper lineage required to rule. After taking back Fort Haight from Godrick's forces and seeing the state it's been left in, Kenneth laments that he doesn't have the authority to rule Limgrave and goes on to look for an eligible candidate, until he finally comes across Nepheli Loux.\",\n",
       " \"Gatekeeper Gostoc\\nThe Gatekeeper of Stormveil Castle. Despite this, he informs the Tarnished of a safer side passage to allow them to enter the castle undetected. He can be caught sneaking and following the Tarnished around in the castle, and each time they are defeated, Gostoc steals a portion of the Golden Runes they drop. It seems he does this with each Tarnished that comes to Stormveil Castle to challenge the shardbearer.\\nGostoc holds contempt for the master of the castle, Godrick, having been mistreated and looked down upon by him. Much of Gostoc's dialogue reveals that he longs for freedom from his master and duties. However, when Nepheli takes the throne, he is happy to return to his duties.\",\n",
       " \"Boc the seamster\\nA demi-human outcast often picked on for his looks. He looks up to his late mother, who was a skilled seamstress and one of few the few people who cared for him. Boc was kicked out of his former home in the Costal Cave and had his possessions stolen by the other demi-humans. After the Tarnished helps him take back his prized Sewing Needle and Tailoring Tools, he offers to tailor their armor as compensation.\\nThroughout his interactions with the Tarnished, Boc expresses unhappiness towards his looks. The Tarnished can either grant Boc a Larval Tear to help change his appearance or let him know he's accepted, both of which, though different in outcome, Boc is grateful for.\",\n",
       " \"Brother Corhyn\\nA cleric of the Golden Order. His armor implies that he once foretold an inauspicious prophecy, though of what exactly is unclear. Throughout his questline, Corhyn shows high and unwavering faith in the Golden Order. He is greatly interested in discovering the secrets of the Order, and so leaves the Roundtable in search for Goldmask, a great scholar of Golden Order fundamentalism.\\nAfter introducing him to Goldmask, Corhyn acts as Goldmask's scribe, translating and recording his various finger movements into written records. Corhyn holds Goldmask in high regard, but after learning of his reservations towards the Golden Order, Corhyn begins to question his master's intentions.\",\n",
       " \"Goldmask\\nThe ever brilliant Goldmask is a famed scholar of Golden Order fundamentalism and one of many Tarnished called back to the Lands Between after the Shattering. He doesn't speak and instead communicates through rhythmic hand and finger movements.\\nGoldmask once lamented that hunters of Those Who Live in Death had been reduced to fanatics of the Golden Order and hunted simply for the sake of having an evil to fight against. Throughout his questline, the Tarnished aids him in better understanding the Golden Order, most notably in the nature of Radagon, to correct the imperfections that lie within the Order. With the Mending Rune of Perfect Order, Goldmask concluded that the imperfections found were due to the very gods being just as fickle as ordinary men. \",\n",
       " \"Gowry\\nA Kindred of Rot disguised as an old sage and Millicent's caretaker as a child. It is uncertain what or where his real form is as he returns to his shack as he was before most times after being attacked.\\nAfter Malenia's Scarlet Aeonia bloomed in Caelid during the Shattering, Gowry dedicated his services to her, believing her to be the one to bring about a new order - the Order of Rot. In the swamp of Aeonia, he found Millicent, and presumably her sisters, as babies and proceeded to raise them, hoping that when Malenia one day ascended to be the Goddess of Rot, they too would be reborn as scarlet valkyries. Of all the sisters, Gowry saw the most potential in Millicent to follow in Malenia's footsteps.\\nAt the end of Millicent's quest, Gowry asks the Tarnished to aid Millicent's sisters in attacking her. He believes that the betrayal she feels from the person she trusted the most will act as a catalyst for her to 'bloom'.\",\n",
       " \"Millicent\\nA daughter of Malenia, Millicent shares many striking similarities with her mother - bright red hair, a missing arm from her severe scarlet rot affliction, and skilled swordsmanship that resembles her mother's style. Due to the scarlet rot, though she feels a sense of familiarity within Gowry's Shack, Millicent does not remember her childhood with Gowry.\\nUpon being cured using the Unalloyed Golden Needle, Millicent sets out on a journey to seek Malenia. She hopes that she may be able to aid Malenia in resisting the call of the scarlet rot. Before she's able to reach the Empyrean, she is ambushed by her sisters at Elphael and possibly the Tarnished if they so choose. If the Tarnished defends her instead, Millicent reveals that she is aware of what Gowry hoped to she would bloom into. She removes the golden needle and succumbs to the scarlet rot, not wanting live as someone other than herself.\",\n",
       " 'Irina\\nThe blind daughter of Edgar, the Commander of Castle Morne. The Tarnished meets her after crossing the Bridge of Sacrifice to the Weeping Peninsula. With the help of her father and some attendants at the castle, she escaped Castle Morne after the Misbegotten serving under the castle rebelled. She cares much for her father and implores the Tarnished to deliver a letter persuading him to leave the castle.\\nTheir reunion unfortunately never happens as she gets murdered. From the large sword left by her corpse, it is implied that an escaped Misbegotten from Castle Morne was her killer.',\n",
       " \"Edgar\\nThe Commander of Castle Morne, ordained by Godrick. He has a high sense of duty and stays behind to protect the castle's prized sword, the Grafted Blade Greatsword, even after the rest of the castle's attendants had fled from the Misbegotten rebellion. After finding Irina's body, he expresses regret over not protecting her and swears vengeance towards her killers.\\nEdgar can later be found at Revengers Shack as an invader. From the Shabriri Grape he drops, it is speculated that he succumbed to madness from Irina's death.\",\n",
       " \"Hyetta\\nA blind young woman who resembles Irina. Despite being blind, Hyetta is able to perceive some form of light every time she consumes a Shabriri Grape. While at first she is disgusted by the fact the Shabriri Grapes are human eyes, she quickly comes to terms with it and affirms that it's required for her to become a finger maiden. It seems that the Tarnished is not the only person bringing her Shabriri Grapes. Hyetta mentions that other beings with trembling hands and emaciated fingers have given her the grapes before.\\nSuccessfully completing her quest and aiding her in becoming a Finger Maiden gives the Tarnished more information on the Three Fingers and the Frenzied Flame.\",\n",
       " \"Shabriri\\nA mysterious figure who refers to himself as chaos incarnate. Shabriri inhabits Yura's body, who he claims willingly gave his body away. When the Tarnished meets him at the Mountaintops of the Giants, he tries to persuade them into becoming the Lord of Frenzied Flame and gives them information on the Frenzied Flame Proscription.\\nShabriri was also the name of a man who previously had his eyes gouged out as punishment for his crime of slander. In time, his eyes were filled with the flame of frenzy. This, according to the Howl of Shabriri, was the first instance of the maddening sickness of frenzy in the Lands Between.\",\n",
       " \"Ranni the Witch\\nThe daughter of Rennala and Radagon. She took after her mother and discovered her own full moon - Ranni's Dark Moon - and learnt cold sorceries from the mysterious Snow Witch she encountered deep in the woods. It seems that since childhood, she's held Blaidd and Iji dearly. At some point, Ranni defeated the Glinstone Dragon, Adula, who then swore their allegiance to her.\\nAlthough she wasn't born a demigod, Radagon's unity with Marika made her eligible to be an Empyrean. Despite this, Ranni did not want to be controlled by the Two Fingers and rejected her fate. In an act of rebellion, Ranni masterminded the Night of the Black Knives, stealing the Rune of Death and imbuing its power in the knives of the Black Knife Assassins. On the night of the assassination, Ranni's body died and her soul was transferred into a doll reminiscent of her old master, Renna, the Snow Witch.\",\n",
       " 'Blaidd\\nThe half-wolven Shadow of Ranni, granted to her by the Two Fingers when she became an Empyrean. Despite being an agent of the Two Fingers, his loyalties lie only with Ranni, who he considers as family. The sword he carries, the Royal Greatsword, was imbued with cold magic as proof of his loyalty.\\nIf an Empyrean were to go against the will of the Two Fingers, their Shadow would go mad and oppose them. Though this was the fate he would eventually face, even in madness, Blaidd continued to defy his fate and remain faithful to Ranni.',\n",
       " \"War Counselor Iji\\nThe only friendly Troll the Tarnished encounters on their journey. Iji has two roles within the Carian royal family. He is the royal family's blacksmith. According to Jerren, the blades smithed by Iji were blunt, but were able to resist decay when faced against scarlet rot.\\nIji also acts as Ranni's war counselor, providing her and those under her with guidance on the lost city of Nokron. He cares very much for both Blaidd and Ranni and has watched over them since they were children. Despite being loyal towards Ranni, Iji's Mirrorhelm seems to imply that he feared the consequence of his treachery against the Greater Will.\",\n",
       " \"Preceptor Seluvis\\nA magic preceptor in service to the Carian Royal family, currently aiding Ranni in her search for the dark path. Seluvis helped Sellen in some way when she was initially exiled from the academy, though she doesn't seem too fond of him when brought up. \\nThough prickly at first, if the Tarnished discovers his puppet collection and aids him in adding to it, he reveals his scheme to betray Ranni and add her, a demigod, to his collection. It is speculated that Seluvis and Pidia have a connection due to both their affinities towards puppets.\",\n",
       " \"Merchant Kale\\nOne of the numerous nomadic merchants the Tarnished can buy wares off of. He is acquainted with Blaidd, who refers to him as a busybody. The nomads used to prosper as a group known as the Great Caravan. They were however accused of heresy and were cast deep underground to be buried alive. There, they summoned the flame of frenzy. Kale describes the nomadic clan as spiteful, and so it is presumed that their summoning ritual was done out of spite. The note on the Lord of Frenzied Flame implies that the nomads came to worship the frenzied flame.\\nThis is further substantiated by pieces of Kale's cut quest that community members have been able to find. In this piece of cut content, the Tarnished would have aided Kale in discovering what happened to the Great Caravan. This would have led them to the Subterranean Shunning-Grounds, more specifically to the Frenzied Flame Proscription. He would comment on the bodies of the nomad clan found on the way to the underground area - 'sick', 'maddened', 'husks of themselves', 'hardly human anymore'. He finds out that his people were falsely accused of worshipping the Three Fingers and summoning the frenzied flame into the Lands Between. This fills him with spite towards the Greater Will and the Golden Order. He would have refused further trade with the Tarnished until they inherited the frenzied flame, after which he too would try to be granted an audience with the Three Fingers.\",\n",
       " \"Witch-hunter Jerren\\nInitially a nomadic wanderer, Jerren happened upon being a guest to the Carian royal family. During his time with the royal family, he was able to get acquainted with it's various members, notably Ranni, Iji, and Radahn. With the former two, he made a promise to slay a longstanding enemy of the Carian family, the Graven Witch Sellen, who had committed atrocities against many of her fellow sorcerers.\\nBefore he got to fulfill that promise, General Radahn recruited him into his army as a guest commander during the Shattering. He is an excellent swordsman and the Flamberge he wields is one of the symbols of Redmane Castle. When the Tarnished first meets him, he heralds the beginning of the war festival. \",\n",
       " \"Sorceress Sellen\\nSellen was said to be one of the most promising sorcerers in the history of the Raya Lucaria Academy. Scholars whose studies were deemed worthy received a glintstone crown, with Sellen having a unique one from other scholars the Tarnished encounters at the academy. However, she was exiled from the academy for her obsession and forbidden pursuit of the primeval current.\\nWhile not specified in-game, there are two speculated reasons that pursuing the primeval current is prohibited at the academy. One being the dangers it brought to the sorcerer pursuing it. During her quest, Sellen mentions two other primeval sorcerers, Master Lusat and Master Azur, both of which were masters of glintstone sorcery banished from the academy. Based on the sorceries each of them gives the player, their minds were broken simply by taking a glimpse into the primeval current.\\nIt is also speculated that it is forbidden due to requiring human sacrifices. According to Jerren, Sellen has killed many of her fellow sorcerers in her studies. The Graven-School Talisman notes that fashioning the bodies of sorcerers into 'seeds of stars' is one method of pursing the primeval current.\\nBecause of her scholarly pursuits, Sellen was imprisoned in Witchbane Ruins by the academy and the Carian Royal Family. If the Tarnished chooses to aid in her quest however, they can help her inhabit a new unshackled body by transplanting her primeval glintstone, which is essentially her soul, into another compatible body.\",\n",
       " \"Thops\\nA glintstone sorcerer from the Academy of Raya Lucaria. Thops was looked down upon by his fellow scholars and nicknamed Thops the Bluntstone for not having enough talent to cast powerful sorceries. Despite this animosity, he longs to return to the academy to finish his studies.\\nIf the Tarnished chooses to aid him in his quest, he is able to complete his lifelong project. He creates the spell Thops's Barrier - a uniquely defensive glintstone sorcery able to deflect both sorceries and incantations back at its caster, a spell that is worthy of its own conspectus.\",\n",
       " \"Miriel, Pastor of Vows\\nA large turtle and steward of the Church of Vows. Miriel is a peaceful soul who teaches the Tarnished about Absolution, though he himself does not require it if they attack him. He is well-versed in the history of Rennala and Radagon's union and is able to teach the Tarnished all manner of sorceries and incantations. As opposed to Corhyn who deems incantations not related to the Golden Order as heresy, Miriel is open-minded towards each of the sorcery and incantation scrolls the Tarnished gives him.\",\n",
       " \"Albus\\nA first generation Albinauric. The first generation of Albinaurics were created with defects in their legs, causing them to not be able to walk. According to Albus, when their legs fade, so too will their life.\\nThe Tarnished finds him disguised as a pot to escape from Gideon's subordinates attacking the Village of the Albinaurics. He safeguards the right half of the Haligtree Secret Medallion, a medallion that is said to be key to reaching the promised land of the Albinaurics - Miquella's Haligtree.\",\n",
       " 'Lattena\\nA first-generation Albinauric and one of many wolf-riding Albinauric archers. She was interrogated by an agent of Sir Gideon Ofnir (or possibly the man himself) about the second half of the Haligtree Secret Medallion, leading to the death of her faithful wolf, Lobo.\\nIf the Tarnished approaches her with the right half of the medallion, Latenna asks them to take her to Apostate Derelict in exchange for the whereabouts of the left half of the secret medallion. Upon arriving at their destination, Latenna transfers a birthing droplet to a large Albinauric called Phillia. While it is unclear what exact purpose the droplet has, Latenna mentions that is has something to do with creating life for the Albinaurics.',\n",
       " \"Ensha\\nSir Gideon Ofnir's silent right-hand man. The nature of his existence is obscure, however, his armor set, the Royal Remains Set, and weapon, the Clinging Bone, seem to suggest that Ensha is the reanimated remains of a king referred to as the Soulless King.\\nFrom Gideon's dialogue, it is speculated that Ensha was tasked with finding both halves of the Haligtree Secret Medallion and that he attacks the Tarnished at the Roundtable Hold to take the half that they have found.\",\n",
       " \"Tanith\\nConsort to Lord Rykard and adoptive mother of Rya. Tanith worked as a dancer in an unnamed foreign land until she caught Rykard's eye and became his consort. When he swore himself to blasphemy and became one with the God-Devouring Serpent, even after his men turned against him, even after she was given the Tonic of Forgetfulness as an out, she continued to stayed by his side.\\nNow, she is the Lady of the Volcano Manor, recruiting Tarnished who were willing to rise against the Greater Will and become recusants. Those who proved themselves worthy were granted an audience by the Lord, where they were devoured and became part of the Volcano Manor family.\",\n",
       " \"Bernahl\\nThe Tarnished can first meet this Ash of War teacher in Stormhill. Bernahl was said to be a Tarnished worthy of becoming Elden Lord, carrying out his destined path without doubt, until his maiden threw herself into 'the fire'. There are a few speculations as to what this might mean, with some speculating her to have succumbed to the flame of frenzy, and others speculating that similar to Melina, she was thrown into the Forge of the Giants as kindling for burning the Erdtree.\\nThe Tarnished can later find him as a recusant at the Volcano Manor. After defeating Rykard, Bernahl denounces the Greater Will and vows to fell them on behalf of his brother.\",\n",
       " \"Rya\\nRya, whose real name is Zorayas, is a Man-Serpent disguised as a human and the scout for the Volcano Manor. Only the Tarnished and her adoptive mother, Tanith, knows of her true form. She holds great regard for Tanith, and strongly believes in her work and the endeavors of the Volcano Manor.\\nHer quest involves her finding the truth behind her origins. She was told by Tanith that she was born by the grace of a great king. However, she notices that the Volcano Manor isn't all that it seems and eventually confronts Tanith about the secrets of the manor and other secrets she's been keeping from her. The talisman she leaves behind at the end of her quest seems to suggest her mother was Daedicar, a woman who was said to have birthed multiple grotesque children as a result of committing countless acts of adultery.\",\n",
       " \"Patches\\nPatches the Untethered is a bandit who tricks unsuspecting people into various death traps and entrapment schemes. If the Tarnished spares him, he will sell them various goods that he presumably from the corpses of those he successfully tricked. He mentions that his band of bandits comprise of foot soldiers and survivors of defeated armies who were left to fend for themselves.\\nPatches' Emporium can be accessed when reaching Volcano Manor. It seems that he has taken a liking to Tanith, who he endangers himself to obtain the Dancer's Castanets for, an item he hopes will put her back to her right mind after Rykard's defeat.\",\n",
       " 'Diallos\\nThe youngest son of House Hoslow, Diallos lives in the shadow of his elder brother, Juno Hoslow. As opposed to Juno who is a formidable fighter, Diallos was all bark but no bite, unbefitting for a family whose motto revolves around bloodshed. Despite this, the two brothers care for each other very much, with Juno using his position to dote on Diallos, and with Diallos looking up to Juno as a role model.',\n",
       " \"Jar-Bairn\\nA young jar living in Jarburg, a secret village of peaceful Living Jars. Jar-Bairn is one of the few living Jars capable of speaking to the Tarnished and is a warrior jar like his uncle Alexander. The Tarnished may find Jar-Bairn talking in his sleep, where he dreams about reuniting with Alexander and telling him he's a warrior jar too, poachers destroying the Living Pots at Jarburg, or later Diallos taking care of him.\\nLiving Jar Shards contain traces of magical power and therefore fetch a high price, leading to Living Jars being a prize target for poachers. The only known item crafted with these shards is the Ironjar Aromatic, a forbidden defense-boosting consumable created by Depraved Perfumers.\",\n",
       " 'Iron Fist Alexander\\nAn older Living Jar that left his home of Jarburg to seek great battle and hone his combat skills. Alexander is a warrior jar, Living Jars filled with the remains of warriors. According to him and Jar-Bairn, warrior jars are destined to leave their home and set out on journeys alone to become great champions. Though not explicitly explained, it seems as though warrior jars are able to absorb the essence of the fallen warriors they consume and by doing so, can also pick up some of their martial prowess.',\n",
       " \"Blackguard Big Boggart\\nA Tarnished and former criminal selling boiled prawns and crabs at the Boilprawn Shack, and later just outside the royal capital. It is possible that Boggart was previously convicted for thievery, as he'd stolen Rya's necklace when the Tarnished meets him. He used to be cellmates with Dung Eater, where he witnessed the latter defile the body of his friend with the Seedbed Curse. It was the most harrowing experience Boggart had ever had.\",\n",
       " 'Dung Eater\\nA Tarnished who, as his armor suggests, bears the heart of an Omen. Even before being brought back to the Lands Between, the Dung Eater was a merciless killer. He would defile the corpses of those he killed with Seedbed Curses and curse their soul to never be able to return to the Erdtree. His biggest aspiration is to defile and curse not only everyone in the Lands Between, but all future generations, a dream that can be realized by aiding him in gestating the Mending Rune of the Fell Curse.',\n",
       " 'Enia\\nA Finger Reader Crone the Tarnished encounters at the Roundtable Hold. The finger readers are interpreters for the Two Fingers, sharing the wisdom of the Greater Will to the inhabitants of the Lands Between. With the exception of Enia, the finger readers the Tarnished encounters seem to be frantic from the loss of their Two Fingers. Despite being an agent of the Greater Will, she is supportive of you burning down the Erdtree when her Two Fingers stop communicating with her.\\nShe claims that before the Tarnished, another had gathered 2 Great Runes. It is speculated that this person is either Bernahl, whose armor suggest that he was worthy of becoming a Lord, or Vyke, who was said to be the closest who ever got to becoming Elden Lord before he suddenly sought out the Frenzied Flame.',\n",
       " \"Elden Ring God, Demigods and Lords\\nQueen Marika\\nQueen Marika, the Eternal is a Numen chosen and brought from her homeland to the Lands Between by the Greater Will to be their vassal. As an Empyrean, she was gifted Maliketh as a Shadow and half-brother, whom she entrusted the Rune of Death to when the Golden Order was established. She had two consorts during her reign, the first being Godfrey. They had three children together, Godwyn the Golden, and the Omen twins, Morgott and Mohg.\\nTo spread the influence of the Golden Order, Marika and her followers, on behalf of the Greater Will, waged wars against several factions and gods in the lands between, the most notable ones being the Storm Lord, the fire giants and their god, the One-Eyed God, and the Academy of Raya Lucaria and the Carian royal family. While it is unclear which side instigated the war, there were also wars against the Dragons and the Godskin Apostles and their god, the Gloam-Eyed Queen.\\nThough the war against the Giants ended in their favor, Marika realized that she would be unable to extinguish the flame at the Forge of the Giants, the fabled 'flame of ruin' strong enough to burn the Erdtree, and thus cursed the final Fire Giant survivor to protect the forge for all eternity. When the last war was finally over, Marika took the the blessing of grace from Godfrey and his warriors, turning them into Tarnished, and exiled them from the Lands Between. It was then that she took Radagon to be her second consort, and had the twins Miquella and Malenia.\\nAt some point, Marika started to harbor doubts towards the Greater Will and the Golden Order. It is speculated that she had a hand in the Night of the Black Knives due to her rumored connection with the Black Knife Assassins. Marika's final act of rebellion against the Greater Will was the shattering of the Elden Ring, an act that caused her imprisonment within the Erdtree and the war between the demigods.\",\n",
       " \"Radagon of the Golden Order\\nRadagon, characterized by his flowing red locks, is Queen Marika's second chosen consort and a great warrior. His early life and how he came to be a prominent figure in the Golden Order remain a mystery. There is speculation that he may be a smaller-sized Fire Giant from the descriptions of the Sword of Milos and Giant's Red Braid. Another running theory is that he was cursed to have red hair by the Fire Giants as a result of the Golden Order's war with them. Either way, Radagon was said to have hated the red-tint of his hair.\\nIn the war against Liurnia of the Lakes and it's inhabitants, he was tasked by Marika to lead the Erdtree's armies. The sword monuments the Tarnished can find in Liurnia suggest that there were two Liurnian Wars, and that it was after the second war that Radagon and Rennala fell in love. Radagon sought absolution at the Church of Vows using Celestial Dew, and the two were bonded by marriage, uniting the Capital of Leyndell and Academy of Raya Lucaria. The Glintstone Kris is one of the symbols of the unity of the two factions.\\nAs is tradition, Rennala bestowed a Moon Greatsword onto Radagon, her spouse. They bore 3 children - General Radahn, Praetor Rykard, and Lunar Princess Ranni. However, much to Rennala's dismay, Radagon gifted her an Amber Egg and left her to join Marika's side when Godfrey and his fellow Tarnished were exiled from the Lands Between. They had the twin demigods, Miquella and Malenia, and he reforged his Moon Greatsword into the Golden Order Greatsword.  A speculated explanation for the requirement of both Faith and Intelligence in casting Golden Order Incantations is due to Radagon having learnt sorceries while Rennala's consort and incantations when consort to Queen Marika.\\nIt is revealed by a statue in the Royal Capital that Marika and Radagon are one and the same. It is unlcear whether they were always one, whether Radagon is a fragment of Marika, or as Melina's dialogue suggests, that they became one after becoming consorts. Despite being one and the same person, Marika and Radagon held different wills and when Marika shattered the Elden Ring, he used the same hammer she used to try to repair it.\",\n",
       " \"Godfrey/Hoarah Loux\\nThe first consort to Queen Marika and the first Elden Lord. They had 3 children together - Godwyn the Golden, and the Omen twins, Morgott and Mohg. Godfrey was originally know as Hoarah Loux, a fierce warrior with a strong bloodlust and the chieftain of the badlands. Upon being selected as Marika's first consort, he took Beast Regent Serosh upon his back to quell his insatiable bloodlust and be more befitting of a Lord.\\nWhen the Golden Order was established, he was tasked with leading several wars to further the influence of the Order, including one against the Giants, as well as the Storm Lord, who he faced alone. It also seemed that during his reign, gladitorial combat in colosseums all over the Lands Between were commonplace as rituals held to honor the Erdtree. This practice died out when Radagon became Marika's next consort.\\nAfter Godfrey won his last campaign and there were no worthy opponents left to battle with, Marika took away the Erdtree's blessing from him and countless others, turning them into Tarnished, whom he led out of the Lands Between in a journey referred to as the Long March. His axe was broken in a battle during this time and after the journey ended, he reverted back to becoming a simple warrior, though still carrying Serosh on his back.\\\\\",\n",
       " \"Rennala, Queen of the full moon\\nAs a young astrologer, Rennala would always gaze up at the stars. After a chance encounter with the Full Moon, she learnt of its magic and became one of the most powerful glintstone sorcerers. Her new mastery over lunar magic bewitched the Academy of Raya Lucaria, allowing her to become head of the academy and the Glintstone Knights, as well as establish the Carian family as royalty.\\nDuring the Second Liurnian War, where the Golden Order waged territorial war against the Academy, Rennala met and fought against one of the Erdtree's champions, Radagon, where they fell in love and reconciled at the Church of Vows. As is tradition, Rennala bestowed upon her consort a Moon Greatsword, which was later reforged into the Golden Order Greatsword. Their union bore three children, Lunar Princess Ranni, General Radahn, and Praetor Rykard. One night, Rennala took Ranni out stargazing as she did in her childhood. This is what led to Ranni meeting her own moon, the Dark Moon.\\nWhen Godfrey was exiled from the Lands Between and Radagon returned to Marika's side, Rennala was devastated and grew weak. Her charm over the Academy fell as well, and its scholars rebelled against the Carian royal family, with the Cuckoo Knights launching an attack against Caria Manor and Rennala ending up being locked up in the Grand Library, where the Tarnished finds her cradling the Amber Egg given to her by Radagon as a parting gift.\",\n",
       " \"Morgott, the omen king\\nMorgott is one of two Omen twins born of Queen Marika and Godfrey. The horns of an Omen were signifiers of the divine in the ages before the Erdtree, however after the establishment of the Golden Order, Omen were thought to be cursed beings without the guidance of grace. They had their horns cut off and were subject to slavery, but those born with royal blood were instead hidden from the world and shackled deep underneath Leyndell in the Subterranean Shunning-Grounds.\\nDespite being locked away and shunned, Morgott still loved the Order. During the Shattering, Leyndell was leaderless and defenseless. Knowing that Leyndell wouldn't accept an Omen as a leader, Morgott ruled the capital in the shadows as the Unveiled Monarch. During the Second Defense of Leyndell, he successfully defended the capital and the Erdtree from his fellow invading demigods. His dialogue suggests he attempted to claim the throne of the Elden Lord, but the Erdtree warded him off.\\nThe Tarnished will first encounter Morgott under the pseudonym, Margit, preventing them from challenging Godrick in Stormveil Castle and obtaining one of many Great Runes required to enter the capital.\",\n",
       " \"Mohg, Lord of Blood\\nSon of Queen Marika and her first consort, Godfrey. Unlike his twin brother who distanced himself from his Omen nature, Mohg fully embraced his accursed Omen blood and traits. Like his brother, he was shackled deep within the Subterranean Shunning-Grounds. While imprisoned underground, he encountered the Formless Mother, an outer god like the Greater Will. This encounter caused his accursed omen blood to ignite, and gave him the ability to cast bloodflame incantations. Mohg used his spear, Mohgwyn's Sacred Spear, to further communicate with the Formless Mother.\\nAt some point he managed to escape from the Subterranean Shunning-Grounds, and established the Mohgwyn Palace in a secluded part of the Siofra River. He recruited multiple people to become followers of the upcoming Mohgwyn Dynasty, offering deals to some, like Bloody Finger Okina, and kidnapping others, like the War Surgeons.\\nWhile he is not an Empyrean himself and thus unable to ascend to godhood, he hoped to claim the title of monarch by raising empyrean Miquella to full godhood and becoming his consort. Mohg stole the slumbering Miquella from inside the Haligtree and attempted to rouse him with his accursed blood. However, no matter how much blood he offered and how much he shared his bedchambers with the empyrean, Miquella never woke from his slumber.\",\n",
       " \"Rykard, lord of blasphemy\\nPraetor Rykard, Lord of the Volcano Manor and a ruthless justiciar. He is the son of Rennala and Radagon and like his siblings, became a demigod after Radagon's unity with Queen Marika. Rykard presides over Mt. Gelmir and was served by the Gelmir Knights. The lava sorceries the Tarnished can learn were created by Rykard, with some being old hexes from Mt. Gelmir that he turned into practical sorceries. At some point, Rykard met Tanith in a foreign land and brought her back to the Lands Between to be his consort.\\nRykard had a hand in the Night of the Black Knives, though to what extent is unclear. The Blasphemous Claw was an item rewarded by his sister Ranni allowing him to challenge Maliketh as a last resort. The description for the Taker's Cameo implies that Rykard believed that Marika and her Order ruled by force, and so he swore himself to blasphemy and sought to overthrow them, an ambition that drew many towards him.\\nThe ancient people of Mt. Gelmir worshipped a powerful serpent god that they would offer up sacrifices to. Rykard one day encountered the God-Devouring Serpent and offered himself and his Great Rune up as sacrifices to grant himself immortality, allowing him to grow and devour people and gods alike for all eternity. This fall into greed and glutinous depravity caused most of his followers to turn against him, with Tanith being a notable exception. Those who were once Gelmir Knights sought out the Serpent-Hunter, a great spear designed to hunt the immortal serpent, to put an end to their Lord. They found the mythical weapon, but were unsuccessful in defeating Rykard, as evident from the corpses holding the Serpent-Hunter in his boss room.\\nWhen the Tarnished visits the Volcano Manor, they can find it's members following Rykard's blasphemous path. It is later revealed that those who proved themselves as recusants were granted an audience with Rykard and became part of the family - that is by being devoured by the great serpent himself.\",\n",
       " 'Elden Ring factions\\nVolcano Manor Faction\\nThe Volcano Manor faction houses a group of Recusant Tarnished led by Praetor Rykard. Those in this faction seek to rebel against the Erdtree. Before being granted an audience with their Lord and becoming a part of the family, a newly recruited Tarnished must first invade their fellow Tarnished to prove their resolve.',\n",
       " \"Mohgwyn Dynasty Faction\\nA faction led by Mohg, Lord of Blood. Similar to the Volcano Manor, those in service to the Mohgwyn Dynasty faction invade other Tarnished and renounce the Greater Will. Bloodshed is the only motive for invasion in this faction. You'll find the beginnings of the dynasty in Mohgwyn Palace.\",\n",
       " \"Carian Royal Family Faction\\nThe remaining members of this faction are Rennala, Ranni, and their trusted advisors. Though they once held power over the Academy of Raya Lucaria, Rennala's grief over Radagon's departure caused her to weaken and the academy's scholars to rebel.\\nNow, serving the royal family means serving the last Carian princess, Ranni, in her mission to usurp the Two Fingers and Greater Will, and rebel against her fate as an Empyrean.\",\n",
       " 'Those Who Live In Death Faction\\nThose Who Live in Death refer to the numerous undead plaguing the Lands Between. Their very existence defies the tenets of the prevalent Golden Order and so they live in persecution. Those in this faction are empathetic towards Those Who Live in Death and join them in awaiting the rise of their Lord, the first of the dead demigods, Godwyn, Prince of Death.',\n",
       " \"Golden Order Faction\\nThe Golden Order Faction, established by Queen Marika when brought to the Lands Between by the Greater Will, is the most dominant faction in the land. The tenets of this Order govern the rules and status quo to be practiced by it's followers, many of who follow blindly. However, after the Shattering and the recent departure of the Greater Will from the Lands Between, a few of its members are starting to question the infallibility of the Order.\",\n",
       " 'Frenzied Flame Faction\\nA covert faction led by the Three Fingers. Similar to the Two Fingers, the Three Fingers are vassals for a different unknown Outer God. This outer god rejects the Greater Will and proclaims that all that is wrong with the Lands Between are due to their mistakes. Those in this faction await one who would take up the mantle of Lord of Chaos to burn the world down and melt all of its troubles away.',\n",
       " '']"
      ]
     },
     "execution_count": 13,
     "metadata": {},
     "output_type": "execute_result"
    }
   ],
   "source": [
    "paragraphs"
   ]
  },
  {
   "cell_type": "markdown",
   "metadata": {},
   "source": [
    "For each paragraph, extract the propositions then put it in a list of propositions"
   ]
  },
  {
   "cell_type": "code",
   "execution_count": 15,
   "metadata": {},
   "outputs": [
    {
     "name": "stdout",
     "output_type": "stream",
     "text": [
      "Lore in Elden Ring covers all the information related to the world and mythos of the game. From past events that occurred long ago, to the history of the Lands Between and the mystery of the elusive Elden Ring, all can be found here. Please note that this page contains heavy spoilers.\n"
     ]
    },
    {
     "name": "stderr",
     "output_type": "stream",
     "text": [
      "INFO:httpx:HTTP Request: POST https://api.openai.com/v1/chat/completions \"HTTP/1.1 200 OK\"\n",
      "/Users/user/miniconda3/envs/graphmaker/lib/python3.11/site-packages/pydantic/main.py:1087: PydanticDeprecatedSince20: The `dict` method is deprecated; use `model_dump` instead. Deprecated in Pydantic V2.0 to be removed in V3.0. See Pydantic V2 Migration Guide at https://errors.pydantic.dev/2.8/migration/\n",
      "  warnings.warn('The `dict` method is deprecated; use `model_dump` instead.', category=PydanticDeprecatedSince20)\n",
      "/Users/user/miniconda3/envs/graphmaker/lib/python3.11/site-packages/langchain_core/_api/deprecation.py:139: LangChainDeprecationWarning: The method `Chain.run` was deprecated in langchain 0.1.0 and will be removed in 0.3.0. Use invoke instead.\n",
      "  warn_deprecated(\n",
      "INFO:httpx:HTTP Request: POST https://api.openai.com/v1/chat/completions \"HTTP/1.1 200 OK\"\n"
     ]
    },
    {
     "name": "stdout",
     "output_type": "stream",
     "text": [
      "['Lore in Elden Ring covers all the information related to the world and mythos of the game.', 'The information covered by the lore includes past events that occurred long ago.', 'The information covered by the lore includes the history of the Lands Between.', 'The information covered by the lore includes the mystery of the elusive Elden Ring.', 'All information related to the world and mythos of Elden Ring can be found in this lore.', 'This page contains heavy spoilers.']\n"
     ]
    },
    {
     "name": "stderr",
     "output_type": "stream",
     "text": [
      "/Users/user/miniconda3/envs/graphmaker/lib/python3.11/site-packages/pydantic/main.py:1087: PydanticDeprecatedSince20: The `dict` method is deprecated; use `model_dump` instead. Deprecated in Pydantic V2.0 to be removed in V3.0. See Pydantic V2 Migration Guide at https://errors.pydantic.dev/2.8/migration/\n",
      "  warnings.warn('The `dict` method is deprecated; use `model_dump` instead.', category=PydanticDeprecatedSince20)\n"
     ]
    }
   ],
   "source": [
    "parag = paragraphs[0]\n",
    "propo = get_propositions(parag)\n"
   ]
  },
  {
   "cell_type": "code",
   "execution_count": 17,
   "metadata": {},
   "outputs": [
    {
     "data": {
      "text/plain": [
       "'Lore in Elden Ring covers all the information related to the world and mythos of the game. From past events that occurred long ago, to the history of the Lands Between and the mystery of the elusive Elden Ring, all can be found here. Please note that this page contains heavy spoilers.'"
      ]
     },
     "execution_count": 17,
     "metadata": {},
     "output_type": "execute_result"
    }
   ],
   "source": [
    "parag"
   ]
  },
  {
   "cell_type": "code",
   "execution_count": 16,
   "metadata": {},
   "outputs": [
    {
     "data": {
      "text/plain": [
       "['Lore in Elden Ring covers all the information related to the world and mythos of the game.',\n",
       " 'The information covered by the lore includes past events that occurred long ago.',\n",
       " 'The information covered by the lore includes the history of the Lands Between.',\n",
       " 'The information covered by the lore includes the mystery of the elusive Elden Ring.',\n",
       " 'All information related to the world and mythos of Elden Ring can be found in this lore.',\n",
       " 'This page contains heavy spoilers.']"
      ]
     },
     "execution_count": 16,
     "metadata": {},
     "output_type": "execute_result"
    }
   ],
   "source": [
    "propo"
   ]
  },
  {
   "cell_type": "code",
   "execution_count": 18,
   "metadata": {},
   "outputs": [
    {
     "name": "stdout",
     "output_type": "stream",
     "text": [
      "- The Mythos of Elden Ring was written by George R. R. Martin. Mythos refers to the overall narrative theme or plot structure. It can also be interpreted as a belief system.\n",
      "- The Story of Elden Ring was written by Hidetaka Miyazaki and his team at FromSoftware\n",
      "- The Lore and Story of Elden Ring are told in a similar manner to other FromSofware \"Souls\" games, so players should expect to find plenty left to interpretation as well as seemingly contradictory statements about various game characters, elements, and concepts.\n"
     ]
    }
   ],
   "source": [
    "parag1 = paragraphs[1]\n",
    "print(parag1)"
   ]
  },
  {
   "cell_type": "code",
   "execution_count": 21,
   "metadata": {},
   "outputs": [
    {
     "name": "stderr",
     "output_type": "stream",
     "text": [
      "INFO:httpx:HTTP Request: POST https://api.openai.com/v1/chat/completions \"HTTP/1.1 200 OK\"\n",
      "/Users/user/miniconda3/envs/graphmaker/lib/python3.11/site-packages/pydantic/main.py:1087: PydanticDeprecatedSince20: The `dict` method is deprecated; use `model_dump` instead. Deprecated in Pydantic V2.0 to be removed in V3.0. See Pydantic V2 Migration Guide at https://errors.pydantic.dev/2.8/migration/\n",
      "  warnings.warn('The `dict` method is deprecated; use `model_dump` instead.', category=PydanticDeprecatedSince20)\n",
      "INFO:httpx:HTTP Request: POST https://api.openai.com/v1/chat/completions \"HTTP/1.1 200 OK\"\n",
      "/Users/user/miniconda3/envs/graphmaker/lib/python3.11/site-packages/pydantic/main.py:1087: PydanticDeprecatedSince20: The `dict` method is deprecated; use `model_dump` instead. Deprecated in Pydantic V2.0 to be removed in V3.0. See Pydantic V2 Migration Guide at https://errors.pydantic.dev/2.8/migration/\n",
      "  warnings.warn('The `dict` method is deprecated; use `model_dump` instead.', category=PydanticDeprecatedSince20)\n"
     ]
    }
   ],
   "source": [
    "propo1 = get_propositions(parag1)"
   ]
  },
  {
   "cell_type": "code",
   "execution_count": 22,
   "metadata": {},
   "outputs": [
    {
     "data": {
      "text/plain": [
       "['The Mythos of Elden Ring was written by George R. R. Martin.']"
      ]
     },
     "execution_count": 22,
     "metadata": {},
     "output_type": "execute_result"
    }
   ],
   "source": [
    "propo1"
   ]
  },
  {
   "cell_type": "code",
   "execution_count": 23,
   "metadata": {},
   "outputs": [
    {
     "name": "stderr",
     "output_type": "stream",
     "text": [
      "INFO:httpx:HTTP Request: POST https://api.openai.com/v1/chat/completions \"HTTP/1.1 200 OK\"\n",
      "/Users/user/miniconda3/envs/graphmaker/lib/python3.11/site-packages/pydantic/main.py:1087: PydanticDeprecatedSince20: The `dict` method is deprecated; use `model_dump` instead. Deprecated in Pydantic V2.0 to be removed in V3.0. See Pydantic V2 Migration Guide at https://errors.pydantic.dev/2.8/migration/\n",
      "  warnings.warn('The `dict` method is deprecated; use `model_dump` instead.', category=PydanticDeprecatedSince20)\n",
      "INFO:httpx:HTTP Request: POST https://api.openai.com/v1/chat/completions \"HTTP/1.1 200 OK\"\n",
      "/Users/user/miniconda3/envs/graphmaker/lib/python3.11/site-packages/pydantic/main.py:1087: PydanticDeprecatedSince20: The `dict` method is deprecated; use `model_dump` instead. Deprecated in Pydantic V2.0 to be removed in V3.0. See Pydantic V2 Migration Guide at https://errors.pydantic.dev/2.8/migration/\n",
      "  warnings.warn('The `dict` method is deprecated; use `model_dump` instead.', category=PydanticDeprecatedSince20)\n"
     ]
    }
   ],
   "source": [
    "parag2 = 'The Mythos of Elden Ring was written by George R. R. Martin. Mythos refers to the overall narrative theme or plot structure. It can also be interpreted as a belief system. The Story of Elden Ring was written by Hidetaka Miyazaki and his team at FromSoftware. The Lore and Story of Elden Ring are told in a similar manner to other FromSofware \"Souls\" games, so players should expect to find plenty left to interpretation as well as seemingly contradictory statements about various game characters, elements, and concepts'\n",
    "\n",
    "propo2 = get_propositions(parag2)"
   ]
  },
  {
   "cell_type": "code",
   "execution_count": 24,
   "metadata": {},
   "outputs": [
    {
     "data": {
      "text/plain": [
       "['The Mythos of Elden Ring was written by George R. R. Martin.']"
      ]
     },
     "execution_count": 24,
     "metadata": {},
     "output_type": "execute_result"
    }
   ],
   "source": [
    "propo2"
   ]
  },
  {
   "cell_type": "code",
   "execution_count": 25,
   "metadata": {},
   "outputs": [
    {
     "name": "stderr",
     "output_type": "stream",
     "text": [
      "INFO:httpx:HTTP Request: POST https://api.openai.com/v1/chat/completions \"HTTP/1.1 200 OK\"\n",
      "/Users/user/miniconda3/envs/graphmaker/lib/python3.11/site-packages/pydantic/main.py:1087: PydanticDeprecatedSince20: The `dict` method is deprecated; use `model_dump` instead. Deprecated in Pydantic V2.0 to be removed in V3.0. See Pydantic V2 Migration Guide at https://errors.pydantic.dev/2.8/migration/\n",
      "  warnings.warn('The `dict` method is deprecated; use `model_dump` instead.', category=PydanticDeprecatedSince20)\n",
      "INFO:httpx:HTTP Request: POST https://api.openai.com/v1/chat/completions \"HTTP/1.1 200 OK\"\n",
      "/Users/user/miniconda3/envs/graphmaker/lib/python3.11/site-packages/pydantic/main.py:1087: PydanticDeprecatedSince20: The `dict` method is deprecated; use `model_dump` instead. Deprecated in Pydantic V2.0 to be removed in V3.0. See Pydantic V2 Migration Guide at https://errors.pydantic.dev/2.8/migration/\n",
      "  warnings.warn('The `dict` method is deprecated; use `model_dump` instead.', category=PydanticDeprecatedSince20)\n"
     ]
    }
   ],
   "source": [
    "parag2 = paragraphs[2]\n",
    "prop2 = get_propositions(parag2)"
   ]
  },
  {
   "cell_type": "code",
   "execution_count": 29,
   "metadata": {},
   "outputs": [
    {
     "data": {
      "text/plain": [
       "'The storyteller folds her slender hands - both pairs - and speaks. “It happened an age ago. But when I recall, I see it true.” So begins the tale of the Shattering, a devastating war between the children of Marika, Demigods of the Lands Between. One grim night in the depths of winter, a flock of unknown assassins stole across the Lands Between.\\nIn a coetaneous attack, this foul covenant snuffed out the lives of many of the God-Queen’s kin throughout the empire, too numerous and too scattered for her godly protection to save. The assassins’ targets were multifold, but none was as devastating a loss to the Eternal Queen as that of Godwyn the Golden. After his death, the Elden Ring was somehow shattered, and the order of the world broke with it.\\nOut of this chaos came war. Open, bitter war, pitting blood against blood and kin against kin. The conflict broke a vast and prosperous empire into brittle fragments. No single side could find enough purchase to maintain a decisive victory, even when fueled by the power of a Great Rune.\\nThe battle of General Radahn against Malenia the Severed illustrated that neither strength nor skill alone would be enough to take control of the entirety of the lands Marika had united. And so, the Lands Between are no longer gripped by open war, but caught in an uneasy stalemate that seems impossible to resolve. “Unless of course,” the storyteller says, a coy smile on both her lips, “thou shouldst take the crown?”\\nTake a deeper dive into the carefully crafted mythology of George R.R. Martin – author of The New York Times best-selling fantasy series, A Song of Ice and Fire – and the world created by FromSoftware based on his work in this new trailer available here.\\nTransported to ages long ago, you will relive the Shattering, a war that brought darkness to the Lands Between, initiated by demigods’ hunger for power. You’ll fight alongside General Radahn and Malenia the Severed, but even these two undefeatable warriors couldn’t reunite a world so badly broken. There is only one hope left: the hope that a new Elden Lord will rise and lift the veil of shadows that has fallen over Marika’s domain.\\nThe wait is almost over. Soon you’ll venture into the Lands Between and strive to become its Elden Lord. Stand ready, Tarnished, and prepare to claim what fate has promised you.'"
      ]
     },
     "execution_count": 29,
     "metadata": {},
     "output_type": "execute_result"
    }
   ],
   "source": [
    "paragraphs[3]"
   ]
  },
  {
   "cell_type": "code",
   "execution_count": 26,
   "metadata": {},
   "outputs": [
    {
     "name": "stdout",
     "output_type": "stream",
     "text": [
      "Elden Ring Lore Overview\n",
      "['Elden Ring is a video game.', 'Elden Ring has a lore overview.']\n"
     ]
    }
   ],
   "source": [
    "print(parag2)\n",
    "print(prop2)"
   ]
  },
  {
   "cell_type": "code",
   "execution_count": null,
   "metadata": {},
   "outputs": [],
   "source": [
    "proposition_list = []\n",
    "\n",
    "for para in paragraphs:\n",
    "    propositions = get_propositions(para)\n",
    "    \n",
    "    proposition_list.extend(propositions)\n",
    "    # print (f\"Done with {i}\")"
   ]
  },
  {
   "cell_type": "markdown",
   "metadata": {},
   "source": [
    "Let's take a look at what the propositions look like"
   ]
  },
  {
   "cell_type": "code",
   "execution_count": 15,
   "metadata": {},
   "outputs": [
    {
     "name": "stdout",
     "output_type": "stream",
     "text": [
      "You have 583 propositions\n"
     ]
    },
    {
     "data": {
      "text/plain": [
       "['Lore in Elden Ring covers all the information related to the world of Elden Ring.',\n",
       " 'Lore in Elden Ring covers all the information related to the mythos of Elden Ring.',\n",
       " 'Lore in Elden Ring includes past events that occurred long ago.',\n",
       " 'Lore in Elden Ring includes the history of the Lands Between.',\n",
       " 'Lore in Elden Ring includes the mystery of the elusive Elden Ring.',\n",
       " 'All information related to the world and mythos of Elden Ring can be found on this page.',\n",
       " 'This page contains heavy spoilers.',\n",
       " 'The Mythos of Elden Ring was written by George R. R. Martin.',\n",
       " 'The Shattering is a devastating war between the children of Marika.',\n",
       " 'The children of Marika are Demigods of the Lands Between.',\n",
       " \"After Godwyn the Golden's death, the Elden Ring was somehow shattered.\",\n",
       " 'The power of a Great Rune fueled the conflict.',\n",
       " 'The battle of General Radahn against Malenia the Severed illustrated that neither strength nor skill alone would be enough to take control of the entirety of the lands Marika had united.',\n",
       " 'The Shattering was initiated by the demigods’ hunger for power.',\n",
       " 'The Lands Between is the world of Elden Ring.',\n",
       " 'Those who live in The Lands Between were blessed by Grace through the Elden Ring.',\n",
       " 'Those who live in The Lands Between were blessed by Grace through the Erdtree.',\n",
       " 'Those who were blessed by the Elden Ring are characterized by having a golden aura that can be seen in their eyes.',\n",
       " 'At some point, some of those who were blessed lost their grace.',\n",
       " 'Those who lost their grace were exiled and labeled the Tarnished.',\n",
       " 'At some point in time, the Elden Ring was shattered.',\n",
       " 'The shards of the Elden Ring were scattered across the Lands Between.',\n",
       " 'The largest pieces of the Elden Ring were called Great Runes.',\n",
       " 'The Great Runes were claimed by the six Demigod children of Queen Marika the Eternal.',\n",
       " 'The six Demigod children of Queen Marika the Eternal inherited different powers.',\n",
       " 'The six Demigod children of Queen Marika the Eternal were physically changed and twisted due to being corrupted by the power of the Great Runes.',\n",
       " 'The Lands Between is divided into seven distinct areas.',\n",
       " 'Limgrave is an area.',\n",
       " 'Elden Ring is a video game.',\n",
       " 'Hidetaka Miyazaki is a game director.',\n",
       " 'Melina is one of the first people the Tarnished encounters on their journey.',\n",
       " 'Melina maintains an air of mystery throughout the game.',\n",
       " 'Melina does not have a physical form.',\n",
       " \"Melina acts as the Tarnished's Finger Maiden in exchange for taking Melina to the Erdtree.\",\n",
       " 'Later on, Melina asks the Tarnished to take her to the Mountaintops of the Giants.',\n",
       " 'Melina approaches the Tarnished to aid her in her search for her purpose.',\n",
       " 'Melina believes that her purpose was given to her by her mother.',\n",
       " 'Melina believes that her mother can be found at the base of the Erdtree.',\n",
       " \"Many people speculate that Melina's mother is Marika.\",\n",
       " 'When summoned, Melina wields the Blade of Calling.',\n",
       " 'The Blade of Calling is a dagger that was previously owned by the kindling maiden.',\n",
       " \"Melina's role as kindling is fitting when the Erdtree is burnt down.\",\n",
       " \"Speaking with Melina at various Sites of Grace reveals her ability to recall echoes of Queen Marika's past actions and words.\",\n",
       " \"Melina offers echoes of Queen Marika's past actions and words in lieu of a 'maiden's guidance'.\",\n",
       " 'Melina holds contempt for the Frenzied Flame.',\n",
       " 'Melina believes that whoever lords over the chaos and damage brought by the Frenzied Flame is no Lord at all.',\n",
       " 'If the Tarnished takes the Frenzied Flame before the event at the Forge of the Giants, Melina will leave the Tarnished.',\n",
       " 'Melina will threaten to deliver the Tarnished Destined Death once they become Lord of the Frenzied Flame.',\n",
       " 'The White Masks encountered in Mohgwyn Palace were initially abducted by Mogh.',\n",
       " 'Mogh was the Lord of Blood.',\n",
       " 'The White Masks were turned into Bloody Fingers through an unknown ritual.',\n",
       " \"The unknown ritual involved Mogh's accursed Omen blood.\",\n",
       " 'Of the four White Masks encountered in the game, Varre was able to withstand and tame the accursed blood.',\n",
       " 'Varre remains loyal to the Mohgwyn Dynasty despite being abducted by the Lord of Blood.',\n",
       " 'Varre tries to indoctrinate the Tarnished into the Mohgwyn Dynasty.',\n",
       " 'Varre calls out to Mohg at the end of his questline.',\n",
       " 'Varre blesses the Mohgwyn Dynasty even as he is dying.',\n",
       " 'Varre was forsaken by his Lord.',\n",
       " 'Yura is a samurai from the Land of Reeds.',\n",
       " \"Yura's purpose is to hunt down Bloody Fingers.\",\n",
       " \"Yura's biggest target is Eleonora.\",\n",
       " 'Yura warns the Tarnished against the dangers of Dragon Communion.',\n",
       " 'Yura states that those who partake in Dragon Communion one day lose their humanity.',\n",
       " 'Other Bloody Fingers that the Tarnished encounter are targets of Yura.',\n",
       " 'Sorcerer Rogier is a Tarnished.',\n",
       " 'Sorcerer Rogier has an easy-going nature.',\n",
       " 'Sorcerer Rogier is said to be a wise and powerful sorcerer by his old travelling companion, D.',\n",
       " 'Sorcerer Rogier was once a scholar.',\n",
       " 'Sorcerer Rogier was seeking the truth behind the Night of the Black Knives.',\n",
       " \"Sorcerer Rogier's scholarly pursuits eventually brought him under Stormveil Castle.\",\n",
       " 'Sorcerer Rogier found and disturbed a corpse under Stormveil Castle.',\n",
       " 'Disturbing the corpse caused Sorcerer Rogier to be afflicted with Death.',\n",
       " 'D sees Those Who Live in Death as a threat against the Golden Order.',\n",
       " 'Sorcerer Rogier is empathetic towards Those Who Live in Death.',\n",
       " 'Sorcerer Rogier believes Those Who Live in Death have committed no offence.',\n",
       " \"By finishing Sorcerer Rogier's quest, the Tarnished is able to help Sorcerer Rogier reveal many insights about the night of the assassination.\",\n",
       " 'Sorcerer Rogier finally succumbs to his affliction.',\n",
       " 'Fia is a Tarnished Deathbed Companion.',\n",
       " 'Fia was driven from her home when awoken by the guidance of grace.',\n",
       " 'Fia describes a Deathbed Companion as a person who receives warmth and life from numerous champions.',\n",
       " 'A Deathbed Companion lays with the remains of an exalted noble to revive them.',\n",
       " \"The act of laying with the remains of an exalted noble is revered in Fia's homeland.\",\n",
       " 'Fia is empathetic towards Those Who Live in Death.',\n",
       " 'Fia has put it upon herself to be the guardian of Those Who Live in Death.',\n",
       " \"Before meeting Fia at Deeproot Depths, the Tarnished will encounter Fia's champions.\",\n",
       " \"One of Fia's champions is Rogier.\",\n",
       " \"Another of Fia's champions is Lionel the Lionhearted.\",\n",
       " 'Lionel the Lionhearted is a knight Fia met on her journey to the Lands Between.',\n",
       " \"Lionel the Lionhearted declared himself to be Fia's father.\",\n",
       " \"Fia implies that bringing together Ranni's half of the Cursemark of Death from the Divine Tower of Liurnia and Godwyn's half from D is significant.\",\n",
       " \"Fia implies that being Godwyn's Deathbed Companion will result in Godwyn being reborn as a rune.\",\n",
       " 'The rune representing Those Who Live in Death is called the Mending Rune of the Death-Prince.',\n",
       " 'D is a devout follower of the Golden Order.',\n",
       " 'D hunts Those Who Live in Death.',\n",
       " 'D notably hunts Tibia Mariners for their Deathroot.',\n",
       " 'D has a twin brother.',\n",
       " \"D's twin brother's name is suggested to be Darian.\",\n",
       " 'D and Darian have separate bodies and separate minds.',\n",
       " 'D and Darian share the same soul.',\n",
       " 'One twin cannot be conscious when the other is conscious.',\n",
       " 'Other Orders would have seen D and Darian as cursed beings.',\n",
       " 'The two twins found comfort in the Golden Order.',\n",
       " 'The Golden Order is the one Order that does not see D and Darian as cursed beings.',\n",
       " 'D states that Those Who Live in Death go against the principles of the Golden Order.',\n",
       " 'D states that Those Who Live in Death must be exterminated.',\n",
       " 'D is known as the Beholder of Death.',\n",
       " 'D has a twin brother.',\n",
       " \"The name of D's twin brother is inferred to be Devin from D's voicelines.\",\n",
       " 'Devin can be found slumbering in the Siofra Aqueduct while D is alive.',\n",
       " 'Devin can be found grieving in the Siofra Aqueduct when D is dead.',\n",
       " 'Devin is unable to talk and interact with D.',\n",
       " 'Despite not being able to talk and interact, D and Devin seem to be close.',\n",
       " \"Devin swears revenge against D's killer.\",\n",
       " \"D's killer may be Fia or the Tarnished.\",\n",
       " \"Devin swears revenge when given D's armor set.\",\n",
       " 'Gurranq is a large beastman who hungers for Deathroot.',\n",
       " 'Roderika is a Tarnished who was driven away from her home across the sea.',\n",
       " 'The cloak that Roderika wears implies that Roderika used to be a member of royalty.',\n",
       " 'At some point upon arriving at the Lands Between, Roderika happened upon White Mask Varre.',\n",
       " 'White Mask Varre gave Roderika the same advice as he gives the Tarnished at the beginning of their journey.',\n",
       " 'White Mask Varre advised Roderika to seek Godrick and his Great Rune at Stormveil Castle.',\n",
       " 'Upon arriving at Stormhill, the men escorting Roderika were taken and sacrificed for grafting.',\n",
       " 'Roderika feels guilt about the fact that she is too afraid to join the men who were sacrificed.',\n",
       " \"Roderika moves to the Roundtable Hold to find purpose after receiving the hopeful echoes of her men through the Chrysalids' Memento.\",\n",
       " \"Smithing Master Hewg recognises Roderika's potential for spirit tuning through Roderika's eyes.\",\n",
       " 'With a bit of encouragement from the Tarnished, Smithing Master Hewg trains Roderika to be a skillful spirit tuner.',\n",
       " 'Roderika and Smithing Master Hewg become close.',\n",
       " 'Even as the Roundtable Hold is burning down, Roderika stays behind with Smithing Master Hewg to repay his kindness.',\n",
       " 'Smithing Master Hewg is a misbegotten chained and imprisoned at the Roundtable Hold.',\n",
       " 'Smithing Master Hewg is tasked by Queen Marika to smith a weapon strong enough to kill a god.',\n",
       " 'Smithing Master Hewg makes the task of smithing a weapon strong enough to kill a god his life goal.',\n",
       " 'Smithing Master Hewg strongly believes that the Tarnished will be the one to become Elden Lord.',\n",
       " 'Smithing Master Hewg will say that the Tarnished will be the one to become Elden Lord before he completely loses his memory.',\n",
       " 'Nepheli Loux is the adoptive daughter of Sir Gideon Ofnir.',\n",
       " 'Sir Gideon Ofnir took Nepheli Loux in when Nepheli Loux lost the guidance of grace.',\n",
       " 'Nepheli Loux became a Tarnished.',\n",
       " 'Nepheli Loux is a skilled warrior.',\n",
       " 'Nepheli Loux believes in standing up and enacting justice for the weak and oppressed.',\n",
       " 'Nepheli Loux once believed that Sir Gideon Ofnir held the same beliefs.',\n",
       " 'Nepheli Loux learned that Sir Gideon Ofnir was the mastermind behind the attack on the Village of the Albinaurics.',\n",
       " 'After learning this information, Nepheli Loux loses faith in Sir Gideon Ofnir.',\n",
       " 'It is speculated that Nepheli Loux has ties with the first Elden Lord, Godfrey.',\n",
       " 'Nepheli Loux has ties with the Golden Lineage.',\n",
       " 'Nepheli Loux bears the same last name as Hoarah Loux.',\n",
       " 'Kenneth Haight deems Nepheli Loux worthy of taking up the mantle of leader of Limgrave.',\n",
       " 'Kenneth Haight is a member of the Erdtree royalty.',\n",
       " 'Kenneth Haight is a self-proclaimed rightful leader of Limgrave.',\n",
       " 'Kenneth Haight is the owner of Fort Haight.',\n",
       " 'Kenneth Haight looks down on Godrick.',\n",
       " 'Kenneth Haight deems Godrick unworthy of ruling Limgrave.',\n",
       " \"Kenneth Haight believes Godrick's actions during the Shattering were cowardly.\",\n",
       " 'Kenneth Haight believes Godrick does not possess the proper lineage required to rule.',\n",
       " \"Kenneth Haight took back Fort Haight from Godrick's forces.\",\n",
       " 'Kenneth Haight saw the state Fort Haight was left in after taking it back.',\n",
       " 'Kenneth Haight laments that he does not have the authority to rule Limgrave.',\n",
       " 'Kenneth Haight goes on to look for an eligible candidate to rule Limgrave.',\n",
       " 'Kenneth Haight finally comes across Nepheli Loux.',\n",
       " 'Gostoc is the Gatekeeper of Stormveil Castle.',\n",
       " 'Gostoc informs the Tarnished of a safer side passage to allow the Tarnished to enter Stormveil Castle undetected.',\n",
       " 'Gostoc can be caught sneaking and following the Tarnished around in Stormveil Castle.',\n",
       " 'Each time the Tarnished are defeated, Gostoc steals a portion of the Golden Runes that the Tarnished drop.',\n",
       " 'Gostoc seems to do this with each Tarnished that comes to Stormveil Castle to challenge the shardbearer.',\n",
       " 'Gostoc holds contempt for Godrick, the master of Stormveil Castle.',\n",
       " 'Godrick has mistreated and looked down upon Gostoc.',\n",
       " \"Much of Gostoc's dialogue reveals that Gostoc longs for freedom from Godrick and his duties.\",\n",
       " 'When Nepheli takes the throne, Gostoc is happy to return to his duties.',\n",
       " 'Boc is a seamster.',\n",
       " 'Boc is a demi-human outcast.',\n",
       " 'Boc is often picked on for his looks.',\n",
       " 'Boc looks up to his late mother.',\n",
       " \"Boc's late mother was a skilled seamstress.\",\n",
       " \"Boc's late mother was one of the few people who cared for Boc.\",\n",
       " 'Boc was kicked out of his former home in the Costal Cave.',\n",
       " \"Other demi-humans stole Boc's possessions.\",\n",
       " 'The Tarnished helps Boc take back his prized Sewing Needle.',\n",
       " 'The Tarnished helps Boc take back his Tailoring Tools.',\n",
       " 'Boc offers to tailor the armor of the Tarnished as compensation.',\n",
       " 'Throughout his interactions with the Tarnished, Boc expresses unhappiness towards his looks.',\n",
       " 'The Tarnished can grant Boc a Larval Tear to help change his appearance.',\n",
       " 'The Tarnished can let Boc know he is accepted.',\n",
       " 'Both outcomes, granting a Larval Tear or letting Boc know he is accepted, result in Boc being grateful.',\n",
       " 'Brother Corhyn is a cleric of the Golden Order.',\n",
       " \"Brother Corhyn's armor implies that he once foretold an inauspicious prophecy.\",\n",
       " 'Throughout his questline, Brother Corhyn shows high and unwavering faith in the Golden Order.',\n",
       " 'Brother Corhyn is greatly interested in discovering the secrets of the Golden Order.',\n",
       " 'Brother Corhyn leaves the Roundtable in search of Goldmask.',\n",
       " \"After introducing Brother Corhyn to Goldmask, Brother Corhyn acts as Goldmask's scribe.\",\n",
       " \"Brother Corhyn translates and records Goldmask's various finger movements into written records.\",\n",
       " 'Brother Corhyn holds Goldmask in high regard.',\n",
       " \"After learning of Goldmask's reservations towards the Golden Order, Brother Corhyn begins to question Goldmask's intentions.\",\n",
       " 'Goldmask is a famed scholar of Golden Order fundamentalism.',\n",
       " 'Goldmask is one of many Tarnished called back to the Lands Between after the Shattering.',\n",
       " 'Goldmask does not speak.',\n",
       " 'Goldmask communicates through rhythmic hand and finger movements.',\n",
       " 'Goldmask once lamented that hunters of Those Who Live in Death had been reduced to fanatics of the Golden Order.',\n",
       " 'Goldmask lamented that hunters of Those Who Live in Death hunted simply for the sake of having an evil to fight against.',\n",
       " 'The Tarnished aids Goldmask in better understanding the Golden Order throughout his questline.',\n",
       " 'The Tarnished aids Goldmask in understanding the nature of Radagon.',\n",
       " 'Goldmask aims to correct the imperfections that lie within the Golden Order.',\n",
       " 'Goldmask concluded that the imperfections found within the Golden Order were due to the very gods being just as fickle as ordinary men.',\n",
       " 'Goldmask used the Mending Rune of Perfect Order to reach his conclusion.',\n",
       " 'Gowry is a Kindred of Rot disguised as an old sage.',\n",
       " \"Gowry served as Millicent's caretaker during her childhood.\",\n",
       " \"It is uncertain what or where Gowry's real form is.\",\n",
       " 'Gowry returns to his shack as he was before most times after being attacked.',\n",
       " \"After Malenia's Scarlet Aeonia bloomed in Caelid during the Shattering, Gowry dedicated his services to Malenia.\",\n",
       " 'Gowry believes that Malenia will bring about a new order called the Order of Rot.',\n",
       " 'In the swamp of Aeonia, Gowry found Millicent and her sisters as babies.',\n",
       " 'Gowry proceeded to raise Millicent and her sisters.',\n",
       " 'Gowry hopes that when Malenia ascends to be the Goddess of Rot, Millicent and her sisters will be reborn as scarlet valkyries.',\n",
       " \"Of all the sisters, Gowry saw the most potential in Millicent to follow in Malenia's footsteps.\",\n",
       " \"At the end of Millicent's quest, Gowry asks the Tarnished to aid Millicent's sisters in attacking Millicent.\",\n",
       " \"Gowry believes that the betrayal Millicent feels from the person she trusted the most will act as a catalyst for her to 'bloom'.\",\n",
       " 'Millicent is a daughter of Malenia.',\n",
       " 'Millicent shares many striking similarities with Malenia.',\n",
       " 'Millicent has bright red hair.',\n",
       " 'Millicent is missing an arm due to her severe scarlet rot affliction.',\n",
       " \"Millicent possesses skilled swordsmanship that resembles Malenia's style.\",\n",
       " \"Millicent feels a sense of familiarity within Gowry's Shack due to the scarlet rot.\",\n",
       " 'Millicent does not remember her childhood with Gowry.',\n",
       " 'Millicent is cured using the Unalloyed Golden Needle.',\n",
       " 'Millicent sets out on a journey to seek Malenia.',\n",
       " 'Millicent hopes to aid Malenia in resisting the call of the scarlet rot.',\n",
       " 'Millicent is ambushed by her sisters at Elphael before she is able to reach the Empyrean.',\n",
       " 'Millicent may be ambushed by the Tarnished if they choose to do so.',\n",
       " \"If the Tarnished defends Millicent instead, Millicent reveals that she is aware of Gowry's hopes for her.\",\n",
       " 'Millicent removes the golden needle.',\n",
       " 'Millicent succumbs to the scarlet rot.',\n",
       " 'Millicent does not want to live as someone other than herself.',\n",
       " 'Irina is the blind daughter of Edgar.',\n",
       " 'Irina escaped Castle Morne with the help of her father and some attendants at the castle.',\n",
       " 'Irina cares much for her father.',\n",
       " 'Irina implores the Tarnished to deliver a letter to her father.',\n",
       " \"Irina's reunion with her father unfortunately never happens.\",\n",
       " 'Irina gets murdered.',\n",
       " \"A large sword is left by Irina's corpse.\",\n",
       " 'Edgar is the Commander of Castle Morne.',\n",
       " 'Edgar was ordained by Godrick.',\n",
       " 'Edgar has a high sense of duty.',\n",
       " \"Edgar stays behind to protect the castle's prized sword, the Grafted Blade Greatsword.\",\n",
       " \"The rest of the castle's attendants had fled from the Misbegotten rebellion.\",\n",
       " 'Edgar expresses regret over not protecting Irina after finding her body.',\n",
       " \"Edgar swears vengeance towards Irina's killers.\",\n",
       " 'Edgar can later be found at Revengers Shack as an invader.',\n",
       " 'Edgar drops the Shabriri Grape.',\n",
       " \"It is speculated that Edgar succumbed to madness from Irina's death.\",\n",
       " 'Hyetta is a blind young woman.',\n",
       " 'Hyetta resembles Irina.',\n",
       " 'Despite being blind, Hyetta is able to perceive some form of light every time Hyetta consumes a Shabriri Grape.',\n",
       " 'At first, Hyetta is disgusted by the fact that Shabriri Grapes are human eyes.',\n",
       " 'Hyetta quickly comes to terms with the fact that Shabriri Grapes are human eyes.',\n",
       " 'Hyetta affirms that consuming Shabriri Grapes is required for Hyetta to become a finger maiden.',\n",
       " 'It seems that the Tarnished is not the only person bringing Hyetta Shabriri Grapes.',\n",
       " 'Hyetta mentions that other beings with trembling hands and emaciated fingers have given Hyetta the Shabriri Grapes before.',\n",
       " \"Successfully completing the Tarnished's quest and aiding Hyetta in becoming a Finger Maiden gives the Tarnished more information on the Three Fingers.\",\n",
       " \"Successfully completing the Tarnished's quest and aiding Hyetta in becoming a Finger Maiden gives the Tarnished more information on the Frenzied Flame.\",\n",
       " 'Shabriri is a mysterious figure who refers to himself as chaos incarnate.',\n",
       " \"Shabriri inhabits Yura's body.\",\n",
       " 'Shabriri claims that Yura willingly gave his body away.',\n",
       " 'The Tarnished meets Shabriri at the Mountaintops of the Giants.',\n",
       " 'Shabriri tries to persuade the Tarnished into becoming the Lord of Frenzied Flame.',\n",
       " 'Shabriri gives the Tarnished information on the Frenzied Flame Proscription.',\n",
       " 'Shabriri was also the name of a man who previously had his eyes gouged out as punishment for the crime of slander.',\n",
       " \"In time, Shabriri's eyes were filled with the flame of frenzy.\",\n",
       " 'According to the Howl of Shabriri, this was the first instance of the maddening sickness of frenzy in the Lands Between.',\n",
       " 'Ranni the Witch is the daughter of Rennala and Radagon.',\n",
       " 'Ranni the Witch took after her mother.',\n",
       " \"Ranni the Witch discovered her own full moon called Ranni's Dark Moon.\",\n",
       " 'Ranni the Witch learnt cold sorceries from the mysterious Snow Witch.',\n",
       " 'The mysterious Snow Witch was encountered by Ranni the Witch deep in the woods.',\n",
       " 'Ranni the Witch has held Blaidd dearly since childhood.',\n",
       " 'Ranni the Witch has held Iji dearly since childhood.',\n",
       " 'At some point, Ranni the Witch defeated the Glinstone Dragon called Adula.',\n",
       " 'Adula swore allegiance to Ranni the Witch after being defeated.',\n",
       " 'Ranni the Witch was not born a demigod.',\n",
       " \"Radagon's unity with Marika made Ranni the Witch eligible to be an Empyrean.\",\n",
       " 'Ranni the Witch did not want to be controlled by the Two Fingers.',\n",
       " 'Ranni the Witch rejected her fate.',\n",
       " 'Ranni the Witch masterminded the Night of the Black Knives as an act of rebellion.',\n",
       " 'Ranni the Witch stole the Rune of Death during the Night of the Black Knives.',\n",
       " 'Ranni the Witch imbued the power of the Rune of Death in the knives of the Black Knife Assassins.',\n",
       " \"On the night of the assassination, Ranni the Witch's body died.\",\n",
       " \"Ranni the Witch's soul was transferred into a doll.\",\n",
       " \"The doll resembles Ranni the Witch's old master, Renna.\",\n",
       " 'Renna was the Snow Witch.',\n",
       " 'Blaidd is the half-wolven Shadow of Ranni.',\n",
       " 'Blaidd was granted to Ranni by the Two Fingers when Ranni became an Empyrean.',\n",
       " 'Blaidd is an agent of the Two Fingers.',\n",
       " \"Blaidd's loyalties lie only with Ranni.\",\n",
       " 'Blaidd considers Ranni as family.',\n",
       " 'The sword that Blaidd carries is the Royal Greatsword.',\n",
       " \"The Royal Greatsword was imbued with cold magic as proof of Blaidd's loyalty.\",\n",
       " 'If an Empyrean were to go against the will of the Two Fingers, their Shadow would go mad and oppose them.',\n",
       " 'Blaidd would eventually face the fate of going mad.',\n",
       " 'Even in madness, Blaidd continued to defy his fate.',\n",
       " 'Blaidd remained faithful to Ranni.',\n",
       " 'Iji is the only friendly Troll that the Tarnished encounters on their journey.',\n",
       " 'Seluvis is a magic preceptor in service to the Carian Royal family.',\n",
       " 'Seluvis is currently aiding Ranni in her search for the dark path.',\n",
       " 'Seluvis helped Sellen in some way when Sellen was initially exiled from the academy.',\n",
       " 'Sellen does not seem too fond of Seluvis when brought up.',\n",
       " 'Seluvis is prickly at first.',\n",
       " \"If the Tarnished discovers Seluvis's puppet collection and aids Seluvis in adding to it, Seluvis reveals his scheme.\",\n",
       " \"Seluvis's scheme is to betray Ranni.\",\n",
       " 'Seluvis wants to add Ranni, a demigod, to his puppet collection.',\n",
       " 'It is speculated that Seluvis and Pidia have a connection.',\n",
       " 'Seluvis and Pidia have a connection due to both their affinities towards puppets.',\n",
       " 'Merchant Kale is one of the numerous nomadic merchants that the Tarnished can buy wares from.',\n",
       " 'Merchant Kale is acquainted with Blaidd.',\n",
       " 'Blaidd refers to Merchant Kale as a busybody.',\n",
       " 'Merchant Kale describes the nomadic clan as spiteful.',\n",
       " \"Merchant Kale describes the bodies as 'sick', 'maddened', 'husks of themselves', and 'hardly human anymore'.\",\n",
       " 'Merchant Kale finds out that his people were falsely accused of worshipping the Three Fingers.',\n",
       " 'Merchant Kale discovers that his people were falsely accused of summoning the frenzied flame into the Lands Between.',\n",
       " 'The false accusations fill Merchant Kale with spite towards the Greater Will.',\n",
       " 'The false accusations fill Merchant Kale with spite towards the Golden Order.',\n",
       " 'Merchant Kale would have refused further trade with the Tarnished until the Tarnished inherited the frenzied flame.',\n",
       " 'After the Tarnished inherited the frenzied flame, Merchant Kale would try to be granted an audience with the Three Fingers.',\n",
       " 'Witch-hunter Jerren was initially a nomadic wanderer.',\n",
       " 'Jerren happened upon being a guest to the Carian royal family.',\n",
       " 'During his time with the Carian royal family, Jerren was able to get acquainted with various members of the family.',\n",
       " 'Notably, Jerren became acquainted with Ranni.',\n",
       " 'Notably, Jerren became acquainted with Iji.',\n",
       " 'Notably, Jerren became acquainted with Radahn.',\n",
       " 'Jerren made a promise to Ranni and Iji to slay a longstanding enemy of the Carian family.',\n",
       " 'The longstanding enemy of the Carian family is the Graven Witch Sellen.',\n",
       " 'The Graven Witch Sellen committed atrocities against many of her fellow sorcerers.',\n",
       " 'Before Jerren was able to fulfill his promise, General Radahn recruited Jerren into his army.',\n",
       " 'Jerren served as a guest commander during the Shattering.',\n",
       " 'Jerren is an excellent swordsman.',\n",
       " 'The Flamberge that Jerren wields is one of the symbols of Redmane Castle.',\n",
       " 'When the Tarnished first meets Jerren, Jerren heralds the beginning of the war festival.',\n",
       " 'Sellen was said to be one of the most promising sorcerers in the history of the Raya Lucaria Academy.',\n",
       " 'Sellen had a unique glintstone crown compared to other scholars the Tarnished encounters at the academy.',\n",
       " 'Sellen was exiled from the Raya Lucaria Academy for her obsession and forbidden pursuit of the primeval current.',\n",
       " 'According to Jerren, Sellen has killed many of her fellow sorcerers in her studies.',\n",
       " 'Sellen was imprisoned in Witchbane Ruins by the Raya Lucaria Academy and the Carian Royal Family.',\n",
       " \"If the Tarnished chooses to aid in Sellen's quest, they can help her inhabit a new unshackled body.\",\n",
       " 'The method to help Sellen inhabit a new body involves transplanting her primeval glintstone into another compatible body.',\n",
       " \"Sellen's primeval glintstone is essentially her soul.\",\n",
       " 'Thops is a glintstone sorcerer.',\n",
       " 'Thops is from the Academy of Raya Lucaria.',\n",
       " 'Thops was looked down upon by his fellow scholars.',\n",
       " 'Thops was nicknamed Thops the Bluntstone.',\n",
       " 'Thops was nicknamed Thops the Bluntstone for not having enough talent to cast powerful sorceries.',\n",
       " 'Thops longs to return to the Academy of Raya Lucaria to finish his studies.',\n",
       " 'If the Tarnished chooses to aid Thops in his quest, Thops is able to complete his lifelong project.',\n",
       " \"Thops creates the spell Thops's Barrier.\",\n",
       " \"Thops's Barrier is a uniquely defensive glintstone sorcery.\",\n",
       " \"Thops's Barrier is able to deflect both sorceries and incantations back at their caster.\",\n",
       " \"Thops's Barrier is a spell that is worthy of its own conspectus.\",\n",
       " 'Miriel is the Pastor of Vows.',\n",
       " 'Miriel is a large turtle.',\n",
       " 'Miriel is the steward of the Church of Vows.',\n",
       " 'Miriel is a peaceful soul.',\n",
       " 'Miriel teaches the Tarnished about Absolution.',\n",
       " 'Miriel does not require Absolution if the Tarnished attack him.',\n",
       " \"Miriel is well-versed in the history of Rennala and Radagon's union.\",\n",
       " 'Miriel is able to teach the Tarnished all manner of sorceries and incantations.',\n",
       " 'Corhyn deems incantations not related to the Golden Order as heresy.',\n",
       " 'Miriel is open-minded towards each of the sorcery and incantation scrolls the Tarnished gives him.',\n",
       " 'Albus is a first generation Albinauric.',\n",
       " 'Latenna is a first-generation Albinauric.',\n",
       " 'Latenna is one of many wolf-riding Albinauric archers.',\n",
       " 'Latenna was interrogated by an agent of Sir Gideon Ofnir.',\n",
       " 'The interrogation may have been conducted by Sir Gideon Ofnir himself.',\n",
       " 'The interrogation was about the second half of the Haligtree Secret Medallion.',\n",
       " \"The interrogation led to the death of Latenna's faithful wolf.\",\n",
       " \"Latenna's faithful wolf is named Lobo.\",\n",
       " 'If the Tarnished approaches Latenna with the right half of the medallion, Latenna asks the Tarnished to take her to Apostate Derelict.',\n",
       " 'Latenna offers information about the whereabouts of the left half of the secret medallion in exchange for being taken to Apostate Derelict.',\n",
       " 'Upon arriving at Apostate Derelict, Latenna transfers a birthing droplet to a large Albinauric called Phillia.',\n",
       " 'The exact purpose of the birthing droplet is unclear.',\n",
       " 'Latenna mentions that the birthing droplet has something to do with creating life for the Albinaurics.',\n",
       " \"Ensha is Sir Gideon Ofnir's silent right-hand man.\",\n",
       " 'Tanith is the consort to Lord Rykard.',\n",
       " 'Tanith is the adoptive mother of Rya.',\n",
       " 'Tanith worked as a dancer in an unnamed foreign land.',\n",
       " \"Tanith caught Lord Rykard's eye.\",\n",
       " 'Tanith became the consort of Lord Rykard.',\n",
       " 'Tanith was given the Tonic of Forgetfulness as an out.',\n",
       " \"Tanith continued to stay by Lord Rykard's side.\",\n",
       " 'Tanith is now the Lady of the Volcano Manor.',\n",
       " 'Tanith recruits Tarnished who are willing to rise against the Greater Will.',\n",
       " 'Tanith recruits Tarnished to become recusants.',\n",
       " 'The Tarnished can first meet Bernahl in Stormhill.',\n",
       " 'Bernahl was said to be a Tarnished worthy of becoming Elden Lord.',\n",
       " 'Bernahl was said to be carrying out his destined path without doubt.',\n",
       " \"Bernahl's maiden threw herself into 'the fire'.\",\n",
       " \"There are a few speculations as to what Bernahl's maiden throwing herself into 'the fire' might mean.\",\n",
       " \"Some speculate that Bernahl's maiden succumbed to the flame of frenzy.\",\n",
       " \"Others speculate that similar to Melina, Bernahl's maiden was thrown into the Forge of the Giants as kindling for burning the Erdtree.\",\n",
       " 'The Tarnished can later find Bernahl as a recusant at the Volcano Manor.',\n",
       " 'After defeating Rykard, Bernahl denounces the Greater Will.',\n",
       " 'Bernahl vows to fell the Greater Will on behalf of his brother.',\n",
       " \"Rya's real name is Zorayas.\",\n",
       " 'Patches the Untethered is a bandit.',\n",
       " 'Patches the Untethered tricks unsuspecting people into various death traps.',\n",
       " 'Patches the Untethered tricks unsuspecting people into entrapment schemes.',\n",
       " 'If the Tarnished spares Patches the Untethered, Patches the Untethered will sell the Tarnished various goods.',\n",
       " 'Patches the Untethered presumably obtains goods from the corpses of those he successfully tricked.',\n",
       " 'Patches the Untethered mentions that his band of bandits comprises foot soldiers.',\n",
       " 'Patches the Untethered mentions that his band of bandits comprises survivors of defeated armies.',\n",
       " \"Patches' Emporium can be accessed when reaching Volcano Manor.\",\n",
       " 'Patches the Untethered has taken a liking to Tanith.',\n",
       " \"Patches the Untethered endangers himself to obtain the Dancer's Castanets for Tanith.\",\n",
       " \"Patches the Untethered hopes that the Dancer's Castanets will put Tanith back to her right mind after Rykard's defeat.\",\n",
       " 'Diallos is the youngest son of House Hoslow.',\n",
       " 'Diallos lives in the shadow of his elder brother, Juno Hoslow.',\n",
       " 'Juno Hoslow is a formidable fighter.',\n",
       " 'Diallos was all bark but no bite.',\n",
       " 'Being all bark but no bite is unbefitting for a family whose motto revolves around bloodshed.',\n",
       " 'Despite their differences, Diallos and Juno care for each other very much.',\n",
       " 'Juno uses his position to dote on Diallos.',\n",
       " 'Diallos looks up to Juno as a role model.',\n",
       " 'Jar-Bairn is a young jar.',\n",
       " 'Jar-Bairn lives in Jarburg.',\n",
       " 'Jar-Bairn is one of the few living Jars capable of speaking to the Tarnished.',\n",
       " 'Jar-Bairn is a warrior jar.',\n",
       " 'Jar-Bairn is like his uncle Alexander.',\n",
       " 'The Tarnished may find Jar-Bairn talking in his sleep.',\n",
       " 'Jar-Bairn dreams about reuniting with Alexander.',\n",
       " 'Jar-Bairn dreams about telling Alexander that he is a warrior jar too.',\n",
       " 'Jar-Bairn dreams about poachers destroying the Living Pots at Jarburg.',\n",
       " 'Jar-Bairn dreams about Diallos taking care of him.',\n",
       " 'Iron Fist Alexander is an older Living Jar.',\n",
       " 'Iron Fist Alexander left his home of Jarburg to seek great battle.',\n",
       " 'Iron Fist Alexander left his home of Jarburg to hone his combat skills.',\n",
       " 'Iron Fist Alexander is a warrior jar.',\n",
       " 'Blackguard Big Boggart is a Tarnished.',\n",
       " 'Blackguard Big Boggart is a former criminal.',\n",
       " 'Blackguard Big Boggart sells boiled prawns and crabs at the Boilprawn Shack.',\n",
       " 'Blackguard Big Boggart later sells boiled prawns and crabs just outside the royal capital.',\n",
       " 'It is possible that Blackguard Big Boggart was previously convicted for thievery.',\n",
       " \"Blackguard Big Boggart stole Rya's necklace when the Tarnished meets him.\",\n",
       " 'Blackguard Big Boggart used to be cellmates with Dung Eater.',\n",
       " 'Blackguard Big Boggart witnessed Dung Eater defile the body of his friend with the Seedbed Curse.',\n",
       " 'Witnessing Dung Eater defile the body of his friend with the Seedbed Curse was the most harrowing experience Blackguard Big Boggart had ever had.',\n",
       " 'Dung Eater is a Tarnished.',\n",
       " 'Dung Eater bears the heart of an Omen, as his armor suggests.',\n",
       " 'Dung Eater was a merciless killer even before being brought back to the Lands Between.',\n",
       " 'Dung Eater would defile the corpses of those he killed with Seedbed Curses.',\n",
       " 'Dung Eater would curse the souls of those he killed to never be able to return to the Erdtree.',\n",
       " \"Dung Eater's biggest aspiration is to defile and curse everyone in the Lands Between.\",\n",
       " \"Dung Eater's biggest aspiration is to defile and curse all future generations.\",\n",
       " \"Dung Eater's dream can be realized by aiding him in gestating the Mending Rune of the Fell Curse.\",\n",
       " 'Enia is a Finger Reader that the Tarnished encounters at the Roundtable Hold.',\n",
       " 'Enia is an agent of the Greater Will.',\n",
       " 'Enia is supportive of the Tarnished burning down the Erdtree when her Two Fingers stop communicating with her.',\n",
       " 'Enia claims that before the Tarnished, another had gathered 2 Great Runes.',\n",
       " 'Queen Marika, the Eternal is a Numen chosen and brought from her homeland to the Lands Between by the Greater Will.',\n",
       " 'Queen Marika, the Eternal is a vassal of the Greater Will.',\n",
       " 'Radagon of the Golden Order is characterized by his flowing red locks.',\n",
       " \"Radagon is Queen Marika's second chosen consort.\",\n",
       " 'Radagon is a great warrior.',\n",
       " \"Radagon's early life remains a mystery.\",\n",
       " \"Radagon's rise to prominence in the Golden Order is unknown.\",\n",
       " 'There is speculation that Radagon may be a smaller-sized Fire Giant.',\n",
       " \"The speculation about Radagon being a Fire Giant is based on the descriptions of the Sword of Milos and Giant's Red Braid.\",\n",
       " 'Another theory is that Radagon was cursed to have red hair by the Fire Giants.',\n",
       " \"The curse on Radagon was a result of the Golden Order's war with the Fire Giants.\",\n",
       " 'Radagon was said to have hated the red-tint of his hair.',\n",
       " 'Godfrey was the first consort to Queen Marika.',\n",
       " 'Godfrey was the first Elden Lord.',\n",
       " 'Godfrey and Queen Marika had 3 children together.',\n",
       " \"Godfrey's children were Godwyn the Golden and the Omen twins, Morgott and Mohg.\",\n",
       " 'Godfrey was originally known as Hoarah Loux.',\n",
       " 'Hoarah Loux was a fierce warrior.',\n",
       " 'Hoarah Loux had a strong bloodlust.',\n",
       " 'Hoarah Loux was the chieftain of the badlands.',\n",
       " \"Hoarah Loux was selected as Marika's first consort.\",\n",
       " 'Hoarah Loux took Beast Regent Serosh upon his back to quell his insatiable bloodlust.',\n",
       " 'Hoarah Loux aimed to be more befitting of a Lord.',\n",
       " 'When the Golden Order was established, Godfrey was tasked with leading several wars.',\n",
       " 'Godfrey led wars to further the influence of the Golden Order.',\n",
       " 'One of the wars led by Godfrey was against the Giants.',\n",
       " 'Godfrey faced the Storm Lord alone during one of the wars.',\n",
       " \"During Godfrey's reign, gladitorial combat in colosseums was commonplace in the Lands Between.\",\n",
       " 'Gladitorial combat was held as rituals to honor the Erdtree.',\n",
       " \"The practice of gladitorial combat died out when Radagon became Marika's next consort.\",\n",
       " 'After Godfrey won his last campaign, there were no worthy opponents left to battle with.',\n",
       " \"Marika took away the Erdtree's blessing from Godfrey and countless others.\",\n",
       " 'Godfrey and countless others were turned into Tarnished.',\n",
       " 'Godfrey led the Tarnished out of the Lands Between in a journey referred to as the Long March.',\n",
       " \"Godfrey's axe was broken in a battle during the Long March.\",\n",
       " 'After the Long March ended, Godfrey reverted back to becoming a simple warrior.',\n",
       " 'Godfrey still carried Serosh on his back after reverting to a simple warrior.',\n",
       " 'Rennala was the Queen of the full moon.',\n",
       " 'Morgott is one of two Omen twins.',\n",
       " 'Morgott was born of Queen Marika and Godfrey.',\n",
       " 'Despite being locked away and shunned, Morgott still loved the Order.',\n",
       " 'Morgott ruled the capital in the shadows as the Unveiled Monarch.',\n",
       " 'During the Second Defense of Leyndell, Morgott successfully defended the capital and the Erdtree from invading demigods.',\n",
       " \"Morgott's dialogue suggests he attempted to claim the throne of the Elden Lord.\",\n",
       " 'The Erdtree warded Morgott off from claiming the throne of the Elden Lord.',\n",
       " 'The Tarnished will first encounter Morgott under the pseudonym, Margit.',\n",
       " 'Morgott prevents the Tarnished from challenging Godrick in Stormveil Castle.',\n",
       " 'Morgott prevents the Tarnished from obtaining one of many Great Runes required to enter the capital.',\n",
       " 'Mohg is known as the Lord of Blood.',\n",
       " 'Mohg is the son of Queen Marika.',\n",
       " \"Mohg is the son of Godfrey, who is Queen Marika's first consort.\",\n",
       " 'Mohg has a twin brother.',\n",
       " 'Mohg fully embraced his accursed Omen blood and traits.',\n",
       " \"Mohg's twin brother distanced himself from his Omen nature.\",\n",
       " 'Mohg was shackled deep within the Subterranean Shunning-Grounds.',\n",
       " 'Mohg encountered the Formless Mother while imprisoned underground.',\n",
       " 'The Formless Mother is an outer god like the Greater Will.',\n",
       " \"The encounter with the Formless Mother caused Mohg's accursed omen blood to ignite.\",\n",
       " \"The ignition of Mohg's accursed omen blood gave him the ability to cast bloodflame incantations.\",\n",
       " \"Mohg used his spear, known as Mohgwyn's Sacred Spear, to communicate with the Formless Mother.\",\n",
       " 'At some point, Mohg managed to escape from the Subterranean Shunning-Grounds.',\n",
       " 'Mohg established the Mohgwyn Palace in a secluded part of the Siofra River.',\n",
       " 'Mohg recruited multiple people to become followers of the upcoming Mohgwyn Dynasty.',\n",
       " 'Mohg offered deals to some followers, such as Bloody Finger Okina.',\n",
       " 'Mohg kidnapped other followers, such as the War Surgeons.',\n",
       " 'Mohg is not an Empyrean himself.',\n",
       " 'Mohg is unable to ascend to godhood.',\n",
       " 'Mohg hoped to claim the title of monarch by raising empyrean Miquella to full godhood.',\n",
       " 'Mohg aimed to become the consort of empyrean Miquella.',\n",
       " 'Mohg stole the slumbering Miquella from inside the Haligtree.',\n",
       " 'Mohg attempted to rouse empyrean Miquella with his accursed blood.',\n",
       " 'Miquella never woke from his slumber, regardless of how much blood Mohg offered.',\n",
       " 'Miquella never woke from his slumber, regardless of how much time he shared his bedchambers with Mohg.',\n",
       " 'Rykard is known as the lord of blasphemy.',\n",
       " 'Praetor Rykard is Lord of the Volcano Manor.',\n",
       " 'Praetor Rykard is a ruthless justiciar.',\n",
       " 'Praetor Rykard is the son of Rennala and Radagon.',\n",
       " \"Praetor Rykard became a demigod after Radagon's unity with Queen Marika.\",\n",
       " 'Rykard presides over Mt. Gelmir.',\n",
       " 'Rykard was served by the Gelmir Knights.',\n",
       " 'The lava sorceries that the Tarnished can learn were created by Rykard.',\n",
       " 'Some of the lava sorceries created by Rykard are old hexes from Mt. Gelmir that he turned into practical sorceries.',\n",
       " 'At some point, Rykard met Tanith in a foreign land.',\n",
       " 'Rykard brought Tanith back to the Lands Between to be his consort.',\n",
       " 'Rykard had a hand in the Night of the Black Knives.',\n",
       " \"The extent of Rykard's involvement in the Night of the Black Knives is unclear.\",\n",
       " \"The Blasphemous Claw was an item rewarded by Rykard's sister Ranni.\",\n",
       " 'The Blasphemous Claw allowed Rykard to challenge Maliketh as a last resort.',\n",
       " \"The description for the Taker's Cameo implies that Rykard believed that Marika and her Order ruled by force.\",\n",
       " 'Rykard swore himself to blasphemy and sought to overthrow Marika and her Order.',\n",
       " \"Rykard's ambition drew many towards him.\",\n",
       " 'The ancient people of Mt. Gelmir worshipped a powerful serpent god.',\n",
       " 'The ancient people of Mt. Gelmir offered sacrifices to the powerful serpent god.',\n",
       " 'Rykard encountered the God-Devouring Serpent.',\n",
       " 'Rykard offered himself and his Great Rune up as sacrifices.',\n",
       " \"Rykard's sacrifices granted him immortality.\",\n",
       " \"Rykard's immortality allowed him to grow and devour people and gods alike for all eternity.\",\n",
       " \"Rykard's fall into greed and glutinous depravity caused most of his followers to turn against him.\",\n",
       " 'Tanith was a notable exception to the followers who turned against Rykard.',\n",
       " 'Those who were once Gelmir Knights sought out the Serpent-Hunter.',\n",
       " 'The Serpent-Hunter is a great spear designed to hunt the immortal serpent.',\n",
       " 'The former Gelmir Knights sought to put an end to their Lord, Rykard.',\n",
       " 'The former Gelmir Knights found the mythical weapon, the Serpent-Hunter.',\n",
       " 'The former Gelmir Knights were unsuccessful in defeating Rykard.',\n",
       " \"The corpses holding the Serpent-Hunter are found in Rykard's boss room.\",\n",
       " \"When the Tarnished visits the Volcano Manor, they can find its members following Rykard's blasphemous path.\",\n",
       " 'It is later revealed that those who proved themselves as recusants were granted an audience with Rykard.',\n",
       " \"Those who proved themselves as recusants became part of Rykard's family by being devoured by the great serpent himself.\",\n",
       " 'The Volcano Manor faction houses a group of Recusant Tarnished.',\n",
       " 'The Mohgwyn Dynasty is a faction.',\n",
       " 'The Mohgwyn Dynasty faction is led by Mohg.',\n",
       " 'Mohg is known as the Lord of Blood.',\n",
       " 'The Mohgwyn Dynasty faction is similar to the Volcano Manor.',\n",
       " 'Those in service to the Mohgwyn Dynasty faction invade other Tarnished.',\n",
       " 'Those in service to the Mohgwyn Dynasty faction renounce the Greater Will.',\n",
       " 'Bloodshed is the only motive for invasion in the Mohgwyn Dynasty faction.',\n",
       " 'The beginnings of the Mohgwyn Dynasty can be found in Mohgwyn Palace.',\n",
       " 'The remaining members of the Carian Royal Family Faction are Rennala, Ranni, and their trusted advisors.',\n",
       " 'Those Who Live In Death refer to the numerous undead plaguing the Lands Between.',\n",
       " 'The existence of Those Who Live In Death defies the tenets of the prevalent Golden Order.',\n",
       " 'Those Who Live In Death live in persecution.',\n",
       " 'Those in the faction of Those Who Live In Death are empathetic towards Those Who Live In Death.',\n",
       " 'Those in the faction of Those Who Live In Death join in awaiting the rise of their Lord.',\n",
       " 'The Golden Order Faction was established by Queen Marika.',\n",
       " 'The Golden Order Faction was established by the Greater Will.',\n",
       " 'The Golden Order Faction is the most dominant faction in the Lands Between.',\n",
       " 'The tenets of the Golden Order Faction govern the rules and status quo to be practiced by its followers.',\n",
       " 'Many followers of the Golden Order Faction follow its tenets blindly.',\n",
       " 'A few members of the Golden Order Faction are starting to question the infallibility of the Order.',\n",
       " 'Frenzied Flame Faction is a covert faction.',\n",
       " 'Frenzied Flame Faction is led by the Three Fingers.',\n",
       " 'Those in the Frenzied Flame Faction await one who would take up the mantle of Lord of Chaos.',\n",
       " 'Please provide the content you would like me to decompose, and I will assist you with that.']"
      ]
     },
     "execution_count": 15,
     "metadata": {},
     "output_type": "execute_result"
    }
   ],
   "source": [
    "print (f\"You have {len(proposition_list)} propositions\")\n",
    "proposition_list"
   ]
  },
  {
   "cell_type": "code",
   "execution_count": 16,
   "metadata": {},
   "outputs": [],
   "source": [
    "from proposition2 import eldenring_propositions as erp"
   ]
  },
  {
   "cell_type": "code",
   "execution_count": 17,
   "metadata": {},
   "outputs": [
    {
     "name": "stdout",
     "output_type": "stream",
     "text": [
      "You have 583 propositions\n"
     ]
    }
   ],
   "source": [
    "print (f\"You have {len(erp)} propositions\")"
   ]
  },
  {
   "cell_type": "code",
   "execution_count": 20,
   "metadata": {},
   "outputs": [
    {
     "data": {
      "text/plain": [
       "['Lore in Elden Ring covers all the information related to the world of Elden Ring.',\n",
       " 'Lore in Elden Ring covers all the information related to the mythos of Elden Ring.',\n",
       " 'Lore in Elden Ring includes past events that occurred long ago.',\n",
       " 'Lore in Elden Ring includes the history of the Lands Between.',\n",
       " 'Lore in Elden Ring includes the mystery of the elusive Elden Ring.',\n",
       " 'All information related to the world and mythos of Elden Ring can be found on this page.',\n",
       " 'This page contains heavy spoilers.',\n",
       " 'The Mythos of Elden Ring was written by George R. R. Martin.',\n",
       " 'The Shattering is a devastating war between the children of Marika.',\n",
       " 'The children of Marika are Demigods of the Lands Between.',\n",
       " \"After Godwyn the Golden's death, the Elden Ring was somehow shattered.\"]"
      ]
     },
     "execution_count": 20,
     "metadata": {},
     "output_type": "execute_result"
    }
   ],
   "source": [
    "erp\n",
    "proposition_list = erp[:11]\n",
    "\n",
    "proposition_list"
   ]
  },
  {
   "cell_type": "markdown",
   "metadata": {},
   "source": [
    "So you'll see that they look like regular sentences, but they are actually statements that are able to stand on their own. For example, one of the sentences in the raw text is \"They meant well, but this is rarely true.\" if you were to chunk that on it's own, the LLM would have no idea who you're talking about. Who meant well? What is rarely true? But those have been covered by the propositions."
   ]
  },
  {
   "cell_type": "markdown",
   "metadata": {},
   "source": [
    "### Group each proposition to a chunk (Optional)\n",
    "\n",
    " Use an LLM that can reason about each proposition and determine whether or not it should be a part of an existing chunk or if a new chunk should be made.\n",
    "\n",
    "\n",
    " (Note: After testing, i found out that grouping each proposition to a chunks is not every effective.)"
   ]
  },
  {
   "cell_type": "code",
   "execution_count": 25,
   "metadata": {},
   "outputs": [],
   "source": [
    "from agentic_chunker import AgenticChunker"
   ]
  },
  {
   "cell_type": "code",
   "execution_count": 26,
   "metadata": {},
   "outputs": [],
   "source": [
    "ac = AgenticChunker()"
   ]
  },
  {
   "cell_type": "code",
   "execution_count": 27,
   "metadata": {},
   "outputs": [
    {
     "name": "stdout",
     "output_type": "stream",
     "text": [
      "\n",
      "Adding: 'Lore in Elden Ring covers all the information related to the world of Elden Ring.'\n",
      "No chunks, creating a new one\n"
     ]
    },
    {
     "name": "stderr",
     "output_type": "stream",
     "text": [
      "INFO:httpx:HTTP Request: POST https://api.openai.com/v1/chat/completions \"HTTP/1.1 200 OK\"\n",
      "/Users/user/miniconda3/envs/graphmaker/lib/python3.11/site-packages/pydantic/main.py:1087: PydanticDeprecatedSince20: The `dict` method is deprecated; use `model_dump` instead. Deprecated in Pydantic V2.0 to be removed in V3.0. See Pydantic V2 Migration Guide at https://errors.pydantic.dev/2.8/migration/\n",
      "  warnings.warn('The `dict` method is deprecated; use `model_dump` instead.', category=PydanticDeprecatedSince20)\n",
      "INFO:httpx:HTTP Request: POST https://api.openai.com/v1/chat/completions \"HTTP/1.1 200 OK\"\n",
      "/Users/user/miniconda3/envs/graphmaker/lib/python3.11/site-packages/pydantic/main.py:1087: PydanticDeprecatedSince20: The `dict` method is deprecated; use `model_dump` instead. Deprecated in Pydantic V2.0 to be removed in V3.0. See Pydantic V2 Migration Guide at https://errors.pydantic.dev/2.8/migration/\n",
      "  warnings.warn('The `dict` method is deprecated; use `model_dump` instead.', category=PydanticDeprecatedSince20)\n"
     ]
    },
    {
     "name": "stdout",
     "output_type": "stream",
     "text": [
      "Created new chunk (36362): Elden Ring Lore & World-Building\n",
      "\n",
      "Adding: 'Lore in Elden Ring covers all the information related to the mythos of Elden Ring.'\n"
     ]
    },
    {
     "name": "stderr",
     "output_type": "stream",
     "text": [
      "INFO:httpx:HTTP Request: POST https://api.openai.com/v1/chat/completions \"HTTP/1.1 200 OK\"\n",
      "/Users/user/miniconda3/envs/graphmaker/lib/python3.11/site-packages/pydantic/main.py:1087: PydanticDeprecatedSince20: The `dict` method is deprecated; use `model_dump` instead. Deprecated in Pydantic V2.0 to be removed in V3.0. See Pydantic V2 Migration Guide at https://errors.pydantic.dev/2.8/migration/\n",
      "  warnings.warn('The `dict` method is deprecated; use `model_dump` instead.', category=PydanticDeprecatedSince20)\n",
      "INFO:httpx:HTTP Request: POST https://api.openai.com/v1/chat/completions \"HTTP/1.1 200 OK\"\n",
      "/Users/user/miniconda3/envs/graphmaker/lib/python3.11/site-packages/pydantic/main.py:1087: PydanticDeprecatedSince20: The `dict` method is deprecated; use `model_dump` instead. Deprecated in Pydantic V2.0 to be removed in V3.0. See Pydantic V2 Migration Guide at https://errors.pydantic.dev/2.8/migration/\n",
      "  warnings.warn('The `dict` method is deprecated; use `model_dump` instead.', category=PydanticDeprecatedSince20)\n"
     ]
    },
    {
     "name": "stdout",
     "output_type": "stream",
     "text": [
      "Chunk Found (36362), adding to: Elden Ring Lore & World-Building\n"
     ]
    },
    {
     "name": "stderr",
     "output_type": "stream",
     "text": [
      "INFO:httpx:HTTP Request: POST https://api.openai.com/v1/chat/completions \"HTTP/1.1 200 OK\"\n",
      "/Users/user/miniconda3/envs/graphmaker/lib/python3.11/site-packages/pydantic/main.py:1087: PydanticDeprecatedSince20: The `dict` method is deprecated; use `model_dump` instead. Deprecated in Pydantic V2.0 to be removed in V3.0. See Pydantic V2 Migration Guide at https://errors.pydantic.dev/2.8/migration/\n",
      "  warnings.warn('The `dict` method is deprecated; use `model_dump` instead.', category=PydanticDeprecatedSince20)\n",
      "INFO:httpx:HTTP Request: POST https://api.openai.com/v1/chat/completions \"HTTP/1.1 200 OK\"\n",
      "/Users/user/miniconda3/envs/graphmaker/lib/python3.11/site-packages/pydantic/main.py:1087: PydanticDeprecatedSince20: The `dict` method is deprecated; use `model_dump` instead. Deprecated in Pydantic V2.0 to be removed in V3.0. See Pydantic V2 Migration Guide at https://errors.pydantic.dev/2.8/migration/\n",
      "  warnings.warn('The `dict` method is deprecated; use `model_dump` instead.', category=PydanticDeprecatedSince20)\n"
     ]
    },
    {
     "name": "stdout",
     "output_type": "stream",
     "text": [
      "\n",
      "Adding: 'Lore in Elden Ring includes past events that occurred long ago.'\n"
     ]
    },
    {
     "name": "stderr",
     "output_type": "stream",
     "text": [
      "INFO:httpx:HTTP Request: POST https://api.openai.com/v1/chat/completions \"HTTP/1.1 200 OK\"\n",
      "/Users/user/miniconda3/envs/graphmaker/lib/python3.11/site-packages/pydantic/main.py:1087: PydanticDeprecatedSince20: The `dict` method is deprecated; use `model_dump` instead. Deprecated in Pydantic V2.0 to be removed in V3.0. See Pydantic V2 Migration Guide at https://errors.pydantic.dev/2.8/migration/\n",
      "  warnings.warn('The `dict` method is deprecated; use `model_dump` instead.', category=PydanticDeprecatedSince20)\n",
      "INFO:httpx:HTTP Request: POST https://api.openai.com/v1/chat/completions \"HTTP/1.1 200 OK\"\n",
      "/Users/user/miniconda3/envs/graphmaker/lib/python3.11/site-packages/pydantic/main.py:1087: PydanticDeprecatedSince20: The `dict` method is deprecated; use `model_dump` instead. Deprecated in Pydantic V2.0 to be removed in V3.0. See Pydantic V2 Migration Guide at https://errors.pydantic.dev/2.8/migration/\n",
      "  warnings.warn('The `dict` method is deprecated; use `model_dump` instead.', category=PydanticDeprecatedSince20)\n"
     ]
    },
    {
     "name": "stdout",
     "output_type": "stream",
     "text": [
      "Chunk Found (36362), adding to: Elden Ring Lore & Mythos\n"
     ]
    },
    {
     "name": "stderr",
     "output_type": "stream",
     "text": [
      "INFO:httpx:HTTP Request: POST https://api.openai.com/v1/chat/completions \"HTTP/1.1 200 OK\"\n",
      "/Users/user/miniconda3/envs/graphmaker/lib/python3.11/site-packages/pydantic/main.py:1087: PydanticDeprecatedSince20: The `dict` method is deprecated; use `model_dump` instead. Deprecated in Pydantic V2.0 to be removed in V3.0. See Pydantic V2 Migration Guide at https://errors.pydantic.dev/2.8/migration/\n",
      "  warnings.warn('The `dict` method is deprecated; use `model_dump` instead.', category=PydanticDeprecatedSince20)\n",
      "INFO:httpx:HTTP Request: POST https://api.openai.com/v1/chat/completions \"HTTP/1.1 200 OK\"\n",
      "/Users/user/miniconda3/envs/graphmaker/lib/python3.11/site-packages/pydantic/main.py:1087: PydanticDeprecatedSince20: The `dict` method is deprecated; use `model_dump` instead. Deprecated in Pydantic V2.0 to be removed in V3.0. See Pydantic V2 Migration Guide at https://errors.pydantic.dev/2.8/migration/\n",
      "  warnings.warn('The `dict` method is deprecated; use `model_dump` instead.', category=PydanticDeprecatedSince20)\n"
     ]
    },
    {
     "name": "stdout",
     "output_type": "stream",
     "text": [
      "\n",
      "Adding: 'Lore in Elden Ring includes the history of the Lands Between.'\n"
     ]
    },
    {
     "name": "stderr",
     "output_type": "stream",
     "text": [
      "INFO:httpx:HTTP Request: POST https://api.openai.com/v1/chat/completions \"HTTP/1.1 200 OK\"\n",
      "/Users/user/miniconda3/envs/graphmaker/lib/python3.11/site-packages/pydantic/main.py:1087: PydanticDeprecatedSince20: The `dict` method is deprecated; use `model_dump` instead. Deprecated in Pydantic V2.0 to be removed in V3.0. See Pydantic V2 Migration Guide at https://errors.pydantic.dev/2.8/migration/\n",
      "  warnings.warn('The `dict` method is deprecated; use `model_dump` instead.', category=PydanticDeprecatedSince20)\n",
      "INFO:httpx:HTTP Request: POST https://api.openai.com/v1/chat/completions \"HTTP/1.1 200 OK\"\n",
      "/Users/user/miniconda3/envs/graphmaker/lib/python3.11/site-packages/pydantic/main.py:1087: PydanticDeprecatedSince20: The `dict` method is deprecated; use `model_dump` instead. Deprecated in Pydantic V2.0 to be removed in V3.0. See Pydantic V2 Migration Guide at https://errors.pydantic.dev/2.8/migration/\n",
      "  warnings.warn('The `dict` method is deprecated; use `model_dump` instead.', category=PydanticDeprecatedSince20)\n"
     ]
    },
    {
     "name": "stdout",
     "output_type": "stream",
     "text": [
      "Chunk Found (36362), adding to: Elden Ring Lore & History\n"
     ]
    },
    {
     "name": "stderr",
     "output_type": "stream",
     "text": [
      "INFO:httpx:HTTP Request: POST https://api.openai.com/v1/chat/completions \"HTTP/1.1 200 OK\"\n",
      "/Users/user/miniconda3/envs/graphmaker/lib/python3.11/site-packages/pydantic/main.py:1087: PydanticDeprecatedSince20: The `dict` method is deprecated; use `model_dump` instead. Deprecated in Pydantic V2.0 to be removed in V3.0. See Pydantic V2 Migration Guide at https://errors.pydantic.dev/2.8/migration/\n",
      "  warnings.warn('The `dict` method is deprecated; use `model_dump` instead.', category=PydanticDeprecatedSince20)\n",
      "INFO:httpx:HTTP Request: POST https://api.openai.com/v1/chat/completions \"HTTP/1.1 200 OK\"\n",
      "/Users/user/miniconda3/envs/graphmaker/lib/python3.11/site-packages/pydantic/main.py:1087: PydanticDeprecatedSince20: The `dict` method is deprecated; use `model_dump` instead. Deprecated in Pydantic V2.0 to be removed in V3.0. See Pydantic V2 Migration Guide at https://errors.pydantic.dev/2.8/migration/\n",
      "  warnings.warn('The `dict` method is deprecated; use `model_dump` instead.', category=PydanticDeprecatedSince20)\n"
     ]
    },
    {
     "name": "stdout",
     "output_type": "stream",
     "text": [
      "\n",
      "Adding: 'Lore in Elden Ring includes the mystery of the elusive Elden Ring.'\n"
     ]
    },
    {
     "name": "stderr",
     "output_type": "stream",
     "text": [
      "INFO:httpx:HTTP Request: POST https://api.openai.com/v1/chat/completions \"HTTP/1.1 200 OK\"\n",
      "/Users/user/miniconda3/envs/graphmaker/lib/python3.11/site-packages/pydantic/main.py:1087: PydanticDeprecatedSince20: The `dict` method is deprecated; use `model_dump` instead. Deprecated in Pydantic V2.0 to be removed in V3.0. See Pydantic V2 Migration Guide at https://errors.pydantic.dev/2.8/migration/\n",
      "  warnings.warn('The `dict` method is deprecated; use `model_dump` instead.', category=PydanticDeprecatedSince20)\n",
      "INFO:httpx:HTTP Request: POST https://api.openai.com/v1/chat/completions \"HTTP/1.1 200 OK\"\n",
      "/Users/user/miniconda3/envs/graphmaker/lib/python3.11/site-packages/pydantic/main.py:1087: PydanticDeprecatedSince20: The `dict` method is deprecated; use `model_dump` instead. Deprecated in Pydantic V2.0 to be removed in V3.0. See Pydantic V2 Migration Guide at https://errors.pydantic.dev/2.8/migration/\n",
      "  warnings.warn('The `dict` method is deprecated; use `model_dump` instead.', category=PydanticDeprecatedSince20)\n"
     ]
    },
    {
     "name": "stdout",
     "output_type": "stream",
     "text": [
      "Chunk Found (36362), adding to: Elden Ring Lore & Mythos\n"
     ]
    },
    {
     "name": "stderr",
     "output_type": "stream",
     "text": [
      "INFO:httpx:HTTP Request: POST https://api.openai.com/v1/chat/completions \"HTTP/1.1 200 OK\"\n",
      "/Users/user/miniconda3/envs/graphmaker/lib/python3.11/site-packages/pydantic/main.py:1087: PydanticDeprecatedSince20: The `dict` method is deprecated; use `model_dump` instead. Deprecated in Pydantic V2.0 to be removed in V3.0. See Pydantic V2 Migration Guide at https://errors.pydantic.dev/2.8/migration/\n",
      "  warnings.warn('The `dict` method is deprecated; use `model_dump` instead.', category=PydanticDeprecatedSince20)\n",
      "INFO:httpx:HTTP Request: POST https://api.openai.com/v1/chat/completions \"HTTP/1.1 200 OK\"\n",
      "/Users/user/miniconda3/envs/graphmaker/lib/python3.11/site-packages/pydantic/main.py:1087: PydanticDeprecatedSince20: The `dict` method is deprecated; use `model_dump` instead. Deprecated in Pydantic V2.0 to be removed in V3.0. See Pydantic V2 Migration Guide at https://errors.pydantic.dev/2.8/migration/\n",
      "  warnings.warn('The `dict` method is deprecated; use `model_dump` instead.', category=PydanticDeprecatedSince20)\n"
     ]
    },
    {
     "name": "stdout",
     "output_type": "stream",
     "text": [
      "\n",
      "Adding: 'All information related to the world and mythos of Elden Ring can be found on this page.'\n"
     ]
    },
    {
     "name": "stderr",
     "output_type": "stream",
     "text": [
      "INFO:httpx:HTTP Request: POST https://api.openai.com/v1/chat/completions \"HTTP/1.1 200 OK\"\n",
      "/Users/user/miniconda3/envs/graphmaker/lib/python3.11/site-packages/pydantic/main.py:1087: PydanticDeprecatedSince20: The `dict` method is deprecated; use `model_dump` instead. Deprecated in Pydantic V2.0 to be removed in V3.0. See Pydantic V2 Migration Guide at https://errors.pydantic.dev/2.8/migration/\n",
      "  warnings.warn('The `dict` method is deprecated; use `model_dump` instead.', category=PydanticDeprecatedSince20)\n",
      "INFO:httpx:HTTP Request: POST https://api.openai.com/v1/chat/completions \"HTTP/1.1 200 OK\"\n",
      "/Users/user/miniconda3/envs/graphmaker/lib/python3.11/site-packages/pydantic/main.py:1087: PydanticDeprecatedSince20: The `dict` method is deprecated; use `model_dump` instead. Deprecated in Pydantic V2.0 to be removed in V3.0. See Pydantic V2 Migration Guide at https://errors.pydantic.dev/2.8/migration/\n",
      "  warnings.warn('The `dict` method is deprecated; use `model_dump` instead.', category=PydanticDeprecatedSince20)\n"
     ]
    },
    {
     "name": "stdout",
     "output_type": "stream",
     "text": [
      "Chunk Found (36362), adding to: Elden Ring Lore & History\n"
     ]
    },
    {
     "name": "stderr",
     "output_type": "stream",
     "text": [
      "INFO:httpx:HTTP Request: POST https://api.openai.com/v1/chat/completions \"HTTP/1.1 200 OK\"\n",
      "/Users/user/miniconda3/envs/graphmaker/lib/python3.11/site-packages/pydantic/main.py:1087: PydanticDeprecatedSince20: The `dict` method is deprecated; use `model_dump` instead. Deprecated in Pydantic V2.0 to be removed in V3.0. See Pydantic V2 Migration Guide at https://errors.pydantic.dev/2.8/migration/\n",
      "  warnings.warn('The `dict` method is deprecated; use `model_dump` instead.', category=PydanticDeprecatedSince20)\n",
      "INFO:httpx:HTTP Request: POST https://api.openai.com/v1/chat/completions \"HTTP/1.1 200 OK\"\n",
      "/Users/user/miniconda3/envs/graphmaker/lib/python3.11/site-packages/pydantic/main.py:1087: PydanticDeprecatedSince20: The `dict` method is deprecated; use `model_dump` instead. Deprecated in Pydantic V2.0 to be removed in V3.0. See Pydantic V2 Migration Guide at https://errors.pydantic.dev/2.8/migration/\n",
      "  warnings.warn('The `dict` method is deprecated; use `model_dump` instead.', category=PydanticDeprecatedSince20)\n"
     ]
    },
    {
     "name": "stdout",
     "output_type": "stream",
     "text": [
      "\n",
      "Adding: 'This page contains heavy spoilers.'\n"
     ]
    },
    {
     "name": "stderr",
     "output_type": "stream",
     "text": [
      "INFO:httpx:HTTP Request: POST https://api.openai.com/v1/chat/completions \"HTTP/1.1 200 OK\"\n",
      "/Users/user/miniconda3/envs/graphmaker/lib/python3.11/site-packages/pydantic/main.py:1087: PydanticDeprecatedSince20: The `dict` method is deprecated; use `model_dump` instead. Deprecated in Pydantic V2.0 to be removed in V3.0. See Pydantic V2 Migration Guide at https://errors.pydantic.dev/2.8/migration/\n",
      "  warnings.warn('The `dict` method is deprecated; use `model_dump` instead.', category=PydanticDeprecatedSince20)\n",
      "INFO:httpx:HTTP Request: POST https://api.openai.com/v1/chat/completions \"HTTP/1.1 200 OK\"\n",
      "/Users/user/miniconda3/envs/graphmaker/lib/python3.11/site-packages/pydantic/main.py:1087: PydanticDeprecatedSince20: The `dict` method is deprecated; use `model_dump` instead. Deprecated in Pydantic V2.0 to be removed in V3.0. See Pydantic V2 Migration Guide at https://errors.pydantic.dev/2.8/migration/\n",
      "  warnings.warn('The `dict` method is deprecated; use `model_dump` instead.', category=PydanticDeprecatedSince20)\n"
     ]
    },
    {
     "name": "stdout",
     "output_type": "stream",
     "text": [
      "No chunks found\n"
     ]
    },
    {
     "name": "stderr",
     "output_type": "stream",
     "text": [
      "INFO:httpx:HTTP Request: POST https://api.openai.com/v1/chat/completions \"HTTP/1.1 200 OK\"\n",
      "/Users/user/miniconda3/envs/graphmaker/lib/python3.11/site-packages/pydantic/main.py:1087: PydanticDeprecatedSince20: The `dict` method is deprecated; use `model_dump` instead. Deprecated in Pydantic V2.0 to be removed in V3.0. See Pydantic V2 Migration Guide at https://errors.pydantic.dev/2.8/migration/\n",
      "  warnings.warn('The `dict` method is deprecated; use `model_dump` instead.', category=PydanticDeprecatedSince20)\n",
      "INFO:httpx:HTTP Request: POST https://api.openai.com/v1/chat/completions \"HTTP/1.1 200 OK\"\n",
      "/Users/user/miniconda3/envs/graphmaker/lib/python3.11/site-packages/pydantic/main.py:1087: PydanticDeprecatedSince20: The `dict` method is deprecated; use `model_dump` instead. Deprecated in Pydantic V2.0 to be removed in V3.0. See Pydantic V2 Migration Guide at https://errors.pydantic.dev/2.8/migration/\n",
      "  warnings.warn('The `dict` method is deprecated; use `model_dump` instead.', category=PydanticDeprecatedSince20)\n"
     ]
    },
    {
     "name": "stdout",
     "output_type": "stream",
     "text": [
      "Created new chunk (20407): Spoilers\n",
      "\n",
      "Adding: 'The Mythos of Elden Ring was written by George R. R. Martin.'\n"
     ]
    },
    {
     "name": "stderr",
     "output_type": "stream",
     "text": [
      "INFO:httpx:HTTP Request: POST https://api.openai.com/v1/chat/completions \"HTTP/1.1 200 OK\"\n",
      "/Users/user/miniconda3/envs/graphmaker/lib/python3.11/site-packages/pydantic/main.py:1087: PydanticDeprecatedSince20: The `dict` method is deprecated; use `model_dump` instead. Deprecated in Pydantic V2.0 to be removed in V3.0. See Pydantic V2 Migration Guide at https://errors.pydantic.dev/2.8/migration/\n",
      "  warnings.warn('The `dict` method is deprecated; use `model_dump` instead.', category=PydanticDeprecatedSince20)\n",
      "INFO:httpx:HTTP Request: POST https://api.openai.com/v1/chat/completions \"HTTP/1.1 200 OK\"\n",
      "/Users/user/miniconda3/envs/graphmaker/lib/python3.11/site-packages/pydantic/main.py:1087: PydanticDeprecatedSince20: The `dict` method is deprecated; use `model_dump` instead. Deprecated in Pydantic V2.0 to be removed in V3.0. See Pydantic V2 Migration Guide at https://errors.pydantic.dev/2.8/migration/\n",
      "  warnings.warn('The `dict` method is deprecated; use `model_dump` instead.', category=PydanticDeprecatedSince20)\n"
     ]
    },
    {
     "name": "stdout",
     "output_type": "stream",
     "text": [
      "Chunk Found (36362), adding to: Elden Ring Lore & Mythos\n"
     ]
    },
    {
     "name": "stderr",
     "output_type": "stream",
     "text": [
      "INFO:httpx:HTTP Request: POST https://api.openai.com/v1/chat/completions \"HTTP/1.1 200 OK\"\n",
      "/Users/user/miniconda3/envs/graphmaker/lib/python3.11/site-packages/pydantic/main.py:1087: PydanticDeprecatedSince20: The `dict` method is deprecated; use `model_dump` instead. Deprecated in Pydantic V2.0 to be removed in V3.0. See Pydantic V2 Migration Guide at https://errors.pydantic.dev/2.8/migration/\n",
      "  warnings.warn('The `dict` method is deprecated; use `model_dump` instead.', category=PydanticDeprecatedSince20)\n",
      "INFO:httpx:HTTP Request: POST https://api.openai.com/v1/chat/completions \"HTTP/1.1 200 OK\"\n",
      "/Users/user/miniconda3/envs/graphmaker/lib/python3.11/site-packages/pydantic/main.py:1087: PydanticDeprecatedSince20: The `dict` method is deprecated; use `model_dump` instead. Deprecated in Pydantic V2.0 to be removed in V3.0. See Pydantic V2 Migration Guide at https://errors.pydantic.dev/2.8/migration/\n",
      "  warnings.warn('The `dict` method is deprecated; use `model_dump` instead.', category=PydanticDeprecatedSince20)\n"
     ]
    },
    {
     "name": "stdout",
     "output_type": "stream",
     "text": [
      "\n",
      "Adding: 'The Shattering is a devastating war between the children of Marika.'\n"
     ]
    },
    {
     "name": "stderr",
     "output_type": "stream",
     "text": [
      "INFO:httpx:HTTP Request: POST https://api.openai.com/v1/chat/completions \"HTTP/1.1 200 OK\"\n",
      "/Users/user/miniconda3/envs/graphmaker/lib/python3.11/site-packages/pydantic/main.py:1087: PydanticDeprecatedSince20: The `dict` method is deprecated; use `model_dump` instead. Deprecated in Pydantic V2.0 to be removed in V3.0. See Pydantic V2 Migration Guide at https://errors.pydantic.dev/2.8/migration/\n",
      "  warnings.warn('The `dict` method is deprecated; use `model_dump` instead.', category=PydanticDeprecatedSince20)\n",
      "INFO:httpx:HTTP Request: POST https://api.openai.com/v1/chat/completions \"HTTP/1.1 200 OK\"\n",
      "/Users/user/miniconda3/envs/graphmaker/lib/python3.11/site-packages/pydantic/main.py:1087: PydanticDeprecatedSince20: The `dict` method is deprecated; use `model_dump` instead. Deprecated in Pydantic V2.0 to be removed in V3.0. See Pydantic V2 Migration Guide at https://errors.pydantic.dev/2.8/migration/\n",
      "  warnings.warn('The `dict` method is deprecated; use `model_dump` instead.', category=PydanticDeprecatedSince20)\n"
     ]
    },
    {
     "name": "stdout",
     "output_type": "stream",
     "text": [
      "Chunk Found (36362), adding to: Elden Ring Universe Overview\n"
     ]
    },
    {
     "name": "stderr",
     "output_type": "stream",
     "text": [
      "INFO:httpx:HTTP Request: POST https://api.openai.com/v1/chat/completions \"HTTP/1.1 200 OK\"\n",
      "/Users/user/miniconda3/envs/graphmaker/lib/python3.11/site-packages/pydantic/main.py:1087: PydanticDeprecatedSince20: The `dict` method is deprecated; use `model_dump` instead. Deprecated in Pydantic V2.0 to be removed in V3.0. See Pydantic V2 Migration Guide at https://errors.pydantic.dev/2.8/migration/\n",
      "  warnings.warn('The `dict` method is deprecated; use `model_dump` instead.', category=PydanticDeprecatedSince20)\n",
      "INFO:httpx:HTTP Request: POST https://api.openai.com/v1/chat/completions \"HTTP/1.1 200 OK\"\n",
      "/Users/user/miniconda3/envs/graphmaker/lib/python3.11/site-packages/pydantic/main.py:1087: PydanticDeprecatedSince20: The `dict` method is deprecated; use `model_dump` instead. Deprecated in Pydantic V2.0 to be removed in V3.0. See Pydantic V2 Migration Guide at https://errors.pydantic.dev/2.8/migration/\n",
      "  warnings.warn('The `dict` method is deprecated; use `model_dump` instead.', category=PydanticDeprecatedSince20)\n"
     ]
    },
    {
     "name": "stdout",
     "output_type": "stream",
     "text": [
      "\n",
      "Adding: 'The children of Marika are Demigods of the Lands Between.'\n"
     ]
    },
    {
     "name": "stderr",
     "output_type": "stream",
     "text": [
      "INFO:httpx:HTTP Request: POST https://api.openai.com/v1/chat/completions \"HTTP/1.1 200 OK\"\n",
      "/Users/user/miniconda3/envs/graphmaker/lib/python3.11/site-packages/pydantic/main.py:1087: PydanticDeprecatedSince20: The `dict` method is deprecated; use `model_dump` instead. Deprecated in Pydantic V2.0 to be removed in V3.0. See Pydantic V2 Migration Guide at https://errors.pydantic.dev/2.8/migration/\n",
      "  warnings.warn('The `dict` method is deprecated; use `model_dump` instead.', category=PydanticDeprecatedSince20)\n",
      "INFO:httpx:HTTP Request: POST https://api.openai.com/v1/chat/completions \"HTTP/1.1 200 OK\"\n",
      "/Users/user/miniconda3/envs/graphmaker/lib/python3.11/site-packages/pydantic/main.py:1087: PydanticDeprecatedSince20: The `dict` method is deprecated; use `model_dump` instead. Deprecated in Pydantic V2.0 to be removed in V3.0. See Pydantic V2 Migration Guide at https://errors.pydantic.dev/2.8/migration/\n",
      "  warnings.warn('The `dict` method is deprecated; use `model_dump` instead.', category=PydanticDeprecatedSince20)\n"
     ]
    },
    {
     "name": "stdout",
     "output_type": "stream",
     "text": [
      "Chunk Found (36362), adding to: Elden Ring Lore & Mythos\n"
     ]
    },
    {
     "name": "stderr",
     "output_type": "stream",
     "text": [
      "INFO:httpx:HTTP Request: POST https://api.openai.com/v1/chat/completions \"HTTP/1.1 200 OK\"\n",
      "/Users/user/miniconda3/envs/graphmaker/lib/python3.11/site-packages/pydantic/main.py:1087: PydanticDeprecatedSince20: The `dict` method is deprecated; use `model_dump` instead. Deprecated in Pydantic V2.0 to be removed in V3.0. See Pydantic V2 Migration Guide at https://errors.pydantic.dev/2.8/migration/\n",
      "  warnings.warn('The `dict` method is deprecated; use `model_dump` instead.', category=PydanticDeprecatedSince20)\n",
      "INFO:httpx:HTTP Request: POST https://api.openai.com/v1/chat/completions \"HTTP/1.1 200 OK\"\n",
      "/Users/user/miniconda3/envs/graphmaker/lib/python3.11/site-packages/pydantic/main.py:1087: PydanticDeprecatedSince20: The `dict` method is deprecated; use `model_dump` instead. Deprecated in Pydantic V2.0 to be removed in V3.0. See Pydantic V2 Migration Guide at https://errors.pydantic.dev/2.8/migration/\n",
      "  warnings.warn('The `dict` method is deprecated; use `model_dump` instead.', category=PydanticDeprecatedSince20)\n"
     ]
    },
    {
     "name": "stdout",
     "output_type": "stream",
     "text": [
      "\n",
      "Adding: 'After Godwyn the Golden's death, the Elden Ring was somehow shattered.'\n"
     ]
    },
    {
     "name": "stderr",
     "output_type": "stream",
     "text": [
      "INFO:httpx:HTTP Request: POST https://api.openai.com/v1/chat/completions \"HTTP/1.1 200 OK\"\n",
      "/Users/user/miniconda3/envs/graphmaker/lib/python3.11/site-packages/pydantic/main.py:1087: PydanticDeprecatedSince20: The `dict` method is deprecated; use `model_dump` instead. Deprecated in Pydantic V2.0 to be removed in V3.0. See Pydantic V2 Migration Guide at https://errors.pydantic.dev/2.8/migration/\n",
      "  warnings.warn('The `dict` method is deprecated; use `model_dump` instead.', category=PydanticDeprecatedSince20)\n",
      "INFO:httpx:HTTP Request: POST https://api.openai.com/v1/chat/completions \"HTTP/1.1 200 OK\"\n",
      "/Users/user/miniconda3/envs/graphmaker/lib/python3.11/site-packages/pydantic/main.py:1087: PydanticDeprecatedSince20: The `dict` method is deprecated; use `model_dump` instead. Deprecated in Pydantic V2.0 to be removed in V3.0. See Pydantic V2 Migration Guide at https://errors.pydantic.dev/2.8/migration/\n",
      "  warnings.warn('The `dict` method is deprecated; use `model_dump` instead.', category=PydanticDeprecatedSince20)\n"
     ]
    },
    {
     "name": "stdout",
     "output_type": "stream",
     "text": [
      "Chunk Found (36362), adding to: Elden Ring Universe & History\n"
     ]
    },
    {
     "name": "stderr",
     "output_type": "stream",
     "text": [
      "INFO:httpx:HTTP Request: POST https://api.openai.com/v1/chat/completions \"HTTP/1.1 200 OK\"\n",
      "/Users/user/miniconda3/envs/graphmaker/lib/python3.11/site-packages/pydantic/main.py:1087: PydanticDeprecatedSince20: The `dict` method is deprecated; use `model_dump` instead. Deprecated in Pydantic V2.0 to be removed in V3.0. See Pydantic V2 Migration Guide at https://errors.pydantic.dev/2.8/migration/\n",
      "  warnings.warn('The `dict` method is deprecated; use `model_dump` instead.', category=PydanticDeprecatedSince20)\n",
      "INFO:httpx:HTTP Request: POST https://api.openai.com/v1/chat/completions \"HTTP/1.1 200 OK\"\n",
      "/Users/user/miniconda3/envs/graphmaker/lib/python3.11/site-packages/pydantic/main.py:1087: PydanticDeprecatedSince20: The `dict` method is deprecated; use `model_dump` instead. Deprecated in Pydantic V2.0 to be removed in V3.0. See Pydantic V2 Migration Guide at https://errors.pydantic.dev/2.8/migration/\n",
      "  warnings.warn('The `dict` method is deprecated; use `model_dump` instead.', category=PydanticDeprecatedSince20)\n"
     ]
    },
    {
     "name": "stdout",
     "output_type": "stream",
     "text": [
      "\n",
      "Adding: 'The power of a Great Rune fueled the conflict.'\n"
     ]
    },
    {
     "name": "stderr",
     "output_type": "stream",
     "text": [
      "INFO:httpx:HTTP Request: POST https://api.openai.com/v1/chat/completions \"HTTP/1.1 200 OK\"\n",
      "/Users/user/miniconda3/envs/graphmaker/lib/python3.11/site-packages/pydantic/main.py:1087: PydanticDeprecatedSince20: The `dict` method is deprecated; use `model_dump` instead. Deprecated in Pydantic V2.0 to be removed in V3.0. See Pydantic V2 Migration Guide at https://errors.pydantic.dev/2.8/migration/\n",
      "  warnings.warn('The `dict` method is deprecated; use `model_dump` instead.', category=PydanticDeprecatedSince20)\n",
      "INFO:httpx:HTTP Request: POST https://api.openai.com/v1/chat/completions \"HTTP/1.1 200 OK\"\n",
      "/Users/user/miniconda3/envs/graphmaker/lib/python3.11/site-packages/pydantic/main.py:1087: PydanticDeprecatedSince20: The `dict` method is deprecated; use `model_dump` instead. Deprecated in Pydantic V2.0 to be removed in V3.0. See Pydantic V2 Migration Guide at https://errors.pydantic.dev/2.8/migration/\n",
      "  warnings.warn('The `dict` method is deprecated; use `model_dump` instead.', category=PydanticDeprecatedSince20)\n"
     ]
    },
    {
     "name": "stdout",
     "output_type": "stream",
     "text": [
      "Chunk Found (36362), adding to: Elden Ring Lore & Mythos\n"
     ]
    },
    {
     "name": "stderr",
     "output_type": "stream",
     "text": [
      "INFO:httpx:HTTP Request: POST https://api.openai.com/v1/chat/completions \"HTTP/1.1 200 OK\"\n",
      "/Users/user/miniconda3/envs/graphmaker/lib/python3.11/site-packages/pydantic/main.py:1087: PydanticDeprecatedSince20: The `dict` method is deprecated; use `model_dump` instead. Deprecated in Pydantic V2.0 to be removed in V3.0. See Pydantic V2 Migration Guide at https://errors.pydantic.dev/2.8/migration/\n",
      "  warnings.warn('The `dict` method is deprecated; use `model_dump` instead.', category=PydanticDeprecatedSince20)\n",
      "INFO:httpx:HTTP Request: POST https://api.openai.com/v1/chat/completions \"HTTP/1.1 200 OK\"\n",
      "/Users/user/miniconda3/envs/graphmaker/lib/python3.11/site-packages/pydantic/main.py:1087: PydanticDeprecatedSince20: The `dict` method is deprecated; use `model_dump` instead. Deprecated in Pydantic V2.0 to be removed in V3.0. See Pydantic V2 Migration Guide at https://errors.pydantic.dev/2.8/migration/\n",
      "  warnings.warn('The `dict` method is deprecated; use `model_dump` instead.', category=PydanticDeprecatedSince20)\n"
     ]
    },
    {
     "name": "stdout",
     "output_type": "stream",
     "text": [
      "\n",
      "Adding: 'The battle of General Radahn against Malenia the Severed illustrated that neither strength nor skill alone would be enough to take control of the entirety of the lands Marika had united.'\n"
     ]
    },
    {
     "name": "stderr",
     "output_type": "stream",
     "text": [
      "INFO:httpx:HTTP Request: POST https://api.openai.com/v1/chat/completions \"HTTP/1.1 200 OK\"\n",
      "/Users/user/miniconda3/envs/graphmaker/lib/python3.11/site-packages/pydantic/main.py:1087: PydanticDeprecatedSince20: The `dict` method is deprecated; use `model_dump` instead. Deprecated in Pydantic V2.0 to be removed in V3.0. See Pydantic V2 Migration Guide at https://errors.pydantic.dev/2.8/migration/\n",
      "  warnings.warn('The `dict` method is deprecated; use `model_dump` instead.', category=PydanticDeprecatedSince20)\n",
      "INFO:httpx:HTTP Request: POST https://api.openai.com/v1/chat/completions \"HTTP/1.1 200 OK\"\n",
      "/Users/user/miniconda3/envs/graphmaker/lib/python3.11/site-packages/pydantic/main.py:1087: PydanticDeprecatedSince20: The `dict` method is deprecated; use `model_dump` instead. Deprecated in Pydantic V2.0 to be removed in V3.0. See Pydantic V2 Migration Guide at https://errors.pydantic.dev/2.8/migration/\n",
      "  warnings.warn('The `dict` method is deprecated; use `model_dump` instead.', category=PydanticDeprecatedSince20)\n"
     ]
    },
    {
     "name": "stdout",
     "output_type": "stream",
     "text": [
      "Chunk Found (36362), adding to: Elden Ring Lore & History\n"
     ]
    },
    {
     "name": "stderr",
     "output_type": "stream",
     "text": [
      "INFO:httpx:HTTP Request: POST https://api.openai.com/v1/chat/completions \"HTTP/1.1 200 OK\"\n",
      "/Users/user/miniconda3/envs/graphmaker/lib/python3.11/site-packages/pydantic/main.py:1087: PydanticDeprecatedSince20: The `dict` method is deprecated; use `model_dump` instead. Deprecated in Pydantic V2.0 to be removed in V3.0. See Pydantic V2 Migration Guide at https://errors.pydantic.dev/2.8/migration/\n",
      "  warnings.warn('The `dict` method is deprecated; use `model_dump` instead.', category=PydanticDeprecatedSince20)\n",
      "INFO:httpx:HTTP Request: POST https://api.openai.com/v1/chat/completions \"HTTP/1.1 200 OK\"\n",
      "/Users/user/miniconda3/envs/graphmaker/lib/python3.11/site-packages/pydantic/main.py:1087: PydanticDeprecatedSince20: The `dict` method is deprecated; use `model_dump` instead. Deprecated in Pydantic V2.0 to be removed in V3.0. See Pydantic V2 Migration Guide at https://errors.pydantic.dev/2.8/migration/\n",
      "  warnings.warn('The `dict` method is deprecated; use `model_dump` instead.', category=PydanticDeprecatedSince20)\n"
     ]
    },
    {
     "name": "stdout",
     "output_type": "stream",
     "text": [
      "\n",
      "Adding: 'The Shattering was initiated by the demigods’ hunger for power.'\n"
     ]
    },
    {
     "name": "stderr",
     "output_type": "stream",
     "text": [
      "INFO:httpx:HTTP Request: POST https://api.openai.com/v1/chat/completions \"HTTP/1.1 200 OK\"\n",
      "/Users/user/miniconda3/envs/graphmaker/lib/python3.11/site-packages/pydantic/main.py:1087: PydanticDeprecatedSince20: The `dict` method is deprecated; use `model_dump` instead. Deprecated in Pydantic V2.0 to be removed in V3.0. See Pydantic V2 Migration Guide at https://errors.pydantic.dev/2.8/migration/\n",
      "  warnings.warn('The `dict` method is deprecated; use `model_dump` instead.', category=PydanticDeprecatedSince20)\n",
      "INFO:httpx:HTTP Request: POST https://api.openai.com/v1/chat/completions \"HTTP/1.1 200 OK\"\n",
      "/Users/user/miniconda3/envs/graphmaker/lib/python3.11/site-packages/pydantic/main.py:1087: PydanticDeprecatedSince20: The `dict` method is deprecated; use `model_dump` instead. Deprecated in Pydantic V2.0 to be removed in V3.0. See Pydantic V2 Migration Guide at https://errors.pydantic.dev/2.8/migration/\n",
      "  warnings.warn('The `dict` method is deprecated; use `model_dump` instead.', category=PydanticDeprecatedSince20)\n"
     ]
    },
    {
     "name": "stdout",
     "output_type": "stream",
     "text": [
      "Chunk Found (36362), adding to: Elden Ring Lore & Mythos\n"
     ]
    },
    {
     "name": "stderr",
     "output_type": "stream",
     "text": [
      "INFO:httpx:HTTP Request: POST https://api.openai.com/v1/chat/completions \"HTTP/1.1 200 OK\"\n",
      "/Users/user/miniconda3/envs/graphmaker/lib/python3.11/site-packages/pydantic/main.py:1087: PydanticDeprecatedSince20: The `dict` method is deprecated; use `model_dump` instead. Deprecated in Pydantic V2.0 to be removed in V3.0. See Pydantic V2 Migration Guide at https://errors.pydantic.dev/2.8/migration/\n",
      "  warnings.warn('The `dict` method is deprecated; use `model_dump` instead.', category=PydanticDeprecatedSince20)\n",
      "INFO:httpx:HTTP Request: POST https://api.openai.com/v1/chat/completions \"HTTP/1.1 200 OK\"\n",
      "/Users/user/miniconda3/envs/graphmaker/lib/python3.11/site-packages/pydantic/main.py:1087: PydanticDeprecatedSince20: The `dict` method is deprecated; use `model_dump` instead. Deprecated in Pydantic V2.0 to be removed in V3.0. See Pydantic V2 Migration Guide at https://errors.pydantic.dev/2.8/migration/\n",
      "  warnings.warn('The `dict` method is deprecated; use `model_dump` instead.', category=PydanticDeprecatedSince20)\n"
     ]
    },
    {
     "name": "stdout",
     "output_type": "stream",
     "text": [
      "\n",
      "Adding: 'The Lands Between is the world of Elden Ring.'\n"
     ]
    },
    {
     "name": "stderr",
     "output_type": "stream",
     "text": [
      "INFO:httpx:HTTP Request: POST https://api.openai.com/v1/chat/completions \"HTTP/1.1 200 OK\"\n",
      "/Users/user/miniconda3/envs/graphmaker/lib/python3.11/site-packages/pydantic/main.py:1087: PydanticDeprecatedSince20: The `dict` method is deprecated; use `model_dump` instead. Deprecated in Pydantic V2.0 to be removed in V3.0. See Pydantic V2 Migration Guide at https://errors.pydantic.dev/2.8/migration/\n",
      "  warnings.warn('The `dict` method is deprecated; use `model_dump` instead.', category=PydanticDeprecatedSince20)\n",
      "INFO:httpx:HTTP Request: POST https://api.openai.com/v1/chat/completions \"HTTP/1.1 200 OK\"\n",
      "/Users/user/miniconda3/envs/graphmaker/lib/python3.11/site-packages/pydantic/main.py:1087: PydanticDeprecatedSince20: The `dict` method is deprecated; use `model_dump` instead. Deprecated in Pydantic V2.0 to be removed in V3.0. See Pydantic V2 Migration Guide at https://errors.pydantic.dev/2.8/migration/\n",
      "  warnings.warn('The `dict` method is deprecated; use `model_dump` instead.', category=PydanticDeprecatedSince20)\n"
     ]
    },
    {
     "name": "stdout",
     "output_type": "stream",
     "text": [
      "Chunk Found (36362), adding to: Elden Ring Lore & History\n"
     ]
    },
    {
     "name": "stderr",
     "output_type": "stream",
     "text": [
      "INFO:httpx:HTTP Request: POST https://api.openai.com/v1/chat/completions \"HTTP/1.1 200 OK\"\n",
      "/Users/user/miniconda3/envs/graphmaker/lib/python3.11/site-packages/pydantic/main.py:1087: PydanticDeprecatedSince20: The `dict` method is deprecated; use `model_dump` instead. Deprecated in Pydantic V2.0 to be removed in V3.0. See Pydantic V2 Migration Guide at https://errors.pydantic.dev/2.8/migration/\n",
      "  warnings.warn('The `dict` method is deprecated; use `model_dump` instead.', category=PydanticDeprecatedSince20)\n",
      "INFO:httpx:HTTP Request: POST https://api.openai.com/v1/chat/completions \"HTTP/1.1 200 OK\"\n",
      "/Users/user/miniconda3/envs/graphmaker/lib/python3.11/site-packages/pydantic/main.py:1087: PydanticDeprecatedSince20: The `dict` method is deprecated; use `model_dump` instead. Deprecated in Pydantic V2.0 to be removed in V3.0. See Pydantic V2 Migration Guide at https://errors.pydantic.dev/2.8/migration/\n",
      "  warnings.warn('The `dict` method is deprecated; use `model_dump` instead.', category=PydanticDeprecatedSince20)\n"
     ]
    },
    {
     "name": "stdout",
     "output_type": "stream",
     "text": [
      "\n",
      "Adding: 'Those who live in The Lands Between were blessed by Grace through the Elden Ring.'\n"
     ]
    },
    {
     "name": "stderr",
     "output_type": "stream",
     "text": [
      "INFO:httpx:HTTP Request: POST https://api.openai.com/v1/chat/completions \"HTTP/1.1 200 OK\"\n",
      "/Users/user/miniconda3/envs/graphmaker/lib/python3.11/site-packages/pydantic/main.py:1087: PydanticDeprecatedSince20: The `dict` method is deprecated; use `model_dump` instead. Deprecated in Pydantic V2.0 to be removed in V3.0. See Pydantic V2 Migration Guide at https://errors.pydantic.dev/2.8/migration/\n",
      "  warnings.warn('The `dict` method is deprecated; use `model_dump` instead.', category=PydanticDeprecatedSince20)\n",
      "INFO:httpx:HTTP Request: POST https://api.openai.com/v1/chat/completions \"HTTP/1.1 200 OK\"\n",
      "/Users/user/miniconda3/envs/graphmaker/lib/python3.11/site-packages/pydantic/main.py:1087: PydanticDeprecatedSince20: The `dict` method is deprecated; use `model_dump` instead. Deprecated in Pydantic V2.0 to be removed in V3.0. See Pydantic V2 Migration Guide at https://errors.pydantic.dev/2.8/migration/\n",
      "  warnings.warn('The `dict` method is deprecated; use `model_dump` instead.', category=PydanticDeprecatedSince20)\n"
     ]
    },
    {
     "name": "stdout",
     "output_type": "stream",
     "text": [
      "Chunk Found (36362), adding to: Elden Ring Lore & Mythos\n"
     ]
    },
    {
     "name": "stderr",
     "output_type": "stream",
     "text": [
      "INFO:httpx:HTTP Request: POST https://api.openai.com/v1/chat/completions \"HTTP/1.1 200 OK\"\n",
      "/Users/user/miniconda3/envs/graphmaker/lib/python3.11/site-packages/pydantic/main.py:1087: PydanticDeprecatedSince20: The `dict` method is deprecated; use `model_dump` instead. Deprecated in Pydantic V2.0 to be removed in V3.0. See Pydantic V2 Migration Guide at https://errors.pydantic.dev/2.8/migration/\n",
      "  warnings.warn('The `dict` method is deprecated; use `model_dump` instead.', category=PydanticDeprecatedSince20)\n",
      "INFO:httpx:HTTP Request: POST https://api.openai.com/v1/chat/completions \"HTTP/1.1 200 OK\"\n",
      "/Users/user/miniconda3/envs/graphmaker/lib/python3.11/site-packages/pydantic/main.py:1087: PydanticDeprecatedSince20: The `dict` method is deprecated; use `model_dump` instead. Deprecated in Pydantic V2.0 to be removed in V3.0. See Pydantic V2 Migration Guide at https://errors.pydantic.dev/2.8/migration/\n",
      "  warnings.warn('The `dict` method is deprecated; use `model_dump` instead.', category=PydanticDeprecatedSince20)\n"
     ]
    },
    {
     "name": "stdout",
     "output_type": "stream",
     "text": [
      "\n",
      "Adding: 'Those who live in The Lands Between were blessed by Grace through the Erdtree.'\n"
     ]
    },
    {
     "name": "stderr",
     "output_type": "stream",
     "text": [
      "INFO:httpx:HTTP Request: POST https://api.openai.com/v1/chat/completions \"HTTP/1.1 200 OK\"\n",
      "/Users/user/miniconda3/envs/graphmaker/lib/python3.11/site-packages/pydantic/main.py:1087: PydanticDeprecatedSince20: The `dict` method is deprecated; use `model_dump` instead. Deprecated in Pydantic V2.0 to be removed in V3.0. See Pydantic V2 Migration Guide at https://errors.pydantic.dev/2.8/migration/\n",
      "  warnings.warn('The `dict` method is deprecated; use `model_dump` instead.', category=PydanticDeprecatedSince20)\n",
      "INFO:httpx:HTTP Request: POST https://api.openai.com/v1/chat/completions \"HTTP/1.1 200 OK\"\n",
      "/Users/user/miniconda3/envs/graphmaker/lib/python3.11/site-packages/pydantic/main.py:1087: PydanticDeprecatedSince20: The `dict` method is deprecated; use `model_dump` instead. Deprecated in Pydantic V2.0 to be removed in V3.0. See Pydantic V2 Migration Guide at https://errors.pydantic.dev/2.8/migration/\n",
      "  warnings.warn('The `dict` method is deprecated; use `model_dump` instead.', category=PydanticDeprecatedSince20)\n"
     ]
    },
    {
     "name": "stdout",
     "output_type": "stream",
     "text": [
      "Chunk Found (36362), adding to: Elden Ring Lore & History\n"
     ]
    },
    {
     "name": "stderr",
     "output_type": "stream",
     "text": [
      "INFO:httpx:HTTP Request: POST https://api.openai.com/v1/chat/completions \"HTTP/1.1 200 OK\"\n",
      "/Users/user/miniconda3/envs/graphmaker/lib/python3.11/site-packages/pydantic/main.py:1087: PydanticDeprecatedSince20: The `dict` method is deprecated; use `model_dump` instead. Deprecated in Pydantic V2.0 to be removed in V3.0. See Pydantic V2 Migration Guide at https://errors.pydantic.dev/2.8/migration/\n",
      "  warnings.warn('The `dict` method is deprecated; use `model_dump` instead.', category=PydanticDeprecatedSince20)\n",
      "INFO:httpx:HTTP Request: POST https://api.openai.com/v1/chat/completions \"HTTP/1.1 200 OK\"\n",
      "/Users/user/miniconda3/envs/graphmaker/lib/python3.11/site-packages/pydantic/main.py:1087: PydanticDeprecatedSince20: The `dict` method is deprecated; use `model_dump` instead. Deprecated in Pydantic V2.0 to be removed in V3.0. See Pydantic V2 Migration Guide at https://errors.pydantic.dev/2.8/migration/\n",
      "  warnings.warn('The `dict` method is deprecated; use `model_dump` instead.', category=PydanticDeprecatedSince20)\n"
     ]
    },
    {
     "name": "stdout",
     "output_type": "stream",
     "text": [
      "\n",
      "Adding: 'Those who were blessed by the Elden Ring are characterized by having a golden aura that can be seen in their eyes.'\n"
     ]
    },
    {
     "name": "stderr",
     "output_type": "stream",
     "text": [
      "INFO:httpx:HTTP Request: POST https://api.openai.com/v1/chat/completions \"HTTP/1.1 200 OK\"\n",
      "/Users/user/miniconda3/envs/graphmaker/lib/python3.11/site-packages/pydantic/main.py:1087: PydanticDeprecatedSince20: The `dict` method is deprecated; use `model_dump` instead. Deprecated in Pydantic V2.0 to be removed in V3.0. See Pydantic V2 Migration Guide at https://errors.pydantic.dev/2.8/migration/\n",
      "  warnings.warn('The `dict` method is deprecated; use `model_dump` instead.', category=PydanticDeprecatedSince20)\n",
      "INFO:httpx:HTTP Request: POST https://api.openai.com/v1/chat/completions \"HTTP/1.1 200 OK\"\n",
      "/Users/user/miniconda3/envs/graphmaker/lib/python3.11/site-packages/pydantic/main.py:1087: PydanticDeprecatedSince20: The `dict` method is deprecated; use `model_dump` instead. Deprecated in Pydantic V2.0 to be removed in V3.0. See Pydantic V2 Migration Guide at https://errors.pydantic.dev/2.8/migration/\n",
      "  warnings.warn('The `dict` method is deprecated; use `model_dump` instead.', category=PydanticDeprecatedSince20)\n"
     ]
    },
    {
     "name": "stdout",
     "output_type": "stream",
     "text": [
      "Chunk Found (36362), adding to: Elden Ring Lore & Mythos\n"
     ]
    },
    {
     "name": "stderr",
     "output_type": "stream",
     "text": [
      "INFO:httpx:HTTP Request: POST https://api.openai.com/v1/chat/completions \"HTTP/1.1 200 OK\"\n",
      "/Users/user/miniconda3/envs/graphmaker/lib/python3.11/site-packages/pydantic/main.py:1087: PydanticDeprecatedSince20: The `dict` method is deprecated; use `model_dump` instead. Deprecated in Pydantic V2.0 to be removed in V3.0. See Pydantic V2 Migration Guide at https://errors.pydantic.dev/2.8/migration/\n",
      "  warnings.warn('The `dict` method is deprecated; use `model_dump` instead.', category=PydanticDeprecatedSince20)\n",
      "INFO:httpx:HTTP Request: POST https://api.openai.com/v1/chat/completions \"HTTP/1.1 200 OK\"\n",
      "/Users/user/miniconda3/envs/graphmaker/lib/python3.11/site-packages/pydantic/main.py:1087: PydanticDeprecatedSince20: The `dict` method is deprecated; use `model_dump` instead. Deprecated in Pydantic V2.0 to be removed in V3.0. See Pydantic V2 Migration Guide at https://errors.pydantic.dev/2.8/migration/\n",
      "  warnings.warn('The `dict` method is deprecated; use `model_dump` instead.', category=PydanticDeprecatedSince20)\n"
     ]
    },
    {
     "name": "stdout",
     "output_type": "stream",
     "text": [
      "\n",
      "Adding: 'At some point, some of those who were blessed lost their grace.'\n"
     ]
    },
    {
     "name": "stderr",
     "output_type": "stream",
     "text": [
      "INFO:httpx:HTTP Request: POST https://api.openai.com/v1/chat/completions \"HTTP/1.1 200 OK\"\n",
      "/Users/user/miniconda3/envs/graphmaker/lib/python3.11/site-packages/pydantic/main.py:1087: PydanticDeprecatedSince20: The `dict` method is deprecated; use `model_dump` instead. Deprecated in Pydantic V2.0 to be removed in V3.0. See Pydantic V2 Migration Guide at https://errors.pydantic.dev/2.8/migration/\n",
      "  warnings.warn('The `dict` method is deprecated; use `model_dump` instead.', category=PydanticDeprecatedSince20)\n",
      "INFO:httpx:HTTP Request: POST https://api.openai.com/v1/chat/completions \"HTTP/1.1 200 OK\"\n",
      "/Users/user/miniconda3/envs/graphmaker/lib/python3.11/site-packages/pydantic/main.py:1087: PydanticDeprecatedSince20: The `dict` method is deprecated; use `model_dump` instead. Deprecated in Pydantic V2.0 to be removed in V3.0. See Pydantic V2 Migration Guide at https://errors.pydantic.dev/2.8/migration/\n",
      "  warnings.warn('The `dict` method is deprecated; use `model_dump` instead.', category=PydanticDeprecatedSince20)\n"
     ]
    },
    {
     "name": "stdout",
     "output_type": "stream",
     "text": [
      "Chunk Found (36362), adding to: Elden Ring Universe & History\n"
     ]
    },
    {
     "name": "stderr",
     "output_type": "stream",
     "text": [
      "INFO:httpx:HTTP Request: POST https://api.openai.com/v1/chat/completions \"HTTP/1.1 200 OK\"\n",
      "/Users/user/miniconda3/envs/graphmaker/lib/python3.11/site-packages/pydantic/main.py:1087: PydanticDeprecatedSince20: The `dict` method is deprecated; use `model_dump` instead. Deprecated in Pydantic V2.0 to be removed in V3.0. See Pydantic V2 Migration Guide at https://errors.pydantic.dev/2.8/migration/\n",
      "  warnings.warn('The `dict` method is deprecated; use `model_dump` instead.', category=PydanticDeprecatedSince20)\n",
      "INFO:httpx:HTTP Request: POST https://api.openai.com/v1/chat/completions \"HTTP/1.1 200 OK\"\n",
      "/Users/user/miniconda3/envs/graphmaker/lib/python3.11/site-packages/pydantic/main.py:1087: PydanticDeprecatedSince20: The `dict` method is deprecated; use `model_dump` instead. Deprecated in Pydantic V2.0 to be removed in V3.0. See Pydantic V2 Migration Guide at https://errors.pydantic.dev/2.8/migration/\n",
      "  warnings.warn('The `dict` method is deprecated; use `model_dump` instead.', category=PydanticDeprecatedSince20)\n"
     ]
    },
    {
     "name": "stdout",
     "output_type": "stream",
     "text": [
      "\n",
      "Adding: 'Those who lost their grace were exiled and labeled the Tarnished.'\n"
     ]
    },
    {
     "name": "stderr",
     "output_type": "stream",
     "text": [
      "INFO:httpx:HTTP Request: POST https://api.openai.com/v1/chat/completions \"HTTP/1.1 200 OK\"\n",
      "/Users/user/miniconda3/envs/graphmaker/lib/python3.11/site-packages/pydantic/main.py:1087: PydanticDeprecatedSince20: The `dict` method is deprecated; use `model_dump` instead. Deprecated in Pydantic V2.0 to be removed in V3.0. See Pydantic V2 Migration Guide at https://errors.pydantic.dev/2.8/migration/\n",
      "  warnings.warn('The `dict` method is deprecated; use `model_dump` instead.', category=PydanticDeprecatedSince20)\n",
      "INFO:httpx:HTTP Request: POST https://api.openai.com/v1/chat/completions \"HTTP/1.1 200 OK\"\n",
      "/Users/user/miniconda3/envs/graphmaker/lib/python3.11/site-packages/pydantic/main.py:1087: PydanticDeprecatedSince20: The `dict` method is deprecated; use `model_dump` instead. Deprecated in Pydantic V2.0 to be removed in V3.0. See Pydantic V2 Migration Guide at https://errors.pydantic.dev/2.8/migration/\n",
      "  warnings.warn('The `dict` method is deprecated; use `model_dump` instead.', category=PydanticDeprecatedSince20)\n"
     ]
    },
    {
     "name": "stdout",
     "output_type": "stream",
     "text": [
      "Chunk Found (36362), adding to: Elden Ring Lore & Mythos\n"
     ]
    },
    {
     "name": "stderr",
     "output_type": "stream",
     "text": [
      "INFO:httpx:HTTP Request: POST https://api.openai.com/v1/chat/completions \"HTTP/1.1 200 OK\"\n",
      "/Users/user/miniconda3/envs/graphmaker/lib/python3.11/site-packages/pydantic/main.py:1087: PydanticDeprecatedSince20: The `dict` method is deprecated; use `model_dump` instead. Deprecated in Pydantic V2.0 to be removed in V3.0. See Pydantic V2 Migration Guide at https://errors.pydantic.dev/2.8/migration/\n",
      "  warnings.warn('The `dict` method is deprecated; use `model_dump` instead.', category=PydanticDeprecatedSince20)\n",
      "INFO:httpx:HTTP Request: POST https://api.openai.com/v1/chat/completions \"HTTP/1.1 200 OK\"\n",
      "/Users/user/miniconda3/envs/graphmaker/lib/python3.11/site-packages/pydantic/main.py:1087: PydanticDeprecatedSince20: The `dict` method is deprecated; use `model_dump` instead. Deprecated in Pydantic V2.0 to be removed in V3.0. See Pydantic V2 Migration Guide at https://errors.pydantic.dev/2.8/migration/\n",
      "  warnings.warn('The `dict` method is deprecated; use `model_dump` instead.', category=PydanticDeprecatedSince20)\n"
     ]
    },
    {
     "name": "stdout",
     "output_type": "stream",
     "text": [
      "\n",
      "Adding: 'At some point in time, the Elden Ring was shattered.'\n"
     ]
    },
    {
     "name": "stderr",
     "output_type": "stream",
     "text": [
      "INFO:httpx:HTTP Request: POST https://api.openai.com/v1/chat/completions \"HTTP/1.1 200 OK\"\n",
      "/Users/user/miniconda3/envs/graphmaker/lib/python3.11/site-packages/pydantic/main.py:1087: PydanticDeprecatedSince20: The `dict` method is deprecated; use `model_dump` instead. Deprecated in Pydantic V2.0 to be removed in V3.0. See Pydantic V2 Migration Guide at https://errors.pydantic.dev/2.8/migration/\n",
      "  warnings.warn('The `dict` method is deprecated; use `model_dump` instead.', category=PydanticDeprecatedSince20)\n",
      "INFO:httpx:HTTP Request: POST https://api.openai.com/v1/chat/completions \"HTTP/1.1 200 OK\"\n",
      "/Users/user/miniconda3/envs/graphmaker/lib/python3.11/site-packages/pydantic/main.py:1087: PydanticDeprecatedSince20: The `dict` method is deprecated; use `model_dump` instead. Deprecated in Pydantic V2.0 to be removed in V3.0. See Pydantic V2 Migration Guide at https://errors.pydantic.dev/2.8/migration/\n",
      "  warnings.warn('The `dict` method is deprecated; use `model_dump` instead.', category=PydanticDeprecatedSince20)\n"
     ]
    },
    {
     "name": "stdout",
     "output_type": "stream",
     "text": [
      "Chunk Found (36362), adding to: Elden Ring Lore & History\n"
     ]
    },
    {
     "name": "stderr",
     "output_type": "stream",
     "text": [
      "INFO:httpx:HTTP Request: POST https://api.openai.com/v1/chat/completions \"HTTP/1.1 200 OK\"\n",
      "/Users/user/miniconda3/envs/graphmaker/lib/python3.11/site-packages/pydantic/main.py:1087: PydanticDeprecatedSince20: The `dict` method is deprecated; use `model_dump` instead. Deprecated in Pydantic V2.0 to be removed in V3.0. See Pydantic V2 Migration Guide at https://errors.pydantic.dev/2.8/migration/\n",
      "  warnings.warn('The `dict` method is deprecated; use `model_dump` instead.', category=PydanticDeprecatedSince20)\n",
      "INFO:httpx:HTTP Request: POST https://api.openai.com/v1/chat/completions \"HTTP/1.1 200 OK\"\n",
      "/Users/user/miniconda3/envs/graphmaker/lib/python3.11/site-packages/pydantic/main.py:1087: PydanticDeprecatedSince20: The `dict` method is deprecated; use `model_dump` instead. Deprecated in Pydantic V2.0 to be removed in V3.0. See Pydantic V2 Migration Guide at https://errors.pydantic.dev/2.8/migration/\n",
      "  warnings.warn('The `dict` method is deprecated; use `model_dump` instead.', category=PydanticDeprecatedSince20)\n"
     ]
    },
    {
     "name": "stdout",
     "output_type": "stream",
     "text": [
      "\n",
      "Adding: 'The shards of the Elden Ring were scattered across the Lands Between.'\n"
     ]
    },
    {
     "name": "stderr",
     "output_type": "stream",
     "text": [
      "INFO:httpx:HTTP Request: POST https://api.openai.com/v1/chat/completions \"HTTP/1.1 200 OK\"\n",
      "/Users/user/miniconda3/envs/graphmaker/lib/python3.11/site-packages/pydantic/main.py:1087: PydanticDeprecatedSince20: The `dict` method is deprecated; use `model_dump` instead. Deprecated in Pydantic V2.0 to be removed in V3.0. See Pydantic V2 Migration Guide at https://errors.pydantic.dev/2.8/migration/\n",
      "  warnings.warn('The `dict` method is deprecated; use `model_dump` instead.', category=PydanticDeprecatedSince20)\n",
      "INFO:httpx:HTTP Request: POST https://api.openai.com/v1/chat/completions \"HTTP/1.1 200 OK\"\n",
      "/Users/user/miniconda3/envs/graphmaker/lib/python3.11/site-packages/pydantic/main.py:1087: PydanticDeprecatedSince20: The `dict` method is deprecated; use `model_dump` instead. Deprecated in Pydantic V2.0 to be removed in V3.0. See Pydantic V2 Migration Guide at https://errors.pydantic.dev/2.8/migration/\n",
      "  warnings.warn('The `dict` method is deprecated; use `model_dump` instead.', category=PydanticDeprecatedSince20)\n"
     ]
    },
    {
     "name": "stdout",
     "output_type": "stream",
     "text": [
      "Chunk Found (36362), adding to: Elden Ring Lore & Mythos\n"
     ]
    },
    {
     "name": "stderr",
     "output_type": "stream",
     "text": [
      "INFO:httpx:HTTP Request: POST https://api.openai.com/v1/chat/completions \"HTTP/1.1 200 OK\"\n",
      "/Users/user/miniconda3/envs/graphmaker/lib/python3.11/site-packages/pydantic/main.py:1087: PydanticDeprecatedSince20: The `dict` method is deprecated; use `model_dump` instead. Deprecated in Pydantic V2.0 to be removed in V3.0. See Pydantic V2 Migration Guide at https://errors.pydantic.dev/2.8/migration/\n",
      "  warnings.warn('The `dict` method is deprecated; use `model_dump` instead.', category=PydanticDeprecatedSince20)\n",
      "INFO:httpx:HTTP Request: POST https://api.openai.com/v1/chat/completions \"HTTP/1.1 200 OK\"\n",
      "/Users/user/miniconda3/envs/graphmaker/lib/python3.11/site-packages/pydantic/main.py:1087: PydanticDeprecatedSince20: The `dict` method is deprecated; use `model_dump` instead. Deprecated in Pydantic V2.0 to be removed in V3.0. See Pydantic V2 Migration Guide at https://errors.pydantic.dev/2.8/migration/\n",
      "  warnings.warn('The `dict` method is deprecated; use `model_dump` instead.', category=PydanticDeprecatedSince20)\n"
     ]
    },
    {
     "name": "stdout",
     "output_type": "stream",
     "text": [
      "\n",
      "Adding: 'The largest pieces of the Elden Ring were called Great Runes.'\n"
     ]
    },
    {
     "name": "stderr",
     "output_type": "stream",
     "text": [
      "INFO:httpx:HTTP Request: POST https://api.openai.com/v1/chat/completions \"HTTP/1.1 200 OK\"\n",
      "/Users/user/miniconda3/envs/graphmaker/lib/python3.11/site-packages/pydantic/main.py:1087: PydanticDeprecatedSince20: The `dict` method is deprecated; use `model_dump` instead. Deprecated in Pydantic V2.0 to be removed in V3.0. See Pydantic V2 Migration Guide at https://errors.pydantic.dev/2.8/migration/\n",
      "  warnings.warn('The `dict` method is deprecated; use `model_dump` instead.', category=PydanticDeprecatedSince20)\n",
      "INFO:httpx:HTTP Request: POST https://api.openai.com/v1/chat/completions \"HTTP/1.1 200 OK\"\n",
      "/Users/user/miniconda3/envs/graphmaker/lib/python3.11/site-packages/pydantic/main.py:1087: PydanticDeprecatedSince20: The `dict` method is deprecated; use `model_dump` instead. Deprecated in Pydantic V2.0 to be removed in V3.0. See Pydantic V2 Migration Guide at https://errors.pydantic.dev/2.8/migration/\n",
      "  warnings.warn('The `dict` method is deprecated; use `model_dump` instead.', category=PydanticDeprecatedSince20)\n"
     ]
    },
    {
     "name": "stdout",
     "output_type": "stream",
     "text": [
      "Chunk Found (36362), adding to: Elden Ring Lore & History\n"
     ]
    },
    {
     "name": "stderr",
     "output_type": "stream",
     "text": [
      "INFO:httpx:HTTP Request: POST https://api.openai.com/v1/chat/completions \"HTTP/1.1 200 OK\"\n",
      "/Users/user/miniconda3/envs/graphmaker/lib/python3.11/site-packages/pydantic/main.py:1087: PydanticDeprecatedSince20: The `dict` method is deprecated; use `model_dump` instead. Deprecated in Pydantic V2.0 to be removed in V3.0. See Pydantic V2 Migration Guide at https://errors.pydantic.dev/2.8/migration/\n",
      "  warnings.warn('The `dict` method is deprecated; use `model_dump` instead.', category=PydanticDeprecatedSince20)\n",
      "INFO:httpx:HTTP Request: POST https://api.openai.com/v1/chat/completions \"HTTP/1.1 200 OK\"\n",
      "/Users/user/miniconda3/envs/graphmaker/lib/python3.11/site-packages/pydantic/main.py:1087: PydanticDeprecatedSince20: The `dict` method is deprecated; use `model_dump` instead. Deprecated in Pydantic V2.0 to be removed in V3.0. See Pydantic V2 Migration Guide at https://errors.pydantic.dev/2.8/migration/\n",
      "  warnings.warn('The `dict` method is deprecated; use `model_dump` instead.', category=PydanticDeprecatedSince20)\n"
     ]
    },
    {
     "name": "stdout",
     "output_type": "stream",
     "text": [
      "\n",
      "Adding: 'The Great Runes were claimed by the six Demigod children of Queen Marika the Eternal.'\n"
     ]
    },
    {
     "name": "stderr",
     "output_type": "stream",
     "text": [
      "INFO:httpx:HTTP Request: POST https://api.openai.com/v1/chat/completions \"HTTP/1.1 200 OK\"\n",
      "/Users/user/miniconda3/envs/graphmaker/lib/python3.11/site-packages/pydantic/main.py:1087: PydanticDeprecatedSince20: The `dict` method is deprecated; use `model_dump` instead. Deprecated in Pydantic V2.0 to be removed in V3.0. See Pydantic V2 Migration Guide at https://errors.pydantic.dev/2.8/migration/\n",
      "  warnings.warn('The `dict` method is deprecated; use `model_dump` instead.', category=PydanticDeprecatedSince20)\n",
      "INFO:httpx:HTTP Request: POST https://api.openai.com/v1/chat/completions \"HTTP/1.1 200 OK\"\n",
      "/Users/user/miniconda3/envs/graphmaker/lib/python3.11/site-packages/pydantic/main.py:1087: PydanticDeprecatedSince20: The `dict` method is deprecated; use `model_dump` instead. Deprecated in Pydantic V2.0 to be removed in V3.0. See Pydantic V2 Migration Guide at https://errors.pydantic.dev/2.8/migration/\n",
      "  warnings.warn('The `dict` method is deprecated; use `model_dump` instead.', category=PydanticDeprecatedSince20)\n"
     ]
    },
    {
     "name": "stdout",
     "output_type": "stream",
     "text": [
      "Chunk Found (36362), adding to: Elden Ring Lore & Mythos\n"
     ]
    },
    {
     "name": "stderr",
     "output_type": "stream",
     "text": [
      "INFO:httpx:HTTP Request: POST https://api.openai.com/v1/chat/completions \"HTTP/1.1 200 OK\"\n",
      "/Users/user/miniconda3/envs/graphmaker/lib/python3.11/site-packages/pydantic/main.py:1087: PydanticDeprecatedSince20: The `dict` method is deprecated; use `model_dump` instead. Deprecated in Pydantic V2.0 to be removed in V3.0. See Pydantic V2 Migration Guide at https://errors.pydantic.dev/2.8/migration/\n",
      "  warnings.warn('The `dict` method is deprecated; use `model_dump` instead.', category=PydanticDeprecatedSince20)\n",
      "INFO:httpx:HTTP Request: POST https://api.openai.com/v1/chat/completions \"HTTP/1.1 200 OK\"\n",
      "/Users/user/miniconda3/envs/graphmaker/lib/python3.11/site-packages/pydantic/main.py:1087: PydanticDeprecatedSince20: The `dict` method is deprecated; use `model_dump` instead. Deprecated in Pydantic V2.0 to be removed in V3.0. See Pydantic V2 Migration Guide at https://errors.pydantic.dev/2.8/migration/\n",
      "  warnings.warn('The `dict` method is deprecated; use `model_dump` instead.', category=PydanticDeprecatedSince20)\n"
     ]
    },
    {
     "name": "stdout",
     "output_type": "stream",
     "text": [
      "\n",
      "Adding: 'The six Demigod children of Queen Marika the Eternal inherited different powers.'\n"
     ]
    },
    {
     "name": "stderr",
     "output_type": "stream",
     "text": [
      "INFO:httpx:HTTP Request: POST https://api.openai.com/v1/chat/completions \"HTTP/1.1 200 OK\"\n",
      "/Users/user/miniconda3/envs/graphmaker/lib/python3.11/site-packages/pydantic/main.py:1087: PydanticDeprecatedSince20: The `dict` method is deprecated; use `model_dump` instead. Deprecated in Pydantic V2.0 to be removed in V3.0. See Pydantic V2 Migration Guide at https://errors.pydantic.dev/2.8/migration/\n",
      "  warnings.warn('The `dict` method is deprecated; use `model_dump` instead.', category=PydanticDeprecatedSince20)\n",
      "INFO:httpx:HTTP Request: POST https://api.openai.com/v1/chat/completions \"HTTP/1.1 200 OK\"\n",
      "/Users/user/miniconda3/envs/graphmaker/lib/python3.11/site-packages/pydantic/main.py:1087: PydanticDeprecatedSince20: The `dict` method is deprecated; use `model_dump` instead. Deprecated in Pydantic V2.0 to be removed in V3.0. See Pydantic V2 Migration Guide at https://errors.pydantic.dev/2.8/migration/\n",
      "  warnings.warn('The `dict` method is deprecated; use `model_dump` instead.', category=PydanticDeprecatedSince20)\n"
     ]
    },
    {
     "name": "stdout",
     "output_type": "stream",
     "text": [
      "Chunk Found (36362), adding to: Elden Ring Lore & History\n"
     ]
    },
    {
     "name": "stderr",
     "output_type": "stream",
     "text": [
      "INFO:httpx:HTTP Request: POST https://api.openai.com/v1/chat/completions \"HTTP/1.1 200 OK\"\n",
      "/Users/user/miniconda3/envs/graphmaker/lib/python3.11/site-packages/pydantic/main.py:1087: PydanticDeprecatedSince20: The `dict` method is deprecated; use `model_dump` instead. Deprecated in Pydantic V2.0 to be removed in V3.0. See Pydantic V2 Migration Guide at https://errors.pydantic.dev/2.8/migration/\n",
      "  warnings.warn('The `dict` method is deprecated; use `model_dump` instead.', category=PydanticDeprecatedSince20)\n",
      "INFO:httpx:HTTP Request: POST https://api.openai.com/v1/chat/completions \"HTTP/1.1 200 OK\"\n",
      "/Users/user/miniconda3/envs/graphmaker/lib/python3.11/site-packages/pydantic/main.py:1087: PydanticDeprecatedSince20: The `dict` method is deprecated; use `model_dump` instead. Deprecated in Pydantic V2.0 to be removed in V3.0. See Pydantic V2 Migration Guide at https://errors.pydantic.dev/2.8/migration/\n",
      "  warnings.warn('The `dict` method is deprecated; use `model_dump` instead.', category=PydanticDeprecatedSince20)\n"
     ]
    },
    {
     "name": "stdout",
     "output_type": "stream",
     "text": [
      "\n",
      "Adding: 'The six Demigod children of Queen Marika the Eternal were physically changed and twisted due to being corrupted by the power of the Great Runes.'\n"
     ]
    },
    {
     "name": "stderr",
     "output_type": "stream",
     "text": [
      "INFO:httpx:HTTP Request: POST https://api.openai.com/v1/chat/completions \"HTTP/1.1 200 OK\"\n",
      "/Users/user/miniconda3/envs/graphmaker/lib/python3.11/site-packages/pydantic/main.py:1087: PydanticDeprecatedSince20: The `dict` method is deprecated; use `model_dump` instead. Deprecated in Pydantic V2.0 to be removed in V3.0. See Pydantic V2 Migration Guide at https://errors.pydantic.dev/2.8/migration/\n",
      "  warnings.warn('The `dict` method is deprecated; use `model_dump` instead.', category=PydanticDeprecatedSince20)\n",
      "INFO:httpx:HTTP Request: POST https://api.openai.com/v1/chat/completions \"HTTP/1.1 200 OK\"\n",
      "/Users/user/miniconda3/envs/graphmaker/lib/python3.11/site-packages/pydantic/main.py:1087: PydanticDeprecatedSince20: The `dict` method is deprecated; use `model_dump` instead. Deprecated in Pydantic V2.0 to be removed in V3.0. See Pydantic V2 Migration Guide at https://errors.pydantic.dev/2.8/migration/\n",
      "  warnings.warn('The `dict` method is deprecated; use `model_dump` instead.', category=PydanticDeprecatedSince20)\n"
     ]
    },
    {
     "name": "stdout",
     "output_type": "stream",
     "text": [
      "Chunk Found (36362), adding to: Elden Ring Lore & Mythos\n"
     ]
    },
    {
     "name": "stderr",
     "output_type": "stream",
     "text": [
      "INFO:httpx:HTTP Request: POST https://api.openai.com/v1/chat/completions \"HTTP/1.1 200 OK\"\n",
      "/Users/user/miniconda3/envs/graphmaker/lib/python3.11/site-packages/pydantic/main.py:1087: PydanticDeprecatedSince20: The `dict` method is deprecated; use `model_dump` instead. Deprecated in Pydantic V2.0 to be removed in V3.0. See Pydantic V2 Migration Guide at https://errors.pydantic.dev/2.8/migration/\n",
      "  warnings.warn('The `dict` method is deprecated; use `model_dump` instead.', category=PydanticDeprecatedSince20)\n",
      "INFO:httpx:HTTP Request: POST https://api.openai.com/v1/chat/completions \"HTTP/1.1 200 OK\"\n",
      "/Users/user/miniconda3/envs/graphmaker/lib/python3.11/site-packages/pydantic/main.py:1087: PydanticDeprecatedSince20: The `dict` method is deprecated; use `model_dump` instead. Deprecated in Pydantic V2.0 to be removed in V3.0. See Pydantic V2 Migration Guide at https://errors.pydantic.dev/2.8/migration/\n",
      "  warnings.warn('The `dict` method is deprecated; use `model_dump` instead.', category=PydanticDeprecatedSince20)\n"
     ]
    },
    {
     "name": "stdout",
     "output_type": "stream",
     "text": [
      "\n",
      "Adding: 'The Lands Between is divided into seven distinct areas.'\n"
     ]
    },
    {
     "name": "stderr",
     "output_type": "stream",
     "text": [
      "INFO:httpx:HTTP Request: POST https://api.openai.com/v1/chat/completions \"HTTP/1.1 200 OK\"\n",
      "/Users/user/miniconda3/envs/graphmaker/lib/python3.11/site-packages/pydantic/main.py:1087: PydanticDeprecatedSince20: The `dict` method is deprecated; use `model_dump` instead. Deprecated in Pydantic V2.0 to be removed in V3.0. See Pydantic V2 Migration Guide at https://errors.pydantic.dev/2.8/migration/\n",
      "  warnings.warn('The `dict` method is deprecated; use `model_dump` instead.', category=PydanticDeprecatedSince20)\n",
      "INFO:httpx:HTTP Request: POST https://api.openai.com/v1/chat/completions \"HTTP/1.1 200 OK\"\n",
      "/Users/user/miniconda3/envs/graphmaker/lib/python3.11/site-packages/pydantic/main.py:1087: PydanticDeprecatedSince20: The `dict` method is deprecated; use `model_dump` instead. Deprecated in Pydantic V2.0 to be removed in V3.0. See Pydantic V2 Migration Guide at https://errors.pydantic.dev/2.8/migration/\n",
      "  warnings.warn('The `dict` method is deprecated; use `model_dump` instead.', category=PydanticDeprecatedSince20)\n"
     ]
    },
    {
     "name": "stdout",
     "output_type": "stream",
     "text": [
      "Chunk Found (36362), adding to: Elden Ring Lore & History\n"
     ]
    },
    {
     "name": "stderr",
     "output_type": "stream",
     "text": [
      "INFO:httpx:HTTP Request: POST https://api.openai.com/v1/chat/completions \"HTTP/1.1 200 OK\"\n",
      "/Users/user/miniconda3/envs/graphmaker/lib/python3.11/site-packages/pydantic/main.py:1087: PydanticDeprecatedSince20: The `dict` method is deprecated; use `model_dump` instead. Deprecated in Pydantic V2.0 to be removed in V3.0. See Pydantic V2 Migration Guide at https://errors.pydantic.dev/2.8/migration/\n",
      "  warnings.warn('The `dict` method is deprecated; use `model_dump` instead.', category=PydanticDeprecatedSince20)\n",
      "INFO:httpx:HTTP Request: POST https://api.openai.com/v1/chat/completions \"HTTP/1.1 200 OK\"\n",
      "/Users/user/miniconda3/envs/graphmaker/lib/python3.11/site-packages/pydantic/main.py:1087: PydanticDeprecatedSince20: The `dict` method is deprecated; use `model_dump` instead. Deprecated in Pydantic V2.0 to be removed in V3.0. See Pydantic V2 Migration Guide at https://errors.pydantic.dev/2.8/migration/\n",
      "  warnings.warn('The `dict` method is deprecated; use `model_dump` instead.', category=PydanticDeprecatedSince20)\n"
     ]
    },
    {
     "name": "stdout",
     "output_type": "stream",
     "text": [
      "\n",
      "Adding: 'Limgrave is an area.'\n"
     ]
    },
    {
     "name": "stderr",
     "output_type": "stream",
     "text": [
      "INFO:httpx:HTTP Request: POST https://api.openai.com/v1/chat/completions \"HTTP/1.1 200 OK\"\n",
      "/Users/user/miniconda3/envs/graphmaker/lib/python3.11/site-packages/pydantic/main.py:1087: PydanticDeprecatedSince20: The `dict` method is deprecated; use `model_dump` instead. Deprecated in Pydantic V2.0 to be removed in V3.0. See Pydantic V2 Migration Guide at https://errors.pydantic.dev/2.8/migration/\n",
      "  warnings.warn('The `dict` method is deprecated; use `model_dump` instead.', category=PydanticDeprecatedSince20)\n",
      "INFO:httpx:HTTP Request: POST https://api.openai.com/v1/chat/completions \"HTTP/1.1 200 OK\"\n",
      "/Users/user/miniconda3/envs/graphmaker/lib/python3.11/site-packages/pydantic/main.py:1087: PydanticDeprecatedSince20: The `dict` method is deprecated; use `model_dump` instead. Deprecated in Pydantic V2.0 to be removed in V3.0. See Pydantic V2 Migration Guide at https://errors.pydantic.dev/2.8/migration/\n",
      "  warnings.warn('The `dict` method is deprecated; use `model_dump` instead.', category=PydanticDeprecatedSince20)\n"
     ]
    },
    {
     "name": "stdout",
     "output_type": "stream",
     "text": [
      "No chunks found\n"
     ]
    },
    {
     "name": "stderr",
     "output_type": "stream",
     "text": [
      "INFO:httpx:HTTP Request: POST https://api.openai.com/v1/chat/completions \"HTTP/1.1 200 OK\"\n",
      "/Users/user/miniconda3/envs/graphmaker/lib/python3.11/site-packages/pydantic/main.py:1087: PydanticDeprecatedSince20: The `dict` method is deprecated; use `model_dump` instead. Deprecated in Pydantic V2.0 to be removed in V3.0. See Pydantic V2 Migration Guide at https://errors.pydantic.dev/2.8/migration/\n",
      "  warnings.warn('The `dict` method is deprecated; use `model_dump` instead.', category=PydanticDeprecatedSince20)\n",
      "INFO:httpx:HTTP Request: POST https://api.openai.com/v1/chat/completions \"HTTP/1.1 200 OK\"\n",
      "/Users/user/miniconda3/envs/graphmaker/lib/python3.11/site-packages/pydantic/main.py:1087: PydanticDeprecatedSince20: The `dict` method is deprecated; use `model_dump` instead. Deprecated in Pydantic V2.0 to be removed in V3.0. See Pydantic V2 Migration Guide at https://errors.pydantic.dev/2.8/migration/\n",
      "  warnings.warn('The `dict` method is deprecated; use `model_dump` instead.', category=PydanticDeprecatedSince20)\n"
     ]
    },
    {
     "name": "stdout",
     "output_type": "stream",
     "text": [
      "Created new chunk (a12a9): Geographical Locations\n",
      "\n",
      "Adding: 'Elden Ring is a video game.'\n"
     ]
    },
    {
     "name": "stderr",
     "output_type": "stream",
     "text": [
      "INFO:httpx:HTTP Request: POST https://api.openai.com/v1/chat/completions \"HTTP/1.1 200 OK\"\n",
      "/Users/user/miniconda3/envs/graphmaker/lib/python3.11/site-packages/pydantic/main.py:1087: PydanticDeprecatedSince20: The `dict` method is deprecated; use `model_dump` instead. Deprecated in Pydantic V2.0 to be removed in V3.0. See Pydantic V2 Migration Guide at https://errors.pydantic.dev/2.8/migration/\n",
      "  warnings.warn('The `dict` method is deprecated; use `model_dump` instead.', category=PydanticDeprecatedSince20)\n",
      "INFO:httpx:HTTP Request: POST https://api.openai.com/v1/chat/completions \"HTTP/1.1 200 OK\"\n",
      "/Users/user/miniconda3/envs/graphmaker/lib/python3.11/site-packages/pydantic/main.py:1087: PydanticDeprecatedSince20: The `dict` method is deprecated; use `model_dump` instead. Deprecated in Pydantic V2.0 to be removed in V3.0. See Pydantic V2 Migration Guide at https://errors.pydantic.dev/2.8/migration/\n",
      "  warnings.warn('The `dict` method is deprecated; use `model_dump` instead.', category=PydanticDeprecatedSince20)\n"
     ]
    },
    {
     "name": "stdout",
     "output_type": "stream",
     "text": [
      "No chunks found\n"
     ]
    },
    {
     "name": "stderr",
     "output_type": "stream",
     "text": [
      "INFO:httpx:HTTP Request: POST https://api.openai.com/v1/chat/completions \"HTTP/1.1 200 OK\"\n",
      "/Users/user/miniconda3/envs/graphmaker/lib/python3.11/site-packages/pydantic/main.py:1087: PydanticDeprecatedSince20: The `dict` method is deprecated; use `model_dump` instead. Deprecated in Pydantic V2.0 to be removed in V3.0. See Pydantic V2 Migration Guide at https://errors.pydantic.dev/2.8/migration/\n",
      "  warnings.warn('The `dict` method is deprecated; use `model_dump` instead.', category=PydanticDeprecatedSince20)\n",
      "INFO:httpx:HTTP Request: POST https://api.openai.com/v1/chat/completions \"HTTP/1.1 200 OK\"\n",
      "/Users/user/miniconda3/envs/graphmaker/lib/python3.11/site-packages/pydantic/main.py:1087: PydanticDeprecatedSince20: The `dict` method is deprecated; use `model_dump` instead. Deprecated in Pydantic V2.0 to be removed in V3.0. See Pydantic V2 Migration Guide at https://errors.pydantic.dev/2.8/migration/\n",
      "  warnings.warn('The `dict` method is deprecated; use `model_dump` instead.', category=PydanticDeprecatedSince20)\n"
     ]
    },
    {
     "name": "stdout",
     "output_type": "stream",
     "text": [
      "Created new chunk (9a920): Video Games\n",
      "\n",
      "Adding: 'Hidetaka Miyazaki is a game director.'\n"
     ]
    },
    {
     "name": "stderr",
     "output_type": "stream",
     "text": [
      "INFO:httpx:HTTP Request: POST https://api.openai.com/v1/chat/completions \"HTTP/1.1 200 OK\"\n",
      "/Users/user/miniconda3/envs/graphmaker/lib/python3.11/site-packages/pydantic/main.py:1087: PydanticDeprecatedSince20: The `dict` method is deprecated; use `model_dump` instead. Deprecated in Pydantic V2.0 to be removed in V3.0. See Pydantic V2 Migration Guide at https://errors.pydantic.dev/2.8/migration/\n",
      "  warnings.warn('The `dict` method is deprecated; use `model_dump` instead.', category=PydanticDeprecatedSince20)\n",
      "INFO:httpx:HTTP Request: POST https://api.openai.com/v1/chat/completions \"HTTP/1.1 200 OK\"\n",
      "/Users/user/miniconda3/envs/graphmaker/lib/python3.11/site-packages/pydantic/main.py:1087: PydanticDeprecatedSince20: The `dict` method is deprecated; use `model_dump` instead. Deprecated in Pydantic V2.0 to be removed in V3.0. See Pydantic V2 Migration Guide at https://errors.pydantic.dev/2.8/migration/\n",
      "  warnings.warn('The `dict` method is deprecated; use `model_dump` instead.', category=PydanticDeprecatedSince20)\n"
     ]
    },
    {
     "name": "stdout",
     "output_type": "stream",
     "text": [
      "No chunks found\n"
     ]
    },
    {
     "name": "stderr",
     "output_type": "stream",
     "text": [
      "INFO:httpx:HTTP Request: POST https://api.openai.com/v1/chat/completions \"HTTP/1.1 200 OK\"\n",
      "/Users/user/miniconda3/envs/graphmaker/lib/python3.11/site-packages/pydantic/main.py:1087: PydanticDeprecatedSince20: The `dict` method is deprecated; use `model_dump` instead. Deprecated in Pydantic V2.0 to be removed in V3.0. See Pydantic V2 Migration Guide at https://errors.pydantic.dev/2.8/migration/\n",
      "  warnings.warn('The `dict` method is deprecated; use `model_dump` instead.', category=PydanticDeprecatedSince20)\n",
      "INFO:httpx:HTTP Request: POST https://api.openai.com/v1/chat/completions \"HTTP/1.1 200 OK\"\n",
      "/Users/user/miniconda3/envs/graphmaker/lib/python3.11/site-packages/pydantic/main.py:1087: PydanticDeprecatedSince20: The `dict` method is deprecated; use `model_dump` instead. Deprecated in Pydantic V2.0 to be removed in V3.0. See Pydantic V2 Migration Guide at https://errors.pydantic.dev/2.8/migration/\n",
      "  warnings.warn('The `dict` method is deprecated; use `model_dump` instead.', category=PydanticDeprecatedSince20)\n"
     ]
    },
    {
     "name": "stdout",
     "output_type": "stream",
     "text": [
      "Created new chunk (6c4bd): Video Game Industry Figures\n",
      "\n",
      "Adding: 'Melina is one of the first people the Tarnished encounters on their journey.'\n"
     ]
    },
    {
     "name": "stderr",
     "output_type": "stream",
     "text": [
      "INFO:httpx:HTTP Request: POST https://api.openai.com/v1/chat/completions \"HTTP/1.1 200 OK\"\n",
      "/Users/user/miniconda3/envs/graphmaker/lib/python3.11/site-packages/pydantic/main.py:1087: PydanticDeprecatedSince20: The `dict` method is deprecated; use `model_dump` instead. Deprecated in Pydantic V2.0 to be removed in V3.0. See Pydantic V2 Migration Guide at https://errors.pydantic.dev/2.8/migration/\n",
      "  warnings.warn('The `dict` method is deprecated; use `model_dump` instead.', category=PydanticDeprecatedSince20)\n",
      "INFO:httpx:HTTP Request: POST https://api.openai.com/v1/chat/completions \"HTTP/1.1 200 OK\"\n",
      "/Users/user/miniconda3/envs/graphmaker/lib/python3.11/site-packages/pydantic/main.py:1087: PydanticDeprecatedSince20: The `dict` method is deprecated; use `model_dump` instead. Deprecated in Pydantic V2.0 to be removed in V3.0. See Pydantic V2 Migration Guide at https://errors.pydantic.dev/2.8/migration/\n",
      "  warnings.warn('The `dict` method is deprecated; use `model_dump` instead.', category=PydanticDeprecatedSince20)\n"
     ]
    },
    {
     "name": "stdout",
     "output_type": "stream",
     "text": [
      "Chunk Found (36362), adding to: Elden Ring Lore & Mythos\n"
     ]
    },
    {
     "name": "stderr",
     "output_type": "stream",
     "text": [
      "INFO:httpx:HTTP Request: POST https://api.openai.com/v1/chat/completions \"HTTP/1.1 200 OK\"\n",
      "/Users/user/miniconda3/envs/graphmaker/lib/python3.11/site-packages/pydantic/main.py:1087: PydanticDeprecatedSince20: The `dict` method is deprecated; use `model_dump` instead. Deprecated in Pydantic V2.0 to be removed in V3.0. See Pydantic V2 Migration Guide at https://errors.pydantic.dev/2.8/migration/\n",
      "  warnings.warn('The `dict` method is deprecated; use `model_dump` instead.', category=PydanticDeprecatedSince20)\n",
      "INFO:httpx:HTTP Request: POST https://api.openai.com/v1/chat/completions \"HTTP/1.1 200 OK\"\n",
      "/Users/user/miniconda3/envs/graphmaker/lib/python3.11/site-packages/pydantic/main.py:1087: PydanticDeprecatedSince20: The `dict` method is deprecated; use `model_dump` instead. Deprecated in Pydantic V2.0 to be removed in V3.0. See Pydantic V2 Migration Guide at https://errors.pydantic.dev/2.8/migration/\n",
      "  warnings.warn('The `dict` method is deprecated; use `model_dump` instead.', category=PydanticDeprecatedSince20)\n"
     ]
    },
    {
     "name": "stdout",
     "output_type": "stream",
     "text": [
      "\n",
      "Adding: 'Melina maintains an air of mystery throughout the game.'\n"
     ]
    },
    {
     "name": "stderr",
     "output_type": "stream",
     "text": [
      "INFO:httpx:HTTP Request: POST https://api.openai.com/v1/chat/completions \"HTTP/1.1 200 OK\"\n",
      "/Users/user/miniconda3/envs/graphmaker/lib/python3.11/site-packages/pydantic/main.py:1087: PydanticDeprecatedSince20: The `dict` method is deprecated; use `model_dump` instead. Deprecated in Pydantic V2.0 to be removed in V3.0. See Pydantic V2 Migration Guide at https://errors.pydantic.dev/2.8/migration/\n",
      "  warnings.warn('The `dict` method is deprecated; use `model_dump` instead.', category=PydanticDeprecatedSince20)\n",
      "INFO:httpx:HTTP Request: POST https://api.openai.com/v1/chat/completions \"HTTP/1.1 200 OK\"\n",
      "/Users/user/miniconda3/envs/graphmaker/lib/python3.11/site-packages/pydantic/main.py:1087: PydanticDeprecatedSince20: The `dict` method is deprecated; use `model_dump` instead. Deprecated in Pydantic V2.0 to be removed in V3.0. See Pydantic V2 Migration Guide at https://errors.pydantic.dev/2.8/migration/\n",
      "  warnings.warn('The `dict` method is deprecated; use `model_dump` instead.', category=PydanticDeprecatedSince20)\n"
     ]
    },
    {
     "name": "stdout",
     "output_type": "stream",
     "text": [
      "Chunk Found (36362), adding to: Elden Ring Lore & History\n"
     ]
    },
    {
     "name": "stderr",
     "output_type": "stream",
     "text": [
      "INFO:httpx:HTTP Request: POST https://api.openai.com/v1/chat/completions \"HTTP/1.1 200 OK\"\n",
      "/Users/user/miniconda3/envs/graphmaker/lib/python3.11/site-packages/pydantic/main.py:1087: PydanticDeprecatedSince20: The `dict` method is deprecated; use `model_dump` instead. Deprecated in Pydantic V2.0 to be removed in V3.0. See Pydantic V2 Migration Guide at https://errors.pydantic.dev/2.8/migration/\n",
      "  warnings.warn('The `dict` method is deprecated; use `model_dump` instead.', category=PydanticDeprecatedSince20)\n",
      "INFO:httpx:HTTP Request: POST https://api.openai.com/v1/chat/completions \"HTTP/1.1 200 OK\"\n",
      "/Users/user/miniconda3/envs/graphmaker/lib/python3.11/site-packages/pydantic/main.py:1087: PydanticDeprecatedSince20: The `dict` method is deprecated; use `model_dump` instead. Deprecated in Pydantic V2.0 to be removed in V3.0. See Pydantic V2 Migration Guide at https://errors.pydantic.dev/2.8/migration/\n",
      "  warnings.warn('The `dict` method is deprecated; use `model_dump` instead.', category=PydanticDeprecatedSince20)\n"
     ]
    },
    {
     "name": "stdout",
     "output_type": "stream",
     "text": [
      "\n",
      "Adding: 'Melina does not have a physical form.'\n"
     ]
    },
    {
     "name": "stderr",
     "output_type": "stream",
     "text": [
      "INFO:httpx:HTTP Request: POST https://api.openai.com/v1/chat/completions \"HTTP/1.1 200 OK\"\n",
      "/Users/user/miniconda3/envs/graphmaker/lib/python3.11/site-packages/pydantic/main.py:1087: PydanticDeprecatedSince20: The `dict` method is deprecated; use `model_dump` instead. Deprecated in Pydantic V2.0 to be removed in V3.0. See Pydantic V2 Migration Guide at https://errors.pydantic.dev/2.8/migration/\n",
      "  warnings.warn('The `dict` method is deprecated; use `model_dump` instead.', category=PydanticDeprecatedSince20)\n",
      "INFO:httpx:HTTP Request: POST https://api.openai.com/v1/chat/completions \"HTTP/1.1 200 OK\"\n",
      "/Users/user/miniconda3/envs/graphmaker/lib/python3.11/site-packages/pydantic/main.py:1087: PydanticDeprecatedSince20: The `dict` method is deprecated; use `model_dump` instead. Deprecated in Pydantic V2.0 to be removed in V3.0. See Pydantic V2 Migration Guide at https://errors.pydantic.dev/2.8/migration/\n",
      "  warnings.warn('The `dict` method is deprecated; use `model_dump` instead.', category=PydanticDeprecatedSince20)\n"
     ]
    },
    {
     "name": "stdout",
     "output_type": "stream",
     "text": [
      "Chunk Found (36362), adding to: Elden Ring Lore & Mythos\n"
     ]
    },
    {
     "name": "stderr",
     "output_type": "stream",
     "text": [
      "INFO:httpx:HTTP Request: POST https://api.openai.com/v1/chat/completions \"HTTP/1.1 200 OK\"\n",
      "/Users/user/miniconda3/envs/graphmaker/lib/python3.11/site-packages/pydantic/main.py:1087: PydanticDeprecatedSince20: The `dict` method is deprecated; use `model_dump` instead. Deprecated in Pydantic V2.0 to be removed in V3.0. See Pydantic V2 Migration Guide at https://errors.pydantic.dev/2.8/migration/\n",
      "  warnings.warn('The `dict` method is deprecated; use `model_dump` instead.', category=PydanticDeprecatedSince20)\n",
      "INFO:httpx:HTTP Request: POST https://api.openai.com/v1/chat/completions \"HTTP/1.1 200 OK\"\n",
      "/Users/user/miniconda3/envs/graphmaker/lib/python3.11/site-packages/pydantic/main.py:1087: PydanticDeprecatedSince20: The `dict` method is deprecated; use `model_dump` instead. Deprecated in Pydantic V2.0 to be removed in V3.0. See Pydantic V2 Migration Guide at https://errors.pydantic.dev/2.8/migration/\n",
      "  warnings.warn('The `dict` method is deprecated; use `model_dump` instead.', category=PydanticDeprecatedSince20)\n"
     ]
    },
    {
     "name": "stdout",
     "output_type": "stream",
     "text": [
      "\n",
      "Adding: 'Melina acts as the Tarnished's Finger Maiden in exchange for taking Melina to the Erdtree.'\n"
     ]
    },
    {
     "name": "stderr",
     "output_type": "stream",
     "text": [
      "INFO:httpx:HTTP Request: POST https://api.openai.com/v1/chat/completions \"HTTP/1.1 200 OK\"\n",
      "/Users/user/miniconda3/envs/graphmaker/lib/python3.11/site-packages/pydantic/main.py:1087: PydanticDeprecatedSince20: The `dict` method is deprecated; use `model_dump` instead. Deprecated in Pydantic V2.0 to be removed in V3.0. See Pydantic V2 Migration Guide at https://errors.pydantic.dev/2.8/migration/\n",
      "  warnings.warn('The `dict` method is deprecated; use `model_dump` instead.', category=PydanticDeprecatedSince20)\n",
      "INFO:httpx:HTTP Request: POST https://api.openai.com/v1/chat/completions \"HTTP/1.1 200 OK\"\n",
      "/Users/user/miniconda3/envs/graphmaker/lib/python3.11/site-packages/pydantic/main.py:1087: PydanticDeprecatedSince20: The `dict` method is deprecated; use `model_dump` instead. Deprecated in Pydantic V2.0 to be removed in V3.0. See Pydantic V2 Migration Guide at https://errors.pydantic.dev/2.8/migration/\n",
      "  warnings.warn('The `dict` method is deprecated; use `model_dump` instead.', category=PydanticDeprecatedSince20)\n"
     ]
    },
    {
     "name": "stdout",
     "output_type": "stream",
     "text": [
      "Chunk Found (36362), adding to: Elden Ring Lore & History\n"
     ]
    },
    {
     "name": "stderr",
     "output_type": "stream",
     "text": [
      "INFO:httpx:HTTP Request: POST https://api.openai.com/v1/chat/completions \"HTTP/1.1 200 OK\"\n",
      "/Users/user/miniconda3/envs/graphmaker/lib/python3.11/site-packages/pydantic/main.py:1087: PydanticDeprecatedSince20: The `dict` method is deprecated; use `model_dump` instead. Deprecated in Pydantic V2.0 to be removed in V3.0. See Pydantic V2 Migration Guide at https://errors.pydantic.dev/2.8/migration/\n",
      "  warnings.warn('The `dict` method is deprecated; use `model_dump` instead.', category=PydanticDeprecatedSince20)\n",
      "INFO:httpx:HTTP Request: POST https://api.openai.com/v1/chat/completions \"HTTP/1.1 200 OK\"\n",
      "/Users/user/miniconda3/envs/graphmaker/lib/python3.11/site-packages/pydantic/main.py:1087: PydanticDeprecatedSince20: The `dict` method is deprecated; use `model_dump` instead. Deprecated in Pydantic V2.0 to be removed in V3.0. See Pydantic V2 Migration Guide at https://errors.pydantic.dev/2.8/migration/\n",
      "  warnings.warn('The `dict` method is deprecated; use `model_dump` instead.', category=PydanticDeprecatedSince20)\n"
     ]
    },
    {
     "name": "stdout",
     "output_type": "stream",
     "text": [
      "\n",
      "Adding: 'Later on, Melina asks the Tarnished to take her to the Mountaintops of the Giants.'\n"
     ]
    },
    {
     "name": "stderr",
     "output_type": "stream",
     "text": [
      "INFO:httpx:HTTP Request: POST https://api.openai.com/v1/chat/completions \"HTTP/1.1 200 OK\"\n",
      "/Users/user/miniconda3/envs/graphmaker/lib/python3.11/site-packages/pydantic/main.py:1087: PydanticDeprecatedSince20: The `dict` method is deprecated; use `model_dump` instead. Deprecated in Pydantic V2.0 to be removed in V3.0. See Pydantic V2 Migration Guide at https://errors.pydantic.dev/2.8/migration/\n",
      "  warnings.warn('The `dict` method is deprecated; use `model_dump` instead.', category=PydanticDeprecatedSince20)\n",
      "INFO:httpx:HTTP Request: POST https://api.openai.com/v1/chat/completions \"HTTP/1.1 200 OK\"\n",
      "/Users/user/miniconda3/envs/graphmaker/lib/python3.11/site-packages/pydantic/main.py:1087: PydanticDeprecatedSince20: The `dict` method is deprecated; use `model_dump` instead. Deprecated in Pydantic V2.0 to be removed in V3.0. See Pydantic V2 Migration Guide at https://errors.pydantic.dev/2.8/migration/\n",
      "  warnings.warn('The `dict` method is deprecated; use `model_dump` instead.', category=PydanticDeprecatedSince20)\n"
     ]
    },
    {
     "name": "stdout",
     "output_type": "stream",
     "text": [
      "Chunk Found (36362), adding to: Elden Ring Lore & Mythos\n"
     ]
    },
    {
     "name": "stderr",
     "output_type": "stream",
     "text": [
      "INFO:httpx:HTTP Request: POST https://api.openai.com/v1/chat/completions \"HTTP/1.1 200 OK\"\n",
      "/Users/user/miniconda3/envs/graphmaker/lib/python3.11/site-packages/pydantic/main.py:1087: PydanticDeprecatedSince20: The `dict` method is deprecated; use `model_dump` instead. Deprecated in Pydantic V2.0 to be removed in V3.0. See Pydantic V2 Migration Guide at https://errors.pydantic.dev/2.8/migration/\n",
      "  warnings.warn('The `dict` method is deprecated; use `model_dump` instead.', category=PydanticDeprecatedSince20)\n",
      "INFO:httpx:HTTP Request: POST https://api.openai.com/v1/chat/completions \"HTTP/1.1 200 OK\"\n",
      "/Users/user/miniconda3/envs/graphmaker/lib/python3.11/site-packages/pydantic/main.py:1087: PydanticDeprecatedSince20: The `dict` method is deprecated; use `model_dump` instead. Deprecated in Pydantic V2.0 to be removed in V3.0. See Pydantic V2 Migration Guide at https://errors.pydantic.dev/2.8/migration/\n",
      "  warnings.warn('The `dict` method is deprecated; use `model_dump` instead.', category=PydanticDeprecatedSince20)\n"
     ]
    },
    {
     "name": "stdout",
     "output_type": "stream",
     "text": [
      "\n",
      "Adding: 'Melina approaches the Tarnished to aid her in her search for her purpose.'\n"
     ]
    },
    {
     "name": "stderr",
     "output_type": "stream",
     "text": [
      "INFO:httpx:HTTP Request: POST https://api.openai.com/v1/chat/completions \"HTTP/1.1 200 OK\"\n",
      "/Users/user/miniconda3/envs/graphmaker/lib/python3.11/site-packages/pydantic/main.py:1087: PydanticDeprecatedSince20: The `dict` method is deprecated; use `model_dump` instead. Deprecated in Pydantic V2.0 to be removed in V3.0. See Pydantic V2 Migration Guide at https://errors.pydantic.dev/2.8/migration/\n",
      "  warnings.warn('The `dict` method is deprecated; use `model_dump` instead.', category=PydanticDeprecatedSince20)\n",
      "INFO:httpx:HTTP Request: POST https://api.openai.com/v1/chat/completions \"HTTP/1.1 200 OK\"\n",
      "/Users/user/miniconda3/envs/graphmaker/lib/python3.11/site-packages/pydantic/main.py:1087: PydanticDeprecatedSince20: The `dict` method is deprecated; use `model_dump` instead. Deprecated in Pydantic V2.0 to be removed in V3.0. See Pydantic V2 Migration Guide at https://errors.pydantic.dev/2.8/migration/\n",
      "  warnings.warn('The `dict` method is deprecated; use `model_dump` instead.', category=PydanticDeprecatedSince20)\n"
     ]
    },
    {
     "name": "stdout",
     "output_type": "stream",
     "text": [
      "Chunk Found (36362), adding to: Elden Ring Lore & History\n"
     ]
    },
    {
     "name": "stderr",
     "output_type": "stream",
     "text": [
      "INFO:httpx:HTTP Request: POST https://api.openai.com/v1/chat/completions \"HTTP/1.1 200 OK\"\n",
      "/Users/user/miniconda3/envs/graphmaker/lib/python3.11/site-packages/pydantic/main.py:1087: PydanticDeprecatedSince20: The `dict` method is deprecated; use `model_dump` instead. Deprecated in Pydantic V2.0 to be removed in V3.0. See Pydantic V2 Migration Guide at https://errors.pydantic.dev/2.8/migration/\n",
      "  warnings.warn('The `dict` method is deprecated; use `model_dump` instead.', category=PydanticDeprecatedSince20)\n",
      "INFO:httpx:HTTP Request: POST https://api.openai.com/v1/chat/completions \"HTTP/1.1 200 OK\"\n",
      "/Users/user/miniconda3/envs/graphmaker/lib/python3.11/site-packages/pydantic/main.py:1087: PydanticDeprecatedSince20: The `dict` method is deprecated; use `model_dump` instead. Deprecated in Pydantic V2.0 to be removed in V3.0. See Pydantic V2 Migration Guide at https://errors.pydantic.dev/2.8/migration/\n",
      "  warnings.warn('The `dict` method is deprecated; use `model_dump` instead.', category=PydanticDeprecatedSince20)\n"
     ]
    },
    {
     "name": "stdout",
     "output_type": "stream",
     "text": [
      "\n",
      "Adding: 'Melina believes that her purpose was given to her by her mother.'\n"
     ]
    },
    {
     "name": "stderr",
     "output_type": "stream",
     "text": [
      "INFO:httpx:HTTP Request: POST https://api.openai.com/v1/chat/completions \"HTTP/1.1 200 OK\"\n",
      "/Users/user/miniconda3/envs/graphmaker/lib/python3.11/site-packages/pydantic/main.py:1087: PydanticDeprecatedSince20: The `dict` method is deprecated; use `model_dump` instead. Deprecated in Pydantic V2.0 to be removed in V3.0. See Pydantic V2 Migration Guide at https://errors.pydantic.dev/2.8/migration/\n",
      "  warnings.warn('The `dict` method is deprecated; use `model_dump` instead.', category=PydanticDeprecatedSince20)\n",
      "INFO:httpx:HTTP Request: POST https://api.openai.com/v1/chat/completions \"HTTP/1.1 200 OK\"\n",
      "/Users/user/miniconda3/envs/graphmaker/lib/python3.11/site-packages/pydantic/main.py:1087: PydanticDeprecatedSince20: The `dict` method is deprecated; use `model_dump` instead. Deprecated in Pydantic V2.0 to be removed in V3.0. See Pydantic V2 Migration Guide at https://errors.pydantic.dev/2.8/migration/\n",
      "  warnings.warn('The `dict` method is deprecated; use `model_dump` instead.', category=PydanticDeprecatedSince20)\n"
     ]
    },
    {
     "name": "stdout",
     "output_type": "stream",
     "text": [
      "Chunk Found (36362), adding to: Elden Ring Lore & Mythos\n"
     ]
    },
    {
     "name": "stderr",
     "output_type": "stream",
     "text": [
      "INFO:httpx:HTTP Request: POST https://api.openai.com/v1/chat/completions \"HTTP/1.1 200 OK\"\n",
      "/Users/user/miniconda3/envs/graphmaker/lib/python3.11/site-packages/pydantic/main.py:1087: PydanticDeprecatedSince20: The `dict` method is deprecated; use `model_dump` instead. Deprecated in Pydantic V2.0 to be removed in V3.0. See Pydantic V2 Migration Guide at https://errors.pydantic.dev/2.8/migration/\n",
      "  warnings.warn('The `dict` method is deprecated; use `model_dump` instead.', category=PydanticDeprecatedSince20)\n",
      "INFO:httpx:HTTP Request: POST https://api.openai.com/v1/chat/completions \"HTTP/1.1 200 OK\"\n",
      "/Users/user/miniconda3/envs/graphmaker/lib/python3.11/site-packages/pydantic/main.py:1087: PydanticDeprecatedSince20: The `dict` method is deprecated; use `model_dump` instead. Deprecated in Pydantic V2.0 to be removed in V3.0. See Pydantic V2 Migration Guide at https://errors.pydantic.dev/2.8/migration/\n",
      "  warnings.warn('The `dict` method is deprecated; use `model_dump` instead.', category=PydanticDeprecatedSince20)\n"
     ]
    },
    {
     "name": "stdout",
     "output_type": "stream",
     "text": [
      "\n",
      "Adding: 'Melina believes that her mother can be found at the base of the Erdtree.'\n"
     ]
    },
    {
     "name": "stderr",
     "output_type": "stream",
     "text": [
      "INFO:httpx:HTTP Request: POST https://api.openai.com/v1/chat/completions \"HTTP/1.1 200 OK\"\n",
      "/Users/user/miniconda3/envs/graphmaker/lib/python3.11/site-packages/pydantic/main.py:1087: PydanticDeprecatedSince20: The `dict` method is deprecated; use `model_dump` instead. Deprecated in Pydantic V2.0 to be removed in V3.0. See Pydantic V2 Migration Guide at https://errors.pydantic.dev/2.8/migration/\n",
      "  warnings.warn('The `dict` method is deprecated; use `model_dump` instead.', category=PydanticDeprecatedSince20)\n",
      "INFO:httpx:HTTP Request: POST https://api.openai.com/v1/chat/completions \"HTTP/1.1 200 OK\"\n",
      "/Users/user/miniconda3/envs/graphmaker/lib/python3.11/site-packages/pydantic/main.py:1087: PydanticDeprecatedSince20: The `dict` method is deprecated; use `model_dump` instead. Deprecated in Pydantic V2.0 to be removed in V3.0. See Pydantic V2 Migration Guide at https://errors.pydantic.dev/2.8/migration/\n",
      "  warnings.warn('The `dict` method is deprecated; use `model_dump` instead.', category=PydanticDeprecatedSince20)\n"
     ]
    },
    {
     "name": "stdout",
     "output_type": "stream",
     "text": [
      "Chunk Found (36362), adding to: Elden Ring Lore & History\n"
     ]
    },
    {
     "name": "stderr",
     "output_type": "stream",
     "text": [
      "INFO:httpx:HTTP Request: POST https://api.openai.com/v1/chat/completions \"HTTP/1.1 200 OK\"\n",
      "/Users/user/miniconda3/envs/graphmaker/lib/python3.11/site-packages/pydantic/main.py:1087: PydanticDeprecatedSince20: The `dict` method is deprecated; use `model_dump` instead. Deprecated in Pydantic V2.0 to be removed in V3.0. See Pydantic V2 Migration Guide at https://errors.pydantic.dev/2.8/migration/\n",
      "  warnings.warn('The `dict` method is deprecated; use `model_dump` instead.', category=PydanticDeprecatedSince20)\n",
      "INFO:httpx:HTTP Request: POST https://api.openai.com/v1/chat/completions \"HTTP/1.1 200 OK\"\n",
      "/Users/user/miniconda3/envs/graphmaker/lib/python3.11/site-packages/pydantic/main.py:1087: PydanticDeprecatedSince20: The `dict` method is deprecated; use `model_dump` instead. Deprecated in Pydantic V2.0 to be removed in V3.0. See Pydantic V2 Migration Guide at https://errors.pydantic.dev/2.8/migration/\n",
      "  warnings.warn('The `dict` method is deprecated; use `model_dump` instead.', category=PydanticDeprecatedSince20)\n"
     ]
    },
    {
     "name": "stdout",
     "output_type": "stream",
     "text": [
      "\n",
      "Adding: 'Many people speculate that Melina's mother is Marika.'\n"
     ]
    },
    {
     "name": "stderr",
     "output_type": "stream",
     "text": [
      "INFO:httpx:HTTP Request: POST https://api.openai.com/v1/chat/completions \"HTTP/1.1 200 OK\"\n",
      "/Users/user/miniconda3/envs/graphmaker/lib/python3.11/site-packages/pydantic/main.py:1087: PydanticDeprecatedSince20: The `dict` method is deprecated; use `model_dump` instead. Deprecated in Pydantic V2.0 to be removed in V3.0. See Pydantic V2 Migration Guide at https://errors.pydantic.dev/2.8/migration/\n",
      "  warnings.warn('The `dict` method is deprecated; use `model_dump` instead.', category=PydanticDeprecatedSince20)\n",
      "INFO:httpx:HTTP Request: POST https://api.openai.com/v1/chat/completions \"HTTP/1.1 200 OK\"\n",
      "/Users/user/miniconda3/envs/graphmaker/lib/python3.11/site-packages/pydantic/main.py:1087: PydanticDeprecatedSince20: The `dict` method is deprecated; use `model_dump` instead. Deprecated in Pydantic V2.0 to be removed in V3.0. See Pydantic V2 Migration Guide at https://errors.pydantic.dev/2.8/migration/\n",
      "  warnings.warn('The `dict` method is deprecated; use `model_dump` instead.', category=PydanticDeprecatedSince20)\n"
     ]
    },
    {
     "name": "stdout",
     "output_type": "stream",
     "text": [
      "Chunk Found (36362), adding to: Elden Ring Lore & Mythos\n"
     ]
    },
    {
     "name": "stderr",
     "output_type": "stream",
     "text": [
      "INFO:httpx:HTTP Request: POST https://api.openai.com/v1/chat/completions \"HTTP/1.1 200 OK\"\n",
      "/Users/user/miniconda3/envs/graphmaker/lib/python3.11/site-packages/pydantic/main.py:1087: PydanticDeprecatedSince20: The `dict` method is deprecated; use `model_dump` instead. Deprecated in Pydantic V2.0 to be removed in V3.0. See Pydantic V2 Migration Guide at https://errors.pydantic.dev/2.8/migration/\n",
      "  warnings.warn('The `dict` method is deprecated; use `model_dump` instead.', category=PydanticDeprecatedSince20)\n",
      "INFO:httpx:HTTP Request: POST https://api.openai.com/v1/chat/completions \"HTTP/1.1 200 OK\"\n",
      "/Users/user/miniconda3/envs/graphmaker/lib/python3.11/site-packages/pydantic/main.py:1087: PydanticDeprecatedSince20: The `dict` method is deprecated; use `model_dump` instead. Deprecated in Pydantic V2.0 to be removed in V3.0. See Pydantic V2 Migration Guide at https://errors.pydantic.dev/2.8/migration/\n",
      "  warnings.warn('The `dict` method is deprecated; use `model_dump` instead.', category=PydanticDeprecatedSince20)\n"
     ]
    },
    {
     "name": "stdout",
     "output_type": "stream",
     "text": [
      "\n",
      "Adding: 'When summoned, Melina wields the Blade of Calling.'\n"
     ]
    },
    {
     "name": "stderr",
     "output_type": "stream",
     "text": [
      "INFO:httpx:HTTP Request: POST https://api.openai.com/v1/chat/completions \"HTTP/1.1 200 OK\"\n",
      "/Users/user/miniconda3/envs/graphmaker/lib/python3.11/site-packages/pydantic/main.py:1087: PydanticDeprecatedSince20: The `dict` method is deprecated; use `model_dump` instead. Deprecated in Pydantic V2.0 to be removed in V3.0. See Pydantic V2 Migration Guide at https://errors.pydantic.dev/2.8/migration/\n",
      "  warnings.warn('The `dict` method is deprecated; use `model_dump` instead.', category=PydanticDeprecatedSince20)\n",
      "INFO:httpx:HTTP Request: POST https://api.openai.com/v1/chat/completions \"HTTP/1.1 200 OK\"\n",
      "/Users/user/miniconda3/envs/graphmaker/lib/python3.11/site-packages/pydantic/main.py:1087: PydanticDeprecatedSince20: The `dict` method is deprecated; use `model_dump` instead. Deprecated in Pydantic V2.0 to be removed in V3.0. See Pydantic V2 Migration Guide at https://errors.pydantic.dev/2.8/migration/\n",
      "  warnings.warn('The `dict` method is deprecated; use `model_dump` instead.', category=PydanticDeprecatedSince20)\n"
     ]
    },
    {
     "name": "stdout",
     "output_type": "stream",
     "text": [
      "Chunk Found (36362), adding to: Elden Ring Lore & History\n"
     ]
    },
    {
     "name": "stderr",
     "output_type": "stream",
     "text": [
      "INFO:httpx:HTTP Request: POST https://api.openai.com/v1/chat/completions \"HTTP/1.1 200 OK\"\n",
      "/Users/user/miniconda3/envs/graphmaker/lib/python3.11/site-packages/pydantic/main.py:1087: PydanticDeprecatedSince20: The `dict` method is deprecated; use `model_dump` instead. Deprecated in Pydantic V2.0 to be removed in V3.0. See Pydantic V2 Migration Guide at https://errors.pydantic.dev/2.8/migration/\n",
      "  warnings.warn('The `dict` method is deprecated; use `model_dump` instead.', category=PydanticDeprecatedSince20)\n",
      "INFO:httpx:HTTP Request: POST https://api.openai.com/v1/chat/completions \"HTTP/1.1 200 OK\"\n",
      "/Users/user/miniconda3/envs/graphmaker/lib/python3.11/site-packages/pydantic/main.py:1087: PydanticDeprecatedSince20: The `dict` method is deprecated; use `model_dump` instead. Deprecated in Pydantic V2.0 to be removed in V3.0. See Pydantic V2 Migration Guide at https://errors.pydantic.dev/2.8/migration/\n",
      "  warnings.warn('The `dict` method is deprecated; use `model_dump` instead.', category=PydanticDeprecatedSince20)\n"
     ]
    },
    {
     "name": "stdout",
     "output_type": "stream",
     "text": [
      "\n",
      "Adding: 'The Blade of Calling is a dagger that was previously owned by the kindling maiden.'\n"
     ]
    },
    {
     "name": "stderr",
     "output_type": "stream",
     "text": [
      "INFO:httpx:HTTP Request: POST https://api.openai.com/v1/chat/completions \"HTTP/1.1 200 OK\"\n",
      "/Users/user/miniconda3/envs/graphmaker/lib/python3.11/site-packages/pydantic/main.py:1087: PydanticDeprecatedSince20: The `dict` method is deprecated; use `model_dump` instead. Deprecated in Pydantic V2.0 to be removed in V3.0. See Pydantic V2 Migration Guide at https://errors.pydantic.dev/2.8/migration/\n",
      "  warnings.warn('The `dict` method is deprecated; use `model_dump` instead.', category=PydanticDeprecatedSince20)\n",
      "INFO:httpx:HTTP Request: POST https://api.openai.com/v1/chat/completions \"HTTP/1.1 200 OK\"\n",
      "/Users/user/miniconda3/envs/graphmaker/lib/python3.11/site-packages/pydantic/main.py:1087: PydanticDeprecatedSince20: The `dict` method is deprecated; use `model_dump` instead. Deprecated in Pydantic V2.0 to be removed in V3.0. See Pydantic V2 Migration Guide at https://errors.pydantic.dev/2.8/migration/\n",
      "  warnings.warn('The `dict` method is deprecated; use `model_dump` instead.', category=PydanticDeprecatedSince20)\n"
     ]
    },
    {
     "name": "stdout",
     "output_type": "stream",
     "text": [
      "Chunk Found (36362), adding to: Elden Ring Lore & Mythos\n"
     ]
    },
    {
     "name": "stderr",
     "output_type": "stream",
     "text": [
      "INFO:httpx:HTTP Request: POST https://api.openai.com/v1/chat/completions \"HTTP/1.1 200 OK\"\n",
      "/Users/user/miniconda3/envs/graphmaker/lib/python3.11/site-packages/pydantic/main.py:1087: PydanticDeprecatedSince20: The `dict` method is deprecated; use `model_dump` instead. Deprecated in Pydantic V2.0 to be removed in V3.0. See Pydantic V2 Migration Guide at https://errors.pydantic.dev/2.8/migration/\n",
      "  warnings.warn('The `dict` method is deprecated; use `model_dump` instead.', category=PydanticDeprecatedSince20)\n",
      "INFO:httpx:HTTP Request: POST https://api.openai.com/v1/chat/completions \"HTTP/1.1 200 OK\"\n",
      "/Users/user/miniconda3/envs/graphmaker/lib/python3.11/site-packages/pydantic/main.py:1087: PydanticDeprecatedSince20: The `dict` method is deprecated; use `model_dump` instead. Deprecated in Pydantic V2.0 to be removed in V3.0. See Pydantic V2 Migration Guide at https://errors.pydantic.dev/2.8/migration/\n",
      "  warnings.warn('The `dict` method is deprecated; use `model_dump` instead.', category=PydanticDeprecatedSince20)\n"
     ]
    },
    {
     "name": "stdout",
     "output_type": "stream",
     "text": [
      "\n",
      "Adding: 'Melina's role as kindling is fitting when the Erdtree is burnt down.'\n"
     ]
    },
    {
     "name": "stderr",
     "output_type": "stream",
     "text": [
      "INFO:httpx:HTTP Request: POST https://api.openai.com/v1/chat/completions \"HTTP/1.1 200 OK\"\n",
      "/Users/user/miniconda3/envs/graphmaker/lib/python3.11/site-packages/pydantic/main.py:1087: PydanticDeprecatedSince20: The `dict` method is deprecated; use `model_dump` instead. Deprecated in Pydantic V2.0 to be removed in V3.0. See Pydantic V2 Migration Guide at https://errors.pydantic.dev/2.8/migration/\n",
      "  warnings.warn('The `dict` method is deprecated; use `model_dump` instead.', category=PydanticDeprecatedSince20)\n",
      "INFO:httpx:HTTP Request: POST https://api.openai.com/v1/chat/completions \"HTTP/1.1 200 OK\"\n",
      "/Users/user/miniconda3/envs/graphmaker/lib/python3.11/site-packages/pydantic/main.py:1087: PydanticDeprecatedSince20: The `dict` method is deprecated; use `model_dump` instead. Deprecated in Pydantic V2.0 to be removed in V3.0. See Pydantic V2 Migration Guide at https://errors.pydantic.dev/2.8/migration/\n",
      "  warnings.warn('The `dict` method is deprecated; use `model_dump` instead.', category=PydanticDeprecatedSince20)\n"
     ]
    },
    {
     "name": "stdout",
     "output_type": "stream",
     "text": [
      "Chunk Found (36362), adding to: Elden Ring Lore & History\n"
     ]
    },
    {
     "name": "stderr",
     "output_type": "stream",
     "text": [
      "INFO:httpx:HTTP Request: POST https://api.openai.com/v1/chat/completions \"HTTP/1.1 200 OK\"\n",
      "/Users/user/miniconda3/envs/graphmaker/lib/python3.11/site-packages/pydantic/main.py:1087: PydanticDeprecatedSince20: The `dict` method is deprecated; use `model_dump` instead. Deprecated in Pydantic V2.0 to be removed in V3.0. See Pydantic V2 Migration Guide at https://errors.pydantic.dev/2.8/migration/\n",
      "  warnings.warn('The `dict` method is deprecated; use `model_dump` instead.', category=PydanticDeprecatedSince20)\n",
      "INFO:httpx:HTTP Request: POST https://api.openai.com/v1/chat/completions \"HTTP/1.1 200 OK\"\n",
      "/Users/user/miniconda3/envs/graphmaker/lib/python3.11/site-packages/pydantic/main.py:1087: PydanticDeprecatedSince20: The `dict` method is deprecated; use `model_dump` instead. Deprecated in Pydantic V2.0 to be removed in V3.0. See Pydantic V2 Migration Guide at https://errors.pydantic.dev/2.8/migration/\n",
      "  warnings.warn('The `dict` method is deprecated; use `model_dump` instead.', category=PydanticDeprecatedSince20)\n"
     ]
    },
    {
     "name": "stdout",
     "output_type": "stream",
     "text": [
      "\n",
      "Adding: 'Speaking with Melina at various Sites of Grace reveals her ability to recall echoes of Queen Marika's past actions and words.'\n"
     ]
    },
    {
     "name": "stderr",
     "output_type": "stream",
     "text": [
      "INFO:httpx:HTTP Request: POST https://api.openai.com/v1/chat/completions \"HTTP/1.1 200 OK\"\n",
      "/Users/user/miniconda3/envs/graphmaker/lib/python3.11/site-packages/pydantic/main.py:1087: PydanticDeprecatedSince20: The `dict` method is deprecated; use `model_dump` instead. Deprecated in Pydantic V2.0 to be removed in V3.0. See Pydantic V2 Migration Guide at https://errors.pydantic.dev/2.8/migration/\n",
      "  warnings.warn('The `dict` method is deprecated; use `model_dump` instead.', category=PydanticDeprecatedSince20)\n",
      "INFO:httpx:HTTP Request: POST https://api.openai.com/v1/chat/completions \"HTTP/1.1 200 OK\"\n",
      "/Users/user/miniconda3/envs/graphmaker/lib/python3.11/site-packages/pydantic/main.py:1087: PydanticDeprecatedSince20: The `dict` method is deprecated; use `model_dump` instead. Deprecated in Pydantic V2.0 to be removed in V3.0. See Pydantic V2 Migration Guide at https://errors.pydantic.dev/2.8/migration/\n",
      "  warnings.warn('The `dict` method is deprecated; use `model_dump` instead.', category=PydanticDeprecatedSince20)\n"
     ]
    },
    {
     "name": "stdout",
     "output_type": "stream",
     "text": [
      "Chunk Found (36362), adding to: Elden Ring Lore & Mythos\n"
     ]
    },
    {
     "name": "stderr",
     "output_type": "stream",
     "text": [
      "INFO:httpx:HTTP Request: POST https://api.openai.com/v1/chat/completions \"HTTP/1.1 200 OK\"\n",
      "/Users/user/miniconda3/envs/graphmaker/lib/python3.11/site-packages/pydantic/main.py:1087: PydanticDeprecatedSince20: The `dict` method is deprecated; use `model_dump` instead. Deprecated in Pydantic V2.0 to be removed in V3.0. See Pydantic V2 Migration Guide at https://errors.pydantic.dev/2.8/migration/\n",
      "  warnings.warn('The `dict` method is deprecated; use `model_dump` instead.', category=PydanticDeprecatedSince20)\n",
      "INFO:httpx:HTTP Request: POST https://api.openai.com/v1/chat/completions \"HTTP/1.1 200 OK\"\n",
      "/Users/user/miniconda3/envs/graphmaker/lib/python3.11/site-packages/pydantic/main.py:1087: PydanticDeprecatedSince20: The `dict` method is deprecated; use `model_dump` instead. Deprecated in Pydantic V2.0 to be removed in V3.0. See Pydantic V2 Migration Guide at https://errors.pydantic.dev/2.8/migration/\n",
      "  warnings.warn('The `dict` method is deprecated; use `model_dump` instead.', category=PydanticDeprecatedSince20)\n"
     ]
    },
    {
     "name": "stdout",
     "output_type": "stream",
     "text": [
      "\n",
      "Adding: 'Melina offers echoes of Queen Marika's past actions and words in lieu of a 'maiden's guidance'.'\n"
     ]
    },
    {
     "name": "stderr",
     "output_type": "stream",
     "text": [
      "INFO:httpx:HTTP Request: POST https://api.openai.com/v1/chat/completions \"HTTP/1.1 200 OK\"\n",
      "/Users/user/miniconda3/envs/graphmaker/lib/python3.11/site-packages/pydantic/main.py:1087: PydanticDeprecatedSince20: The `dict` method is deprecated; use `model_dump` instead. Deprecated in Pydantic V2.0 to be removed in V3.0. See Pydantic V2 Migration Guide at https://errors.pydantic.dev/2.8/migration/\n",
      "  warnings.warn('The `dict` method is deprecated; use `model_dump` instead.', category=PydanticDeprecatedSince20)\n",
      "INFO:httpx:HTTP Request: POST https://api.openai.com/v1/chat/completions \"HTTP/1.1 200 OK\"\n",
      "/Users/user/miniconda3/envs/graphmaker/lib/python3.11/site-packages/pydantic/main.py:1087: PydanticDeprecatedSince20: The `dict` method is deprecated; use `model_dump` instead. Deprecated in Pydantic V2.0 to be removed in V3.0. See Pydantic V2 Migration Guide at https://errors.pydantic.dev/2.8/migration/\n",
      "  warnings.warn('The `dict` method is deprecated; use `model_dump` instead.', category=PydanticDeprecatedSince20)\n"
     ]
    },
    {
     "name": "stdout",
     "output_type": "stream",
     "text": [
      "Chunk Found (36362), adding to: Elden Ring Lore & History\n"
     ]
    },
    {
     "name": "stderr",
     "output_type": "stream",
     "text": [
      "INFO:httpx:HTTP Request: POST https://api.openai.com/v1/chat/completions \"HTTP/1.1 200 OK\"\n",
      "/Users/user/miniconda3/envs/graphmaker/lib/python3.11/site-packages/pydantic/main.py:1087: PydanticDeprecatedSince20: The `dict` method is deprecated; use `model_dump` instead. Deprecated in Pydantic V2.0 to be removed in V3.0. See Pydantic V2 Migration Guide at https://errors.pydantic.dev/2.8/migration/\n",
      "  warnings.warn('The `dict` method is deprecated; use `model_dump` instead.', category=PydanticDeprecatedSince20)\n",
      "INFO:httpx:HTTP Request: POST https://api.openai.com/v1/chat/completions \"HTTP/1.1 200 OK\"\n",
      "/Users/user/miniconda3/envs/graphmaker/lib/python3.11/site-packages/pydantic/main.py:1087: PydanticDeprecatedSince20: The `dict` method is deprecated; use `model_dump` instead. Deprecated in Pydantic V2.0 to be removed in V3.0. See Pydantic V2 Migration Guide at https://errors.pydantic.dev/2.8/migration/\n",
      "  warnings.warn('The `dict` method is deprecated; use `model_dump` instead.', category=PydanticDeprecatedSince20)\n"
     ]
    },
    {
     "name": "stdout",
     "output_type": "stream",
     "text": [
      "\n",
      "Adding: 'Melina holds contempt for the Frenzied Flame.'\n"
     ]
    },
    {
     "name": "stderr",
     "output_type": "stream",
     "text": [
      "INFO:httpx:HTTP Request: POST https://api.openai.com/v1/chat/completions \"HTTP/1.1 200 OK\"\n",
      "/Users/user/miniconda3/envs/graphmaker/lib/python3.11/site-packages/pydantic/main.py:1087: PydanticDeprecatedSince20: The `dict` method is deprecated; use `model_dump` instead. Deprecated in Pydantic V2.0 to be removed in V3.0. See Pydantic V2 Migration Guide at https://errors.pydantic.dev/2.8/migration/\n",
      "  warnings.warn('The `dict` method is deprecated; use `model_dump` instead.', category=PydanticDeprecatedSince20)\n",
      "INFO:httpx:HTTP Request: POST https://api.openai.com/v1/chat/completions \"HTTP/1.1 200 OK\"\n",
      "/Users/user/miniconda3/envs/graphmaker/lib/python3.11/site-packages/pydantic/main.py:1087: PydanticDeprecatedSince20: The `dict` method is deprecated; use `model_dump` instead. Deprecated in Pydantic V2.0 to be removed in V3.0. See Pydantic V2 Migration Guide at https://errors.pydantic.dev/2.8/migration/\n",
      "  warnings.warn('The `dict` method is deprecated; use `model_dump` instead.', category=PydanticDeprecatedSince20)\n"
     ]
    },
    {
     "name": "stdout",
     "output_type": "stream",
     "text": [
      "Chunk Found (36362), adding to: Elden Ring Lore & Mythos\n"
     ]
    },
    {
     "name": "stderr",
     "output_type": "stream",
     "text": [
      "INFO:httpx:HTTP Request: POST https://api.openai.com/v1/chat/completions \"HTTP/1.1 200 OK\"\n",
      "/Users/user/miniconda3/envs/graphmaker/lib/python3.11/site-packages/pydantic/main.py:1087: PydanticDeprecatedSince20: The `dict` method is deprecated; use `model_dump` instead. Deprecated in Pydantic V2.0 to be removed in V3.0. See Pydantic V2 Migration Guide at https://errors.pydantic.dev/2.8/migration/\n",
      "  warnings.warn('The `dict` method is deprecated; use `model_dump` instead.', category=PydanticDeprecatedSince20)\n",
      "INFO:httpx:HTTP Request: POST https://api.openai.com/v1/chat/completions \"HTTP/1.1 200 OK\"\n",
      "/Users/user/miniconda3/envs/graphmaker/lib/python3.11/site-packages/pydantic/main.py:1087: PydanticDeprecatedSince20: The `dict` method is deprecated; use `model_dump` instead. Deprecated in Pydantic V2.0 to be removed in V3.0. See Pydantic V2 Migration Guide at https://errors.pydantic.dev/2.8/migration/\n",
      "  warnings.warn('The `dict` method is deprecated; use `model_dump` instead.', category=PydanticDeprecatedSince20)\n"
     ]
    },
    {
     "name": "stdout",
     "output_type": "stream",
     "text": [
      "\n",
      "Adding: 'Melina believes that whoever lords over the chaos and damage brought by the Frenzied Flame is no Lord at all.'\n"
     ]
    },
    {
     "name": "stderr",
     "output_type": "stream",
     "text": [
      "INFO:httpx:HTTP Request: POST https://api.openai.com/v1/chat/completions \"HTTP/1.1 200 OK\"\n",
      "/Users/user/miniconda3/envs/graphmaker/lib/python3.11/site-packages/pydantic/main.py:1087: PydanticDeprecatedSince20: The `dict` method is deprecated; use `model_dump` instead. Deprecated in Pydantic V2.0 to be removed in V3.0. See Pydantic V2 Migration Guide at https://errors.pydantic.dev/2.8/migration/\n",
      "  warnings.warn('The `dict` method is deprecated; use `model_dump` instead.', category=PydanticDeprecatedSince20)\n",
      "INFO:httpx:HTTP Request: POST https://api.openai.com/v1/chat/completions \"HTTP/1.1 200 OK\"\n",
      "/Users/user/miniconda3/envs/graphmaker/lib/python3.11/site-packages/pydantic/main.py:1087: PydanticDeprecatedSince20: The `dict` method is deprecated; use `model_dump` instead. Deprecated in Pydantic V2.0 to be removed in V3.0. See Pydantic V2 Migration Guide at https://errors.pydantic.dev/2.8/migration/\n",
      "  warnings.warn('The `dict` method is deprecated; use `model_dump` instead.', category=PydanticDeprecatedSince20)\n"
     ]
    },
    {
     "name": "stdout",
     "output_type": "stream",
     "text": [
      "Chunk Found (36362), adding to: Elden Ring Lore & History\n"
     ]
    },
    {
     "name": "stderr",
     "output_type": "stream",
     "text": [
      "INFO:httpx:HTTP Request: POST https://api.openai.com/v1/chat/completions \"HTTP/1.1 200 OK\"\n",
      "/Users/user/miniconda3/envs/graphmaker/lib/python3.11/site-packages/pydantic/main.py:1087: PydanticDeprecatedSince20: The `dict` method is deprecated; use `model_dump` instead. Deprecated in Pydantic V2.0 to be removed in V3.0. See Pydantic V2 Migration Guide at https://errors.pydantic.dev/2.8/migration/\n",
      "  warnings.warn('The `dict` method is deprecated; use `model_dump` instead.', category=PydanticDeprecatedSince20)\n",
      "INFO:httpx:HTTP Request: POST https://api.openai.com/v1/chat/completions \"HTTP/1.1 200 OK\"\n",
      "/Users/user/miniconda3/envs/graphmaker/lib/python3.11/site-packages/pydantic/main.py:1087: PydanticDeprecatedSince20: The `dict` method is deprecated; use `model_dump` instead. Deprecated in Pydantic V2.0 to be removed in V3.0. See Pydantic V2 Migration Guide at https://errors.pydantic.dev/2.8/migration/\n",
      "  warnings.warn('The `dict` method is deprecated; use `model_dump` instead.', category=PydanticDeprecatedSince20)\n"
     ]
    },
    {
     "name": "stdout",
     "output_type": "stream",
     "text": [
      "\n",
      "Adding: 'If the Tarnished takes the Frenzied Flame before the event at the Forge of the Giants, Melina will leave the Tarnished.'\n"
     ]
    },
    {
     "name": "stderr",
     "output_type": "stream",
     "text": [
      "INFO:httpx:HTTP Request: POST https://api.openai.com/v1/chat/completions \"HTTP/1.1 200 OK\"\n",
      "/Users/user/miniconda3/envs/graphmaker/lib/python3.11/site-packages/pydantic/main.py:1087: PydanticDeprecatedSince20: The `dict` method is deprecated; use `model_dump` instead. Deprecated in Pydantic V2.0 to be removed in V3.0. See Pydantic V2 Migration Guide at https://errors.pydantic.dev/2.8/migration/\n",
      "  warnings.warn('The `dict` method is deprecated; use `model_dump` instead.', category=PydanticDeprecatedSince20)\n",
      "INFO:httpx:HTTP Request: POST https://api.openai.com/v1/chat/completions \"HTTP/1.1 200 OK\"\n",
      "/Users/user/miniconda3/envs/graphmaker/lib/python3.11/site-packages/pydantic/main.py:1087: PydanticDeprecatedSince20: The `dict` method is deprecated; use `model_dump` instead. Deprecated in Pydantic V2.0 to be removed in V3.0. See Pydantic V2 Migration Guide at https://errors.pydantic.dev/2.8/migration/\n",
      "  warnings.warn('The `dict` method is deprecated; use `model_dump` instead.', category=PydanticDeprecatedSince20)\n"
     ]
    },
    {
     "name": "stdout",
     "output_type": "stream",
     "text": [
      "Chunk Found (36362), adding to: Elden Ring Lore & Mythos\n"
     ]
    },
    {
     "name": "stderr",
     "output_type": "stream",
     "text": [
      "INFO:httpx:HTTP Request: POST https://api.openai.com/v1/chat/completions \"HTTP/1.1 200 OK\"\n",
      "/Users/user/miniconda3/envs/graphmaker/lib/python3.11/site-packages/pydantic/main.py:1087: PydanticDeprecatedSince20: The `dict` method is deprecated; use `model_dump` instead. Deprecated in Pydantic V2.0 to be removed in V3.0. See Pydantic V2 Migration Guide at https://errors.pydantic.dev/2.8/migration/\n",
      "  warnings.warn('The `dict` method is deprecated; use `model_dump` instead.', category=PydanticDeprecatedSince20)\n",
      "INFO:httpx:HTTP Request: POST https://api.openai.com/v1/chat/completions \"HTTP/1.1 200 OK\"\n",
      "/Users/user/miniconda3/envs/graphmaker/lib/python3.11/site-packages/pydantic/main.py:1087: PydanticDeprecatedSince20: The `dict` method is deprecated; use `model_dump` instead. Deprecated in Pydantic V2.0 to be removed in V3.0. See Pydantic V2 Migration Guide at https://errors.pydantic.dev/2.8/migration/\n",
      "  warnings.warn('The `dict` method is deprecated; use `model_dump` instead.', category=PydanticDeprecatedSince20)\n"
     ]
    },
    {
     "name": "stdout",
     "output_type": "stream",
     "text": [
      "\n",
      "Adding: 'Melina will threaten to deliver the Tarnished Destined Death once they become Lord of the Frenzied Flame.'\n"
     ]
    },
    {
     "name": "stderr",
     "output_type": "stream",
     "text": [
      "INFO:httpx:HTTP Request: POST https://api.openai.com/v1/chat/completions \"HTTP/1.1 200 OK\"\n",
      "/Users/user/miniconda3/envs/graphmaker/lib/python3.11/site-packages/pydantic/main.py:1087: PydanticDeprecatedSince20: The `dict` method is deprecated; use `model_dump` instead. Deprecated in Pydantic V2.0 to be removed in V3.0. See Pydantic V2 Migration Guide at https://errors.pydantic.dev/2.8/migration/\n",
      "  warnings.warn('The `dict` method is deprecated; use `model_dump` instead.', category=PydanticDeprecatedSince20)\n",
      "INFO:httpx:HTTP Request: POST https://api.openai.com/v1/chat/completions \"HTTP/1.1 200 OK\"\n",
      "/Users/user/miniconda3/envs/graphmaker/lib/python3.11/site-packages/pydantic/main.py:1087: PydanticDeprecatedSince20: The `dict` method is deprecated; use `model_dump` instead. Deprecated in Pydantic V2.0 to be removed in V3.0. See Pydantic V2 Migration Guide at https://errors.pydantic.dev/2.8/migration/\n",
      "  warnings.warn('The `dict` method is deprecated; use `model_dump` instead.', category=PydanticDeprecatedSince20)\n"
     ]
    },
    {
     "name": "stdout",
     "output_type": "stream",
     "text": [
      "Chunk Found (36362), adding to: Elden Ring Lore, History & Characters\n"
     ]
    },
    {
     "name": "stderr",
     "output_type": "stream",
     "text": [
      "INFO:httpx:HTTP Request: POST https://api.openai.com/v1/chat/completions \"HTTP/1.1 200 OK\"\n",
      "/Users/user/miniconda3/envs/graphmaker/lib/python3.11/site-packages/pydantic/main.py:1087: PydanticDeprecatedSince20: The `dict` method is deprecated; use `model_dump` instead. Deprecated in Pydantic V2.0 to be removed in V3.0. See Pydantic V2 Migration Guide at https://errors.pydantic.dev/2.8/migration/\n",
      "  warnings.warn('The `dict` method is deprecated; use `model_dump` instead.', category=PydanticDeprecatedSince20)\n",
      "INFO:httpx:HTTP Request: POST https://api.openai.com/v1/chat/completions \"HTTP/1.1 200 OK\"\n",
      "/Users/user/miniconda3/envs/graphmaker/lib/python3.11/site-packages/pydantic/main.py:1087: PydanticDeprecatedSince20: The `dict` method is deprecated; use `model_dump` instead. Deprecated in Pydantic V2.0 to be removed in V3.0. See Pydantic V2 Migration Guide at https://errors.pydantic.dev/2.8/migration/\n",
      "  warnings.warn('The `dict` method is deprecated; use `model_dump` instead.', category=PydanticDeprecatedSince20)\n"
     ]
    },
    {
     "name": "stdout",
     "output_type": "stream",
     "text": [
      "\n",
      "Adding: 'The White Masks encountered in Mohgwyn Palace were initially abducted by Mogh.'\n"
     ]
    },
    {
     "name": "stderr",
     "output_type": "stream",
     "text": [
      "INFO:httpx:HTTP Request: POST https://api.openai.com/v1/chat/completions \"HTTP/1.1 200 OK\"\n",
      "/Users/user/miniconda3/envs/graphmaker/lib/python3.11/site-packages/pydantic/main.py:1087: PydanticDeprecatedSince20: The `dict` method is deprecated; use `model_dump` instead. Deprecated in Pydantic V2.0 to be removed in V3.0. See Pydantic V2 Migration Guide at https://errors.pydantic.dev/2.8/migration/\n",
      "  warnings.warn('The `dict` method is deprecated; use `model_dump` instead.', category=PydanticDeprecatedSince20)\n",
      "INFO:httpx:HTTP Request: POST https://api.openai.com/v1/chat/completions \"HTTP/1.1 200 OK\"\n",
      "/Users/user/miniconda3/envs/graphmaker/lib/python3.11/site-packages/pydantic/main.py:1087: PydanticDeprecatedSince20: The `dict` method is deprecated; use `model_dump` instead. Deprecated in Pydantic V2.0 to be removed in V3.0. See Pydantic V2 Migration Guide at https://errors.pydantic.dev/2.8/migration/\n",
      "  warnings.warn('The `dict` method is deprecated; use `model_dump` instead.', category=PydanticDeprecatedSince20)\n"
     ]
    },
    {
     "name": "stdout",
     "output_type": "stream",
     "text": [
      "Chunk Found (36362), adding to: Elden Ring Lore & Mythos\n"
     ]
    },
    {
     "name": "stderr",
     "output_type": "stream",
     "text": [
      "INFO:httpx:HTTP Request: POST https://api.openai.com/v1/chat/completions \"HTTP/1.1 200 OK\"\n",
      "/Users/user/miniconda3/envs/graphmaker/lib/python3.11/site-packages/pydantic/main.py:1087: PydanticDeprecatedSince20: The `dict` method is deprecated; use `model_dump` instead. Deprecated in Pydantic V2.0 to be removed in V3.0. See Pydantic V2 Migration Guide at https://errors.pydantic.dev/2.8/migration/\n",
      "  warnings.warn('The `dict` method is deprecated; use `model_dump` instead.', category=PydanticDeprecatedSince20)\n",
      "INFO:httpx:HTTP Request: POST https://api.openai.com/v1/chat/completions \"HTTP/1.1 200 OK\"\n",
      "/Users/user/miniconda3/envs/graphmaker/lib/python3.11/site-packages/pydantic/main.py:1087: PydanticDeprecatedSince20: The `dict` method is deprecated; use `model_dump` instead. Deprecated in Pydantic V2.0 to be removed in V3.0. See Pydantic V2 Migration Guide at https://errors.pydantic.dev/2.8/migration/\n",
      "  warnings.warn('The `dict` method is deprecated; use `model_dump` instead.', category=PydanticDeprecatedSince20)\n"
     ]
    },
    {
     "name": "stdout",
     "output_type": "stream",
     "text": [
      "\n",
      "Adding: 'Mogh was the Lord of Blood.'\n"
     ]
    },
    {
     "name": "stderr",
     "output_type": "stream",
     "text": [
      "INFO:httpx:HTTP Request: POST https://api.openai.com/v1/chat/completions \"HTTP/1.1 200 OK\"\n",
      "/Users/user/miniconda3/envs/graphmaker/lib/python3.11/site-packages/pydantic/main.py:1087: PydanticDeprecatedSince20: The `dict` method is deprecated; use `model_dump` instead. Deprecated in Pydantic V2.0 to be removed in V3.0. See Pydantic V2 Migration Guide at https://errors.pydantic.dev/2.8/migration/\n",
      "  warnings.warn('The `dict` method is deprecated; use `model_dump` instead.', category=PydanticDeprecatedSince20)\n",
      "INFO:httpx:HTTP Request: POST https://api.openai.com/v1/chat/completions \"HTTP/1.1 200 OK\"\n",
      "/Users/user/miniconda3/envs/graphmaker/lib/python3.11/site-packages/pydantic/main.py:1087: PydanticDeprecatedSince20: The `dict` method is deprecated; use `model_dump` instead. Deprecated in Pydantic V2.0 to be removed in V3.0. See Pydantic V2 Migration Guide at https://errors.pydantic.dev/2.8/migration/\n",
      "  warnings.warn('The `dict` method is deprecated; use `model_dump` instead.', category=PydanticDeprecatedSince20)\n"
     ]
    },
    {
     "name": "stdout",
     "output_type": "stream",
     "text": [
      "Chunk Found (36362), adding to: Elden Ring Lore & History\n"
     ]
    },
    {
     "name": "stderr",
     "output_type": "stream",
     "text": [
      "INFO:httpx:HTTP Request: POST https://api.openai.com/v1/chat/completions \"HTTP/1.1 200 OK\"\n",
      "/Users/user/miniconda3/envs/graphmaker/lib/python3.11/site-packages/pydantic/main.py:1087: PydanticDeprecatedSince20: The `dict` method is deprecated; use `model_dump` instead. Deprecated in Pydantic V2.0 to be removed in V3.0. See Pydantic V2 Migration Guide at https://errors.pydantic.dev/2.8/migration/\n",
      "  warnings.warn('The `dict` method is deprecated; use `model_dump` instead.', category=PydanticDeprecatedSince20)\n",
      "INFO:httpx:HTTP Request: POST https://api.openai.com/v1/chat/completions \"HTTP/1.1 200 OK\"\n",
      "/Users/user/miniconda3/envs/graphmaker/lib/python3.11/site-packages/pydantic/main.py:1087: PydanticDeprecatedSince20: The `dict` method is deprecated; use `model_dump` instead. Deprecated in Pydantic V2.0 to be removed in V3.0. See Pydantic V2 Migration Guide at https://errors.pydantic.dev/2.8/migration/\n",
      "  warnings.warn('The `dict` method is deprecated; use `model_dump` instead.', category=PydanticDeprecatedSince20)\n"
     ]
    },
    {
     "name": "stdout",
     "output_type": "stream",
     "text": [
      "\n",
      "Adding: 'The White Masks were turned into Bloody Fingers through an unknown ritual.'\n"
     ]
    },
    {
     "name": "stderr",
     "output_type": "stream",
     "text": [
      "INFO:httpx:HTTP Request: POST https://api.openai.com/v1/chat/completions \"HTTP/1.1 200 OK\"\n",
      "/Users/user/miniconda3/envs/graphmaker/lib/python3.11/site-packages/pydantic/main.py:1087: PydanticDeprecatedSince20: The `dict` method is deprecated; use `model_dump` instead. Deprecated in Pydantic V2.0 to be removed in V3.0. See Pydantic V2 Migration Guide at https://errors.pydantic.dev/2.8/migration/\n",
      "  warnings.warn('The `dict` method is deprecated; use `model_dump` instead.', category=PydanticDeprecatedSince20)\n",
      "INFO:httpx:HTTP Request: POST https://api.openai.com/v1/chat/completions \"HTTP/1.1 200 OK\"\n",
      "/Users/user/miniconda3/envs/graphmaker/lib/python3.11/site-packages/pydantic/main.py:1087: PydanticDeprecatedSince20: The `dict` method is deprecated; use `model_dump` instead. Deprecated in Pydantic V2.0 to be removed in V3.0. See Pydantic V2 Migration Guide at https://errors.pydantic.dev/2.8/migration/\n",
      "  warnings.warn('The `dict` method is deprecated; use `model_dump` instead.', category=PydanticDeprecatedSince20)\n"
     ]
    },
    {
     "name": "stdout",
     "output_type": "stream",
     "text": [
      "Chunk Found (36362), adding to: Elden Ring Lore & Mythos\n"
     ]
    },
    {
     "name": "stderr",
     "output_type": "stream",
     "text": [
      "INFO:httpx:HTTP Request: POST https://api.openai.com/v1/chat/completions \"HTTP/1.1 200 OK\"\n",
      "/Users/user/miniconda3/envs/graphmaker/lib/python3.11/site-packages/pydantic/main.py:1087: PydanticDeprecatedSince20: The `dict` method is deprecated; use `model_dump` instead. Deprecated in Pydantic V2.0 to be removed in V3.0. See Pydantic V2 Migration Guide at https://errors.pydantic.dev/2.8/migration/\n",
      "  warnings.warn('The `dict` method is deprecated; use `model_dump` instead.', category=PydanticDeprecatedSince20)\n",
      "INFO:httpx:HTTP Request: POST https://api.openai.com/v1/chat/completions \"HTTP/1.1 200 OK\"\n",
      "/Users/user/miniconda3/envs/graphmaker/lib/python3.11/site-packages/pydantic/main.py:1087: PydanticDeprecatedSince20: The `dict` method is deprecated; use `model_dump` instead. Deprecated in Pydantic V2.0 to be removed in V3.0. See Pydantic V2 Migration Guide at https://errors.pydantic.dev/2.8/migration/\n",
      "  warnings.warn('The `dict` method is deprecated; use `model_dump` instead.', category=PydanticDeprecatedSince20)\n"
     ]
    },
    {
     "name": "stdout",
     "output_type": "stream",
     "text": [
      "\n",
      "Adding: 'The unknown ritual involved Mogh's accursed Omen blood.'\n"
     ]
    },
    {
     "name": "stderr",
     "output_type": "stream",
     "text": [
      "INFO:httpx:HTTP Request: POST https://api.openai.com/v1/chat/completions \"HTTP/1.1 200 OK\"\n",
      "/Users/user/miniconda3/envs/graphmaker/lib/python3.11/site-packages/pydantic/main.py:1087: PydanticDeprecatedSince20: The `dict` method is deprecated; use `model_dump` instead. Deprecated in Pydantic V2.0 to be removed in V3.0. See Pydantic V2 Migration Guide at https://errors.pydantic.dev/2.8/migration/\n",
      "  warnings.warn('The `dict` method is deprecated; use `model_dump` instead.', category=PydanticDeprecatedSince20)\n",
      "INFO:httpx:HTTP Request: POST https://api.openai.com/v1/chat/completions \"HTTP/1.1 200 OK\"\n",
      "/Users/user/miniconda3/envs/graphmaker/lib/python3.11/site-packages/pydantic/main.py:1087: PydanticDeprecatedSince20: The `dict` method is deprecated; use `model_dump` instead. Deprecated in Pydantic V2.0 to be removed in V3.0. See Pydantic V2 Migration Guide at https://errors.pydantic.dev/2.8/migration/\n",
      "  warnings.warn('The `dict` method is deprecated; use `model_dump` instead.', category=PydanticDeprecatedSince20)\n"
     ]
    },
    {
     "name": "stdout",
     "output_type": "stream",
     "text": [
      "Chunk Found (36362), adding to: Elden Ring Lore & History\n"
     ]
    },
    {
     "name": "stderr",
     "output_type": "stream",
     "text": [
      "INFO:httpx:HTTP Request: POST https://api.openai.com/v1/chat/completions \"HTTP/1.1 200 OK\"\n",
      "/Users/user/miniconda3/envs/graphmaker/lib/python3.11/site-packages/pydantic/main.py:1087: PydanticDeprecatedSince20: The `dict` method is deprecated; use `model_dump` instead. Deprecated in Pydantic V2.0 to be removed in V3.0. See Pydantic V2 Migration Guide at https://errors.pydantic.dev/2.8/migration/\n",
      "  warnings.warn('The `dict` method is deprecated; use `model_dump` instead.', category=PydanticDeprecatedSince20)\n",
      "INFO:httpx:HTTP Request: POST https://api.openai.com/v1/chat/completions \"HTTP/1.1 200 OK\"\n",
      "/Users/user/miniconda3/envs/graphmaker/lib/python3.11/site-packages/pydantic/main.py:1087: PydanticDeprecatedSince20: The `dict` method is deprecated; use `model_dump` instead. Deprecated in Pydantic V2.0 to be removed in V3.0. See Pydantic V2 Migration Guide at https://errors.pydantic.dev/2.8/migration/\n",
      "  warnings.warn('The `dict` method is deprecated; use `model_dump` instead.', category=PydanticDeprecatedSince20)\n"
     ]
    },
    {
     "name": "stdout",
     "output_type": "stream",
     "text": [
      "\n",
      "Adding: 'Of the four White Masks encountered in the game, Varre was able to withstand and tame the accursed blood.'\n"
     ]
    },
    {
     "name": "stderr",
     "output_type": "stream",
     "text": [
      "INFO:httpx:HTTP Request: POST https://api.openai.com/v1/chat/completions \"HTTP/1.1 200 OK\"\n",
      "/Users/user/miniconda3/envs/graphmaker/lib/python3.11/site-packages/pydantic/main.py:1087: PydanticDeprecatedSince20: The `dict` method is deprecated; use `model_dump` instead. Deprecated in Pydantic V2.0 to be removed in V3.0. See Pydantic V2 Migration Guide at https://errors.pydantic.dev/2.8/migration/\n",
      "  warnings.warn('The `dict` method is deprecated; use `model_dump` instead.', category=PydanticDeprecatedSince20)\n",
      "INFO:httpx:HTTP Request: POST https://api.openai.com/v1/chat/completions \"HTTP/1.1 200 OK\"\n",
      "/Users/user/miniconda3/envs/graphmaker/lib/python3.11/site-packages/pydantic/main.py:1087: PydanticDeprecatedSince20: The `dict` method is deprecated; use `model_dump` instead. Deprecated in Pydantic V2.0 to be removed in V3.0. See Pydantic V2 Migration Guide at https://errors.pydantic.dev/2.8/migration/\n",
      "  warnings.warn('The `dict` method is deprecated; use `model_dump` instead.', category=PydanticDeprecatedSince20)\n"
     ]
    },
    {
     "name": "stdout",
     "output_type": "stream",
     "text": [
      "Chunk Found (36362), adding to: Elden Ring Lore & Mythos\n"
     ]
    },
    {
     "name": "stderr",
     "output_type": "stream",
     "text": [
      "INFO:httpx:HTTP Request: POST https://api.openai.com/v1/chat/completions \"HTTP/1.1 200 OK\"\n",
      "/Users/user/miniconda3/envs/graphmaker/lib/python3.11/site-packages/pydantic/main.py:1087: PydanticDeprecatedSince20: The `dict` method is deprecated; use `model_dump` instead. Deprecated in Pydantic V2.0 to be removed in V3.0. See Pydantic V2 Migration Guide at https://errors.pydantic.dev/2.8/migration/\n",
      "  warnings.warn('The `dict` method is deprecated; use `model_dump` instead.', category=PydanticDeprecatedSince20)\n",
      "INFO:httpx:HTTP Request: POST https://api.openai.com/v1/chat/completions \"HTTP/1.1 200 OK\"\n",
      "/Users/user/miniconda3/envs/graphmaker/lib/python3.11/site-packages/pydantic/main.py:1087: PydanticDeprecatedSince20: The `dict` method is deprecated; use `model_dump` instead. Deprecated in Pydantic V2.0 to be removed in V3.0. See Pydantic V2 Migration Guide at https://errors.pydantic.dev/2.8/migration/\n",
      "  warnings.warn('The `dict` method is deprecated; use `model_dump` instead.', category=PydanticDeprecatedSince20)\n"
     ]
    },
    {
     "name": "stdout",
     "output_type": "stream",
     "text": [
      "\n",
      "Adding: 'Varre remains loyal to the Mohgwyn Dynasty despite being abducted by the Lord of Blood.'\n"
     ]
    },
    {
     "name": "stderr",
     "output_type": "stream",
     "text": [
      "INFO:httpx:HTTP Request: POST https://api.openai.com/v1/chat/completions \"HTTP/1.1 200 OK\"\n",
      "/Users/user/miniconda3/envs/graphmaker/lib/python3.11/site-packages/pydantic/main.py:1087: PydanticDeprecatedSince20: The `dict` method is deprecated; use `model_dump` instead. Deprecated in Pydantic V2.0 to be removed in V3.0. See Pydantic V2 Migration Guide at https://errors.pydantic.dev/2.8/migration/\n",
      "  warnings.warn('The `dict` method is deprecated; use `model_dump` instead.', category=PydanticDeprecatedSince20)\n",
      "INFO:httpx:HTTP Request: POST https://api.openai.com/v1/chat/completions \"HTTP/1.1 200 OK\"\n",
      "/Users/user/miniconda3/envs/graphmaker/lib/python3.11/site-packages/pydantic/main.py:1087: PydanticDeprecatedSince20: The `dict` method is deprecated; use `model_dump` instead. Deprecated in Pydantic V2.0 to be removed in V3.0. See Pydantic V2 Migration Guide at https://errors.pydantic.dev/2.8/migration/\n",
      "  warnings.warn('The `dict` method is deprecated; use `model_dump` instead.', category=PydanticDeprecatedSince20)\n"
     ]
    },
    {
     "name": "stdout",
     "output_type": "stream",
     "text": [
      "Chunk Found (36362), adding to: Elden Ring Lore & History\n"
     ]
    },
    {
     "name": "stderr",
     "output_type": "stream",
     "text": [
      "INFO:httpx:HTTP Request: POST https://api.openai.com/v1/chat/completions \"HTTP/1.1 200 OK\"\n",
      "/Users/user/miniconda3/envs/graphmaker/lib/python3.11/site-packages/pydantic/main.py:1087: PydanticDeprecatedSince20: The `dict` method is deprecated; use `model_dump` instead. Deprecated in Pydantic V2.0 to be removed in V3.0. See Pydantic V2 Migration Guide at https://errors.pydantic.dev/2.8/migration/\n",
      "  warnings.warn('The `dict` method is deprecated; use `model_dump` instead.', category=PydanticDeprecatedSince20)\n",
      "INFO:httpx:HTTP Request: POST https://api.openai.com/v1/chat/completions \"HTTP/1.1 200 OK\"\n",
      "/Users/user/miniconda3/envs/graphmaker/lib/python3.11/site-packages/pydantic/main.py:1087: PydanticDeprecatedSince20: The `dict` method is deprecated; use `model_dump` instead. Deprecated in Pydantic V2.0 to be removed in V3.0. See Pydantic V2 Migration Guide at https://errors.pydantic.dev/2.8/migration/\n",
      "  warnings.warn('The `dict` method is deprecated; use `model_dump` instead.', category=PydanticDeprecatedSince20)\n"
     ]
    },
    {
     "name": "stdout",
     "output_type": "stream",
     "text": [
      "\n",
      "Adding: 'Varre tries to indoctrinate the Tarnished into the Mohgwyn Dynasty.'\n"
     ]
    },
    {
     "name": "stderr",
     "output_type": "stream",
     "text": [
      "INFO:httpx:HTTP Request: POST https://api.openai.com/v1/chat/completions \"HTTP/1.1 200 OK\"\n",
      "/Users/user/miniconda3/envs/graphmaker/lib/python3.11/site-packages/pydantic/main.py:1087: PydanticDeprecatedSince20: The `dict` method is deprecated; use `model_dump` instead. Deprecated in Pydantic V2.0 to be removed in V3.0. See Pydantic V2 Migration Guide at https://errors.pydantic.dev/2.8/migration/\n",
      "  warnings.warn('The `dict` method is deprecated; use `model_dump` instead.', category=PydanticDeprecatedSince20)\n",
      "INFO:httpx:HTTP Request: POST https://api.openai.com/v1/chat/completions \"HTTP/1.1 200 OK\"\n",
      "/Users/user/miniconda3/envs/graphmaker/lib/python3.11/site-packages/pydantic/main.py:1087: PydanticDeprecatedSince20: The `dict` method is deprecated; use `model_dump` instead. Deprecated in Pydantic V2.0 to be removed in V3.0. See Pydantic V2 Migration Guide at https://errors.pydantic.dev/2.8/migration/\n",
      "  warnings.warn('The `dict` method is deprecated; use `model_dump` instead.', category=PydanticDeprecatedSince20)\n"
     ]
    },
    {
     "name": "stdout",
     "output_type": "stream",
     "text": [
      "Chunk Found (36362), adding to: Elden Ring Lore & Mythos\n"
     ]
    },
    {
     "name": "stderr",
     "output_type": "stream",
     "text": [
      "INFO:httpx:HTTP Request: POST https://api.openai.com/v1/chat/completions \"HTTP/1.1 200 OK\"\n",
      "/Users/user/miniconda3/envs/graphmaker/lib/python3.11/site-packages/pydantic/main.py:1087: PydanticDeprecatedSince20: The `dict` method is deprecated; use `model_dump` instead. Deprecated in Pydantic V2.0 to be removed in V3.0. See Pydantic V2 Migration Guide at https://errors.pydantic.dev/2.8/migration/\n",
      "  warnings.warn('The `dict` method is deprecated; use `model_dump` instead.', category=PydanticDeprecatedSince20)\n",
      "INFO:httpx:HTTP Request: POST https://api.openai.com/v1/chat/completions \"HTTP/1.1 200 OK\"\n",
      "/Users/user/miniconda3/envs/graphmaker/lib/python3.11/site-packages/pydantic/main.py:1087: PydanticDeprecatedSince20: The `dict` method is deprecated; use `model_dump` instead. Deprecated in Pydantic V2.0 to be removed in V3.0. See Pydantic V2 Migration Guide at https://errors.pydantic.dev/2.8/migration/\n",
      "  warnings.warn('The `dict` method is deprecated; use `model_dump` instead.', category=PydanticDeprecatedSince20)\n"
     ]
    },
    {
     "name": "stdout",
     "output_type": "stream",
     "text": [
      "\n",
      "Adding: 'Varre calls out to Mohg at the end of his questline.'\n"
     ]
    },
    {
     "name": "stderr",
     "output_type": "stream",
     "text": [
      "INFO:httpx:HTTP Request: POST https://api.openai.com/v1/chat/completions \"HTTP/1.1 200 OK\"\n",
      "/Users/user/miniconda3/envs/graphmaker/lib/python3.11/site-packages/pydantic/main.py:1087: PydanticDeprecatedSince20: The `dict` method is deprecated; use `model_dump` instead. Deprecated in Pydantic V2.0 to be removed in V3.0. See Pydantic V2 Migration Guide at https://errors.pydantic.dev/2.8/migration/\n",
      "  warnings.warn('The `dict` method is deprecated; use `model_dump` instead.', category=PydanticDeprecatedSince20)\n",
      "INFO:httpx:HTTP Request: POST https://api.openai.com/v1/chat/completions \"HTTP/1.1 200 OK\"\n",
      "/Users/user/miniconda3/envs/graphmaker/lib/python3.11/site-packages/pydantic/main.py:1087: PydanticDeprecatedSince20: The `dict` method is deprecated; use `model_dump` instead. Deprecated in Pydantic V2.0 to be removed in V3.0. See Pydantic V2 Migration Guide at https://errors.pydantic.dev/2.8/migration/\n",
      "  warnings.warn('The `dict` method is deprecated; use `model_dump` instead.', category=PydanticDeprecatedSince20)\n"
     ]
    },
    {
     "name": "stdout",
     "output_type": "stream",
     "text": [
      "Chunk Found (36362), adding to: Elden Ring Lore, History & Characters\n"
     ]
    },
    {
     "name": "stderr",
     "output_type": "stream",
     "text": [
      "INFO:httpx:HTTP Request: POST https://api.openai.com/v1/chat/completions \"HTTP/1.1 200 OK\"\n",
      "/Users/user/miniconda3/envs/graphmaker/lib/python3.11/site-packages/pydantic/main.py:1087: PydanticDeprecatedSince20: The `dict` method is deprecated; use `model_dump` instead. Deprecated in Pydantic V2.0 to be removed in V3.0. See Pydantic V2 Migration Guide at https://errors.pydantic.dev/2.8/migration/\n",
      "  warnings.warn('The `dict` method is deprecated; use `model_dump` instead.', category=PydanticDeprecatedSince20)\n",
      "INFO:httpx:HTTP Request: POST https://api.openai.com/v1/chat/completions \"HTTP/1.1 200 OK\"\n",
      "/Users/user/miniconda3/envs/graphmaker/lib/python3.11/site-packages/pydantic/main.py:1087: PydanticDeprecatedSince20: The `dict` method is deprecated; use `model_dump` instead. Deprecated in Pydantic V2.0 to be removed in V3.0. See Pydantic V2 Migration Guide at https://errors.pydantic.dev/2.8/migration/\n",
      "  warnings.warn('The `dict` method is deprecated; use `model_dump` instead.', category=PydanticDeprecatedSince20)\n"
     ]
    },
    {
     "name": "stdout",
     "output_type": "stream",
     "text": [
      "\n",
      "Adding: 'Varre blesses the Mohgwyn Dynasty even as he is dying.'\n"
     ]
    },
    {
     "name": "stderr",
     "output_type": "stream",
     "text": [
      "INFO:httpx:HTTP Request: POST https://api.openai.com/v1/chat/completions \"HTTP/1.1 200 OK\"\n",
      "/Users/user/miniconda3/envs/graphmaker/lib/python3.11/site-packages/pydantic/main.py:1087: PydanticDeprecatedSince20: The `dict` method is deprecated; use `model_dump` instead. Deprecated in Pydantic V2.0 to be removed in V3.0. See Pydantic V2 Migration Guide at https://errors.pydantic.dev/2.8/migration/\n",
      "  warnings.warn('The `dict` method is deprecated; use `model_dump` instead.', category=PydanticDeprecatedSince20)\n",
      "INFO:httpx:HTTP Request: POST https://api.openai.com/v1/chat/completions \"HTTP/1.1 200 OK\"\n",
      "/Users/user/miniconda3/envs/graphmaker/lib/python3.11/site-packages/pydantic/main.py:1087: PydanticDeprecatedSince20: The `dict` method is deprecated; use `model_dump` instead. Deprecated in Pydantic V2.0 to be removed in V3.0. See Pydantic V2 Migration Guide at https://errors.pydantic.dev/2.8/migration/\n",
      "  warnings.warn('The `dict` method is deprecated; use `model_dump` instead.', category=PydanticDeprecatedSince20)\n"
     ]
    },
    {
     "name": "stdout",
     "output_type": "stream",
     "text": [
      "Chunk Found (36362), adding to: Elden Ring Lore & Mythos\n"
     ]
    },
    {
     "name": "stderr",
     "output_type": "stream",
     "text": [
      "INFO:httpx:HTTP Request: POST https://api.openai.com/v1/chat/completions \"HTTP/1.1 200 OK\"\n",
      "/Users/user/miniconda3/envs/graphmaker/lib/python3.11/site-packages/pydantic/main.py:1087: PydanticDeprecatedSince20: The `dict` method is deprecated; use `model_dump` instead. Deprecated in Pydantic V2.0 to be removed in V3.0. See Pydantic V2 Migration Guide at https://errors.pydantic.dev/2.8/migration/\n",
      "  warnings.warn('The `dict` method is deprecated; use `model_dump` instead.', category=PydanticDeprecatedSince20)\n",
      "INFO:httpx:HTTP Request: POST https://api.openai.com/v1/chat/completions \"HTTP/1.1 200 OK\"\n",
      "/Users/user/miniconda3/envs/graphmaker/lib/python3.11/site-packages/pydantic/main.py:1087: PydanticDeprecatedSince20: The `dict` method is deprecated; use `model_dump` instead. Deprecated in Pydantic V2.0 to be removed in V3.0. See Pydantic V2 Migration Guide at https://errors.pydantic.dev/2.8/migration/\n",
      "  warnings.warn('The `dict` method is deprecated; use `model_dump` instead.', category=PydanticDeprecatedSince20)\n"
     ]
    },
    {
     "name": "stdout",
     "output_type": "stream",
     "text": [
      "\n",
      "Adding: 'Varre was forsaken by his Lord.'\n"
     ]
    },
    {
     "name": "stderr",
     "output_type": "stream",
     "text": [
      "INFO:httpx:HTTP Request: POST https://api.openai.com/v1/chat/completions \"HTTP/1.1 200 OK\"\n",
      "/Users/user/miniconda3/envs/graphmaker/lib/python3.11/site-packages/pydantic/main.py:1087: PydanticDeprecatedSince20: The `dict` method is deprecated; use `model_dump` instead. Deprecated in Pydantic V2.0 to be removed in V3.0. See Pydantic V2 Migration Guide at https://errors.pydantic.dev/2.8/migration/\n",
      "  warnings.warn('The `dict` method is deprecated; use `model_dump` instead.', category=PydanticDeprecatedSince20)\n",
      "INFO:httpx:HTTP Request: POST https://api.openai.com/v1/chat/completions \"HTTP/1.1 200 OK\"\n",
      "/Users/user/miniconda3/envs/graphmaker/lib/python3.11/site-packages/pydantic/main.py:1087: PydanticDeprecatedSince20: The `dict` method is deprecated; use `model_dump` instead. Deprecated in Pydantic V2.0 to be removed in V3.0. See Pydantic V2 Migration Guide at https://errors.pydantic.dev/2.8/migration/\n",
      "  warnings.warn('The `dict` method is deprecated; use `model_dump` instead.', category=PydanticDeprecatedSince20)\n"
     ]
    },
    {
     "name": "stdout",
     "output_type": "stream",
     "text": [
      "Chunk Found (36362), adding to: Elden Ring Lore, History & Characters\n"
     ]
    },
    {
     "name": "stderr",
     "output_type": "stream",
     "text": [
      "INFO:httpx:HTTP Request: POST https://api.openai.com/v1/chat/completions \"HTTP/1.1 200 OK\"\n",
      "/Users/user/miniconda3/envs/graphmaker/lib/python3.11/site-packages/pydantic/main.py:1087: PydanticDeprecatedSince20: The `dict` method is deprecated; use `model_dump` instead. Deprecated in Pydantic V2.0 to be removed in V3.0. See Pydantic V2 Migration Guide at https://errors.pydantic.dev/2.8/migration/\n",
      "  warnings.warn('The `dict` method is deprecated; use `model_dump` instead.', category=PydanticDeprecatedSince20)\n",
      "INFO:httpx:HTTP Request: POST https://api.openai.com/v1/chat/completions \"HTTP/1.1 200 OK\"\n",
      "/Users/user/miniconda3/envs/graphmaker/lib/python3.11/site-packages/pydantic/main.py:1087: PydanticDeprecatedSince20: The `dict` method is deprecated; use `model_dump` instead. Deprecated in Pydantic V2.0 to be removed in V3.0. See Pydantic V2 Migration Guide at https://errors.pydantic.dev/2.8/migration/\n",
      "  warnings.warn('The `dict` method is deprecated; use `model_dump` instead.', category=PydanticDeprecatedSince20)\n"
     ]
    },
    {
     "name": "stdout",
     "output_type": "stream",
     "text": [
      "\n",
      "Adding: 'Yura is a samurai from the Land of Reeds.'\n"
     ]
    },
    {
     "name": "stderr",
     "output_type": "stream",
     "text": [
      "INFO:httpx:HTTP Request: POST https://api.openai.com/v1/chat/completions \"HTTP/1.1 200 OK\"\n",
      "/Users/user/miniconda3/envs/graphmaker/lib/python3.11/site-packages/pydantic/main.py:1087: PydanticDeprecatedSince20: The `dict` method is deprecated; use `model_dump` instead. Deprecated in Pydantic V2.0 to be removed in V3.0. See Pydantic V2 Migration Guide at https://errors.pydantic.dev/2.8/migration/\n",
      "  warnings.warn('The `dict` method is deprecated; use `model_dump` instead.', category=PydanticDeprecatedSince20)\n",
      "INFO:httpx:HTTP Request: POST https://api.openai.com/v1/chat/completions \"HTTP/1.1 200 OK\"\n",
      "/Users/user/miniconda3/envs/graphmaker/lib/python3.11/site-packages/pydantic/main.py:1087: PydanticDeprecatedSince20: The `dict` method is deprecated; use `model_dump` instead. Deprecated in Pydantic V2.0 to be removed in V3.0. See Pydantic V2 Migration Guide at https://errors.pydantic.dev/2.8/migration/\n",
      "  warnings.warn('The `dict` method is deprecated; use `model_dump` instead.', category=PydanticDeprecatedSince20)\n"
     ]
    },
    {
     "name": "stdout",
     "output_type": "stream",
     "text": [
      "Chunk Found (36362), adding to: Elden Ring Lore & Mythos\n"
     ]
    },
    {
     "name": "stderr",
     "output_type": "stream",
     "text": [
      "INFO:httpx:HTTP Request: POST https://api.openai.com/v1/chat/completions \"HTTP/1.1 200 OK\"\n",
      "/Users/user/miniconda3/envs/graphmaker/lib/python3.11/site-packages/pydantic/main.py:1087: PydanticDeprecatedSince20: The `dict` method is deprecated; use `model_dump` instead. Deprecated in Pydantic V2.0 to be removed in V3.0. See Pydantic V2 Migration Guide at https://errors.pydantic.dev/2.8/migration/\n",
      "  warnings.warn('The `dict` method is deprecated; use `model_dump` instead.', category=PydanticDeprecatedSince20)\n",
      "INFO:httpx:HTTP Request: POST https://api.openai.com/v1/chat/completions \"HTTP/1.1 200 OK\"\n",
      "/Users/user/miniconda3/envs/graphmaker/lib/python3.11/site-packages/pydantic/main.py:1087: PydanticDeprecatedSince20: The `dict` method is deprecated; use `model_dump` instead. Deprecated in Pydantic V2.0 to be removed in V3.0. See Pydantic V2 Migration Guide at https://errors.pydantic.dev/2.8/migration/\n",
      "  warnings.warn('The `dict` method is deprecated; use `model_dump` instead.', category=PydanticDeprecatedSince20)\n"
     ]
    },
    {
     "name": "stdout",
     "output_type": "stream",
     "text": [
      "\n",
      "Adding: 'Yura's purpose is to hunt down Bloody Fingers.'\n"
     ]
    },
    {
     "name": "stderr",
     "output_type": "stream",
     "text": [
      "INFO:httpx:HTTP Request: POST https://api.openai.com/v1/chat/completions \"HTTP/1.1 200 OK\"\n",
      "/Users/user/miniconda3/envs/graphmaker/lib/python3.11/site-packages/pydantic/main.py:1087: PydanticDeprecatedSince20: The `dict` method is deprecated; use `model_dump` instead. Deprecated in Pydantic V2.0 to be removed in V3.0. See Pydantic V2 Migration Guide at https://errors.pydantic.dev/2.8/migration/\n",
      "  warnings.warn('The `dict` method is deprecated; use `model_dump` instead.', category=PydanticDeprecatedSince20)\n",
      "INFO:httpx:HTTP Request: POST https://api.openai.com/v1/chat/completions \"HTTP/1.1 200 OK\"\n",
      "/Users/user/miniconda3/envs/graphmaker/lib/python3.11/site-packages/pydantic/main.py:1087: PydanticDeprecatedSince20: The `dict` method is deprecated; use `model_dump` instead. Deprecated in Pydantic V2.0 to be removed in V3.0. See Pydantic V2 Migration Guide at https://errors.pydantic.dev/2.8/migration/\n",
      "  warnings.warn('The `dict` method is deprecated; use `model_dump` instead.', category=PydanticDeprecatedSince20)\n"
     ]
    },
    {
     "name": "stdout",
     "output_type": "stream",
     "text": [
      "Chunk Found (36362), adding to: Elden Ring Lore, History & Characters\n"
     ]
    },
    {
     "name": "stderr",
     "output_type": "stream",
     "text": [
      "INFO:httpx:HTTP Request: POST https://api.openai.com/v1/chat/completions \"HTTP/1.1 200 OK\"\n",
      "/Users/user/miniconda3/envs/graphmaker/lib/python3.11/site-packages/pydantic/main.py:1087: PydanticDeprecatedSince20: The `dict` method is deprecated; use `model_dump` instead. Deprecated in Pydantic V2.0 to be removed in V3.0. See Pydantic V2 Migration Guide at https://errors.pydantic.dev/2.8/migration/\n",
      "  warnings.warn('The `dict` method is deprecated; use `model_dump` instead.', category=PydanticDeprecatedSince20)\n",
      "INFO:httpx:HTTP Request: POST https://api.openai.com/v1/chat/completions \"HTTP/1.1 200 OK\"\n",
      "/Users/user/miniconda3/envs/graphmaker/lib/python3.11/site-packages/pydantic/main.py:1087: PydanticDeprecatedSince20: The `dict` method is deprecated; use `model_dump` instead. Deprecated in Pydantic V2.0 to be removed in V3.0. See Pydantic V2 Migration Guide at https://errors.pydantic.dev/2.8/migration/\n",
      "  warnings.warn('The `dict` method is deprecated; use `model_dump` instead.', category=PydanticDeprecatedSince20)\n"
     ]
    },
    {
     "name": "stdout",
     "output_type": "stream",
     "text": [
      "\n",
      "Adding: 'Yura's biggest target is Eleonora.'\n"
     ]
    },
    {
     "name": "stderr",
     "output_type": "stream",
     "text": [
      "INFO:httpx:HTTP Request: POST https://api.openai.com/v1/chat/completions \"HTTP/1.1 200 OK\"\n",
      "/Users/user/miniconda3/envs/graphmaker/lib/python3.11/site-packages/pydantic/main.py:1087: PydanticDeprecatedSince20: The `dict` method is deprecated; use `model_dump` instead. Deprecated in Pydantic V2.0 to be removed in V3.0. See Pydantic V2 Migration Guide at https://errors.pydantic.dev/2.8/migration/\n",
      "  warnings.warn('The `dict` method is deprecated; use `model_dump` instead.', category=PydanticDeprecatedSince20)\n",
      "INFO:httpx:HTTP Request: POST https://api.openai.com/v1/chat/completions \"HTTP/1.1 200 OK\"\n",
      "/Users/user/miniconda3/envs/graphmaker/lib/python3.11/site-packages/pydantic/main.py:1087: PydanticDeprecatedSince20: The `dict` method is deprecated; use `model_dump` instead. Deprecated in Pydantic V2.0 to be removed in V3.0. See Pydantic V2 Migration Guide at https://errors.pydantic.dev/2.8/migration/\n",
      "  warnings.warn('The `dict` method is deprecated; use `model_dump` instead.', category=PydanticDeprecatedSince20)\n"
     ]
    },
    {
     "name": "stdout",
     "output_type": "stream",
     "text": [
      "Chunk Found (36362), adding to: Elden Ring Lore & Mythos\n"
     ]
    },
    {
     "name": "stderr",
     "output_type": "stream",
     "text": [
      "INFO:httpx:HTTP Request: POST https://api.openai.com/v1/chat/completions \"HTTP/1.1 200 OK\"\n",
      "/Users/user/miniconda3/envs/graphmaker/lib/python3.11/site-packages/pydantic/main.py:1087: PydanticDeprecatedSince20: The `dict` method is deprecated; use `model_dump` instead. Deprecated in Pydantic V2.0 to be removed in V3.0. See Pydantic V2 Migration Guide at https://errors.pydantic.dev/2.8/migration/\n",
      "  warnings.warn('The `dict` method is deprecated; use `model_dump` instead.', category=PydanticDeprecatedSince20)\n",
      "INFO:httpx:HTTP Request: POST https://api.openai.com/v1/chat/completions \"HTTP/1.1 200 OK\"\n",
      "/Users/user/miniconda3/envs/graphmaker/lib/python3.11/site-packages/pydantic/main.py:1087: PydanticDeprecatedSince20: The `dict` method is deprecated; use `model_dump` instead. Deprecated in Pydantic V2.0 to be removed in V3.0. See Pydantic V2 Migration Guide at https://errors.pydantic.dev/2.8/migration/\n",
      "  warnings.warn('The `dict` method is deprecated; use `model_dump` instead.', category=PydanticDeprecatedSince20)\n"
     ]
    },
    {
     "name": "stdout",
     "output_type": "stream",
     "text": [
      "\n",
      "Adding: 'Yura warns the Tarnished against the dangers of Dragon Communion.'\n"
     ]
    },
    {
     "name": "stderr",
     "output_type": "stream",
     "text": [
      "INFO:httpx:HTTP Request: POST https://api.openai.com/v1/chat/completions \"HTTP/1.1 200 OK\"\n",
      "/Users/user/miniconda3/envs/graphmaker/lib/python3.11/site-packages/pydantic/main.py:1087: PydanticDeprecatedSince20: The `dict` method is deprecated; use `model_dump` instead. Deprecated in Pydantic V2.0 to be removed in V3.0. See Pydantic V2 Migration Guide at https://errors.pydantic.dev/2.8/migration/\n",
      "  warnings.warn('The `dict` method is deprecated; use `model_dump` instead.', category=PydanticDeprecatedSince20)\n",
      "INFO:httpx:HTTP Request: POST https://api.openai.com/v1/chat/completions \"HTTP/1.1 200 OK\"\n",
      "/Users/user/miniconda3/envs/graphmaker/lib/python3.11/site-packages/pydantic/main.py:1087: PydanticDeprecatedSince20: The `dict` method is deprecated; use `model_dump` instead. Deprecated in Pydantic V2.0 to be removed in V3.0. See Pydantic V2 Migration Guide at https://errors.pydantic.dev/2.8/migration/\n",
      "  warnings.warn('The `dict` method is deprecated; use `model_dump` instead.', category=PydanticDeprecatedSince20)\n"
     ]
    },
    {
     "name": "stdout",
     "output_type": "stream",
     "text": [
      "Chunk Found (36362), adding to: Elden Ring Lore, History & Characters\n"
     ]
    },
    {
     "name": "stderr",
     "output_type": "stream",
     "text": [
      "INFO:httpx:HTTP Request: POST https://api.openai.com/v1/chat/completions \"HTTP/1.1 200 OK\"\n",
      "/Users/user/miniconda3/envs/graphmaker/lib/python3.11/site-packages/pydantic/main.py:1087: PydanticDeprecatedSince20: The `dict` method is deprecated; use `model_dump` instead. Deprecated in Pydantic V2.0 to be removed in V3.0. See Pydantic V2 Migration Guide at https://errors.pydantic.dev/2.8/migration/\n",
      "  warnings.warn('The `dict` method is deprecated; use `model_dump` instead.', category=PydanticDeprecatedSince20)\n",
      "INFO:httpx:HTTP Request: POST https://api.openai.com/v1/chat/completions \"HTTP/1.1 200 OK\"\n",
      "/Users/user/miniconda3/envs/graphmaker/lib/python3.11/site-packages/pydantic/main.py:1087: PydanticDeprecatedSince20: The `dict` method is deprecated; use `model_dump` instead. Deprecated in Pydantic V2.0 to be removed in V3.0. See Pydantic V2 Migration Guide at https://errors.pydantic.dev/2.8/migration/\n",
      "  warnings.warn('The `dict` method is deprecated; use `model_dump` instead.', category=PydanticDeprecatedSince20)\n"
     ]
    },
    {
     "name": "stdout",
     "output_type": "stream",
     "text": [
      "\n",
      "Adding: 'Yura states that those who partake in Dragon Communion one day lose their humanity.'\n"
     ]
    },
    {
     "name": "stderr",
     "output_type": "stream",
     "text": [
      "INFO:httpx:HTTP Request: POST https://api.openai.com/v1/chat/completions \"HTTP/1.1 200 OK\"\n",
      "/Users/user/miniconda3/envs/graphmaker/lib/python3.11/site-packages/pydantic/main.py:1087: PydanticDeprecatedSince20: The `dict` method is deprecated; use `model_dump` instead. Deprecated in Pydantic V2.0 to be removed in V3.0. See Pydantic V2 Migration Guide at https://errors.pydantic.dev/2.8/migration/\n",
      "  warnings.warn('The `dict` method is deprecated; use `model_dump` instead.', category=PydanticDeprecatedSince20)\n",
      "INFO:httpx:HTTP Request: POST https://api.openai.com/v1/chat/completions \"HTTP/1.1 200 OK\"\n",
      "/Users/user/miniconda3/envs/graphmaker/lib/python3.11/site-packages/pydantic/main.py:1087: PydanticDeprecatedSince20: The `dict` method is deprecated; use `model_dump` instead. Deprecated in Pydantic V2.0 to be removed in V3.0. See Pydantic V2 Migration Guide at https://errors.pydantic.dev/2.8/migration/\n",
      "  warnings.warn('The `dict` method is deprecated; use `model_dump` instead.', category=PydanticDeprecatedSince20)\n"
     ]
    },
    {
     "name": "stdout",
     "output_type": "stream",
     "text": [
      "Chunk Found (36362), adding to: Elden Ring Lore & Mythos\n"
     ]
    },
    {
     "name": "stderr",
     "output_type": "stream",
     "text": [
      "INFO:httpx:HTTP Request: POST https://api.openai.com/v1/chat/completions \"HTTP/1.1 200 OK\"\n",
      "/Users/user/miniconda3/envs/graphmaker/lib/python3.11/site-packages/pydantic/main.py:1087: PydanticDeprecatedSince20: The `dict` method is deprecated; use `model_dump` instead. Deprecated in Pydantic V2.0 to be removed in V3.0. See Pydantic V2 Migration Guide at https://errors.pydantic.dev/2.8/migration/\n",
      "  warnings.warn('The `dict` method is deprecated; use `model_dump` instead.', category=PydanticDeprecatedSince20)\n",
      "INFO:httpx:HTTP Request: POST https://api.openai.com/v1/chat/completions \"HTTP/1.1 200 OK\"\n",
      "/Users/user/miniconda3/envs/graphmaker/lib/python3.11/site-packages/pydantic/main.py:1087: PydanticDeprecatedSince20: The `dict` method is deprecated; use `model_dump` instead. Deprecated in Pydantic V2.0 to be removed in V3.0. See Pydantic V2 Migration Guide at https://errors.pydantic.dev/2.8/migration/\n",
      "  warnings.warn('The `dict` method is deprecated; use `model_dump` instead.', category=PydanticDeprecatedSince20)\n"
     ]
    },
    {
     "name": "stdout",
     "output_type": "stream",
     "text": [
      "\n",
      "Adding: 'Other Bloody Fingers that the Tarnished encounter are targets of Yura.'\n"
     ]
    },
    {
     "name": "stderr",
     "output_type": "stream",
     "text": [
      "INFO:httpx:HTTP Request: POST https://api.openai.com/v1/chat/completions \"HTTP/1.1 200 OK\"\n",
      "/Users/user/miniconda3/envs/graphmaker/lib/python3.11/site-packages/pydantic/main.py:1087: PydanticDeprecatedSince20: The `dict` method is deprecated; use `model_dump` instead. Deprecated in Pydantic V2.0 to be removed in V3.0. See Pydantic V2 Migration Guide at https://errors.pydantic.dev/2.8/migration/\n",
      "  warnings.warn('The `dict` method is deprecated; use `model_dump` instead.', category=PydanticDeprecatedSince20)\n",
      "INFO:httpx:HTTP Request: POST https://api.openai.com/v1/chat/completions \"HTTP/1.1 200 OK\"\n",
      "/Users/user/miniconda3/envs/graphmaker/lib/python3.11/site-packages/pydantic/main.py:1087: PydanticDeprecatedSince20: The `dict` method is deprecated; use `model_dump` instead. Deprecated in Pydantic V2.0 to be removed in V3.0. See Pydantic V2 Migration Guide at https://errors.pydantic.dev/2.8/migration/\n",
      "  warnings.warn('The `dict` method is deprecated; use `model_dump` instead.', category=PydanticDeprecatedSince20)\n"
     ]
    },
    {
     "name": "stdout",
     "output_type": "stream",
     "text": [
      "Chunk Found (36362), adding to: Elden Ring Lore & History\n"
     ]
    },
    {
     "name": "stderr",
     "output_type": "stream",
     "text": [
      "INFO:httpx:HTTP Request: POST https://api.openai.com/v1/chat/completions \"HTTP/1.1 200 OK\"\n",
      "/Users/user/miniconda3/envs/graphmaker/lib/python3.11/site-packages/pydantic/main.py:1087: PydanticDeprecatedSince20: The `dict` method is deprecated; use `model_dump` instead. Deprecated in Pydantic V2.0 to be removed in V3.0. See Pydantic V2 Migration Guide at https://errors.pydantic.dev/2.8/migration/\n",
      "  warnings.warn('The `dict` method is deprecated; use `model_dump` instead.', category=PydanticDeprecatedSince20)\n",
      "INFO:httpx:HTTP Request: POST https://api.openai.com/v1/chat/completions \"HTTP/1.1 200 OK\"\n",
      "/Users/user/miniconda3/envs/graphmaker/lib/python3.11/site-packages/pydantic/main.py:1087: PydanticDeprecatedSince20: The `dict` method is deprecated; use `model_dump` instead. Deprecated in Pydantic V2.0 to be removed in V3.0. See Pydantic V2 Migration Guide at https://errors.pydantic.dev/2.8/migration/\n",
      "  warnings.warn('The `dict` method is deprecated; use `model_dump` instead.', category=PydanticDeprecatedSince20)\n"
     ]
    },
    {
     "name": "stdout",
     "output_type": "stream",
     "text": [
      "\n",
      "Adding: 'Sorcerer Rogier is a Tarnished.'\n"
     ]
    },
    {
     "name": "stderr",
     "output_type": "stream",
     "text": [
      "INFO:httpx:HTTP Request: POST https://api.openai.com/v1/chat/completions \"HTTP/1.1 200 OK\"\n",
      "/Users/user/miniconda3/envs/graphmaker/lib/python3.11/site-packages/pydantic/main.py:1087: PydanticDeprecatedSince20: The `dict` method is deprecated; use `model_dump` instead. Deprecated in Pydantic V2.0 to be removed in V3.0. See Pydantic V2 Migration Guide at https://errors.pydantic.dev/2.8/migration/\n",
      "  warnings.warn('The `dict` method is deprecated; use `model_dump` instead.', category=PydanticDeprecatedSince20)\n",
      "INFO:httpx:HTTP Request: POST https://api.openai.com/v1/chat/completions \"HTTP/1.1 200 OK\"\n",
      "/Users/user/miniconda3/envs/graphmaker/lib/python3.11/site-packages/pydantic/main.py:1087: PydanticDeprecatedSince20: The `dict` method is deprecated; use `model_dump` instead. Deprecated in Pydantic V2.0 to be removed in V3.0. See Pydantic V2 Migration Guide at https://errors.pydantic.dev/2.8/migration/\n",
      "  warnings.warn('The `dict` method is deprecated; use `model_dump` instead.', category=PydanticDeprecatedSince20)\n"
     ]
    },
    {
     "name": "stdout",
     "output_type": "stream",
     "text": [
      "Chunk Found (36362), adding to: Elden Ring Lore, Mythos & Characters\n"
     ]
    },
    {
     "name": "stderr",
     "output_type": "stream",
     "text": [
      "INFO:httpx:HTTP Request: POST https://api.openai.com/v1/chat/completions \"HTTP/1.1 200 OK\"\n",
      "/Users/user/miniconda3/envs/graphmaker/lib/python3.11/site-packages/pydantic/main.py:1087: PydanticDeprecatedSince20: The `dict` method is deprecated; use `model_dump` instead. Deprecated in Pydantic V2.0 to be removed in V3.0. See Pydantic V2 Migration Guide at https://errors.pydantic.dev/2.8/migration/\n",
      "  warnings.warn('The `dict` method is deprecated; use `model_dump` instead.', category=PydanticDeprecatedSince20)\n",
      "INFO:httpx:HTTP Request: POST https://api.openai.com/v1/chat/completions \"HTTP/1.1 200 OK\"\n",
      "/Users/user/miniconda3/envs/graphmaker/lib/python3.11/site-packages/pydantic/main.py:1087: PydanticDeprecatedSince20: The `dict` method is deprecated; use `model_dump` instead. Deprecated in Pydantic V2.0 to be removed in V3.0. See Pydantic V2 Migration Guide at https://errors.pydantic.dev/2.8/migration/\n",
      "  warnings.warn('The `dict` method is deprecated; use `model_dump` instead.', category=PydanticDeprecatedSince20)\n"
     ]
    },
    {
     "name": "stdout",
     "output_type": "stream",
     "text": [
      "\n",
      "Adding: 'Sorcerer Rogier has an easy-going nature.'\n"
     ]
    },
    {
     "name": "stderr",
     "output_type": "stream",
     "text": [
      "INFO:httpx:HTTP Request: POST https://api.openai.com/v1/chat/completions \"HTTP/1.1 200 OK\"\n",
      "/Users/user/miniconda3/envs/graphmaker/lib/python3.11/site-packages/pydantic/main.py:1087: PydanticDeprecatedSince20: The `dict` method is deprecated; use `model_dump` instead. Deprecated in Pydantic V2.0 to be removed in V3.0. See Pydantic V2 Migration Guide at https://errors.pydantic.dev/2.8/migration/\n",
      "  warnings.warn('The `dict` method is deprecated; use `model_dump` instead.', category=PydanticDeprecatedSince20)\n",
      "INFO:httpx:HTTP Request: POST https://api.openai.com/v1/chat/completions \"HTTP/1.1 200 OK\"\n",
      "/Users/user/miniconda3/envs/graphmaker/lib/python3.11/site-packages/pydantic/main.py:1087: PydanticDeprecatedSince20: The `dict` method is deprecated; use `model_dump` instead. Deprecated in Pydantic V2.0 to be removed in V3.0. See Pydantic V2 Migration Guide at https://errors.pydantic.dev/2.8/migration/\n",
      "  warnings.warn('The `dict` method is deprecated; use `model_dump` instead.', category=PydanticDeprecatedSince20)\n"
     ]
    },
    {
     "name": "stdout",
     "output_type": "stream",
     "text": [
      "Chunk Found (36362), adding to: Elden Ring Lore & History\n"
     ]
    },
    {
     "name": "stderr",
     "output_type": "stream",
     "text": [
      "INFO:httpx:HTTP Request: POST https://api.openai.com/v1/chat/completions \"HTTP/1.1 200 OK\"\n",
      "/Users/user/miniconda3/envs/graphmaker/lib/python3.11/site-packages/pydantic/main.py:1087: PydanticDeprecatedSince20: The `dict` method is deprecated; use `model_dump` instead. Deprecated in Pydantic V2.0 to be removed in V3.0. See Pydantic V2 Migration Guide at https://errors.pydantic.dev/2.8/migration/\n",
      "  warnings.warn('The `dict` method is deprecated; use `model_dump` instead.', category=PydanticDeprecatedSince20)\n",
      "INFO:httpx:HTTP Request: POST https://api.openai.com/v1/chat/completions \"HTTP/1.1 200 OK\"\n",
      "/Users/user/miniconda3/envs/graphmaker/lib/python3.11/site-packages/pydantic/main.py:1087: PydanticDeprecatedSince20: The `dict` method is deprecated; use `model_dump` instead. Deprecated in Pydantic V2.0 to be removed in V3.0. See Pydantic V2 Migration Guide at https://errors.pydantic.dev/2.8/migration/\n",
      "  warnings.warn('The `dict` method is deprecated; use `model_dump` instead.', category=PydanticDeprecatedSince20)\n"
     ]
    },
    {
     "name": "stdout",
     "output_type": "stream",
     "text": [
      "\n",
      "Adding: 'Sorcerer Rogier is said to be a wise and powerful sorcerer by his old travelling companion, D.'\n"
     ]
    },
    {
     "name": "stderr",
     "output_type": "stream",
     "text": [
      "INFO:httpx:HTTP Request: POST https://api.openai.com/v1/chat/completions \"HTTP/1.1 200 OK\"\n",
      "/Users/user/miniconda3/envs/graphmaker/lib/python3.11/site-packages/pydantic/main.py:1087: PydanticDeprecatedSince20: The `dict` method is deprecated; use `model_dump` instead. Deprecated in Pydantic V2.0 to be removed in V3.0. See Pydantic V2 Migration Guide at https://errors.pydantic.dev/2.8/migration/\n",
      "  warnings.warn('The `dict` method is deprecated; use `model_dump` instead.', category=PydanticDeprecatedSince20)\n",
      "INFO:httpx:HTTP Request: POST https://api.openai.com/v1/chat/completions \"HTTP/1.1 200 OK\"\n",
      "/Users/user/miniconda3/envs/graphmaker/lib/python3.11/site-packages/pydantic/main.py:1087: PydanticDeprecatedSince20: The `dict` method is deprecated; use `model_dump` instead. Deprecated in Pydantic V2.0 to be removed in V3.0. See Pydantic V2 Migration Guide at https://errors.pydantic.dev/2.8/migration/\n",
      "  warnings.warn('The `dict` method is deprecated; use `model_dump` instead.', category=PydanticDeprecatedSince20)\n"
     ]
    },
    {
     "name": "stdout",
     "output_type": "stream",
     "text": [
      "Chunk Found (36362), adding to: Elden Ring Lore, Characters & Events\n"
     ]
    },
    {
     "name": "stderr",
     "output_type": "stream",
     "text": [
      "INFO:httpx:HTTP Request: POST https://api.openai.com/v1/chat/completions \"HTTP/1.1 200 OK\"\n",
      "/Users/user/miniconda3/envs/graphmaker/lib/python3.11/site-packages/pydantic/main.py:1087: PydanticDeprecatedSince20: The `dict` method is deprecated; use `model_dump` instead. Deprecated in Pydantic V2.0 to be removed in V3.0. See Pydantic V2 Migration Guide at https://errors.pydantic.dev/2.8/migration/\n",
      "  warnings.warn('The `dict` method is deprecated; use `model_dump` instead.', category=PydanticDeprecatedSince20)\n",
      "INFO:httpx:HTTP Request: POST https://api.openai.com/v1/chat/completions \"HTTP/1.1 200 OK\"\n",
      "/Users/user/miniconda3/envs/graphmaker/lib/python3.11/site-packages/pydantic/main.py:1087: PydanticDeprecatedSince20: The `dict` method is deprecated; use `model_dump` instead. Deprecated in Pydantic V2.0 to be removed in V3.0. See Pydantic V2 Migration Guide at https://errors.pydantic.dev/2.8/migration/\n",
      "  warnings.warn('The `dict` method is deprecated; use `model_dump` instead.', category=PydanticDeprecatedSince20)\n"
     ]
    },
    {
     "name": "stdout",
     "output_type": "stream",
     "text": [
      "\n",
      "Adding: 'Sorcerer Rogier was once a scholar.'\n"
     ]
    },
    {
     "name": "stderr",
     "output_type": "stream",
     "text": [
      "INFO:httpx:HTTP Request: POST https://api.openai.com/v1/chat/completions \"HTTP/1.1 200 OK\"\n",
      "/Users/user/miniconda3/envs/graphmaker/lib/python3.11/site-packages/pydantic/main.py:1087: PydanticDeprecatedSince20: The `dict` method is deprecated; use `model_dump` instead. Deprecated in Pydantic V2.0 to be removed in V3.0. See Pydantic V2 Migration Guide at https://errors.pydantic.dev/2.8/migration/\n",
      "  warnings.warn('The `dict` method is deprecated; use `model_dump` instead.', category=PydanticDeprecatedSince20)\n",
      "INFO:httpx:HTTP Request: POST https://api.openai.com/v1/chat/completions \"HTTP/1.1 200 OK\"\n",
      "/Users/user/miniconda3/envs/graphmaker/lib/python3.11/site-packages/pydantic/main.py:1087: PydanticDeprecatedSince20: The `dict` method is deprecated; use `model_dump` instead. Deprecated in Pydantic V2.0 to be removed in V3.0. See Pydantic V2 Migration Guide at https://errors.pydantic.dev/2.8/migration/\n",
      "  warnings.warn('The `dict` method is deprecated; use `model_dump` instead.', category=PydanticDeprecatedSince20)\n"
     ]
    },
    {
     "name": "stdout",
     "output_type": "stream",
     "text": [
      "Chunk Found (36362), adding to: Elden Ring Lore & Mythos\n"
     ]
    },
    {
     "name": "stderr",
     "output_type": "stream",
     "text": [
      "INFO:httpx:HTTP Request: POST https://api.openai.com/v1/chat/completions \"HTTP/1.1 200 OK\"\n",
      "/Users/user/miniconda3/envs/graphmaker/lib/python3.11/site-packages/pydantic/main.py:1087: PydanticDeprecatedSince20: The `dict` method is deprecated; use `model_dump` instead. Deprecated in Pydantic V2.0 to be removed in V3.0. See Pydantic V2 Migration Guide at https://errors.pydantic.dev/2.8/migration/\n",
      "  warnings.warn('The `dict` method is deprecated; use `model_dump` instead.', category=PydanticDeprecatedSince20)\n",
      "INFO:httpx:HTTP Request: POST https://api.openai.com/v1/chat/completions \"HTTP/1.1 200 OK\"\n",
      "/Users/user/miniconda3/envs/graphmaker/lib/python3.11/site-packages/pydantic/main.py:1087: PydanticDeprecatedSince20: The `dict` method is deprecated; use `model_dump` instead. Deprecated in Pydantic V2.0 to be removed in V3.0. See Pydantic V2 Migration Guide at https://errors.pydantic.dev/2.8/migration/\n",
      "  warnings.warn('The `dict` method is deprecated; use `model_dump` instead.', category=PydanticDeprecatedSince20)\n"
     ]
    },
    {
     "name": "stdout",
     "output_type": "stream",
     "text": [
      "\n",
      "Adding: 'Sorcerer Rogier was seeking the truth behind the Night of the Black Knives.'\n"
     ]
    },
    {
     "name": "stderr",
     "output_type": "stream",
     "text": [
      "INFO:httpx:HTTP Request: POST https://api.openai.com/v1/chat/completions \"HTTP/1.1 200 OK\"\n",
      "/Users/user/miniconda3/envs/graphmaker/lib/python3.11/site-packages/pydantic/main.py:1087: PydanticDeprecatedSince20: The `dict` method is deprecated; use `model_dump` instead. Deprecated in Pydantic V2.0 to be removed in V3.0. See Pydantic V2 Migration Guide at https://errors.pydantic.dev/2.8/migration/\n",
      "  warnings.warn('The `dict` method is deprecated; use `model_dump` instead.', category=PydanticDeprecatedSince20)\n",
      "INFO:httpx:HTTP Request: POST https://api.openai.com/v1/chat/completions \"HTTP/1.1 200 OK\"\n",
      "/Users/user/miniconda3/envs/graphmaker/lib/python3.11/site-packages/pydantic/main.py:1087: PydanticDeprecatedSince20: The `dict` method is deprecated; use `model_dump` instead. Deprecated in Pydantic V2.0 to be removed in V3.0. See Pydantic V2 Migration Guide at https://errors.pydantic.dev/2.8/migration/\n",
      "  warnings.warn('The `dict` method is deprecated; use `model_dump` instead.', category=PydanticDeprecatedSince20)\n"
     ]
    },
    {
     "name": "stdout",
     "output_type": "stream",
     "text": [
      "Chunk Found (36362), adding to: Elden Ring Lore, History & Characters\n"
     ]
    },
    {
     "name": "stderr",
     "output_type": "stream",
     "text": [
      "INFO:httpx:HTTP Request: POST https://api.openai.com/v1/chat/completions \"HTTP/1.1 200 OK\"\n",
      "/Users/user/miniconda3/envs/graphmaker/lib/python3.11/site-packages/pydantic/main.py:1087: PydanticDeprecatedSince20: The `dict` method is deprecated; use `model_dump` instead. Deprecated in Pydantic V2.0 to be removed in V3.0. See Pydantic V2 Migration Guide at https://errors.pydantic.dev/2.8/migration/\n",
      "  warnings.warn('The `dict` method is deprecated; use `model_dump` instead.', category=PydanticDeprecatedSince20)\n",
      "INFO:httpx:HTTP Request: POST https://api.openai.com/v1/chat/completions \"HTTP/1.1 200 OK\"\n",
      "/Users/user/miniconda3/envs/graphmaker/lib/python3.11/site-packages/pydantic/main.py:1087: PydanticDeprecatedSince20: The `dict` method is deprecated; use `model_dump` instead. Deprecated in Pydantic V2.0 to be removed in V3.0. See Pydantic V2 Migration Guide at https://errors.pydantic.dev/2.8/migration/\n",
      "  warnings.warn('The `dict` method is deprecated; use `model_dump` instead.', category=PydanticDeprecatedSince20)\n"
     ]
    },
    {
     "name": "stdout",
     "output_type": "stream",
     "text": [
      "\n",
      "Adding: 'Sorcerer Rogier's scholarly pursuits eventually brought him under Stormveil Castle.'\n"
     ]
    },
    {
     "name": "stderr",
     "output_type": "stream",
     "text": [
      "INFO:httpx:HTTP Request: POST https://api.openai.com/v1/chat/completions \"HTTP/1.1 200 OK\"\n",
      "/Users/user/miniconda3/envs/graphmaker/lib/python3.11/site-packages/pydantic/main.py:1087: PydanticDeprecatedSince20: The `dict` method is deprecated; use `model_dump` instead. Deprecated in Pydantic V2.0 to be removed in V3.0. See Pydantic V2 Migration Guide at https://errors.pydantic.dev/2.8/migration/\n",
      "  warnings.warn('The `dict` method is deprecated; use `model_dump` instead.', category=PydanticDeprecatedSince20)\n",
      "INFO:httpx:HTTP Request: POST https://api.openai.com/v1/chat/completions \"HTTP/1.1 200 OK\"\n",
      "/Users/user/miniconda3/envs/graphmaker/lib/python3.11/site-packages/pydantic/main.py:1087: PydanticDeprecatedSince20: The `dict` method is deprecated; use `model_dump` instead. Deprecated in Pydantic V2.0 to be removed in V3.0. See Pydantic V2 Migration Guide at https://errors.pydantic.dev/2.8/migration/\n",
      "  warnings.warn('The `dict` method is deprecated; use `model_dump` instead.', category=PydanticDeprecatedSince20)\n"
     ]
    },
    {
     "name": "stdout",
     "output_type": "stream",
     "text": [
      "Chunk Found (36362), adding to: Elden Ring Lore & Mythos\n"
     ]
    },
    {
     "name": "stderr",
     "output_type": "stream",
     "text": [
      "INFO:httpx:HTTP Request: POST https://api.openai.com/v1/chat/completions \"HTTP/1.1 200 OK\"\n",
      "/Users/user/miniconda3/envs/graphmaker/lib/python3.11/site-packages/pydantic/main.py:1087: PydanticDeprecatedSince20: The `dict` method is deprecated; use `model_dump` instead. Deprecated in Pydantic V2.0 to be removed in V3.0. See Pydantic V2 Migration Guide at https://errors.pydantic.dev/2.8/migration/\n",
      "  warnings.warn('The `dict` method is deprecated; use `model_dump` instead.', category=PydanticDeprecatedSince20)\n",
      "INFO:httpx:HTTP Request: POST https://api.openai.com/v1/chat/completions \"HTTP/1.1 200 OK\"\n",
      "/Users/user/miniconda3/envs/graphmaker/lib/python3.11/site-packages/pydantic/main.py:1087: PydanticDeprecatedSince20: The `dict` method is deprecated; use `model_dump` instead. Deprecated in Pydantic V2.0 to be removed in V3.0. See Pydantic V2 Migration Guide at https://errors.pydantic.dev/2.8/migration/\n",
      "  warnings.warn('The `dict` method is deprecated; use `model_dump` instead.', category=PydanticDeprecatedSince20)\n"
     ]
    },
    {
     "name": "stdout",
     "output_type": "stream",
     "text": [
      "\n",
      "Adding: 'Sorcerer Rogier found and disturbed a corpse under Stormveil Castle.'\n"
     ]
    },
    {
     "name": "stderr",
     "output_type": "stream",
     "text": [
      "INFO:httpx:HTTP Request: POST https://api.openai.com/v1/chat/completions \"HTTP/1.1 200 OK\"\n",
      "/Users/user/miniconda3/envs/graphmaker/lib/python3.11/site-packages/pydantic/main.py:1087: PydanticDeprecatedSince20: The `dict` method is deprecated; use `model_dump` instead. Deprecated in Pydantic V2.0 to be removed in V3.0. See Pydantic V2 Migration Guide at https://errors.pydantic.dev/2.8/migration/\n",
      "  warnings.warn('The `dict` method is deprecated; use `model_dump` instead.', category=PydanticDeprecatedSince20)\n",
      "INFO:httpx:HTTP Request: POST https://api.openai.com/v1/chat/completions \"HTTP/1.1 200 OK\"\n",
      "/Users/user/miniconda3/envs/graphmaker/lib/python3.11/site-packages/pydantic/main.py:1087: PydanticDeprecatedSince20: The `dict` method is deprecated; use `model_dump` instead. Deprecated in Pydantic V2.0 to be removed in V3.0. See Pydantic V2 Migration Guide at https://errors.pydantic.dev/2.8/migration/\n",
      "  warnings.warn('The `dict` method is deprecated; use `model_dump` instead.', category=PydanticDeprecatedSince20)\n"
     ]
    },
    {
     "name": "stdout",
     "output_type": "stream",
     "text": [
      "Chunk Found (36362), adding to: Elden Ring Lore, History & Characters\n"
     ]
    },
    {
     "name": "stderr",
     "output_type": "stream",
     "text": [
      "INFO:httpx:HTTP Request: POST https://api.openai.com/v1/chat/completions \"HTTP/1.1 200 OK\"\n",
      "/Users/user/miniconda3/envs/graphmaker/lib/python3.11/site-packages/pydantic/main.py:1087: PydanticDeprecatedSince20: The `dict` method is deprecated; use `model_dump` instead. Deprecated in Pydantic V2.0 to be removed in V3.0. See Pydantic V2 Migration Guide at https://errors.pydantic.dev/2.8/migration/\n",
      "  warnings.warn('The `dict` method is deprecated; use `model_dump` instead.', category=PydanticDeprecatedSince20)\n",
      "INFO:httpx:HTTP Request: POST https://api.openai.com/v1/chat/completions \"HTTP/1.1 200 OK\"\n",
      "/Users/user/miniconda3/envs/graphmaker/lib/python3.11/site-packages/pydantic/main.py:1087: PydanticDeprecatedSince20: The `dict` method is deprecated; use `model_dump` instead. Deprecated in Pydantic V2.0 to be removed in V3.0. See Pydantic V2 Migration Guide at https://errors.pydantic.dev/2.8/migration/\n",
      "  warnings.warn('The `dict` method is deprecated; use `model_dump` instead.', category=PydanticDeprecatedSince20)\n"
     ]
    },
    {
     "name": "stdout",
     "output_type": "stream",
     "text": [
      "\n",
      "Adding: 'Disturbing the corpse caused Sorcerer Rogier to be afflicted with Death.'\n"
     ]
    },
    {
     "name": "stderr",
     "output_type": "stream",
     "text": [
      "INFO:httpx:HTTP Request: POST https://api.openai.com/v1/chat/completions \"HTTP/1.1 200 OK\"\n",
      "/Users/user/miniconda3/envs/graphmaker/lib/python3.11/site-packages/pydantic/main.py:1087: PydanticDeprecatedSince20: The `dict` method is deprecated; use `model_dump` instead. Deprecated in Pydantic V2.0 to be removed in V3.0. See Pydantic V2 Migration Guide at https://errors.pydantic.dev/2.8/migration/\n",
      "  warnings.warn('The `dict` method is deprecated; use `model_dump` instead.', category=PydanticDeprecatedSince20)\n",
      "INFO:httpx:HTTP Request: POST https://api.openai.com/v1/chat/completions \"HTTP/1.1 200 OK\"\n",
      "/Users/user/miniconda3/envs/graphmaker/lib/python3.11/site-packages/pydantic/main.py:1087: PydanticDeprecatedSince20: The `dict` method is deprecated; use `model_dump` instead. Deprecated in Pydantic V2.0 to be removed in V3.0. See Pydantic V2 Migration Guide at https://errors.pydantic.dev/2.8/migration/\n",
      "  warnings.warn('The `dict` method is deprecated; use `model_dump` instead.', category=PydanticDeprecatedSince20)\n"
     ]
    },
    {
     "name": "stdout",
     "output_type": "stream",
     "text": [
      "Chunk Found (36362), adding to: Elden Ring Lore & Mythos\n"
     ]
    },
    {
     "name": "stderr",
     "output_type": "stream",
     "text": [
      "INFO:httpx:HTTP Request: POST https://api.openai.com/v1/chat/completions \"HTTP/1.1 200 OK\"\n",
      "/Users/user/miniconda3/envs/graphmaker/lib/python3.11/site-packages/pydantic/main.py:1087: PydanticDeprecatedSince20: The `dict` method is deprecated; use `model_dump` instead. Deprecated in Pydantic V2.0 to be removed in V3.0. See Pydantic V2 Migration Guide at https://errors.pydantic.dev/2.8/migration/\n",
      "  warnings.warn('The `dict` method is deprecated; use `model_dump` instead.', category=PydanticDeprecatedSince20)\n",
      "INFO:httpx:HTTP Request: POST https://api.openai.com/v1/chat/completions \"HTTP/1.1 200 OK\"\n",
      "/Users/user/miniconda3/envs/graphmaker/lib/python3.11/site-packages/pydantic/main.py:1087: PydanticDeprecatedSince20: The `dict` method is deprecated; use `model_dump` instead. Deprecated in Pydantic V2.0 to be removed in V3.0. See Pydantic V2 Migration Guide at https://errors.pydantic.dev/2.8/migration/\n",
      "  warnings.warn('The `dict` method is deprecated; use `model_dump` instead.', category=PydanticDeprecatedSince20)\n"
     ]
    },
    {
     "name": "stdout",
     "output_type": "stream",
     "text": [
      "\n",
      "Adding: 'D sees Those Who Live in Death as a threat against the Golden Order.'\n"
     ]
    },
    {
     "name": "stderr",
     "output_type": "stream",
     "text": [
      "INFO:httpx:HTTP Request: POST https://api.openai.com/v1/chat/completions \"HTTP/1.1 200 OK\"\n",
      "/Users/user/miniconda3/envs/graphmaker/lib/python3.11/site-packages/pydantic/main.py:1087: PydanticDeprecatedSince20: The `dict` method is deprecated; use `model_dump` instead. Deprecated in Pydantic V2.0 to be removed in V3.0. See Pydantic V2 Migration Guide at https://errors.pydantic.dev/2.8/migration/\n",
      "  warnings.warn('The `dict` method is deprecated; use `model_dump` instead.', category=PydanticDeprecatedSince20)\n",
      "INFO:httpx:HTTP Request: POST https://api.openai.com/v1/chat/completions \"HTTP/1.1 200 OK\"\n",
      "/Users/user/miniconda3/envs/graphmaker/lib/python3.11/site-packages/pydantic/main.py:1087: PydanticDeprecatedSince20: The `dict` method is deprecated; use `model_dump` instead. Deprecated in Pydantic V2.0 to be removed in V3.0. See Pydantic V2 Migration Guide at https://errors.pydantic.dev/2.8/migration/\n",
      "  warnings.warn('The `dict` method is deprecated; use `model_dump` instead.', category=PydanticDeprecatedSince20)\n"
     ]
    },
    {
     "name": "stdout",
     "output_type": "stream",
     "text": [
      "Chunk Found (36362), adding to: Elden Ring Lore & History\n"
     ]
    },
    {
     "name": "stderr",
     "output_type": "stream",
     "text": [
      "INFO:httpx:HTTP Request: POST https://api.openai.com/v1/chat/completions \"HTTP/1.1 200 OK\"\n",
      "/Users/user/miniconda3/envs/graphmaker/lib/python3.11/site-packages/pydantic/main.py:1087: PydanticDeprecatedSince20: The `dict` method is deprecated; use `model_dump` instead. Deprecated in Pydantic V2.0 to be removed in V3.0. See Pydantic V2 Migration Guide at https://errors.pydantic.dev/2.8/migration/\n",
      "  warnings.warn('The `dict` method is deprecated; use `model_dump` instead.', category=PydanticDeprecatedSince20)\n",
      "INFO:httpx:HTTP Request: POST https://api.openai.com/v1/chat/completions \"HTTP/1.1 200 OK\"\n",
      "/Users/user/miniconda3/envs/graphmaker/lib/python3.11/site-packages/pydantic/main.py:1087: PydanticDeprecatedSince20: The `dict` method is deprecated; use `model_dump` instead. Deprecated in Pydantic V2.0 to be removed in V3.0. See Pydantic V2 Migration Guide at https://errors.pydantic.dev/2.8/migration/\n",
      "  warnings.warn('The `dict` method is deprecated; use `model_dump` instead.', category=PydanticDeprecatedSince20)\n"
     ]
    },
    {
     "name": "stdout",
     "output_type": "stream",
     "text": [
      "\n",
      "Adding: 'Sorcerer Rogier is empathetic towards Those Who Live in Death.'\n"
     ]
    },
    {
     "name": "stderr",
     "output_type": "stream",
     "text": [
      "INFO:httpx:HTTP Request: POST https://api.openai.com/v1/chat/completions \"HTTP/1.1 200 OK\"\n",
      "/Users/user/miniconda3/envs/graphmaker/lib/python3.11/site-packages/pydantic/main.py:1087: PydanticDeprecatedSince20: The `dict` method is deprecated; use `model_dump` instead. Deprecated in Pydantic V2.0 to be removed in V3.0. See Pydantic V2 Migration Guide at https://errors.pydantic.dev/2.8/migration/\n",
      "  warnings.warn('The `dict` method is deprecated; use `model_dump` instead.', category=PydanticDeprecatedSince20)\n",
      "INFO:httpx:HTTP Request: POST https://api.openai.com/v1/chat/completions \"HTTP/1.1 200 OK\"\n",
      "/Users/user/miniconda3/envs/graphmaker/lib/python3.11/site-packages/pydantic/main.py:1087: PydanticDeprecatedSince20: The `dict` method is deprecated; use `model_dump` instead. Deprecated in Pydantic V2.0 to be removed in V3.0. See Pydantic V2 Migration Guide at https://errors.pydantic.dev/2.8/migration/\n",
      "  warnings.warn('The `dict` method is deprecated; use `model_dump` instead.', category=PydanticDeprecatedSince20)\n"
     ]
    },
    {
     "name": "stdout",
     "output_type": "stream",
     "text": [
      "Chunk Found (36362), adding to: Elden Ring Lore & Mythos\n"
     ]
    },
    {
     "name": "stderr",
     "output_type": "stream",
     "text": [
      "INFO:httpx:HTTP Request: POST https://api.openai.com/v1/chat/completions \"HTTP/1.1 200 OK\"\n",
      "/Users/user/miniconda3/envs/graphmaker/lib/python3.11/site-packages/pydantic/main.py:1087: PydanticDeprecatedSince20: The `dict` method is deprecated; use `model_dump` instead. Deprecated in Pydantic V2.0 to be removed in V3.0. See Pydantic V2 Migration Guide at https://errors.pydantic.dev/2.8/migration/\n",
      "  warnings.warn('The `dict` method is deprecated; use `model_dump` instead.', category=PydanticDeprecatedSince20)\n",
      "INFO:httpx:HTTP Request: POST https://api.openai.com/v1/chat/completions \"HTTP/1.1 200 OK\"\n",
      "/Users/user/miniconda3/envs/graphmaker/lib/python3.11/site-packages/pydantic/main.py:1087: PydanticDeprecatedSince20: The `dict` method is deprecated; use `model_dump` instead. Deprecated in Pydantic V2.0 to be removed in V3.0. See Pydantic V2 Migration Guide at https://errors.pydantic.dev/2.8/migration/\n",
      "  warnings.warn('The `dict` method is deprecated; use `model_dump` instead.', category=PydanticDeprecatedSince20)\n"
     ]
    },
    {
     "name": "stdout",
     "output_type": "stream",
     "text": [
      "\n",
      "Adding: 'Sorcerer Rogier believes Those Who Live in Death have committed no offence.'\n"
     ]
    },
    {
     "name": "stderr",
     "output_type": "stream",
     "text": [
      "INFO:httpx:HTTP Request: POST https://api.openai.com/v1/chat/completions \"HTTP/1.1 200 OK\"\n",
      "/Users/user/miniconda3/envs/graphmaker/lib/python3.11/site-packages/pydantic/main.py:1087: PydanticDeprecatedSince20: The `dict` method is deprecated; use `model_dump` instead. Deprecated in Pydantic V2.0 to be removed in V3.0. See Pydantic V2 Migration Guide at https://errors.pydantic.dev/2.8/migration/\n",
      "  warnings.warn('The `dict` method is deprecated; use `model_dump` instead.', category=PydanticDeprecatedSince20)\n",
      "INFO:httpx:HTTP Request: POST https://api.openai.com/v1/chat/completions \"HTTP/1.1 200 OK\"\n",
      "/Users/user/miniconda3/envs/graphmaker/lib/python3.11/site-packages/pydantic/main.py:1087: PydanticDeprecatedSince20: The `dict` method is deprecated; use `model_dump` instead. Deprecated in Pydantic V2.0 to be removed in V3.0. See Pydantic V2 Migration Guide at https://errors.pydantic.dev/2.8/migration/\n",
      "  warnings.warn('The `dict` method is deprecated; use `model_dump` instead.', category=PydanticDeprecatedSince20)\n"
     ]
    },
    {
     "name": "stdout",
     "output_type": "stream",
     "text": [
      "Chunk Found (36362), adding to: Elden Ring Lore & History\n"
     ]
    },
    {
     "name": "stderr",
     "output_type": "stream",
     "text": [
      "INFO:httpx:HTTP Request: POST https://api.openai.com/v1/chat/completions \"HTTP/1.1 200 OK\"\n",
      "/Users/user/miniconda3/envs/graphmaker/lib/python3.11/site-packages/pydantic/main.py:1087: PydanticDeprecatedSince20: The `dict` method is deprecated; use `model_dump` instead. Deprecated in Pydantic V2.0 to be removed in V3.0. See Pydantic V2 Migration Guide at https://errors.pydantic.dev/2.8/migration/\n",
      "  warnings.warn('The `dict` method is deprecated; use `model_dump` instead.', category=PydanticDeprecatedSince20)\n",
      "INFO:httpx:HTTP Request: POST https://api.openai.com/v1/chat/completions \"HTTP/1.1 200 OK\"\n",
      "/Users/user/miniconda3/envs/graphmaker/lib/python3.11/site-packages/pydantic/main.py:1087: PydanticDeprecatedSince20: The `dict` method is deprecated; use `model_dump` instead. Deprecated in Pydantic V2.0 to be removed in V3.0. See Pydantic V2 Migration Guide at https://errors.pydantic.dev/2.8/migration/\n",
      "  warnings.warn('The `dict` method is deprecated; use `model_dump` instead.', category=PydanticDeprecatedSince20)\n"
     ]
    },
    {
     "name": "stdout",
     "output_type": "stream",
     "text": [
      "\n",
      "Adding: 'By finishing Sorcerer Rogier's quest, the Tarnished is able to help Sorcerer Rogier reveal many insights about the night of the assassination.'\n"
     ]
    },
    {
     "name": "stderr",
     "output_type": "stream",
     "text": [
      "INFO:httpx:HTTP Request: POST https://api.openai.com/v1/chat/completions \"HTTP/1.1 200 OK\"\n",
      "/Users/user/miniconda3/envs/graphmaker/lib/python3.11/site-packages/pydantic/main.py:1087: PydanticDeprecatedSince20: The `dict` method is deprecated; use `model_dump` instead. Deprecated in Pydantic V2.0 to be removed in V3.0. See Pydantic V2 Migration Guide at https://errors.pydantic.dev/2.8/migration/\n",
      "  warnings.warn('The `dict` method is deprecated; use `model_dump` instead.', category=PydanticDeprecatedSince20)\n",
      "INFO:httpx:HTTP Request: POST https://api.openai.com/v1/chat/completions \"HTTP/1.1 200 OK\"\n",
      "/Users/user/miniconda3/envs/graphmaker/lib/python3.11/site-packages/pydantic/main.py:1087: PydanticDeprecatedSince20: The `dict` method is deprecated; use `model_dump` instead. Deprecated in Pydantic V2.0 to be removed in V3.0. See Pydantic V2 Migration Guide at https://errors.pydantic.dev/2.8/migration/\n",
      "  warnings.warn('The `dict` method is deprecated; use `model_dump` instead.', category=PydanticDeprecatedSince20)\n"
     ]
    },
    {
     "name": "stdout",
     "output_type": "stream",
     "text": [
      "Chunk Found (36362), adding to: Elden Ring Lore & Mythos\n"
     ]
    },
    {
     "name": "stderr",
     "output_type": "stream",
     "text": [
      "INFO:httpx:HTTP Request: POST https://api.openai.com/v1/chat/completions \"HTTP/1.1 200 OK\"\n",
      "/Users/user/miniconda3/envs/graphmaker/lib/python3.11/site-packages/pydantic/main.py:1087: PydanticDeprecatedSince20: The `dict` method is deprecated; use `model_dump` instead. Deprecated in Pydantic V2.0 to be removed in V3.0. See Pydantic V2 Migration Guide at https://errors.pydantic.dev/2.8/migration/\n",
      "  warnings.warn('The `dict` method is deprecated; use `model_dump` instead.', category=PydanticDeprecatedSince20)\n",
      "INFO:httpx:HTTP Request: POST https://api.openai.com/v1/chat/completions \"HTTP/1.1 200 OK\"\n",
      "/Users/user/miniconda3/envs/graphmaker/lib/python3.11/site-packages/pydantic/main.py:1087: PydanticDeprecatedSince20: The `dict` method is deprecated; use `model_dump` instead. Deprecated in Pydantic V2.0 to be removed in V3.0. See Pydantic V2 Migration Guide at https://errors.pydantic.dev/2.8/migration/\n",
      "  warnings.warn('The `dict` method is deprecated; use `model_dump` instead.', category=PydanticDeprecatedSince20)\n"
     ]
    },
    {
     "name": "stdout",
     "output_type": "stream",
     "text": [
      "\n",
      "Adding: 'Sorcerer Rogier finally succumbs to his affliction.'\n"
     ]
    },
    {
     "name": "stderr",
     "output_type": "stream",
     "text": [
      "INFO:httpx:HTTP Request: POST https://api.openai.com/v1/chat/completions \"HTTP/1.1 200 OK\"\n",
      "/Users/user/miniconda3/envs/graphmaker/lib/python3.11/site-packages/pydantic/main.py:1087: PydanticDeprecatedSince20: The `dict` method is deprecated; use `model_dump` instead. Deprecated in Pydantic V2.0 to be removed in V3.0. See Pydantic V2 Migration Guide at https://errors.pydantic.dev/2.8/migration/\n",
      "  warnings.warn('The `dict` method is deprecated; use `model_dump` instead.', category=PydanticDeprecatedSince20)\n",
      "INFO:httpx:HTTP Request: POST https://api.openai.com/v1/chat/completions \"HTTP/1.1 200 OK\"\n",
      "/Users/user/miniconda3/envs/graphmaker/lib/python3.11/site-packages/pydantic/main.py:1087: PydanticDeprecatedSince20: The `dict` method is deprecated; use `model_dump` instead. Deprecated in Pydantic V2.0 to be removed in V3.0. See Pydantic V2 Migration Guide at https://errors.pydantic.dev/2.8/migration/\n",
      "  warnings.warn('The `dict` method is deprecated; use `model_dump` instead.', category=PydanticDeprecatedSince20)\n"
     ]
    },
    {
     "name": "stdout",
     "output_type": "stream",
     "text": [
      "Chunk Found (36362), adding to: Elden Ring Lore & History\n"
     ]
    },
    {
     "name": "stderr",
     "output_type": "stream",
     "text": [
      "INFO:httpx:HTTP Request: POST https://api.openai.com/v1/chat/completions \"HTTP/1.1 200 OK\"\n",
      "/Users/user/miniconda3/envs/graphmaker/lib/python3.11/site-packages/pydantic/main.py:1087: PydanticDeprecatedSince20: The `dict` method is deprecated; use `model_dump` instead. Deprecated in Pydantic V2.0 to be removed in V3.0. See Pydantic V2 Migration Guide at https://errors.pydantic.dev/2.8/migration/\n",
      "  warnings.warn('The `dict` method is deprecated; use `model_dump` instead.', category=PydanticDeprecatedSince20)\n",
      "INFO:httpx:HTTP Request: POST https://api.openai.com/v1/chat/completions \"HTTP/1.1 200 OK\"\n",
      "/Users/user/miniconda3/envs/graphmaker/lib/python3.11/site-packages/pydantic/main.py:1087: PydanticDeprecatedSince20: The `dict` method is deprecated; use `model_dump` instead. Deprecated in Pydantic V2.0 to be removed in V3.0. See Pydantic V2 Migration Guide at https://errors.pydantic.dev/2.8/migration/\n",
      "  warnings.warn('The `dict` method is deprecated; use `model_dump` instead.', category=PydanticDeprecatedSince20)\n"
     ]
    },
    {
     "name": "stdout",
     "output_type": "stream",
     "text": [
      "\n",
      "Adding: 'Fia is a Tarnished Deathbed Companion.'\n"
     ]
    },
    {
     "name": "stderr",
     "output_type": "stream",
     "text": [
      "INFO:httpx:HTTP Request: POST https://api.openai.com/v1/chat/completions \"HTTP/1.1 200 OK\"\n",
      "/Users/user/miniconda3/envs/graphmaker/lib/python3.11/site-packages/pydantic/main.py:1087: PydanticDeprecatedSince20: The `dict` method is deprecated; use `model_dump` instead. Deprecated in Pydantic V2.0 to be removed in V3.0. See Pydantic V2 Migration Guide at https://errors.pydantic.dev/2.8/migration/\n",
      "  warnings.warn('The `dict` method is deprecated; use `model_dump` instead.', category=PydanticDeprecatedSince20)\n",
      "INFO:httpx:HTTP Request: POST https://api.openai.com/v1/chat/completions \"HTTP/1.1 200 OK\"\n",
      "/Users/user/miniconda3/envs/graphmaker/lib/python3.11/site-packages/pydantic/main.py:1087: PydanticDeprecatedSince20: The `dict` method is deprecated; use `model_dump` instead. Deprecated in Pydantic V2.0 to be removed in V3.0. See Pydantic V2 Migration Guide at https://errors.pydantic.dev/2.8/migration/\n",
      "  warnings.warn('The `dict` method is deprecated; use `model_dump` instead.', category=PydanticDeprecatedSince20)\n"
     ]
    },
    {
     "name": "stdout",
     "output_type": "stream",
     "text": [
      "Chunk Found (36362), adding to: Elden Ring Lore, Mythos & Characters\n"
     ]
    },
    {
     "name": "stderr",
     "output_type": "stream",
     "text": [
      "INFO:httpx:HTTP Request: POST https://api.openai.com/v1/chat/completions \"HTTP/1.1 200 OK\"\n",
      "/Users/user/miniconda3/envs/graphmaker/lib/python3.11/site-packages/pydantic/main.py:1087: PydanticDeprecatedSince20: The `dict` method is deprecated; use `model_dump` instead. Deprecated in Pydantic V2.0 to be removed in V3.0. See Pydantic V2 Migration Guide at https://errors.pydantic.dev/2.8/migration/\n",
      "  warnings.warn('The `dict` method is deprecated; use `model_dump` instead.', category=PydanticDeprecatedSince20)\n",
      "INFO:httpx:HTTP Request: POST https://api.openai.com/v1/chat/completions \"HTTP/1.1 200 OK\"\n",
      "/Users/user/miniconda3/envs/graphmaker/lib/python3.11/site-packages/pydantic/main.py:1087: PydanticDeprecatedSince20: The `dict` method is deprecated; use `model_dump` instead. Deprecated in Pydantic V2.0 to be removed in V3.0. See Pydantic V2 Migration Guide at https://errors.pydantic.dev/2.8/migration/\n",
      "  warnings.warn('The `dict` method is deprecated; use `model_dump` instead.', category=PydanticDeprecatedSince20)\n"
     ]
    },
    {
     "name": "stdout",
     "output_type": "stream",
     "text": [
      "\n",
      "Adding: 'Fia was driven from her home when awoken by the guidance of grace.'\n"
     ]
    },
    {
     "name": "stderr",
     "output_type": "stream",
     "text": [
      "INFO:httpx:HTTP Request: POST https://api.openai.com/v1/chat/completions \"HTTP/1.1 200 OK\"\n",
      "/Users/user/miniconda3/envs/graphmaker/lib/python3.11/site-packages/pydantic/main.py:1087: PydanticDeprecatedSince20: The `dict` method is deprecated; use `model_dump` instead. Deprecated in Pydantic V2.0 to be removed in V3.0. See Pydantic V2 Migration Guide at https://errors.pydantic.dev/2.8/migration/\n",
      "  warnings.warn('The `dict` method is deprecated; use `model_dump` instead.', category=PydanticDeprecatedSince20)\n",
      "INFO:httpx:HTTP Request: POST https://api.openai.com/v1/chat/completions \"HTTP/1.1 200 OK\"\n",
      "/Users/user/miniconda3/envs/graphmaker/lib/python3.11/site-packages/pydantic/main.py:1087: PydanticDeprecatedSince20: The `dict` method is deprecated; use `model_dump` instead. Deprecated in Pydantic V2.0 to be removed in V3.0. See Pydantic V2 Migration Guide at https://errors.pydantic.dev/2.8/migration/\n",
      "  warnings.warn('The `dict` method is deprecated; use `model_dump` instead.', category=PydanticDeprecatedSince20)\n"
     ]
    },
    {
     "name": "stdout",
     "output_type": "stream",
     "text": [
      "Chunk Found (36362), adding to: Elden Ring Lore & Characters\n"
     ]
    },
    {
     "name": "stderr",
     "output_type": "stream",
     "text": [
      "INFO:httpx:HTTP Request: POST https://api.openai.com/v1/chat/completions \"HTTP/1.1 200 OK\"\n",
      "/Users/user/miniconda3/envs/graphmaker/lib/python3.11/site-packages/pydantic/main.py:1087: PydanticDeprecatedSince20: The `dict` method is deprecated; use `model_dump` instead. Deprecated in Pydantic V2.0 to be removed in V3.0. See Pydantic V2 Migration Guide at https://errors.pydantic.dev/2.8/migration/\n",
      "  warnings.warn('The `dict` method is deprecated; use `model_dump` instead.', category=PydanticDeprecatedSince20)\n",
      "INFO:httpx:HTTP Request: POST https://api.openai.com/v1/chat/completions \"HTTP/1.1 200 OK\"\n",
      "/Users/user/miniconda3/envs/graphmaker/lib/python3.11/site-packages/pydantic/main.py:1087: PydanticDeprecatedSince20: The `dict` method is deprecated; use `model_dump` instead. Deprecated in Pydantic V2.0 to be removed in V3.0. See Pydantic V2 Migration Guide at https://errors.pydantic.dev/2.8/migration/\n",
      "  warnings.warn('The `dict` method is deprecated; use `model_dump` instead.', category=PydanticDeprecatedSince20)\n"
     ]
    },
    {
     "name": "stdout",
     "output_type": "stream",
     "text": [
      "\n",
      "Adding: 'Fia describes a Deathbed Companion as a person who receives warmth and life from numerous champions.'\n"
     ]
    },
    {
     "name": "stderr",
     "output_type": "stream",
     "text": [
      "INFO:httpx:HTTP Request: POST https://api.openai.com/v1/chat/completions \"HTTP/1.1 200 OK\"\n",
      "/Users/user/miniconda3/envs/graphmaker/lib/python3.11/site-packages/pydantic/main.py:1087: PydanticDeprecatedSince20: The `dict` method is deprecated; use `model_dump` instead. Deprecated in Pydantic V2.0 to be removed in V3.0. See Pydantic V2 Migration Guide at https://errors.pydantic.dev/2.8/migration/\n",
      "  warnings.warn('The `dict` method is deprecated; use `model_dump` instead.', category=PydanticDeprecatedSince20)\n",
      "INFO:httpx:HTTP Request: POST https://api.openai.com/v1/chat/completions \"HTTP/1.1 200 OK\"\n",
      "/Users/user/miniconda3/envs/graphmaker/lib/python3.11/site-packages/pydantic/main.py:1087: PydanticDeprecatedSince20: The `dict` method is deprecated; use `model_dump` instead. Deprecated in Pydantic V2.0 to be removed in V3.0. See Pydantic V2 Migration Guide at https://errors.pydantic.dev/2.8/migration/\n",
      "  warnings.warn('The `dict` method is deprecated; use `model_dump` instead.', category=PydanticDeprecatedSince20)\n"
     ]
    },
    {
     "name": "stdout",
     "output_type": "stream",
     "text": [
      "Chunk Found (36362), adding to: Elden Ring Lore & Mythos\n"
     ]
    },
    {
     "name": "stderr",
     "output_type": "stream",
     "text": [
      "INFO:httpx:HTTP Request: POST https://api.openai.com/v1/chat/completions \"HTTP/1.1 200 OK\"\n",
      "/Users/user/miniconda3/envs/graphmaker/lib/python3.11/site-packages/pydantic/main.py:1087: PydanticDeprecatedSince20: The `dict` method is deprecated; use `model_dump` instead. Deprecated in Pydantic V2.0 to be removed in V3.0. See Pydantic V2 Migration Guide at https://errors.pydantic.dev/2.8/migration/\n",
      "  warnings.warn('The `dict` method is deprecated; use `model_dump` instead.', category=PydanticDeprecatedSince20)\n",
      "INFO:httpx:HTTP Request: POST https://api.openai.com/v1/chat/completions \"HTTP/1.1 200 OK\"\n",
      "/Users/user/miniconda3/envs/graphmaker/lib/python3.11/site-packages/pydantic/main.py:1087: PydanticDeprecatedSince20: The `dict` method is deprecated; use `model_dump` instead. Deprecated in Pydantic V2.0 to be removed in V3.0. See Pydantic V2 Migration Guide at https://errors.pydantic.dev/2.8/migration/\n",
      "  warnings.warn('The `dict` method is deprecated; use `model_dump` instead.', category=PydanticDeprecatedSince20)\n"
     ]
    },
    {
     "name": "stdout",
     "output_type": "stream",
     "text": [
      "\n",
      "Adding: 'A Deathbed Companion lays with the remains of an exalted noble to revive them.'\n"
     ]
    },
    {
     "name": "stderr",
     "output_type": "stream",
     "text": [
      "INFO:httpx:HTTP Request: POST https://api.openai.com/v1/chat/completions \"HTTP/1.1 200 OK\"\n",
      "/Users/user/miniconda3/envs/graphmaker/lib/python3.11/site-packages/pydantic/main.py:1087: PydanticDeprecatedSince20: The `dict` method is deprecated; use `model_dump` instead. Deprecated in Pydantic V2.0 to be removed in V3.0. See Pydantic V2 Migration Guide at https://errors.pydantic.dev/2.8/migration/\n",
      "  warnings.warn('The `dict` method is deprecated; use `model_dump` instead.', category=PydanticDeprecatedSince20)\n",
      "INFO:httpx:HTTP Request: POST https://api.openai.com/v1/chat/completions \"HTTP/1.1 200 OK\"\n",
      "/Users/user/miniconda3/envs/graphmaker/lib/python3.11/site-packages/pydantic/main.py:1087: PydanticDeprecatedSince20: The `dict` method is deprecated; use `model_dump` instead. Deprecated in Pydantic V2.0 to be removed in V3.0. See Pydantic V2 Migration Guide at https://errors.pydantic.dev/2.8/migration/\n",
      "  warnings.warn('The `dict` method is deprecated; use `model_dump` instead.', category=PydanticDeprecatedSince20)\n"
     ]
    },
    {
     "name": "stdout",
     "output_type": "stream",
     "text": [
      "Chunk Found (36362), adding to: Elden Ring Lore & History\n"
     ]
    },
    {
     "name": "stderr",
     "output_type": "stream",
     "text": [
      "INFO:httpx:HTTP Request: POST https://api.openai.com/v1/chat/completions \"HTTP/1.1 200 OK\"\n",
      "/Users/user/miniconda3/envs/graphmaker/lib/python3.11/site-packages/pydantic/main.py:1087: PydanticDeprecatedSince20: The `dict` method is deprecated; use `model_dump` instead. Deprecated in Pydantic V2.0 to be removed in V3.0. See Pydantic V2 Migration Guide at https://errors.pydantic.dev/2.8/migration/\n",
      "  warnings.warn('The `dict` method is deprecated; use `model_dump` instead.', category=PydanticDeprecatedSince20)\n",
      "INFO:httpx:HTTP Request: POST https://api.openai.com/v1/chat/completions \"HTTP/1.1 200 OK\"\n",
      "/Users/user/miniconda3/envs/graphmaker/lib/python3.11/site-packages/pydantic/main.py:1087: PydanticDeprecatedSince20: The `dict` method is deprecated; use `model_dump` instead. Deprecated in Pydantic V2.0 to be removed in V3.0. See Pydantic V2 Migration Guide at https://errors.pydantic.dev/2.8/migration/\n",
      "  warnings.warn('The `dict` method is deprecated; use `model_dump` instead.', category=PydanticDeprecatedSince20)\n"
     ]
    },
    {
     "name": "stdout",
     "output_type": "stream",
     "text": [
      "\n",
      "Adding: 'The act of laying with the remains of an exalted noble is revered in Fia's homeland.'\n"
     ]
    },
    {
     "name": "stderr",
     "output_type": "stream",
     "text": [
      "INFO:httpx:HTTP Request: POST https://api.openai.com/v1/chat/completions \"HTTP/1.1 200 OK\"\n",
      "/Users/user/miniconda3/envs/graphmaker/lib/python3.11/site-packages/pydantic/main.py:1087: PydanticDeprecatedSince20: The `dict` method is deprecated; use `model_dump` instead. Deprecated in Pydantic V2.0 to be removed in V3.0. See Pydantic V2 Migration Guide at https://errors.pydantic.dev/2.8/migration/\n",
      "  warnings.warn('The `dict` method is deprecated; use `model_dump` instead.', category=PydanticDeprecatedSince20)\n",
      "INFO:httpx:HTTP Request: POST https://api.openai.com/v1/chat/completions \"HTTP/1.1 200 OK\"\n",
      "/Users/user/miniconda3/envs/graphmaker/lib/python3.11/site-packages/pydantic/main.py:1087: PydanticDeprecatedSince20: The `dict` method is deprecated; use `model_dump` instead. Deprecated in Pydantic V2.0 to be removed in V3.0. See Pydantic V2 Migration Guide at https://errors.pydantic.dev/2.8/migration/\n",
      "  warnings.warn('The `dict` method is deprecated; use `model_dump` instead.', category=PydanticDeprecatedSince20)\n"
     ]
    },
    {
     "name": "stdout",
     "output_type": "stream",
     "text": [
      "Chunk Found (36362), adding to: Elden Ring Lore & Mythos\n"
     ]
    },
    {
     "name": "stderr",
     "output_type": "stream",
     "text": [
      "INFO:httpx:HTTP Request: POST https://api.openai.com/v1/chat/completions \"HTTP/1.1 200 OK\"\n",
      "/Users/user/miniconda3/envs/graphmaker/lib/python3.11/site-packages/pydantic/main.py:1087: PydanticDeprecatedSince20: The `dict` method is deprecated; use `model_dump` instead. Deprecated in Pydantic V2.0 to be removed in V3.0. See Pydantic V2 Migration Guide at https://errors.pydantic.dev/2.8/migration/\n",
      "  warnings.warn('The `dict` method is deprecated; use `model_dump` instead.', category=PydanticDeprecatedSince20)\n",
      "INFO:httpx:HTTP Request: POST https://api.openai.com/v1/chat/completions \"HTTP/1.1 200 OK\"\n",
      "/Users/user/miniconda3/envs/graphmaker/lib/python3.11/site-packages/pydantic/main.py:1087: PydanticDeprecatedSince20: The `dict` method is deprecated; use `model_dump` instead. Deprecated in Pydantic V2.0 to be removed in V3.0. See Pydantic V2 Migration Guide at https://errors.pydantic.dev/2.8/migration/\n",
      "  warnings.warn('The `dict` method is deprecated; use `model_dump` instead.', category=PydanticDeprecatedSince20)\n"
     ]
    },
    {
     "name": "stdout",
     "output_type": "stream",
     "text": [
      "\n",
      "Adding: 'Fia is empathetic towards Those Who Live in Death.'\n"
     ]
    },
    {
     "name": "stderr",
     "output_type": "stream",
     "text": [
      "INFO:httpx:HTTP Request: POST https://api.openai.com/v1/chat/completions \"HTTP/1.1 200 OK\"\n",
      "/Users/user/miniconda3/envs/graphmaker/lib/python3.11/site-packages/pydantic/main.py:1087: PydanticDeprecatedSince20: The `dict` method is deprecated; use `model_dump` instead. Deprecated in Pydantic V2.0 to be removed in V3.0. See Pydantic V2 Migration Guide at https://errors.pydantic.dev/2.8/migration/\n",
      "  warnings.warn('The `dict` method is deprecated; use `model_dump` instead.', category=PydanticDeprecatedSince20)\n",
      "INFO:httpx:HTTP Request: POST https://api.openai.com/v1/chat/completions \"HTTP/1.1 200 OK\"\n",
      "/Users/user/miniconda3/envs/graphmaker/lib/python3.11/site-packages/pydantic/main.py:1087: PydanticDeprecatedSince20: The `dict` method is deprecated; use `model_dump` instead. Deprecated in Pydantic V2.0 to be removed in V3.0. See Pydantic V2 Migration Guide at https://errors.pydantic.dev/2.8/migration/\n",
      "  warnings.warn('The `dict` method is deprecated; use `model_dump` instead.', category=PydanticDeprecatedSince20)\n"
     ]
    },
    {
     "name": "stdout",
     "output_type": "stream",
     "text": [
      "Chunk Found (36362), adding to: Elden Ring Lore & History\n"
     ]
    },
    {
     "name": "stderr",
     "output_type": "stream",
     "text": [
      "INFO:httpx:HTTP Request: POST https://api.openai.com/v1/chat/completions \"HTTP/1.1 200 OK\"\n",
      "/Users/user/miniconda3/envs/graphmaker/lib/python3.11/site-packages/pydantic/main.py:1087: PydanticDeprecatedSince20: The `dict` method is deprecated; use `model_dump` instead. Deprecated in Pydantic V2.0 to be removed in V3.0. See Pydantic V2 Migration Guide at https://errors.pydantic.dev/2.8/migration/\n",
      "  warnings.warn('The `dict` method is deprecated; use `model_dump` instead.', category=PydanticDeprecatedSince20)\n",
      "INFO:httpx:HTTP Request: POST https://api.openai.com/v1/chat/completions \"HTTP/1.1 200 OK\"\n",
      "/Users/user/miniconda3/envs/graphmaker/lib/python3.11/site-packages/pydantic/main.py:1087: PydanticDeprecatedSince20: The `dict` method is deprecated; use `model_dump` instead. Deprecated in Pydantic V2.0 to be removed in V3.0. See Pydantic V2 Migration Guide at https://errors.pydantic.dev/2.8/migration/\n",
      "  warnings.warn('The `dict` method is deprecated; use `model_dump` instead.', category=PydanticDeprecatedSince20)\n"
     ]
    },
    {
     "name": "stdout",
     "output_type": "stream",
     "text": [
      "\n",
      "Adding: 'Fia has put it upon herself to be the guardian of Those Who Live in Death.'\n"
     ]
    },
    {
     "name": "stderr",
     "output_type": "stream",
     "text": [
      "INFO:httpx:HTTP Request: POST https://api.openai.com/v1/chat/completions \"HTTP/1.1 200 OK\"\n",
      "/Users/user/miniconda3/envs/graphmaker/lib/python3.11/site-packages/pydantic/main.py:1087: PydanticDeprecatedSince20: The `dict` method is deprecated; use `model_dump` instead. Deprecated in Pydantic V2.0 to be removed in V3.0. See Pydantic V2 Migration Guide at https://errors.pydantic.dev/2.8/migration/\n",
      "  warnings.warn('The `dict` method is deprecated; use `model_dump` instead.', category=PydanticDeprecatedSince20)\n",
      "INFO:httpx:HTTP Request: POST https://api.openai.com/v1/chat/completions \"HTTP/1.1 200 OK\"\n",
      "/Users/user/miniconda3/envs/graphmaker/lib/python3.11/site-packages/pydantic/main.py:1087: PydanticDeprecatedSince20: The `dict` method is deprecated; use `model_dump` instead. Deprecated in Pydantic V2.0 to be removed in V3.0. See Pydantic V2 Migration Guide at https://errors.pydantic.dev/2.8/migration/\n",
      "  warnings.warn('The `dict` method is deprecated; use `model_dump` instead.', category=PydanticDeprecatedSince20)\n"
     ]
    },
    {
     "name": "stdout",
     "output_type": "stream",
     "text": [
      "Chunk Found (36362), adding to: Elden Ring Lore & Mythos\n"
     ]
    },
    {
     "name": "stderr",
     "output_type": "stream",
     "text": [
      "INFO:httpx:HTTP Request: POST https://api.openai.com/v1/chat/completions \"HTTP/1.1 200 OK\"\n",
      "/Users/user/miniconda3/envs/graphmaker/lib/python3.11/site-packages/pydantic/main.py:1087: PydanticDeprecatedSince20: The `dict` method is deprecated; use `model_dump` instead. Deprecated in Pydantic V2.0 to be removed in V3.0. See Pydantic V2 Migration Guide at https://errors.pydantic.dev/2.8/migration/\n",
      "  warnings.warn('The `dict` method is deprecated; use `model_dump` instead.', category=PydanticDeprecatedSince20)\n",
      "INFO:httpx:HTTP Request: POST https://api.openai.com/v1/chat/completions \"HTTP/1.1 200 OK\"\n",
      "/Users/user/miniconda3/envs/graphmaker/lib/python3.11/site-packages/pydantic/main.py:1087: PydanticDeprecatedSince20: The `dict` method is deprecated; use `model_dump` instead. Deprecated in Pydantic V2.0 to be removed in V3.0. See Pydantic V2 Migration Guide at https://errors.pydantic.dev/2.8/migration/\n",
      "  warnings.warn('The `dict` method is deprecated; use `model_dump` instead.', category=PydanticDeprecatedSince20)\n"
     ]
    },
    {
     "name": "stdout",
     "output_type": "stream",
     "text": [
      "\n",
      "Adding: 'Before meeting Fia at Deeproot Depths, the Tarnished will encounter Fia's champions.'\n"
     ]
    },
    {
     "name": "stderr",
     "output_type": "stream",
     "text": [
      "INFO:httpx:HTTP Request: POST https://api.openai.com/v1/chat/completions \"HTTP/1.1 200 OK\"\n",
      "/Users/user/miniconda3/envs/graphmaker/lib/python3.11/site-packages/pydantic/main.py:1087: PydanticDeprecatedSince20: The `dict` method is deprecated; use `model_dump` instead. Deprecated in Pydantic V2.0 to be removed in V3.0. See Pydantic V2 Migration Guide at https://errors.pydantic.dev/2.8/migration/\n",
      "  warnings.warn('The `dict` method is deprecated; use `model_dump` instead.', category=PydanticDeprecatedSince20)\n",
      "INFO:httpx:HTTP Request: POST https://api.openai.com/v1/chat/completions \"HTTP/1.1 200 OK\"\n",
      "/Users/user/miniconda3/envs/graphmaker/lib/python3.11/site-packages/pydantic/main.py:1087: PydanticDeprecatedSince20: The `dict` method is deprecated; use `model_dump` instead. Deprecated in Pydantic V2.0 to be removed in V3.0. See Pydantic V2 Migration Guide at https://errors.pydantic.dev/2.8/migration/\n",
      "  warnings.warn('The `dict` method is deprecated; use `model_dump` instead.', category=PydanticDeprecatedSince20)\n"
     ]
    },
    {
     "name": "stdout",
     "output_type": "stream",
     "text": [
      "Chunk Found (36362), adding to: Elden Ring Lore & History\n"
     ]
    },
    {
     "name": "stderr",
     "output_type": "stream",
     "text": [
      "INFO:httpx:HTTP Request: POST https://api.openai.com/v1/chat/completions \"HTTP/1.1 200 OK\"\n",
      "/Users/user/miniconda3/envs/graphmaker/lib/python3.11/site-packages/pydantic/main.py:1087: PydanticDeprecatedSince20: The `dict` method is deprecated; use `model_dump` instead. Deprecated in Pydantic V2.0 to be removed in V3.0. See Pydantic V2 Migration Guide at https://errors.pydantic.dev/2.8/migration/\n",
      "  warnings.warn('The `dict` method is deprecated; use `model_dump` instead.', category=PydanticDeprecatedSince20)\n",
      "INFO:httpx:HTTP Request: POST https://api.openai.com/v1/chat/completions \"HTTP/1.1 200 OK\"\n",
      "/Users/user/miniconda3/envs/graphmaker/lib/python3.11/site-packages/pydantic/main.py:1087: PydanticDeprecatedSince20: The `dict` method is deprecated; use `model_dump` instead. Deprecated in Pydantic V2.0 to be removed in V3.0. See Pydantic V2 Migration Guide at https://errors.pydantic.dev/2.8/migration/\n",
      "  warnings.warn('The `dict` method is deprecated; use `model_dump` instead.', category=PydanticDeprecatedSince20)\n"
     ]
    },
    {
     "name": "stdout",
     "output_type": "stream",
     "text": [
      "\n",
      "Adding: 'One of Fia's champions is Rogier.'\n"
     ]
    },
    {
     "name": "stderr",
     "output_type": "stream",
     "text": [
      "INFO:httpx:HTTP Request: POST https://api.openai.com/v1/chat/completions \"HTTP/1.1 200 OK\"\n",
      "/Users/user/miniconda3/envs/graphmaker/lib/python3.11/site-packages/pydantic/main.py:1087: PydanticDeprecatedSince20: The `dict` method is deprecated; use `model_dump` instead. Deprecated in Pydantic V2.0 to be removed in V3.0. See Pydantic V2 Migration Guide at https://errors.pydantic.dev/2.8/migration/\n",
      "  warnings.warn('The `dict` method is deprecated; use `model_dump` instead.', category=PydanticDeprecatedSince20)\n",
      "INFO:httpx:HTTP Request: POST https://api.openai.com/v1/chat/completions \"HTTP/1.1 200 OK\"\n",
      "/Users/user/miniconda3/envs/graphmaker/lib/python3.11/site-packages/pydantic/main.py:1087: PydanticDeprecatedSince20: The `dict` method is deprecated; use `model_dump` instead. Deprecated in Pydantic V2.0 to be removed in V3.0. See Pydantic V2 Migration Guide at https://errors.pydantic.dev/2.8/migration/\n",
      "  warnings.warn('The `dict` method is deprecated; use `model_dump` instead.', category=PydanticDeprecatedSince20)\n"
     ]
    },
    {
     "name": "stdout",
     "output_type": "stream",
     "text": [
      "Chunk Found (36362), adding to: Elden Ring Lore & Mythos\n"
     ]
    },
    {
     "name": "stderr",
     "output_type": "stream",
     "text": [
      "INFO:httpx:HTTP Request: POST https://api.openai.com/v1/chat/completions \"HTTP/1.1 200 OK\"\n",
      "/Users/user/miniconda3/envs/graphmaker/lib/python3.11/site-packages/pydantic/main.py:1087: PydanticDeprecatedSince20: The `dict` method is deprecated; use `model_dump` instead. Deprecated in Pydantic V2.0 to be removed in V3.0. See Pydantic V2 Migration Guide at https://errors.pydantic.dev/2.8/migration/\n",
      "  warnings.warn('The `dict` method is deprecated; use `model_dump` instead.', category=PydanticDeprecatedSince20)\n",
      "INFO:httpx:HTTP Request: POST https://api.openai.com/v1/chat/completions \"HTTP/1.1 200 OK\"\n",
      "/Users/user/miniconda3/envs/graphmaker/lib/python3.11/site-packages/pydantic/main.py:1087: PydanticDeprecatedSince20: The `dict` method is deprecated; use `model_dump` instead. Deprecated in Pydantic V2.0 to be removed in V3.0. See Pydantic V2 Migration Guide at https://errors.pydantic.dev/2.8/migration/\n",
      "  warnings.warn('The `dict` method is deprecated; use `model_dump` instead.', category=PydanticDeprecatedSince20)\n"
     ]
    },
    {
     "name": "stdout",
     "output_type": "stream",
     "text": [
      "\n",
      "Adding: 'Another of Fia's champions is Lionel the Lionhearted.'\n"
     ]
    },
    {
     "name": "stderr",
     "output_type": "stream",
     "text": [
      "INFO:httpx:HTTP Request: POST https://api.openai.com/v1/chat/completions \"HTTP/1.1 200 OK\"\n",
      "/Users/user/miniconda3/envs/graphmaker/lib/python3.11/site-packages/pydantic/main.py:1087: PydanticDeprecatedSince20: The `dict` method is deprecated; use `model_dump` instead. Deprecated in Pydantic V2.0 to be removed in V3.0. See Pydantic V2 Migration Guide at https://errors.pydantic.dev/2.8/migration/\n",
      "  warnings.warn('The `dict` method is deprecated; use `model_dump` instead.', category=PydanticDeprecatedSince20)\n",
      "INFO:httpx:HTTP Request: POST https://api.openai.com/v1/chat/completions \"HTTP/1.1 200 OK\"\n",
      "/Users/user/miniconda3/envs/graphmaker/lib/python3.11/site-packages/pydantic/main.py:1087: PydanticDeprecatedSince20: The `dict` method is deprecated; use `model_dump` instead. Deprecated in Pydantic V2.0 to be removed in V3.0. See Pydantic V2 Migration Guide at https://errors.pydantic.dev/2.8/migration/\n",
      "  warnings.warn('The `dict` method is deprecated; use `model_dump` instead.', category=PydanticDeprecatedSince20)\n"
     ]
    },
    {
     "name": "stdout",
     "output_type": "stream",
     "text": [
      "Chunk Found (36362), adding to: Elden Ring Lore, History & Characters\n"
     ]
    },
    {
     "name": "stderr",
     "output_type": "stream",
     "text": [
      "INFO:httpx:HTTP Request: POST https://api.openai.com/v1/chat/completions \"HTTP/1.1 200 OK\"\n",
      "/Users/user/miniconda3/envs/graphmaker/lib/python3.11/site-packages/pydantic/main.py:1087: PydanticDeprecatedSince20: The `dict` method is deprecated; use `model_dump` instead. Deprecated in Pydantic V2.0 to be removed in V3.0. See Pydantic V2 Migration Guide at https://errors.pydantic.dev/2.8/migration/\n",
      "  warnings.warn('The `dict` method is deprecated; use `model_dump` instead.', category=PydanticDeprecatedSince20)\n",
      "INFO:httpx:HTTP Request: POST https://api.openai.com/v1/chat/completions \"HTTP/1.1 200 OK\"\n",
      "/Users/user/miniconda3/envs/graphmaker/lib/python3.11/site-packages/pydantic/main.py:1087: PydanticDeprecatedSince20: The `dict` method is deprecated; use `model_dump` instead. Deprecated in Pydantic V2.0 to be removed in V3.0. See Pydantic V2 Migration Guide at https://errors.pydantic.dev/2.8/migration/\n",
      "  warnings.warn('The `dict` method is deprecated; use `model_dump` instead.', category=PydanticDeprecatedSince20)\n"
     ]
    },
    {
     "name": "stdout",
     "output_type": "stream",
     "text": [
      "\n",
      "Adding: 'Lionel the Lionhearted is a knight Fia met on her journey to the Lands Between.'\n"
     ]
    },
    {
     "name": "stderr",
     "output_type": "stream",
     "text": [
      "INFO:httpx:HTTP Request: POST https://api.openai.com/v1/chat/completions \"HTTP/1.1 200 OK\"\n",
      "/Users/user/miniconda3/envs/graphmaker/lib/python3.11/site-packages/pydantic/main.py:1087: PydanticDeprecatedSince20: The `dict` method is deprecated; use `model_dump` instead. Deprecated in Pydantic V2.0 to be removed in V3.0. See Pydantic V2 Migration Guide at https://errors.pydantic.dev/2.8/migration/\n",
      "  warnings.warn('The `dict` method is deprecated; use `model_dump` instead.', category=PydanticDeprecatedSince20)\n",
      "INFO:httpx:HTTP Request: POST https://api.openai.com/v1/chat/completions \"HTTP/1.1 200 OK\"\n",
      "/Users/user/miniconda3/envs/graphmaker/lib/python3.11/site-packages/pydantic/main.py:1087: PydanticDeprecatedSince20: The `dict` method is deprecated; use `model_dump` instead. Deprecated in Pydantic V2.0 to be removed in V3.0. See Pydantic V2 Migration Guide at https://errors.pydantic.dev/2.8/migration/\n",
      "  warnings.warn('The `dict` method is deprecated; use `model_dump` instead.', category=PydanticDeprecatedSince20)\n"
     ]
    },
    {
     "name": "stdout",
     "output_type": "stream",
     "text": [
      "Chunk Found (36362), adding to: Elden Ring Lore & Mythos\n"
     ]
    },
    {
     "name": "stderr",
     "output_type": "stream",
     "text": [
      "INFO:httpx:HTTP Request: POST https://api.openai.com/v1/chat/completions \"HTTP/1.1 200 OK\"\n",
      "/Users/user/miniconda3/envs/graphmaker/lib/python3.11/site-packages/pydantic/main.py:1087: PydanticDeprecatedSince20: The `dict` method is deprecated; use `model_dump` instead. Deprecated in Pydantic V2.0 to be removed in V3.0. See Pydantic V2 Migration Guide at https://errors.pydantic.dev/2.8/migration/\n",
      "  warnings.warn('The `dict` method is deprecated; use `model_dump` instead.', category=PydanticDeprecatedSince20)\n",
      "INFO:httpx:HTTP Request: POST https://api.openai.com/v1/chat/completions \"HTTP/1.1 200 OK\"\n",
      "/Users/user/miniconda3/envs/graphmaker/lib/python3.11/site-packages/pydantic/main.py:1087: PydanticDeprecatedSince20: The `dict` method is deprecated; use `model_dump` instead. Deprecated in Pydantic V2.0 to be removed in V3.0. See Pydantic V2 Migration Guide at https://errors.pydantic.dev/2.8/migration/\n",
      "  warnings.warn('The `dict` method is deprecated; use `model_dump` instead.', category=PydanticDeprecatedSince20)\n"
     ]
    },
    {
     "name": "stdout",
     "output_type": "stream",
     "text": [
      "\n",
      "Adding: 'Lionel the Lionhearted declared himself to be Fia's father.'\n"
     ]
    },
    {
     "name": "stderr",
     "output_type": "stream",
     "text": [
      "INFO:httpx:HTTP Request: POST https://api.openai.com/v1/chat/completions \"HTTP/1.1 200 OK\"\n",
      "/Users/user/miniconda3/envs/graphmaker/lib/python3.11/site-packages/pydantic/main.py:1087: PydanticDeprecatedSince20: The `dict` method is deprecated; use `model_dump` instead. Deprecated in Pydantic V2.0 to be removed in V3.0. See Pydantic V2 Migration Guide at https://errors.pydantic.dev/2.8/migration/\n",
      "  warnings.warn('The `dict` method is deprecated; use `model_dump` instead.', category=PydanticDeprecatedSince20)\n",
      "INFO:httpx:HTTP Request: POST https://api.openai.com/v1/chat/completions \"HTTP/1.1 200 OK\"\n",
      "/Users/user/miniconda3/envs/graphmaker/lib/python3.11/site-packages/pydantic/main.py:1087: PydanticDeprecatedSince20: The `dict` method is deprecated; use `model_dump` instead. Deprecated in Pydantic V2.0 to be removed in V3.0. See Pydantic V2 Migration Guide at https://errors.pydantic.dev/2.8/migration/\n",
      "  warnings.warn('The `dict` method is deprecated; use `model_dump` instead.', category=PydanticDeprecatedSince20)\n"
     ]
    },
    {
     "name": "stdout",
     "output_type": "stream",
     "text": [
      "Chunk Found (36362), adding to: Elden Ring Lore, History & Characters\n"
     ]
    },
    {
     "name": "stderr",
     "output_type": "stream",
     "text": [
      "INFO:httpx:HTTP Request: POST https://api.openai.com/v1/chat/completions \"HTTP/1.1 200 OK\"\n",
      "/Users/user/miniconda3/envs/graphmaker/lib/python3.11/site-packages/pydantic/main.py:1087: PydanticDeprecatedSince20: The `dict` method is deprecated; use `model_dump` instead. Deprecated in Pydantic V2.0 to be removed in V3.0. See Pydantic V2 Migration Guide at https://errors.pydantic.dev/2.8/migration/\n",
      "  warnings.warn('The `dict` method is deprecated; use `model_dump` instead.', category=PydanticDeprecatedSince20)\n",
      "INFO:httpx:HTTP Request: POST https://api.openai.com/v1/chat/completions \"HTTP/1.1 200 OK\"\n",
      "/Users/user/miniconda3/envs/graphmaker/lib/python3.11/site-packages/pydantic/main.py:1087: PydanticDeprecatedSince20: The `dict` method is deprecated; use `model_dump` instead. Deprecated in Pydantic V2.0 to be removed in V3.0. See Pydantic V2 Migration Guide at https://errors.pydantic.dev/2.8/migration/\n",
      "  warnings.warn('The `dict` method is deprecated; use `model_dump` instead.', category=PydanticDeprecatedSince20)\n"
     ]
    },
    {
     "name": "stdout",
     "output_type": "stream",
     "text": [
      "\n",
      "Adding: 'Fia implies that bringing together Ranni's half of the Cursemark of Death from the Divine Tower of Liurnia and Godwyn's half from D is significant.'\n"
     ]
    },
    {
     "name": "stderr",
     "output_type": "stream",
     "text": [
      "INFO:httpx:HTTP Request: POST https://api.openai.com/v1/chat/completions \"HTTP/1.1 200 OK\"\n",
      "/Users/user/miniconda3/envs/graphmaker/lib/python3.11/site-packages/pydantic/main.py:1087: PydanticDeprecatedSince20: The `dict` method is deprecated; use `model_dump` instead. Deprecated in Pydantic V2.0 to be removed in V3.0. See Pydantic V2 Migration Guide at https://errors.pydantic.dev/2.8/migration/\n",
      "  warnings.warn('The `dict` method is deprecated; use `model_dump` instead.', category=PydanticDeprecatedSince20)\n",
      "INFO:httpx:HTTP Request: POST https://api.openai.com/v1/chat/completions \"HTTP/1.1 200 OK\"\n",
      "/Users/user/miniconda3/envs/graphmaker/lib/python3.11/site-packages/pydantic/main.py:1087: PydanticDeprecatedSince20: The `dict` method is deprecated; use `model_dump` instead. Deprecated in Pydantic V2.0 to be removed in V3.0. See Pydantic V2 Migration Guide at https://errors.pydantic.dev/2.8/migration/\n",
      "  warnings.warn('The `dict` method is deprecated; use `model_dump` instead.', category=PydanticDeprecatedSince20)\n"
     ]
    },
    {
     "name": "stdout",
     "output_type": "stream",
     "text": [
      "Chunk Found (36362), adding to: Elden Ring Lore & Mythos\n"
     ]
    },
    {
     "name": "stderr",
     "output_type": "stream",
     "text": [
      "INFO:httpx:HTTP Request: POST https://api.openai.com/v1/chat/completions \"HTTP/1.1 200 OK\"\n",
      "/Users/user/miniconda3/envs/graphmaker/lib/python3.11/site-packages/pydantic/main.py:1087: PydanticDeprecatedSince20: The `dict` method is deprecated; use `model_dump` instead. Deprecated in Pydantic V2.0 to be removed in V3.0. See Pydantic V2 Migration Guide at https://errors.pydantic.dev/2.8/migration/\n",
      "  warnings.warn('The `dict` method is deprecated; use `model_dump` instead.', category=PydanticDeprecatedSince20)\n",
      "INFO:httpx:HTTP Request: POST https://api.openai.com/v1/chat/completions \"HTTP/1.1 200 OK\"\n",
      "/Users/user/miniconda3/envs/graphmaker/lib/python3.11/site-packages/pydantic/main.py:1087: PydanticDeprecatedSince20: The `dict` method is deprecated; use `model_dump` instead. Deprecated in Pydantic V2.0 to be removed in V3.0. See Pydantic V2 Migration Guide at https://errors.pydantic.dev/2.8/migration/\n",
      "  warnings.warn('The `dict` method is deprecated; use `model_dump` instead.', category=PydanticDeprecatedSince20)\n"
     ]
    },
    {
     "name": "stdout",
     "output_type": "stream",
     "text": [
      "\n",
      "Adding: 'Fia implies that being Godwyn's Deathbed Companion will result in Godwyn being reborn as a rune.'\n"
     ]
    },
    {
     "name": "stderr",
     "output_type": "stream",
     "text": [
      "INFO:httpx:HTTP Request: POST https://api.openai.com/v1/chat/completions \"HTTP/1.1 200 OK\"\n",
      "/Users/user/miniconda3/envs/graphmaker/lib/python3.11/site-packages/pydantic/main.py:1087: PydanticDeprecatedSince20: The `dict` method is deprecated; use `model_dump` instead. Deprecated in Pydantic V2.0 to be removed in V3.0. See Pydantic V2 Migration Guide at https://errors.pydantic.dev/2.8/migration/\n",
      "  warnings.warn('The `dict` method is deprecated; use `model_dump` instead.', category=PydanticDeprecatedSince20)\n",
      "INFO:httpx:HTTP Request: POST https://api.openai.com/v1/chat/completions \"HTTP/1.1 200 OK\"\n",
      "/Users/user/miniconda3/envs/graphmaker/lib/python3.11/site-packages/pydantic/main.py:1087: PydanticDeprecatedSince20: The `dict` method is deprecated; use `model_dump` instead. Deprecated in Pydantic V2.0 to be removed in V3.0. See Pydantic V2 Migration Guide at https://errors.pydantic.dev/2.8/migration/\n",
      "  warnings.warn('The `dict` method is deprecated; use `model_dump` instead.', category=PydanticDeprecatedSince20)\n"
     ]
    },
    {
     "name": "stdout",
     "output_type": "stream",
     "text": [
      "Chunk Found (36362), adding to: Elden Ring Lore, History & Characters\n"
     ]
    },
    {
     "name": "stderr",
     "output_type": "stream",
     "text": [
      "INFO:httpx:HTTP Request: POST https://api.openai.com/v1/chat/completions \"HTTP/1.1 200 OK\"\n",
      "/Users/user/miniconda3/envs/graphmaker/lib/python3.11/site-packages/pydantic/main.py:1087: PydanticDeprecatedSince20: The `dict` method is deprecated; use `model_dump` instead. Deprecated in Pydantic V2.0 to be removed in V3.0. See Pydantic V2 Migration Guide at https://errors.pydantic.dev/2.8/migration/\n",
      "  warnings.warn('The `dict` method is deprecated; use `model_dump` instead.', category=PydanticDeprecatedSince20)\n",
      "INFO:httpx:HTTP Request: POST https://api.openai.com/v1/chat/completions \"HTTP/1.1 200 OK\"\n",
      "/Users/user/miniconda3/envs/graphmaker/lib/python3.11/site-packages/pydantic/main.py:1087: PydanticDeprecatedSince20: The `dict` method is deprecated; use `model_dump` instead. Deprecated in Pydantic V2.0 to be removed in V3.0. See Pydantic V2 Migration Guide at https://errors.pydantic.dev/2.8/migration/\n",
      "  warnings.warn('The `dict` method is deprecated; use `model_dump` instead.', category=PydanticDeprecatedSince20)\n"
     ]
    },
    {
     "name": "stdout",
     "output_type": "stream",
     "text": [
      "\n",
      "Adding: 'The rune representing Those Who Live in Death is called the Mending Rune of the Death-Prince.'\n"
     ]
    },
    {
     "name": "stderr",
     "output_type": "stream",
     "text": [
      "INFO:httpx:HTTP Request: POST https://api.openai.com/v1/chat/completions \"HTTP/1.1 200 OK\"\n",
      "/Users/user/miniconda3/envs/graphmaker/lib/python3.11/site-packages/pydantic/main.py:1087: PydanticDeprecatedSince20: The `dict` method is deprecated; use `model_dump` instead. Deprecated in Pydantic V2.0 to be removed in V3.0. See Pydantic V2 Migration Guide at https://errors.pydantic.dev/2.8/migration/\n",
      "  warnings.warn('The `dict` method is deprecated; use `model_dump` instead.', category=PydanticDeprecatedSince20)\n",
      "INFO:httpx:HTTP Request: POST https://api.openai.com/v1/chat/completions \"HTTP/1.1 200 OK\"\n",
      "/Users/user/miniconda3/envs/graphmaker/lib/python3.11/site-packages/pydantic/main.py:1087: PydanticDeprecatedSince20: The `dict` method is deprecated; use `model_dump` instead. Deprecated in Pydantic V2.0 to be removed in V3.0. See Pydantic V2 Migration Guide at https://errors.pydantic.dev/2.8/migration/\n",
      "  warnings.warn('The `dict` method is deprecated; use `model_dump` instead.', category=PydanticDeprecatedSince20)\n"
     ]
    },
    {
     "name": "stdout",
     "output_type": "stream",
     "text": [
      "Chunk Found (36362), adding to: Elden Ring Lore & Mythos\n"
     ]
    },
    {
     "name": "stderr",
     "output_type": "stream",
     "text": [
      "INFO:httpx:HTTP Request: POST https://api.openai.com/v1/chat/completions \"HTTP/1.1 200 OK\"\n",
      "/Users/user/miniconda3/envs/graphmaker/lib/python3.11/site-packages/pydantic/main.py:1087: PydanticDeprecatedSince20: The `dict` method is deprecated; use `model_dump` instead. Deprecated in Pydantic V2.0 to be removed in V3.0. See Pydantic V2 Migration Guide at https://errors.pydantic.dev/2.8/migration/\n",
      "  warnings.warn('The `dict` method is deprecated; use `model_dump` instead.', category=PydanticDeprecatedSince20)\n",
      "INFO:httpx:HTTP Request: POST https://api.openai.com/v1/chat/completions \"HTTP/1.1 200 OK\"\n",
      "/Users/user/miniconda3/envs/graphmaker/lib/python3.11/site-packages/pydantic/main.py:1087: PydanticDeprecatedSince20: The `dict` method is deprecated; use `model_dump` instead. Deprecated in Pydantic V2.0 to be removed in V3.0. See Pydantic V2 Migration Guide at https://errors.pydantic.dev/2.8/migration/\n",
      "  warnings.warn('The `dict` method is deprecated; use `model_dump` instead.', category=PydanticDeprecatedSince20)\n"
     ]
    },
    {
     "name": "stdout",
     "output_type": "stream",
     "text": [
      "\n",
      "Adding: 'D is a devout follower of the Golden Order.'\n"
     ]
    },
    {
     "name": "stderr",
     "output_type": "stream",
     "text": [
      "INFO:httpx:HTTP Request: POST https://api.openai.com/v1/chat/completions \"HTTP/1.1 200 OK\"\n",
      "/Users/user/miniconda3/envs/graphmaker/lib/python3.11/site-packages/pydantic/main.py:1087: PydanticDeprecatedSince20: The `dict` method is deprecated; use `model_dump` instead. Deprecated in Pydantic V2.0 to be removed in V3.0. See Pydantic V2 Migration Guide at https://errors.pydantic.dev/2.8/migration/\n",
      "  warnings.warn('The `dict` method is deprecated; use `model_dump` instead.', category=PydanticDeprecatedSince20)\n",
      "INFO:httpx:HTTP Request: POST https://api.openai.com/v1/chat/completions \"HTTP/1.1 200 OK\"\n",
      "/Users/user/miniconda3/envs/graphmaker/lib/python3.11/site-packages/pydantic/main.py:1087: PydanticDeprecatedSince20: The `dict` method is deprecated; use `model_dump` instead. Deprecated in Pydantic V2.0 to be removed in V3.0. See Pydantic V2 Migration Guide at https://errors.pydantic.dev/2.8/migration/\n",
      "  warnings.warn('The `dict` method is deprecated; use `model_dump` instead.', category=PydanticDeprecatedSince20)\n"
     ]
    },
    {
     "name": "stdout",
     "output_type": "stream",
     "text": [
      "Chunk Found (36362), adding to: Elden Ring Lore, History & Characters\n"
     ]
    },
    {
     "name": "stderr",
     "output_type": "stream",
     "text": [
      "INFO:httpx:HTTP Request: POST https://api.openai.com/v1/chat/completions \"HTTP/1.1 200 OK\"\n",
      "/Users/user/miniconda3/envs/graphmaker/lib/python3.11/site-packages/pydantic/main.py:1087: PydanticDeprecatedSince20: The `dict` method is deprecated; use `model_dump` instead. Deprecated in Pydantic V2.0 to be removed in V3.0. See Pydantic V2 Migration Guide at https://errors.pydantic.dev/2.8/migration/\n",
      "  warnings.warn('The `dict` method is deprecated; use `model_dump` instead.', category=PydanticDeprecatedSince20)\n",
      "INFO:httpx:HTTP Request: POST https://api.openai.com/v1/chat/completions \"HTTP/1.1 200 OK\"\n",
      "/Users/user/miniconda3/envs/graphmaker/lib/python3.11/site-packages/pydantic/main.py:1087: PydanticDeprecatedSince20: The `dict` method is deprecated; use `model_dump` instead. Deprecated in Pydantic V2.0 to be removed in V3.0. See Pydantic V2 Migration Guide at https://errors.pydantic.dev/2.8/migration/\n",
      "  warnings.warn('The `dict` method is deprecated; use `model_dump` instead.', category=PydanticDeprecatedSince20)\n"
     ]
    },
    {
     "name": "stdout",
     "output_type": "stream",
     "text": [
      "\n",
      "Adding: 'D hunts Those Who Live in Death.'\n"
     ]
    },
    {
     "name": "stderr",
     "output_type": "stream",
     "text": [
      "INFO:httpx:HTTP Request: POST https://api.openai.com/v1/chat/completions \"HTTP/1.1 200 OK\"\n",
      "/Users/user/miniconda3/envs/graphmaker/lib/python3.11/site-packages/pydantic/main.py:1087: PydanticDeprecatedSince20: The `dict` method is deprecated; use `model_dump` instead. Deprecated in Pydantic V2.0 to be removed in V3.0. See Pydantic V2 Migration Guide at https://errors.pydantic.dev/2.8/migration/\n",
      "  warnings.warn('The `dict` method is deprecated; use `model_dump` instead.', category=PydanticDeprecatedSince20)\n",
      "INFO:httpx:HTTP Request: POST https://api.openai.com/v1/chat/completions \"HTTP/1.1 200 OK\"\n",
      "/Users/user/miniconda3/envs/graphmaker/lib/python3.11/site-packages/pydantic/main.py:1087: PydanticDeprecatedSince20: The `dict` method is deprecated; use `model_dump` instead. Deprecated in Pydantic V2.0 to be removed in V3.0. See Pydantic V2 Migration Guide at https://errors.pydantic.dev/2.8/migration/\n",
      "  warnings.warn('The `dict` method is deprecated; use `model_dump` instead.', category=PydanticDeprecatedSince20)\n"
     ]
    },
    {
     "name": "stdout",
     "output_type": "stream",
     "text": [
      "Chunk Found (36362), adding to: Elden Ring Lore & Mythos\n"
     ]
    },
    {
     "name": "stderr",
     "output_type": "stream",
     "text": [
      "INFO:httpx:HTTP Request: POST https://api.openai.com/v1/chat/completions \"HTTP/1.1 200 OK\"\n",
      "/Users/user/miniconda3/envs/graphmaker/lib/python3.11/site-packages/pydantic/main.py:1087: PydanticDeprecatedSince20: The `dict` method is deprecated; use `model_dump` instead. Deprecated in Pydantic V2.0 to be removed in V3.0. See Pydantic V2 Migration Guide at https://errors.pydantic.dev/2.8/migration/\n",
      "  warnings.warn('The `dict` method is deprecated; use `model_dump` instead.', category=PydanticDeprecatedSince20)\n",
      "INFO:httpx:HTTP Request: POST https://api.openai.com/v1/chat/completions \"HTTP/1.1 200 OK\"\n",
      "/Users/user/miniconda3/envs/graphmaker/lib/python3.11/site-packages/pydantic/main.py:1087: PydanticDeprecatedSince20: The `dict` method is deprecated; use `model_dump` instead. Deprecated in Pydantic V2.0 to be removed in V3.0. See Pydantic V2 Migration Guide at https://errors.pydantic.dev/2.8/migration/\n",
      "  warnings.warn('The `dict` method is deprecated; use `model_dump` instead.', category=PydanticDeprecatedSince20)\n"
     ]
    },
    {
     "name": "stdout",
     "output_type": "stream",
     "text": [
      "\n",
      "Adding: 'D notably hunts Tibia Mariners for their Deathroot.'\n"
     ]
    },
    {
     "name": "stderr",
     "output_type": "stream",
     "text": [
      "INFO:httpx:HTTP Request: POST https://api.openai.com/v1/chat/completions \"HTTP/1.1 200 OK\"\n",
      "/Users/user/miniconda3/envs/graphmaker/lib/python3.11/site-packages/pydantic/main.py:1087: PydanticDeprecatedSince20: The `dict` method is deprecated; use `model_dump` instead. Deprecated in Pydantic V2.0 to be removed in V3.0. See Pydantic V2 Migration Guide at https://errors.pydantic.dev/2.8/migration/\n",
      "  warnings.warn('The `dict` method is deprecated; use `model_dump` instead.', category=PydanticDeprecatedSince20)\n",
      "INFO:httpx:HTTP Request: POST https://api.openai.com/v1/chat/completions \"HTTP/1.1 200 OK\"\n",
      "/Users/user/miniconda3/envs/graphmaker/lib/python3.11/site-packages/pydantic/main.py:1087: PydanticDeprecatedSince20: The `dict` method is deprecated; use `model_dump` instead. Deprecated in Pydantic V2.0 to be removed in V3.0. See Pydantic V2 Migration Guide at https://errors.pydantic.dev/2.8/migration/\n",
      "  warnings.warn('The `dict` method is deprecated; use `model_dump` instead.', category=PydanticDeprecatedSince20)\n"
     ]
    },
    {
     "name": "stdout",
     "output_type": "stream",
     "text": [
      "Chunk Found (36362), adding to: Elden Ring Lore, History & Characters\n"
     ]
    },
    {
     "name": "stderr",
     "output_type": "stream",
     "text": [
      "INFO:httpx:HTTP Request: POST https://api.openai.com/v1/chat/completions \"HTTP/1.1 200 OK\"\n",
      "/Users/user/miniconda3/envs/graphmaker/lib/python3.11/site-packages/pydantic/main.py:1087: PydanticDeprecatedSince20: The `dict` method is deprecated; use `model_dump` instead. Deprecated in Pydantic V2.0 to be removed in V3.0. See Pydantic V2 Migration Guide at https://errors.pydantic.dev/2.8/migration/\n",
      "  warnings.warn('The `dict` method is deprecated; use `model_dump` instead.', category=PydanticDeprecatedSince20)\n",
      "INFO:httpx:HTTP Request: POST https://api.openai.com/v1/chat/completions \"HTTP/1.1 200 OK\"\n",
      "/Users/user/miniconda3/envs/graphmaker/lib/python3.11/site-packages/pydantic/main.py:1087: PydanticDeprecatedSince20: The `dict` method is deprecated; use `model_dump` instead. Deprecated in Pydantic V2.0 to be removed in V3.0. See Pydantic V2 Migration Guide at https://errors.pydantic.dev/2.8/migration/\n",
      "  warnings.warn('The `dict` method is deprecated; use `model_dump` instead.', category=PydanticDeprecatedSince20)\n"
     ]
    },
    {
     "name": "stdout",
     "output_type": "stream",
     "text": [
      "\n",
      "Adding: 'D has a twin brother.'\n"
     ]
    },
    {
     "name": "stderr",
     "output_type": "stream",
     "text": [
      "INFO:httpx:HTTP Request: POST https://api.openai.com/v1/chat/completions \"HTTP/1.1 200 OK\"\n",
      "/Users/user/miniconda3/envs/graphmaker/lib/python3.11/site-packages/pydantic/main.py:1087: PydanticDeprecatedSince20: The `dict` method is deprecated; use `model_dump` instead. Deprecated in Pydantic V2.0 to be removed in V3.0. See Pydantic V2 Migration Guide at https://errors.pydantic.dev/2.8/migration/\n",
      "  warnings.warn('The `dict` method is deprecated; use `model_dump` instead.', category=PydanticDeprecatedSince20)\n",
      "INFO:httpx:HTTP Request: POST https://api.openai.com/v1/chat/completions \"HTTP/1.1 200 OK\"\n",
      "/Users/user/miniconda3/envs/graphmaker/lib/python3.11/site-packages/pydantic/main.py:1087: PydanticDeprecatedSince20: The `dict` method is deprecated; use `model_dump` instead. Deprecated in Pydantic V2.0 to be removed in V3.0. See Pydantic V2 Migration Guide at https://errors.pydantic.dev/2.8/migration/\n",
      "  warnings.warn('The `dict` method is deprecated; use `model_dump` instead.', category=PydanticDeprecatedSince20)\n"
     ]
    },
    {
     "name": "stdout",
     "output_type": "stream",
     "text": [
      "No chunks found\n"
     ]
    },
    {
     "name": "stderr",
     "output_type": "stream",
     "text": [
      "INFO:httpx:HTTP Request: POST https://api.openai.com/v1/chat/completions \"HTTP/1.1 200 OK\"\n",
      "/Users/user/miniconda3/envs/graphmaker/lib/python3.11/site-packages/pydantic/main.py:1087: PydanticDeprecatedSince20: The `dict` method is deprecated; use `model_dump` instead. Deprecated in Pydantic V2.0 to be removed in V3.0. See Pydantic V2 Migration Guide at https://errors.pydantic.dev/2.8/migration/\n",
      "  warnings.warn('The `dict` method is deprecated; use `model_dump` instead.', category=PydanticDeprecatedSince20)\n",
      "INFO:httpx:HTTP Request: POST https://api.openai.com/v1/chat/completions \"HTTP/1.1 200 OK\"\n",
      "/Users/user/miniconda3/envs/graphmaker/lib/python3.11/site-packages/pydantic/main.py:1087: PydanticDeprecatedSince20: The `dict` method is deprecated; use `model_dump` instead. Deprecated in Pydantic V2.0 to be removed in V3.0. See Pydantic V2 Migration Guide at https://errors.pydantic.dev/2.8/migration/\n",
      "  warnings.warn('The `dict` method is deprecated; use `model_dump` instead.', category=PydanticDeprecatedSince20)\n"
     ]
    },
    {
     "name": "stdout",
     "output_type": "stream",
     "text": [
      "Created new chunk (f5b48): Familial Relationships\n",
      "\n",
      "Adding: 'D's twin brother's name is suggested to be Darian.'\n"
     ]
    },
    {
     "name": "stderr",
     "output_type": "stream",
     "text": [
      "INFO:httpx:HTTP Request: POST https://api.openai.com/v1/chat/completions \"HTTP/1.1 200 OK\"\n",
      "/Users/user/miniconda3/envs/graphmaker/lib/python3.11/site-packages/pydantic/main.py:1087: PydanticDeprecatedSince20: The `dict` method is deprecated; use `model_dump` instead. Deprecated in Pydantic V2.0 to be removed in V3.0. See Pydantic V2 Migration Guide at https://errors.pydantic.dev/2.8/migration/\n",
      "  warnings.warn('The `dict` method is deprecated; use `model_dump` instead.', category=PydanticDeprecatedSince20)\n",
      "INFO:httpx:HTTP Request: POST https://api.openai.com/v1/chat/completions \"HTTP/1.1 200 OK\"\n",
      "/Users/user/miniconda3/envs/graphmaker/lib/python3.11/site-packages/pydantic/main.py:1087: PydanticDeprecatedSince20: The `dict` method is deprecated; use `model_dump` instead. Deprecated in Pydantic V2.0 to be removed in V3.0. See Pydantic V2 Migration Guide at https://errors.pydantic.dev/2.8/migration/\n",
      "  warnings.warn('The `dict` method is deprecated; use `model_dump` instead.', category=PydanticDeprecatedSince20)\n"
     ]
    },
    {
     "name": "stdout",
     "output_type": "stream",
     "text": [
      "Chunk Found (f5b48), adding to: Familial Relationships\n"
     ]
    },
    {
     "name": "stderr",
     "output_type": "stream",
     "text": [
      "INFO:httpx:HTTP Request: POST https://api.openai.com/v1/chat/completions \"HTTP/1.1 200 OK\"\n",
      "/Users/user/miniconda3/envs/graphmaker/lib/python3.11/site-packages/pydantic/main.py:1087: PydanticDeprecatedSince20: The `dict` method is deprecated; use `model_dump` instead. Deprecated in Pydantic V2.0 to be removed in V3.0. See Pydantic V2 Migration Guide at https://errors.pydantic.dev/2.8/migration/\n",
      "  warnings.warn('The `dict` method is deprecated; use `model_dump` instead.', category=PydanticDeprecatedSince20)\n",
      "INFO:httpx:HTTP Request: POST https://api.openai.com/v1/chat/completions \"HTTP/1.1 200 OK\"\n",
      "/Users/user/miniconda3/envs/graphmaker/lib/python3.11/site-packages/pydantic/main.py:1087: PydanticDeprecatedSince20: The `dict` method is deprecated; use `model_dump` instead. Deprecated in Pydantic V2.0 to be removed in V3.0. See Pydantic V2 Migration Guide at https://errors.pydantic.dev/2.8/migration/\n",
      "  warnings.warn('The `dict` method is deprecated; use `model_dump` instead.', category=PydanticDeprecatedSince20)\n"
     ]
    },
    {
     "name": "stdout",
     "output_type": "stream",
     "text": [
      "\n",
      "Adding: 'D and Darian have separate bodies and separate minds.'\n"
     ]
    },
    {
     "name": "stderr",
     "output_type": "stream",
     "text": [
      "INFO:httpx:HTTP Request: POST https://api.openai.com/v1/chat/completions \"HTTP/1.1 200 OK\"\n",
      "/Users/user/miniconda3/envs/graphmaker/lib/python3.11/site-packages/pydantic/main.py:1087: PydanticDeprecatedSince20: The `dict` method is deprecated; use `model_dump` instead. Deprecated in Pydantic V2.0 to be removed in V3.0. See Pydantic V2 Migration Guide at https://errors.pydantic.dev/2.8/migration/\n",
      "  warnings.warn('The `dict` method is deprecated; use `model_dump` instead.', category=PydanticDeprecatedSince20)\n",
      "INFO:httpx:HTTP Request: POST https://api.openai.com/v1/chat/completions \"HTTP/1.1 200 OK\"\n",
      "/Users/user/miniconda3/envs/graphmaker/lib/python3.11/site-packages/pydantic/main.py:1087: PydanticDeprecatedSince20: The `dict` method is deprecated; use `model_dump` instead. Deprecated in Pydantic V2.0 to be removed in V3.0. See Pydantic V2 Migration Guide at https://errors.pydantic.dev/2.8/migration/\n",
      "  warnings.warn('The `dict` method is deprecated; use `model_dump` instead.', category=PydanticDeprecatedSince20)\n"
     ]
    },
    {
     "name": "stdout",
     "output_type": "stream",
     "text": [
      "No chunks found\n"
     ]
    },
    {
     "name": "stderr",
     "output_type": "stream",
     "text": [
      "INFO:httpx:HTTP Request: POST https://api.openai.com/v1/chat/completions \"HTTP/1.1 200 OK\"\n",
      "/Users/user/miniconda3/envs/graphmaker/lib/python3.11/site-packages/pydantic/main.py:1087: PydanticDeprecatedSince20: The `dict` method is deprecated; use `model_dump` instead. Deprecated in Pydantic V2.0 to be removed in V3.0. See Pydantic V2 Migration Guide at https://errors.pydantic.dev/2.8/migration/\n",
      "  warnings.warn('The `dict` method is deprecated; use `model_dump` instead.', category=PydanticDeprecatedSince20)\n",
      "INFO:httpx:HTTP Request: POST https://api.openai.com/v1/chat/completions \"HTTP/1.1 200 OK\"\n",
      "/Users/user/miniconda3/envs/graphmaker/lib/python3.11/site-packages/pydantic/main.py:1087: PydanticDeprecatedSince20: The `dict` method is deprecated; use `model_dump` instead. Deprecated in Pydantic V2.0 to be removed in V3.0. See Pydantic V2 Migration Guide at https://errors.pydantic.dev/2.8/migration/\n",
      "  warnings.warn('The `dict` method is deprecated; use `model_dump` instead.', category=PydanticDeprecatedSince20)\n"
     ]
    },
    {
     "name": "stdout",
     "output_type": "stream",
     "text": [
      "Created new chunk (dd207): Identity & Individuality\n",
      "\n",
      "Adding: 'D and Darian share the same soul.'\n"
     ]
    },
    {
     "name": "stderr",
     "output_type": "stream",
     "text": [
      "INFO:httpx:HTTP Request: POST https://api.openai.com/v1/chat/completions \"HTTP/1.1 200 OK\"\n",
      "/Users/user/miniconda3/envs/graphmaker/lib/python3.11/site-packages/pydantic/main.py:1087: PydanticDeprecatedSince20: The `dict` method is deprecated; use `model_dump` instead. Deprecated in Pydantic V2.0 to be removed in V3.0. See Pydantic V2 Migration Guide at https://errors.pydantic.dev/2.8/migration/\n",
      "  warnings.warn('The `dict` method is deprecated; use `model_dump` instead.', category=PydanticDeprecatedSince20)\n",
      "INFO:httpx:HTTP Request: POST https://api.openai.com/v1/chat/completions \"HTTP/1.1 200 OK\"\n",
      "/Users/user/miniconda3/envs/graphmaker/lib/python3.11/site-packages/pydantic/main.py:1087: PydanticDeprecatedSince20: The `dict` method is deprecated; use `model_dump` instead. Deprecated in Pydantic V2.0 to be removed in V3.0. See Pydantic V2 Migration Guide at https://errors.pydantic.dev/2.8/migration/\n",
      "  warnings.warn('The `dict` method is deprecated; use `model_dump` instead.', category=PydanticDeprecatedSince20)\n"
     ]
    },
    {
     "name": "stdout",
     "output_type": "stream",
     "text": [
      "Chunk Found (dd207), adding to: Identity & Individuality\n"
     ]
    },
    {
     "name": "stderr",
     "output_type": "stream",
     "text": [
      "INFO:httpx:HTTP Request: POST https://api.openai.com/v1/chat/completions \"HTTP/1.1 200 OK\"\n",
      "/Users/user/miniconda3/envs/graphmaker/lib/python3.11/site-packages/pydantic/main.py:1087: PydanticDeprecatedSince20: The `dict` method is deprecated; use `model_dump` instead. Deprecated in Pydantic V2.0 to be removed in V3.0. See Pydantic V2 Migration Guide at https://errors.pydantic.dev/2.8/migration/\n",
      "  warnings.warn('The `dict` method is deprecated; use `model_dump` instead.', category=PydanticDeprecatedSince20)\n",
      "INFO:httpx:HTTP Request: POST https://api.openai.com/v1/chat/completions \"HTTP/1.1 200 OK\"\n",
      "/Users/user/miniconda3/envs/graphmaker/lib/python3.11/site-packages/pydantic/main.py:1087: PydanticDeprecatedSince20: The `dict` method is deprecated; use `model_dump` instead. Deprecated in Pydantic V2.0 to be removed in V3.0. See Pydantic V2 Migration Guide at https://errors.pydantic.dev/2.8/migration/\n",
      "  warnings.warn('The `dict` method is deprecated; use `model_dump` instead.', category=PydanticDeprecatedSince20)\n"
     ]
    },
    {
     "name": "stdout",
     "output_type": "stream",
     "text": [
      "\n",
      "Adding: 'One twin cannot be conscious when the other is conscious.'\n"
     ]
    },
    {
     "name": "stderr",
     "output_type": "stream",
     "text": [
      "INFO:httpx:HTTP Request: POST https://api.openai.com/v1/chat/completions \"HTTP/1.1 200 OK\"\n",
      "/Users/user/miniconda3/envs/graphmaker/lib/python3.11/site-packages/pydantic/main.py:1087: PydanticDeprecatedSince20: The `dict` method is deprecated; use `model_dump` instead. Deprecated in Pydantic V2.0 to be removed in V3.0. See Pydantic V2 Migration Guide at https://errors.pydantic.dev/2.8/migration/\n",
      "  warnings.warn('The `dict` method is deprecated; use `model_dump` instead.', category=PydanticDeprecatedSince20)\n",
      "INFO:httpx:HTTP Request: POST https://api.openai.com/v1/chat/completions \"HTTP/1.1 200 OK\"\n",
      "/Users/user/miniconda3/envs/graphmaker/lib/python3.11/site-packages/pydantic/main.py:1087: PydanticDeprecatedSince20: The `dict` method is deprecated; use `model_dump` instead. Deprecated in Pydantic V2.0 to be removed in V3.0. See Pydantic V2 Migration Guide at https://errors.pydantic.dev/2.8/migration/\n",
      "  warnings.warn('The `dict` method is deprecated; use `model_dump` instead.', category=PydanticDeprecatedSince20)\n"
     ]
    },
    {
     "name": "stdout",
     "output_type": "stream",
     "text": [
      "Chunk Found (f5b48), adding to: Twins and Their Names\n"
     ]
    },
    {
     "name": "stderr",
     "output_type": "stream",
     "text": [
      "INFO:httpx:HTTP Request: POST https://api.openai.com/v1/chat/completions \"HTTP/1.1 200 OK\"\n",
      "/Users/user/miniconda3/envs/graphmaker/lib/python3.11/site-packages/pydantic/main.py:1087: PydanticDeprecatedSince20: The `dict` method is deprecated; use `model_dump` instead. Deprecated in Pydantic V2.0 to be removed in V3.0. See Pydantic V2 Migration Guide at https://errors.pydantic.dev/2.8/migration/\n",
      "  warnings.warn('The `dict` method is deprecated; use `model_dump` instead.', category=PydanticDeprecatedSince20)\n",
      "INFO:httpx:HTTP Request: POST https://api.openai.com/v1/chat/completions \"HTTP/1.1 200 OK\"\n",
      "/Users/user/miniconda3/envs/graphmaker/lib/python3.11/site-packages/pydantic/main.py:1087: PydanticDeprecatedSince20: The `dict` method is deprecated; use `model_dump` instead. Deprecated in Pydantic V2.0 to be removed in V3.0. See Pydantic V2 Migration Guide at https://errors.pydantic.dev/2.8/migration/\n",
      "  warnings.warn('The `dict` method is deprecated; use `model_dump` instead.', category=PydanticDeprecatedSince20)\n"
     ]
    },
    {
     "name": "stdout",
     "output_type": "stream",
     "text": [
      "\n",
      "Adding: 'Other Orders would have seen D and Darian as cursed beings.'\n"
     ]
    },
    {
     "name": "stderr",
     "output_type": "stream",
     "text": [
      "INFO:httpx:HTTP Request: POST https://api.openai.com/v1/chat/completions \"HTTP/1.1 200 OK\"\n",
      "/Users/user/miniconda3/envs/graphmaker/lib/python3.11/site-packages/pydantic/main.py:1087: PydanticDeprecatedSince20: The `dict` method is deprecated; use `model_dump` instead. Deprecated in Pydantic V2.0 to be removed in V3.0. See Pydantic V2 Migration Guide at https://errors.pydantic.dev/2.8/migration/\n",
      "  warnings.warn('The `dict` method is deprecated; use `model_dump` instead.', category=PydanticDeprecatedSince20)\n",
      "INFO:httpx:HTTP Request: POST https://api.openai.com/v1/chat/completions \"HTTP/1.1 200 OK\"\n",
      "/Users/user/miniconda3/envs/graphmaker/lib/python3.11/site-packages/pydantic/main.py:1087: PydanticDeprecatedSince20: The `dict` method is deprecated; use `model_dump` instead. Deprecated in Pydantic V2.0 to be removed in V3.0. See Pydantic V2 Migration Guide at https://errors.pydantic.dev/2.8/migration/\n",
      "  warnings.warn('The `dict` method is deprecated; use `model_dump` instead.', category=PydanticDeprecatedSince20)\n"
     ]
    },
    {
     "name": "stdout",
     "output_type": "stream",
     "text": [
      "Chunk Found (36362), adding to: Elden Ring Lore & Mythos\n"
     ]
    },
    {
     "name": "stderr",
     "output_type": "stream",
     "text": [
      "INFO:httpx:HTTP Request: POST https://api.openai.com/v1/chat/completions \"HTTP/1.1 200 OK\"\n",
      "/Users/user/miniconda3/envs/graphmaker/lib/python3.11/site-packages/pydantic/main.py:1087: PydanticDeprecatedSince20: The `dict` method is deprecated; use `model_dump` instead. Deprecated in Pydantic V2.0 to be removed in V3.0. See Pydantic V2 Migration Guide at https://errors.pydantic.dev/2.8/migration/\n",
      "  warnings.warn('The `dict` method is deprecated; use `model_dump` instead.', category=PydanticDeprecatedSince20)\n",
      "INFO:httpx:HTTP Request: POST https://api.openai.com/v1/chat/completions \"HTTP/1.1 200 OK\"\n",
      "/Users/user/miniconda3/envs/graphmaker/lib/python3.11/site-packages/pydantic/main.py:1087: PydanticDeprecatedSince20: The `dict` method is deprecated; use `model_dump` instead. Deprecated in Pydantic V2.0 to be removed in V3.0. See Pydantic V2 Migration Guide at https://errors.pydantic.dev/2.8/migration/\n",
      "  warnings.warn('The `dict` method is deprecated; use `model_dump` instead.', category=PydanticDeprecatedSince20)\n"
     ]
    },
    {
     "name": "stdout",
     "output_type": "stream",
     "text": [
      "\n",
      "Adding: 'The two twins found comfort in the Golden Order.'\n"
     ]
    },
    {
     "name": "stderr",
     "output_type": "stream",
     "text": [
      "INFO:httpx:HTTP Request: POST https://api.openai.com/v1/chat/completions \"HTTP/1.1 200 OK\"\n",
      "/Users/user/miniconda3/envs/graphmaker/lib/python3.11/site-packages/pydantic/main.py:1087: PydanticDeprecatedSince20: The `dict` method is deprecated; use `model_dump` instead. Deprecated in Pydantic V2.0 to be removed in V3.0. See Pydantic V2 Migration Guide at https://errors.pydantic.dev/2.8/migration/\n",
      "  warnings.warn('The `dict` method is deprecated; use `model_dump` instead.', category=PydanticDeprecatedSince20)\n",
      "INFO:httpx:HTTP Request: POST https://api.openai.com/v1/chat/completions \"HTTP/1.1 200 OK\"\n",
      "/Users/user/miniconda3/envs/graphmaker/lib/python3.11/site-packages/pydantic/main.py:1087: PydanticDeprecatedSince20: The `dict` method is deprecated; use `model_dump` instead. Deprecated in Pydantic V2.0 to be removed in V3.0. See Pydantic V2 Migration Guide at https://errors.pydantic.dev/2.8/migration/\n",
      "  warnings.warn('The `dict` method is deprecated; use `model_dump` instead.', category=PydanticDeprecatedSince20)\n"
     ]
    },
    {
     "name": "stdout",
     "output_type": "stream",
     "text": [
      "Chunk Found (f5b48), adding to: Twins and Consciousness\n"
     ]
    },
    {
     "name": "stderr",
     "output_type": "stream",
     "text": [
      "INFO:httpx:HTTP Request: POST https://api.openai.com/v1/chat/completions \"HTTP/1.1 200 OK\"\n",
      "/Users/user/miniconda3/envs/graphmaker/lib/python3.11/site-packages/pydantic/main.py:1087: PydanticDeprecatedSince20: The `dict` method is deprecated; use `model_dump` instead. Deprecated in Pydantic V2.0 to be removed in V3.0. See Pydantic V2 Migration Guide at https://errors.pydantic.dev/2.8/migration/\n",
      "  warnings.warn('The `dict` method is deprecated; use `model_dump` instead.', category=PydanticDeprecatedSince20)\n",
      "INFO:httpx:HTTP Request: POST https://api.openai.com/v1/chat/completions \"HTTP/1.1 200 OK\"\n",
      "/Users/user/miniconda3/envs/graphmaker/lib/python3.11/site-packages/pydantic/main.py:1087: PydanticDeprecatedSince20: The `dict` method is deprecated; use `model_dump` instead. Deprecated in Pydantic V2.0 to be removed in V3.0. See Pydantic V2 Migration Guide at https://errors.pydantic.dev/2.8/migration/\n",
      "  warnings.warn('The `dict` method is deprecated; use `model_dump` instead.', category=PydanticDeprecatedSince20)\n"
     ]
    },
    {
     "name": "stdout",
     "output_type": "stream",
     "text": [
      "\n",
      "Adding: 'The Golden Order is the one Order that does not see D and Darian as cursed beings.'\n"
     ]
    },
    {
     "name": "stderr",
     "output_type": "stream",
     "text": [
      "INFO:httpx:HTTP Request: POST https://api.openai.com/v1/chat/completions \"HTTP/1.1 200 OK\"\n",
      "/Users/user/miniconda3/envs/graphmaker/lib/python3.11/site-packages/pydantic/main.py:1087: PydanticDeprecatedSince20: The `dict` method is deprecated; use `model_dump` instead. Deprecated in Pydantic V2.0 to be removed in V3.0. See Pydantic V2 Migration Guide at https://errors.pydantic.dev/2.8/migration/\n",
      "  warnings.warn('The `dict` method is deprecated; use `model_dump` instead.', category=PydanticDeprecatedSince20)\n",
      "INFO:httpx:HTTP Request: POST https://api.openai.com/v1/chat/completions \"HTTP/1.1 200 OK\"\n",
      "/Users/user/miniconda3/envs/graphmaker/lib/python3.11/site-packages/pydantic/main.py:1087: PydanticDeprecatedSince20: The `dict` method is deprecated; use `model_dump` instead. Deprecated in Pydantic V2.0 to be removed in V3.0. See Pydantic V2 Migration Guide at https://errors.pydantic.dev/2.8/migration/\n",
      "  warnings.warn('The `dict` method is deprecated; use `model_dump` instead.', category=PydanticDeprecatedSince20)\n"
     ]
    },
    {
     "name": "stdout",
     "output_type": "stream",
     "text": [
      "Chunk Found (dd207), adding to: Identity & Essence\n"
     ]
    },
    {
     "name": "stderr",
     "output_type": "stream",
     "text": [
      "INFO:httpx:HTTP Request: POST https://api.openai.com/v1/chat/completions \"HTTP/1.1 200 OK\"\n",
      "/Users/user/miniconda3/envs/graphmaker/lib/python3.11/site-packages/pydantic/main.py:1087: PydanticDeprecatedSince20: The `dict` method is deprecated; use `model_dump` instead. Deprecated in Pydantic V2.0 to be removed in V3.0. See Pydantic V2 Migration Guide at https://errors.pydantic.dev/2.8/migration/\n",
      "  warnings.warn('The `dict` method is deprecated; use `model_dump` instead.', category=PydanticDeprecatedSince20)\n",
      "INFO:httpx:HTTP Request: POST https://api.openai.com/v1/chat/completions \"HTTP/1.1 200 OK\"\n",
      "/Users/user/miniconda3/envs/graphmaker/lib/python3.11/site-packages/pydantic/main.py:1087: PydanticDeprecatedSince20: The `dict` method is deprecated; use `model_dump` instead. Deprecated in Pydantic V2.0 to be removed in V3.0. See Pydantic V2 Migration Guide at https://errors.pydantic.dev/2.8/migration/\n",
      "  warnings.warn('The `dict` method is deprecated; use `model_dump` instead.', category=PydanticDeprecatedSince20)\n"
     ]
    },
    {
     "name": "stdout",
     "output_type": "stream",
     "text": [
      "\n",
      "Adding: 'D states that Those Who Live in Death go against the principles of the Golden Order.'\n"
     ]
    },
    {
     "name": "stderr",
     "output_type": "stream",
     "text": [
      "INFO:httpx:HTTP Request: POST https://api.openai.com/v1/chat/completions \"HTTP/1.1 200 OK\"\n",
      "/Users/user/miniconda3/envs/graphmaker/lib/python3.11/site-packages/pydantic/main.py:1087: PydanticDeprecatedSince20: The `dict` method is deprecated; use `model_dump` instead. Deprecated in Pydantic V2.0 to be removed in V3.0. See Pydantic V2 Migration Guide at https://errors.pydantic.dev/2.8/migration/\n",
      "  warnings.warn('The `dict` method is deprecated; use `model_dump` instead.', category=PydanticDeprecatedSince20)\n",
      "INFO:httpx:HTTP Request: POST https://api.openai.com/v1/chat/completions \"HTTP/1.1 200 OK\"\n",
      "/Users/user/miniconda3/envs/graphmaker/lib/python3.11/site-packages/pydantic/main.py:1087: PydanticDeprecatedSince20: The `dict` method is deprecated; use `model_dump` instead. Deprecated in Pydantic V2.0 to be removed in V3.0. See Pydantic V2 Migration Guide at https://errors.pydantic.dev/2.8/migration/\n",
      "  warnings.warn('The `dict` method is deprecated; use `model_dump` instead.', category=PydanticDeprecatedSince20)\n"
     ]
    },
    {
     "name": "stdout",
     "output_type": "stream",
     "text": [
      "Chunk Found (36362), adding to: Elden Ring Lore, History & Characters\n"
     ]
    },
    {
     "name": "stderr",
     "output_type": "stream",
     "text": [
      "INFO:httpx:HTTP Request: POST https://api.openai.com/v1/chat/completions \"HTTP/1.1 200 OK\"\n",
      "/Users/user/miniconda3/envs/graphmaker/lib/python3.11/site-packages/pydantic/main.py:1087: PydanticDeprecatedSince20: The `dict` method is deprecated; use `model_dump` instead. Deprecated in Pydantic V2.0 to be removed in V3.0. See Pydantic V2 Migration Guide at https://errors.pydantic.dev/2.8/migration/\n",
      "  warnings.warn('The `dict` method is deprecated; use `model_dump` instead.', category=PydanticDeprecatedSince20)\n",
      "INFO:httpx:HTTP Request: POST https://api.openai.com/v1/chat/completions \"HTTP/1.1 200 OK\"\n",
      "/Users/user/miniconda3/envs/graphmaker/lib/python3.11/site-packages/pydantic/main.py:1087: PydanticDeprecatedSince20: The `dict` method is deprecated; use `model_dump` instead. Deprecated in Pydantic V2.0 to be removed in V3.0. See Pydantic V2 Migration Guide at https://errors.pydantic.dev/2.8/migration/\n",
      "  warnings.warn('The `dict` method is deprecated; use `model_dump` instead.', category=PydanticDeprecatedSince20)\n"
     ]
    },
    {
     "name": "stdout",
     "output_type": "stream",
     "text": [
      "\n",
      "Adding: 'D states that Those Who Live in Death must be exterminated.'\n"
     ]
    },
    {
     "name": "stderr",
     "output_type": "stream",
     "text": [
      "INFO:httpx:HTTP Request: POST https://api.openai.com/v1/chat/completions \"HTTP/1.1 200 OK\"\n",
      "/Users/user/miniconda3/envs/graphmaker/lib/python3.11/site-packages/pydantic/main.py:1087: PydanticDeprecatedSince20: The `dict` method is deprecated; use `model_dump` instead. Deprecated in Pydantic V2.0 to be removed in V3.0. See Pydantic V2 Migration Guide at https://errors.pydantic.dev/2.8/migration/\n",
      "  warnings.warn('The `dict` method is deprecated; use `model_dump` instead.', category=PydanticDeprecatedSince20)\n",
      "INFO:httpx:HTTP Request: POST https://api.openai.com/v1/chat/completions \"HTTP/1.1 200 OK\"\n",
      "/Users/user/miniconda3/envs/graphmaker/lib/python3.11/site-packages/pydantic/main.py:1087: PydanticDeprecatedSince20: The `dict` method is deprecated; use `model_dump` instead. Deprecated in Pydantic V2.0 to be removed in V3.0. See Pydantic V2 Migration Guide at https://errors.pydantic.dev/2.8/migration/\n",
      "  warnings.warn('The `dict` method is deprecated; use `model_dump` instead.', category=PydanticDeprecatedSince20)\n"
     ]
    },
    {
     "name": "stdout",
     "output_type": "stream",
     "text": [
      "Chunk Found (36362), adding to: Elden Ring Lore & Mythos\n"
     ]
    },
    {
     "name": "stderr",
     "output_type": "stream",
     "text": [
      "INFO:httpx:HTTP Request: POST https://api.openai.com/v1/chat/completions \"HTTP/1.1 200 OK\"\n",
      "/Users/user/miniconda3/envs/graphmaker/lib/python3.11/site-packages/pydantic/main.py:1087: PydanticDeprecatedSince20: The `dict` method is deprecated; use `model_dump` instead. Deprecated in Pydantic V2.0 to be removed in V3.0. See Pydantic V2 Migration Guide at https://errors.pydantic.dev/2.8/migration/\n",
      "  warnings.warn('The `dict` method is deprecated; use `model_dump` instead.', category=PydanticDeprecatedSince20)\n",
      "INFO:httpx:HTTP Request: POST https://api.openai.com/v1/chat/completions \"HTTP/1.1 200 OK\"\n",
      "/Users/user/miniconda3/envs/graphmaker/lib/python3.11/site-packages/pydantic/main.py:1087: PydanticDeprecatedSince20: The `dict` method is deprecated; use `model_dump` instead. Deprecated in Pydantic V2.0 to be removed in V3.0. See Pydantic V2 Migration Guide at https://errors.pydantic.dev/2.8/migration/\n",
      "  warnings.warn('The `dict` method is deprecated; use `model_dump` instead.', category=PydanticDeprecatedSince20)\n"
     ]
    },
    {
     "name": "stdout",
     "output_type": "stream",
     "text": [
      "\n",
      "Adding: 'D is known as the Beholder of Death.'\n"
     ]
    },
    {
     "name": "stderr",
     "output_type": "stream",
     "text": [
      "INFO:httpx:HTTP Request: POST https://api.openai.com/v1/chat/completions \"HTTP/1.1 200 OK\"\n",
      "/Users/user/miniconda3/envs/graphmaker/lib/python3.11/site-packages/pydantic/main.py:1087: PydanticDeprecatedSince20: The `dict` method is deprecated; use `model_dump` instead. Deprecated in Pydantic V2.0 to be removed in V3.0. See Pydantic V2 Migration Guide at https://errors.pydantic.dev/2.8/migration/\n",
      "  warnings.warn('The `dict` method is deprecated; use `model_dump` instead.', category=PydanticDeprecatedSince20)\n",
      "INFO:httpx:HTTP Request: POST https://api.openai.com/v1/chat/completions \"HTTP/1.1 200 OK\"\n",
      "/Users/user/miniconda3/envs/graphmaker/lib/python3.11/site-packages/pydantic/main.py:1087: PydanticDeprecatedSince20: The `dict` method is deprecated; use `model_dump` instead. Deprecated in Pydantic V2.0 to be removed in V3.0. See Pydantic V2 Migration Guide at https://errors.pydantic.dev/2.8/migration/\n",
      "  warnings.warn('The `dict` method is deprecated; use `model_dump` instead.', category=PydanticDeprecatedSince20)\n"
     ]
    },
    {
     "name": "stdout",
     "output_type": "stream",
     "text": [
      "Chunk Found (36362), adding to: Elden Ring Lore, History & Characters\n"
     ]
    },
    {
     "name": "stderr",
     "output_type": "stream",
     "text": [
      "INFO:httpx:HTTP Request: POST https://api.openai.com/v1/chat/completions \"HTTP/1.1 200 OK\"\n",
      "/Users/user/miniconda3/envs/graphmaker/lib/python3.11/site-packages/pydantic/main.py:1087: PydanticDeprecatedSince20: The `dict` method is deprecated; use `model_dump` instead. Deprecated in Pydantic V2.0 to be removed in V3.0. See Pydantic V2 Migration Guide at https://errors.pydantic.dev/2.8/migration/\n",
      "  warnings.warn('The `dict` method is deprecated; use `model_dump` instead.', category=PydanticDeprecatedSince20)\n",
      "INFO:httpx:HTTP Request: POST https://api.openai.com/v1/chat/completions \"HTTP/1.1 200 OK\"\n",
      "/Users/user/miniconda3/envs/graphmaker/lib/python3.11/site-packages/pydantic/main.py:1087: PydanticDeprecatedSince20: The `dict` method is deprecated; use `model_dump` instead. Deprecated in Pydantic V2.0 to be removed in V3.0. See Pydantic V2 Migration Guide at https://errors.pydantic.dev/2.8/migration/\n",
      "  warnings.warn('The `dict` method is deprecated; use `model_dump` instead.', category=PydanticDeprecatedSince20)\n"
     ]
    },
    {
     "name": "stdout",
     "output_type": "stream",
     "text": [
      "\n",
      "Adding: 'D has a twin brother.'\n"
     ]
    },
    {
     "name": "stderr",
     "output_type": "stream",
     "text": [
      "INFO:httpx:HTTP Request: POST https://api.openai.com/v1/chat/completions \"HTTP/1.1 200 OK\"\n",
      "/Users/user/miniconda3/envs/graphmaker/lib/python3.11/site-packages/pydantic/main.py:1087: PydanticDeprecatedSince20: The `dict` method is deprecated; use `model_dump` instead. Deprecated in Pydantic V2.0 to be removed in V3.0. See Pydantic V2 Migration Guide at https://errors.pydantic.dev/2.8/migration/\n",
      "  warnings.warn('The `dict` method is deprecated; use `model_dump` instead.', category=PydanticDeprecatedSince20)\n",
      "INFO:httpx:HTTP Request: POST https://api.openai.com/v1/chat/completions \"HTTP/1.1 200 OK\"\n",
      "/Users/user/miniconda3/envs/graphmaker/lib/python3.11/site-packages/pydantic/main.py:1087: PydanticDeprecatedSince20: The `dict` method is deprecated; use `model_dump` instead. Deprecated in Pydantic V2.0 to be removed in V3.0. See Pydantic V2 Migration Guide at https://errors.pydantic.dev/2.8/migration/\n",
      "  warnings.warn('The `dict` method is deprecated; use `model_dump` instead.', category=PydanticDeprecatedSince20)\n"
     ]
    },
    {
     "name": "stdout",
     "output_type": "stream",
     "text": [
      "Chunk Found (f5b48), adding to: Twins and Relationships\n"
     ]
    },
    {
     "name": "stderr",
     "output_type": "stream",
     "text": [
      "INFO:httpx:HTTP Request: POST https://api.openai.com/v1/chat/completions \"HTTP/1.1 200 OK\"\n",
      "/Users/user/miniconda3/envs/graphmaker/lib/python3.11/site-packages/pydantic/main.py:1087: PydanticDeprecatedSince20: The `dict` method is deprecated; use `model_dump` instead. Deprecated in Pydantic V2.0 to be removed in V3.0. See Pydantic V2 Migration Guide at https://errors.pydantic.dev/2.8/migration/\n",
      "  warnings.warn('The `dict` method is deprecated; use `model_dump` instead.', category=PydanticDeprecatedSince20)\n",
      "INFO:httpx:HTTP Request: POST https://api.openai.com/v1/chat/completions \"HTTP/1.1 200 OK\"\n",
      "/Users/user/miniconda3/envs/graphmaker/lib/python3.11/site-packages/pydantic/main.py:1087: PydanticDeprecatedSince20: The `dict` method is deprecated; use `model_dump` instead. Deprecated in Pydantic V2.0 to be removed in V3.0. See Pydantic V2 Migration Guide at https://errors.pydantic.dev/2.8/migration/\n",
      "  warnings.warn('The `dict` method is deprecated; use `model_dump` instead.', category=PydanticDeprecatedSince20)\n"
     ]
    },
    {
     "name": "stdout",
     "output_type": "stream",
     "text": [
      "\n",
      "Adding: 'The name of D's twin brother is inferred to be Devin from D's voicelines.'\n"
     ]
    },
    {
     "name": "stderr",
     "output_type": "stream",
     "text": [
      "INFO:httpx:HTTP Request: POST https://api.openai.com/v1/chat/completions \"HTTP/1.1 200 OK\"\n",
      "/Users/user/miniconda3/envs/graphmaker/lib/python3.11/site-packages/pydantic/main.py:1087: PydanticDeprecatedSince20: The `dict` method is deprecated; use `model_dump` instead. Deprecated in Pydantic V2.0 to be removed in V3.0. See Pydantic V2 Migration Guide at https://errors.pydantic.dev/2.8/migration/\n",
      "  warnings.warn('The `dict` method is deprecated; use `model_dump` instead.', category=PydanticDeprecatedSince20)\n",
      "INFO:httpx:HTTP Request: POST https://api.openai.com/v1/chat/completions \"HTTP/1.1 200 OK\"\n",
      "/Users/user/miniconda3/envs/graphmaker/lib/python3.11/site-packages/pydantic/main.py:1087: PydanticDeprecatedSince20: The `dict` method is deprecated; use `model_dump` instead. Deprecated in Pydantic V2.0 to be removed in V3.0. See Pydantic V2 Migration Guide at https://errors.pydantic.dev/2.8/migration/\n",
      "  warnings.warn('The `dict` method is deprecated; use `model_dump` instead.', category=PydanticDeprecatedSince20)\n"
     ]
    },
    {
     "name": "stdout",
     "output_type": "stream",
     "text": [
      "Chunk Found (f5b48), adding to: Twins and Consciousness\n"
     ]
    },
    {
     "name": "stderr",
     "output_type": "stream",
     "text": [
      "INFO:httpx:HTTP Request: POST https://api.openai.com/v1/chat/completions \"HTTP/1.1 200 OK\"\n",
      "/Users/user/miniconda3/envs/graphmaker/lib/python3.11/site-packages/pydantic/main.py:1087: PydanticDeprecatedSince20: The `dict` method is deprecated; use `model_dump` instead. Deprecated in Pydantic V2.0 to be removed in V3.0. See Pydantic V2 Migration Guide at https://errors.pydantic.dev/2.8/migration/\n",
      "  warnings.warn('The `dict` method is deprecated; use `model_dump` instead.', category=PydanticDeprecatedSince20)\n",
      "INFO:httpx:HTTP Request: POST https://api.openai.com/v1/chat/completions \"HTTP/1.1 200 OK\"\n",
      "/Users/user/miniconda3/envs/graphmaker/lib/python3.11/site-packages/pydantic/main.py:1087: PydanticDeprecatedSince20: The `dict` method is deprecated; use `model_dump` instead. Deprecated in Pydantic V2.0 to be removed in V3.0. See Pydantic V2 Migration Guide at https://errors.pydantic.dev/2.8/migration/\n",
      "  warnings.warn('The `dict` method is deprecated; use `model_dump` instead.', category=PydanticDeprecatedSince20)\n"
     ]
    },
    {
     "name": "stdout",
     "output_type": "stream",
     "text": [
      "\n",
      "Adding: 'Devin can be found slumbering in the Siofra Aqueduct while D is alive.'\n"
     ]
    },
    {
     "name": "stderr",
     "output_type": "stream",
     "text": [
      "INFO:httpx:HTTP Request: POST https://api.openai.com/v1/chat/completions \"HTTP/1.1 200 OK\"\n",
      "/Users/user/miniconda3/envs/graphmaker/lib/python3.11/site-packages/pydantic/main.py:1087: PydanticDeprecatedSince20: The `dict` method is deprecated; use `model_dump` instead. Deprecated in Pydantic V2.0 to be removed in V3.0. See Pydantic V2 Migration Guide at https://errors.pydantic.dev/2.8/migration/\n",
      "  warnings.warn('The `dict` method is deprecated; use `model_dump` instead.', category=PydanticDeprecatedSince20)\n",
      "INFO:httpx:HTTP Request: POST https://api.openai.com/v1/chat/completions \"HTTP/1.1 200 OK\"\n",
      "/Users/user/miniconda3/envs/graphmaker/lib/python3.11/site-packages/pydantic/main.py:1087: PydanticDeprecatedSince20: The `dict` method is deprecated; use `model_dump` instead. Deprecated in Pydantic V2.0 to be removed in V3.0. See Pydantic V2 Migration Guide at https://errors.pydantic.dev/2.8/migration/\n",
      "  warnings.warn('The `dict` method is deprecated; use `model_dump` instead.', category=PydanticDeprecatedSince20)\n"
     ]
    },
    {
     "name": "stdout",
     "output_type": "stream",
     "text": [
      "Chunk Found (36362), adding to: Elden Ring Lore & Mythos\n"
     ]
    },
    {
     "name": "stderr",
     "output_type": "stream",
     "text": [
      "INFO:httpx:HTTP Request: POST https://api.openai.com/v1/chat/completions \"HTTP/1.1 200 OK\"\n",
      "/Users/user/miniconda3/envs/graphmaker/lib/python3.11/site-packages/pydantic/main.py:1087: PydanticDeprecatedSince20: The `dict` method is deprecated; use `model_dump` instead. Deprecated in Pydantic V2.0 to be removed in V3.0. See Pydantic V2 Migration Guide at https://errors.pydantic.dev/2.8/migration/\n",
      "  warnings.warn('The `dict` method is deprecated; use `model_dump` instead.', category=PydanticDeprecatedSince20)\n",
      "INFO:httpx:HTTP Request: POST https://api.openai.com/v1/chat/completions \"HTTP/1.1 200 OK\"\n",
      "/Users/user/miniconda3/envs/graphmaker/lib/python3.11/site-packages/pydantic/main.py:1087: PydanticDeprecatedSince20: The `dict` method is deprecated; use `model_dump` instead. Deprecated in Pydantic V2.0 to be removed in V3.0. See Pydantic V2 Migration Guide at https://errors.pydantic.dev/2.8/migration/\n",
      "  warnings.warn('The `dict` method is deprecated; use `model_dump` instead.', category=PydanticDeprecatedSince20)\n"
     ]
    },
    {
     "name": "stdout",
     "output_type": "stream",
     "text": [
      "\n",
      "Adding: 'Devin can be found grieving in the Siofra Aqueduct when D is dead.'\n"
     ]
    },
    {
     "name": "stderr",
     "output_type": "stream",
     "text": [
      "INFO:httpx:HTTP Request: POST https://api.openai.com/v1/chat/completions \"HTTP/1.1 200 OK\"\n",
      "/Users/user/miniconda3/envs/graphmaker/lib/python3.11/site-packages/pydantic/main.py:1087: PydanticDeprecatedSince20: The `dict` method is deprecated; use `model_dump` instead. Deprecated in Pydantic V2.0 to be removed in V3.0. See Pydantic V2 Migration Guide at https://errors.pydantic.dev/2.8/migration/\n",
      "  warnings.warn('The `dict` method is deprecated; use `model_dump` instead.', category=PydanticDeprecatedSince20)\n",
      "INFO:httpx:HTTP Request: POST https://api.openai.com/v1/chat/completions \"HTTP/1.1 200 OK\"\n",
      "/Users/user/miniconda3/envs/graphmaker/lib/python3.11/site-packages/pydantic/main.py:1087: PydanticDeprecatedSince20: The `dict` method is deprecated; use `model_dump` instead. Deprecated in Pydantic V2.0 to be removed in V3.0. See Pydantic V2 Migration Guide at https://errors.pydantic.dev/2.8/migration/\n",
      "  warnings.warn('The `dict` method is deprecated; use `model_dump` instead.', category=PydanticDeprecatedSince20)\n"
     ]
    },
    {
     "name": "stdout",
     "output_type": "stream",
     "text": [
      "Chunk Found (36362), adding to: Elden Ring Lore, History & Characters\n"
     ]
    },
    {
     "name": "stderr",
     "output_type": "stream",
     "text": [
      "INFO:httpx:HTTP Request: POST https://api.openai.com/v1/chat/completions \"HTTP/1.1 200 OK\"\n",
      "/Users/user/miniconda3/envs/graphmaker/lib/python3.11/site-packages/pydantic/main.py:1087: PydanticDeprecatedSince20: The `dict` method is deprecated; use `model_dump` instead. Deprecated in Pydantic V2.0 to be removed in V3.0. See Pydantic V2 Migration Guide at https://errors.pydantic.dev/2.8/migration/\n",
      "  warnings.warn('The `dict` method is deprecated; use `model_dump` instead.', category=PydanticDeprecatedSince20)\n",
      "INFO:httpx:HTTP Request: POST https://api.openai.com/v1/chat/completions \"HTTP/1.1 200 OK\"\n",
      "/Users/user/miniconda3/envs/graphmaker/lib/python3.11/site-packages/pydantic/main.py:1087: PydanticDeprecatedSince20: The `dict` method is deprecated; use `model_dump` instead. Deprecated in Pydantic V2.0 to be removed in V3.0. See Pydantic V2 Migration Guide at https://errors.pydantic.dev/2.8/migration/\n",
      "  warnings.warn('The `dict` method is deprecated; use `model_dump` instead.', category=PydanticDeprecatedSince20)\n"
     ]
    },
    {
     "name": "stdout",
     "output_type": "stream",
     "text": [
      "\n",
      "Adding: 'Devin is unable to talk and interact with D.'\n"
     ]
    },
    {
     "name": "stderr",
     "output_type": "stream",
     "text": [
      "INFO:httpx:HTTP Request: POST https://api.openai.com/v1/chat/completions \"HTTP/1.1 200 OK\"\n",
      "/Users/user/miniconda3/envs/graphmaker/lib/python3.11/site-packages/pydantic/main.py:1087: PydanticDeprecatedSince20: The `dict` method is deprecated; use `model_dump` instead. Deprecated in Pydantic V2.0 to be removed in V3.0. See Pydantic V2 Migration Guide at https://errors.pydantic.dev/2.8/migration/\n",
      "  warnings.warn('The `dict` method is deprecated; use `model_dump` instead.', category=PydanticDeprecatedSince20)\n",
      "INFO:httpx:HTTP Request: POST https://api.openai.com/v1/chat/completions \"HTTP/1.1 200 OK\"\n",
      "/Users/user/miniconda3/envs/graphmaker/lib/python3.11/site-packages/pydantic/main.py:1087: PydanticDeprecatedSince20: The `dict` method is deprecated; use `model_dump` instead. Deprecated in Pydantic V2.0 to be removed in V3.0. See Pydantic V2 Migration Guide at https://errors.pydantic.dev/2.8/migration/\n",
      "  warnings.warn('The `dict` method is deprecated; use `model_dump` instead.', category=PydanticDeprecatedSince20)\n"
     ]
    },
    {
     "name": "stdout",
     "output_type": "stream",
     "text": [
      "No chunks found\n"
     ]
    },
    {
     "name": "stderr",
     "output_type": "stream",
     "text": [
      "INFO:httpx:HTTP Request: POST https://api.openai.com/v1/chat/completions \"HTTP/1.1 200 OK\"\n",
      "/Users/user/miniconda3/envs/graphmaker/lib/python3.11/site-packages/pydantic/main.py:1087: PydanticDeprecatedSince20: The `dict` method is deprecated; use `model_dump` instead. Deprecated in Pydantic V2.0 to be removed in V3.0. See Pydantic V2 Migration Guide at https://errors.pydantic.dev/2.8/migration/\n",
      "  warnings.warn('The `dict` method is deprecated; use `model_dump` instead.', category=PydanticDeprecatedSince20)\n",
      "INFO:httpx:HTTP Request: POST https://api.openai.com/v1/chat/completions \"HTTP/1.1 200 OK\"\n",
      "/Users/user/miniconda3/envs/graphmaker/lib/python3.11/site-packages/pydantic/main.py:1087: PydanticDeprecatedSince20: The `dict` method is deprecated; use `model_dump` instead. Deprecated in Pydantic V2.0 to be removed in V3.0. See Pydantic V2 Migration Guide at https://errors.pydantic.dev/2.8/migration/\n",
      "  warnings.warn('The `dict` method is deprecated; use `model_dump` instead.', category=PydanticDeprecatedSince20)\n"
     ]
    },
    {
     "name": "stdout",
     "output_type": "stream",
     "text": [
      "Created new chunk (c6906): Communication Challenges\n",
      "\n",
      "Adding: 'Despite not being able to talk and interact, D and Devin seem to be close.'\n"
     ]
    },
    {
     "name": "stderr",
     "output_type": "stream",
     "text": [
      "INFO:httpx:HTTP Request: POST https://api.openai.com/v1/chat/completions \"HTTP/1.1 200 OK\"\n",
      "/Users/user/miniconda3/envs/graphmaker/lib/python3.11/site-packages/pydantic/main.py:1087: PydanticDeprecatedSince20: The `dict` method is deprecated; use `model_dump` instead. Deprecated in Pydantic V2.0 to be removed in V3.0. See Pydantic V2 Migration Guide at https://errors.pydantic.dev/2.8/migration/\n",
      "  warnings.warn('The `dict` method is deprecated; use `model_dump` instead.', category=PydanticDeprecatedSince20)\n",
      "INFO:httpx:HTTP Request: POST https://api.openai.com/v1/chat/completions \"HTTP/1.1 200 OK\"\n",
      "/Users/user/miniconda3/envs/graphmaker/lib/python3.11/site-packages/pydantic/main.py:1087: PydanticDeprecatedSince20: The `dict` method is deprecated; use `model_dump` instead. Deprecated in Pydantic V2.0 to be removed in V3.0. See Pydantic V2 Migration Guide at https://errors.pydantic.dev/2.8/migration/\n",
      "  warnings.warn('The `dict` method is deprecated; use `model_dump` instead.', category=PydanticDeprecatedSince20)\n"
     ]
    },
    {
     "name": "stdout",
     "output_type": "stream",
     "text": [
      "Chunk Found (dd207), adding to: Individuality & Perception\n"
     ]
    },
    {
     "name": "stderr",
     "output_type": "stream",
     "text": [
      "INFO:httpx:HTTP Request: POST https://api.openai.com/v1/chat/completions \"HTTP/1.1 200 OK\"\n",
      "/Users/user/miniconda3/envs/graphmaker/lib/python3.11/site-packages/pydantic/main.py:1087: PydanticDeprecatedSince20: The `dict` method is deprecated; use `model_dump` instead. Deprecated in Pydantic V2.0 to be removed in V3.0. See Pydantic V2 Migration Guide at https://errors.pydantic.dev/2.8/migration/\n",
      "  warnings.warn('The `dict` method is deprecated; use `model_dump` instead.', category=PydanticDeprecatedSince20)\n",
      "INFO:httpx:HTTP Request: POST https://api.openai.com/v1/chat/completions \"HTTP/1.1 200 OK\"\n",
      "/Users/user/miniconda3/envs/graphmaker/lib/python3.11/site-packages/pydantic/main.py:1087: PydanticDeprecatedSince20: The `dict` method is deprecated; use `model_dump` instead. Deprecated in Pydantic V2.0 to be removed in V3.0. See Pydantic V2 Migration Guide at https://errors.pydantic.dev/2.8/migration/\n",
      "  warnings.warn('The `dict` method is deprecated; use `model_dump` instead.', category=PydanticDeprecatedSince20)\n"
     ]
    },
    {
     "name": "stdout",
     "output_type": "stream",
     "text": [
      "\n",
      "Adding: 'Devin swears revenge against D's killer.'\n"
     ]
    },
    {
     "name": "stderr",
     "output_type": "stream",
     "text": [
      "INFO:httpx:HTTP Request: POST https://api.openai.com/v1/chat/completions \"HTTP/1.1 200 OK\"\n",
      "/Users/user/miniconda3/envs/graphmaker/lib/python3.11/site-packages/pydantic/main.py:1087: PydanticDeprecatedSince20: The `dict` method is deprecated; use `model_dump` instead. Deprecated in Pydantic V2.0 to be removed in V3.0. See Pydantic V2 Migration Guide at https://errors.pydantic.dev/2.8/migration/\n",
      "  warnings.warn('The `dict` method is deprecated; use `model_dump` instead.', category=PydanticDeprecatedSince20)\n",
      "INFO:httpx:HTTP Request: POST https://api.openai.com/v1/chat/completions \"HTTP/1.1 200 OK\"\n",
      "/Users/user/miniconda3/envs/graphmaker/lib/python3.11/site-packages/pydantic/main.py:1087: PydanticDeprecatedSince20: The `dict` method is deprecated; use `model_dump` instead. Deprecated in Pydantic V2.0 to be removed in V3.0. See Pydantic V2 Migration Guide at https://errors.pydantic.dev/2.8/migration/\n",
      "  warnings.warn('The `dict` method is deprecated; use `model_dump` instead.', category=PydanticDeprecatedSince20)\n"
     ]
    },
    {
     "name": "stdout",
     "output_type": "stream",
     "text": [
      "Chunk Found (dd207), adding to: Identity & Relationships\n"
     ]
    },
    {
     "name": "stderr",
     "output_type": "stream",
     "text": [
      "INFO:httpx:HTTP Request: POST https://api.openai.com/v1/chat/completions \"HTTP/1.1 200 OK\"\n",
      "/Users/user/miniconda3/envs/graphmaker/lib/python3.11/site-packages/pydantic/main.py:1087: PydanticDeprecatedSince20: The `dict` method is deprecated; use `model_dump` instead. Deprecated in Pydantic V2.0 to be removed in V3.0. See Pydantic V2 Migration Guide at https://errors.pydantic.dev/2.8/migration/\n",
      "  warnings.warn('The `dict` method is deprecated; use `model_dump` instead.', category=PydanticDeprecatedSince20)\n",
      "INFO:httpx:HTTP Request: POST https://api.openai.com/v1/chat/completions \"HTTP/1.1 200 OK\"\n",
      "/Users/user/miniconda3/envs/graphmaker/lib/python3.11/site-packages/pydantic/main.py:1087: PydanticDeprecatedSince20: The `dict` method is deprecated; use `model_dump` instead. Deprecated in Pydantic V2.0 to be removed in V3.0. See Pydantic V2 Migration Guide at https://errors.pydantic.dev/2.8/migration/\n",
      "  warnings.warn('The `dict` method is deprecated; use `model_dump` instead.', category=PydanticDeprecatedSince20)\n"
     ]
    },
    {
     "name": "stdout",
     "output_type": "stream",
     "text": [
      "\n",
      "Adding: 'D's killer may be Fia or the Tarnished.'\n"
     ]
    },
    {
     "name": "stderr",
     "output_type": "stream",
     "text": [
      "INFO:httpx:HTTP Request: POST https://api.openai.com/v1/chat/completions \"HTTP/1.1 200 OK\"\n",
      "/Users/user/miniconda3/envs/graphmaker/lib/python3.11/site-packages/pydantic/main.py:1087: PydanticDeprecatedSince20: The `dict` method is deprecated; use `model_dump` instead. Deprecated in Pydantic V2.0 to be removed in V3.0. See Pydantic V2 Migration Guide at https://errors.pydantic.dev/2.8/migration/\n",
      "  warnings.warn('The `dict` method is deprecated; use `model_dump` instead.', category=PydanticDeprecatedSince20)\n",
      "INFO:httpx:HTTP Request: POST https://api.openai.com/v1/chat/completions \"HTTP/1.1 200 OK\"\n",
      "/Users/user/miniconda3/envs/graphmaker/lib/python3.11/site-packages/pydantic/main.py:1087: PydanticDeprecatedSince20: The `dict` method is deprecated; use `model_dump` instead. Deprecated in Pydantic V2.0 to be removed in V3.0. See Pydantic V2 Migration Guide at https://errors.pydantic.dev/2.8/migration/\n",
      "  warnings.warn('The `dict` method is deprecated; use `model_dump` instead.', category=PydanticDeprecatedSince20)\n"
     ]
    },
    {
     "name": "stdout",
     "output_type": "stream",
     "text": [
      "Chunk Found (dd207), adding to: Essence & Connections\n"
     ]
    },
    {
     "name": "stderr",
     "output_type": "stream",
     "text": [
      "INFO:httpx:HTTP Request: POST https://api.openai.com/v1/chat/completions \"HTTP/1.1 200 OK\"\n",
      "/Users/user/miniconda3/envs/graphmaker/lib/python3.11/site-packages/pydantic/main.py:1087: PydanticDeprecatedSince20: The `dict` method is deprecated; use `model_dump` instead. Deprecated in Pydantic V2.0 to be removed in V3.0. See Pydantic V2 Migration Guide at https://errors.pydantic.dev/2.8/migration/\n",
      "  warnings.warn('The `dict` method is deprecated; use `model_dump` instead.', category=PydanticDeprecatedSince20)\n",
      "INFO:httpx:HTTP Request: POST https://api.openai.com/v1/chat/completions \"HTTP/1.1 200 OK\"\n",
      "/Users/user/miniconda3/envs/graphmaker/lib/python3.11/site-packages/pydantic/main.py:1087: PydanticDeprecatedSince20: The `dict` method is deprecated; use `model_dump` instead. Deprecated in Pydantic V2.0 to be removed in V3.0. See Pydantic V2 Migration Guide at https://errors.pydantic.dev/2.8/migration/\n",
      "  warnings.warn('The `dict` method is deprecated; use `model_dump` instead.', category=PydanticDeprecatedSince20)\n"
     ]
    },
    {
     "name": "stdout",
     "output_type": "stream",
     "text": [
      "\n",
      "Adding: 'Devin swears revenge when given D's armor set.'\n"
     ]
    },
    {
     "name": "stderr",
     "output_type": "stream",
     "text": [
      "INFO:httpx:HTTP Request: POST https://api.openai.com/v1/chat/completions \"HTTP/1.1 200 OK\"\n",
      "/Users/user/miniconda3/envs/graphmaker/lib/python3.11/site-packages/pydantic/main.py:1087: PydanticDeprecatedSince20: The `dict` method is deprecated; use `model_dump` instead. Deprecated in Pydantic V2.0 to be removed in V3.0. See Pydantic V2 Migration Guide at https://errors.pydantic.dev/2.8/migration/\n",
      "  warnings.warn('The `dict` method is deprecated; use `model_dump` instead.', category=PydanticDeprecatedSince20)\n",
      "INFO:httpx:HTTP Request: POST https://api.openai.com/v1/chat/completions \"HTTP/1.1 200 OK\"\n",
      "/Users/user/miniconda3/envs/graphmaker/lib/python3.11/site-packages/pydantic/main.py:1087: PydanticDeprecatedSince20: The `dict` method is deprecated; use `model_dump` instead. Deprecated in Pydantic V2.0 to be removed in V3.0. See Pydantic V2 Migration Guide at https://errors.pydantic.dev/2.8/migration/\n",
      "  warnings.warn('The `dict` method is deprecated; use `model_dump` instead.', category=PydanticDeprecatedSince20)\n"
     ]
    },
    {
     "name": "stdout",
     "output_type": "stream",
     "text": [
      "Chunk Found (dd207), adding to: Identity & Relationships\n"
     ]
    },
    {
     "name": "stderr",
     "output_type": "stream",
     "text": [
      "INFO:httpx:HTTP Request: POST https://api.openai.com/v1/chat/completions \"HTTP/1.1 200 OK\"\n",
      "/Users/user/miniconda3/envs/graphmaker/lib/python3.11/site-packages/pydantic/main.py:1087: PydanticDeprecatedSince20: The `dict` method is deprecated; use `model_dump` instead. Deprecated in Pydantic V2.0 to be removed in V3.0. See Pydantic V2 Migration Guide at https://errors.pydantic.dev/2.8/migration/\n",
      "  warnings.warn('The `dict` method is deprecated; use `model_dump` instead.', category=PydanticDeprecatedSince20)\n",
      "INFO:httpx:HTTP Request: POST https://api.openai.com/v1/chat/completions \"HTTP/1.1 200 OK\"\n",
      "/Users/user/miniconda3/envs/graphmaker/lib/python3.11/site-packages/pydantic/main.py:1087: PydanticDeprecatedSince20: The `dict` method is deprecated; use `model_dump` instead. Deprecated in Pydantic V2.0 to be removed in V3.0. See Pydantic V2 Migration Guide at https://errors.pydantic.dev/2.8/migration/\n",
      "  warnings.warn('The `dict` method is deprecated; use `model_dump` instead.', category=PydanticDeprecatedSince20)\n"
     ]
    },
    {
     "name": "stdout",
     "output_type": "stream",
     "text": [
      "\n",
      "Adding: 'Gurranq is a large beastman who hungers for Deathroot.'\n"
     ]
    },
    {
     "name": "stderr",
     "output_type": "stream",
     "text": [
      "INFO:httpx:HTTP Request: POST https://api.openai.com/v1/chat/completions \"HTTP/1.1 200 OK\"\n",
      "/Users/user/miniconda3/envs/graphmaker/lib/python3.11/site-packages/pydantic/main.py:1087: PydanticDeprecatedSince20: The `dict` method is deprecated; use `model_dump` instead. Deprecated in Pydantic V2.0 to be removed in V3.0. See Pydantic V2 Migration Guide at https://errors.pydantic.dev/2.8/migration/\n",
      "  warnings.warn('The `dict` method is deprecated; use `model_dump` instead.', category=PydanticDeprecatedSince20)\n",
      "INFO:httpx:HTTP Request: POST https://api.openai.com/v1/chat/completions \"HTTP/1.1 200 OK\"\n",
      "/Users/user/miniconda3/envs/graphmaker/lib/python3.11/site-packages/pydantic/main.py:1087: PydanticDeprecatedSince20: The `dict` method is deprecated; use `model_dump` instead. Deprecated in Pydantic V2.0 to be removed in V3.0. See Pydantic V2 Migration Guide at https://errors.pydantic.dev/2.8/migration/\n",
      "  warnings.warn('The `dict` method is deprecated; use `model_dump` instead.', category=PydanticDeprecatedSince20)\n"
     ]
    },
    {
     "name": "stdout",
     "output_type": "stream",
     "text": [
      "Chunk Found (36362), adding to: Elden Ring Lore & Mythos\n"
     ]
    },
    {
     "name": "stderr",
     "output_type": "stream",
     "text": [
      "INFO:httpx:HTTP Request: POST https://api.openai.com/v1/chat/completions \"HTTP/1.1 200 OK\"\n",
      "/Users/user/miniconda3/envs/graphmaker/lib/python3.11/site-packages/pydantic/main.py:1087: PydanticDeprecatedSince20: The `dict` method is deprecated; use `model_dump` instead. Deprecated in Pydantic V2.0 to be removed in V3.0. See Pydantic V2 Migration Guide at https://errors.pydantic.dev/2.8/migration/\n",
      "  warnings.warn('The `dict` method is deprecated; use `model_dump` instead.', category=PydanticDeprecatedSince20)\n",
      "INFO:httpx:HTTP Request: POST https://api.openai.com/v1/chat/completions \"HTTP/1.1 200 OK\"\n",
      "/Users/user/miniconda3/envs/graphmaker/lib/python3.11/site-packages/pydantic/main.py:1087: PydanticDeprecatedSince20: The `dict` method is deprecated; use `model_dump` instead. Deprecated in Pydantic V2.0 to be removed in V3.0. See Pydantic V2 Migration Guide at https://errors.pydantic.dev/2.8/migration/\n",
      "  warnings.warn('The `dict` method is deprecated; use `model_dump` instead.', category=PydanticDeprecatedSince20)\n"
     ]
    },
    {
     "name": "stdout",
     "output_type": "stream",
     "text": [
      "\n",
      "Adding: 'Roderika is a Tarnished who was driven away from her home across the sea.'\n"
     ]
    },
    {
     "name": "stderr",
     "output_type": "stream",
     "text": [
      "INFO:httpx:HTTP Request: POST https://api.openai.com/v1/chat/completions \"HTTP/1.1 200 OK\"\n",
      "/Users/user/miniconda3/envs/graphmaker/lib/python3.11/site-packages/pydantic/main.py:1087: PydanticDeprecatedSince20: The `dict` method is deprecated; use `model_dump` instead. Deprecated in Pydantic V2.0 to be removed in V3.0. See Pydantic V2 Migration Guide at https://errors.pydantic.dev/2.8/migration/\n",
      "  warnings.warn('The `dict` method is deprecated; use `model_dump` instead.', category=PydanticDeprecatedSince20)\n",
      "INFO:httpx:HTTP Request: POST https://api.openai.com/v1/chat/completions \"HTTP/1.1 200 OK\"\n",
      "/Users/user/miniconda3/envs/graphmaker/lib/python3.11/site-packages/pydantic/main.py:1087: PydanticDeprecatedSince20: The `dict` method is deprecated; use `model_dump` instead. Deprecated in Pydantic V2.0 to be removed in V3.0. See Pydantic V2 Migration Guide at https://errors.pydantic.dev/2.8/migration/\n",
      "  warnings.warn('The `dict` method is deprecated; use `model_dump` instead.', category=PydanticDeprecatedSince20)\n"
     ]
    },
    {
     "name": "stdout",
     "output_type": "stream",
     "text": [
      "Chunk Found (36362), adding to: Elden Ring Lore, History & Characters\n"
     ]
    },
    {
     "name": "stderr",
     "output_type": "stream",
     "text": [
      "INFO:httpx:HTTP Request: POST https://api.openai.com/v1/chat/completions \"HTTP/1.1 200 OK\"\n",
      "/Users/user/miniconda3/envs/graphmaker/lib/python3.11/site-packages/pydantic/main.py:1087: PydanticDeprecatedSince20: The `dict` method is deprecated; use `model_dump` instead. Deprecated in Pydantic V2.0 to be removed in V3.0. See Pydantic V2 Migration Guide at https://errors.pydantic.dev/2.8/migration/\n",
      "  warnings.warn('The `dict` method is deprecated; use `model_dump` instead.', category=PydanticDeprecatedSince20)\n",
      "INFO:httpx:HTTP Request: POST https://api.openai.com/v1/chat/completions \"HTTP/1.1 200 OK\"\n",
      "/Users/user/miniconda3/envs/graphmaker/lib/python3.11/site-packages/pydantic/main.py:1087: PydanticDeprecatedSince20: The `dict` method is deprecated; use `model_dump` instead. Deprecated in Pydantic V2.0 to be removed in V3.0. See Pydantic V2 Migration Guide at https://errors.pydantic.dev/2.8/migration/\n",
      "  warnings.warn('The `dict` method is deprecated; use `model_dump` instead.', category=PydanticDeprecatedSince20)\n"
     ]
    },
    {
     "name": "stdout",
     "output_type": "stream",
     "text": [
      "\n",
      "Adding: 'The cloak that Roderika wears implies that Roderika used to be a member of royalty.'\n"
     ]
    },
    {
     "name": "stderr",
     "output_type": "stream",
     "text": [
      "INFO:httpx:HTTP Request: POST https://api.openai.com/v1/chat/completions \"HTTP/1.1 200 OK\"\n",
      "/Users/user/miniconda3/envs/graphmaker/lib/python3.11/site-packages/pydantic/main.py:1087: PydanticDeprecatedSince20: The `dict` method is deprecated; use `model_dump` instead. Deprecated in Pydantic V2.0 to be removed in V3.0. See Pydantic V2 Migration Guide at https://errors.pydantic.dev/2.8/migration/\n",
      "  warnings.warn('The `dict` method is deprecated; use `model_dump` instead.', category=PydanticDeprecatedSince20)\n",
      "INFO:httpx:HTTP Request: POST https://api.openai.com/v1/chat/completions \"HTTP/1.1 200 OK\"\n",
      "/Users/user/miniconda3/envs/graphmaker/lib/python3.11/site-packages/pydantic/main.py:1087: PydanticDeprecatedSince20: The `dict` method is deprecated; use `model_dump` instead. Deprecated in Pydantic V2.0 to be removed in V3.0. See Pydantic V2 Migration Guide at https://errors.pydantic.dev/2.8/migration/\n",
      "  warnings.warn('The `dict` method is deprecated; use `model_dump` instead.', category=PydanticDeprecatedSince20)\n"
     ]
    },
    {
     "name": "stdout",
     "output_type": "stream",
     "text": [
      "Chunk Found (36362), adding to: Elden Ring Lore & Mythos\n"
     ]
    },
    {
     "name": "stderr",
     "output_type": "stream",
     "text": [
      "INFO:httpx:HTTP Request: POST https://api.openai.com/v1/chat/completions \"HTTP/1.1 200 OK\"\n",
      "/Users/user/miniconda3/envs/graphmaker/lib/python3.11/site-packages/pydantic/main.py:1087: PydanticDeprecatedSince20: The `dict` method is deprecated; use `model_dump` instead. Deprecated in Pydantic V2.0 to be removed in V3.0. See Pydantic V2 Migration Guide at https://errors.pydantic.dev/2.8/migration/\n",
      "  warnings.warn('The `dict` method is deprecated; use `model_dump` instead.', category=PydanticDeprecatedSince20)\n",
      "INFO:httpx:HTTP Request: POST https://api.openai.com/v1/chat/completions \"HTTP/1.1 200 OK\"\n",
      "/Users/user/miniconda3/envs/graphmaker/lib/python3.11/site-packages/pydantic/main.py:1087: PydanticDeprecatedSince20: The `dict` method is deprecated; use `model_dump` instead. Deprecated in Pydantic V2.0 to be removed in V3.0. See Pydantic V2 Migration Guide at https://errors.pydantic.dev/2.8/migration/\n",
      "  warnings.warn('The `dict` method is deprecated; use `model_dump` instead.', category=PydanticDeprecatedSince20)\n"
     ]
    },
    {
     "name": "stdout",
     "output_type": "stream",
     "text": [
      "\n",
      "Adding: 'At some point upon arriving at the Lands Between, Roderika happened upon White Mask Varre.'\n"
     ]
    },
    {
     "name": "stderr",
     "output_type": "stream",
     "text": [
      "INFO:httpx:HTTP Request: POST https://api.openai.com/v1/chat/completions \"HTTP/1.1 200 OK\"\n",
      "/Users/user/miniconda3/envs/graphmaker/lib/python3.11/site-packages/pydantic/main.py:1087: PydanticDeprecatedSince20: The `dict` method is deprecated; use `model_dump` instead. Deprecated in Pydantic V2.0 to be removed in V3.0. See Pydantic V2 Migration Guide at https://errors.pydantic.dev/2.8/migration/\n",
      "  warnings.warn('The `dict` method is deprecated; use `model_dump` instead.', category=PydanticDeprecatedSince20)\n",
      "INFO:httpx:HTTP Request: POST https://api.openai.com/v1/chat/completions \"HTTP/1.1 200 OK\"\n",
      "/Users/user/miniconda3/envs/graphmaker/lib/python3.11/site-packages/pydantic/main.py:1087: PydanticDeprecatedSince20: The `dict` method is deprecated; use `model_dump` instead. Deprecated in Pydantic V2.0 to be removed in V3.0. See Pydantic V2 Migration Guide at https://errors.pydantic.dev/2.8/migration/\n",
      "  warnings.warn('The `dict` method is deprecated; use `model_dump` instead.', category=PydanticDeprecatedSince20)\n"
     ]
    },
    {
     "name": "stdout",
     "output_type": "stream",
     "text": [
      "Chunk Found (36362), adding to: Elden Ring Lore & History\n"
     ]
    },
    {
     "name": "stderr",
     "output_type": "stream",
     "text": [
      "INFO:httpx:HTTP Request: POST https://api.openai.com/v1/chat/completions \"HTTP/1.1 200 OK\"\n",
      "/Users/user/miniconda3/envs/graphmaker/lib/python3.11/site-packages/pydantic/main.py:1087: PydanticDeprecatedSince20: The `dict` method is deprecated; use `model_dump` instead. Deprecated in Pydantic V2.0 to be removed in V3.0. See Pydantic V2 Migration Guide at https://errors.pydantic.dev/2.8/migration/\n",
      "  warnings.warn('The `dict` method is deprecated; use `model_dump` instead.', category=PydanticDeprecatedSince20)\n",
      "INFO:httpx:HTTP Request: POST https://api.openai.com/v1/chat/completions \"HTTP/1.1 200 OK\"\n",
      "/Users/user/miniconda3/envs/graphmaker/lib/python3.11/site-packages/pydantic/main.py:1087: PydanticDeprecatedSince20: The `dict` method is deprecated; use `model_dump` instead. Deprecated in Pydantic V2.0 to be removed in V3.0. See Pydantic V2 Migration Guide at https://errors.pydantic.dev/2.8/migration/\n",
      "  warnings.warn('The `dict` method is deprecated; use `model_dump` instead.', category=PydanticDeprecatedSince20)\n"
     ]
    },
    {
     "name": "stdout",
     "output_type": "stream",
     "text": [
      "\n",
      "Adding: 'White Mask Varre gave Roderika the same advice as he gives the Tarnished at the beginning of their journey.'\n"
     ]
    },
    {
     "name": "stderr",
     "output_type": "stream",
     "text": [
      "INFO:httpx:HTTP Request: POST https://api.openai.com/v1/chat/completions \"HTTP/1.1 200 OK\"\n",
      "/Users/user/miniconda3/envs/graphmaker/lib/python3.11/site-packages/pydantic/main.py:1087: PydanticDeprecatedSince20: The `dict` method is deprecated; use `model_dump` instead. Deprecated in Pydantic V2.0 to be removed in V3.0. See Pydantic V2 Migration Guide at https://errors.pydantic.dev/2.8/migration/\n",
      "  warnings.warn('The `dict` method is deprecated; use `model_dump` instead.', category=PydanticDeprecatedSince20)\n",
      "INFO:httpx:HTTP Request: POST https://api.openai.com/v1/chat/completions \"HTTP/1.1 200 OK\"\n",
      "/Users/user/miniconda3/envs/graphmaker/lib/python3.11/site-packages/pydantic/main.py:1087: PydanticDeprecatedSince20: The `dict` method is deprecated; use `model_dump` instead. Deprecated in Pydantic V2.0 to be removed in V3.0. See Pydantic V2 Migration Guide at https://errors.pydantic.dev/2.8/migration/\n",
      "  warnings.warn('The `dict` method is deprecated; use `model_dump` instead.', category=PydanticDeprecatedSince20)\n"
     ]
    },
    {
     "name": "stdout",
     "output_type": "stream",
     "text": [
      "Chunk Found (36362), adding to: Elden Ring Lore & Mythos\n"
     ]
    },
    {
     "name": "stderr",
     "output_type": "stream",
     "text": [
      "INFO:httpx:HTTP Request: POST https://api.openai.com/v1/chat/completions \"HTTP/1.1 200 OK\"\n",
      "/Users/user/miniconda3/envs/graphmaker/lib/python3.11/site-packages/pydantic/main.py:1087: PydanticDeprecatedSince20: The `dict` method is deprecated; use `model_dump` instead. Deprecated in Pydantic V2.0 to be removed in V3.0. See Pydantic V2 Migration Guide at https://errors.pydantic.dev/2.8/migration/\n",
      "  warnings.warn('The `dict` method is deprecated; use `model_dump` instead.', category=PydanticDeprecatedSince20)\n",
      "INFO:httpx:HTTP Request: POST https://api.openai.com/v1/chat/completions \"HTTP/1.1 200 OK\"\n",
      "/Users/user/miniconda3/envs/graphmaker/lib/python3.11/site-packages/pydantic/main.py:1087: PydanticDeprecatedSince20: The `dict` method is deprecated; use `model_dump` instead. Deprecated in Pydantic V2.0 to be removed in V3.0. See Pydantic V2 Migration Guide at https://errors.pydantic.dev/2.8/migration/\n",
      "  warnings.warn('The `dict` method is deprecated; use `model_dump` instead.', category=PydanticDeprecatedSince20)\n"
     ]
    },
    {
     "name": "stdout",
     "output_type": "stream",
     "text": [
      "\n",
      "Adding: 'White Mask Varre advised Roderika to seek Godrick and his Great Rune at Stormveil Castle.'\n"
     ]
    },
    {
     "name": "stderr",
     "output_type": "stream",
     "text": [
      "INFO:httpx:HTTP Request: POST https://api.openai.com/v1/chat/completions \"HTTP/1.1 200 OK\"\n",
      "/Users/user/miniconda3/envs/graphmaker/lib/python3.11/site-packages/pydantic/main.py:1087: PydanticDeprecatedSince20: The `dict` method is deprecated; use `model_dump` instead. Deprecated in Pydantic V2.0 to be removed in V3.0. See Pydantic V2 Migration Guide at https://errors.pydantic.dev/2.8/migration/\n",
      "  warnings.warn('The `dict` method is deprecated; use `model_dump` instead.', category=PydanticDeprecatedSince20)\n",
      "INFO:httpx:HTTP Request: POST https://api.openai.com/v1/chat/completions \"HTTP/1.1 200 OK\"\n",
      "/Users/user/miniconda3/envs/graphmaker/lib/python3.11/site-packages/pydantic/main.py:1087: PydanticDeprecatedSince20: The `dict` method is deprecated; use `model_dump` instead. Deprecated in Pydantic V2.0 to be removed in V3.0. See Pydantic V2 Migration Guide at https://errors.pydantic.dev/2.8/migration/\n",
      "  warnings.warn('The `dict` method is deprecated; use `model_dump` instead.', category=PydanticDeprecatedSince20)\n"
     ]
    },
    {
     "name": "stdout",
     "output_type": "stream",
     "text": [
      "Chunk Found (36362), adding to: Elden Ring Lore, History & Characters\n"
     ]
    },
    {
     "name": "stderr",
     "output_type": "stream",
     "text": [
      "INFO:httpx:HTTP Request: POST https://api.openai.com/v1/chat/completions \"HTTP/1.1 200 OK\"\n",
      "/Users/user/miniconda3/envs/graphmaker/lib/python3.11/site-packages/pydantic/main.py:1087: PydanticDeprecatedSince20: The `dict` method is deprecated; use `model_dump` instead. Deprecated in Pydantic V2.0 to be removed in V3.0. See Pydantic V2 Migration Guide at https://errors.pydantic.dev/2.8/migration/\n",
      "  warnings.warn('The `dict` method is deprecated; use `model_dump` instead.', category=PydanticDeprecatedSince20)\n",
      "INFO:httpx:HTTP Request: POST https://api.openai.com/v1/chat/completions \"HTTP/1.1 200 OK\"\n",
      "/Users/user/miniconda3/envs/graphmaker/lib/python3.11/site-packages/pydantic/main.py:1087: PydanticDeprecatedSince20: The `dict` method is deprecated; use `model_dump` instead. Deprecated in Pydantic V2.0 to be removed in V3.0. See Pydantic V2 Migration Guide at https://errors.pydantic.dev/2.8/migration/\n",
      "  warnings.warn('The `dict` method is deprecated; use `model_dump` instead.', category=PydanticDeprecatedSince20)\n"
     ]
    },
    {
     "name": "stdout",
     "output_type": "stream",
     "text": [
      "\n",
      "Adding: 'Upon arriving at Stormhill, the men escorting Roderika were taken and sacrificed for grafting.'\n"
     ]
    },
    {
     "name": "stderr",
     "output_type": "stream",
     "text": [
      "INFO:httpx:HTTP Request: POST https://api.openai.com/v1/chat/completions \"HTTP/1.1 200 OK\"\n",
      "/Users/user/miniconda3/envs/graphmaker/lib/python3.11/site-packages/pydantic/main.py:1087: PydanticDeprecatedSince20: The `dict` method is deprecated; use `model_dump` instead. Deprecated in Pydantic V2.0 to be removed in V3.0. See Pydantic V2 Migration Guide at https://errors.pydantic.dev/2.8/migration/\n",
      "  warnings.warn('The `dict` method is deprecated; use `model_dump` instead.', category=PydanticDeprecatedSince20)\n",
      "INFO:httpx:HTTP Request: POST https://api.openai.com/v1/chat/completions \"HTTP/1.1 200 OK\"\n",
      "/Users/user/miniconda3/envs/graphmaker/lib/python3.11/site-packages/pydantic/main.py:1087: PydanticDeprecatedSince20: The `dict` method is deprecated; use `model_dump` instead. Deprecated in Pydantic V2.0 to be removed in V3.0. See Pydantic V2 Migration Guide at https://errors.pydantic.dev/2.8/migration/\n",
      "  warnings.warn('The `dict` method is deprecated; use `model_dump` instead.', category=PydanticDeprecatedSince20)\n"
     ]
    },
    {
     "name": "stdout",
     "output_type": "stream",
     "text": [
      "Chunk Found (36362), adding to: Elden Ring Lore & Mythos\n"
     ]
    },
    {
     "name": "stderr",
     "output_type": "stream",
     "text": [
      "INFO:httpx:HTTP Request: POST https://api.openai.com/v1/chat/completions \"HTTP/1.1 200 OK\"\n",
      "/Users/user/miniconda3/envs/graphmaker/lib/python3.11/site-packages/pydantic/main.py:1087: PydanticDeprecatedSince20: The `dict` method is deprecated; use `model_dump` instead. Deprecated in Pydantic V2.0 to be removed in V3.0. See Pydantic V2 Migration Guide at https://errors.pydantic.dev/2.8/migration/\n",
      "  warnings.warn('The `dict` method is deprecated; use `model_dump` instead.', category=PydanticDeprecatedSince20)\n",
      "INFO:httpx:HTTP Request: POST https://api.openai.com/v1/chat/completions \"HTTP/1.1 200 OK\"\n",
      "/Users/user/miniconda3/envs/graphmaker/lib/python3.11/site-packages/pydantic/main.py:1087: PydanticDeprecatedSince20: The `dict` method is deprecated; use `model_dump` instead. Deprecated in Pydantic V2.0 to be removed in V3.0. See Pydantic V2 Migration Guide at https://errors.pydantic.dev/2.8/migration/\n",
      "  warnings.warn('The `dict` method is deprecated; use `model_dump` instead.', category=PydanticDeprecatedSince20)\n"
     ]
    },
    {
     "name": "stdout",
     "output_type": "stream",
     "text": [
      "\n",
      "Adding: 'Roderika feels guilt about the fact that she is too afraid to join the men who were sacrificed.'\n"
     ]
    },
    {
     "name": "stderr",
     "output_type": "stream",
     "text": [
      "INFO:httpx:HTTP Request: POST https://api.openai.com/v1/chat/completions \"HTTP/1.1 200 OK\"\n",
      "/Users/user/miniconda3/envs/graphmaker/lib/python3.11/site-packages/pydantic/main.py:1087: PydanticDeprecatedSince20: The `dict` method is deprecated; use `model_dump` instead. Deprecated in Pydantic V2.0 to be removed in V3.0. See Pydantic V2 Migration Guide at https://errors.pydantic.dev/2.8/migration/\n",
      "  warnings.warn('The `dict` method is deprecated; use `model_dump` instead.', category=PydanticDeprecatedSince20)\n",
      "INFO:httpx:HTTP Request: POST https://api.openai.com/v1/chat/completions \"HTTP/1.1 200 OK\"\n",
      "/Users/user/miniconda3/envs/graphmaker/lib/python3.11/site-packages/pydantic/main.py:1087: PydanticDeprecatedSince20: The `dict` method is deprecated; use `model_dump` instead. Deprecated in Pydantic V2.0 to be removed in V3.0. See Pydantic V2 Migration Guide at https://errors.pydantic.dev/2.8/migration/\n",
      "  warnings.warn('The `dict` method is deprecated; use `model_dump` instead.', category=PydanticDeprecatedSince20)\n"
     ]
    },
    {
     "name": "stdout",
     "output_type": "stream",
     "text": [
      "No chunks found\n"
     ]
    },
    {
     "name": "stderr",
     "output_type": "stream",
     "text": [
      "INFO:httpx:HTTP Request: POST https://api.openai.com/v1/chat/completions \"HTTP/1.1 200 OK\"\n",
      "/Users/user/miniconda3/envs/graphmaker/lib/python3.11/site-packages/pydantic/main.py:1087: PydanticDeprecatedSince20: The `dict` method is deprecated; use `model_dump` instead. Deprecated in Pydantic V2.0 to be removed in V3.0. See Pydantic V2 Migration Guide at https://errors.pydantic.dev/2.8/migration/\n",
      "  warnings.warn('The `dict` method is deprecated; use `model_dump` instead.', category=PydanticDeprecatedSince20)\n",
      "INFO:httpx:HTTP Request: POST https://api.openai.com/v1/chat/completions \"HTTP/1.1 200 OK\"\n",
      "/Users/user/miniconda3/envs/graphmaker/lib/python3.11/site-packages/pydantic/main.py:1087: PydanticDeprecatedSince20: The `dict` method is deprecated; use `model_dump` instead. Deprecated in Pydantic V2.0 to be removed in V3.0. See Pydantic V2 Migration Guide at https://errors.pydantic.dev/2.8/migration/\n",
      "  warnings.warn('The `dict` method is deprecated; use `model_dump` instead.', category=PydanticDeprecatedSince20)\n"
     ]
    },
    {
     "name": "stdout",
     "output_type": "stream",
     "text": [
      "Created new chunk (1301d): Emotions of Guilt & Fear\n",
      "\n",
      "Adding: 'Roderika moves to the Roundtable Hold to find purpose after receiving the hopeful echoes of her men through the Chrysalids' Memento.'\n"
     ]
    },
    {
     "name": "stderr",
     "output_type": "stream",
     "text": [
      "INFO:httpx:HTTP Request: POST https://api.openai.com/v1/chat/completions \"HTTP/1.1 200 OK\"\n",
      "/Users/user/miniconda3/envs/graphmaker/lib/python3.11/site-packages/pydantic/main.py:1087: PydanticDeprecatedSince20: The `dict` method is deprecated; use `model_dump` instead. Deprecated in Pydantic V2.0 to be removed in V3.0. See Pydantic V2 Migration Guide at https://errors.pydantic.dev/2.8/migration/\n",
      "  warnings.warn('The `dict` method is deprecated; use `model_dump` instead.', category=PydanticDeprecatedSince20)\n",
      "INFO:httpx:HTTP Request: POST https://api.openai.com/v1/chat/completions \"HTTP/1.1 200 OK\"\n",
      "/Users/user/miniconda3/envs/graphmaker/lib/python3.11/site-packages/pydantic/main.py:1087: PydanticDeprecatedSince20: The `dict` method is deprecated; use `model_dump` instead. Deprecated in Pydantic V2.0 to be removed in V3.0. See Pydantic V2 Migration Guide at https://errors.pydantic.dev/2.8/migration/\n",
      "  warnings.warn('The `dict` method is deprecated; use `model_dump` instead.', category=PydanticDeprecatedSince20)\n"
     ]
    },
    {
     "name": "stdout",
     "output_type": "stream",
     "text": [
      "Chunk Found (36362), adding to: Elden Ring Lore, History & Characters\n"
     ]
    },
    {
     "name": "stderr",
     "output_type": "stream",
     "text": [
      "INFO:httpx:HTTP Request: POST https://api.openai.com/v1/chat/completions \"HTTP/1.1 200 OK\"\n",
      "/Users/user/miniconda3/envs/graphmaker/lib/python3.11/site-packages/pydantic/main.py:1087: PydanticDeprecatedSince20: The `dict` method is deprecated; use `model_dump` instead. Deprecated in Pydantic V2.0 to be removed in V3.0. See Pydantic V2 Migration Guide at https://errors.pydantic.dev/2.8/migration/\n",
      "  warnings.warn('The `dict` method is deprecated; use `model_dump` instead.', category=PydanticDeprecatedSince20)\n",
      "INFO:httpx:HTTP Request: POST https://api.openai.com/v1/chat/completions \"HTTP/1.1 200 OK\"\n",
      "/Users/user/miniconda3/envs/graphmaker/lib/python3.11/site-packages/pydantic/main.py:1087: PydanticDeprecatedSince20: The `dict` method is deprecated; use `model_dump` instead. Deprecated in Pydantic V2.0 to be removed in V3.0. See Pydantic V2 Migration Guide at https://errors.pydantic.dev/2.8/migration/\n",
      "  warnings.warn('The `dict` method is deprecated; use `model_dump` instead.', category=PydanticDeprecatedSince20)\n"
     ]
    },
    {
     "name": "stdout",
     "output_type": "stream",
     "text": [
      "\n",
      "Adding: 'Smithing Master Hewg recognises Roderika's potential for spirit tuning through Roderika's eyes.'\n"
     ]
    },
    {
     "name": "stderr",
     "output_type": "stream",
     "text": [
      "INFO:httpx:HTTP Request: POST https://api.openai.com/v1/chat/completions \"HTTP/1.1 200 OK\"\n",
      "/Users/user/miniconda3/envs/graphmaker/lib/python3.11/site-packages/pydantic/main.py:1087: PydanticDeprecatedSince20: The `dict` method is deprecated; use `model_dump` instead. Deprecated in Pydantic V2.0 to be removed in V3.0. See Pydantic V2 Migration Guide at https://errors.pydantic.dev/2.8/migration/\n",
      "  warnings.warn('The `dict` method is deprecated; use `model_dump` instead.', category=PydanticDeprecatedSince20)\n",
      "INFO:httpx:HTTP Request: POST https://api.openai.com/v1/chat/completions \"HTTP/1.1 200 OK\"\n",
      "/Users/user/miniconda3/envs/graphmaker/lib/python3.11/site-packages/pydantic/main.py:1087: PydanticDeprecatedSince20: The `dict` method is deprecated; use `model_dump` instead. Deprecated in Pydantic V2.0 to be removed in V3.0. See Pydantic V2 Migration Guide at https://errors.pydantic.dev/2.8/migration/\n",
      "  warnings.warn('The `dict` method is deprecated; use `model_dump` instead.', category=PydanticDeprecatedSince20)\n"
     ]
    },
    {
     "name": "stdout",
     "output_type": "stream",
     "text": [
      "Chunk Found (36362), adding to: Elden Ring Lore & Mythos\n"
     ]
    },
    {
     "name": "stderr",
     "output_type": "stream",
     "text": [
      "INFO:httpx:HTTP Request: POST https://api.openai.com/v1/chat/completions \"HTTP/1.1 200 OK\"\n",
      "/Users/user/miniconda3/envs/graphmaker/lib/python3.11/site-packages/pydantic/main.py:1087: PydanticDeprecatedSince20: The `dict` method is deprecated; use `model_dump` instead. Deprecated in Pydantic V2.0 to be removed in V3.0. See Pydantic V2 Migration Guide at https://errors.pydantic.dev/2.8/migration/\n",
      "  warnings.warn('The `dict` method is deprecated; use `model_dump` instead.', category=PydanticDeprecatedSince20)\n",
      "INFO:httpx:HTTP Request: POST https://api.openai.com/v1/chat/completions \"HTTP/1.1 200 OK\"\n",
      "/Users/user/miniconda3/envs/graphmaker/lib/python3.11/site-packages/pydantic/main.py:1087: PydanticDeprecatedSince20: The `dict` method is deprecated; use `model_dump` instead. Deprecated in Pydantic V2.0 to be removed in V3.0. See Pydantic V2 Migration Guide at https://errors.pydantic.dev/2.8/migration/\n",
      "  warnings.warn('The `dict` method is deprecated; use `model_dump` instead.', category=PydanticDeprecatedSince20)\n"
     ]
    },
    {
     "name": "stdout",
     "output_type": "stream",
     "text": [
      "\n",
      "Adding: 'With a bit of encouragement from the Tarnished, Smithing Master Hewg trains Roderika to be a skillful spirit tuner.'\n"
     ]
    },
    {
     "name": "stderr",
     "output_type": "stream",
     "text": [
      "INFO:httpx:HTTP Request: POST https://api.openai.com/v1/chat/completions \"HTTP/1.1 200 OK\"\n",
      "/Users/user/miniconda3/envs/graphmaker/lib/python3.11/site-packages/pydantic/main.py:1087: PydanticDeprecatedSince20: The `dict` method is deprecated; use `model_dump` instead. Deprecated in Pydantic V2.0 to be removed in V3.0. See Pydantic V2 Migration Guide at https://errors.pydantic.dev/2.8/migration/\n",
      "  warnings.warn('The `dict` method is deprecated; use `model_dump` instead.', category=PydanticDeprecatedSince20)\n",
      "INFO:httpx:HTTP Request: POST https://api.openai.com/v1/chat/completions \"HTTP/1.1 200 OK\"\n",
      "/Users/user/miniconda3/envs/graphmaker/lib/python3.11/site-packages/pydantic/main.py:1087: PydanticDeprecatedSince20: The `dict` method is deprecated; use `model_dump` instead. Deprecated in Pydantic V2.0 to be removed in V3.0. See Pydantic V2 Migration Guide at https://errors.pydantic.dev/2.8/migration/\n",
      "  warnings.warn('The `dict` method is deprecated; use `model_dump` instead.', category=PydanticDeprecatedSince20)\n"
     ]
    },
    {
     "name": "stdout",
     "output_type": "stream",
     "text": [
      "Chunk Found (36362), adding to: Elden Ring Lore, History & Characters\n"
     ]
    },
    {
     "name": "stderr",
     "output_type": "stream",
     "text": [
      "INFO:httpx:HTTP Request: POST https://api.openai.com/v1/chat/completions \"HTTP/1.1 200 OK\"\n",
      "/Users/user/miniconda3/envs/graphmaker/lib/python3.11/site-packages/pydantic/main.py:1087: PydanticDeprecatedSince20: The `dict` method is deprecated; use `model_dump` instead. Deprecated in Pydantic V2.0 to be removed in V3.0. See Pydantic V2 Migration Guide at https://errors.pydantic.dev/2.8/migration/\n",
      "  warnings.warn('The `dict` method is deprecated; use `model_dump` instead.', category=PydanticDeprecatedSince20)\n",
      "INFO:httpx:HTTP Request: POST https://api.openai.com/v1/chat/completions \"HTTP/1.1 200 OK\"\n",
      "/Users/user/miniconda3/envs/graphmaker/lib/python3.11/site-packages/pydantic/main.py:1087: PydanticDeprecatedSince20: The `dict` method is deprecated; use `model_dump` instead. Deprecated in Pydantic V2.0 to be removed in V3.0. See Pydantic V2 Migration Guide at https://errors.pydantic.dev/2.8/migration/\n",
      "  warnings.warn('The `dict` method is deprecated; use `model_dump` instead.', category=PydanticDeprecatedSince20)\n"
     ]
    },
    {
     "name": "stdout",
     "output_type": "stream",
     "text": [
      "\n",
      "Adding: 'Roderika and Smithing Master Hewg become close.'\n"
     ]
    },
    {
     "name": "stderr",
     "output_type": "stream",
     "text": [
      "INFO:httpx:HTTP Request: POST https://api.openai.com/v1/chat/completions \"HTTP/1.1 200 OK\"\n",
      "/Users/user/miniconda3/envs/graphmaker/lib/python3.11/site-packages/pydantic/main.py:1087: PydanticDeprecatedSince20: The `dict` method is deprecated; use `model_dump` instead. Deprecated in Pydantic V2.0 to be removed in V3.0. See Pydantic V2 Migration Guide at https://errors.pydantic.dev/2.8/migration/\n",
      "  warnings.warn('The `dict` method is deprecated; use `model_dump` instead.', category=PydanticDeprecatedSince20)\n",
      "INFO:httpx:HTTP Request: POST https://api.openai.com/v1/chat/completions \"HTTP/1.1 200 OK\"\n",
      "/Users/user/miniconda3/envs/graphmaker/lib/python3.11/site-packages/pydantic/main.py:1087: PydanticDeprecatedSince20: The `dict` method is deprecated; use `model_dump` instead. Deprecated in Pydantic V2.0 to be removed in V3.0. See Pydantic V2 Migration Guide at https://errors.pydantic.dev/2.8/migration/\n",
      "  warnings.warn('The `dict` method is deprecated; use `model_dump` instead.', category=PydanticDeprecatedSince20)\n"
     ]
    },
    {
     "name": "stdout",
     "output_type": "stream",
     "text": [
      "No chunks found\n"
     ]
    },
    {
     "name": "stderr",
     "output_type": "stream",
     "text": [
      "INFO:httpx:HTTP Request: POST https://api.openai.com/v1/chat/completions \"HTTP/1.1 200 OK\"\n",
      "/Users/user/miniconda3/envs/graphmaker/lib/python3.11/site-packages/pydantic/main.py:1087: PydanticDeprecatedSince20: The `dict` method is deprecated; use `model_dump` instead. Deprecated in Pydantic V2.0 to be removed in V3.0. See Pydantic V2 Migration Guide at https://errors.pydantic.dev/2.8/migration/\n",
      "  warnings.warn('The `dict` method is deprecated; use `model_dump` instead.', category=PydanticDeprecatedSince20)\n",
      "INFO:httpx:HTTP Request: POST https://api.openai.com/v1/chat/completions \"HTTP/1.1 200 OK\"\n",
      "/Users/user/miniconda3/envs/graphmaker/lib/python3.11/site-packages/pydantic/main.py:1087: PydanticDeprecatedSince20: The `dict` method is deprecated; use `model_dump` instead. Deprecated in Pydantic V2.0 to be removed in V3.0. See Pydantic V2 Migration Guide at https://errors.pydantic.dev/2.8/migration/\n",
      "  warnings.warn('The `dict` method is deprecated; use `model_dump` instead.', category=PydanticDeprecatedSince20)\n"
     ]
    },
    {
     "name": "stdout",
     "output_type": "stream",
     "text": [
      "Created new chunk (1dbfc): Character Relationships\n",
      "\n",
      "Adding: 'Even as the Roundtable Hold is burning down, Roderika stays behind with Smithing Master Hewg to repay his kindness.'\n"
     ]
    },
    {
     "name": "stderr",
     "output_type": "stream",
     "text": [
      "INFO:httpx:HTTP Request: POST https://api.openai.com/v1/chat/completions \"HTTP/1.1 200 OK\"\n",
      "/Users/user/miniconda3/envs/graphmaker/lib/python3.11/site-packages/pydantic/main.py:1087: PydanticDeprecatedSince20: The `dict` method is deprecated; use `model_dump` instead. Deprecated in Pydantic V2.0 to be removed in V3.0. See Pydantic V2 Migration Guide at https://errors.pydantic.dev/2.8/migration/\n",
      "  warnings.warn('The `dict` method is deprecated; use `model_dump` instead.', category=PydanticDeprecatedSince20)\n",
      "INFO:httpx:HTTP Request: POST https://api.openai.com/v1/chat/completions \"HTTP/1.1 200 OK\"\n",
      "/Users/user/miniconda3/envs/graphmaker/lib/python3.11/site-packages/pydantic/main.py:1087: PydanticDeprecatedSince20: The `dict` method is deprecated; use `model_dump` instead. Deprecated in Pydantic V2.0 to be removed in V3.0. See Pydantic V2 Migration Guide at https://errors.pydantic.dev/2.8/migration/\n",
      "  warnings.warn('The `dict` method is deprecated; use `model_dump` instead.', category=PydanticDeprecatedSince20)\n"
     ]
    },
    {
     "name": "stdout",
     "output_type": "stream",
     "text": [
      "Chunk Found (1dbfc), adding to: Character Relationships\n"
     ]
    },
    {
     "name": "stderr",
     "output_type": "stream",
     "text": [
      "INFO:httpx:HTTP Request: POST https://api.openai.com/v1/chat/completions \"HTTP/1.1 200 OK\"\n",
      "/Users/user/miniconda3/envs/graphmaker/lib/python3.11/site-packages/pydantic/main.py:1087: PydanticDeprecatedSince20: The `dict` method is deprecated; use `model_dump` instead. Deprecated in Pydantic V2.0 to be removed in V3.0. See Pydantic V2 Migration Guide at https://errors.pydantic.dev/2.8/migration/\n",
      "  warnings.warn('The `dict` method is deprecated; use `model_dump` instead.', category=PydanticDeprecatedSince20)\n",
      "INFO:httpx:HTTP Request: POST https://api.openai.com/v1/chat/completions \"HTTP/1.1 200 OK\"\n",
      "/Users/user/miniconda3/envs/graphmaker/lib/python3.11/site-packages/pydantic/main.py:1087: PydanticDeprecatedSince20: The `dict` method is deprecated; use `model_dump` instead. Deprecated in Pydantic V2.0 to be removed in V3.0. See Pydantic V2 Migration Guide at https://errors.pydantic.dev/2.8/migration/\n",
      "  warnings.warn('The `dict` method is deprecated; use `model_dump` instead.', category=PydanticDeprecatedSince20)\n"
     ]
    },
    {
     "name": "stdout",
     "output_type": "stream",
     "text": [
      "\n",
      "Adding: 'Smithing Master Hewg is a misbegotten chained and imprisoned at the Roundtable Hold.'\n"
     ]
    },
    {
     "name": "stderr",
     "output_type": "stream",
     "text": [
      "INFO:httpx:HTTP Request: POST https://api.openai.com/v1/chat/completions \"HTTP/1.1 200 OK\"\n",
      "/Users/user/miniconda3/envs/graphmaker/lib/python3.11/site-packages/pydantic/main.py:1087: PydanticDeprecatedSince20: The `dict` method is deprecated; use `model_dump` instead. Deprecated in Pydantic V2.0 to be removed in V3.0. See Pydantic V2 Migration Guide at https://errors.pydantic.dev/2.8/migration/\n",
      "  warnings.warn('The `dict` method is deprecated; use `model_dump` instead.', category=PydanticDeprecatedSince20)\n",
      "INFO:httpx:HTTP Request: POST https://api.openai.com/v1/chat/completions \"HTTP/1.1 200 OK\"\n",
      "/Users/user/miniconda3/envs/graphmaker/lib/python3.11/site-packages/pydantic/main.py:1087: PydanticDeprecatedSince20: The `dict` method is deprecated; use `model_dump` instead. Deprecated in Pydantic V2.0 to be removed in V3.0. See Pydantic V2 Migration Guide at https://errors.pydantic.dev/2.8/migration/\n",
      "  warnings.warn('The `dict` method is deprecated; use `model_dump` instead.', category=PydanticDeprecatedSince20)\n"
     ]
    },
    {
     "name": "stdout",
     "output_type": "stream",
     "text": [
      "Chunk Found (1dbfc), adding to: Character Interactions\n"
     ]
    },
    {
     "name": "stderr",
     "output_type": "stream",
     "text": [
      "INFO:httpx:HTTP Request: POST https://api.openai.com/v1/chat/completions \"HTTP/1.1 200 OK\"\n",
      "/Users/user/miniconda3/envs/graphmaker/lib/python3.11/site-packages/pydantic/main.py:1087: PydanticDeprecatedSince20: The `dict` method is deprecated; use `model_dump` instead. Deprecated in Pydantic V2.0 to be removed in V3.0. See Pydantic V2 Migration Guide at https://errors.pydantic.dev/2.8/migration/\n",
      "  warnings.warn('The `dict` method is deprecated; use `model_dump` instead.', category=PydanticDeprecatedSince20)\n",
      "INFO:httpx:HTTP Request: POST https://api.openai.com/v1/chat/completions \"HTTP/1.1 200 OK\"\n",
      "/Users/user/miniconda3/envs/graphmaker/lib/python3.11/site-packages/pydantic/main.py:1087: PydanticDeprecatedSince20: The `dict` method is deprecated; use `model_dump` instead. Deprecated in Pydantic V2.0 to be removed in V3.0. See Pydantic V2 Migration Guide at https://errors.pydantic.dev/2.8/migration/\n",
      "  warnings.warn('The `dict` method is deprecated; use `model_dump` instead.', category=PydanticDeprecatedSince20)\n"
     ]
    },
    {
     "name": "stdout",
     "output_type": "stream",
     "text": [
      "\n",
      "Adding: 'Smithing Master Hewg is tasked by Queen Marika to smith a weapon strong enough to kill a god.'\n"
     ]
    },
    {
     "name": "stderr",
     "output_type": "stream",
     "text": [
      "INFO:httpx:HTTP Request: POST https://api.openai.com/v1/chat/completions \"HTTP/1.1 200 OK\"\n",
      "/Users/user/miniconda3/envs/graphmaker/lib/python3.11/site-packages/pydantic/main.py:1087: PydanticDeprecatedSince20: The `dict` method is deprecated; use `model_dump` instead. Deprecated in Pydantic V2.0 to be removed in V3.0. See Pydantic V2 Migration Guide at https://errors.pydantic.dev/2.8/migration/\n",
      "  warnings.warn('The `dict` method is deprecated; use `model_dump` instead.', category=PydanticDeprecatedSince20)\n",
      "INFO:httpx:HTTP Request: POST https://api.openai.com/v1/chat/completions \"HTTP/1.1 200 OK\"\n",
      "/Users/user/miniconda3/envs/graphmaker/lib/python3.11/site-packages/pydantic/main.py:1087: PydanticDeprecatedSince20: The `dict` method is deprecated; use `model_dump` instead. Deprecated in Pydantic V2.0 to be removed in V3.0. See Pydantic V2 Migration Guide at https://errors.pydantic.dev/2.8/migration/\n",
      "  warnings.warn('The `dict` method is deprecated; use `model_dump` instead.', category=PydanticDeprecatedSince20)\n"
     ]
    },
    {
     "name": "stdout",
     "output_type": "stream",
     "text": [
      "Chunk Found (1dbfc), adding to: Character Relationships\n"
     ]
    },
    {
     "name": "stderr",
     "output_type": "stream",
     "text": [
      "INFO:httpx:HTTP Request: POST https://api.openai.com/v1/chat/completions \"HTTP/1.1 200 OK\"\n",
      "/Users/user/miniconda3/envs/graphmaker/lib/python3.11/site-packages/pydantic/main.py:1087: PydanticDeprecatedSince20: The `dict` method is deprecated; use `model_dump` instead. Deprecated in Pydantic V2.0 to be removed in V3.0. See Pydantic V2 Migration Guide at https://errors.pydantic.dev/2.8/migration/\n",
      "  warnings.warn('The `dict` method is deprecated; use `model_dump` instead.', category=PydanticDeprecatedSince20)\n",
      "INFO:httpx:HTTP Request: POST https://api.openai.com/v1/chat/completions \"HTTP/1.1 200 OK\"\n",
      "/Users/user/miniconda3/envs/graphmaker/lib/python3.11/site-packages/pydantic/main.py:1087: PydanticDeprecatedSince20: The `dict` method is deprecated; use `model_dump` instead. Deprecated in Pydantic V2.0 to be removed in V3.0. See Pydantic V2 Migration Guide at https://errors.pydantic.dev/2.8/migration/\n",
      "  warnings.warn('The `dict` method is deprecated; use `model_dump` instead.', category=PydanticDeprecatedSince20)\n"
     ]
    },
    {
     "name": "stdout",
     "output_type": "stream",
     "text": [
      "\n",
      "Adding: 'Smithing Master Hewg makes the task of smithing a weapon strong enough to kill a god his life goal.'\n"
     ]
    },
    {
     "name": "stderr",
     "output_type": "stream",
     "text": [
      "INFO:httpx:HTTP Request: POST https://api.openai.com/v1/chat/completions \"HTTP/1.1 200 OK\"\n",
      "/Users/user/miniconda3/envs/graphmaker/lib/python3.11/site-packages/pydantic/main.py:1087: PydanticDeprecatedSince20: The `dict` method is deprecated; use `model_dump` instead. Deprecated in Pydantic V2.0 to be removed in V3.0. See Pydantic V2 Migration Guide at https://errors.pydantic.dev/2.8/migration/\n",
      "  warnings.warn('The `dict` method is deprecated; use `model_dump` instead.', category=PydanticDeprecatedSince20)\n",
      "INFO:httpx:HTTP Request: POST https://api.openai.com/v1/chat/completions \"HTTP/1.1 200 OK\"\n",
      "/Users/user/miniconda3/envs/graphmaker/lib/python3.11/site-packages/pydantic/main.py:1087: PydanticDeprecatedSince20: The `dict` method is deprecated; use `model_dump` instead. Deprecated in Pydantic V2.0 to be removed in V3.0. See Pydantic V2 Migration Guide at https://errors.pydantic.dev/2.8/migration/\n",
      "  warnings.warn('The `dict` method is deprecated; use `model_dump` instead.', category=PydanticDeprecatedSince20)\n"
     ]
    },
    {
     "name": "stdout",
     "output_type": "stream",
     "text": [
      "Chunk Found (1dbfc), adding to: Loyalty and Sacrifice\n"
     ]
    },
    {
     "name": "stderr",
     "output_type": "stream",
     "text": [
      "INFO:httpx:HTTP Request: POST https://api.openai.com/v1/chat/completions \"HTTP/1.1 200 OK\"\n",
      "/Users/user/miniconda3/envs/graphmaker/lib/python3.11/site-packages/pydantic/main.py:1087: PydanticDeprecatedSince20: The `dict` method is deprecated; use `model_dump` instead. Deprecated in Pydantic V2.0 to be removed in V3.0. See Pydantic V2 Migration Guide at https://errors.pydantic.dev/2.8/migration/\n",
      "  warnings.warn('The `dict` method is deprecated; use `model_dump` instead.', category=PydanticDeprecatedSince20)\n",
      "INFO:httpx:HTTP Request: POST https://api.openai.com/v1/chat/completions \"HTTP/1.1 200 OK\"\n",
      "/Users/user/miniconda3/envs/graphmaker/lib/python3.11/site-packages/pydantic/main.py:1087: PydanticDeprecatedSince20: The `dict` method is deprecated; use `model_dump` instead. Deprecated in Pydantic V2.0 to be removed in V3.0. See Pydantic V2 Migration Guide at https://errors.pydantic.dev/2.8/migration/\n",
      "  warnings.warn('The `dict` method is deprecated; use `model_dump` instead.', category=PydanticDeprecatedSince20)\n"
     ]
    },
    {
     "name": "stdout",
     "output_type": "stream",
     "text": [
      "\n",
      "Adding: 'Smithing Master Hewg strongly believes that the Tarnished will be the one to become Elden Lord.'\n"
     ]
    },
    {
     "name": "stderr",
     "output_type": "stream",
     "text": [
      "INFO:httpx:HTTP Request: POST https://api.openai.com/v1/chat/completions \"HTTP/1.1 200 OK\"\n",
      "/Users/user/miniconda3/envs/graphmaker/lib/python3.11/site-packages/pydantic/main.py:1087: PydanticDeprecatedSince20: The `dict` method is deprecated; use `model_dump` instead. Deprecated in Pydantic V2.0 to be removed in V3.0. See Pydantic V2 Migration Guide at https://errors.pydantic.dev/2.8/migration/\n",
      "  warnings.warn('The `dict` method is deprecated; use `model_dump` instead.', category=PydanticDeprecatedSince20)\n",
      "INFO:httpx:HTTP Request: POST https://api.openai.com/v1/chat/completions \"HTTP/1.1 200 OK\"\n",
      "/Users/user/miniconda3/envs/graphmaker/lib/python3.11/site-packages/pydantic/main.py:1087: PydanticDeprecatedSince20: The `dict` method is deprecated; use `model_dump` instead. Deprecated in Pydantic V2.0 to be removed in V3.0. See Pydantic V2 Migration Guide at https://errors.pydantic.dev/2.8/migration/\n",
      "  warnings.warn('The `dict` method is deprecated; use `model_dump` instead.', category=PydanticDeprecatedSince20)\n"
     ]
    },
    {
     "name": "stdout",
     "output_type": "stream",
     "text": [
      "Chunk Found (1dbfc), adding to: Relationships and Responsibilities\n"
     ]
    },
    {
     "name": "stderr",
     "output_type": "stream",
     "text": [
      "INFO:httpx:HTTP Request: POST https://api.openai.com/v1/chat/completions \"HTTP/1.1 200 OK\"\n",
      "/Users/user/miniconda3/envs/graphmaker/lib/python3.11/site-packages/pydantic/main.py:1087: PydanticDeprecatedSince20: The `dict` method is deprecated; use `model_dump` instead. Deprecated in Pydantic V2.0 to be removed in V3.0. See Pydantic V2 Migration Guide at https://errors.pydantic.dev/2.8/migration/\n",
      "  warnings.warn('The `dict` method is deprecated; use `model_dump` instead.', category=PydanticDeprecatedSince20)\n",
      "INFO:httpx:HTTP Request: POST https://api.openai.com/v1/chat/completions \"HTTP/1.1 200 OK\"\n",
      "/Users/user/miniconda3/envs/graphmaker/lib/python3.11/site-packages/pydantic/main.py:1087: PydanticDeprecatedSince20: The `dict` method is deprecated; use `model_dump` instead. Deprecated in Pydantic V2.0 to be removed in V3.0. See Pydantic V2 Migration Guide at https://errors.pydantic.dev/2.8/migration/\n",
      "  warnings.warn('The `dict` method is deprecated; use `model_dump` instead.', category=PydanticDeprecatedSince20)\n"
     ]
    },
    {
     "name": "stdout",
     "output_type": "stream",
     "text": [
      "\n",
      "Adding: 'Smithing Master Hewg will say that the Tarnished will be the one to become Elden Lord before he completely loses his memory.'\n"
     ]
    },
    {
     "name": "stderr",
     "output_type": "stream",
     "text": [
      "INFO:httpx:HTTP Request: POST https://api.openai.com/v1/chat/completions \"HTTP/1.1 200 OK\"\n",
      "/Users/user/miniconda3/envs/graphmaker/lib/python3.11/site-packages/pydantic/main.py:1087: PydanticDeprecatedSince20: The `dict` method is deprecated; use `model_dump` instead. Deprecated in Pydantic V2.0 to be removed in V3.0. See Pydantic V2 Migration Guide at https://errors.pydantic.dev/2.8/migration/\n",
      "  warnings.warn('The `dict` method is deprecated; use `model_dump` instead.', category=PydanticDeprecatedSince20)\n",
      "INFO:httpx:HTTP Request: POST https://api.openai.com/v1/chat/completions \"HTTP/1.1 200 OK\"\n",
      "/Users/user/miniconda3/envs/graphmaker/lib/python3.11/site-packages/pydantic/main.py:1087: PydanticDeprecatedSince20: The `dict` method is deprecated; use `model_dump` instead. Deprecated in Pydantic V2.0 to be removed in V3.0. See Pydantic V2 Migration Guide at https://errors.pydantic.dev/2.8/migration/\n",
      "  warnings.warn('The `dict` method is deprecated; use `model_dump` instead.', category=PydanticDeprecatedSince20)\n"
     ]
    },
    {
     "name": "stdout",
     "output_type": "stream",
     "text": [
      "Chunk Found (1dbfc), adding to: Loyalty and Craftsmanship\n"
     ]
    },
    {
     "name": "stderr",
     "output_type": "stream",
     "text": [
      "INFO:httpx:HTTP Request: POST https://api.openai.com/v1/chat/completions \"HTTP/1.1 200 OK\"\n",
      "/Users/user/miniconda3/envs/graphmaker/lib/python3.11/site-packages/pydantic/main.py:1087: PydanticDeprecatedSince20: The `dict` method is deprecated; use `model_dump` instead. Deprecated in Pydantic V2.0 to be removed in V3.0. See Pydantic V2 Migration Guide at https://errors.pydantic.dev/2.8/migration/\n",
      "  warnings.warn('The `dict` method is deprecated; use `model_dump` instead.', category=PydanticDeprecatedSince20)\n",
      "INFO:httpx:HTTP Request: POST https://api.openai.com/v1/chat/completions \"HTTP/1.1 200 OK\"\n",
      "/Users/user/miniconda3/envs/graphmaker/lib/python3.11/site-packages/pydantic/main.py:1087: PydanticDeprecatedSince20: The `dict` method is deprecated; use `model_dump` instead. Deprecated in Pydantic V2.0 to be removed in V3.0. See Pydantic V2 Migration Guide at https://errors.pydantic.dev/2.8/migration/\n",
      "  warnings.warn('The `dict` method is deprecated; use `model_dump` instead.', category=PydanticDeprecatedSince20)\n"
     ]
    },
    {
     "name": "stdout",
     "output_type": "stream",
     "text": [
      "\n",
      "Adding: 'Nepheli Loux is the adoptive daughter of Sir Gideon Ofnir.'\n"
     ]
    },
    {
     "name": "stderr",
     "output_type": "stream",
     "text": [
      "INFO:httpx:HTTP Request: POST https://api.openai.com/v1/chat/completions \"HTTP/1.1 200 OK\"\n",
      "/Users/user/miniconda3/envs/graphmaker/lib/python3.11/site-packages/pydantic/main.py:1087: PydanticDeprecatedSince20: The `dict` method is deprecated; use `model_dump` instead. Deprecated in Pydantic V2.0 to be removed in V3.0. See Pydantic V2 Migration Guide at https://errors.pydantic.dev/2.8/migration/\n",
      "  warnings.warn('The `dict` method is deprecated; use `model_dump` instead.', category=PydanticDeprecatedSince20)\n",
      "INFO:httpx:HTTP Request: POST https://api.openai.com/v1/chat/completions \"HTTP/1.1 200 OK\"\n",
      "/Users/user/miniconda3/envs/graphmaker/lib/python3.11/site-packages/pydantic/main.py:1087: PydanticDeprecatedSince20: The `dict` method is deprecated; use `model_dump` instead. Deprecated in Pydantic V2.0 to be removed in V3.0. See Pydantic V2 Migration Guide at https://errors.pydantic.dev/2.8/migration/\n",
      "  warnings.warn('The `dict` method is deprecated; use `model_dump` instead.', category=PydanticDeprecatedSince20)\n"
     ]
    },
    {
     "name": "stdout",
     "output_type": "stream",
     "text": [
      "No chunks found\n"
     ]
    },
    {
     "name": "stderr",
     "output_type": "stream",
     "text": [
      "INFO:httpx:HTTP Request: POST https://api.openai.com/v1/chat/completions \"HTTP/1.1 200 OK\"\n",
      "/Users/user/miniconda3/envs/graphmaker/lib/python3.11/site-packages/pydantic/main.py:1087: PydanticDeprecatedSince20: The `dict` method is deprecated; use `model_dump` instead. Deprecated in Pydantic V2.0 to be removed in V3.0. See Pydantic V2 Migration Guide at https://errors.pydantic.dev/2.8/migration/\n",
      "  warnings.warn('The `dict` method is deprecated; use `model_dump` instead.', category=PydanticDeprecatedSince20)\n",
      "INFO:httpx:HTTP Request: POST https://api.openai.com/v1/chat/completions \"HTTP/1.1 200 OK\"\n",
      "/Users/user/miniconda3/envs/graphmaker/lib/python3.11/site-packages/pydantic/main.py:1087: PydanticDeprecatedSince20: The `dict` method is deprecated; use `model_dump` instead. Deprecated in Pydantic V2.0 to be removed in V3.0. See Pydantic V2 Migration Guide at https://errors.pydantic.dev/2.8/migration/\n",
      "  warnings.warn('The `dict` method is deprecated; use `model_dump` instead.', category=PydanticDeprecatedSince20)\n"
     ]
    },
    {
     "name": "stdout",
     "output_type": "stream",
     "text": [
      "Created new chunk (5008f): Familial Relationships\n",
      "\n",
      "Adding: 'Sir Gideon Ofnir took Nepheli Loux in when Nepheli Loux lost the guidance of grace.'\n"
     ]
    },
    {
     "name": "stderr",
     "output_type": "stream",
     "text": [
      "INFO:httpx:HTTP Request: POST https://api.openai.com/v1/chat/completions \"HTTP/1.1 200 OK\"\n",
      "/Users/user/miniconda3/envs/graphmaker/lib/python3.11/site-packages/pydantic/main.py:1087: PydanticDeprecatedSince20: The `dict` method is deprecated; use `model_dump` instead. Deprecated in Pydantic V2.0 to be removed in V3.0. See Pydantic V2 Migration Guide at https://errors.pydantic.dev/2.8/migration/\n",
      "  warnings.warn('The `dict` method is deprecated; use `model_dump` instead.', category=PydanticDeprecatedSince20)\n",
      "INFO:httpx:HTTP Request: POST https://api.openai.com/v1/chat/completions \"HTTP/1.1 200 OK\"\n",
      "/Users/user/miniconda3/envs/graphmaker/lib/python3.11/site-packages/pydantic/main.py:1087: PydanticDeprecatedSince20: The `dict` method is deprecated; use `model_dump` instead. Deprecated in Pydantic V2.0 to be removed in V3.0. See Pydantic V2 Migration Guide at https://errors.pydantic.dev/2.8/migration/\n",
      "  warnings.warn('The `dict` method is deprecated; use `model_dump` instead.', category=PydanticDeprecatedSince20)\n"
     ]
    },
    {
     "name": "stdout",
     "output_type": "stream",
     "text": [
      "Chunk Found (36362), adding to: Elden Ring Lore & Mythos\n"
     ]
    },
    {
     "name": "stderr",
     "output_type": "stream",
     "text": [
      "INFO:httpx:HTTP Request: POST https://api.openai.com/v1/chat/completions \"HTTP/1.1 200 OK\"\n",
      "/Users/user/miniconda3/envs/graphmaker/lib/python3.11/site-packages/pydantic/main.py:1087: PydanticDeprecatedSince20: The `dict` method is deprecated; use `model_dump` instead. Deprecated in Pydantic V2.0 to be removed in V3.0. See Pydantic V2 Migration Guide at https://errors.pydantic.dev/2.8/migration/\n",
      "  warnings.warn('The `dict` method is deprecated; use `model_dump` instead.', category=PydanticDeprecatedSince20)\n",
      "INFO:httpx:HTTP Request: POST https://api.openai.com/v1/chat/completions \"HTTP/1.1 200 OK\"\n",
      "/Users/user/miniconda3/envs/graphmaker/lib/python3.11/site-packages/pydantic/main.py:1087: PydanticDeprecatedSince20: The `dict` method is deprecated; use `model_dump` instead. Deprecated in Pydantic V2.0 to be removed in V3.0. See Pydantic V2 Migration Guide at https://errors.pydantic.dev/2.8/migration/\n",
      "  warnings.warn('The `dict` method is deprecated; use `model_dump` instead.', category=PydanticDeprecatedSince20)\n"
     ]
    },
    {
     "name": "stdout",
     "output_type": "stream",
     "text": [
      "\n",
      "Adding: 'Nepheli Loux became a Tarnished.'\n"
     ]
    },
    {
     "name": "stderr",
     "output_type": "stream",
     "text": [
      "INFO:httpx:HTTP Request: POST https://api.openai.com/v1/chat/completions \"HTTP/1.1 200 OK\"\n",
      "/Users/user/miniconda3/envs/graphmaker/lib/python3.11/site-packages/pydantic/main.py:1087: PydanticDeprecatedSince20: The `dict` method is deprecated; use `model_dump` instead. Deprecated in Pydantic V2.0 to be removed in V3.0. See Pydantic V2 Migration Guide at https://errors.pydantic.dev/2.8/migration/\n",
      "  warnings.warn('The `dict` method is deprecated; use `model_dump` instead.', category=PydanticDeprecatedSince20)\n",
      "INFO:httpx:HTTP Request: POST https://api.openai.com/v1/chat/completions \"HTTP/1.1 200 OK\"\n",
      "/Users/user/miniconda3/envs/graphmaker/lib/python3.11/site-packages/pydantic/main.py:1087: PydanticDeprecatedSince20: The `dict` method is deprecated; use `model_dump` instead. Deprecated in Pydantic V2.0 to be removed in V3.0. See Pydantic V2 Migration Guide at https://errors.pydantic.dev/2.8/migration/\n",
      "  warnings.warn('The `dict` method is deprecated; use `model_dump` instead.', category=PydanticDeprecatedSince20)\n"
     ]
    },
    {
     "name": "stdout",
     "output_type": "stream",
     "text": [
      "Chunk Found (36362), adding to: Elden Ring Lore, History & Characters\n"
     ]
    },
    {
     "name": "stderr",
     "output_type": "stream",
     "text": [
      "INFO:httpx:HTTP Request: POST https://api.openai.com/v1/chat/completions \"HTTP/1.1 200 OK\"\n",
      "/Users/user/miniconda3/envs/graphmaker/lib/python3.11/site-packages/pydantic/main.py:1087: PydanticDeprecatedSince20: The `dict` method is deprecated; use `model_dump` instead. Deprecated in Pydantic V2.0 to be removed in V3.0. See Pydantic V2 Migration Guide at https://errors.pydantic.dev/2.8/migration/\n",
      "  warnings.warn('The `dict` method is deprecated; use `model_dump` instead.', category=PydanticDeprecatedSince20)\n",
      "INFO:httpx:HTTP Request: POST https://api.openai.com/v1/chat/completions \"HTTP/1.1 200 OK\"\n",
      "/Users/user/miniconda3/envs/graphmaker/lib/python3.11/site-packages/pydantic/main.py:1087: PydanticDeprecatedSince20: The `dict` method is deprecated; use `model_dump` instead. Deprecated in Pydantic V2.0 to be removed in V3.0. See Pydantic V2 Migration Guide at https://errors.pydantic.dev/2.8/migration/\n",
      "  warnings.warn('The `dict` method is deprecated; use `model_dump` instead.', category=PydanticDeprecatedSince20)\n"
     ]
    },
    {
     "name": "stdout",
     "output_type": "stream",
     "text": [
      "\n",
      "Adding: 'Nepheli Loux is a skilled warrior.'\n"
     ]
    },
    {
     "name": "stderr",
     "output_type": "stream",
     "text": [
      "INFO:httpx:HTTP Request: POST https://api.openai.com/v1/chat/completions \"HTTP/1.1 200 OK\"\n",
      "/Users/user/miniconda3/envs/graphmaker/lib/python3.11/site-packages/pydantic/main.py:1087: PydanticDeprecatedSince20: The `dict` method is deprecated; use `model_dump` instead. Deprecated in Pydantic V2.0 to be removed in V3.0. See Pydantic V2 Migration Guide at https://errors.pydantic.dev/2.8/migration/\n",
      "  warnings.warn('The `dict` method is deprecated; use `model_dump` instead.', category=PydanticDeprecatedSince20)\n",
      "INFO:httpx:HTTP Request: POST https://api.openai.com/v1/chat/completions \"HTTP/1.1 200 OK\"\n",
      "/Users/user/miniconda3/envs/graphmaker/lib/python3.11/site-packages/pydantic/main.py:1087: PydanticDeprecatedSince20: The `dict` method is deprecated; use `model_dump` instead. Deprecated in Pydantic V2.0 to be removed in V3.0. See Pydantic V2 Migration Guide at https://errors.pydantic.dev/2.8/migration/\n",
      "  warnings.warn('The `dict` method is deprecated; use `model_dump` instead.', category=PydanticDeprecatedSince20)\n"
     ]
    },
    {
     "name": "stdout",
     "output_type": "stream",
     "text": [
      "No chunks found\n"
     ]
    },
    {
     "name": "stderr",
     "output_type": "stream",
     "text": [
      "INFO:httpx:HTTP Request: POST https://api.openai.com/v1/chat/completions \"HTTP/1.1 200 OK\"\n",
      "/Users/user/miniconda3/envs/graphmaker/lib/python3.11/site-packages/pydantic/main.py:1087: PydanticDeprecatedSince20: The `dict` method is deprecated; use `model_dump` instead. Deprecated in Pydantic V2.0 to be removed in V3.0. See Pydantic V2 Migration Guide at https://errors.pydantic.dev/2.8/migration/\n",
      "  warnings.warn('The `dict` method is deprecated; use `model_dump` instead.', category=PydanticDeprecatedSince20)\n",
      "INFO:httpx:HTTP Request: POST https://api.openai.com/v1/chat/completions \"HTTP/1.1 200 OK\"\n",
      "/Users/user/miniconda3/envs/graphmaker/lib/python3.11/site-packages/pydantic/main.py:1087: PydanticDeprecatedSince20: The `dict` method is deprecated; use `model_dump` instead. Deprecated in Pydantic V2.0 to be removed in V3.0. See Pydantic V2 Migration Guide at https://errors.pydantic.dev/2.8/migration/\n",
      "  warnings.warn('The `dict` method is deprecated; use `model_dump` instead.', category=PydanticDeprecatedSince20)\n"
     ]
    },
    {
     "name": "stdout",
     "output_type": "stream",
     "text": [
      "Created new chunk (9d5c2): Warrior Skills & Abilities\n",
      "\n",
      "Adding: 'Nepheli Loux believes in standing up and enacting justice for the weak and oppressed.'\n"
     ]
    },
    {
     "name": "stderr",
     "output_type": "stream",
     "text": [
      "INFO:httpx:HTTP Request: POST https://api.openai.com/v1/chat/completions \"HTTP/1.1 200 OK\"\n",
      "/Users/user/miniconda3/envs/graphmaker/lib/python3.11/site-packages/pydantic/main.py:1087: PydanticDeprecatedSince20: The `dict` method is deprecated; use `model_dump` instead. Deprecated in Pydantic V2.0 to be removed in V3.0. See Pydantic V2 Migration Guide at https://errors.pydantic.dev/2.8/migration/\n",
      "  warnings.warn('The `dict` method is deprecated; use `model_dump` instead.', category=PydanticDeprecatedSince20)\n",
      "INFO:httpx:HTTP Request: POST https://api.openai.com/v1/chat/completions \"HTTP/1.1 200 OK\"\n",
      "/Users/user/miniconda3/envs/graphmaker/lib/python3.11/site-packages/pydantic/main.py:1087: PydanticDeprecatedSince20: The `dict` method is deprecated; use `model_dump` instead. Deprecated in Pydantic V2.0 to be removed in V3.0. See Pydantic V2 Migration Guide at https://errors.pydantic.dev/2.8/migration/\n",
      "  warnings.warn('The `dict` method is deprecated; use `model_dump` instead.', category=PydanticDeprecatedSince20)\n"
     ]
    },
    {
     "name": "stdout",
     "output_type": "stream",
     "text": [
      "Chunk Found (9d5c2), adding to: Warrior Skills & Abilities\n"
     ]
    },
    {
     "name": "stderr",
     "output_type": "stream",
     "text": [
      "INFO:httpx:HTTP Request: POST https://api.openai.com/v1/chat/completions \"HTTP/1.1 200 OK\"\n",
      "/Users/user/miniconda3/envs/graphmaker/lib/python3.11/site-packages/pydantic/main.py:1087: PydanticDeprecatedSince20: The `dict` method is deprecated; use `model_dump` instead. Deprecated in Pydantic V2.0 to be removed in V3.0. See Pydantic V2 Migration Guide at https://errors.pydantic.dev/2.8/migration/\n",
      "  warnings.warn('The `dict` method is deprecated; use `model_dump` instead.', category=PydanticDeprecatedSince20)\n",
      "INFO:httpx:HTTP Request: POST https://api.openai.com/v1/chat/completions \"HTTP/1.1 200 OK\"\n",
      "/Users/user/miniconda3/envs/graphmaker/lib/python3.11/site-packages/pydantic/main.py:1087: PydanticDeprecatedSince20: The `dict` method is deprecated; use `model_dump` instead. Deprecated in Pydantic V2.0 to be removed in V3.0. See Pydantic V2 Migration Guide at https://errors.pydantic.dev/2.8/migration/\n",
      "  warnings.warn('The `dict` method is deprecated; use `model_dump` instead.', category=PydanticDeprecatedSince20)\n"
     ]
    },
    {
     "name": "stdout",
     "output_type": "stream",
     "text": [
      "\n",
      "Adding: 'Nepheli Loux once believed that Sir Gideon Ofnir held the same beliefs.'\n"
     ]
    },
    {
     "name": "stderr",
     "output_type": "stream",
     "text": [
      "INFO:httpx:HTTP Request: POST https://api.openai.com/v1/chat/completions \"HTTP/1.1 200 OK\"\n",
      "/Users/user/miniconda3/envs/graphmaker/lib/python3.11/site-packages/pydantic/main.py:1087: PydanticDeprecatedSince20: The `dict` method is deprecated; use `model_dump` instead. Deprecated in Pydantic V2.0 to be removed in V3.0. See Pydantic V2 Migration Guide at https://errors.pydantic.dev/2.8/migration/\n",
      "  warnings.warn('The `dict` method is deprecated; use `model_dump` instead.', category=PydanticDeprecatedSince20)\n",
      "INFO:httpx:HTTP Request: POST https://api.openai.com/v1/chat/completions \"HTTP/1.1 200 OK\"\n",
      "/Users/user/miniconda3/envs/graphmaker/lib/python3.11/site-packages/pydantic/main.py:1087: PydanticDeprecatedSince20: The `dict` method is deprecated; use `model_dump` instead. Deprecated in Pydantic V2.0 to be removed in V3.0. See Pydantic V2 Migration Guide at https://errors.pydantic.dev/2.8/migration/\n",
      "  warnings.warn('The `dict` method is deprecated; use `model_dump` instead.', category=PydanticDeprecatedSince20)\n"
     ]
    },
    {
     "name": "stdout",
     "output_type": "stream",
     "text": [
      "Chunk Found (9d5c2), adding to: Warrior Skills & Justice Beliefs\n"
     ]
    },
    {
     "name": "stderr",
     "output_type": "stream",
     "text": [
      "INFO:httpx:HTTP Request: POST https://api.openai.com/v1/chat/completions \"HTTP/1.1 200 OK\"\n",
      "/Users/user/miniconda3/envs/graphmaker/lib/python3.11/site-packages/pydantic/main.py:1087: PydanticDeprecatedSince20: The `dict` method is deprecated; use `model_dump` instead. Deprecated in Pydantic V2.0 to be removed in V3.0. See Pydantic V2 Migration Guide at https://errors.pydantic.dev/2.8/migration/\n",
      "  warnings.warn('The `dict` method is deprecated; use `model_dump` instead.', category=PydanticDeprecatedSince20)\n",
      "INFO:httpx:HTTP Request: POST https://api.openai.com/v1/chat/completions \"HTTP/1.1 200 OK\"\n",
      "/Users/user/miniconda3/envs/graphmaker/lib/python3.11/site-packages/pydantic/main.py:1087: PydanticDeprecatedSince20: The `dict` method is deprecated; use `model_dump` instead. Deprecated in Pydantic V2.0 to be removed in V3.0. See Pydantic V2 Migration Guide at https://errors.pydantic.dev/2.8/migration/\n",
      "  warnings.warn('The `dict` method is deprecated; use `model_dump` instead.', category=PydanticDeprecatedSince20)\n"
     ]
    },
    {
     "name": "stdout",
     "output_type": "stream",
     "text": [
      "\n",
      "Adding: 'Nepheli Loux learned that Sir Gideon Ofnir was the mastermind behind the attack on the Village of the Albinaurics.'\n"
     ]
    },
    {
     "name": "stderr",
     "output_type": "stream",
     "text": [
      "INFO:httpx:HTTP Request: POST https://api.openai.com/v1/chat/completions \"HTTP/1.1 200 OK\"\n",
      "/Users/user/miniconda3/envs/graphmaker/lib/python3.11/site-packages/pydantic/main.py:1087: PydanticDeprecatedSince20: The `dict` method is deprecated; use `model_dump` instead. Deprecated in Pydantic V2.0 to be removed in V3.0. See Pydantic V2 Migration Guide at https://errors.pydantic.dev/2.8/migration/\n",
      "  warnings.warn('The `dict` method is deprecated; use `model_dump` instead.', category=PydanticDeprecatedSince20)\n",
      "INFO:httpx:HTTP Request: POST https://api.openai.com/v1/chat/completions \"HTTP/1.1 200 OK\"\n",
      "/Users/user/miniconda3/envs/graphmaker/lib/python3.11/site-packages/pydantic/main.py:1087: PydanticDeprecatedSince20: The `dict` method is deprecated; use `model_dump` instead. Deprecated in Pydantic V2.0 to be removed in V3.0. See Pydantic V2 Migration Guide at https://errors.pydantic.dev/2.8/migration/\n",
      "  warnings.warn('The `dict` method is deprecated; use `model_dump` instead.', category=PydanticDeprecatedSince20)\n"
     ]
    },
    {
     "name": "stdout",
     "output_type": "stream",
     "text": [
      "Chunk Found (9d5c2), adding to: Warrior Skills & Justice Principles\n"
     ]
    },
    {
     "name": "stderr",
     "output_type": "stream",
     "text": [
      "INFO:httpx:HTTP Request: POST https://api.openai.com/v1/chat/completions \"HTTP/1.1 200 OK\"\n",
      "/Users/user/miniconda3/envs/graphmaker/lib/python3.11/site-packages/pydantic/main.py:1087: PydanticDeprecatedSince20: The `dict` method is deprecated; use `model_dump` instead. Deprecated in Pydantic V2.0 to be removed in V3.0. See Pydantic V2 Migration Guide at https://errors.pydantic.dev/2.8/migration/\n",
      "  warnings.warn('The `dict` method is deprecated; use `model_dump` instead.', category=PydanticDeprecatedSince20)\n",
      "INFO:httpx:HTTP Request: POST https://api.openai.com/v1/chat/completions \"HTTP/1.1 200 OK\"\n",
      "/Users/user/miniconda3/envs/graphmaker/lib/python3.11/site-packages/pydantic/main.py:1087: PydanticDeprecatedSince20: The `dict` method is deprecated; use `model_dump` instead. Deprecated in Pydantic V2.0 to be removed in V3.0. See Pydantic V2 Migration Guide at https://errors.pydantic.dev/2.8/migration/\n",
      "  warnings.warn('The `dict` method is deprecated; use `model_dump` instead.', category=PydanticDeprecatedSince20)\n"
     ]
    },
    {
     "name": "stdout",
     "output_type": "stream",
     "text": [
      "\n",
      "Adding: 'After learning this information, Nepheli Loux loses faith in Sir Gideon Ofnir.'\n"
     ]
    },
    {
     "name": "stderr",
     "output_type": "stream",
     "text": [
      "INFO:httpx:HTTP Request: POST https://api.openai.com/v1/chat/completions \"HTTP/1.1 200 OK\"\n",
      "/Users/user/miniconda3/envs/graphmaker/lib/python3.11/site-packages/pydantic/main.py:1087: PydanticDeprecatedSince20: The `dict` method is deprecated; use `model_dump` instead. Deprecated in Pydantic V2.0 to be removed in V3.0. See Pydantic V2 Migration Guide at https://errors.pydantic.dev/2.8/migration/\n",
      "  warnings.warn('The `dict` method is deprecated; use `model_dump` instead.', category=PydanticDeprecatedSince20)\n",
      "INFO:httpx:HTTP Request: POST https://api.openai.com/v1/chat/completions \"HTTP/1.1 200 OK\"\n",
      "/Users/user/miniconda3/envs/graphmaker/lib/python3.11/site-packages/pydantic/main.py:1087: PydanticDeprecatedSince20: The `dict` method is deprecated; use `model_dump` instead. Deprecated in Pydantic V2.0 to be removed in V3.0. See Pydantic V2 Migration Guide at https://errors.pydantic.dev/2.8/migration/\n",
      "  warnings.warn('The `dict` method is deprecated; use `model_dump` instead.', category=PydanticDeprecatedSince20)\n"
     ]
    },
    {
     "name": "stdout",
     "output_type": "stream",
     "text": [
      "Chunk Found (9d5c2), adding to: Warrior Skills & Evolving Beliefs\n"
     ]
    },
    {
     "name": "stderr",
     "output_type": "stream",
     "text": [
      "INFO:httpx:HTTP Request: POST https://api.openai.com/v1/chat/completions \"HTTP/1.1 200 OK\"\n",
      "/Users/user/miniconda3/envs/graphmaker/lib/python3.11/site-packages/pydantic/main.py:1087: PydanticDeprecatedSince20: The `dict` method is deprecated; use `model_dump` instead. Deprecated in Pydantic V2.0 to be removed in V3.0. See Pydantic V2 Migration Guide at https://errors.pydantic.dev/2.8/migration/\n",
      "  warnings.warn('The `dict` method is deprecated; use `model_dump` instead.', category=PydanticDeprecatedSince20)\n",
      "INFO:httpx:HTTP Request: POST https://api.openai.com/v1/chat/completions \"HTTP/1.1 200 OK\"\n",
      "/Users/user/miniconda3/envs/graphmaker/lib/python3.11/site-packages/pydantic/main.py:1087: PydanticDeprecatedSince20: The `dict` method is deprecated; use `model_dump` instead. Deprecated in Pydantic V2.0 to be removed in V3.0. See Pydantic V2 Migration Guide at https://errors.pydantic.dev/2.8/migration/\n",
      "  warnings.warn('The `dict` method is deprecated; use `model_dump` instead.', category=PydanticDeprecatedSince20)\n"
     ]
    },
    {
     "name": "stdout",
     "output_type": "stream",
     "text": [
      "\n",
      "Adding: 'It is speculated that Nepheli Loux has ties with the first Elden Lord, Godfrey.'\n"
     ]
    },
    {
     "name": "stderr",
     "output_type": "stream",
     "text": [
      "INFO:httpx:HTTP Request: POST https://api.openai.com/v1/chat/completions \"HTTP/1.1 200 OK\"\n",
      "/Users/user/miniconda3/envs/graphmaker/lib/python3.11/site-packages/pydantic/main.py:1087: PydanticDeprecatedSince20: The `dict` method is deprecated; use `model_dump` instead. Deprecated in Pydantic V2.0 to be removed in V3.0. See Pydantic V2 Migration Guide at https://errors.pydantic.dev/2.8/migration/\n",
      "  warnings.warn('The `dict` method is deprecated; use `model_dump` instead.', category=PydanticDeprecatedSince20)\n",
      "INFO:httpx:HTTP Request: POST https://api.openai.com/v1/chat/completions \"HTTP/1.1 200 OK\"\n",
      "/Users/user/miniconda3/envs/graphmaker/lib/python3.11/site-packages/pydantic/main.py:1087: PydanticDeprecatedSince20: The `dict` method is deprecated; use `model_dump` instead. Deprecated in Pydantic V2.0 to be removed in V3.0. See Pydantic V2 Migration Guide at https://errors.pydantic.dev/2.8/migration/\n",
      "  warnings.warn('The `dict` method is deprecated; use `model_dump` instead.', category=PydanticDeprecatedSince20)\n"
     ]
    },
    {
     "name": "stdout",
     "output_type": "stream",
     "text": [
      "Chunk Found (9d5c2), adding to: Warrior Skills & Justice Beliefs\n"
     ]
    },
    {
     "name": "stderr",
     "output_type": "stream",
     "text": [
      "INFO:httpx:HTTP Request: POST https://api.openai.com/v1/chat/completions \"HTTP/1.1 200 OK\"\n",
      "/Users/user/miniconda3/envs/graphmaker/lib/python3.11/site-packages/pydantic/main.py:1087: PydanticDeprecatedSince20: The `dict` method is deprecated; use `model_dump` instead. Deprecated in Pydantic V2.0 to be removed in V3.0. See Pydantic V2 Migration Guide at https://errors.pydantic.dev/2.8/migration/\n",
      "  warnings.warn('The `dict` method is deprecated; use `model_dump` instead.', category=PydanticDeprecatedSince20)\n",
      "INFO:httpx:HTTP Request: POST https://api.openai.com/v1/chat/completions \"HTTP/1.1 200 OK\"\n",
      "/Users/user/miniconda3/envs/graphmaker/lib/python3.11/site-packages/pydantic/main.py:1087: PydanticDeprecatedSince20: The `dict` method is deprecated; use `model_dump` instead. Deprecated in Pydantic V2.0 to be removed in V3.0. See Pydantic V2 Migration Guide at https://errors.pydantic.dev/2.8/migration/\n",
      "  warnings.warn('The `dict` method is deprecated; use `model_dump` instead.', category=PydanticDeprecatedSince20)\n"
     ]
    },
    {
     "name": "stdout",
     "output_type": "stream",
     "text": [
      "\n",
      "Adding: 'Nepheli Loux has ties with the Golden Lineage.'\n"
     ]
    },
    {
     "name": "stderr",
     "output_type": "stream",
     "text": [
      "INFO:httpx:HTTP Request: POST https://api.openai.com/v1/chat/completions \"HTTP/1.1 200 OK\"\n",
      "/Users/user/miniconda3/envs/graphmaker/lib/python3.11/site-packages/pydantic/main.py:1087: PydanticDeprecatedSince20: The `dict` method is deprecated; use `model_dump` instead. Deprecated in Pydantic V2.0 to be removed in V3.0. See Pydantic V2 Migration Guide at https://errors.pydantic.dev/2.8/migration/\n",
      "  warnings.warn('The `dict` method is deprecated; use `model_dump` instead.', category=PydanticDeprecatedSince20)\n",
      "INFO:httpx:HTTP Request: POST https://api.openai.com/v1/chat/completions \"HTTP/1.1 200 OK\"\n",
      "/Users/user/miniconda3/envs/graphmaker/lib/python3.11/site-packages/pydantic/main.py:1087: PydanticDeprecatedSince20: The `dict` method is deprecated; use `model_dump` instead. Deprecated in Pydantic V2.0 to be removed in V3.0. See Pydantic V2 Migration Guide at https://errors.pydantic.dev/2.8/migration/\n",
      "  warnings.warn('The `dict` method is deprecated; use `model_dump` instead.', category=PydanticDeprecatedSince20)\n"
     ]
    },
    {
     "name": "stdout",
     "output_type": "stream",
     "text": [
      "Chunk Found (9d5c2), adding to: Nepheli Loux: Warrior, Justice, and Disillusionment\n"
     ]
    },
    {
     "name": "stderr",
     "output_type": "stream",
     "text": [
      "INFO:httpx:HTTP Request: POST https://api.openai.com/v1/chat/completions \"HTTP/1.1 200 OK\"\n",
      "/Users/user/miniconda3/envs/graphmaker/lib/python3.11/site-packages/pydantic/main.py:1087: PydanticDeprecatedSince20: The `dict` method is deprecated; use `model_dump` instead. Deprecated in Pydantic V2.0 to be removed in V3.0. See Pydantic V2 Migration Guide at https://errors.pydantic.dev/2.8/migration/\n",
      "  warnings.warn('The `dict` method is deprecated; use `model_dump` instead.', category=PydanticDeprecatedSince20)\n",
      "INFO:httpx:HTTP Request: POST https://api.openai.com/v1/chat/completions \"HTTP/1.1 200 OK\"\n",
      "/Users/user/miniconda3/envs/graphmaker/lib/python3.11/site-packages/pydantic/main.py:1087: PydanticDeprecatedSince20: The `dict` method is deprecated; use `model_dump` instead. Deprecated in Pydantic V2.0 to be removed in V3.0. See Pydantic V2 Migration Guide at https://errors.pydantic.dev/2.8/migration/\n",
      "  warnings.warn('The `dict` method is deprecated; use `model_dump` instead.', category=PydanticDeprecatedSince20)\n"
     ]
    },
    {
     "name": "stdout",
     "output_type": "stream",
     "text": [
      "\n",
      "Adding: 'Nepheli Loux bears the same last name as Hoarah Loux.'\n"
     ]
    },
    {
     "name": "stderr",
     "output_type": "stream",
     "text": [
      "INFO:httpx:HTTP Request: POST https://api.openai.com/v1/chat/completions \"HTTP/1.1 200 OK\"\n",
      "/Users/user/miniconda3/envs/graphmaker/lib/python3.11/site-packages/pydantic/main.py:1087: PydanticDeprecatedSince20: The `dict` method is deprecated; use `model_dump` instead. Deprecated in Pydantic V2.0 to be removed in V3.0. See Pydantic V2 Migration Guide at https://errors.pydantic.dev/2.8/migration/\n",
      "  warnings.warn('The `dict` method is deprecated; use `model_dump` instead.', category=PydanticDeprecatedSince20)\n",
      "INFO:httpx:HTTP Request: POST https://api.openai.com/v1/chat/completions \"HTTP/1.1 200 OK\"\n",
      "/Users/user/miniconda3/envs/graphmaker/lib/python3.11/site-packages/pydantic/main.py:1087: PydanticDeprecatedSince20: The `dict` method is deprecated; use `model_dump` instead. Deprecated in Pydantic V2.0 to be removed in V3.0. See Pydantic V2 Migration Guide at https://errors.pydantic.dev/2.8/migration/\n",
      "  warnings.warn('The `dict` method is deprecated; use `model_dump` instead.', category=PydanticDeprecatedSince20)\n"
     ]
    },
    {
     "name": "stdout",
     "output_type": "stream",
     "text": [
      "Chunk Found (9d5c2), adding to: Nepheli Loux: Warrior, Beliefs, and Lineage\n"
     ]
    },
    {
     "name": "stderr",
     "output_type": "stream",
     "text": [
      "INFO:httpx:HTTP Request: POST https://api.openai.com/v1/chat/completions \"HTTP/1.1 200 OK\"\n",
      "/Users/user/miniconda3/envs/graphmaker/lib/python3.11/site-packages/pydantic/main.py:1087: PydanticDeprecatedSince20: The `dict` method is deprecated; use `model_dump` instead. Deprecated in Pydantic V2.0 to be removed in V3.0. See Pydantic V2 Migration Guide at https://errors.pydantic.dev/2.8/migration/\n",
      "  warnings.warn('The `dict` method is deprecated; use `model_dump` instead.', category=PydanticDeprecatedSince20)\n",
      "INFO:httpx:HTTP Request: POST https://api.openai.com/v1/chat/completions \"HTTP/1.1 200 OK\"\n",
      "/Users/user/miniconda3/envs/graphmaker/lib/python3.11/site-packages/pydantic/main.py:1087: PydanticDeprecatedSince20: The `dict` method is deprecated; use `model_dump` instead. Deprecated in Pydantic V2.0 to be removed in V3.0. See Pydantic V2 Migration Guide at https://errors.pydantic.dev/2.8/migration/\n",
      "  warnings.warn('The `dict` method is deprecated; use `model_dump` instead.', category=PydanticDeprecatedSince20)\n"
     ]
    },
    {
     "name": "stdout",
     "output_type": "stream",
     "text": [
      "\n",
      "Adding: 'Kenneth Haight deems Nepheli Loux worthy of taking up the mantle of leader of Limgrave.'\n"
     ]
    },
    {
     "name": "stderr",
     "output_type": "stream",
     "text": [
      "INFO:httpx:HTTP Request: POST https://api.openai.com/v1/chat/completions \"HTTP/1.1 200 OK\"\n",
      "/Users/user/miniconda3/envs/graphmaker/lib/python3.11/site-packages/pydantic/main.py:1087: PydanticDeprecatedSince20: The `dict` method is deprecated; use `model_dump` instead. Deprecated in Pydantic V2.0 to be removed in V3.0. See Pydantic V2 Migration Guide at https://errors.pydantic.dev/2.8/migration/\n",
      "  warnings.warn('The `dict` method is deprecated; use `model_dump` instead.', category=PydanticDeprecatedSince20)\n",
      "INFO:httpx:HTTP Request: POST https://api.openai.com/v1/chat/completions \"HTTP/1.1 200 OK\"\n",
      "/Users/user/miniconda3/envs/graphmaker/lib/python3.11/site-packages/pydantic/main.py:1087: PydanticDeprecatedSince20: The `dict` method is deprecated; use `model_dump` instead. Deprecated in Pydantic V2.0 to be removed in V3.0. See Pydantic V2 Migration Guide at https://errors.pydantic.dev/2.8/migration/\n",
      "  warnings.warn('The `dict` method is deprecated; use `model_dump` instead.', category=PydanticDeprecatedSince20)\n"
     ]
    },
    {
     "name": "stdout",
     "output_type": "stream",
     "text": [
      "Chunk Found (9d5c2), adding to: Nepheli Loux: Warrior, Justice, and Heritage\n"
     ]
    },
    {
     "name": "stderr",
     "output_type": "stream",
     "text": [
      "INFO:httpx:HTTP Request: POST https://api.openai.com/v1/chat/completions \"HTTP/1.1 200 OK\"\n",
      "/Users/user/miniconda3/envs/graphmaker/lib/python3.11/site-packages/pydantic/main.py:1087: PydanticDeprecatedSince20: The `dict` method is deprecated; use `model_dump` instead. Deprecated in Pydantic V2.0 to be removed in V3.0. See Pydantic V2 Migration Guide at https://errors.pydantic.dev/2.8/migration/\n",
      "  warnings.warn('The `dict` method is deprecated; use `model_dump` instead.', category=PydanticDeprecatedSince20)\n",
      "INFO:httpx:HTTP Request: POST https://api.openai.com/v1/chat/completions \"HTTP/1.1 200 OK\"\n",
      "/Users/user/miniconda3/envs/graphmaker/lib/python3.11/site-packages/pydantic/main.py:1087: PydanticDeprecatedSince20: The `dict` method is deprecated; use `model_dump` instead. Deprecated in Pydantic V2.0 to be removed in V3.0. See Pydantic V2 Migration Guide at https://errors.pydantic.dev/2.8/migration/\n",
      "  warnings.warn('The `dict` method is deprecated; use `model_dump` instead.', category=PydanticDeprecatedSince20)\n"
     ]
    },
    {
     "name": "stdout",
     "output_type": "stream",
     "text": [
      "\n",
      "Adding: 'Kenneth Haight is a member of the Erdtree royalty.'\n"
     ]
    },
    {
     "name": "stderr",
     "output_type": "stream",
     "text": [
      "INFO:httpx:HTTP Request: POST https://api.openai.com/v1/chat/completions \"HTTP/1.1 200 OK\"\n",
      "/Users/user/miniconda3/envs/graphmaker/lib/python3.11/site-packages/pydantic/main.py:1087: PydanticDeprecatedSince20: The `dict` method is deprecated; use `model_dump` instead. Deprecated in Pydantic V2.0 to be removed in V3.0. See Pydantic V2 Migration Guide at https://errors.pydantic.dev/2.8/migration/\n",
      "  warnings.warn('The `dict` method is deprecated; use `model_dump` instead.', category=PydanticDeprecatedSince20)\n",
      "INFO:httpx:HTTP Request: POST https://api.openai.com/v1/chat/completions \"HTTP/1.1 200 OK\"\n",
      "/Users/user/miniconda3/envs/graphmaker/lib/python3.11/site-packages/pydantic/main.py:1087: PydanticDeprecatedSince20: The `dict` method is deprecated; use `model_dump` instead. Deprecated in Pydantic V2.0 to be removed in V3.0. See Pydantic V2 Migration Guide at https://errors.pydantic.dev/2.8/migration/\n",
      "  warnings.warn('The `dict` method is deprecated; use `model_dump` instead.', category=PydanticDeprecatedSince20)\n"
     ]
    },
    {
     "name": "stdout",
     "output_type": "stream",
     "text": [
      "Chunk Found (36362), adding to: Elden Ring Lore & Mythos\n"
     ]
    },
    {
     "name": "stderr",
     "output_type": "stream",
     "text": [
      "INFO:httpx:HTTP Request: POST https://api.openai.com/v1/chat/completions \"HTTP/1.1 200 OK\"\n",
      "/Users/user/miniconda3/envs/graphmaker/lib/python3.11/site-packages/pydantic/main.py:1087: PydanticDeprecatedSince20: The `dict` method is deprecated; use `model_dump` instead. Deprecated in Pydantic V2.0 to be removed in V3.0. See Pydantic V2 Migration Guide at https://errors.pydantic.dev/2.8/migration/\n",
      "  warnings.warn('The `dict` method is deprecated; use `model_dump` instead.', category=PydanticDeprecatedSince20)\n",
      "INFO:httpx:HTTP Request: POST https://api.openai.com/v1/chat/completions \"HTTP/1.1 200 OK\"\n",
      "/Users/user/miniconda3/envs/graphmaker/lib/python3.11/site-packages/pydantic/main.py:1087: PydanticDeprecatedSince20: The `dict` method is deprecated; use `model_dump` instead. Deprecated in Pydantic V2.0 to be removed in V3.0. See Pydantic V2 Migration Guide at https://errors.pydantic.dev/2.8/migration/\n",
      "  warnings.warn('The `dict` method is deprecated; use `model_dump` instead.', category=PydanticDeprecatedSince20)\n"
     ]
    },
    {
     "name": "stdout",
     "output_type": "stream",
     "text": [
      "\n",
      "Adding: 'Kenneth Haight is a self-proclaimed rightful leader of Limgrave.'\n"
     ]
    },
    {
     "name": "stderr",
     "output_type": "stream",
     "text": [
      "INFO:httpx:HTTP Request: POST https://api.openai.com/v1/chat/completions \"HTTP/1.1 200 OK\"\n",
      "/Users/user/miniconda3/envs/graphmaker/lib/python3.11/site-packages/pydantic/main.py:1087: PydanticDeprecatedSince20: The `dict` method is deprecated; use `model_dump` instead. Deprecated in Pydantic V2.0 to be removed in V3.0. See Pydantic V2 Migration Guide at https://errors.pydantic.dev/2.8/migration/\n",
      "  warnings.warn('The `dict` method is deprecated; use `model_dump` instead.', category=PydanticDeprecatedSince20)\n",
      "INFO:httpx:HTTP Request: POST https://api.openai.com/v1/chat/completions \"HTTP/1.1 200 OK\"\n",
      "/Users/user/miniconda3/envs/graphmaker/lib/python3.11/site-packages/pydantic/main.py:1087: PydanticDeprecatedSince20: The `dict` method is deprecated; use `model_dump` instead. Deprecated in Pydantic V2.0 to be removed in V3.0. See Pydantic V2 Migration Guide at https://errors.pydantic.dev/2.8/migration/\n",
      "  warnings.warn('The `dict` method is deprecated; use `model_dump` instead.', category=PydanticDeprecatedSince20)\n"
     ]
    },
    {
     "name": "stdout",
     "output_type": "stream",
     "text": [
      "Chunk Found (9d5c2), adding to: Nepheli Loux: Warrior, Justice, and Legacy\n"
     ]
    },
    {
     "name": "stderr",
     "output_type": "stream",
     "text": [
      "INFO:httpx:HTTP Request: POST https://api.openai.com/v1/chat/completions \"HTTP/1.1 200 OK\"\n",
      "/Users/user/miniconda3/envs/graphmaker/lib/python3.11/site-packages/pydantic/main.py:1087: PydanticDeprecatedSince20: The `dict` method is deprecated; use `model_dump` instead. Deprecated in Pydantic V2.0 to be removed in V3.0. See Pydantic V2 Migration Guide at https://errors.pydantic.dev/2.8/migration/\n",
      "  warnings.warn('The `dict` method is deprecated; use `model_dump` instead.', category=PydanticDeprecatedSince20)\n",
      "INFO:httpx:HTTP Request: POST https://api.openai.com/v1/chat/completions \"HTTP/1.1 200 OK\"\n",
      "/Users/user/miniconda3/envs/graphmaker/lib/python3.11/site-packages/pydantic/main.py:1087: PydanticDeprecatedSince20: The `dict` method is deprecated; use `model_dump` instead. Deprecated in Pydantic V2.0 to be removed in V3.0. See Pydantic V2 Migration Guide at https://errors.pydantic.dev/2.8/migration/\n",
      "  warnings.warn('The `dict` method is deprecated; use `model_dump` instead.', category=PydanticDeprecatedSince20)\n"
     ]
    },
    {
     "name": "stdout",
     "output_type": "stream",
     "text": [
      "\n",
      "Adding: 'Kenneth Haight is the owner of Fort Haight.'\n"
     ]
    },
    {
     "name": "stderr",
     "output_type": "stream",
     "text": [
      "INFO:httpx:HTTP Request: POST https://api.openai.com/v1/chat/completions \"HTTP/1.1 200 OK\"\n",
      "/Users/user/miniconda3/envs/graphmaker/lib/python3.11/site-packages/pydantic/main.py:1087: PydanticDeprecatedSince20: The `dict` method is deprecated; use `model_dump` instead. Deprecated in Pydantic V2.0 to be removed in V3.0. See Pydantic V2 Migration Guide at https://errors.pydantic.dev/2.8/migration/\n",
      "  warnings.warn('The `dict` method is deprecated; use `model_dump` instead.', category=PydanticDeprecatedSince20)\n",
      "INFO:httpx:HTTP Request: POST https://api.openai.com/v1/chat/completions \"HTTP/1.1 200 OK\"\n",
      "/Users/user/miniconda3/envs/graphmaker/lib/python3.11/site-packages/pydantic/main.py:1087: PydanticDeprecatedSince20: The `dict` method is deprecated; use `model_dump` instead. Deprecated in Pydantic V2.0 to be removed in V3.0. See Pydantic V2 Migration Guide at https://errors.pydantic.dev/2.8/migration/\n",
      "  warnings.warn('The `dict` method is deprecated; use `model_dump` instead.', category=PydanticDeprecatedSince20)\n"
     ]
    },
    {
     "ename": "TypeError",
     "evalue": "object of type 'NoneType' has no len()",
     "output_type": "error",
     "traceback": [
      "\u001b[0;31m---------------------------------------------------------------------------\u001b[0m",
      "\u001b[0;31mTypeError\u001b[0m                                 Traceback (most recent call last)",
      "Cell \u001b[0;32mIn[27], line 1\u001b[0m\n\u001b[0;32m----> 1\u001b[0m \u001b[43mac\u001b[49m\u001b[38;5;241;43m.\u001b[39;49m\u001b[43madd_propositions\u001b[49m\u001b[43m(\u001b[49m\u001b[43merp\u001b[49m\u001b[43m)\u001b[49m\n",
      "File \u001b[0;32m~/Documents/GitHub/EldenRing-GraphRAG/agentic_chunker.py:31\u001b[0m, in \u001b[0;36mAgenticChunker.add_propositions\u001b[0;34m(self, propositions)\u001b[0m\n\u001b[1;32m     29\u001b[0m \u001b[38;5;28;01mdef\u001b[39;00m \u001b[38;5;21madd_propositions\u001b[39m(\u001b[38;5;28mself\u001b[39m, propositions):\n\u001b[1;32m     30\u001b[0m     \u001b[38;5;28;01mfor\u001b[39;00m proposition \u001b[38;5;129;01min\u001b[39;00m propositions:\n\u001b[0;32m---> 31\u001b[0m         \u001b[38;5;28;43mself\u001b[39;49m\u001b[38;5;241;43m.\u001b[39;49m\u001b[43madd_proposition\u001b[49m\u001b[43m(\u001b[49m\u001b[43mproposition\u001b[49m\u001b[43m)\u001b[49m\n",
      "File \u001b[0;32m~/Documents/GitHub/EldenRing-GraphRAG/agentic_chunker.py:44\u001b[0m, in \u001b[0;36mAgenticChunker.add_proposition\u001b[0;34m(self, proposition)\u001b[0m\n\u001b[1;32m     41\u001b[0m     \u001b[38;5;28mself\u001b[39m\u001b[38;5;241m.\u001b[39m_create_new_chunk(proposition)\n\u001b[1;32m     42\u001b[0m     \u001b[38;5;28;01mreturn\u001b[39;00m\n\u001b[0;32m---> 44\u001b[0m chunk_id \u001b[38;5;241m=\u001b[39m \u001b[38;5;28;43mself\u001b[39;49m\u001b[38;5;241;43m.\u001b[39;49m\u001b[43m_find_relevant_chunk\u001b[49m\u001b[43m(\u001b[49m\u001b[43mproposition\u001b[49m\u001b[43m)\u001b[49m\n\u001b[1;32m     46\u001b[0m \u001b[38;5;66;03m# If a chunk was found then add the proposition to it\u001b[39;00m\n\u001b[1;32m     47\u001b[0m \u001b[38;5;28;01mif\u001b[39;00m chunk_id:\n",
      "File \u001b[0;32m~/Documents/GitHub/EldenRing-GraphRAG/agentic_chunker.py:302\u001b[0m, in \u001b[0;36mAgenticChunker._find_relevant_chunk\u001b[0;34m(self, proposition)\u001b[0m\n\u001b[1;32m    298\u001b[0m     chunk_found \u001b[38;5;241m=\u001b[39m extraction_found[\u001b[38;5;241m0\u001b[39m]\u001b[38;5;241m.\u001b[39mchunk_id\n\u001b[1;32m    300\u001b[0m \u001b[38;5;66;03m# If you got a response that isn't the chunk id limit, chances are it's a bad response or it found nothing\u001b[39;00m\n\u001b[1;32m    301\u001b[0m \u001b[38;5;66;03m# So return nothing\u001b[39;00m\n\u001b[0;32m--> 302\u001b[0m \u001b[38;5;28;01mif\u001b[39;00m \u001b[38;5;28mlen\u001b[39m(chunk_found) \u001b[38;5;241m!=\u001b[39m \u001b[38;5;28mself\u001b[39m\u001b[38;5;241m.\u001b[39mid_truncate_limit:\n\u001b[1;32m    303\u001b[0m     \u001b[38;5;28;01mreturn\u001b[39;00m \u001b[38;5;28;01mNone\u001b[39;00m\n\u001b[1;32m    305\u001b[0m \u001b[38;5;28;01mreturn\u001b[39;00m chunk_found\n",
      "\u001b[0;31mTypeError\u001b[0m: object of type 'NoneType' has no len()"
     ]
    }
   ],
   "source": [
    "ac.add_propositions(erp)"
   ]
  },
  {
   "cell_type": "code",
   "execution_count": 28,
   "metadata": {},
   "outputs": [
    {
     "name": "stdout",
     "output_type": "stream",
     "text": [
      "\n",
      "You have 12 chunks\n",
      "\n",
      "Chunk #0\n",
      "Chunk ID: 36362\n",
      "Summary: This chunk contains detailed information about the lore, mythos, and history of the Elden Ring universe, focusing on the shattering of the Elden Ring, the roles of key characters, and the dynamics of the Lands Between; please add any new propositions that explore the significance of the Great Runes, the nature of the demigods' powers, and the overarching themes of power, grace, and the influence of the Frenzied Flame, as well as further details about character backgrounds, motivations, and their interactions within the narrative.\n",
      "Propositions:\n",
      "    -Lore in Elden Ring covers all the information related to the world of Elden Ring.\n",
      "    -Lore in Elden Ring covers all the information related to the mythos of Elden Ring.\n",
      "    -Lore in Elden Ring includes past events that occurred long ago.\n",
      "    -Lore in Elden Ring includes the history of the Lands Between.\n",
      "    -Lore in Elden Ring includes the mystery of the elusive Elden Ring.\n",
      "    -All information related to the world and mythos of Elden Ring can be found on this page.\n",
      "    -The Mythos of Elden Ring was written by George R. R. Martin.\n",
      "    -The Shattering is a devastating war between the children of Marika.\n",
      "    -The children of Marika are Demigods of the Lands Between.\n",
      "    -After Godwyn the Golden's death, the Elden Ring was somehow shattered.\n",
      "    -The power of a Great Rune fueled the conflict.\n",
      "    -The battle of General Radahn against Malenia the Severed illustrated that neither strength nor skill alone would be enough to take control of the entirety of the lands Marika had united.\n",
      "    -The Shattering was initiated by the demigods’ hunger for power.\n",
      "    -The Lands Between is the world of Elden Ring.\n",
      "    -Those who live in The Lands Between were blessed by Grace through the Elden Ring.\n",
      "    -Those who live in The Lands Between were blessed by Grace through the Erdtree.\n",
      "    -Those who were blessed by the Elden Ring are characterized by having a golden aura that can be seen in their eyes.\n",
      "    -At some point, some of those who were blessed lost their grace.\n",
      "    -Those who lost their grace were exiled and labeled the Tarnished.\n",
      "    -At some point in time, the Elden Ring was shattered.\n",
      "    -The shards of the Elden Ring were scattered across the Lands Between.\n",
      "    -The largest pieces of the Elden Ring were called Great Runes.\n",
      "    -The Great Runes were claimed by the six Demigod children of Queen Marika the Eternal.\n",
      "    -The six Demigod children of Queen Marika the Eternal inherited different powers.\n",
      "    -The six Demigod children of Queen Marika the Eternal were physically changed and twisted due to being corrupted by the power of the Great Runes.\n",
      "    -The Lands Between is divided into seven distinct areas.\n",
      "    -Melina is one of the first people the Tarnished encounters on their journey.\n",
      "    -Melina maintains an air of mystery throughout the game.\n",
      "    -Melina does not have a physical form.\n",
      "    -Melina acts as the Tarnished's Finger Maiden in exchange for taking Melina to the Erdtree.\n",
      "    -Later on, Melina asks the Tarnished to take her to the Mountaintops of the Giants.\n",
      "    -Melina approaches the Tarnished to aid her in her search for her purpose.\n",
      "    -Melina believes that her purpose was given to her by her mother.\n",
      "    -Melina believes that her mother can be found at the base of the Erdtree.\n",
      "    -Many people speculate that Melina's mother is Marika.\n",
      "    -When summoned, Melina wields the Blade of Calling.\n",
      "    -The Blade of Calling is a dagger that was previously owned by the kindling maiden.\n",
      "    -Melina's role as kindling is fitting when the Erdtree is burnt down.\n",
      "    -Speaking with Melina at various Sites of Grace reveals her ability to recall echoes of Queen Marika's past actions and words.\n",
      "    -Melina offers echoes of Queen Marika's past actions and words in lieu of a 'maiden's guidance'.\n",
      "    -Melina holds contempt for the Frenzied Flame.\n",
      "    -Melina believes that whoever lords over the chaos and damage brought by the Frenzied Flame is no Lord at all.\n",
      "    -If the Tarnished takes the Frenzied Flame before the event at the Forge of the Giants, Melina will leave the Tarnished.\n",
      "    -Melina will threaten to deliver the Tarnished Destined Death once they become Lord of the Frenzied Flame.\n",
      "    -The White Masks encountered in Mohgwyn Palace were initially abducted by Mogh.\n",
      "    -Mogh was the Lord of Blood.\n",
      "    -The White Masks were turned into Bloody Fingers through an unknown ritual.\n",
      "    -The unknown ritual involved Mogh's accursed Omen blood.\n",
      "    -Of the four White Masks encountered in the game, Varre was able to withstand and tame the accursed blood.\n",
      "    -Varre remains loyal to the Mohgwyn Dynasty despite being abducted by the Lord of Blood.\n",
      "    -Varre tries to indoctrinate the Tarnished into the Mohgwyn Dynasty.\n",
      "    -Varre calls out to Mohg at the end of his questline.\n",
      "    -Varre blesses the Mohgwyn Dynasty even as he is dying.\n",
      "    -Varre was forsaken by his Lord.\n",
      "    -Yura is a samurai from the Land of Reeds.\n",
      "    -Yura's purpose is to hunt down Bloody Fingers.\n",
      "    -Yura's biggest target is Eleonora.\n",
      "    -Yura warns the Tarnished against the dangers of Dragon Communion.\n",
      "    -Yura states that those who partake in Dragon Communion one day lose their humanity.\n",
      "    -Other Bloody Fingers that the Tarnished encounter are targets of Yura.\n",
      "    -Sorcerer Rogier is a Tarnished.\n",
      "    -Sorcerer Rogier has an easy-going nature.\n",
      "    -Sorcerer Rogier is said to be a wise and powerful sorcerer by his old travelling companion, D.\n",
      "    -Sorcerer Rogier was once a scholar.\n",
      "    -Sorcerer Rogier was seeking the truth behind the Night of the Black Knives.\n",
      "    -Sorcerer Rogier's scholarly pursuits eventually brought him under Stormveil Castle.\n",
      "    -Sorcerer Rogier found and disturbed a corpse under Stormveil Castle.\n",
      "    -Disturbing the corpse caused Sorcerer Rogier to be afflicted with Death.\n",
      "    -D sees Those Who Live in Death as a threat against the Golden Order.\n",
      "    -Sorcerer Rogier is empathetic towards Those Who Live in Death.\n",
      "    -Sorcerer Rogier believes Those Who Live in Death have committed no offence.\n",
      "    -By finishing Sorcerer Rogier's quest, the Tarnished is able to help Sorcerer Rogier reveal many insights about the night of the assassination.\n",
      "    -Sorcerer Rogier finally succumbs to his affliction.\n",
      "    -Fia is a Tarnished Deathbed Companion.\n",
      "    -Fia was driven from her home when awoken by the guidance of grace.\n",
      "    -Fia describes a Deathbed Companion as a person who receives warmth and life from numerous champions.\n",
      "    -A Deathbed Companion lays with the remains of an exalted noble to revive them.\n",
      "    -The act of laying with the remains of an exalted noble is revered in Fia's homeland.\n",
      "    -Fia is empathetic towards Those Who Live in Death.\n",
      "    -Fia has put it upon herself to be the guardian of Those Who Live in Death.\n",
      "    -Before meeting Fia at Deeproot Depths, the Tarnished will encounter Fia's champions.\n",
      "    -One of Fia's champions is Rogier.\n",
      "    -Another of Fia's champions is Lionel the Lionhearted.\n",
      "    -Lionel the Lionhearted is a knight Fia met on her journey to the Lands Between.\n",
      "    -Lionel the Lionhearted declared himself to be Fia's father.\n",
      "    -Fia implies that bringing together Ranni's half of the Cursemark of Death from the Divine Tower of Liurnia and Godwyn's half from D is significant.\n",
      "    -Fia implies that being Godwyn's Deathbed Companion will result in Godwyn being reborn as a rune.\n",
      "    -The rune representing Those Who Live in Death is called the Mending Rune of the Death-Prince.\n",
      "    -D is a devout follower of the Golden Order.\n",
      "    -D hunts Those Who Live in Death.\n",
      "    -D notably hunts Tibia Mariners for their Deathroot.\n",
      "    -Other Orders would have seen D and Darian as cursed beings.\n",
      "    -D states that Those Who Live in Death go against the principles of the Golden Order.\n",
      "    -D states that Those Who Live in Death must be exterminated.\n",
      "    -D is known as the Beholder of Death.\n",
      "    -Devin can be found slumbering in the Siofra Aqueduct while D is alive.\n",
      "    -Devin can be found grieving in the Siofra Aqueduct when D is dead.\n",
      "    -Gurranq is a large beastman who hungers for Deathroot.\n",
      "    -Roderika is a Tarnished who was driven away from her home across the sea.\n",
      "    -The cloak that Roderika wears implies that Roderika used to be a member of royalty.\n",
      "    -At some point upon arriving at the Lands Between, Roderika happened upon White Mask Varre.\n",
      "    -White Mask Varre gave Roderika the same advice as he gives the Tarnished at the beginning of their journey.\n",
      "    -White Mask Varre advised Roderika to seek Godrick and his Great Rune at Stormveil Castle.\n",
      "    -Upon arriving at Stormhill, the men escorting Roderika were taken and sacrificed for grafting.\n",
      "    -Roderika moves to the Roundtable Hold to find purpose after receiving the hopeful echoes of her men through the Chrysalids' Memento.\n",
      "    -Smithing Master Hewg recognises Roderika's potential for spirit tuning through Roderika's eyes.\n",
      "    -With a bit of encouragement from the Tarnished, Smithing Master Hewg trains Roderika to be a skillful spirit tuner.\n",
      "    -Sir Gideon Ofnir took Nepheli Loux in when Nepheli Loux lost the guidance of grace.\n",
      "    -Nepheli Loux became a Tarnished.\n",
      "    -Kenneth Haight is a member of the Erdtree royalty.\n",
      "\n",
      "\n",
      "\n",
      "Chunk #1\n",
      "Chunk ID: 20407\n",
      "Summary: This chunk contains information about content that includes significant spoilers.\n",
      "Propositions:\n",
      "    -This page contains heavy spoilers.\n",
      "\n",
      "\n",
      "\n",
      "Chunk #2\n",
      "Chunk ID: a12a9\n",
      "Summary: This chunk contains information about geographical locations and areas.\n",
      "Propositions:\n",
      "    -Limgrave is an area.\n",
      "\n",
      "\n",
      "\n",
      "Chunk #3\n",
      "Chunk ID: 9a920\n",
      "Summary: This chunk contains information about video games, specifically focusing on Elden Ring.\n",
      "Propositions:\n",
      "    -Elden Ring is a video game.\n",
      "\n",
      "\n",
      "\n",
      "Chunk #4\n",
      "Chunk ID: 6c4bd\n",
      "Summary: This chunk contains information about notable individuals in the video game industry and their roles.\n",
      "Propositions:\n",
      "    -Hidetaka Miyazaki is a game director.\n",
      "\n",
      "\n",
      "\n",
      "Chunk #5\n",
      "Chunk ID: f5b48\n",
      "Summary: This chunk contains information about twins, their names, consciousness, and their relationship within the Golden Order, including inferred names from D's voicelines.\n",
      "Propositions:\n",
      "    -D has a twin brother.\n",
      "    -D's twin brother's name is suggested to be Darian.\n",
      "    -One twin cannot be conscious when the other is conscious.\n",
      "    -The two twins found comfort in the Golden Order.\n",
      "    -D has a twin brother.\n",
      "    -The name of D's twin brother is inferred to be Devin from D's voicelines.\n",
      "\n",
      "\n",
      "\n",
      "Chunk #6\n",
      "Chunk ID: dd207\n",
      "Summary: This chunk contains information about the individuality and shared essence of D and Darian, their relationship with the Golden Order, and Devin's quest for revenge against D's killer.\n",
      "Propositions:\n",
      "    -D and Darian have separate bodies and separate minds.\n",
      "    -D and Darian share the same soul.\n",
      "    -The Golden Order is the one Order that does not see D and Darian as cursed beings.\n",
      "    -Despite not being able to talk and interact, D and Devin seem to be close.\n",
      "    -Devin swears revenge against D's killer.\n",
      "    -D's killer may be Fia or the Tarnished.\n",
      "    -Devin swears revenge when given D's armor set.\n",
      "\n",
      "\n",
      "\n",
      "Chunk #7\n",
      "Chunk ID: c6906\n",
      "Summary: This chunk contains information about Devin's communication and interaction challenges.\n",
      "Propositions:\n",
      "    -Devin is unable to talk and interact with D.\n",
      "\n",
      "\n",
      "\n",
      "Chunk #8\n",
      "Chunk ID: 1301d\n",
      "Summary: This chunk contains information about feelings of guilt and fear related to sacrifice and bravery.\n",
      "Propositions:\n",
      "    -Roderika feels guilt about the fact that she is too afraid to join the men who were sacrificed.\n",
      "\n",
      "\n",
      "\n",
      "Chunk #9\n",
      "Chunk ID: 1dbfc\n",
      "Summary: This chunk contains information about the relationship and interactions between Roderika and Smithing Master Hewg, emphasizing themes of loyalty, Hewg's mission to smith a powerful weapon, and his belief in the Tarnished's potential to become Elden Lord.\n",
      "Propositions:\n",
      "    -Roderika and Smithing Master Hewg become close.\n",
      "    -Even as the Roundtable Hold is burning down, Roderika stays behind with Smithing Master Hewg to repay his kindness.\n",
      "    -Smithing Master Hewg is a misbegotten chained and imprisoned at the Roundtable Hold.\n",
      "    -Smithing Master Hewg is tasked by Queen Marika to smith a weapon strong enough to kill a god.\n",
      "    -Smithing Master Hewg makes the task of smithing a weapon strong enough to kill a god his life goal.\n",
      "    -Smithing Master Hewg strongly believes that the Tarnished will be the one to become Elden Lord.\n",
      "    -Smithing Master Hewg will say that the Tarnished will be the one to become Elden Lord before he completely loses his memory.\n",
      "\n",
      "\n",
      "\n",
      "Chunk #10\n",
      "Chunk ID: 5008f\n",
      "Summary: This chunk contains information about familial relationships and connections between characters in a narrative.\n",
      "Propositions:\n",
      "    -Nepheli Loux is the adoptive daughter of Sir Gideon Ofnir.\n",
      "\n",
      "\n",
      "\n",
      "Chunk #11\n",
      "Chunk ID: 9d5c2\n",
      "Summary: This chunk contains information about Nepheli Loux's warrior skills, her beliefs in justice, her disillusionment with Sir Gideon Ofnir, and her connections to the Golden Lineage and Godfrey, along with her potential leadership role in Limgrave, including insights from Kenneth Haight.\n",
      "Propositions:\n",
      "    -Nepheli Loux is a skilled warrior.\n",
      "    -Nepheli Loux believes in standing up and enacting justice for the weak and oppressed.\n",
      "    -Nepheli Loux once believed that Sir Gideon Ofnir held the same beliefs.\n",
      "    -Nepheli Loux learned that Sir Gideon Ofnir was the mastermind behind the attack on the Village of the Albinaurics.\n",
      "    -After learning this information, Nepheli Loux loses faith in Sir Gideon Ofnir.\n",
      "    -It is speculated that Nepheli Loux has ties with the first Elden Lord, Godfrey.\n",
      "    -Nepheli Loux has ties with the Golden Lineage.\n",
      "    -Nepheli Loux bears the same last name as Hoarah Loux.\n",
      "    -Kenneth Haight deems Nepheli Loux worthy of taking up the mantle of leader of Limgrave.\n",
      "    -Kenneth Haight is a self-proclaimed rightful leader of Limgrave.\n",
      "\n",
      "\n",
      "\n"
     ]
    }
   ],
   "source": [
    "ac.pretty_print_chunks()"
   ]
  },
  {
   "cell_type": "code",
   "execution_count": 29,
   "metadata": {},
   "outputs": [
    {
     "name": "stdout",
     "output_type": "stream",
     "text": [
      "Chunk Outline\n",
      "\n",
      "Chunk ID: 36362\n",
      "Chunk Name: Elden Ring Lore & History\n",
      "Chunk Summary: This chunk contains detailed information about the lore, mythos, and history of the Elden Ring universe, focusing on the shattering of the Elden Ring, the roles of key characters, and the dynamics of the Lands Between; please add any new propositions that explore the significance of the Great Runes, the nature of the demigods' powers, and the overarching themes of power, grace, and the influence of the Frenzied Flame, as well as further details about character backgrounds, motivations, and their interactions within the narrative.\n",
      "\n",
      "Chunk ID: 20407\n",
      "Chunk Name: Spoilers\n",
      "Chunk Summary: This chunk contains information about content that includes significant spoilers.\n",
      "\n",
      "Chunk ID: a12a9\n",
      "Chunk Name: Geographical Locations\n",
      "Chunk Summary: This chunk contains information about geographical locations and areas.\n",
      "\n",
      "Chunk ID: 9a920\n",
      "Chunk Name: Video Games\n",
      "Chunk Summary: This chunk contains information about video games, specifically focusing on Elden Ring.\n",
      "\n",
      "Chunk ID: 6c4bd\n",
      "Chunk Name: Video Game Industry Figures\n",
      "Chunk Summary: This chunk contains information about notable individuals in the video game industry and their roles.\n",
      "\n",
      "Chunk ID: f5b48\n",
      "Chunk Name: Twins and Relationships\n",
      "Chunk Summary: This chunk contains information about twins, their names, consciousness, and their relationship within the Golden Order, including inferred names from D's voicelines.\n",
      "\n",
      "Chunk ID: dd207\n",
      "Chunk Name: Identity & Revenge\n",
      "Chunk Summary: This chunk contains information about the individuality and shared essence of D and Darian, their relationship with the Golden Order, and Devin's quest for revenge against D's killer.\n",
      "\n",
      "Chunk ID: c6906\n",
      "Chunk Name: Communication Challenges\n",
      "Chunk Summary: This chunk contains information about Devin's communication and interaction challenges.\n",
      "\n",
      "Chunk ID: 1301d\n",
      "Chunk Name: Emotions of Guilt & Fear\n",
      "Chunk Summary: This chunk contains information about feelings of guilt and fear related to sacrifice and bravery.\n",
      "\n",
      "Chunk ID: 1dbfc\n",
      "Chunk Name: Relationships and Aspirations\n",
      "Chunk Summary: This chunk contains information about the relationship and interactions between Roderika and Smithing Master Hewg, emphasizing themes of loyalty, Hewg's mission to smith a powerful weapon, and his belief in the Tarnished's potential to become Elden Lord.\n",
      "\n",
      "Chunk ID: 5008f\n",
      "Chunk Name: Familial Relationships\n",
      "Chunk Summary: This chunk contains information about familial relationships and connections between characters in a narrative.\n",
      "\n",
      "Chunk ID: 9d5c2\n",
      "Chunk Name: Nepheli Loux: Warrior, Justice, and Leadership\n",
      "Chunk Summary: This chunk contains information about Nepheli Loux's warrior skills, her beliefs in justice, her disillusionment with Sir Gideon Ofnir, and her connections to the Golden Lineage and Godfrey, along with her potential leadership role in Limgrave, including insights from Kenneth Haight.\n",
      "\n",
      "\n"
     ]
    }
   ],
   "source": [
    "ac.pretty_print_chunk_outline()"
   ]
  },
  {
   "cell_type": "code",
   "execution_count": 30,
   "metadata": {},
   "outputs": [
    {
     "name": "stdout",
     "output_type": "stream",
     "text": [
      "[\"Lore in Elden Ring covers all the information related to the world of Elden Ring. Lore in Elden Ring covers all the information related to the mythos of Elden Ring. Lore in Elden Ring includes past events that occurred long ago. Lore in Elden Ring includes the history of the Lands Between. Lore in Elden Ring includes the mystery of the elusive Elden Ring. All information related to the world and mythos of Elden Ring can be found on this page. The Mythos of Elden Ring was written by George R. R. Martin. The Shattering is a devastating war between the children of Marika. The children of Marika are Demigods of the Lands Between. After Godwyn the Golden's death, the Elden Ring was somehow shattered. The power of a Great Rune fueled the conflict. The battle of General Radahn against Malenia the Severed illustrated that neither strength nor skill alone would be enough to take control of the entirety of the lands Marika had united. The Shattering was initiated by the demigods’ hunger for power. The Lands Between is the world of Elden Ring. Those who live in The Lands Between were blessed by Grace through the Elden Ring. Those who live in The Lands Between were blessed by Grace through the Erdtree. Those who were blessed by the Elden Ring are characterized by having a golden aura that can be seen in their eyes. At some point, some of those who were blessed lost their grace. Those who lost their grace were exiled and labeled the Tarnished. At some point in time, the Elden Ring was shattered. The shards of the Elden Ring were scattered across the Lands Between. The largest pieces of the Elden Ring were called Great Runes. The Great Runes were claimed by the six Demigod children of Queen Marika the Eternal. The six Demigod children of Queen Marika the Eternal inherited different powers. The six Demigod children of Queen Marika the Eternal were physically changed and twisted due to being corrupted by the power of the Great Runes. The Lands Between is divided into seven distinct areas. Melina is one of the first people the Tarnished encounters on their journey. Melina maintains an air of mystery throughout the game. Melina does not have a physical form. Melina acts as the Tarnished's Finger Maiden in exchange for taking Melina to the Erdtree. Later on, Melina asks the Tarnished to take her to the Mountaintops of the Giants. Melina approaches the Tarnished to aid her in her search for her purpose. Melina believes that her purpose was given to her by her mother. Melina believes that her mother can be found at the base of the Erdtree. Many people speculate that Melina's mother is Marika. When summoned, Melina wields the Blade of Calling. The Blade of Calling is a dagger that was previously owned by the kindling maiden. Melina's role as kindling is fitting when the Erdtree is burnt down. Speaking with Melina at various Sites of Grace reveals her ability to recall echoes of Queen Marika's past actions and words. Melina offers echoes of Queen Marika's past actions and words in lieu of a 'maiden's guidance'. Melina holds contempt for the Frenzied Flame. Melina believes that whoever lords over the chaos and damage brought by the Frenzied Flame is no Lord at all. If the Tarnished takes the Frenzied Flame before the event at the Forge of the Giants, Melina will leave the Tarnished. Melina will threaten to deliver the Tarnished Destined Death once they become Lord of the Frenzied Flame. The White Masks encountered in Mohgwyn Palace were initially abducted by Mogh. Mogh was the Lord of Blood. The White Masks were turned into Bloody Fingers through an unknown ritual. The unknown ritual involved Mogh's accursed Omen blood. Of the four White Masks encountered in the game, Varre was able to withstand and tame the accursed blood. Varre remains loyal to the Mohgwyn Dynasty despite being abducted by the Lord of Blood. Varre tries to indoctrinate the Tarnished into the Mohgwyn Dynasty. Varre calls out to Mohg at the end of his questline. Varre blesses the Mohgwyn Dynasty even as he is dying. Varre was forsaken by his Lord. Yura is a samurai from the Land of Reeds. Yura's purpose is to hunt down Bloody Fingers. Yura's biggest target is Eleonora. Yura warns the Tarnished against the dangers of Dragon Communion. Yura states that those who partake in Dragon Communion one day lose their humanity. Other Bloody Fingers that the Tarnished encounter are targets of Yura. Sorcerer Rogier is a Tarnished. Sorcerer Rogier has an easy-going nature. Sorcerer Rogier is said to be a wise and powerful sorcerer by his old travelling companion, D. Sorcerer Rogier was once a scholar. Sorcerer Rogier was seeking the truth behind the Night of the Black Knives. Sorcerer Rogier's scholarly pursuits eventually brought him under Stormveil Castle. Sorcerer Rogier found and disturbed a corpse under Stormveil Castle. Disturbing the corpse caused Sorcerer Rogier to be afflicted with Death. D sees Those Who Live in Death as a threat against the Golden Order. Sorcerer Rogier is empathetic towards Those Who Live in Death. Sorcerer Rogier believes Those Who Live in Death have committed no offence. By finishing Sorcerer Rogier's quest, the Tarnished is able to help Sorcerer Rogier reveal many insights about the night of the assassination. Sorcerer Rogier finally succumbs to his affliction. Fia is a Tarnished Deathbed Companion. Fia was driven from her home when awoken by the guidance of grace. Fia describes a Deathbed Companion as a person who receives warmth and life from numerous champions. A Deathbed Companion lays with the remains of an exalted noble to revive them. The act of laying with the remains of an exalted noble is revered in Fia's homeland. Fia is empathetic towards Those Who Live in Death. Fia has put it upon herself to be the guardian of Those Who Live in Death. Before meeting Fia at Deeproot Depths, the Tarnished will encounter Fia's champions. One of Fia's champions is Rogier. Another of Fia's champions is Lionel the Lionhearted. Lionel the Lionhearted is a knight Fia met on her journey to the Lands Between. Lionel the Lionhearted declared himself to be Fia's father. Fia implies that bringing together Ranni's half of the Cursemark of Death from the Divine Tower of Liurnia and Godwyn's half from D is significant. Fia implies that being Godwyn's Deathbed Companion will result in Godwyn being reborn as a rune. The rune representing Those Who Live in Death is called the Mending Rune of the Death-Prince. D is a devout follower of the Golden Order. D hunts Those Who Live in Death. D notably hunts Tibia Mariners for their Deathroot. Other Orders would have seen D and Darian as cursed beings. D states that Those Who Live in Death go against the principles of the Golden Order. D states that Those Who Live in Death must be exterminated. D is known as the Beholder of Death. Devin can be found slumbering in the Siofra Aqueduct while D is alive. Devin can be found grieving in the Siofra Aqueduct when D is dead. Gurranq is a large beastman who hungers for Deathroot. Roderika is a Tarnished who was driven away from her home across the sea. The cloak that Roderika wears implies that Roderika used to be a member of royalty. At some point upon arriving at the Lands Between, Roderika happened upon White Mask Varre. White Mask Varre gave Roderika the same advice as he gives the Tarnished at the beginning of their journey. White Mask Varre advised Roderika to seek Godrick and his Great Rune at Stormveil Castle. Upon arriving at Stormhill, the men escorting Roderika were taken and sacrificed for grafting. Roderika moves to the Roundtable Hold to find purpose after receiving the hopeful echoes of her men through the Chrysalids' Memento. Smithing Master Hewg recognises Roderika's potential for spirit tuning through Roderika's eyes. With a bit of encouragement from the Tarnished, Smithing Master Hewg trains Roderika to be a skillful spirit tuner. Sir Gideon Ofnir took Nepheli Loux in when Nepheli Loux lost the guidance of grace. Nepheli Loux became a Tarnished. Kenneth Haight is a member of the Erdtree royalty.\", 'This page contains heavy spoilers.', 'Limgrave is an area.', 'Elden Ring is a video game.', 'Hidetaka Miyazaki is a game director.', \"D has a twin brother. D's twin brother's name is suggested to be Darian. One twin cannot be conscious when the other is conscious. The two twins found comfort in the Golden Order. D has a twin brother. The name of D's twin brother is inferred to be Devin from D's voicelines.\", \"D and Darian have separate bodies and separate minds. D and Darian share the same soul. The Golden Order is the one Order that does not see D and Darian as cursed beings. Despite not being able to talk and interact, D and Devin seem to be close. Devin swears revenge against D's killer. D's killer may be Fia or the Tarnished. Devin swears revenge when given D's armor set.\", 'Devin is unable to talk and interact with D.', 'Roderika feels guilt about the fact that she is too afraid to join the men who were sacrificed.', 'Roderika and Smithing Master Hewg become close. Even as the Roundtable Hold is burning down, Roderika stays behind with Smithing Master Hewg to repay his kindness. Smithing Master Hewg is a misbegotten chained and imprisoned at the Roundtable Hold. Smithing Master Hewg is tasked by Queen Marika to smith a weapon strong enough to kill a god. Smithing Master Hewg makes the task of smithing a weapon strong enough to kill a god his life goal. Smithing Master Hewg strongly believes that the Tarnished will be the one to become Elden Lord. Smithing Master Hewg will say that the Tarnished will be the one to become Elden Lord before he completely loses his memory.', 'Nepheli Loux is the adoptive daughter of Sir Gideon Ofnir.', 'Nepheli Loux is a skilled warrior. Nepheli Loux believes in standing up and enacting justice for the weak and oppressed. Nepheli Loux once believed that Sir Gideon Ofnir held the same beliefs. Nepheli Loux learned that Sir Gideon Ofnir was the mastermind behind the attack on the Village of the Albinaurics. After learning this information, Nepheli Loux loses faith in Sir Gideon Ofnir. It is speculated that Nepheli Loux has ties with the first Elden Lord, Godfrey. Nepheli Loux has ties with the Golden Lineage. Nepheli Loux bears the same last name as Hoarah Loux. Kenneth Haight deems Nepheli Loux worthy of taking up the mantle of leader of Limgrave. Kenneth Haight is a self-proclaimed rightful leader of Limgrave.']\n"
     ]
    }
   ],
   "source": [
    "print(ac.get_chunks(get_type='list_of_strings'))"
   ]
  },
  {
   "cell_type": "code",
   "execution_count": 31,
   "metadata": {},
   "outputs": [],
   "source": [
    "mylist = ac.get_chunks(get_type='list_of_strings')"
   ]
  },
  {
   "cell_type": "code",
   "execution_count": 32,
   "metadata": {},
   "outputs": [
    {
     "data": {
      "text/plain": [
       "12"
      ]
     },
     "execution_count": 32,
     "metadata": {},
     "output_type": "execute_result"
    }
   ],
   "source": [
    "len(mylist)"
   ]
  },
  {
   "cell_type": "code",
   "execution_count": 33,
   "metadata": {},
   "outputs": [
    {
     "data": {
      "text/plain": [
       "[\"Lore in Elden Ring covers all the information related to the world of Elden Ring. Lore in Elden Ring covers all the information related to the mythos of Elden Ring. Lore in Elden Ring includes past events that occurred long ago. Lore in Elden Ring includes the history of the Lands Between. Lore in Elden Ring includes the mystery of the elusive Elden Ring. All information related to the world and mythos of Elden Ring can be found on this page. The Mythos of Elden Ring was written by George R. R. Martin. The Shattering is a devastating war between the children of Marika. The children of Marika are Demigods of the Lands Between. After Godwyn the Golden's death, the Elden Ring was somehow shattered. The power of a Great Rune fueled the conflict. The battle of General Radahn against Malenia the Severed illustrated that neither strength nor skill alone would be enough to take control of the entirety of the lands Marika had united. The Shattering was initiated by the demigods’ hunger for power. The Lands Between is the world of Elden Ring. Those who live in The Lands Between were blessed by Grace through the Elden Ring. Those who live in The Lands Between were blessed by Grace through the Erdtree. Those who were blessed by the Elden Ring are characterized by having a golden aura that can be seen in their eyes. At some point, some of those who were blessed lost their grace. Those who lost their grace were exiled and labeled the Tarnished. At some point in time, the Elden Ring was shattered. The shards of the Elden Ring were scattered across the Lands Between. The largest pieces of the Elden Ring were called Great Runes. The Great Runes were claimed by the six Demigod children of Queen Marika the Eternal. The six Demigod children of Queen Marika the Eternal inherited different powers. The six Demigod children of Queen Marika the Eternal were physically changed and twisted due to being corrupted by the power of the Great Runes. The Lands Between is divided into seven distinct areas. Melina is one of the first people the Tarnished encounters on their journey. Melina maintains an air of mystery throughout the game. Melina does not have a physical form. Melina acts as the Tarnished's Finger Maiden in exchange for taking Melina to the Erdtree. Later on, Melina asks the Tarnished to take her to the Mountaintops of the Giants. Melina approaches the Tarnished to aid her in her search for her purpose. Melina believes that her purpose was given to her by her mother. Melina believes that her mother can be found at the base of the Erdtree. Many people speculate that Melina's mother is Marika. When summoned, Melina wields the Blade of Calling. The Blade of Calling is a dagger that was previously owned by the kindling maiden. Melina's role as kindling is fitting when the Erdtree is burnt down. Speaking with Melina at various Sites of Grace reveals her ability to recall echoes of Queen Marika's past actions and words. Melina offers echoes of Queen Marika's past actions and words in lieu of a 'maiden's guidance'. Melina holds contempt for the Frenzied Flame. Melina believes that whoever lords over the chaos and damage brought by the Frenzied Flame is no Lord at all. If the Tarnished takes the Frenzied Flame before the event at the Forge of the Giants, Melina will leave the Tarnished. Melina will threaten to deliver the Tarnished Destined Death once they become Lord of the Frenzied Flame. The White Masks encountered in Mohgwyn Palace were initially abducted by Mogh. Mogh was the Lord of Blood. The White Masks were turned into Bloody Fingers through an unknown ritual. The unknown ritual involved Mogh's accursed Omen blood. Of the four White Masks encountered in the game, Varre was able to withstand and tame the accursed blood. Varre remains loyal to the Mohgwyn Dynasty despite being abducted by the Lord of Blood. Varre tries to indoctrinate the Tarnished into the Mohgwyn Dynasty. Varre calls out to Mohg at the end of his questline. Varre blesses the Mohgwyn Dynasty even as he is dying. Varre was forsaken by his Lord. Yura is a samurai from the Land of Reeds. Yura's purpose is to hunt down Bloody Fingers. Yura's biggest target is Eleonora. Yura warns the Tarnished against the dangers of Dragon Communion. Yura states that those who partake in Dragon Communion one day lose their humanity. Other Bloody Fingers that the Tarnished encounter are targets of Yura. Sorcerer Rogier is a Tarnished. Sorcerer Rogier has an easy-going nature. Sorcerer Rogier is said to be a wise and powerful sorcerer by his old travelling companion, D. Sorcerer Rogier was once a scholar. Sorcerer Rogier was seeking the truth behind the Night of the Black Knives. Sorcerer Rogier's scholarly pursuits eventually brought him under Stormveil Castle. Sorcerer Rogier found and disturbed a corpse under Stormveil Castle. Disturbing the corpse caused Sorcerer Rogier to be afflicted with Death. D sees Those Who Live in Death as a threat against the Golden Order. Sorcerer Rogier is empathetic towards Those Who Live in Death. Sorcerer Rogier believes Those Who Live in Death have committed no offence. By finishing Sorcerer Rogier's quest, the Tarnished is able to help Sorcerer Rogier reveal many insights about the night of the assassination. Sorcerer Rogier finally succumbs to his affliction. Fia is a Tarnished Deathbed Companion. Fia was driven from her home when awoken by the guidance of grace. Fia describes a Deathbed Companion as a person who receives warmth and life from numerous champions. A Deathbed Companion lays with the remains of an exalted noble to revive them. The act of laying with the remains of an exalted noble is revered in Fia's homeland. Fia is empathetic towards Those Who Live in Death. Fia has put it upon herself to be the guardian of Those Who Live in Death. Before meeting Fia at Deeproot Depths, the Tarnished will encounter Fia's champions. One of Fia's champions is Rogier. Another of Fia's champions is Lionel the Lionhearted. Lionel the Lionhearted is a knight Fia met on her journey to the Lands Between. Lionel the Lionhearted declared himself to be Fia's father. Fia implies that bringing together Ranni's half of the Cursemark of Death from the Divine Tower of Liurnia and Godwyn's half from D is significant. Fia implies that being Godwyn's Deathbed Companion will result in Godwyn being reborn as a rune. The rune representing Those Who Live in Death is called the Mending Rune of the Death-Prince. D is a devout follower of the Golden Order. D hunts Those Who Live in Death. D notably hunts Tibia Mariners for their Deathroot. Other Orders would have seen D and Darian as cursed beings. D states that Those Who Live in Death go against the principles of the Golden Order. D states that Those Who Live in Death must be exterminated. D is known as the Beholder of Death. Devin can be found slumbering in the Siofra Aqueduct while D is alive. Devin can be found grieving in the Siofra Aqueduct when D is dead. Gurranq is a large beastman who hungers for Deathroot. Roderika is a Tarnished who was driven away from her home across the sea. The cloak that Roderika wears implies that Roderika used to be a member of royalty. At some point upon arriving at the Lands Between, Roderika happened upon White Mask Varre. White Mask Varre gave Roderika the same advice as he gives the Tarnished at the beginning of their journey. White Mask Varre advised Roderika to seek Godrick and his Great Rune at Stormveil Castle. Upon arriving at Stormhill, the men escorting Roderika were taken and sacrificed for grafting. Roderika moves to the Roundtable Hold to find purpose after receiving the hopeful echoes of her men through the Chrysalids' Memento. Smithing Master Hewg recognises Roderika's potential for spirit tuning through Roderika's eyes. With a bit of encouragement from the Tarnished, Smithing Master Hewg trains Roderika to be a skillful spirit tuner. Sir Gideon Ofnir took Nepheli Loux in when Nepheli Loux lost the guidance of grace. Nepheli Loux became a Tarnished. Kenneth Haight is a member of the Erdtree royalty.\",\n",
       " 'This page contains heavy spoilers.',\n",
       " 'Limgrave is an area.',\n",
       " 'Elden Ring is a video game.',\n",
       " 'Hidetaka Miyazaki is a game director.',\n",
       " \"D has a twin brother. D's twin brother's name is suggested to be Darian. One twin cannot be conscious when the other is conscious. The two twins found comfort in the Golden Order. D has a twin brother. The name of D's twin brother is inferred to be Devin from D's voicelines.\",\n",
       " \"D and Darian have separate bodies and separate minds. D and Darian share the same soul. The Golden Order is the one Order that does not see D and Darian as cursed beings. Despite not being able to talk and interact, D and Devin seem to be close. Devin swears revenge against D's killer. D's killer may be Fia or the Tarnished. Devin swears revenge when given D's armor set.\",\n",
       " 'Devin is unable to talk and interact with D.',\n",
       " 'Roderika feels guilt about the fact that she is too afraid to join the men who were sacrificed.',\n",
       " 'Roderika and Smithing Master Hewg become close. Even as the Roundtable Hold is burning down, Roderika stays behind with Smithing Master Hewg to repay his kindness. Smithing Master Hewg is a misbegotten chained and imprisoned at the Roundtable Hold. Smithing Master Hewg is tasked by Queen Marika to smith a weapon strong enough to kill a god. Smithing Master Hewg makes the task of smithing a weapon strong enough to kill a god his life goal. Smithing Master Hewg strongly believes that the Tarnished will be the one to become Elden Lord. Smithing Master Hewg will say that the Tarnished will be the one to become Elden Lord before he completely loses his memory.',\n",
       " 'Nepheli Loux is the adoptive daughter of Sir Gideon Ofnir.',\n",
       " 'Nepheli Loux is a skilled warrior. Nepheli Loux believes in standing up and enacting justice for the weak and oppressed. Nepheli Loux once believed that Sir Gideon Ofnir held the same beliefs. Nepheli Loux learned that Sir Gideon Ofnir was the mastermind behind the attack on the Village of the Albinaurics. After learning this information, Nepheli Loux loses faith in Sir Gideon Ofnir. It is speculated that Nepheli Loux has ties with the first Elden Lord, Godfrey. Nepheli Loux has ties with the Golden Lineage. Nepheli Loux bears the same last name as Hoarah Loux. Kenneth Haight deems Nepheli Loux worthy of taking up the mantle of leader of Limgrave. Kenneth Haight is a self-proclaimed rightful leader of Limgrave.']"
      ]
     },
     "execution_count": 33,
     "metadata": {},
     "output_type": "execute_result"
    }
   ],
   "source": [
    "mylist"
   ]
  },
  {
   "cell_type": "markdown",
   "metadata": {},
   "source": [
    "## Create the knowledge graph"
   ]
  },
  {
   "cell_type": "markdown",
   "metadata": {},
   "source": [
    "### Define the Ontology\n",
    "\n",
    "The ontology is a pydantic model with the following schema. \n",
    "\n",
    "```python\n",
    "class Ontology(BaseModel):\n",
    "    label: List[Union[str, Dict]]\n",
    "    relationships: List[str]\n",
    "```\n",
    "\n"
   ]
  },
  {
   "cell_type": "code",
   "execution_count": 21,
   "metadata": {},
   "outputs": [],
   "source": [
    "ontology = Ontology(\n",
    "    labels=[\n",
    "        {\"Person\": \"Person name without any adjectives, Remember a person may be referenced by their name or using a pronoun\"},\n",
    "        {\"Object\": \"Do not add the definite article 'the' in the object name\"},\n",
    "        {\"Event\": \"Event involving multiple people. Do not include qualifiers or verbs like gives, leaves, works etc.\"},\n",
    "        {\"Place\": \"Locations where specific events took place\"},\n",
    "        {\"Faction\": \"Name of a group that a person belongs without any adjectives, Remember, a person may one belong to one faction\"},\n",
    "        {\"Miscellaneous\": \"Any important concept can not be categorised with any other given label\"},\n",
    "    ],\n",
    "    relationships=[\n",
    "        \"Relation between any pair of Entities\"\n",
    "        ],\n",
    ")"
   ]
  },
  {
   "cell_type": "markdown",
   "metadata": {},
   "source": [
    "### Select a LLM \n",
    "\n",
    "This model will:\n",
    "- Generate summaries each proposition\n",
    "- Extract the nodes and edges from the pydantic documents\n"
   ]
  },
  {
   "cell_type": "code",
   "execution_count": 22,
   "metadata": {},
   "outputs": [],
   "source": [
    "## Groq models\n",
    "model = \"mixtral-8x7b-32768\"\n",
    "# model =\"llama3-8b-8192\"\n",
    "# model = \"llama3-70b-8192\"\n",
    "# model=\"gemma-7b-it\"\n",
    "\n",
    "## Open AI models\n",
    "oai_model=\"gpt-4o-mini\"\n",
    "\n",
    "## Use Groq\n",
    "# llm = GroqClient(model=model, temperature=0.1, top_p=0.5)\n",
    "\n",
    "## OR Use OpenAI\n",
    "llm = OpenAIClient(model=oai_model, temperature=0.1, top_p=0.5)"
   ]
  },
  {
   "cell_type": "markdown",
   "metadata": {},
   "source": [
    "### Create pydantic documents from chunks\n",
    "\n",
    "Documents is a pydantic model with the following schema \n",
    "\n",
    "```python\n",
    "class Document(BaseModel):\n",
    "    text: str\n",
    "    metadata: dict\n",
    "```\n",
    "\n",
    "The metadata we add to the document here is copied to every relation that is extracted out of the document. More often than not, the node pairs have multiple relation with each other. The metadata helps add more context to these relations\n",
    "\n",
    "In this example I am generating a summary of the text chunk, and the timestamp of the run, to be used as metadata. "
   ]
  },
  {
   "cell_type": "code",
   "execution_count": 23,
   "metadata": {},
   "outputs": [],
   "source": [
    "import datetime\n",
    "current_time = str(datetime.datetime.now())"
   ]
  },
  {
   "cell_type": "code",
   "execution_count": 24,
   "metadata": {},
   "outputs": [],
   "source": [
    "def generate_summary(text):\n",
    "    SYS_PROMPT = (\n",
    "        \"Succintly summarise the text provided by the user. \"\n",
    "        \"Respond only with the summary and no other comments\"\n",
    "    )\n",
    "    try:\n",
    "        summary = llm.generate(user_message=text, system_message=SYS_PROMPT)\n",
    "    except:\n",
    "        summary = \"\"\n",
    "    finally:\n",
    "        return summary"
   ]
  },
  {
   "cell_type": "code",
   "execution_count": 33,
   "metadata": {},
   "outputs": [],
   "source": [
    "docs = map(\n",
    "    lambda t: Document(text=t, metadata={\"summary\": generate_summary(t), 'generated_at': current_time}),\n",
    "    proposition_list\n",
    ")"
   ]
  },
  {
   "cell_type": "code",
   "execution_count": 34,
   "metadata": {},
   "outputs": [
    {
     "name": "stdout",
     "output_type": "stream",
     "text": [
      "Using Model:  gpt-4o-mini\n"
     ]
    },
    {
     "name": "stderr",
     "output_type": "stream",
     "text": [
      "INFO:httpx:HTTP Request: POST https://api.openai.com/v1/chat/completions \"HTTP/1.1 200 OK\"\n"
     ]
    },
    {
     "name": "stdout",
     "output_type": "stream",
     "text": [
      "Using Model:  gpt-4o-mini\n"
     ]
    },
    {
     "name": "stderr",
     "output_type": "stream",
     "text": [
      "INFO:httpx:HTTP Request: POST https://api.openai.com/v1/chat/completions \"HTTP/1.1 200 OK\"\n"
     ]
    },
    {
     "name": "stdout",
     "output_type": "stream",
     "text": [
      "Using Model:  gpt-4o-mini\n"
     ]
    },
    {
     "name": "stderr",
     "output_type": "stream",
     "text": [
      "INFO:httpx:HTTP Request: POST https://api.openai.com/v1/chat/completions \"HTTP/1.1 200 OK\"\n"
     ]
    },
    {
     "name": "stdout",
     "output_type": "stream",
     "text": [
      "Using Model:  gpt-4o-mini\n"
     ]
    },
    {
     "name": "stderr",
     "output_type": "stream",
     "text": [
      "INFO:httpx:HTTP Request: POST https://api.openai.com/v1/chat/completions \"HTTP/1.1 200 OK\"\n"
     ]
    },
    {
     "name": "stdout",
     "output_type": "stream",
     "text": [
      "Using Model:  gpt-4o-mini\n"
     ]
    },
    {
     "name": "stderr",
     "output_type": "stream",
     "text": [
      "INFO:httpx:HTTP Request: POST https://api.openai.com/v1/chat/completions \"HTTP/1.1 200 OK\"\n"
     ]
    },
    {
     "name": "stdout",
     "output_type": "stream",
     "text": [
      "Using Model:  gpt-4o-mini\n"
     ]
    },
    {
     "name": "stderr",
     "output_type": "stream",
     "text": [
      "INFO:httpx:HTTP Request: POST https://api.openai.com/v1/chat/completions \"HTTP/1.1 200 OK\"\n"
     ]
    },
    {
     "name": "stdout",
     "output_type": "stream",
     "text": [
      "Using Model:  gpt-4o-mini\n"
     ]
    },
    {
     "name": "stderr",
     "output_type": "stream",
     "text": [
      "INFO:httpx:HTTP Request: POST https://api.openai.com/v1/chat/completions \"HTTP/1.1 200 OK\"\n"
     ]
    },
    {
     "name": "stdout",
     "output_type": "stream",
     "text": [
      "Using Model:  gpt-4o-mini\n"
     ]
    },
    {
     "name": "stderr",
     "output_type": "stream",
     "text": [
      "INFO:httpx:HTTP Request: POST https://api.openai.com/v1/chat/completions \"HTTP/1.1 200 OK\"\n"
     ]
    },
    {
     "name": "stdout",
     "output_type": "stream",
     "text": [
      "Using Model:  gpt-4o-mini\n"
     ]
    },
    {
     "name": "stderr",
     "output_type": "stream",
     "text": [
      "INFO:httpx:HTTP Request: POST https://api.openai.com/v1/chat/completions \"HTTP/1.1 200 OK\"\n"
     ]
    },
    {
     "name": "stdout",
     "output_type": "stream",
     "text": [
      "Using Model:  gpt-4o-mini\n"
     ]
    },
    {
     "name": "stderr",
     "output_type": "stream",
     "text": [
      "INFO:httpx:HTTP Request: POST https://api.openai.com/v1/chat/completions \"HTTP/1.1 200 OK\"\n"
     ]
    },
    {
     "name": "stdout",
     "output_type": "stream",
     "text": [
      "Using Model:  gpt-4o-mini\n"
     ]
    },
    {
     "name": "stderr",
     "output_type": "stream",
     "text": [
      "INFO:httpx:HTTP Request: POST https://api.openai.com/v1/chat/completions \"HTTP/1.1 200 OK\"\n"
     ]
    },
    {
     "data": {
      "text/plain": [
       "[Document(text='Lore in Elden Ring covers all the information related to the world of Elden Ring.', metadata={'summary': 'Lore in Elden Ring encompasses all information pertaining to its world.', 'generated_at': '2024-08-30 11:50:13.178102'}),\n",
       " Document(text='Lore in Elden Ring covers all the information related to the mythos of Elden Ring.', metadata={'summary': 'Lore in Elden Ring encompasses the mythos and background information of the game.', 'generated_at': '2024-08-30 11:50:13.178102'}),\n",
       " Document(text='Lore in Elden Ring includes past events that occurred long ago.', metadata={'summary': \"Elden Ring's lore encompasses historical events from the distant past.\", 'generated_at': '2024-08-30 11:50:13.178102'}),\n",
       " Document(text='Lore in Elden Ring includes the history of the Lands Between.', metadata={'summary': \"Elden Ring's lore encompasses the history and background of the Lands Between.\", 'generated_at': '2024-08-30 11:50:13.178102'}),\n",
       " Document(text='Lore in Elden Ring includes the mystery of the elusive Elden Ring.', metadata={'summary': \"Elden Ring's lore centers around the enigmatic nature of the Elden Ring itself.\", 'generated_at': '2024-08-30 11:50:13.178102'}),\n",
       " Document(text='All information related to the world and mythos of Elden Ring can be found on this page.', metadata={'summary': 'The page contains comprehensive information about the world and mythos of Elden Ring.', 'generated_at': '2024-08-30 11:50:13.178102'}),\n",
       " Document(text='This page contains heavy spoilers.', metadata={'summary': 'The page includes significant plot details that may reveal key twists or outcomes.', 'generated_at': '2024-08-30 11:50:13.178102'}),\n",
       " Document(text='The Mythos of Elden Ring was written by George R. R. Martin.', metadata={'summary': 'The lore of Elden Ring was created by George R. R. Martin.', 'generated_at': '2024-08-30 11:50:13.178102'}),\n",
       " Document(text='The Shattering is a devastating war between the children of Marika.', metadata={'summary': \"The Shattering is a destructive conflict among Marika's children.\", 'generated_at': '2024-08-30 11:50:13.178102'}),\n",
       " Document(text='The children of Marika are Demigods of the Lands Between.', metadata={'summary': \"Marika's children are Demigods in the Lands Between.\", 'generated_at': '2024-08-30 11:50:13.178102'}),\n",
       " Document(text=\"After Godwyn the Golden's death, the Elden Ring was somehow shattered.\", metadata={'summary': \"Following Godwyn the Golden's death, the Elden Ring was shattered.\", 'generated_at': '2024-08-30 11:50:13.178102'})]"
      ]
     },
     "execution_count": 34,
     "metadata": {},
     "output_type": "execute_result"
    }
   ],
   "source": [
    "mylist = list(docs)\n",
    "mylist"
   ]
  },
  {
   "cell_type": "markdown",
   "metadata": {},
   "source": [
    "### Generate graph from pydantic documents"
   ]
  },
  {
   "cell_type": "code",
   "execution_count": 26,
   "metadata": {},
   "outputs": [],
   "source": [
    "graph_maker = GraphMaker(ontology=ontology, llm_client=llm, verbose=False)"
   ]
  },
  {
   "cell_type": "code",
   "execution_count": 27,
   "metadata": {},
   "outputs": [
    {
     "name": "stdout",
     "output_type": "stream",
     "text": [
      "Using Model:  gpt-4o-mini\n"
     ]
    },
    {
     "name": "stderr",
     "output_type": "stream",
     "text": [
      "INFO:httpx:HTTP Request: POST https://api.openai.com/v1/chat/completions \"HTTP/1.1 200 OK\"\n"
     ]
    },
    {
     "name": "stdout",
     "output_type": "stream",
     "text": [
      "Using Model:  gpt-4o-mini\n"
     ]
    },
    {
     "name": "stderr",
     "output_type": "stream",
     "text": [
      "INFO:httpx:HTTP Request: POST https://api.openai.com/v1/chat/completions \"HTTP/1.1 200 OK\"\n"
     ]
    },
    {
     "name": "stdout",
     "output_type": "stream",
     "text": [
      "Using Model:  gpt-4o-mini\n"
     ]
    },
    {
     "name": "stderr",
     "output_type": "stream",
     "text": [
      "INFO:httpx:HTTP Request: POST https://api.openai.com/v1/chat/completions \"HTTP/1.1 200 OK\"\n"
     ]
    },
    {
     "name": "stdout",
     "output_type": "stream",
     "text": [
      "Using Model:  gpt-4o-mini\n"
     ]
    },
    {
     "name": "stderr",
     "output_type": "stream",
     "text": [
      "INFO:httpx:HTTP Request: POST https://api.openai.com/v1/chat/completions \"HTTP/1.1 200 OK\"\n"
     ]
    },
    {
     "name": "stdout",
     "output_type": "stream",
     "text": [
      "Using Model:  gpt-4o-mini\n"
     ]
    },
    {
     "name": "stderr",
     "output_type": "stream",
     "text": [
      "INFO:httpx:HTTP Request: POST https://api.openai.com/v1/chat/completions \"HTTP/1.1 200 OK\"\n"
     ]
    },
    {
     "name": "stdout",
     "output_type": "stream",
     "text": [
      "Using Model:  gpt-4o-mini\n"
     ]
    },
    {
     "name": "stderr",
     "output_type": "stream",
     "text": [
      "INFO:httpx:HTTP Request: POST https://api.openai.com/v1/chat/completions \"HTTP/1.1 200 OK\"\n"
     ]
    },
    {
     "name": "stdout",
     "output_type": "stream",
     "text": [
      "Using Model:  gpt-4o-mini\n"
     ]
    },
    {
     "name": "stderr",
     "output_type": "stream",
     "text": [
      "INFO:httpx:HTTP Request: POST https://api.openai.com/v1/chat/completions \"HTTP/1.1 200 OK\"\n"
     ]
    },
    {
     "name": "stdout",
     "output_type": "stream",
     "text": [
      "Using Model:  gpt-4o-mini\n"
     ]
    },
    {
     "name": "stderr",
     "output_type": "stream",
     "text": [
      "INFO:httpx:HTTP Request: POST https://api.openai.com/v1/chat/completions \"HTTP/1.1 200 OK\"\n"
     ]
    },
    {
     "name": "stdout",
     "output_type": "stream",
     "text": [
      "Using Model:  gpt-4o-mini\n"
     ]
    },
    {
     "name": "stderr",
     "output_type": "stream",
     "text": [
      "INFO:httpx:HTTP Request: POST https://api.openai.com/v1/chat/completions \"HTTP/1.1 200 OK\"\n"
     ]
    },
    {
     "name": "stdout",
     "output_type": "stream",
     "text": [
      "Using Model:  gpt-4o-mini\n"
     ]
    },
    {
     "name": "stderr",
     "output_type": "stream",
     "text": [
      "INFO:httpx:HTTP Request: POST https://api.openai.com/v1/chat/completions \"HTTP/1.1 200 OK\"\n"
     ]
    },
    {
     "name": "stdout",
     "output_type": "stream",
     "text": [
      "Using Model:  gpt-4o-mini\n"
     ]
    },
    {
     "name": "stderr",
     "output_type": "stream",
     "text": [
      "INFO:httpx:HTTP Request: POST https://api.openai.com/v1/chat/completions \"HTTP/1.1 200 OK\"\n",
      "\u001b[92m\u001b[39m\n",
      "\u001b[92m▶︎ GRAPH MAKER LOG - 2024-08-30 11:50:34 - INFO \u001b[39m\n",
      "\u001b[92mDocument: 1\u001b[39m\n",
      "\u001b[92m\u001b[39m\n",
      "\u001b[34m\u001b[39m\n",
      "\u001b[34m▶︎ GRAPH MAKER VERBOSE - 2024-08-30 11:50:34 - INFO \u001b[39m\n",
      "\u001b[34mUsing Ontology:\n",
      "labels=[{'Person': 'Person name without any adjectives, Remember a person may be referenced by their name or using a pronoun'}, {'Object': \"Do not add the definite article 'the' in the object name\"}, {'Event': 'Event involving multiple people. Do not include qualifiers or verbs like gives, leaves, works etc.'}, {'Place': 'Locations where specific events took place'}, {'Faction': 'Name of a group that a person belongs without any adjectives, Remember, a person may one belong to one faction'}, {'Miscellaneous': 'Any important concept can not be categorised with any other given label'}] relationships=['Relation between any pair of Entities']\u001b[39m\n",
      "\u001b[34m\u001b[39m\n"
     ]
    },
    {
     "name": "stdout",
     "output_type": "stream",
     "text": [
      "Using Model:  gpt-4o-mini\n"
     ]
    },
    {
     "name": "stderr",
     "output_type": "stream",
     "text": [
      "INFO:httpx:HTTP Request: POST https://api.openai.com/v1/chat/completions \"HTTP/1.1 200 OK\"\n",
      "\u001b[34m\u001b[39m\n",
      "\u001b[34m▶︎ GRAPH MAKER VERBOSE - 2024-08-30 11:50:44 - INFO \u001b[39m\n",
      "\u001b[34mLLM Response:\n",
      "[\n",
      "    {\n",
      "        \"node_1\": {\n",
      "            \"label\": \"Miscellaneous\",\n",
      "            \"name\": \"Lore\"\n",
      "        },\n",
      "        \"node_2\": {\n",
      "            \"label\": \"Place\",\n",
      "            \"name\": \"Elden Ring\"\n",
      "        },\n",
      "        \"relationship\": \"Lore contains information related to the world of Elden Ring.\"\n",
      "    }\n",
      "]\u001b[39m\n",
      "\u001b[34m\u001b[39m\n",
      "\u001b[92m\u001b[39m\n",
      "\u001b[92m▶︎ GRAPH MAKER LOG - 2024-08-30 11:50:44 - INFO \u001b[39m\n",
      "\u001b[92mTrying JSON Parsing: \n",
      "[\n",
      "    {\n",
      "        \"node_1\": {\n",
      "            \"label\": \"Miscellaneous\",\n",
      "            \"name\": \"Lore\"\n",
      "        },\n",
      "        \"node_2\": {\n",
      "            \"label\": \"Place\",\n",
      "            \"name\": \"Elden Ring\"\n",
      "        },\n",
      "        \"relationship\": \"Lore contains information related to the world of Elden Ring.\"\n",
      "    }\n",
      "]\u001b[39m\n",
      "\u001b[92m\u001b[39m\n",
      "\u001b[92m\u001b[39m\n",
      "\u001b[92m▶︎ GRAPH MAKER LOG - 2024-08-30 11:50:44 - INFO \u001b[39m\n",
      "\u001b[92mJSON Parsing Successful!\u001b[39m\n",
      "\u001b[92m\u001b[39m\n",
      "\u001b[92m\u001b[39m\n",
      "\u001b[92m▶︎ GRAPH MAKER LOG - 2024-08-30 11:50:44 - INFO \u001b[39m\n",
      "\u001b[92mDocument: 2\u001b[39m\n",
      "\u001b[92m\u001b[39m\n",
      "\u001b[34m\u001b[39m\n",
      "\u001b[34m▶︎ GRAPH MAKER VERBOSE - 2024-08-30 11:50:44 - INFO \u001b[39m\n",
      "\u001b[34mUsing Ontology:\n",
      "labels=[{'Person': 'Person name without any adjectives, Remember a person may be referenced by their name or using a pronoun'}, {'Object': \"Do not add the definite article 'the' in the object name\"}, {'Event': 'Event involving multiple people. Do not include qualifiers or verbs like gives, leaves, works etc.'}, {'Place': 'Locations where specific events took place'}, {'Faction': 'Name of a group that a person belongs without any adjectives, Remember, a person may one belong to one faction'}, {'Miscellaneous': 'Any important concept can not be categorised with any other given label'}] relationships=['Relation between any pair of Entities']\u001b[39m\n",
      "\u001b[34m\u001b[39m\n"
     ]
    },
    {
     "name": "stdout",
     "output_type": "stream",
     "text": [
      "Using Model:  gpt-4o-mini\n"
     ]
    },
    {
     "name": "stderr",
     "output_type": "stream",
     "text": [
      "INFO:httpx:HTTP Request: POST https://api.openai.com/v1/chat/completions \"HTTP/1.1 200 OK\"\n",
      "\u001b[34m\u001b[39m\n",
      "\u001b[34m▶︎ GRAPH MAKER VERBOSE - 2024-08-30 11:50:45 - INFO \u001b[39m\n",
      "\u001b[34mLLM Response:\n",
      "[\n",
      "    {\n",
      "        \"node_1\": {\n",
      "            \"label\": \"Miscellaneous\",\n",
      "            \"name\": \"Lore\"\n",
      "        },\n",
      "        \"node_2\": {\n",
      "            \"label\": \"Miscellaneous\",\n",
      "            \"name\": \"Elden Ring\"\n",
      "        },\n",
      "        \"relationship\": \"Lore contains information related to the mythos of Elden Ring.\"\n",
      "    }\n",
      "]\u001b[39m\n",
      "\u001b[34m\u001b[39m\n",
      "\u001b[92m\u001b[39m\n",
      "\u001b[92m▶︎ GRAPH MAKER LOG - 2024-08-30 11:50:45 - INFO \u001b[39m\n",
      "\u001b[92mTrying JSON Parsing: \n",
      "[\n",
      "    {\n",
      "        \"node_1\": {\n",
      "            \"label\": \"Miscellaneous\",\n",
      "            \"name\": \"Lore\"\n",
      "        },\n",
      "        \"node_2\": {\n",
      "            \"label\": \"Miscellaneous\",\n",
      "            \"name\": \"Elden Ring\"\n",
      "        },\n",
      "        \"relationship\": \"Lore contains information related to the mythos of Elden Ring.\"\n",
      "    }\n",
      "]\u001b[39m\n",
      "\u001b[92m\u001b[39m\n",
      "\u001b[92m\u001b[39m\n",
      "\u001b[92m▶︎ GRAPH MAKER LOG - 2024-08-30 11:50:45 - INFO \u001b[39m\n",
      "\u001b[92mJSON Parsing Successful!\u001b[39m\n",
      "\u001b[92m\u001b[39m\n",
      "\u001b[92m\u001b[39m\n",
      "\u001b[92m▶︎ GRAPH MAKER LOG - 2024-08-30 11:50:45 - INFO \u001b[39m\n",
      "\u001b[92mDocument: 3\u001b[39m\n",
      "\u001b[92m\u001b[39m\n",
      "\u001b[34m\u001b[39m\n",
      "\u001b[34m▶︎ GRAPH MAKER VERBOSE - 2024-08-30 11:50:45 - INFO \u001b[39m\n",
      "\u001b[34mUsing Ontology:\n",
      "labels=[{'Person': 'Person name without any adjectives, Remember a person may be referenced by their name or using a pronoun'}, {'Object': \"Do not add the definite article 'the' in the object name\"}, {'Event': 'Event involving multiple people. Do not include qualifiers or verbs like gives, leaves, works etc.'}, {'Place': 'Locations where specific events took place'}, {'Faction': 'Name of a group that a person belongs without any adjectives, Remember, a person may one belong to one faction'}, {'Miscellaneous': 'Any important concept can not be categorised with any other given label'}] relationships=['Relation between any pair of Entities']\u001b[39m\n",
      "\u001b[34m\u001b[39m\n"
     ]
    },
    {
     "name": "stdout",
     "output_type": "stream",
     "text": [
      "Using Model:  gpt-4o-mini\n"
     ]
    },
    {
     "name": "stderr",
     "output_type": "stream",
     "text": [
      "INFO:httpx:HTTP Request: POST https://api.openai.com/v1/chat/completions \"HTTP/1.1 200 OK\"\n",
      "\u001b[34m\u001b[39m\n",
      "\u001b[34m▶︎ GRAPH MAKER VERBOSE - 2024-08-30 11:50:47 - INFO \u001b[39m\n",
      "\u001b[34mLLM Response:\n",
      "[\n",
      "    {\n",
      "        \"node_1\": {\n",
      "            \"label\": \"Miscellaneous\",\n",
      "            \"name\": \"Lore\"\n",
      "        },\n",
      "        \"node_2\": {\n",
      "            \"label\": \"Event\",\n",
      "            \"name\": \"past events\"\n",
      "        },\n",
      "        \"relationship\": \"Lore includes past events that occurred long ago.\"\n",
      "    },\n",
      "    {\n",
      "        \"node_1\": {\n",
      "            \"label\": \"Miscellaneous\",\n",
      "            \"name\": \"Lore\"\n",
      "        },\n",
      "        \"node_2\": {\n",
      "            \"label\": \"Place\",\n",
      "            \"name\": \"Elden Ring\"\n",
      "        },\n",
      "        \"relationship\": \"Lore is associated with the place Elden Ring.\"\n",
      "    }\n",
      "]\u001b[39m\n",
      "\u001b[34m\u001b[39m\n",
      "\u001b[92m\u001b[39m\n",
      "\u001b[92m▶︎ GRAPH MAKER LOG - 2024-08-30 11:50:47 - INFO \u001b[39m\n",
      "\u001b[92mTrying JSON Parsing: \n",
      "[\n",
      "    {\n",
      "        \"node_1\": {\n",
      "            \"label\": \"Miscellaneous\",\n",
      "            \"name\": \"Lore\"\n",
      "        },\n",
      "        \"node_2\": {\n",
      "            \"label\": \"Event\",\n",
      "            \"name\": \"past events\"\n",
      "        },\n",
      "        \"relationship\": \"Lore includes past events that occurred long ago.\"\n",
      "    },\n",
      "    {\n",
      "        \"node_1\": {\n",
      "            \"label\": \"Miscellaneous\",\n",
      "            \"name\": \"Lore\"\n",
      "        },\n",
      "        \"node_2\": {\n",
      "            \"label\": \"Place\",\n",
      "            \"name\": \"Elden Ring\"\n",
      "        },\n",
      "        \"relationship\": \"Lore is associated with the place Elden Ring.\"\n",
      "    }\n",
      "]\u001b[39m\n",
      "\u001b[92m\u001b[39m\n",
      "\u001b[92m\u001b[39m\n",
      "\u001b[92m▶︎ GRAPH MAKER LOG - 2024-08-30 11:50:47 - INFO \u001b[39m\n",
      "\u001b[92mJSON Parsing Successful!\u001b[39m\n",
      "\u001b[92m\u001b[39m\n",
      "\u001b[92m\u001b[39m\n",
      "\u001b[92m▶︎ GRAPH MAKER LOG - 2024-08-30 11:50:47 - INFO \u001b[39m\n",
      "\u001b[92mDocument: 4\u001b[39m\n",
      "\u001b[92m\u001b[39m\n",
      "\u001b[34m\u001b[39m\n",
      "\u001b[34m▶︎ GRAPH MAKER VERBOSE - 2024-08-30 11:50:47 - INFO \u001b[39m\n",
      "\u001b[34mUsing Ontology:\n",
      "labels=[{'Person': 'Person name without any adjectives, Remember a person may be referenced by their name or using a pronoun'}, {'Object': \"Do not add the definite article 'the' in the object name\"}, {'Event': 'Event involving multiple people. Do not include qualifiers or verbs like gives, leaves, works etc.'}, {'Place': 'Locations where specific events took place'}, {'Faction': 'Name of a group that a person belongs without any adjectives, Remember, a person may one belong to one faction'}, {'Miscellaneous': 'Any important concept can not be categorised with any other given label'}] relationships=['Relation between any pair of Entities']\u001b[39m\n",
      "\u001b[34m\u001b[39m\n"
     ]
    },
    {
     "name": "stdout",
     "output_type": "stream",
     "text": [
      "Using Model:  gpt-4o-mini\n"
     ]
    },
    {
     "name": "stderr",
     "output_type": "stream",
     "text": [
      "INFO:httpx:HTTP Request: POST https://api.openai.com/v1/chat/completions \"HTTP/1.1 200 OK\"\n",
      "\u001b[34m\u001b[39m\n",
      "\u001b[34m▶︎ GRAPH MAKER VERBOSE - 2024-08-30 11:50:48 - INFO \u001b[39m\n",
      "\u001b[34mLLM Response:\n",
      "[\n",
      "    {\n",
      "        \"node_1\": {\n",
      "            \"label\": \"Miscellaneous\",\n",
      "            \"name\": \"Lore\"\n",
      "        },\n",
      "        \"node_2\": {\n",
      "            \"label\": \"Place\",\n",
      "            \"name\": \"Lands Between\"\n",
      "        },\n",
      "        \"relationship\": \"Lore includes the history of the Lands Between.\"\n",
      "    }\n",
      "]\u001b[39m\n",
      "\u001b[34m\u001b[39m\n",
      "\u001b[92m\u001b[39m\n",
      "\u001b[92m▶︎ GRAPH MAKER LOG - 2024-08-30 11:50:48 - INFO \u001b[39m\n",
      "\u001b[92mTrying JSON Parsing: \n",
      "[\n",
      "    {\n",
      "        \"node_1\": {\n",
      "            \"label\": \"Miscellaneous\",\n",
      "            \"name\": \"Lore\"\n",
      "        },\n",
      "        \"node_2\": {\n",
      "            \"label\": \"Place\",\n",
      "            \"name\": \"Lands Between\"\n",
      "        },\n",
      "        \"relationship\": \"Lore includes the history of the Lands Between.\"\n",
      "    }\n",
      "]\u001b[39m\n",
      "\u001b[92m\u001b[39m\n",
      "\u001b[92m\u001b[39m\n",
      "\u001b[92m▶︎ GRAPH MAKER LOG - 2024-08-30 11:50:48 - INFO \u001b[39m\n",
      "\u001b[92mJSON Parsing Successful!\u001b[39m\n",
      "\u001b[92m\u001b[39m\n",
      "\u001b[92m\u001b[39m\n",
      "\u001b[92m▶︎ GRAPH MAKER LOG - 2024-08-30 11:50:48 - INFO \u001b[39m\n",
      "\u001b[92mDocument: 5\u001b[39m\n",
      "\u001b[92m\u001b[39m\n",
      "\u001b[34m\u001b[39m\n",
      "\u001b[34m▶︎ GRAPH MAKER VERBOSE - 2024-08-30 11:50:48 - INFO \u001b[39m\n",
      "\u001b[34mUsing Ontology:\n",
      "labels=[{'Person': 'Person name without any adjectives, Remember a person may be referenced by their name or using a pronoun'}, {'Object': \"Do not add the definite article 'the' in the object name\"}, {'Event': 'Event involving multiple people. Do not include qualifiers or verbs like gives, leaves, works etc.'}, {'Place': 'Locations where specific events took place'}, {'Faction': 'Name of a group that a person belongs without any adjectives, Remember, a person may one belong to one faction'}, {'Miscellaneous': 'Any important concept can not be categorised with any other given label'}] relationships=['Relation between any pair of Entities']\u001b[39m\n",
      "\u001b[34m\u001b[39m\n"
     ]
    },
    {
     "name": "stdout",
     "output_type": "stream",
     "text": [
      "Using Model:  gpt-4o-mini\n"
     ]
    },
    {
     "name": "stderr",
     "output_type": "stream",
     "text": [
      "INFO:httpx:HTTP Request: POST https://api.openai.com/v1/chat/completions \"HTTP/1.1 200 OK\"\n",
      "\u001b[34m\u001b[39m\n",
      "\u001b[34m▶︎ GRAPH MAKER VERBOSE - 2024-08-30 11:50:49 - INFO \u001b[39m\n",
      "\u001b[34mLLM Response:\n",
      "[\n",
      "    {\n",
      "        \"node_1\": {\n",
      "            \"label\": \"Miscellaneous\",\n",
      "            \"name\": \"Lore\"\n",
      "        },\n",
      "        \"node_2\": {\n",
      "            \"label\": \"Miscellaneous\",\n",
      "            \"name\": \"Elden Ring\"\n",
      "        },\n",
      "        \"relationship\": \"Lore includes the mystery of Elden Ring.\"\n",
      "    }\n",
      "]\u001b[39m\n",
      "\u001b[34m\u001b[39m\n",
      "\u001b[92m\u001b[39m\n",
      "\u001b[92m▶︎ GRAPH MAKER LOG - 2024-08-30 11:50:49 - INFO \u001b[39m\n",
      "\u001b[92mTrying JSON Parsing: \n",
      "[\n",
      "    {\n",
      "        \"node_1\": {\n",
      "            \"label\": \"Miscellaneous\",\n",
      "            \"name\": \"Lore\"\n",
      "        },\n",
      "        \"node_2\": {\n",
      "            \"label\": \"Miscellaneous\",\n",
      "            \"name\": \"Elden Ring\"\n",
      "        },\n",
      "        \"relationship\": \"Lore includes the mystery of Elden Ring.\"\n",
      "    }\n",
      "]\u001b[39m\n",
      "\u001b[92m\u001b[39m\n",
      "\u001b[92m\u001b[39m\n",
      "\u001b[92m▶︎ GRAPH MAKER LOG - 2024-08-30 11:50:49 - INFO \u001b[39m\n",
      "\u001b[92mJSON Parsing Successful!\u001b[39m\n",
      "\u001b[92m\u001b[39m\n",
      "\u001b[92m\u001b[39m\n",
      "\u001b[92m▶︎ GRAPH MAKER LOG - 2024-08-30 11:50:49 - INFO \u001b[39m\n",
      "\u001b[92mDocument: 6\u001b[39m\n",
      "\u001b[92m\u001b[39m\n",
      "\u001b[34m\u001b[39m\n",
      "\u001b[34m▶︎ GRAPH MAKER VERBOSE - 2024-08-30 11:50:49 - INFO \u001b[39m\n",
      "\u001b[34mUsing Ontology:\n",
      "labels=[{'Person': 'Person name without any adjectives, Remember a person may be referenced by their name or using a pronoun'}, {'Object': \"Do not add the definite article 'the' in the object name\"}, {'Event': 'Event involving multiple people. Do not include qualifiers or verbs like gives, leaves, works etc.'}, {'Place': 'Locations where specific events took place'}, {'Faction': 'Name of a group that a person belongs without any adjectives, Remember, a person may one belong to one faction'}, {'Miscellaneous': 'Any important concept can not be categorised with any other given label'}] relationships=['Relation between any pair of Entities']\u001b[39m\n",
      "\u001b[34m\u001b[39m\n"
     ]
    },
    {
     "name": "stdout",
     "output_type": "stream",
     "text": [
      "Using Model:  gpt-4o-mini\n"
     ]
    },
    {
     "name": "stderr",
     "output_type": "stream",
     "text": [
      "INFO:httpx:HTTP Request: POST https://api.openai.com/v1/chat/completions \"HTTP/1.1 200 OK\"\n",
      "\u001b[34m\u001b[39m\n",
      "\u001b[34m▶︎ GRAPH MAKER VERBOSE - 2024-08-30 11:50:51 - INFO \u001b[39m\n",
      "\u001b[34mLLM Response:\n",
      "[\n",
      "    {\n",
      "        \"node_1\": {\n",
      "            \"label\": \"Miscellaneous\",\n",
      "            \"name\": \"Elden Ring\"\n",
      "        },\n",
      "        \"node_2\": {\n",
      "            \"label\": \"Miscellaneous\",\n",
      "            \"name\": \"world\"\n",
      "        },\n",
      "        \"relationship\": \"Elden Ring is associated with the concept of the world.\"\n",
      "    },\n",
      "    {\n",
      "        \"node_1\": {\n",
      "            \"label\": \"Miscellaneous\",\n",
      "            \"name\": \"Elden Ring\"\n",
      "        },\n",
      "        \"node_2\": {\n",
      "            \"label\": \"Miscellaneous\",\n",
      "            \"name\": \"mythos\"\n",
      "        },\n",
      "        \"relationship\": \"Elden Ring is associated with the concept of mythos.\"\n",
      "    }\n",
      "]\u001b[39m\n",
      "\u001b[34m\u001b[39m\n",
      "\u001b[92m\u001b[39m\n",
      "\u001b[92m▶︎ GRAPH MAKER LOG - 2024-08-30 11:50:51 - INFO \u001b[39m\n",
      "\u001b[92mTrying JSON Parsing: \n",
      "[\n",
      "    {\n",
      "        \"node_1\": {\n",
      "            \"label\": \"Miscellaneous\",\n",
      "            \"name\": \"Elden Ring\"\n",
      "        },\n",
      "        \"node_2\": {\n",
      "            \"label\": \"Miscellaneous\",\n",
      "            \"name\": \"world\"\n",
      "        },\n",
      "        \"relationship\": \"Elden Ring is associated with the concept of the world.\"\n",
      "    },\n",
      "    {\n",
      "        \"node_1\": {\n",
      "            \"label\": \"Miscellaneous\",\n",
      "            \"name\": \"Elden Ring\"\n",
      "        },\n",
      "        \"node_2\": {\n",
      "            \"label\": \"Miscellaneous\",\n",
      "            \"name\": \"mythos\"\n",
      "        },\n",
      "        \"relationship\": \"Elden Ring is associated with the concept of mythos.\"\n",
      "    }\n",
      "]\u001b[39m\n",
      "\u001b[92m\u001b[39m\n",
      "\u001b[92m\u001b[39m\n",
      "\u001b[92m▶︎ GRAPH MAKER LOG - 2024-08-30 11:50:51 - INFO \u001b[39m\n",
      "\u001b[92mJSON Parsing Successful!\u001b[39m\n",
      "\u001b[92m\u001b[39m\n",
      "\u001b[92m\u001b[39m\n",
      "\u001b[92m▶︎ GRAPH MAKER LOG - 2024-08-30 11:50:51 - INFO \u001b[39m\n",
      "\u001b[92mDocument: 7\u001b[39m\n",
      "\u001b[92m\u001b[39m\n",
      "\u001b[34m\u001b[39m\n",
      "\u001b[34m▶︎ GRAPH MAKER VERBOSE - 2024-08-30 11:50:51 - INFO \u001b[39m\n",
      "\u001b[34mUsing Ontology:\n",
      "labels=[{'Person': 'Person name without any adjectives, Remember a person may be referenced by their name or using a pronoun'}, {'Object': \"Do not add the definite article 'the' in the object name\"}, {'Event': 'Event involving multiple people. Do not include qualifiers or verbs like gives, leaves, works etc.'}, {'Place': 'Locations where specific events took place'}, {'Faction': 'Name of a group that a person belongs without any adjectives, Remember, a person may one belong to one faction'}, {'Miscellaneous': 'Any important concept can not be categorised with any other given label'}] relationships=['Relation between any pair of Entities']\u001b[39m\n",
      "\u001b[34m\u001b[39m\n"
     ]
    },
    {
     "name": "stdout",
     "output_type": "stream",
     "text": [
      "Using Model:  gpt-4o-mini\n"
     ]
    },
    {
     "name": "stderr",
     "output_type": "stream",
     "text": [
      "INFO:httpx:HTTP Request: POST https://api.openai.com/v1/chat/completions \"HTTP/1.1 200 OK\"\n",
      "\u001b[34m\u001b[39m\n",
      "\u001b[34m▶︎ GRAPH MAKER VERBOSE - 2024-08-30 11:50:51 - INFO \u001b[39m\n",
      "\u001b[34mLLM Response:\n",
      "[]\u001b[39m\n",
      "\u001b[34m\u001b[39m\n",
      "\u001b[92m\u001b[39m\n",
      "\u001b[92m▶︎ GRAPH MAKER LOG - 2024-08-30 11:50:51 - INFO \u001b[39m\n",
      "\u001b[92mTrying JSON Parsing: \n",
      "[]\u001b[39m\n",
      "\u001b[92m\u001b[39m\n",
      "\u001b[92m\u001b[39m\n",
      "\u001b[92m▶︎ GRAPH MAKER LOG - 2024-08-30 11:50:51 - INFO \u001b[39m\n",
      "\u001b[92mJSON Parsing Successful!\u001b[39m\n",
      "\u001b[92m\u001b[39m\n",
      "\u001b[92m\u001b[39m\n",
      "\u001b[92m▶︎ GRAPH MAKER LOG - 2024-08-30 11:50:51 - INFO \u001b[39m\n",
      "\u001b[92mTrying Manual Parsing: \n",
      "[]\u001b[39m\n",
      "\u001b[92m\u001b[39m\n",
      "\u001b[92m\u001b[39m\n",
      "\u001b[92m▶︎ GRAPH MAKER LOG - 2024-08-30 11:50:51 - INFO \u001b[39m\n",
      "\u001b[92mManually exracted 1 Edges\u001b[39m\n",
      "\u001b[92m\u001b[39m\n",
      "\u001b[35m\u001b[39m\n",
      "\u001b[35m▶︎ GRAPH MAKER ERROR - 2024-08-30 11:50:51 - INFO \u001b[39m\n",
      "\u001b[35mFailed to parse the Edge: \n",
      "[{'type': 'missing', 'loc': ('node_1',), 'msg': 'Field required'}, {'type': 'missing', 'loc': ('node_2',), 'msg': 'Field required'}, {'type': 'missing', 'loc': ('relationship',), 'msg': 'Field required'}]\u001b[39m\n",
      "\u001b[35m\u001b[39m\n",
      "\u001b[34m\u001b[39m\n",
      "\u001b[34m▶︎ GRAPH MAKER VERBOSE - 2024-08-30 11:50:51 - INFO \u001b[39m\n",
      "\u001b[34mFAULTY EDGE: {}\u001b[39m\n",
      "\u001b[34m\u001b[39m\n",
      "\u001b[92m\u001b[39m\n",
      "\u001b[92m▶︎ GRAPH MAKER LOG - 2024-08-30 11:50:51 - INFO \u001b[39m\n",
      "\u001b[92mDocument: 8\u001b[39m\n",
      "\u001b[92m\u001b[39m\n",
      "\u001b[34m\u001b[39m\n",
      "\u001b[34m▶︎ GRAPH MAKER VERBOSE - 2024-08-30 11:50:51 - INFO \u001b[39m\n",
      "\u001b[34mUsing Ontology:\n",
      "labels=[{'Person': 'Person name without any adjectives, Remember a person may be referenced by their name or using a pronoun'}, {'Object': \"Do not add the definite article 'the' in the object name\"}, {'Event': 'Event involving multiple people. Do not include qualifiers or verbs like gives, leaves, works etc.'}, {'Place': 'Locations where specific events took place'}, {'Faction': 'Name of a group that a person belongs without any adjectives, Remember, a person may one belong to one faction'}, {'Miscellaneous': 'Any important concept can not be categorised with any other given label'}] relationships=['Relation between any pair of Entities']\u001b[39m\n",
      "\u001b[34m\u001b[39m\n"
     ]
    },
    {
     "name": "stdout",
     "output_type": "stream",
     "text": [
      "Using Model:  gpt-4o-mini\n"
     ]
    },
    {
     "name": "stderr",
     "output_type": "stream",
     "text": [
      "INFO:httpx:HTTP Request: POST https://api.openai.com/v1/chat/completions \"HTTP/1.1 200 OK\"\n",
      "\u001b[34m\u001b[39m\n",
      "\u001b[34m▶︎ GRAPH MAKER VERBOSE - 2024-08-30 11:50:53 - INFO \u001b[39m\n",
      "\u001b[34mLLM Response:\n",
      "[\n",
      "    {\n",
      "        \"node_1\": {\n",
      "            \"label\": \"Miscellaneous\",\n",
      "            \"name\": \"Mythos of Elden Ring\"\n",
      "        },\n",
      "        \"node_2\": {\n",
      "            \"label\": \"Person\",\n",
      "            \"name\": \"George R. R. Martin\"\n",
      "        },\n",
      "        \"relationship\": \"George R. R. Martin wrote the Mythos of Elden Ring.\"\n",
      "    }\n",
      "]\u001b[39m\n",
      "\u001b[34m\u001b[39m\n",
      "\u001b[92m\u001b[39m\n",
      "\u001b[92m▶︎ GRAPH MAKER LOG - 2024-08-30 11:50:53 - INFO \u001b[39m\n",
      "\u001b[92mTrying JSON Parsing: \n",
      "[\n",
      "    {\n",
      "        \"node_1\": {\n",
      "            \"label\": \"Miscellaneous\",\n",
      "            \"name\": \"Mythos of Elden Ring\"\n",
      "        },\n",
      "        \"node_2\": {\n",
      "            \"label\": \"Person\",\n",
      "            \"name\": \"George R. R. Martin\"\n",
      "        },\n",
      "        \"relationship\": \"George R. R. Martin wrote the Mythos of Elden Ring.\"\n",
      "    }\n",
      "]\u001b[39m\n",
      "\u001b[92m\u001b[39m\n",
      "\u001b[92m\u001b[39m\n",
      "\u001b[92m▶︎ GRAPH MAKER LOG - 2024-08-30 11:50:53 - INFO \u001b[39m\n",
      "\u001b[92mJSON Parsing Successful!\u001b[39m\n",
      "\u001b[92m\u001b[39m\n",
      "\u001b[92m\u001b[39m\n",
      "\u001b[92m▶︎ GRAPH MAKER LOG - 2024-08-30 11:50:53 - INFO \u001b[39m\n",
      "\u001b[92mDocument: 9\u001b[39m\n",
      "\u001b[92m\u001b[39m\n",
      "\u001b[34m\u001b[39m\n",
      "\u001b[34m▶︎ GRAPH MAKER VERBOSE - 2024-08-30 11:50:53 - INFO \u001b[39m\n",
      "\u001b[34mUsing Ontology:\n",
      "labels=[{'Person': 'Person name without any adjectives, Remember a person may be referenced by their name or using a pronoun'}, {'Object': \"Do not add the definite article 'the' in the object name\"}, {'Event': 'Event involving multiple people. Do not include qualifiers or verbs like gives, leaves, works etc.'}, {'Place': 'Locations where specific events took place'}, {'Faction': 'Name of a group that a person belongs without any adjectives, Remember, a person may one belong to one faction'}, {'Miscellaneous': 'Any important concept can not be categorised with any other given label'}] relationships=['Relation between any pair of Entities']\u001b[39m\n",
      "\u001b[34m\u001b[39m\n"
     ]
    },
    {
     "name": "stdout",
     "output_type": "stream",
     "text": [
      "Using Model:  gpt-4o-mini\n"
     ]
    },
    {
     "name": "stderr",
     "output_type": "stream",
     "text": [
      "INFO:httpx:HTTP Request: POST https://api.openai.com/v1/chat/completions \"HTTP/1.1 200 OK\"\n",
      "\u001b[34m\u001b[39m\n",
      "\u001b[34m▶︎ GRAPH MAKER VERBOSE - 2024-08-30 11:50:54 - INFO \u001b[39m\n",
      "\u001b[34mLLM Response:\n",
      "[\n",
      "    {\n",
      "        \"node_1\": {\n",
      "            \"label\": \"Event\",\n",
      "            \"name\": \"The Shattering\"\n",
      "        },\n",
      "        \"node_2\": {\n",
      "            \"label\": \"Faction\",\n",
      "            \"name\": \"children of Marika\"\n",
      "        },\n",
      "        \"relationship\": \"The Shattering is a war that involves the faction known as the children of Marika.\"\n",
      "    }\n",
      "]\u001b[39m\n",
      "\u001b[34m\u001b[39m\n",
      "\u001b[92m\u001b[39m\n",
      "\u001b[92m▶︎ GRAPH MAKER LOG - 2024-08-30 11:50:54 - INFO \u001b[39m\n",
      "\u001b[92mTrying JSON Parsing: \n",
      "[\n",
      "    {\n",
      "        \"node_1\": {\n",
      "            \"label\": \"Event\",\n",
      "            \"name\": \"The Shattering\"\n",
      "        },\n",
      "        \"node_2\": {\n",
      "            \"label\": \"Faction\",\n",
      "            \"name\": \"children of Marika\"\n",
      "        },\n",
      "        \"relationship\": \"The Shattering is a war that involves the faction known as the children of Marika.\"\n",
      "    }\n",
      "]\u001b[39m\n",
      "\u001b[92m\u001b[39m\n",
      "\u001b[92m\u001b[39m\n",
      "\u001b[92m▶︎ GRAPH MAKER LOG - 2024-08-30 11:50:54 - INFO \u001b[39m\n",
      "\u001b[92mJSON Parsing Successful!\u001b[39m\n",
      "\u001b[92m\u001b[39m\n",
      "\u001b[92m\u001b[39m\n",
      "\u001b[92m▶︎ GRAPH MAKER LOG - 2024-08-30 11:50:54 - INFO \u001b[39m\n",
      "\u001b[92mDocument: 10\u001b[39m\n",
      "\u001b[92m\u001b[39m\n",
      "\u001b[34m\u001b[39m\n",
      "\u001b[34m▶︎ GRAPH MAKER VERBOSE - 2024-08-30 11:50:54 - INFO \u001b[39m\n",
      "\u001b[34mUsing Ontology:\n",
      "labels=[{'Person': 'Person name without any adjectives, Remember a person may be referenced by their name or using a pronoun'}, {'Object': \"Do not add the definite article 'the' in the object name\"}, {'Event': 'Event involving multiple people. Do not include qualifiers or verbs like gives, leaves, works etc.'}, {'Place': 'Locations where specific events took place'}, {'Faction': 'Name of a group that a person belongs without any adjectives, Remember, a person may one belong to one faction'}, {'Miscellaneous': 'Any important concept can not be categorised with any other given label'}] relationships=['Relation between any pair of Entities']\u001b[39m\n",
      "\u001b[34m\u001b[39m\n"
     ]
    },
    {
     "name": "stdout",
     "output_type": "stream",
     "text": [
      "Using Model:  gpt-4o-mini\n"
     ]
    },
    {
     "name": "stderr",
     "output_type": "stream",
     "text": [
      "INFO:httpx:HTTP Request: POST https://api.openai.com/v1/chat/completions \"HTTP/1.1 200 OK\"\n",
      "\u001b[34m\u001b[39m\n",
      "\u001b[34m▶︎ GRAPH MAKER VERBOSE - 2024-08-30 11:50:55 - INFO \u001b[39m\n",
      "\u001b[34mLLM Response:\n",
      "[\n",
      "   {\n",
      "       \"node_1\": {\"label\": \"Person\", \"name\": \"Marika\"},\n",
      "       \"node_2\": {\"label\": \"Miscellaneous\", \"name\": \"Demigods of the Lands Between\"},\n",
      "       \"relationship\": \"Marika is the parent of the Demigods of the Lands Between.\"\n",
      "   }\n",
      "]\u001b[39m\n",
      "\u001b[34m\u001b[39m\n",
      "\u001b[92m\u001b[39m\n",
      "\u001b[92m▶︎ GRAPH MAKER LOG - 2024-08-30 11:50:55 - INFO \u001b[39m\n",
      "\u001b[92mTrying JSON Parsing: \n",
      "[\n",
      "   {\n",
      "       \"node_1\": {\"label\": \"Person\", \"name\": \"Marika\"},\n",
      "       \"node_2\": {\"label\": \"Miscellaneous\", \"name\": \"Demigods of the Lands Between\"},\n",
      "       \"relationship\": \"Marika is the parent of the Demigods of the Lands Between.\"\n",
      "   }\n",
      "]\u001b[39m\n",
      "\u001b[92m\u001b[39m\n",
      "\u001b[92m\u001b[39m\n",
      "\u001b[92m▶︎ GRAPH MAKER LOG - 2024-08-30 11:50:55 - INFO \u001b[39m\n",
      "\u001b[92mJSON Parsing Successful!\u001b[39m\n",
      "\u001b[92m\u001b[39m\n",
      "\u001b[92m\u001b[39m\n",
      "\u001b[92m▶︎ GRAPH MAKER LOG - 2024-08-30 11:50:55 - INFO \u001b[39m\n",
      "\u001b[92mDocument: 11\u001b[39m\n",
      "\u001b[92m\u001b[39m\n",
      "\u001b[34m\u001b[39m\n",
      "\u001b[34m▶︎ GRAPH MAKER VERBOSE - 2024-08-30 11:50:55 - INFO \u001b[39m\n",
      "\u001b[34mUsing Ontology:\n",
      "labels=[{'Person': 'Person name without any adjectives, Remember a person may be referenced by their name or using a pronoun'}, {'Object': \"Do not add the definite article 'the' in the object name\"}, {'Event': 'Event involving multiple people. Do not include qualifiers or verbs like gives, leaves, works etc.'}, {'Place': 'Locations where specific events took place'}, {'Faction': 'Name of a group that a person belongs without any adjectives, Remember, a person may one belong to one faction'}, {'Miscellaneous': 'Any important concept can not be categorised with any other given label'}] relationships=['Relation between any pair of Entities']\u001b[39m\n",
      "\u001b[34m\u001b[39m\n"
     ]
    },
    {
     "name": "stdout",
     "output_type": "stream",
     "text": [
      "Using Model:  gpt-4o-mini\n"
     ]
    },
    {
     "name": "stderr",
     "output_type": "stream",
     "text": [
      "INFO:httpx:HTTP Request: POST https://api.openai.com/v1/chat/completions \"HTTP/1.1 200 OK\"\n",
      "\u001b[34m\u001b[39m\n",
      "\u001b[34m▶︎ GRAPH MAKER VERBOSE - 2024-08-30 11:50:57 - INFO \u001b[39m\n",
      "\u001b[34mLLM Response:\n",
      "[\n",
      "    {\n",
      "        \"node_1\": {\n",
      "            \"label\": \"Person\",\n",
      "            \"name\": \"Godwyn\"\n",
      "        },\n",
      "        \"node_2\": {\n",
      "            \"label\": \"Object\",\n",
      "            \"name\": \"Elden Ring\"\n",
      "        },\n",
      "        \"relationship\": \"Godwyn's death is associated with the shattering of the Elden Ring.\"\n",
      "    }\n",
      "]\u001b[39m\n",
      "\u001b[34m\u001b[39m\n",
      "\u001b[92m\u001b[39m\n",
      "\u001b[92m▶︎ GRAPH MAKER LOG - 2024-08-30 11:50:57 - INFO \u001b[39m\n",
      "\u001b[92mTrying JSON Parsing: \n",
      "[\n",
      "    {\n",
      "        \"node_1\": {\n",
      "            \"label\": \"Person\",\n",
      "            \"name\": \"Godwyn\"\n",
      "        },\n",
      "        \"node_2\": {\n",
      "            \"label\": \"Object\",\n",
      "            \"name\": \"Elden Ring\"\n",
      "        },\n",
      "        \"relationship\": \"Godwyn's death is associated with the shattering of the Elden Ring.\"\n",
      "    }\n",
      "]\u001b[39m\n",
      "\u001b[92m\u001b[39m\n",
      "\u001b[92m\u001b[39m\n",
      "\u001b[92m▶︎ GRAPH MAKER LOG - 2024-08-30 11:50:57 - INFO \u001b[39m\n",
      "\u001b[92mJSON Parsing Successful!\u001b[39m\n",
      "\u001b[92m\u001b[39m\n"
     ]
    },
    {
     "name": "stdout",
     "output_type": "stream",
     "text": [
      "Total number of Edges 12\n"
     ]
    }
   ],
   "source": [
    "graph = graph_maker.from_documents(\n",
    "    list(docs), \n",
    "    delay_s_between=0 ## delay_s_between because otherwise groq api maxes out pretty fast. \n",
    "    ) \n",
    "print(\"Total number of Edges\", len(graph))"
   ]
  },
  {
   "cell_type": "code",
   "execution_count": 35,
   "metadata": {},
   "outputs": [
    {
     "data": {
      "text/plain": [
       "[Edge(node_1=Node(label='Miscellaneous', name='Lore'), node_2=Node(label='Place', name='Elden Ring'), relationship='Lore contains information related to the world of Elden Ring.', metadata={'summary': 'Lore in Elden Ring encompasses all information about its world.', 'generated_at': '2024-08-30 11:50:13.178102'}, order=0),\n",
       " Edge(node_1=Node(label='Miscellaneous', name='Lore'), node_2=Node(label='Miscellaneous', name='Elden Ring'), relationship='Lore contains information related to the mythos of Elden Ring.', metadata={'summary': \"Lore in Elden Ring encompasses the mythos and background information of the game's universe.\", 'generated_at': '2024-08-30 11:50:13.178102'}, order=1),\n",
       " Edge(node_1=Node(label='Miscellaneous', name='Lore'), node_2=Node(label='Event', name='past events'), relationship='Lore includes past events that occurred long ago.', metadata={'summary': \"Elden Ring's lore encompasses historical events from the distant past.\", 'generated_at': '2024-08-30 11:50:13.178102'}, order=2),\n",
       " Edge(node_1=Node(label='Miscellaneous', name='Lore'), node_2=Node(label='Place', name='Elden Ring'), relationship='Lore is associated with the place Elden Ring.', metadata={'summary': \"Elden Ring's lore encompasses historical events from the distant past.\", 'generated_at': '2024-08-30 11:50:13.178102'}, order=2),\n",
       " Edge(node_1=Node(label='Miscellaneous', name='Lore'), node_2=Node(label='Place', name='Lands Between'), relationship='Lore includes the history of the Lands Between.', metadata={'summary': \"Elden Ring's lore encompasses the history and background of the Lands Between.\", 'generated_at': '2024-08-30 11:50:13.178102'}, order=3),\n",
       " Edge(node_1=Node(label='Miscellaneous', name='Lore'), node_2=Node(label='Miscellaneous', name='Elden Ring'), relationship='Lore includes the mystery of Elden Ring.', metadata={'summary': \"Elden Ring's lore centers around the enigmatic nature of the Elden Ring itself.\", 'generated_at': '2024-08-30 11:50:13.178102'}, order=4),\n",
       " Edge(node_1=Node(label='Miscellaneous', name='Elden Ring'), node_2=Node(label='Miscellaneous', name='world'), relationship='Elden Ring is associated with the concept of the world.', metadata={'summary': 'The page contains comprehensive information about the world and mythos of Elden Ring.', 'generated_at': '2024-08-30 11:50:13.178102'}, order=5),\n",
       " Edge(node_1=Node(label='Miscellaneous', name='Elden Ring'), node_2=Node(label='Miscellaneous', name='mythos'), relationship='Elden Ring is associated with the concept of mythos.', metadata={'summary': 'The page contains comprehensive information about the world and mythos of Elden Ring.', 'generated_at': '2024-08-30 11:50:13.178102'}, order=5),\n",
       " Edge(node_1=Node(label='Miscellaneous', name='Mythos of Elden Ring'), node_2=Node(label='Person', name='George R. R. Martin'), relationship='George R. R. Martin wrote the Mythos of Elden Ring.', metadata={'summary': 'The lore of Elden Ring was created by George R. R. Martin.', 'generated_at': '2024-08-30 11:50:13.178102'}, order=7),\n",
       " Edge(node_1=Node(label='Event', name='The Shattering'), node_2=Node(label='Faction', name='children of Marika'), relationship='The Shattering is a war that involves the faction known as the children of Marika.', metadata={'summary': \"The Shattering is a destructive conflict among Marika's children.\", 'generated_at': '2024-08-30 11:50:13.178102'}, order=8),\n",
       " Edge(node_1=Node(label='Person', name='Marika'), node_2=Node(label='Miscellaneous', name='Demigods of the Lands Between'), relationship='Marika is the parent of the Demigods of the Lands Between.', metadata={'summary': \"Marika's children are Demigods in the Lands Between.\", 'generated_at': '2024-08-30 11:50:13.178102'}, order=9),\n",
       " Edge(node_1=Node(label='Person', name='Godwyn'), node_2=Node(label='Object', name='Elden Ring'), relationship=\"Godwyn's death is associated with the shattering of the Elden Ring.\", metadata={'summary': \"After Godwyn the Golden's death, the Elden Ring was shattered.\", 'generated_at': '2024-08-30 11:50:13.178102'}, order=10)]"
      ]
     },
     "execution_count": 35,
     "metadata": {},
     "output_type": "execute_result"
    }
   ],
   "source": [
    "graph"
   ]
  },
  {
   "cell_type": "code",
   "execution_count": 36,
   "metadata": {},
   "outputs": [
    {
     "name": "stdout",
     "output_type": "stream",
     "text": [
      "<bound method BaseModel.model_dump of Edge(node_1=Node(label='Miscellaneous', name='Lore'), node_2=Node(label='Place', name='Elden Ring'), relationship='Lore contains information related to the world of Elden Ring.', metadata={'summary': 'Lore in Elden Ring encompasses all information about its world.', 'generated_at': '2024-08-30 11:50:13.178102'}, order=0)>\n",
      "{'node_1': {'label': 'Miscellaneous', 'name': 'Lore'}, 'node_2': {'label': 'Place', 'name': 'Elden Ring'}, 'relationship': 'Lore contains information related to the world of Elden Ring.', 'order': 0} \n",
      "\n",
      "\n",
      "<bound method BaseModel.model_dump of Edge(node_1=Node(label='Miscellaneous', name='Lore'), node_2=Node(label='Miscellaneous', name='Elden Ring'), relationship='Lore contains information related to the mythos of Elden Ring.', metadata={'summary': \"Lore in Elden Ring encompasses the mythos and background information of the game's universe.\", 'generated_at': '2024-08-30 11:50:13.178102'}, order=1)>\n",
      "{'node_1': {'label': 'Miscellaneous', 'name': 'Lore'}, 'node_2': {'label': 'Miscellaneous', 'name': 'Elden Ring'}, 'relationship': 'Lore contains information related to the mythos of Elden Ring.', 'order': 1} \n",
      "\n",
      "\n",
      "<bound method BaseModel.model_dump of Edge(node_1=Node(label='Miscellaneous', name='Lore'), node_2=Node(label='Event', name='past events'), relationship='Lore includes past events that occurred long ago.', metadata={'summary': \"Elden Ring's lore encompasses historical events from the distant past.\", 'generated_at': '2024-08-30 11:50:13.178102'}, order=2)>\n",
      "{'node_1': {'label': 'Miscellaneous', 'name': 'Lore'}, 'node_2': {'label': 'Event', 'name': 'past events'}, 'relationship': 'Lore includes past events that occurred long ago.', 'order': 2} \n",
      "\n",
      "\n",
      "<bound method BaseModel.model_dump of Edge(node_1=Node(label='Miscellaneous', name='Lore'), node_2=Node(label='Place', name='Elden Ring'), relationship='Lore is associated with the place Elden Ring.', metadata={'summary': \"Elden Ring's lore encompasses historical events from the distant past.\", 'generated_at': '2024-08-30 11:50:13.178102'}, order=2)>\n",
      "{'node_1': {'label': 'Miscellaneous', 'name': 'Lore'}, 'node_2': {'label': 'Place', 'name': 'Elden Ring'}, 'relationship': 'Lore is associated with the place Elden Ring.', 'order': 2} \n",
      "\n",
      "\n",
      "<bound method BaseModel.model_dump of Edge(node_1=Node(label='Miscellaneous', name='Lore'), node_2=Node(label='Place', name='Lands Between'), relationship='Lore includes the history of the Lands Between.', metadata={'summary': \"Elden Ring's lore encompasses the history and background of the Lands Between.\", 'generated_at': '2024-08-30 11:50:13.178102'}, order=3)>\n",
      "{'node_1': {'label': 'Miscellaneous', 'name': 'Lore'}, 'node_2': {'label': 'Place', 'name': 'Lands Between'}, 'relationship': 'Lore includes the history of the Lands Between.', 'order': 3} \n",
      "\n",
      "\n",
      "<bound method BaseModel.model_dump of Edge(node_1=Node(label='Miscellaneous', name='Lore'), node_2=Node(label='Miscellaneous', name='Elden Ring'), relationship='Lore includes the mystery of Elden Ring.', metadata={'summary': \"Elden Ring's lore centers around the enigmatic nature of the Elden Ring itself.\", 'generated_at': '2024-08-30 11:50:13.178102'}, order=4)>\n",
      "{'node_1': {'label': 'Miscellaneous', 'name': 'Lore'}, 'node_2': {'label': 'Miscellaneous', 'name': 'Elden Ring'}, 'relationship': 'Lore includes the mystery of Elden Ring.', 'order': 4} \n",
      "\n",
      "\n",
      "<bound method BaseModel.model_dump of Edge(node_1=Node(label='Miscellaneous', name='Elden Ring'), node_2=Node(label='Miscellaneous', name='world'), relationship='Elden Ring is associated with the concept of the world.', metadata={'summary': 'The page contains comprehensive information about the world and mythos of Elden Ring.', 'generated_at': '2024-08-30 11:50:13.178102'}, order=5)>\n",
      "{'node_1': {'label': 'Miscellaneous', 'name': 'Elden Ring'}, 'node_2': {'label': 'Miscellaneous', 'name': 'world'}, 'relationship': 'Elden Ring is associated with the concept of the world.', 'order': 5} \n",
      "\n",
      "\n",
      "<bound method BaseModel.model_dump of Edge(node_1=Node(label='Miscellaneous', name='Elden Ring'), node_2=Node(label='Miscellaneous', name='mythos'), relationship='Elden Ring is associated with the concept of mythos.', metadata={'summary': 'The page contains comprehensive information about the world and mythos of Elden Ring.', 'generated_at': '2024-08-30 11:50:13.178102'}, order=5)>\n",
      "{'node_1': {'label': 'Miscellaneous', 'name': 'Elden Ring'}, 'node_2': {'label': 'Miscellaneous', 'name': 'mythos'}, 'relationship': 'Elden Ring is associated with the concept of mythos.', 'order': 5} \n",
      "\n",
      "\n",
      "<bound method BaseModel.model_dump of Edge(node_1=Node(label='Miscellaneous', name='Mythos of Elden Ring'), node_2=Node(label='Person', name='George R. R. Martin'), relationship='George R. R. Martin wrote the Mythos of Elden Ring.', metadata={'summary': 'The lore of Elden Ring was created by George R. R. Martin.', 'generated_at': '2024-08-30 11:50:13.178102'}, order=7)>\n",
      "{'node_1': {'label': 'Miscellaneous', 'name': 'Mythos of Elden Ring'}, 'node_2': {'label': 'Person', 'name': 'George R. R. Martin'}, 'relationship': 'George R. R. Martin wrote the Mythos of Elden Ring.', 'order': 7} \n",
      "\n",
      "\n",
      "<bound method BaseModel.model_dump of Edge(node_1=Node(label='Event', name='The Shattering'), node_2=Node(label='Faction', name='children of Marika'), relationship='The Shattering is a war that involves the faction known as the children of Marika.', metadata={'summary': \"The Shattering is a destructive conflict among Marika's children.\", 'generated_at': '2024-08-30 11:50:13.178102'}, order=8)>\n",
      "{'node_1': {'label': 'Event', 'name': 'The Shattering'}, 'node_2': {'label': 'Faction', 'name': 'children of Marika'}, 'relationship': 'The Shattering is a war that involves the faction known as the children of Marika.', 'order': 8} \n",
      "\n",
      "\n",
      "<bound method BaseModel.model_dump of Edge(node_1=Node(label='Person', name='Marika'), node_2=Node(label='Miscellaneous', name='Demigods of the Lands Between'), relationship='Marika is the parent of the Demigods of the Lands Between.', metadata={'summary': \"Marika's children are Demigods in the Lands Between.\", 'generated_at': '2024-08-30 11:50:13.178102'}, order=9)>\n",
      "{'node_1': {'label': 'Person', 'name': 'Marika'}, 'node_2': {'label': 'Miscellaneous', 'name': 'Demigods of the Lands Between'}, 'relationship': 'Marika is the parent of the Demigods of the Lands Between.', 'order': 9} \n",
      "\n",
      "\n",
      "<bound method BaseModel.model_dump of Edge(node_1=Node(label='Person', name='Godwyn'), node_2=Node(label='Object', name='Elden Ring'), relationship=\"Godwyn's death is associated with the shattering of the Elden Ring.\", metadata={'summary': \"After Godwyn the Golden's death, the Elden Ring was shattered.\", 'generated_at': '2024-08-30 11:50:13.178102'}, order=10)>\n",
      "{'node_1': {'label': 'Person', 'name': 'Godwyn'}, 'node_2': {'label': 'Object', 'name': 'Elden Ring'}, 'relationship': \"Godwyn's death is associated with the shattering of the Elden Ring.\", 'order': 10} \n",
      "\n",
      "\n"
     ]
    }
   ],
   "source": [
    "for edge in graph:\n",
    "    print(edge.model_dump)\n",
    "    print(edge.model_dump(exclude=['metadata']), \"\\n\\n\")"
   ]
  },
  {
   "cell_type": "markdown",
   "metadata": {},
   "source": [
    "## Save the graph to a graph database"
   ]
  },
  {
   "cell_type": "code",
   "execution_count": 37,
   "metadata": {},
   "outputs": [],
   "source": [
    "os.environ[\"NEO4J_USERNAME\"] = \"neo4j\"\n",
    "os.environ[\"NEO4J_PASSWORD\"] = \"12345678\"\n",
    "os.environ[\"NEO4J_URI\"]= \"bolt://localhost:7687\""
   ]
  },
  {
   "cell_type": "code",
   "execution_count": 38,
   "metadata": {},
   "outputs": [
    {
     "data": {
      "text/plain": [
       "12"
      ]
     },
     "execution_count": 38,
     "metadata": {},
     "output_type": "execute_result"
    }
   ],
   "source": [
    "from knowledge_graph_maker import Neo4jGraphModel\n",
    "\n",
    "create_indices = False\n",
    "neo4j_graph = Neo4jGraphModel(edges=graph, create_indices=create_indices)\n",
    "neo4j_graph.save()"
   ]
  }
 ],
 "metadata": {
  "kernelspec": {
   "display_name": ".venv",
   "language": "python",
   "name": "python3"
  },
  "language_info": {
   "codemirror_mode": {
    "name": "ipython",
    "version": 3
   },
   "file_extension": ".py",
   "mimetype": "text/x-python",
   "name": "python",
   "nbconvert_exporter": "python",
   "pygments_lexer": "ipython3",
   "version": "3.11.0"
  }
 },
 "nbformat": 4,
 "nbformat_minor": 2
}

{
 "cells": [
  {
   "cell_type": "code",
   "execution_count": 13,
   "metadata": {},
   "outputs": [],
   "source": [
    "from langchain.graphs import Neo4jGraph\n",
    "from langchain.chains import GraphCypherQAChain\n",
    "from langchain.prompts.prompt import PromptTemplate\n",
    "from langchain_openai import ChatOpenAI"
   ]
  },
  {
   "cell_type": "code",
   "execution_count": 14,
   "metadata": {},
   "outputs": [],
   "source": [
    "import os"
   ]
  },
  {
   "cell_type": "code",
   "execution_count": 15,
   "metadata": {},
   "outputs": [],
   "source": [
    "# OpenAI API configuration\n",
    "os.environ[\"OPENAI_API_KEY\"] = os.getenv(\"OPENAI_API_KEY\")"
   ]
  },
  {
   "cell_type": "code",
   "execution_count": 22,
   "metadata": {},
   "outputs": [],
   "source": [
    "neo4j_url = \"bolt://localhost:7687\"\n",
    "neo4j_user = \"neo4j\"\n",
    "neo4j_password = \"12345678\""
   ]
  },
  {
   "cell_type": "code",
   "execution_count": 23,
   "metadata": {},
   "outputs": [],
   "source": [
    "llm = ChatOpenAI(\n",
    "    model=\"gpt-4o\",\n",
    "    temperature=0,\n",
    "    max_tokens=None,\n",
    "    timeout=None,\n",
    "    max_retries=2,\n",
    "    api_key= os.environ[\"OPENAI_API_KEY\"]  # if you prefer to pass api key in directly instaed of using env vars\n",
    "    # base_url=\"...\",\n",
    "    # organization=\"...\",\n",
    "    # other params...\n",
    ")"
   ]
  },
  {
   "cell_type": "code",
   "execution_count": 24,
   "metadata": {},
   "outputs": [],
   "source": [
    "# Cypher generation prompt\n",
    "cypher_generation_template = \"\"\"\n",
    "You are an expert Neo4j Cypher translator who converts English to Cypher based on the Neo4j Schema provided, following the instructions below:\n",
    "1. Generate Cypher query compatible ONLY for Neo4j Version 5\n",
    "2. Do not use EXISTS, SIZE, HAVING keywords in the cypher. Use alias when using the WITH keyword\n",
    "3. Use only Nodes and relationships mentioned in the schema\n",
    "4. Always do a case-insensitive and fuzzy search for any properties related search. Eg: to search for a Client, use `toLower(client.id) contains 'neo4j'`. To search for Slack Messages, use 'toLower(SlackMessage.text) contains 'neo4j'`. To search for a project, use `toLower(project.summary) contains 'logistics platform' OR toLower(project.name) contains 'logistics platform'`.)\n",
    "5. Never use relationships that are not mentioned in the given schema\n",
    "6. When asked about projects, Match the properties using case-insensitive matching and the OR-operator, E.g, to find a logistics platform -project, use `toLower(project.summary) contains 'logistics platform' OR toLower(project.name) contains 'logistics platform'`.\n",
    "\n",
    "schema: {schema}\n",
    "\n",
    "Examples:\n",
    "Question: Which client's projects use most of our people?\n",
    "Answer: ```MATCH (c:CLIENT)<-[:HAS_CLIENT]-(p:Project)-[:HAS_PEOPLE]->(person:Person)\n",
    "RETURN c.name AS Client, COUNT(DISTINCT person) AS NumberOfPeople\n",
    "ORDER BY NumberOfPeople DESC```\n",
    "Question: Which person uses the largest number of different technologies?\n",
    "Answer: ```MATCH (person:Person)-[:USES_TECH]->(tech:Technology)\n",
    "RETURN person.name AS PersonName, COUNT(DISTINCT tech) AS NumberOfTechnologies\n",
    "ORDER BY NumberOfTechnologies DESC```\n",
    "\n",
    "Question: {question}\n",
    "\"\"\"\n",
    "\n",
    "cypher_prompt = PromptTemplate(\n",
    "    template = cypher_generation_template,\n",
    "    input_variables = [\"schema\", \"question\"]\n",
    ")"
   ]
  },
  {
   "cell_type": "code",
   "execution_count": 26,
   "metadata": {},
   "outputs": [],
   "source": [
    "CYPHER_QA_TEMPLATE = \"\"\"You are an assistant that helps to form nice and human understandable answers.\n",
    "The information part contains the provided information that you must use to construct an answer.\n",
    "The provided information is authoritative, you must never doubt it or try to use your internal knowledge to correct it.\n",
    "Make the answer sound as a response to the question. Do not mention that you based the result on the given information.\n",
    "If the provided information is empty, say that you don't know the answer.\n",
    "Final answer should be easily readable and structured.\n",
    "Information:\n",
    "{context}\n",
    "\n",
    "Question: {question}\n",
    "Helpful Answer:\"\"\"\n",
    "\n",
    "qa_prompt = PromptTemplate(\n",
    "    input_variables=[\"context\", \"question\"], template=CYPHER_QA_TEMPLATE\n",
    ")"
   ]
  },
  {
   "cell_type": "code",
   "execution_count": 27,
   "metadata": {},
   "outputs": [],
   "source": [
    "def query_graph(user_input):\n",
    "    graph = Neo4jGraph(url=neo4j_url, username=neo4j_user, password=neo4j_password)\n",
    "    chain = GraphCypherQAChain.from_llm(\n",
    "        llm=llm,\n",
    "        graph=graph,\n",
    "        verbose=True,\n",
    "        return_intermediate_steps=True,\n",
    "        cypher_prompt=cypher_prompt,\n",
    "        qa_prompt=qa_prompt\n",
    "        )\n",
    "    result = chain(user_input)\n",
    "    return result"
   ]
  },
  {
   "cell_type": "code",
   "execution_count": 29,
   "metadata": {},
   "outputs": [
    {
     "name": "stdout",
     "output_type": "stream",
     "text": [
      "\n",
      "\n",
      "\u001b[1m> Entering new GraphCypherQAChain chain...\u001b[0m\n",
      "Generated Cypher:\n",
      "\u001b[32;1m\u001b[1;3mcypher\n",
      "MATCH (e1:Entity {name: 'Tanith'})-[r:RELATED]-(e2:Entity {name: 'Lord Rykard'})\n",
      "RETURN e1.name AS Entity1, type(r) AS RelationshipType, r.description AS Description, r.metadata AS Metadata, r.order AS Order, e2.name AS Entity2\n",
      "\u001b[0m\n",
      "Full Context:\n",
      "\u001b[32;1m\u001b[1;3m[{'Entity1': 'Tanith', 'RelationshipType': 'RELATED', 'Description': \"Tanith continued to stay by Lord Rykard's side.\", 'Metadata': '{\"summary\": \"Tanith chose to remain with Lord Rykard despite receiving the Tonic of Forgetfulness.\", \"generated_at\": \"2024-08-24 20:26:22.238546\"}', 'Order': 329, 'Entity2': 'Lord Rykard'}, {'Entity1': 'Tanith', 'RelationshipType': 'RELATED', 'Description': \"Tanith stayed by Lord Rykard's side even after his men turned against him.\", 'Metadata': '{\"summary\": \"Tanith remained loyal to Lord Rykard despite his men betraying him.\", \"generated_at\": \"2024-08-24 20:26:22.238546\"}', 'Order': 328, 'Entity2': 'Lord Rykard'}, {'Entity1': 'Tanith', 'RelationshipType': 'RELATED', 'Description': 'Tanith and Lord Rykard have a relationship where Tanith became the consort of Lord Rykard.', 'Metadata': '{\"summary\": \"Tanith became Lord Rykard\\'s consort after catching his eye.\", \"generated_at\": \"2024-08-24 20:26:22.238546\"}', 'Order': 327, 'Entity2': 'Lord Rykard'}, {'Entity1': 'Tanith', 'RelationshipType': 'RELATED', 'Description': 'Tanith is in a consort relationship with Lord Rykard.', 'Metadata': '{\"summary\": \"Tanith is the partner of Lord Rykard.\", \"generated_at\": \"2024-08-24 20:26:22.238546\"}', 'Order': 324, 'Entity2': 'Lord Rykard'}]\u001b[0m\n",
      "\n",
      "\u001b[1m> Finished chain.\u001b[0m\n",
      "Tanith and Lord Rykard share a deep and committed relationship. Tanith became the consort of Lord Rykard after catching his eye, and she has remained loyal to him through various challenges. Despite receiving the Tonic of Forgetfulness and even after Lord Rykard's men turned against him, Tanith chose to stay by his side. This demonstrates her unwavering loyalty and dedication to Lord Rykard.\n"
     ]
    }
   ],
   "source": [
    "user_input = \"What is the relationship between Tanith and Lord Rykard?\"\n",
    "\n",
    "result = query_graph(user_input)\n",
    "intermediate_steps = result[\"intermediate_steps\"]\n",
    "cypher_query = intermediate_steps[0][\"query\"]\n",
    "database_results = intermediate_steps[1][\"context\"]\n",
    "answer = result[\"result\"]\n",
    "\n",
    "print(answer)"
   ]
  },
  {
   "cell_type": "code",
   "execution_count": 12,
   "metadata": {},
   "outputs": [
    {
     "name": "stdout",
     "output_type": "stream",
     "text": [
      "<class 'dict'>\n",
      "{'query': 'What is the relationship between Bilbo ang Gollum?', 'result': 'The relationship between Bilbo and Gollum is that the Ring passed from Gollum to Bilbo.', 'intermediate_steps': [{'query': \"cypher\\nMATCH (e1:Entity {name: 'Bilbo'})-[r:RELATED]-(e2:Entity {name: 'Gollum'})\\nRETURN e1.name AS Entity1, e2.name AS Entity2, r.description AS RelationshipDescription, r.metadata AS RelationshipMetadata, r.order AS RelationshipOrder\\n\"}, {'context': [{'Entity1': 'Bilbo', 'Entity2': 'Gollum', 'RelationshipDescription': 'The Ring passed from Gollum to Bilbo', 'RelationshipMetadata': '{\"summary\": \"Bilbo Baggins celebrates his birthday and leaves the Ring to Frodo, who is advised by Gandalf to take it away from the Shire. Frodo, along with companions Merry, Pippin, and Sam, embark on a journey to Rivendell while being pursued by Black Riders. They are aided by various characters including Tom Bombadil and Strider (Aragorn), and eventually reach Rivendell where they learn more about the Ring\\'s history and the threat of Sauron.\", \"generated_at\": \"2024-08-02 18:54:22.482385\"}', 'RelationshipOrder': 0}]}]}\n",
      "The relationship between Bilbo and Gollum is that the Ring passed from Gollum to Bilbo.\n"
     ]
    }
   ],
   "source": [
    "print(type(result))\n",
    "print(result)\n",
    "print(answer)"
   ]
  }
 ],
 "metadata": {
  "kernelspec": {
   "display_name": "graphrag",
   "language": "python",
   "name": "python3"
  },
  "language_info": {
   "codemirror_mode": {
    "name": "ipython",
    "version": 3
   },
   "file_extension": ".py",
   "mimetype": "text/x-python",
   "name": "python",
   "nbconvert_exporter": "python",
   "pygments_lexer": "ipython3",
   "version": "3.9.18"
  }
 },
 "nbformat": 4,
 "nbformat_minor": 2
}

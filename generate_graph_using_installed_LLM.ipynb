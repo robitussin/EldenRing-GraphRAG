{
 "cells": [
  {
   "cell_type": "markdown",
   "metadata": {},
   "source": [
    "# Convert text to a graph"
   ]
  },
  {
   "cell_type": "markdown",
   "metadata": {},
   "source": [
    "This notebook demonstrates how to extract graph from any text using the graph maker\n",
    "\n",
    "Steps:\n",
    "1. Split the document\n",
    "2. Construct the knowledge graph\n",
    "3. Save the graph to a graph database"
   ]
  },
  {
   "cell_type": "code",
   "execution_count": 1,
   "metadata": {},
   "outputs": [],
   "source": [
    "import os"
   ]
  },
  {
   "cell_type": "code",
   "execution_count": 2,
   "metadata": {},
   "outputs": [
    {
     "name": "stderr",
     "output_type": "stream",
     "text": [
      "INFO:numexpr.utils:Note: NumExpr detected 12 cores but \"NUMEXPR_MAX_THREADS\" not set, so enforcing safe limit of 8.\n",
      "INFO:numexpr.utils:NumExpr defaulting to 8 threads.\n"
     ]
    }
   ],
   "source": [
    "from knowledge_graph_maker import GraphMaker, Ontology, OllamaClient\n",
    "from knowledge_graph_maker import Document"
   ]
  },
  {
   "cell_type": "markdown",
   "metadata": {},
   "source": [
    "## Split the document"
   ]
  },
  {
   "cell_type": "code",
   "execution_count": 3,
   "metadata": {},
   "outputs": [],
   "source": [
    "from langchain import hub\n",
    "from langchain.chains import create_extraction_chain_pydantic\n",
    "from langchain_core.pydantic_v1 import BaseModel\n",
    "from typing import Optional, List"
   ]
  },
  {
   "cell_type": "markdown",
   "metadata": {},
   "source": [
    "### Extract propositions from each paragraph\n",
    "\n",
    "In this part, we will use an LLM to extract stand alone statements from a raw piece of text.\n",
    "\n",
    "Example: Greg went to the park. He likes walking > ['Greg went to the park.', 'Greg likes walking']"
   ]
  },
  {
   "cell_type": "markdown",
   "metadata": {},
   "source": [
    "Pulling out propositions is done via a well-crafted prompt. I'm going to pull it from LangHub, LangChain's home for prompts.\n",
    "\n",
    "Use custom prompt to instruct an LLM to extract propositions."
   ]
  },
  {
   "cell_type": "code",
   "execution_count": 9,
   "metadata": {},
   "outputs": [
    {
     "name": "stderr",
     "output_type": "stream",
     "text": [
      "c:\\Users\\SLY\\.conda\\envs\\graphmaker\\Lib\\site-packages\\langchain\\hub.py:86: DeprecationWarning: The `langchainhub sdk` is deprecated.\n",
      "Please use the `langsmith sdk` instead:\n",
      "  pip install langsmith\n",
      "Use the `pull_prompt` method.\n",
      "  res_dict = client.pull_repo(owner_repo_commit)\n"
     ]
    }
   ],
   "source": [
    "obj = hub.pull(\"wfh/proposal-indexing\")"
   ]
  },
  {
   "cell_type": "markdown",
   "metadata": {},
   "source": [
    "We will be using mistral to extract the propositions"
   ]
  },
  {
   "cell_type": "code",
   "execution_count": 10,
   "metadata": {},
   "outputs": [],
   "source": [
    "# from langchain_ollama.llms import OllamaLLM\n",
    "from langchain_ollama import ChatOllama"
   ]
  },
  {
   "cell_type": "code",
   "execution_count": 11,
   "metadata": {},
   "outputs": [],
   "source": [
    "chunking_llm = ChatOllama(\n",
    "    model=\"llama3.1\",\n",
    "    temperature=0,\n",
    "    # other params...\n",
    ")"
   ]
  },
  {
   "cell_type": "markdown",
   "metadata": {},
   "source": [
    "Then I'll make a runnable w/ langchain, this'll be a short way to combine the prompt and llm"
   ]
  },
  {
   "cell_type": "code",
   "execution_count": 12,
   "metadata": {},
   "outputs": [],
   "source": [
    "# use it in a runnable\n",
    "runnable = obj | chunking_llm"
   ]
  },
  {
   "cell_type": "markdown",
   "metadata": {},
   "source": [
    "The output from a runnable is a json-esque structure in a string. We need to pull the sentences out. I found that LangChain's example extraction was giving me a hard time so I'm doing it manually with a pydantic data class. There is definitely room to improve this.\n",
    "\n",
    "Create your class then put it in an extraction chain."
   ]
  },
  {
   "cell_type": "code",
   "execution_count": 13,
   "metadata": {},
   "outputs": [],
   "source": [
    "# Pydantic data class\n",
    "class Sentences(BaseModel):\n",
    "    sentences: List[str]\n",
    "\n",
    "# Extraction\n",
    "structured_llm = chunking_llm.with_structured_output(Sentences)"
   ]
  },
  {
   "cell_type": "code",
   "execution_count": 9,
   "metadata": {},
   "outputs": [
    {
     "name": "stderr",
     "output_type": "stream",
     "text": [
      "INFO:httpx:HTTP Request: POST http://127.0.0.1:11434/api/chat \"HTTP/1.1 200 OK\"\n"
     ]
    }
   ],
   "source": [
    "res = structured_llm.invoke(\"Lore in Elden Ring covers all the information related to the world and mythos of the game. From past events that occurred long ago, to the history of the Lands Between and the mystery of the elusive Elden Ring, all can be found here. Please note that this page contains heavy spoilers.\")"
   ]
  },
  {
   "cell_type": "markdown",
   "metadata": {},
   "source": [
    "Define a function to extract propositions"
   ]
  },
  {
   "cell_type": "code",
   "execution_count": 10,
   "metadata": {},
   "outputs": [
    {
     "data": {
      "text/plain": [
       "Sentences(sentences=['The lore in Elden Ring covers all the information related to the world and mythos of the game.', 'From past events that occurred long ago, to the history of the Lands Between and the mystery of the elusive Elden Ring, all can be found here.', 'Please note that this page contains heavy spoilers.'])"
      ]
     },
     "execution_count": 10,
     "metadata": {},
     "output_type": "execute_result"
    }
   ],
   "source": [
    "res"
   ]
  },
  {
   "cell_type": "code",
   "execution_count": 11,
   "metadata": {},
   "outputs": [
    {
     "data": {
      "text/plain": [
       "['The lore in Elden Ring covers all the information related to the world and mythos of the game.',\n",
       " 'From past events that occurred long ago, to the history of the Lands Between and the mystery of the elusive Elden Ring, all can be found here.',\n",
       " 'Please note that this page contains heavy spoilers.']"
      ]
     },
     "execution_count": 11,
     "metadata": {},
     "output_type": "execute_result"
    }
   ],
   "source": [
    "res.sentences"
   ]
  },
  {
   "cell_type": "code",
   "execution_count": 134,
   "metadata": {},
   "outputs": [],
   "source": [
    "def get_propositions(text):\n",
    "    runnable_output = runnable.invoke({\n",
    "    \t\"input\": text\n",
    "    })\n",
    "    \n",
    "    print(\"Runnable Output:\", runnable_output)\n",
    "    print(\"Runnable Output Content:\", runnable_output.content)\n",
    "    \n",
    "    res = structured_llm.invoke(runnable_output.content)\n",
    "    return res"
   ]
  },
  {
   "cell_type": "markdown",
   "metadata": {},
   "source": [
    "Load source document"
   ]
  },
  {
   "cell_type": "code",
   "execution_count": 15,
   "metadata": {},
   "outputs": [],
   "source": [
    "with open('./data_input/txt/eldenring.txt') as file:\n",
    "    essay = file.read()"
   ]
  },
  {
   "cell_type": "markdown",
   "metadata": {},
   "source": [
    "Then you need to decide what you send to your proposal maker. The prompt has an example that is about 1K characters long. So I would experiment with what works for you. This isn't another chunking decision, just pick something reasonable and try it out.\n",
    "\n",
    "I'm using paragraphs\n",
    "\n",
    "Split the documents at each line break"
   ]
  },
  {
   "cell_type": "code",
   "execution_count": 17,
   "metadata": {},
   "outputs": [],
   "source": [
    "paragraphs = essay.split(\"\\n\\n\")"
   ]
  },
  {
   "cell_type": "markdown",
   "metadata": {},
   "source": [
    "Let's see how many we have"
   ]
  },
  {
   "cell_type": "code",
   "execution_count": 18,
   "metadata": {},
   "outputs": [
    {
     "data": {
      "text/plain": [
       "81"
      ]
     },
     "execution_count": 18,
     "metadata": {},
     "output_type": "execute_result"
    }
   ],
   "source": [
    "len(paragraphs)"
   ]
  },
  {
   "cell_type": "code",
   "execution_count": 19,
   "metadata": {},
   "outputs": [
    {
     "data": {
      "text/plain": [
       "['Lore in Elden Ring covers all the information related to the world and mythos of the game. From past events that occurred long ago, to the history of the Lands Between and the mystery of the elusive Elden Ring, all can be found here. Please note that this page contains heavy spoilers.',\n",
       " '- The Mythos of Elden Ring was written by George R. R. Martin. Mythos refers to the overall narrative theme or plot structure. It can also be interpreted as a belief system.\\n- The Story of Elden Ring was written by Hidetaka Miyazaki and his team at FromSoftware\\n- The Lore and Story of Elden Ring are told in a similar manner to other FromSofware \"Souls\" games, so players should expect to find plenty left to interpretation as well as seemingly contradictory statements about various game characters, elements, and concepts.',\n",
       " 'Elden Ring Lore Overview',\n",
       " 'The storyteller folds her slender hands - both pairs - and speaks. “It happened an age ago. But when I recall, I see it true.” So begins the tale of the Shattering, a devastating war between the children of Marika, Demigods of the Lands Between. One grim night in the depths of winter, a flock of unknown assassins stole across the Lands Between.\\nIn a coetaneous attack, this foul covenant snuffed out the lives of many of the God-Queen’s kin throughout the empire, too numerous and too scattered for her godly protection to save. The assassins’ targets were multifold, but none was as devastating a loss to the Eternal Queen as that of Godwyn the Golden. After his death, the Elden Ring was somehow shattered, and the order of the world broke with it.\\nOut of this chaos came war. Open, bitter war, pitting blood against blood and kin against kin. The conflict broke a vast and prosperous empire into brittle fragments. No single side could find enough purchase to maintain a decisive victory, even when fueled by the power of a Great Rune.\\nThe battle of General Radahn against Malenia the Severed illustrated that neither strength nor skill alone would be enough to take control of the entirety of the lands Marika had united. And so, the Lands Between are no longer gripped by open war, but caught in an uneasy stalemate that seems impossible to resolve. “Unless of course,” the storyteller says, a coy smile on both her lips, “thou shouldst take the crown?”\\nTake a deeper dive into the carefully crafted mythology of George R.R. Martin – author of The New York Times best-selling fantasy series, A Song of Ice and Fire – and the world created by FromSoftware based on his work in this new trailer available here.\\nTransported to ages long ago, you will relive the Shattering, a war that brought darkness to the Lands Between, initiated by demigods’ hunger for power. You’ll fight alongside General Radahn and Malenia the Severed, but even these two undefeatable warriors couldn’t reunite a world so badly broken. There is only one hope left: the hope that a new Elden Lord will rise and lift the veil of shadows that has fallen over Marika’s domain.\\nThe wait is almost over. Soon you’ll venture into the Lands Between and strive to become its Elden Lord. Stand ready, Tarnished, and prepare to claim what fate has promised you.',\n",
       " 'Elden Ring Location Lore\\nThe Lands Between is the world of Elden Ring, and those who live in The Lands Between were blessed by Grace through the Elden Ring and the Erdtree. Those who were blessed by the Elden Ring are characterized by having a golden aura that can be seen in their eyes. However, at some point, some of those who were blessed lost their grace; they were exiled and labeled the Tarnished.  As time passed, for unknown reasons, the Elden Ring was shattered and its shards were scattered across the Lands Between. The largest of these pieces were called Great Runes and were claimed by the six Demigod children of Queen Marika the Eternal, causing them to inherit different powers and have been physically changed and twisted due to being corrupted by the power of these runes.\\nThe Lands Between is divided into 7 distinct areas,',\n",
       " '- Limgrave\\n- Caelid \\n- Liurnia of the Lakes \\n- Altus Plateau \\n- Mt. Gelmir\\n- Mountaintops of the Giants\\n- The River Kingdoms (underground) \\n- Each overseen by a Demigod, and features a central \"overworld\" that connects all of these areas. According to an interview with Miyazaki, players will have total freedom as to the order they want to tackle for each area, and it is up to the player on how they want to approach it. The hub area similar to Firelink Shrine or Majula in previous games will not be accessible at the beginning of the game, which means you will need to progress the game until you reach the hub area.',\n",
       " '------------------------------------------------\\nElden Ring Character Lore',\n",
       " 'The Tarnished\\nAccording to Hidetaka Miyazaki: \"The Lands Between is supposed to invoke this feeling of something that\\'s very mysterious and very ethereal – and we hope that when players play the game, they\\'re going to experience that.\"\\nIn the opening of the official reveal trailer that was presented in E3 2021, we see a softly spoken, hooded woman saying \"The Tarnished, will soon return.\" The question is, who and what is The Tarnished? Simply put, you are the Tarnished. As the player, you are one of the Tarnished that have been exiled upon losing their blessing of Grace granted by the Elden Ring and the Erdtree, a tree that hosts source and life of The Lands Between. Very much like previous Souls games, where you are the Chosen Undead or the Ashen One. After the shattering of the Elden Ring, you are then called back by this lost Grace to The Lands Between, along with other Tarnished to recover the shards of the Elden Ring, to make them whole once again, and to become the Elden Lord of The Lands Between.\\nAccording to Hidetaka Miyazaki in an interview: \" I feel like one of the main themes of the game is how the player, the Tarnished, approaches or treats this new-found grace and this return to the land that they were once banished from, how they interpret this and the meaning. It\\'s not just the player-character, of course, it\\'s lots of characters in the game, who are all beckoned back and will have their own adventures and motives. We want the player to discover for themselves what that means and how they want to begin their adventure.\"',\n",
       " 'Melina\\nOne of the first people the Tarnished encounters on their journey, Melina maintains an air of mystery throughout the game. She does not have a physical form and acts as the Tarnished\\'s Finger Maiden in exchange for taking her to the Erdtree, then later on, to the Mountaintops of the Giants. She approaches the Tarnished to aid her in her search for her purpose given to her by her mother, who she believes can be found at the base of the Erdtree, leading many to speculate that her mother is Marika. When summoned, she wields the Blade of Calling, a dagger that was previously owned by the kindling maiden, fitting considering her role as kindling when the Erdtree is burnt down. Speaking with Melina at various Sites of Grace reveals her ability to recall echoes of Queen Marika\\'s past actions and words, which she offers in lieu of a \"maiden\\'s guidance\".\\nMelina holds contempt for the Frenzied Flame and believes that whoever lords over the chaos and damage it brings is no Lord at all. If the Tarnished takes the Frenzied Flame before the event at the Forge of the Giants, she will leave them and will threaten to deliver them Destined Death once they become Lord of the Frenzied Flame.',\n",
       " \"White Mask Varre\\nThe White Masks encountered in Mohgwyn Palace were initially abducted by Mogh, Lord of Blood and turned into Bloody Fingers through an unknown ritual involving Mogh's accursed Omen blood. Of the four White Masks the Tarnished encounters in game, only Varre was able to withstand and tame the accursed blood. Despite being abducted by the Lord of Blood, he remains loyal to the Mohgwyn Dynasty and tries to indoctrinate the Tarnished into the dynasty. Even as he is dying at the at the end of his questline, forsaken by his Lord, he calls out to Mohg and blesses the Mohgwyn Dynasty.\",\n",
       " \"Bloody Finger Hunter Yura\\nA samurai from the Land of Reeds whose purpose is to hunt down Bloody Fingers. His biggest target is Eleonora, Violet Bloody Finger, a Tarnished whom he holds in high regard. It is uncertain what exactly caused Eleonora's corruption into a Bloody Finger - Yura himself warns the Tarnished against the dangers of Dragon Communion, stating that those who partake in it one day lose their humanity. On the other hand, other Bloody Fingers the Tarnished encounter, some of which are Yura's targets, are those that have been approached and swayed by Mohg, the Lord of Blood himself.\",\n",
       " \"Sorcerer Rogier\\nA Tarnished that, despite his easy-going nature, is said to be a wise and powerful sorcerer by his old travelling companion, D. Rogier was once a scholar seeking the truth behind the Night of the Black Knives. His scholarly pursuits eventually brought him under Stormveil Castle, where he found and disturbed a corpse, causing him to be afflicted with Death. As opposed to D who sees Those Who Live in Death as a threat against the Golden Order, Rogier is empathetic towards them, believing them to have committed no offence. By finishing Rogier's quest, the Tarnished is able to help him reveal many insights about the night of the assassination before he finally succumbs to his affliction.\",\n",
       " \"Fia\\nA Tarnished Deathbed Companion driven from her home when awoken by the guidance of grace. Fia describes a Deathbed Companion as a person who receives warmth and life from numerous champions, and then lays with the remains of an exalted noble to revive them, an act she says is revered in her homeland. She is empathetic towards Those Who Live in Death and put it upon herself to be their guardian.\\nBefore meeting her at Deeproot Depths, the Tarnished will encounter her champions - one of which is Rogier, and another who is Lionel the Lionhearted, a knight Fia met on her journey to the Lands Between who declared being her father. After bringing together Ranni's half of the Cursemark of Death from the Divine Tower of Liurnia and Godwyn's half from D, she implies that being Godwyn's Deathbed Companion will have him be reborn as a rune representing Those Who Live in Death - the Mending Rune of the Death-Prince.\",\n",
       " \"D, Hunter of the Dead\\nA devout follower of the Golden Order, D hunts Those Who Live in Death, most notably Tibia Mariners for their Deathroot. He has a twin brother whose dialogue suggests his name is Darian. Despite having separate bodies and separate minds, the twins share the same soul and one cannot be conscious when the other is. Where other Orders would have seen them as cursed beings, the two twins found comfort in the Golden Order, the one Order that doesn't. D states that Those Who Live in Death go against the principles of the Golden Order, and so they must be exterminated.\",\n",
       " \"D, Beholder of Death\\nD's Twin Brother, whose name is inferred to be Devin from D's voicelines. He can be found slumbering in the Siofra Aqueduct while D is alive, and in the same place grieving when D is dead. Despite not being able to talk and interact with one another, the two brothers seem to be close as he swears revenge against his brother's killer, whether it be Fia or the Tarnished, when given his brother's armor set.\",\n",
       " \"Gurranq, Beast Clergyman\\nA large beastman who hungers for Deathroot. Before meeting the Tarnished, D was in charge of hunting for and providing Gurranq with these Deathroot. It is heavily implied that the Beast Clergyman the Tarnished encounters in Crumbling Farum Azula is Gurranq himself as he recognises them if they have given him all 9 Deathroot. It is therefore also implied that Gurranq is Maliketh, the Black Blade.\\nMaliketh is Marika's Shadow bestowed upon her by the Greater Will as an Empyrean, like how Blaidd is to Ranni. According to the Stone of Gurranq, Maliketh was a ferocious warrior whose name meant 'Death of the Demigods'. He was ordered by Marika to lock away the Rune of Death, also referred to as Destined Death. However, a fragment of the rune was stolen and used in the Night of the Black Knives, leading to the death of the first demigod, Godwyn the Golden. To ensure the rune was never stolen again, Maliketh bound his sword, imbued with the Rune of Death, within his own body and changed his name. His Remembrance implies that he was betrayed by Marika, though in what exact matter is unknown.\",\n",
       " \"Roderika\\nA Tarnished driven away from her home across the sea. The cloak she wears implies that she used to be a member of royalty. At some point upon arriving at the Lands Between, she happened upon White Mask Varre, who gave her the same advice as he gives the Tarnished at the beginning of their journey - to seek Godrick and his Great Rune at Stormveil Castle. Upon arriving at Stormhill, the men escorting her were taken and sacrificed for grafting, leaving her in guilt about the fact that she's too afraid to join them.\\nShe moves to the Roundtable Hold to find purpose after receiving the hopeful echoes of her men through the Chrysalids' Memento. Here, Smithing Master Hewg recognises her potential for spirit tuning through her eyes, and with a bit of encouragement from the Tarnished, trains her to be a skillful spirit tuner. The two become close, and even as the Roundtable Hold is burning down, she stays behind with him to repay his kindness.\",\n",
       " 'Smithing Master Hewg\\nA misbegotten chained and imprisoned at the Roundtable Hold. Here, he is tasked by Queen Marika to smith a weapon strong enough to kill a god, a task that he makes his life goal. Hewg strongly believes the Tarnished will be the one to become Elden Lord, and will say so before he completely loses his memory.',\n",
       " 'Nepheli Loux\\nAdoptive daughter of Sir Gideon Ofnir. According to Gideon, he took her in when she lost the guidance of grace and became a Tarnished. Nepheli is a skilled warrior who believes in standing up and enacting justice for the weak and oppressed. She once believed that her adoptive father held the same beliefs, but after learning that he was the mastermind behind the attack on the Village of the Albinaurics, she loses faith in him. It is speculated that Nepheli has ties with the first Elden Lord, Godfrey, and therefore the Golden Lineage, as she bears the same last name as Hoarah Loux and as Kenneth Haight deems her worthy of taking up the mantle of leader of Limgrave.',\n",
       " \"Kenneth Haight\\nA member of the Erdtree royalty, self-proclaimed rightful leader of Limgrave and owner of Fort Haight. Kenneth looks down on Godrick and deems him unworthy of ruling Limgrave for his cowardly actions during the Shattering, as well as not possessing the proper lineage required to rule. After taking back Fort Haight from Godrick's forces and seeing the state it's been left in, Kenneth laments that he doesn't have the authority to rule Limgrave and goes on to look for an eligible candidate, until he finally comes across Nepheli Loux.\",\n",
       " \"Gatekeeper Gostoc\\nThe Gatekeeper of Stormveil Castle. Despite this, he informs the Tarnished of a safer side passage to allow them to enter the castle undetected. He can be caught sneaking and following the Tarnished around in the castle, and each time they are defeated, Gostoc steals a portion of the Golden Runes they drop. It seems he does this with each Tarnished that comes to Stormveil Castle to challenge the shardbearer.\\nGostoc holds contempt for the master of the castle, Godrick, having been mistreated and looked down upon by him. Much of Gostoc's dialogue reveals that he longs for freedom from his master and duties. However, when Nepheli takes the throne, he is happy to return to his duties.\",\n",
       " \"Boc the seamster\\nA demi-human outcast often picked on for his looks. He looks up to his late mother, who was a skilled seamstress and one of few the few people who cared for him. Boc was kicked out of his former home in the Costal Cave and had his possessions stolen by the other demi-humans. After the Tarnished helps him take back his prized Sewing Needle and Tailoring Tools, he offers to tailor their armor as compensation.\\nThroughout his interactions with the Tarnished, Boc expresses unhappiness towards his looks. The Tarnished can either grant Boc a Larval Tear to help change his appearance or let him know he's accepted, both of which, though different in outcome, Boc is grateful for.\",\n",
       " \"Brother Corhyn\\nA cleric of the Golden Order. His armor implies that he once foretold an inauspicious prophecy, though of what exactly is unclear. Throughout his questline, Corhyn shows high and unwavering faith in the Golden Order. He is greatly interested in discovering the secrets of the Order, and so leaves the Roundtable in search for Goldmask, a great scholar of Golden Order fundamentalism.\\nAfter introducing him to Goldmask, Corhyn acts as Goldmask's scribe, translating and recording his various finger movements into written records. Corhyn holds Goldmask in high regard, but after learning of his reservations towards the Golden Order, Corhyn begins to question his master's intentions.\",\n",
       " \"Goldmask\\nThe ever brilliant Goldmask is a famed scholar of Golden Order fundamentalism and one of many Tarnished called back to the Lands Between after the Shattering. He doesn't speak and instead communicates through rhythmic hand and finger movements.\\nGoldmask once lamented that hunters of Those Who Live in Death had been reduced to fanatics of the Golden Order and hunted simply for the sake of having an evil to fight against. Throughout his questline, the Tarnished aids him in better understanding the Golden Order, most notably in the nature of Radagon, to correct the imperfections that lie within the Order. With the Mending Rune of Perfect Order, Goldmask concluded that the imperfections found were due to the very gods being just as fickle as ordinary men. \",\n",
       " \"Gowry\\nA Kindred of Rot disguised as an old sage and Millicent's caretaker as a child. It is uncertain what or where his real form is as he returns to his shack as he was before most times after being attacked.\\nAfter Malenia's Scarlet Aeonia bloomed in Caelid during the Shattering, Gowry dedicated his services to her, believing her to be the one to bring about a new order - the Order of Rot. In the swamp of Aeonia, he found Millicent, and presumably her sisters, as babies and proceeded to raise them, hoping that when Malenia one day ascended to be the Goddess of Rot, they too would be reborn as scarlet valkyries. Of all the sisters, Gowry saw the most potential in Millicent to follow in Malenia's footsteps.\\nAt the end of Millicent's quest, Gowry asks the Tarnished to aid Millicent's sisters in attacking her. He believes that the betrayal she feels from the person she trusted the most will act as a catalyst for her to 'bloom'.\",\n",
       " \"Millicent\\nA daughter of Malenia, Millicent shares many striking similarities with her mother - bright red hair, a missing arm from her severe scarlet rot affliction, and skilled swordsmanship that resembles her mother's style. Due to the scarlet rot, though she feels a sense of familiarity within Gowry's Shack, Millicent does not remember her childhood with Gowry.\\nUpon being cured using the Unalloyed Golden Needle, Millicent sets out on a journey to seek Malenia. She hopes that she may be able to aid Malenia in resisting the call of the scarlet rot. Before she's able to reach the Empyrean, she is ambushed by her sisters at Elphael and possibly the Tarnished if they so choose. If the Tarnished defends her instead, Millicent reveals that she is aware of what Gowry hoped to she would bloom into. She removes the golden needle and succumbs to the scarlet rot, not wanting live as someone other than herself.\",\n",
       " 'Irina\\nThe blind daughter of Edgar, the Commander of Castle Morne. The Tarnished meets her after crossing the Bridge of Sacrifice to the Weeping Peninsula. With the help of her father and some attendants at the castle, she escaped Castle Morne after the Misbegotten serving under the castle rebelled. She cares much for her father and implores the Tarnished to deliver a letter persuading him to leave the castle.\\nTheir reunion unfortunately never happens as she gets murdered. From the large sword left by her corpse, it is implied that an escaped Misbegotten from Castle Morne was her killer.',\n",
       " \"Edgar\\nThe Commander of Castle Morne, ordained by Godrick. He has a high sense of duty and stays behind to protect the castle's prized sword, the Grafted Blade Greatsword, even after the rest of the castle's attendants had fled from the Misbegotten rebellion. After finding Irina's body, he expresses regret over not protecting her and swears vengeance towards her killers.\\nEdgar can later be found at Revengers Shack as an invader. From the Shabriri Grape he drops, it is speculated that he succumbed to madness from Irina's death.\",\n",
       " \"Hyetta\\nA blind young woman who resembles Irina. Despite being blind, Hyetta is able to perceive some form of light every time she consumes a Shabriri Grape. While at first she is disgusted by the fact the Shabriri Grapes are human eyes, she quickly comes to terms with it and affirms that it's required for her to become a finger maiden. It seems that the Tarnished is not the only person bringing her Shabriri Grapes. Hyetta mentions that other beings with trembling hands and emaciated fingers have given her the grapes before.\\nSuccessfully completing her quest and aiding her in becoming a Finger Maiden gives the Tarnished more information on the Three Fingers and the Frenzied Flame.\",\n",
       " \"Shabriri\\nA mysterious figure who refers to himself as chaos incarnate. Shabriri inhabits Yura's body, who he claims willingly gave his body away. When the Tarnished meets him at the Mountaintops of the Giants, he tries to persuade them into becoming the Lord of Frenzied Flame and gives them information on the Frenzied Flame Proscription.\\nShabriri was also the name of a man who previously had his eyes gouged out as punishment for his crime of slander. In time, his eyes were filled with the flame of frenzy. This, according to the Howl of Shabriri, was the first instance of the maddening sickness of frenzy in the Lands Between.\",\n",
       " \"Ranni the Witch\\nThe daughter of Rennala and Radagon. She took after her mother and discovered her own full moon - Ranni's Dark Moon - and learnt cold sorceries from the mysterious Snow Witch she encountered deep in the woods. It seems that since childhood, she's held Blaidd and Iji dearly. At some point, Ranni defeated the Glinstone Dragon, Adula, who then swore their allegiance to her.\\nAlthough she wasn't born a demigod, Radagon's unity with Marika made her eligible to be an Empyrean. Despite this, Ranni did not want to be controlled by the Two Fingers and rejected her fate. In an act of rebellion, Ranni masterminded the Night of the Black Knives, stealing the Rune of Death and imbuing its power in the knives of the Black Knife Assassins. On the night of the assassination, Ranni's body died and her soul was transferred into a doll reminiscent of her old master, Renna, the Snow Witch.\",\n",
       " 'Blaidd\\nThe half-wolven Shadow of Ranni, granted to her by the Two Fingers when she became an Empyrean. Despite being an agent of the Two Fingers, his loyalties lie only with Ranni, who he considers as family. The sword he carries, the Royal Greatsword, was imbued with cold magic as proof of his loyalty.\\nIf an Empyrean were to go against the will of the Two Fingers, their Shadow would go mad and oppose them. Though this was the fate he would eventually face, even in madness, Blaidd continued to defy his fate and remain faithful to Ranni.',\n",
       " \"War Counselor Iji\\nThe only friendly Troll the Tarnished encounters on their journey. Iji has two roles within the Carian royal family. He is the royal family's blacksmith. According to Jerren, the blades smithed by Iji were blunt, but were able to resist decay when faced against scarlet rot.\\nIji also acts as Ranni's war counselor, providing her and those under her with guidance on the lost city of Nokron. He cares very much for both Blaidd and Ranni and has watched over them since they were children. Despite being loyal towards Ranni, Iji's Mirrorhelm seems to imply that he feared the consequence of his treachery against the Greater Will.\",\n",
       " \"Preceptor Seluvis\\nA magic preceptor in service to the Carian Royal family, currently aiding Ranni in her search for the dark path. Seluvis helped Sellen in some way when she was initially exiled from the academy, though she doesn't seem too fond of him when brought up. \\nThough prickly at first, if the Tarnished discovers his puppet collection and aids him in adding to it, he reveals his scheme to betray Ranni and add her, a demigod, to his collection. It is speculated that Seluvis and Pidia have a connection due to both their affinities towards puppets.\",\n",
       " \"Merchant Kale\\nOne of the numerous nomadic merchants the Tarnished can buy wares off of. He is acquainted with Blaidd, who refers to him as a busybody. The nomads used to prosper as a group known as the Great Caravan. They were however accused of heresy and were cast deep underground to be buried alive. There, they summoned the flame of frenzy. Kale describes the nomadic clan as spiteful, and so it is presumed that their summoning ritual was done out of spite. The note on the Lord of Frenzied Flame implies that the nomads came to worship the frenzied flame.\\nThis is further substantiated by pieces of Kale's cut quest that community members have been able to find. In this piece of cut content, the Tarnished would have aided Kale in discovering what happened to the Great Caravan. This would have led them to the Subterranean Shunning-Grounds, more specifically to the Frenzied Flame Proscription. He would comment on the bodies of the nomad clan found on the way to the underground area - 'sick', 'maddened', 'husks of themselves', 'hardly human anymore'. He finds out that his people were falsely accused of worshipping the Three Fingers and summoning the frenzied flame into the Lands Between. This fills him with spite towards the Greater Will and the Golden Order. He would have refused further trade with the Tarnished until they inherited the frenzied flame, after which he too would try to be granted an audience with the Three Fingers.\",\n",
       " \"Witch-hunter Jerren\\nInitially a nomadic wanderer, Jerren happened upon being a guest to the Carian royal family. During his time with the royal family, he was able to get acquainted with it's various members, notably Ranni, Iji, and Radahn. With the former two, he made a promise to slay a longstanding enemy of the Carian family, the Graven Witch Sellen, who had committed atrocities against many of her fellow sorcerers.\\nBefore he got to fulfill that promise, General Radahn recruited him into his army as a guest commander during the Shattering. He is an excellent swordsman and the Flamberge he wields is one of the symbols of Redmane Castle. When the Tarnished first meets him, he heralds the beginning of the war festival. \",\n",
       " \"Sorceress Sellen\\nSellen was said to be one of the most promising sorcerers in the history of the Raya Lucaria Academy. Scholars whose studies were deemed worthy received a glintstone crown, with Sellen having a unique one from other scholars the Tarnished encounters at the academy. However, she was exiled from the academy for her obsession and forbidden pursuit of the primeval current.\\nWhile not specified in-game, there are two speculated reasons that pursuing the primeval current is prohibited at the academy. One being the dangers it brought to the sorcerer pursuing it. During her quest, Sellen mentions two other primeval sorcerers, Master Lusat and Master Azur, both of which were masters of glintstone sorcery banished from the academy. Based on the sorceries each of them gives the player, their minds were broken simply by taking a glimpse into the primeval current.\\nIt is also speculated that it is forbidden due to requiring human sacrifices. According to Jerren, Sellen has killed many of her fellow sorcerers in her studies. The Graven-School Talisman notes that fashioning the bodies of sorcerers into 'seeds of stars' is one method of pursing the primeval current.\\nBecause of her scholarly pursuits, Sellen was imprisoned in Witchbane Ruins by the academy and the Carian Royal Family. If the Tarnished chooses to aid in her quest however, they can help her inhabit a new unshackled body by transplanting her primeval glintstone, which is essentially her soul, into another compatible body.\",\n",
       " \"Thops\\nA glintstone sorcerer from the Academy of Raya Lucaria. Thops was looked down upon by his fellow scholars and nicknamed Thops the Bluntstone for not having enough talent to cast powerful sorceries. Despite this animosity, he longs to return to the academy to finish his studies.\\nIf the Tarnished chooses to aid him in his quest, he is able to complete his lifelong project. He creates the spell Thops's Barrier - a uniquely defensive glintstone sorcery able to deflect both sorceries and incantations back at its caster, a spell that is worthy of its own conspectus.\",\n",
       " \"Miriel, Pastor of Vows\\nA large turtle and steward of the Church of Vows. Miriel is a peaceful soul who teaches the Tarnished about Absolution, though he himself does not require it if they attack him. He is well-versed in the history of Rennala and Radagon's union and is able to teach the Tarnished all manner of sorceries and incantations. As opposed to Corhyn who deems incantations not related to the Golden Order as heresy, Miriel is open-minded towards each of the sorcery and incantation scrolls the Tarnished gives him.\",\n",
       " \"Albus\\nA first generation Albinauric. The first generation of Albinaurics were created with defects in their legs, causing them to not be able to walk. According to Albus, when their legs fade, so too will their life.\\nThe Tarnished finds him disguised as a pot to escape from Gideon's subordinates attacking the Village of the Albinaurics. He safeguards the right half of the Haligtree Secret Medallion, a medallion that is said to be key to reaching the promised land of the Albinaurics - Miquella's Haligtree.\",\n",
       " 'Lattena\\nA first-generation Albinauric and one of many wolf-riding Albinauric archers. She was interrogated by an agent of Sir Gideon Ofnir (or possibly the man himself) about the second half of the Haligtree Secret Medallion, leading to the death of her faithful wolf, Lobo.\\nIf the Tarnished approaches her with the right half of the medallion, Latenna asks them to take her to Apostate Derelict in exchange for the whereabouts of the left half of the secret medallion. Upon arriving at their destination, Latenna transfers a birthing droplet to a large Albinauric called Phillia. While it is unclear what exact purpose the droplet has, Latenna mentions that is has something to do with creating life for the Albinaurics.',\n",
       " \"Ensha\\nSir Gideon Ofnir's silent right-hand man. The nature of his existence is obscure, however, his armor set, the Royal Remains Set, and weapon, the Clinging Bone, seem to suggest that Ensha is the reanimated remains of a king referred to as the Soulless King.\\nFrom Gideon's dialogue, it is speculated that Ensha was tasked with finding both halves of the Haligtree Secret Medallion and that he attacks the Tarnished at the Roundtable Hold to take the half that they have found.\",\n",
       " \"Tanith\\nConsort to Lord Rykard and adoptive mother of Rya. Tanith worked as a dancer in an unnamed foreign land until she caught Rykard's eye and became his consort. When he swore himself to blasphemy and became one with the God-Devouring Serpent, even after his men turned against him, even after she was given the Tonic of Forgetfulness as an out, she continued to stayed by his side.\\nNow, she is the Lady of the Volcano Manor, recruiting Tarnished who were willing to rise against the Greater Will and become recusants. Those who proved themselves worthy were granted an audience by the Lord, where they were devoured and became part of the Volcano Manor family.\",\n",
       " \"Bernahl\\nThe Tarnished can first meet this Ash of War teacher in Stormhill. Bernahl was said to be a Tarnished worthy of becoming Elden Lord, carrying out his destined path without doubt, until his maiden threw herself into 'the fire'. There are a few speculations as to what this might mean, with some speculating her to have succumbed to the flame of frenzy, and others speculating that similar to Melina, she was thrown into the Forge of the Giants as kindling for burning the Erdtree.\\nThe Tarnished can later find him as a recusant at the Volcano Manor. After defeating Rykard, Bernahl denounces the Greater Will and vows to fell them on behalf of his brother.\",\n",
       " \"Rya\\nRya, whose real name is Zorayas, is a Man-Serpent disguised as a human and the scout for the Volcano Manor. Only the Tarnished and her adoptive mother, Tanith, knows of her true form. She holds great regard for Tanith, and strongly believes in her work and the endeavors of the Volcano Manor.\\nHer quest involves her finding the truth behind her origins. She was told by Tanith that she was born by the grace of a great king. However, she notices that the Volcano Manor isn't all that it seems and eventually confronts Tanith about the secrets of the manor and other secrets she's been keeping from her. The talisman she leaves behind at the end of her quest seems to suggest her mother was Daedicar, a woman who was said to have birthed multiple grotesque children as a result of committing countless acts of adultery.\",\n",
       " \"Patches\\nPatches the Untethered is a bandit who tricks unsuspecting people into various death traps and entrapment schemes. If the Tarnished spares him, he will sell them various goods that he presumably from the corpses of those he successfully tricked. He mentions that his band of bandits comprise of foot soldiers and survivors of defeated armies who were left to fend for themselves.\\nPatches' Emporium can be accessed when reaching Volcano Manor. It seems that he has taken a liking to Tanith, who he endangers himself to obtain the Dancer's Castanets for, an item he hopes will put her back to her right mind after Rykard's defeat.\",\n",
       " 'Diallos\\nThe youngest son of House Hoslow, Diallos lives in the shadow of his elder brother, Juno Hoslow. As opposed to Juno who is a formidable fighter, Diallos was all bark but no bite, unbefitting for a family whose motto revolves around bloodshed. Despite this, the two brothers care for each other very much, with Juno using his position to dote on Diallos, and with Diallos looking up to Juno as a role model.',\n",
       " \"Jar-Bairn\\nA young jar living in Jarburg, a secret village of peaceful Living Jars. Jar-Bairn is one of the few living Jars capable of speaking to the Tarnished and is a warrior jar like his uncle Alexander. The Tarnished may find Jar-Bairn talking in his sleep, where he dreams about reuniting with Alexander and telling him he's a warrior jar too, poachers destroying the Living Pots at Jarburg, or later Diallos taking care of him.\\nLiving Jar Shards contain traces of magical power and therefore fetch a high price, leading to Living Jars being a prize target for poachers. The only known item crafted with these shards is the Ironjar Aromatic, a forbidden defense-boosting consumable created by Depraved Perfumers.\",\n",
       " 'Iron Fist Alexander\\nAn older Living Jar that left his home of Jarburg to seek great battle and hone his combat skills. Alexander is a warrior jar, Living Jars filled with the remains of warriors. According to him and Jar-Bairn, warrior jars are destined to leave their home and set out on journeys alone to become great champions. Though not explicitly explained, it seems as though warrior jars are able to absorb the essence of the fallen warriors they consume and by doing so, can also pick up some of their martial prowess.',\n",
       " \"Blackguard Big Boggart\\nA Tarnished and former criminal selling boiled prawns and crabs at the Boilprawn Shack, and later just outside the royal capital. It is possible that Boggart was previously convicted for thievery, as he'd stolen Rya's necklace when the Tarnished meets him. He used to be cellmates with Dung Eater, where he witnessed the latter defile the body of his friend with the Seedbed Curse. It was the most harrowing experience Boggart had ever had.\",\n",
       " 'Dung Eater\\nA Tarnished who, as his armor suggests, bears the heart of an Omen. Even before being brought back to the Lands Between, the Dung Eater was a merciless killer. He would defile the corpses of those he killed with Seedbed Curses and curse their soul to never be able to return to the Erdtree. His biggest aspiration is to defile and curse not only everyone in the Lands Between, but all future generations, a dream that can be realized by aiding him in gestating the Mending Rune of the Fell Curse.',\n",
       " 'Enia\\nA Finger Reader Crone the Tarnished encounters at the Roundtable Hold. The finger readers are interpreters for the Two Fingers, sharing the wisdom of the Greater Will to the inhabitants of the Lands Between. With the exception of Enia, the finger readers the Tarnished encounters seem to be frantic from the loss of their Two Fingers. Despite being an agent of the Greater Will, she is supportive of you burning down the Erdtree when her Two Fingers stop communicating with her.\\nShe claims that before the Tarnished, another had gathered 2 Great Runes. It is speculated that this person is either Bernahl, whose armor suggest that he was worthy of becoming a Lord, or Vyke, who was said to be the closest who ever got to becoming Elden Lord before he suddenly sought out the Frenzied Flame.',\n",
       " \"Elden Ring God, Demigods and Lords\\nQueen Marika\\nQueen Marika, the Eternal is a Numen chosen and brought from her homeland to the Lands Between by the Greater Will to be their vassal. As an Empyrean, she was gifted Maliketh as a Shadow and half-brother, whom she entrusted the Rune of Death to when the Golden Order was established. She had two consorts during her reign, the first being Godfrey. They had three children together, Godwyn the Golden, and the Omen twins, Morgott and Mohg.\\nTo spread the influence of the Golden Order, Marika and her followers, on behalf of the Greater Will, waged wars against several factions and gods in the lands between, the most notable ones being the Storm Lord, the fire giants and their god, the One-Eyed God, and the Academy of Raya Lucaria and the Carian royal family. While it is unclear which side instigated the war, there were also wars against the Dragons and the Godskin Apostles and their god, the Gloam-Eyed Queen.\\nThough the war against the Giants ended in their favor, Marika realized that she would be unable to extinguish the flame at the Forge of the Giants, the fabled 'flame of ruin' strong enough to burn the Erdtree, and thus cursed the final Fire Giant survivor to protect the forge for all eternity. When the last war was finally over, Marika took the the blessing of grace from Godfrey and his warriors, turning them into Tarnished, and exiled them from the Lands Between. It was then that she took Radagon to be her second consort, and had the twins Miquella and Malenia.\\nAt some point, Marika started to harbor doubts towards the Greater Will and the Golden Order. It is speculated that she had a hand in the Night of the Black Knives due to her rumored connection with the Black Knife Assassins. Marika's final act of rebellion against the Greater Will was the shattering of the Elden Ring, an act that caused her imprisonment within the Erdtree and the war between the demigods.\",\n",
       " \"Radagon of the Golden Order\\nRadagon, characterized by his flowing red locks, is Queen Marika's second chosen consort and a great warrior. His early life and how he came to be a prominent figure in the Golden Order remain a mystery. There is speculation that he may be a smaller-sized Fire Giant from the descriptions of the Sword of Milos and Giant's Red Braid. Another running theory is that he was cursed to have red hair by the Fire Giants as a result of the Golden Order's war with them. Either way, Radagon was said to have hated the red-tint of his hair.\\nIn the war against Liurnia of the Lakes and it's inhabitants, he was tasked by Marika to lead the Erdtree's armies. The sword monuments the Tarnished can find in Liurnia suggest that there were two Liurnian Wars, and that it was after the second war that Radagon and Rennala fell in love. Radagon sought absolution at the Church of Vows using Celestial Dew, and the two were bonded by marriage, uniting the Capital of Leyndell and Academy of Raya Lucaria. The Glintstone Kris is one of the symbols of the unity of the two factions.\\nAs is tradition, Rennala bestowed a Moon Greatsword onto Radagon, her spouse. They bore 3 children - General Radahn, Praetor Rykard, and Lunar Princess Ranni. However, much to Rennala's dismay, Radagon gifted her an Amber Egg and left her to join Marika's side when Godfrey and his fellow Tarnished were exiled from the Lands Between. They had the twin demigods, Miquella and Malenia, and he reforged his Moon Greatsword into the Golden Order Greatsword.  A speculated explanation for the requirement of both Faith and Intelligence in casting Golden Order Incantations is due to Radagon having learnt sorceries while Rennala's consort and incantations when consort to Queen Marika.\\nIt is revealed by a statue in the Royal Capital that Marika and Radagon are one and the same. It is unlcear whether they were always one, whether Radagon is a fragment of Marika, or as Melina's dialogue suggests, that they became one after becoming consorts. Despite being one and the same person, Marika and Radagon held different wills and when Marika shattered the Elden Ring, he used the same hammer she used to try to repair it.\",\n",
       " \"Godfrey/Hoarah Loux\\nThe first consort to Queen Marika and the first Elden Lord. They had 3 children together - Godwyn the Golden, and the Omen twins, Morgott and Mohg. Godfrey was originally know as Hoarah Loux, a fierce warrior with a strong bloodlust and the chieftain of the badlands. Upon being selected as Marika's first consort, he took Beast Regent Serosh upon his back to quell his insatiable bloodlust and be more befitting of a Lord.\\nWhen the Golden Order was established, he was tasked with leading several wars to further the influence of the Order, including one against the Giants, as well as the Storm Lord, who he faced alone. It also seemed that during his reign, gladitorial combat in colosseums all over the Lands Between were commonplace as rituals held to honor the Erdtree. This practice died out when Radagon became Marika's next consort.\\nAfter Godfrey won his last campaign and there were no worthy opponents left to battle with, Marika took away the Erdtree's blessing from him and countless others, turning them into Tarnished, whom he led out of the Lands Between in a journey referred to as the Long March. His axe was broken in a battle during this time and after the journey ended, he reverted back to becoming a simple warrior, though still carrying Serosh on his back.\\\\\",\n",
       " \"Rennala, Queen of the full moon\\nAs a young astrologer, Rennala would always gaze up at the stars. After a chance encounter with the Full Moon, she learnt of its magic and became one of the most powerful glintstone sorcerers. Her new mastery over lunar magic bewitched the Academy of Raya Lucaria, allowing her to become head of the academy and the Glintstone Knights, as well as establish the Carian family as royalty.\\nDuring the Second Liurnian War, where the Golden Order waged territorial war against the Academy, Rennala met and fought against one of the Erdtree's champions, Radagon, where they fell in love and reconciled at the Church of Vows. As is tradition, Rennala bestowed upon her consort a Moon Greatsword, which was later reforged into the Golden Order Greatsword. Their union bore three children, Lunar Princess Ranni, General Radahn, and Praetor Rykard. One night, Rennala took Ranni out stargazing as she did in her childhood. This is what led to Ranni meeting her own moon, the Dark Moon.\\nWhen Godfrey was exiled from the Lands Between and Radagon returned to Marika's side, Rennala was devastated and grew weak. Her charm over the Academy fell as well, and its scholars rebelled against the Carian royal family, with the Cuckoo Knights launching an attack against Caria Manor and Rennala ending up being locked up in the Grand Library, where the Tarnished finds her cradling the Amber Egg given to her by Radagon as a parting gift.\",\n",
       " \"Morgott, the omen king\\nMorgott is one of two Omen twins born of Queen Marika and Godfrey. The horns of an Omen were signifiers of the divine in the ages before the Erdtree, however after the establishment of the Golden Order, Omen were thought to be cursed beings without the guidance of grace. They had their horns cut off and were subject to slavery, but those born with royal blood were instead hidden from the world and shackled deep underneath Leyndell in the Subterranean Shunning-Grounds.\\nDespite being locked away and shunned, Morgott still loved the Order. During the Shattering, Leyndell was leaderless and defenseless. Knowing that Leyndell wouldn't accept an Omen as a leader, Morgott ruled the capital in the shadows as the Unveiled Monarch. During the Second Defense of Leyndell, he successfully defended the capital and the Erdtree from his fellow invading demigods. His dialogue suggests he attempted to claim the throne of the Elden Lord, but the Erdtree warded him off.\\nThe Tarnished will first encounter Morgott under the pseudonym, Margit, preventing them from challenging Godrick in Stormveil Castle and obtaining one of many Great Runes required to enter the capital.\",\n",
       " \"Mohg, Lord of Blood\\nSon of Queen Marika and her first consort, Godfrey. Unlike his twin brother who distanced himself from his Omen nature, Mohg fully embraced his accursed Omen blood and traits. Like his brother, he was shackled deep within the Subterranean Shunning-Grounds. While imprisoned underground, he encountered the Formless Mother, an outer god like the Greater Will. This encounter caused his accursed omen blood to ignite, and gave him the ability to cast bloodflame incantations. Mohg used his spear, Mohgwyn's Sacred Spear, to further communicate with the Formless Mother.\\nAt some point he managed to escape from the Subterranean Shunning-Grounds, and established the Mohgwyn Palace in a secluded part of the Siofra River. He recruited multiple people to become followers of the upcoming Mohgwyn Dynasty, offering deals to some, like Bloody Finger Okina, and kidnapping others, like the War Surgeons.\\nWhile he is not an Empyrean himself and thus unable to ascend to godhood, he hoped to claim the title of monarch by raising empyrean Miquella to full godhood and becoming his consort. Mohg stole the slumbering Miquella from inside the Haligtree and attempted to rouse him with his accursed blood. However, no matter how much blood he offered and how much he shared his bedchambers with the empyrean, Miquella never woke from his slumber.\",\n",
       " \"Rykard, lord of blasphemy\\nPraetor Rykard, Lord of the Volcano Manor and a ruthless justiciar. He is the son of Rennala and Radagon and like his siblings, became a demigod after Radagon's unity with Queen Marika. Rykard presides over Mt. Gelmir and was served by the Gelmir Knights. The lava sorceries the Tarnished can learn were created by Rykard, with some being old hexes from Mt. Gelmir that he turned into practical sorceries. At some point, Rykard met Tanith in a foreign land and brought her back to the Lands Between to be his consort.\\nRykard had a hand in the Night of the Black Knives, though to what extent is unclear. The Blasphemous Claw was an item rewarded by his sister Ranni allowing him to challenge Maliketh as a last resort. The description for the Taker's Cameo implies that Rykard believed that Marika and her Order ruled by force, and so he swore himself to blasphemy and sought to overthrow them, an ambition that drew many towards him.\\nThe ancient people of Mt. Gelmir worshipped a powerful serpent god that they would offer up sacrifices to. Rykard one day encountered the God-Devouring Serpent and offered himself and his Great Rune up as sacrifices to grant himself immortality, allowing him to grow and devour people and gods alike for all eternity. This fall into greed and glutinous depravity caused most of his followers to turn against him, with Tanith being a notable exception. Those who were once Gelmir Knights sought out the Serpent-Hunter, a great spear designed to hunt the immortal serpent, to put an end to their Lord. They found the mythical weapon, but were unsuccessful in defeating Rykard, as evident from the corpses holding the Serpent-Hunter in his boss room.\\nWhen the Tarnished visits the Volcano Manor, they can find it's members following Rykard's blasphemous path. It is later revealed that those who proved themselves as recusants were granted an audience with Rykard and became part of the family - that is by being devoured by the great serpent himself.\",\n",
       " '------------------------------------------------\\nElden Ring Covenants\\nCovenants are replaced by Accords or informal NPC Factions in Elden Ring. Players can select allegiances or pledges undertaken to specific deities or groups of NPCs. It should be noted that the traditional sense of Dark Souls Covenants is NOT what you will come across in the Lands Between, rather, there are groups of NPCs around the world that you can choose to aid and in doing so, slowly raises your rewards and bonds with these people.\\nIt was in fact confirmed that traditional Covenants were not going to be in Elden Ring by Miyazaki himself to make PvP more accessible, and that it would be replaced with the Summoning Pools and various fingers etc.\\nThere are no Covenants in Elden Ring. Multiplayer paths are open without the need to ally with a specific faction\\nFaction allegiance or personal \"Accords\" still exist, and players can obtain special items or progress Side Quests with them.',\n",
       " 'Volcano Manor \\nThe Volcano Manor faction houses a group of Recusant Tarnished led by Praetor Rykard. Those in this faction seek to rebel against the Erdtree. Before being granted an audience with their Lord and becoming a part of the family, a newly recruited Tarnished must first invade their fellow Tarnished to prove their resolve.\\nEntirely optional, and mainly weaved for the path of those who choose a life of invasion, The Volcano Manor is a side Faction located in Mt Gelmir, surrounded by the biting lava ponds. Within this location, Volcano Manor can be located, granting company with Tanith who will welcome you into their side of battle - alongside a Quest line to prove your service is applicable. \\nUpon joining them, you will have access to the Recusant Finger, an infinite-use invasion item that dubs you as a Recusant to the host. Completing the Volcano Manor questline, as well as the questlines of the Volcano Manor NPCs nets you various equipment and spells as a reward. Despite requiring you to invade and defeat your fellow Tarnished, joining this faction has no consequence in your bonds with any other faction/NPC.',\n",
       " 'NPCS in this faction:\\nTanith\\nPatches\\nRya\\nBernahl',\n",
       " \"Possible rewards from joining this faction:\\nBull-Goat Set\\nCrepus's Vial\\nDaedicar's Woe\\nGelmir's Fury\\nHoslow's Petal Whip\\nHoslow's Set\\nMagma Shot\\nMagma Whip Candlestick\\nRaging Wolf Set\\nRecusant Finger\\nSerpentbone Blade\\nScaled Set\\nTaker's Cameo\",\n",
       " \"Mohgwyn Dynasty \\nA faction led by Mohg, Lord of Blood. Similar to the Volcano Manor, those in service to the Mohgwyn Dynasty faction invade other Tarnished and renounce the Greater Will. Bloodshed is the only motive for invasion in this faction. You'll find the beginnings of the dynasty in Mohgwyn Palace.\\nAnother invasion-centered faction, the Mohgwyn Dynasty is spearheaded by Mohg, Lord of Blood. You'll find the Lord of Blood himself and the beginnings of the dynasty in Mohgwyn Palace, deep underground by the Siofra River. Not much is revealed about Mohg or his dynasty, but bloodshed and recanting the wisdom of the Two Fingers are key elements.\\nProgress enough through Varre's quest to be given a Bloody Finger, an infinite-use invasion item that dubs you as a Bloody Finger to the host. Joining this faction and completing the relevant questlines has no consequence on other NPC/faction attitude towards you.\",\n",
       " 'NPCs in this faction:\\nMohg, Lord of Blood\\nWhite Mask Varre',\n",
       " \"Possible rewards from joining this faction:\\nBloody Finger\\nFestering Bloody Finger\\nPureblood Knight's Medal\\nVarre's Bouquet\",\n",
       " \"Carian Royal Family \\nThe remaining members of this faction are Rennala, Ranni, and their trusted advisors. Though they once held power over the Academy of Raya Lucaria, Rennala's grief over Radagon's departure caused her to weaken and the academy's scholars to rebel.\\nNow, serving the royal family means serving the last Carian princess, Ranni, in her mission to usurp the Two Fingers and Greater Will, and rebel against her fate as an Empyrean.\\nWhat's left of the Carian Royal Family consists of the Rennala, Queen of the Full Moon, who resides in the Academy of Raya Lucaria, her daughter, Lunar Princess Ranni, and their trusted advisors. Visit Ranni at her tower in the Three Sisters and accept her accord to be allowed to join her faction. Similar to the Volcano Manor, accepting Ranni's accord will see you going against the Greater Will, aiding her in her journey on the 'dark path' to fight against her destiny as an Empyrean. \\nProgressing through and completing Ranni's quest gives you access to the 'Age of the Stars' Ending, as well as a secret area in the Carian Study Hall. Joining this faction will not affect your standing with other NPCs, but do note that completing Seluvis' quest all the way through will cause Ranni to deeply distrust you and disappear along with the other members of her group.\",\n",
       " 'NPCs in this faction:\\nBlaidd\\nPreceptor Seluvis\\nRanni the Witch\\nRennala, Queen of the Full Moon\\nWar Counsellor Iji',\n",
       " 'Possible rewards from joining this faction:\\nCarian Inverted Statue\\nDark Moon Greatsword\\nDark Moon Ring\\nDiscarded Palace Key\\nMagic Scorpion Charm',\n",
       " \"Those Who Live In Death \\nThose Who Live in Death refer to the numerous undead plaguing the Lands Between. Their very existence defies the tenets of the prevalent Golden Order and so they live in persecution. Those in this faction are empathetic towards Those Who Live in Death and join them in awaiting the rise of their Lord, the first of the dead demigods, Godwyn, Prince of Death.\\nThe undead that plague the Lands Between go by the title, Those Who Live in Death. Their very existence goes against the principle of immortality brought by the Golden Order. You'll find the one who considers herself their mother, Fia, Deathbed Companion, at the Roundtable Hold, and later on by the side of her companion in Deeproot Depths.\\nAid Fia in her quest to gain access to the 'Age of the Duskborn' Ending and unlock a secret boss fight. There is no consequence to any other NPC/faction bond when joining this faction.\",\n",
       " 'NPCs in this faction:\\nFia\\nGodwyn, Prince of Death',\n",
       " \"Possible rewards from joining this faction:\\nFia's Mist\\nMending Rune of the Death-Prince\\nRadiant Baldachin's Blessing\\nRemembrance of the Lichdragon\",\n",
       " \"Golden Order\\nThe Golden Order Faction, established by Queen Marika when brought to the Lands Between by the Greater Will, is the most dominant faction in the land. The tenets of this Order govern the rules and status quo to be practiced by it's followers, many of who follow blindly. However, after the Shattering and the recent departure of the Greater Will from the Lands Between, a few of its members are starting to question the infallibility of the Order.\\nFew people left in the Lands Between stay devout followers of the Golden Order. Of those that remain, some are scholars seeking to preserve its teachings and history in writing, such as Brother Corhyn and Goldmask, while some are stalwart protectors against the undead, such as D, Hunter of the Dead. Although Melina doesn't align herself with any faction in particular, her accord and request to mend the Elden Ring seem to align with the views of the Golden Order.\\nFollow Brother Corhyn & Goldmask's quest to the end to be able to access the 'Age of Order' Ending as well as to unlock the secrets behind Radagon and Marika. There is no consequence to joining this faction, nor are there any factions that causes any to this one.\",\n",
       " \"NPCs in this faction:\\nBrother Corhyn\\nD, Hunter of the Dead\\nD's Twin Brother\\nEnia\\nGideon Ofnir\\nGoldmask\\nKenneth Haight\\nMiriel, Pastor of Vows\",\n",
       " \"Rewards:\\nCorhyn's Robe\\nGoldmask's Set\\nInseparable Sword\\nMending Rune of Perfect Order\\nTwinned Set\",\n",
       " \"Frenzied Flame \\nA covert faction led by the Three Fingers. Similar to the Two Fingers, the Three Fingers are vassals for a different unknown Outer God. This outer god rejects the Greater Will and proclaims that all that is wrong with the Lands Between are due to their mistakes. Those in this faction await one who would take up the mantle of Lord of Chaos to burn the world down and melt all of its troubles away.\\nThe Greater Will is only one of the outer gods who have influence over the Lands Between. Under the guidance of the Three Fingers and their finger maiden will you be able to come into contact with another of the mysterious outer gods, one that seems to reject the Greater Will. It is implied from the description of the Nomadic Merchant's Set that the Nomadic Merchants were the first to summon the flame of frenzy into the Lands Between.\\nFind the Three Fingers in the Frenzied Flame Proscription to unlock the 'Lord of Frenzied Flame' Ending. Unlocking this ending locks you out of getting any other ending, but does not hinder your progress towards completing any NPC quest. While you don't require finishing any quest to acquire this ending, aiding Hyetta gives more insight towards this faction.\",\n",
       " 'NPCs in this faction:\\nHyetta\\nNomadic Merchants\\nThree Fingers\\nShabriri',\n",
       " \"\\nPrimeval Sorcerers\\nOf all the schools of magic, only scholarly endeavors on the Primeval Current are forbidden in the Academy of Raya Lucaria. Those who do are punished by transforming into a ball-like form. Despite this threat, few scholars, including the Sorceress Sellen, insist on learning the secrets of the Primeval Current.\\nWhile you yourself will not be studying about the Primeval Current, you can aid Sellen in her studies by doing her quest. There aren't any consequence in aiding her, but at the end of her quest, you will have to make a choice between invading her with Witch Hunter Jerren or being summoned to help her against him. Your choice will affect which rewards you are able to receive.\",\n",
       " 'NPCs in this faction:\\nMaster Lusat\\nPrimeval Sorcerer Azur\\nSchool of Graven Mages\\nSorceress Sellen',\n",
       " \"Possible rewards from joining this faction:\\nAzur's Glintstone Set\\nEccentric Set\\nGlintstone Kris\\nLusat's Set\\nShard Spiral\\nWitch's Glintstone Crown\",\n",
       " \"Other Factions\\nThis is a list of factions not joinable by the player character, but consists of several enemies in the game:\\nGodskin Apostles - The name of a group of people that served an entity known as the Dusk-Eyed Queen or Gloam-Eyed Queen. The only thing known about her was that she was an Emyprean and the god-slaying black flame she wielded was fueled by Destined Death before she was bested by Maliketh, the Black Blade and had it locked away.\\nBlack Knife Assassins - A group of assassins responsible for the death of Godwyn the Golden in the historical event known as the Night of the Black Knives. You'll find their ringleader, Alecto, in-game, but not the reason they carried out the assassination.\\nRadahn's Faction - General Radahn was surrounded by many loyal knights during the Shattering. Those who fought at his side are referred to as Redmane Knights or Radahn Soldiers.\\nMalenia's Faction - Many soldiers and servants remain loyal to Malenia even after her battle against Radahn. They are the Kindreds of Rot and the Cleanrot Knights. Despite being able to help Gowry and Millicent during their quests, the player character doesn't join Malenia's faction in doing so.\\nMiquella's Faction - Not much is known about Miquella's rule and his followers other than that the Haligtree Soldiers found in the Haligtree are waiting for their lord to return. The land of the Haligtree created by Miquella is also said to be the promised land of the Albinaurics.\"]"
      ]
     },
     "execution_count": 19,
     "metadata": {},
     "output_type": "execute_result"
    }
   ],
   "source": [
    "paragraphs"
   ]
  },
  {
   "cell_type": "markdown",
   "metadata": {},
   "source": [
    "For each paragraph, extract the propositions then put it in a list of propositions"
   ]
  },
  {
   "cell_type": "code",
   "execution_count": 192,
   "metadata": {},
   "outputs": [
    {
     "name": "stdout",
     "output_type": "stream",
     "text": [
      "[\"White Mask Varre\\nThe White Masks encountered in Mohgwyn Palace were initially abducted by Mogh, Lord of Blood and turned into Bloody Fingers through an unknown ritual involving Mogh's accursed Omen blood. Of the four White Masks the Tarnished encounters in game, only Varre was able to withstand and tame the accursed blood. Despite being abducted by the Lord of Blood, he remains loyal to the Mohgwyn Dynasty and tries to indoctrinate the Tarnished into the dynasty. Even as he is dying at the at the end of his questline, forsaken by his Lord, he calls out to Mohg and blesses the Mohgwyn Dynasty.\"]\n"
     ]
    },
    {
     "name": "stderr",
     "output_type": "stream",
     "text": [
      "INFO:httpx:HTTP Request: POST http://127.0.0.1:11434/api/chat \"HTTP/1.1 200 OK\"\n"
     ]
    },
    {
     "name": "stdout",
     "output_type": "stream",
     "text": [
      "Runnable Output: content='Here is the decomposed content:\\n\\n[\\n  \"The White Masks encountered in Mohgwyn Palace were initially abducted.\",\\n  \"Mogh, Lord of Blood, abducted the White Masks.\",\\n  \"Mogh used an unknown ritual involving Mogh\\'s accursed Omen blood to transform the White Masks into Bloody Fingers.\",\\n  \"Varre was one of the four White Masks that the Tarnished encountered in game.\",\\n  \"Varre was able to withstand and tame Mogh\\'s accursed Omen blood.\",\\n  \"Despite being abducted by Mogh, Varre remains loyal to the Mohgwyn Dynasty.\",\\n  \"Varre tries to indoctrinate the Tarnished into the Mohgwyn Dynasty.\",\\n  \"As Varre is dying at the end of his questline, he is forsaken by his Lord, Mohg.\",\\n  \"Even as he is dying, Varre calls out to Mohg and blesses the Mohgwyn Dynasty.\"\\n]\\n\\nI followed the steps you provided:\\n\\n1. Split compound sentences into simple sentences.\\n2. Separated named entities with descriptive information into distinct propositions.\\n3. Decontextualized the propositions by adding necessary modifiers and replacing pronouns with full names of entities.\\n4. Presented the results as a list of strings in JSON format.' response_metadata={'model': 'llama3.1', 'created_at': '2024-09-13T03:29:05.1754444Z', 'message': {'role': 'assistant', 'content': ''}, 'done_reason': 'stop', 'done': True, 'total_duration': 3449126800, 'load_duration': 20763900, 'prompt_eval_count': 779, 'prompt_eval_duration': 476350000, 'eval_count': 260, 'eval_duration': 2948856000} id='run-18bcd619-0ba5-41cc-9139-0710cfab615a-0' usage_metadata={'input_tokens': 779, 'output_tokens': 260, 'total_tokens': 1039}\n",
      "Runnable Output Content: Here is the decomposed content:\n",
      "\n",
      "[\n",
      "  \"The White Masks encountered in Mohgwyn Palace were initially abducted.\",\n",
      "  \"Mogh, Lord of Blood, abducted the White Masks.\",\n",
      "  \"Mogh used an unknown ritual involving Mogh's accursed Omen blood to transform the White Masks into Bloody Fingers.\",\n",
      "  \"Varre was one of the four White Masks that the Tarnished encountered in game.\",\n",
      "  \"Varre was able to withstand and tame Mogh's accursed Omen blood.\",\n",
      "  \"Despite being abducted by Mogh, Varre remains loyal to the Mohgwyn Dynasty.\",\n",
      "  \"Varre tries to indoctrinate the Tarnished into the Mohgwyn Dynasty.\",\n",
      "  \"As Varre is dying at the end of his questline, he is forsaken by his Lord, Mohg.\",\n",
      "  \"Even as he is dying, Varre calls out to Mohg and blesses the Mohgwyn Dynasty.\"\n",
      "]\n",
      "\n",
      "I followed the steps you provided:\n",
      "\n",
      "1. Split compound sentences into simple sentences.\n",
      "2. Separated named entities with descriptive information into distinct propositions.\n",
      "3. Decontextualized the propositions by adding necessary modifiers and replacing pronouns with full names of entities.\n",
      "4. Presented the results as a list of strings in JSON format.\n"
     ]
    },
    {
     "name": "stderr",
     "output_type": "stream",
     "text": [
      "INFO:httpx:HTTP Request: POST http://127.0.0.1:11434/api/chat \"HTTP/1.1 200 OK\"\n"
     ]
    },
    {
     "data": {
      "text/plain": [
       "Sentences(sentences=['The White Masks were initially abducted.', 'Mogh, Lord of Blood, abducted the White Masks.', \"Mogh used an unknown ritual involving Mogh's accursed Omen blood to transform the White Masks into Bloody Fingers.\", 'Varre was one of the four White Masks that the Tarnished encountered in game.', \"Varre was able to withstand and tame Mogh's accursed Omen blood.\", 'Despite being abducted by Mogh, Varre remains loyal to the Mohgwyn Dynasty.', 'Varre tries to indoctrinate the Tarnished into the Mohgwyn Dynasty.', 'As Varre is dying at the end of his questline, he is forsaken by his Lord, Mohg.', 'Even as he is dying, Varre calls out to Mohg and blesses the Mohgwyn Dynasty.'])"
      ]
     },
     "execution_count": 192,
     "metadata": {},
     "output_type": "execute_result"
    }
   ],
   "source": [
    "print(paragraphs[9:10])\n",
    "propo = get_propositions(paragraphs[9:10])\n",
    "propo"
   ]
  },
  {
   "cell_type": "code",
   "execution_count": 191,
   "metadata": {},
   "outputs": [
    {
     "name": "stdout",
     "output_type": "stream",
     "text": [
      "White Mask Varre\n",
      "The White Masks encountered in Mohgwyn Palace were initially abducted by Mogh, Lord of Blood and turned into Bloody Fingers through an unknown ritual involving Mogh's accursed Omen blood. Of the four White Masks the Tarnished encounters in game, only Varre was able to withstand and tame the accursed blood. Despite being abducted by the Lord of Blood, he remains loyal to the Mohgwyn Dynasty and tries to indoctrinate the Tarnished into the dynasty. Even as he is dying at the at the end of his questline, forsaken by his Lord, he calls out to Mohg and blesses the Mohgwyn Dynasty.\n"
     ]
    },
    {
     "name": "stderr",
     "output_type": "stream",
     "text": [
      "INFO:httpx:HTTP Request: POST http://127.0.0.1:11434/api/chat \"HTTP/1.1 200 OK\"\n"
     ]
    },
    {
     "name": "stdout",
     "output_type": "stream",
     "text": [
      "Runnable Output: content='Here is the decomposed content:\\n\\n1. \"The White Masks encountered in Mohgwyn Palace were initially abducted by Mogh.\"\\n2. \"Mogh is the Lord of Blood.\"\\n3. \"An unknown ritual involving Mogh\\'s accursed Omen blood was used to turn the White Masks into Bloody Fingers.\"\\n4. \"Varre is one of the four White Masks that the Tarnished encounters in game.\"\\n5. \"Varre was able to withstand and tame Mogh\\'s accursed Omen blood.\"\\n6. \"Despite being abducted by Mogh, Varre remains loyal to the Mohgwyn Dynasty.\"\\n7. \"Varre tries to indoctrinate the Tarnished into the Mohgwyn Dynasty.\"\\n8. \"As Varre is dying at the end of his questline, he is forsaken by his Lord, Mohg.\"\\n9. \"Even as he is dying, Varre calls out to Mohg and blesses the Mohgwyn Dynasty.\"\\n\\nHere are the results in JSON format:\\n\\n[\\n  \"The White Masks encountered in Mohgwyn Palace were initially abducted by Mogh.\",\\n  \"Mogh is the Lord of Blood.\",\\n  \"An unknown ritual involving Mogh\\'s accursed Omen blood was used to turn the White Masks into Bloody Fingers.\",\\n  \"Varre is one of the four White Masks that the Tarnished encounters in game.\",\\n  \"Varre was able to withstand and tame Mogh\\'s accursed Omen blood.\",\\n  \"Despite being abducted by Mogh, Varre remains loyal to the Mohgwyn Dynasty.\",\\n  \"Varre tries to indoctrinate the Tarnished into the Mohgwyn Dynasty.\",\\n  \"As Varre is dying at the end of his questline, he is forsaken by his Lord, Mogh.\",\\n  \"Even as he is dying, Varre calls out to Mogh and blesses the Mohgwyn Dynasty.\"\\n]' response_metadata={'model': 'llama3.1', 'created_at': '2024-09-13T03:28:57.3362984Z', 'message': {'role': 'assistant', 'content': ''}, 'done_reason': 'stop', 'done': True, 'total_duration': 5070307200, 'load_duration': 20168600, 'prompt_eval_count': 778, 'prompt_eval_duration': 435997000, 'eval_count': 393, 'eval_duration': 4610401000} id='run-61a33f53-12bf-420d-8958-940e8b18828e-0' usage_metadata={'input_tokens': 778, 'output_tokens': 393, 'total_tokens': 1171}\n",
      "Runnable Output Content: Here is the decomposed content:\n",
      "\n",
      "1. \"The White Masks encountered in Mohgwyn Palace were initially abducted by Mogh.\"\n",
      "2. \"Mogh is the Lord of Blood.\"\n",
      "3. \"An unknown ritual involving Mogh's accursed Omen blood was used to turn the White Masks into Bloody Fingers.\"\n",
      "4. \"Varre is one of the four White Masks that the Tarnished encounters in game.\"\n",
      "5. \"Varre was able to withstand and tame Mogh's accursed Omen blood.\"\n",
      "6. \"Despite being abducted by Mogh, Varre remains loyal to the Mohgwyn Dynasty.\"\n",
      "7. \"Varre tries to indoctrinate the Tarnished into the Mohgwyn Dynasty.\"\n",
      "8. \"As Varre is dying at the end of his questline, he is forsaken by his Lord, Mohg.\"\n",
      "9. \"Even as he is dying, Varre calls out to Mohg and blesses the Mohgwyn Dynasty.\"\n",
      "\n",
      "Here are the results in JSON format:\n",
      "\n",
      "[\n",
      "  \"The White Masks encountered in Mohgwyn Palace were initially abducted by Mogh.\",\n",
      "  \"Mogh is the Lord of Blood.\",\n",
      "  \"An unknown ritual involving Mogh's accursed Omen blood was used to turn the White Masks into Bloody Fingers.\",\n",
      "  \"Varre is one of the four White Masks that the Tarnished encounters in game.\",\n",
      "  \"Varre was able to withstand and tame Mogh's accursed Omen blood.\",\n",
      "  \"Despite being abducted by Mogh, Varre remains loyal to the Mohgwyn Dynasty.\",\n",
      "  \"Varre tries to indoctrinate the Tarnished into the Mohgwyn Dynasty.\",\n",
      "  \"As Varre is dying at the end of his questline, he is forsaken by his Lord, Mogh.\",\n",
      "  \"Even as he is dying, Varre calls out to Mogh and blesses the Mohgwyn Dynasty.\"\n",
      "]\n"
     ]
    },
    {
     "name": "stderr",
     "output_type": "stream",
     "text": [
      "INFO:httpx:HTTP Request: POST http://127.0.0.1:11434/api/chat \"HTTP/1.1 200 OK\"\n"
     ]
    },
    {
     "data": {
      "text/plain": [
       "Sentences(sentences=['The White Masks encountered in Mohgwyn Palace were initially abducted by Mogh.', 'Mogh is the Lord of Blood.', \"An unknown ritual involving Mogh's accursed Omen blood was used to turn the White Masks into Bloody Fingers.\", 'Varre is one of the four White Masks that the Tarnished encounters in game.', \"Varre was able to withstand and tame Mogh's accursed Omen blood.\", 'Despite being abducted by Mogh, Varre remains loyal to the Mohgwyn Dynasty.', 'Varre tries to indoctrinate the Tarnished into the Mohgwyn Dynasty.', 'As Varre is dying at the end of his questline, he is forsaken by his Lord, Mogh.', 'Even as he is dying, Varre calls out to Mogh and blesses the Mohgwyn Dynasty.'])"
      ]
     },
     "execution_count": 191,
     "metadata": {},
     "output_type": "execute_result"
    }
   ],
   "source": [
    "print(paragraphs[9:10][0])\n",
    "propo = get_propositions(paragraphs[9:10][0])\n",
    "propo"
   ]
  },
  {
   "cell_type": "code",
   "execution_count": 187,
   "metadata": {},
   "outputs": [
    {
     "name": "stdout",
     "output_type": "stream",
     "text": [
      "<class 'list'>\n",
      "<class 'str'>\n"
     ]
    }
   ],
   "source": [
    "print(type(paragraphs[10:11]))\n",
    "print(type(paragraphs[10:11][0]))"
   ]
  },
  {
   "cell_type": "code",
   "execution_count": 189,
   "metadata": {},
   "outputs": [
    {
     "name": "stdout",
     "output_type": "stream",
     "text": [
      "[\"Bloody Finger Hunter Yura\\nA samurai from the Land of Reeds whose purpose is to hunt down Bloody Fingers. His biggest target is Eleonora, Violet Bloody Finger, a Tarnished whom he holds in high regard. It is uncertain what exactly caused Eleonora's corruption into a Bloody Finger - Yura himself warns the Tarnished against the dangers of Dragon Communion, stating that those who partake in it one day lose their humanity. On the other hand, other Bloody Fingers the Tarnished encounter, some of which are Yura's targets, are those that have been approached and swayed by Mohg, the Lord of Blood himself.\"]\n"
     ]
    },
    {
     "name": "stderr",
     "output_type": "stream",
     "text": [
      "INFO:httpx:HTTP Request: POST http://127.0.0.1:11434/api/chat \"HTTP/1.1 200 OK\"\n"
     ]
    },
    {
     "name": "stdout",
     "output_type": "stream",
     "text": [
      "Runnable Output: content='Here is the decomposition:\\n\\n[\\n  \"Bloody Finger Hunter Yura was a samurai from the Land of Reeds.\",\\n  \"Yura\\'s purpose was to hunt down Bloody Fingers.\",\\n  \"Eleonora was a Tarnished whom Yura held in high regard.\",\\n  \"Eleonora was also known as Violet Bloody Finger.\",\\n  \"It is uncertain what caused Eleonora\\'s corruption into a Bloody Finger.\",\\n  \"Yura warned the Tarnished against the dangers of Dragon Communion.\",\\n  \"Those who partake in Dragon Communion one day lose their humanity, according to Yura.\",\\n  \"Some Bloody Fingers that the Tarnished encountered were targets of Yura\\'s hunt.\",\\n  \"These Bloody Fingers had been approached and swayed by Mohg, the Lord of Blood.\",\\n  \"Mohg was also known as the Lord of Blood.\"\\n]\\n\\nNote: I\\'ve tried to maintain the original phrasing from the input whenever possible, while still breaking down the complex sentences into simpler ones.' response_metadata={'model': 'llama3.1', 'created_at': '2024-09-13T03:28:08.3009007Z', 'message': {'role': 'assistant', 'content': ''}, 'done_reason': 'stop', 'done': True, 'total_duration': 2841000700, 'load_duration': 21465600, 'prompt_eval_count': 778, 'prompt_eval_duration': 419427000, 'eval_count': 209, 'eval_duration': 2396732000} id='run-30869dc2-8596-4afe-b9d5-baa62759a4f2-0' usage_metadata={'input_tokens': 778, 'output_tokens': 209, 'total_tokens': 987}\n",
      "Runnable Output Content: Here is the decomposition:\n",
      "\n",
      "[\n",
      "  \"Bloody Finger Hunter Yura was a samurai from the Land of Reeds.\",\n",
      "  \"Yura's purpose was to hunt down Bloody Fingers.\",\n",
      "  \"Eleonora was a Tarnished whom Yura held in high regard.\",\n",
      "  \"Eleonora was also known as Violet Bloody Finger.\",\n",
      "  \"It is uncertain what caused Eleonora's corruption into a Bloody Finger.\",\n",
      "  \"Yura warned the Tarnished against the dangers of Dragon Communion.\",\n",
      "  \"Those who partake in Dragon Communion one day lose their humanity, according to Yura.\",\n",
      "  \"Some Bloody Fingers that the Tarnished encountered were targets of Yura's hunt.\",\n",
      "  \"These Bloody Fingers had been approached and swayed by Mohg, the Lord of Blood.\",\n",
      "  \"Mohg was also known as the Lord of Blood.\"\n",
      "]\n",
      "\n",
      "Note: I've tried to maintain the original phrasing from the input whenever possible, while still breaking down the complex sentences into simpler ones.\n"
     ]
    },
    {
     "name": "stderr",
     "output_type": "stream",
     "text": [
      "INFO:httpx:HTTP Request: POST http://127.0.0.1:11434/api/chat \"HTTP/1.1 200 OK\"\n"
     ]
    },
    {
     "data": {
      "text/plain": [
       "Sentences(sentences=['Bloody Finger Hunter Yura was a samurai from the Land of Reeds.', \"Yura's purpose was to hunt down Bloody Fingers.\", 'Eleonora was a Tarnished whom Yura held in high regard.', 'Eleonora was also known as Violet Bloody Finger.', \"It is uncertain what caused Eleonora's corruption into a Bloody Finger.\", 'Yura warned the Tarnished against the dangers of Dragon Communion.', 'Those who partake in Dragon Communion one day lose their humanity, according to Yura.', \"Some Bloody Fingers that the Tarnished encountered were targets of Yura's hunt.\", 'These Bloody Fingers had been approached and swayed by Mohg, the Lord of Blood.', 'Mohg was also known as the Lord of Blood.'])"
      ]
     },
     "execution_count": 189,
     "metadata": {},
     "output_type": "execute_result"
    }
   ],
   "source": [
    "print(paragraphs[10:11])\n",
    "propo = get_propositions(paragraphs[10:11])\n",
    "propo"
   ]
  },
  {
   "cell_type": "code",
   "execution_count": 200,
   "metadata": {},
   "outputs": [
    {
     "name": "stdout",
     "output_type": "stream",
     "text": [
      "['B', 'l', 'o', 'o', 'd', 'y', ' ', 'F', 'i', 'n', 'g', 'e', 'r', ' ', 'H', 'u', 'n', 't', 'e', 'r', ' ', 'Y', 'u', 'r', 'a', '\\n', 'A', ' ', 's', 'a', 'm', 'u', 'r', 'a', 'i', ' ', 'f', 'r', 'o', 'm', ' ', 't', 'h', 'e', ' ', 'L', 'a', 'n', 'd', ' ', 'o', 'f', ' ', 'R', 'e', 'e', 'd', 's', ' ', 'w', 'h', 'o', 's', 'e', ' ', 'p', 'u', 'r', 'p', 'o', 's', 'e', ' ', 'i', 's', ' ', 't', 'o', ' ', 'h', 'u', 'n', 't', ' ', 'd', 'o', 'w', 'n', ' ', 'B', 'l', 'o', 'o', 'd', 'y', ' ', 'F', 'i', 'n', 'g', 'e', 'r', 's', '.', ' ', 'H', 'i', 's', ' ', 'b', 'i', 'g', 'g', 'e', 's', 't', ' ', 't', 'a', 'r', 'g', 'e', 't', ' ', 'i', 's', ' ', 'E', 'l', 'e', 'o', 'n', 'o', 'r', 'a', ',', ' ', 'V', 'i', 'o', 'l', 'e', 't', ' ', 'B', 'l', 'o', 'o', 'd', 'y', ' ', 'F', 'i', 'n', 'g', 'e', 'r', ',', ' ', 'a', ' ', 'T', 'a', 'r', 'n', 'i', 's', 'h', 'e', 'd', ' ', 'w', 'h', 'o', 'm', ' ', 'h', 'e', ' ', 'h', 'o', 'l', 'd', 's', ' ', 'i', 'n', ' ', 'h', 'i', 'g', 'h', ' ', 'r', 'e', 'g', 'a', 'r', 'd', '.', ' ', 'I', 't', ' ', 'i', 's', ' ', 'u', 'n', 'c', 'e', 'r', 't', 'a', 'i', 'n', ' ', 'w', 'h', 'a', 't', ' ', 'e', 'x', 'a', 'c', 't', 'l', 'y', ' ', 'c', 'a', 'u', 's', 'e', 'd', ' ', 'E', 'l', 'e', 'o', 'n', 'o', 'r', 'a', \"'\", 's', ' ', 'c', 'o', 'r', 'r', 'u', 'p', 't', 'i', 'o', 'n', ' ', 'i', 'n', 't', 'o', ' ', 'a', ' ', 'B', 'l', 'o', 'o', 'd', 'y', ' ', 'F', 'i', 'n', 'g', 'e', 'r', ' ', '-', ' ', 'Y', 'u', 'r', 'a', ' ', 'h', 'i', 'm', 's', 'e', 'l', 'f', ' ', 'w', 'a', 'r', 'n', 's', ' ', 't', 'h', 'e', ' ', 'T', 'a', 'r', 'n', 'i', 's', 'h', 'e', 'd', ' ', 'a', 'g', 'a', 'i', 'n', 's', 't', ' ', 't', 'h', 'e', ' ', 'd', 'a', 'n', 'g', 'e', 'r', 's', ' ', 'o', 'f', ' ', 'D', 'r', 'a', 'g', 'o', 'n', ' ', 'C', 'o', 'm', 'm', 'u', 'n', 'i', 'o', 'n', ',', ' ', 's', 't', 'a', 't', 'i', 'n', 'g', ' ', 't', 'h', 'a', 't', ' ', 't', 'h', 'o', 's', 'e', ' ', 'w', 'h', 'o', ' ', 'p', 'a', 'r', 't', 'a', 'k', 'e', ' ', 'i', 'n', ' ', 'i', 't', ' ', 'o', 'n', 'e', ' ', 'd', 'a', 'y', ' ', 'l', 'o', 's', 'e', ' ', 't', 'h', 'e', 'i', 'r', ' ', 'h', 'u', 'm', 'a', 'n', 'i', 't', 'y', '.', ' ', 'O', 'n', ' ', 't', 'h', 'e', ' ', 'o', 't', 'h', 'e', 'r', ' ', 'h', 'a', 'n', 'd', ',', ' ', 'o', 't', 'h', 'e', 'r', ' ', 'B', 'l', 'o', 'o', 'd', 'y', ' ', 'F', 'i', 'n', 'g', 'e', 'r', 's', ' ', 't', 'h', 'e', ' ', 'T', 'a', 'r', 'n', 'i', 's', 'h', 'e', 'd', ' ', 'e', 'n', 'c', 'o', 'u', 'n', 't', 'e', 'r', ',', ' ', 's', 'o', 'm', 'e', ' ', 'o', 'f', ' ', 'w', 'h', 'i', 'c', 'h', ' ', 'a', 'r', 'e', ' ', 'Y', 'u', 'r', 'a', \"'\", 's', ' ', 't', 'a', 'r', 'g', 'e', 't', 's', ',', ' ', 'a', 'r', 'e', ' ', 't', 'h', 'o', 's', 'e', ' ', 't', 'h', 'a', 't', ' ', 'h', 'a', 'v', 'e', ' ', 'b', 'e', 'e', 'n', ' ', 'a', 'p', 'p', 'r', 'o', 'a', 'c', 'h', 'e', 'd', ' ', 'a', 'n', 'd', ' ', 's', 'w', 'a', 'y', 'e', 'd', ' ', 'b', 'y', ' ', 'M', 'o', 'h', 'g', ',', ' ', 't', 'h', 'e', ' ', 'L', 'o', 'r', 'd', ' ', 'o', 'f', ' ', 'B', 'l', 'o', 'o', 'd', ' ', 'h', 'i', 'm', 's', 'e', 'l', 'f', '.']\n"
     ]
    }
   ],
   "source": [
    "print(paragraphs[10:11][0])\n",
    "propo = get_propositions(list(paragraphs[10:11][0]))\n",
    "propo"
   ]
  },
  {
   "cell_type": "code",
   "execution_count": null,
   "metadata": {},
   "outputs": [],
   "source": [
    "for para in paragraphs:\n",
    "    print(\"para: \",para)\n",
    "    # print(type(list(para)))\n",
    "    propo = get_propositions(list(para))\n",
    "    print(propo)"
   ]
  },
  {
   "cell_type": "code",
   "execution_count": 151,
   "metadata": {},
   "outputs": [
    {
     "name": "stdout",
     "output_type": "stream",
     "text": [
      "paragraph:  Bloody Finger Hunter Yura\n",
      "A samurai from the Land of Reeds whose purpose is to hunt down Bloody Fingers. His biggest target is Eleonora, Violet Bloody Finger, a Tarnished whom he holds in high regard. It is uncertain what exactly caused Eleonora's corruption into a Bloody Finger - Yura himself warns the Tarnished against the dangers of Dragon Communion, stating that those who partake in it one day lose their humanity. On the other hand, other Bloody Fingers the Tarnished encounter, some of which are Yura's targets, are those that have been approached and swayed by Mohg, the Lord of Blood himself.\n",
      "len:  603\n"
     ]
    },
    {
     "name": "stderr",
     "output_type": "stream",
     "text": [
      "INFO:httpx:HTTP Request: POST http://127.0.0.1:11434/api/chat \"HTTP/1.1 200 OK\"\n"
     ]
    },
    {
     "name": "stdout",
     "output_type": "stream",
     "text": [
      "Runnable Output: content='Here is the decomposed content:\\n\\n[ \"Bloody Finger Hunter Yura is a samurai.\", \"Yura is from the Land of Reeds.\", \"Yura\\'s purpose is to hunt down Bloody Fingers.\", \"Eleonora is a Tarnished whom Yura holds in high regard.\", \"Eleonora is also known as Violet Bloody Finger.\", \"It is uncertain what caused Eleonora\\'s corruption into a Bloody Finger.\", \"Yura warns the Tarnished against the dangers of Dragon Communion.\", \"Those who partake in Dragon Communion one day lose their humanity, according to Yura.\", \"Some Bloody Fingers that the Tarnished encounter are targets of Yura\\'s hunt.\", \"These Bloody Fingers have been approached and swayed by Mohg, the Lord of Blood.\", \"Mohg is also known as the Lord of Blood.\" ]' response_metadata={'model': 'llama3.1', 'created_at': '2024-09-13T03:10:21.2983027Z', 'message': {'role': 'assistant', 'content': ''}, 'done_reason': 'stop', 'done': True, 'total_duration': 2579315900, 'load_duration': 20529900, 'prompt_eval_count': 777, 'prompt_eval_duration': 524850000, 'eval_count': 178, 'eval_duration': 2030871000} id='run-4616ca6b-7ac8-4784-b5ae-5329a6b29a3a-0' usage_metadata={'input_tokens': 777, 'output_tokens': 178, 'total_tokens': 955}\n",
      "Runnable Output Content: Here is the decomposed content:\n",
      "\n",
      "[ \"Bloody Finger Hunter Yura is a samurai.\", \"Yura is from the Land of Reeds.\", \"Yura's purpose is to hunt down Bloody Fingers.\", \"Eleonora is a Tarnished whom Yura holds in high regard.\", \"Eleonora is also known as Violet Bloody Finger.\", \"It is uncertain what caused Eleonora's corruption into a Bloody Finger.\", \"Yura warns the Tarnished against the dangers of Dragon Communion.\", \"Those who partake in Dragon Communion one day lose their humanity, according to Yura.\", \"Some Bloody Fingers that the Tarnished encounter are targets of Yura's hunt.\", \"These Bloody Fingers have been approached and swayed by Mohg, the Lord of Blood.\", \"Mohg is also known as the Lord of Blood.\" ]\n"
     ]
    },
    {
     "name": "stderr",
     "output_type": "stream",
     "text": [
      "INFO:httpx:HTTP Request: POST http://127.0.0.1:11434/api/chat \"HTTP/1.1 200 OK\"\n"
     ]
    },
    {
     "ename": "ValidationError",
     "evalue": "1 validation error for Sentences\nsentences\n  value is not a valid list (type=type_error.list)",
     "output_type": "error",
     "traceback": [
      "\u001b[1;31m---------------------------------------------------------------------------\u001b[0m",
      "\u001b[1;31mValidationError\u001b[0m                           Traceback (most recent call last)",
      "Cell \u001b[1;32mIn[151], line 7\u001b[0m\n\u001b[0;32m      5\u001b[0m \u001b[38;5;28mprint\u001b[39m(\u001b[38;5;124m\"\u001b[39m\u001b[38;5;124mlen: \u001b[39m\u001b[38;5;124m\"\u001b[39m,\u001b[38;5;28mlen\u001b[39m(para))\n\u001b[0;32m      6\u001b[0m \u001b[38;5;28;01mif\u001b[39;00m \u001b[38;5;28mlen\u001b[39m(para) \u001b[38;5;241m>\u001b[39m \u001b[38;5;241m50\u001b[39m:\n\u001b[1;32m----> 7\u001b[0m     propo \u001b[38;5;241m=\u001b[39m \u001b[43mget_propositions\u001b[49m\u001b[43m(\u001b[49m\u001b[43mpara\u001b[49m\u001b[43m)\u001b[49m\n\u001b[0;32m      9\u001b[0m \u001b[38;5;28;01mif\u001b[39;00m propo:\n\u001b[0;32m     10\u001b[0m     proposition_list\u001b[38;5;241m.\u001b[39mextend(propo\u001b[38;5;241m.\u001b[39msentences)\n",
      "Cell \u001b[1;32mIn[134], line 9\u001b[0m, in \u001b[0;36mget_propositions\u001b[1;34m(text)\u001b[0m\n\u001b[0;32m      6\u001b[0m \u001b[38;5;28mprint\u001b[39m(\u001b[38;5;124m\"\u001b[39m\u001b[38;5;124mRunnable Output:\u001b[39m\u001b[38;5;124m\"\u001b[39m, runnable_output)\n\u001b[0;32m      7\u001b[0m \u001b[38;5;28mprint\u001b[39m(\u001b[38;5;124m\"\u001b[39m\u001b[38;5;124mRunnable Output Content:\u001b[39m\u001b[38;5;124m\"\u001b[39m, runnable_output\u001b[38;5;241m.\u001b[39mcontent)\n\u001b[1;32m----> 9\u001b[0m res \u001b[38;5;241m=\u001b[39m \u001b[43mstructured_llm\u001b[49m\u001b[38;5;241;43m.\u001b[39;49m\u001b[43minvoke\u001b[49m\u001b[43m(\u001b[49m\u001b[43mrunnable_output\u001b[49m\u001b[38;5;241;43m.\u001b[39;49m\u001b[43mcontent\u001b[49m\u001b[43m)\u001b[49m\n\u001b[0;32m     10\u001b[0m \u001b[38;5;28;01mreturn\u001b[39;00m res\n",
      "File \u001b[1;32mc:\\Users\\SLY\\.conda\\envs\\graphmaker\\Lib\\site-packages\\langchain_core\\runnables\\base.py:2878\u001b[0m, in \u001b[0;36mRunnableSequence.invoke\u001b[1;34m(self, input, config, **kwargs)\u001b[0m\n\u001b[0;32m   2876\u001b[0m             \u001b[38;5;28minput\u001b[39m \u001b[38;5;241m=\u001b[39m context\u001b[38;5;241m.\u001b[39mrun(step\u001b[38;5;241m.\u001b[39minvoke, \u001b[38;5;28minput\u001b[39m, config, \u001b[38;5;241m*\u001b[39m\u001b[38;5;241m*\u001b[39mkwargs)\n\u001b[0;32m   2877\u001b[0m         \u001b[38;5;28;01melse\u001b[39;00m:\n\u001b[1;32m-> 2878\u001b[0m             \u001b[38;5;28minput\u001b[39m \u001b[38;5;241m=\u001b[39m context\u001b[38;5;241m.\u001b[39mrun(step\u001b[38;5;241m.\u001b[39minvoke, \u001b[38;5;28minput\u001b[39m, config)\n\u001b[0;32m   2879\u001b[0m \u001b[38;5;66;03m# finish the root run\u001b[39;00m\n\u001b[0;32m   2880\u001b[0m \u001b[38;5;28;01mexcept\u001b[39;00m \u001b[38;5;167;01mBaseException\u001b[39;00m \u001b[38;5;28;01mas\u001b[39;00m e:\n",
      "File \u001b[1;32mc:\\Users\\SLY\\.conda\\envs\\graphmaker\\Lib\\site-packages\\langchain_core\\output_parsers\\base.py:183\u001b[0m, in \u001b[0;36mBaseOutputParser.invoke\u001b[1;34m(self, input, config)\u001b[0m\n\u001b[0;32m    179\u001b[0m \u001b[38;5;28;01mdef\u001b[39;00m \u001b[38;5;21minvoke\u001b[39m(\n\u001b[0;32m    180\u001b[0m     \u001b[38;5;28mself\u001b[39m, \u001b[38;5;28minput\u001b[39m: Union[\u001b[38;5;28mstr\u001b[39m, BaseMessage], config: Optional[RunnableConfig] \u001b[38;5;241m=\u001b[39m \u001b[38;5;28;01mNone\u001b[39;00m\n\u001b[0;32m    181\u001b[0m ) \u001b[38;5;241m-\u001b[39m\u001b[38;5;241m>\u001b[39m T:\n\u001b[0;32m    182\u001b[0m     \u001b[38;5;28;01mif\u001b[39;00m \u001b[38;5;28misinstance\u001b[39m(\u001b[38;5;28minput\u001b[39m, BaseMessage):\n\u001b[1;32m--> 183\u001b[0m         \u001b[38;5;28;01mreturn\u001b[39;00m \u001b[38;5;28;43mself\u001b[39;49m\u001b[38;5;241;43m.\u001b[39;49m\u001b[43m_call_with_config\u001b[49m\u001b[43m(\u001b[49m\n\u001b[0;32m    184\u001b[0m \u001b[43m            \u001b[49m\u001b[38;5;28;43;01mlambda\u001b[39;49;00m\u001b[43m \u001b[49m\u001b[43minner_input\u001b[49m\u001b[43m:\u001b[49m\u001b[43m \u001b[49m\u001b[38;5;28;43mself\u001b[39;49m\u001b[38;5;241;43m.\u001b[39;49m\u001b[43mparse_result\u001b[49m\u001b[43m(\u001b[49m\n\u001b[0;32m    185\u001b[0m \u001b[43m                \u001b[49m\u001b[43m[\u001b[49m\u001b[43mChatGeneration\u001b[49m\u001b[43m(\u001b[49m\u001b[43mmessage\u001b[49m\u001b[38;5;241;43m=\u001b[39;49m\u001b[43minner_input\u001b[49m\u001b[43m)\u001b[49m\u001b[43m]\u001b[49m\n\u001b[0;32m    186\u001b[0m \u001b[43m            \u001b[49m\u001b[43m)\u001b[49m\u001b[43m,\u001b[49m\n\u001b[0;32m    187\u001b[0m \u001b[43m            \u001b[49m\u001b[38;5;28;43minput\u001b[39;49m\u001b[43m,\u001b[49m\n\u001b[0;32m    188\u001b[0m \u001b[43m            \u001b[49m\u001b[43mconfig\u001b[49m\u001b[43m,\u001b[49m\n\u001b[0;32m    189\u001b[0m \u001b[43m            \u001b[49m\u001b[43mrun_type\u001b[49m\u001b[38;5;241;43m=\u001b[39;49m\u001b[38;5;124;43m\"\u001b[39;49m\u001b[38;5;124;43mparser\u001b[39;49m\u001b[38;5;124;43m\"\u001b[39;49m\u001b[43m,\u001b[49m\n\u001b[0;32m    190\u001b[0m \u001b[43m        \u001b[49m\u001b[43m)\u001b[49m\n\u001b[0;32m    191\u001b[0m     \u001b[38;5;28;01melse\u001b[39;00m:\n\u001b[0;32m    192\u001b[0m         \u001b[38;5;28;01mreturn\u001b[39;00m \u001b[38;5;28mself\u001b[39m\u001b[38;5;241m.\u001b[39m_call_with_config(\n\u001b[0;32m    193\u001b[0m             \u001b[38;5;28;01mlambda\u001b[39;00m inner_input: \u001b[38;5;28mself\u001b[39m\u001b[38;5;241m.\u001b[39mparse_result([Generation(text\u001b[38;5;241m=\u001b[39minner_input)]),\n\u001b[0;32m    194\u001b[0m             \u001b[38;5;28minput\u001b[39m,\n\u001b[0;32m    195\u001b[0m             config,\n\u001b[0;32m    196\u001b[0m             run_type\u001b[38;5;241m=\u001b[39m\u001b[38;5;124m\"\u001b[39m\u001b[38;5;124mparser\u001b[39m\u001b[38;5;124m\"\u001b[39m,\n\u001b[0;32m    197\u001b[0m         )\n",
      "File \u001b[1;32mc:\\Users\\SLY\\.conda\\envs\\graphmaker\\Lib\\site-packages\\langchain_core\\runnables\\base.py:1785\u001b[0m, in \u001b[0;36mRunnable._call_with_config\u001b[1;34m(self, func, input, config, run_type, **kwargs)\u001b[0m\n\u001b[0;32m   1781\u001b[0m     context \u001b[38;5;241m=\u001b[39m copy_context()\n\u001b[0;32m   1782\u001b[0m     context\u001b[38;5;241m.\u001b[39mrun(_set_config_context, child_config)\n\u001b[0;32m   1783\u001b[0m     output \u001b[38;5;241m=\u001b[39m cast(\n\u001b[0;32m   1784\u001b[0m         Output,\n\u001b[1;32m-> 1785\u001b[0m         \u001b[43mcontext\u001b[49m\u001b[38;5;241;43m.\u001b[39;49m\u001b[43mrun\u001b[49m\u001b[43m(\u001b[49m\n\u001b[0;32m   1786\u001b[0m \u001b[43m            \u001b[49m\u001b[43mcall_func_with_variable_args\u001b[49m\u001b[43m,\u001b[49m\u001b[43m  \u001b[49m\u001b[38;5;66;43;03m# type: ignore[arg-type]\u001b[39;49;00m\n\u001b[0;32m   1787\u001b[0m \u001b[43m            \u001b[49m\u001b[43mfunc\u001b[49m\u001b[43m,\u001b[49m\u001b[43m  \u001b[49m\u001b[38;5;66;43;03m# type: ignore[arg-type]\u001b[39;49;00m\n\u001b[0;32m   1788\u001b[0m \u001b[43m            \u001b[49m\u001b[38;5;28;43minput\u001b[39;49m\u001b[43m,\u001b[49m\u001b[43m  \u001b[49m\u001b[38;5;66;43;03m# type: ignore[arg-type]\u001b[39;49;00m\n\u001b[0;32m   1789\u001b[0m \u001b[43m            \u001b[49m\u001b[43mconfig\u001b[49m\u001b[43m,\u001b[49m\n\u001b[0;32m   1790\u001b[0m \u001b[43m            \u001b[49m\u001b[43mrun_manager\u001b[49m\u001b[43m,\u001b[49m\n\u001b[0;32m   1791\u001b[0m \u001b[43m            \u001b[49m\u001b[38;5;241;43m*\u001b[39;49m\u001b[38;5;241;43m*\u001b[39;49m\u001b[43mkwargs\u001b[49m\u001b[43m,\u001b[49m\n\u001b[0;32m   1792\u001b[0m \u001b[43m        \u001b[49m\u001b[43m)\u001b[49m,\n\u001b[0;32m   1793\u001b[0m     )\n\u001b[0;32m   1794\u001b[0m \u001b[38;5;28;01mexcept\u001b[39;00m \u001b[38;5;167;01mBaseException\u001b[39;00m \u001b[38;5;28;01mas\u001b[39;00m e:\n\u001b[0;32m   1795\u001b[0m     run_manager\u001b[38;5;241m.\u001b[39mon_chain_error(e)\n",
      "File \u001b[1;32mc:\\Users\\SLY\\.conda\\envs\\graphmaker\\Lib\\site-packages\\langchain_core\\runnables\\config.py:398\u001b[0m, in \u001b[0;36mcall_func_with_variable_args\u001b[1;34m(func, input, config, run_manager, **kwargs)\u001b[0m\n\u001b[0;32m    396\u001b[0m \u001b[38;5;28;01mif\u001b[39;00m run_manager \u001b[38;5;129;01mis\u001b[39;00m \u001b[38;5;129;01mnot\u001b[39;00m \u001b[38;5;28;01mNone\u001b[39;00m \u001b[38;5;129;01mand\u001b[39;00m accepts_run_manager(func):\n\u001b[0;32m    397\u001b[0m     kwargs[\u001b[38;5;124m\"\u001b[39m\u001b[38;5;124mrun_manager\u001b[39m\u001b[38;5;124m\"\u001b[39m] \u001b[38;5;241m=\u001b[39m run_manager\n\u001b[1;32m--> 398\u001b[0m \u001b[38;5;28;01mreturn\u001b[39;00m \u001b[43mfunc\u001b[49m\u001b[43m(\u001b[49m\u001b[38;5;28;43minput\u001b[39;49m\u001b[43m,\u001b[49m\u001b[43m \u001b[49m\u001b[38;5;241;43m*\u001b[39;49m\u001b[38;5;241;43m*\u001b[39;49m\u001b[43mkwargs\u001b[49m\u001b[43m)\u001b[49m\n",
      "File \u001b[1;32mc:\\Users\\SLY\\.conda\\envs\\graphmaker\\Lib\\site-packages\\langchain_core\\output_parsers\\base.py:184\u001b[0m, in \u001b[0;36mBaseOutputParser.invoke.<locals>.<lambda>\u001b[1;34m(inner_input)\u001b[0m\n\u001b[0;32m    179\u001b[0m \u001b[38;5;28;01mdef\u001b[39;00m \u001b[38;5;21minvoke\u001b[39m(\n\u001b[0;32m    180\u001b[0m     \u001b[38;5;28mself\u001b[39m, \u001b[38;5;28minput\u001b[39m: Union[\u001b[38;5;28mstr\u001b[39m, BaseMessage], config: Optional[RunnableConfig] \u001b[38;5;241m=\u001b[39m \u001b[38;5;28;01mNone\u001b[39;00m\n\u001b[0;32m    181\u001b[0m ) \u001b[38;5;241m-\u001b[39m\u001b[38;5;241m>\u001b[39m T:\n\u001b[0;32m    182\u001b[0m     \u001b[38;5;28;01mif\u001b[39;00m \u001b[38;5;28misinstance\u001b[39m(\u001b[38;5;28minput\u001b[39m, BaseMessage):\n\u001b[0;32m    183\u001b[0m         \u001b[38;5;28;01mreturn\u001b[39;00m \u001b[38;5;28mself\u001b[39m\u001b[38;5;241m.\u001b[39m_call_with_config(\n\u001b[1;32m--> 184\u001b[0m             \u001b[38;5;28;01mlambda\u001b[39;00m inner_input: \u001b[38;5;28;43mself\u001b[39;49m\u001b[38;5;241;43m.\u001b[39;49m\u001b[43mparse_result\u001b[49m\u001b[43m(\u001b[49m\n\u001b[0;32m    185\u001b[0m \u001b[43m                \u001b[49m\u001b[43m[\u001b[49m\u001b[43mChatGeneration\u001b[49m\u001b[43m(\u001b[49m\u001b[43mmessage\u001b[49m\u001b[38;5;241;43m=\u001b[39;49m\u001b[43minner_input\u001b[49m\u001b[43m)\u001b[49m\u001b[43m]\u001b[49m\n\u001b[0;32m    186\u001b[0m \u001b[43m            \u001b[49m\u001b[43m)\u001b[49m,\n\u001b[0;32m    187\u001b[0m             \u001b[38;5;28minput\u001b[39m,\n\u001b[0;32m    188\u001b[0m             config,\n\u001b[0;32m    189\u001b[0m             run_type\u001b[38;5;241m=\u001b[39m\u001b[38;5;124m\"\u001b[39m\u001b[38;5;124mparser\u001b[39m\u001b[38;5;124m\"\u001b[39m,\n\u001b[0;32m    190\u001b[0m         )\n\u001b[0;32m    191\u001b[0m     \u001b[38;5;28;01melse\u001b[39;00m:\n\u001b[0;32m    192\u001b[0m         \u001b[38;5;28;01mreturn\u001b[39;00m \u001b[38;5;28mself\u001b[39m\u001b[38;5;241m.\u001b[39m_call_with_config(\n\u001b[0;32m    193\u001b[0m             \u001b[38;5;28;01mlambda\u001b[39;00m inner_input: \u001b[38;5;28mself\u001b[39m\u001b[38;5;241m.\u001b[39mparse_result([Generation(text\u001b[38;5;241m=\u001b[39minner_input)]),\n\u001b[0;32m    194\u001b[0m             \u001b[38;5;28minput\u001b[39m,\n\u001b[0;32m    195\u001b[0m             config,\n\u001b[0;32m    196\u001b[0m             run_type\u001b[38;5;241m=\u001b[39m\u001b[38;5;124m\"\u001b[39m\u001b[38;5;124mparser\u001b[39m\u001b[38;5;124m\"\u001b[39m,\n\u001b[0;32m    197\u001b[0m         )\n",
      "File \u001b[1;32mc:\\Users\\SLY\\.conda\\envs\\graphmaker\\Lib\\site-packages\\langchain_core\\output_parsers\\openai_tools.py:296\u001b[0m, in \u001b[0;36mPydanticToolsParser.parse_result\u001b[1;34m(self, result, partial)\u001b[0m\n\u001b[0;32m    294\u001b[0m             \u001b[38;5;28;01mcontinue\u001b[39;00m\n\u001b[0;32m    295\u001b[0m         \u001b[38;5;28;01melse\u001b[39;00m:\n\u001b[1;32m--> 296\u001b[0m             \u001b[38;5;28;01mraise\u001b[39;00m e\n\u001b[0;32m    297\u001b[0m \u001b[38;5;28;01mif\u001b[39;00m \u001b[38;5;28mself\u001b[39m\u001b[38;5;241m.\u001b[39mfirst_tool_only:\n\u001b[0;32m    298\u001b[0m     \u001b[38;5;28;01mreturn\u001b[39;00m pydantic_objects[\u001b[38;5;241m0\u001b[39m] \u001b[38;5;28;01mif\u001b[39;00m pydantic_objects \u001b[38;5;28;01melse\u001b[39;00m \u001b[38;5;28;01mNone\u001b[39;00m\n",
      "File \u001b[1;32mc:\\Users\\SLY\\.conda\\envs\\graphmaker\\Lib\\site-packages\\langchain_core\\output_parsers\\openai_tools.py:291\u001b[0m, in \u001b[0;36mPydanticToolsParser.parse_result\u001b[1;34m(self, result, partial)\u001b[0m\n\u001b[0;32m    286\u001b[0m     \u001b[38;5;28;01mif\u001b[39;00m \u001b[38;5;129;01mnot\u001b[39;00m \u001b[38;5;28misinstance\u001b[39m(res[\u001b[38;5;124m\"\u001b[39m\u001b[38;5;124margs\u001b[39m\u001b[38;5;124m\"\u001b[39m], \u001b[38;5;28mdict\u001b[39m):\n\u001b[0;32m    287\u001b[0m         \u001b[38;5;28;01mraise\u001b[39;00m \u001b[38;5;167;01mValueError\u001b[39;00m(\n\u001b[0;32m    288\u001b[0m             \u001b[38;5;124mf\u001b[39m\u001b[38;5;124m\"\u001b[39m\u001b[38;5;124mTool arguments must be specified as a dict, received: \u001b[39m\u001b[38;5;124m\"\u001b[39m\n\u001b[0;32m    289\u001b[0m             \u001b[38;5;124mf\u001b[39m\u001b[38;5;124m\"\u001b[39m\u001b[38;5;132;01m{\u001b[39;00mres[\u001b[38;5;124m'\u001b[39m\u001b[38;5;124margs\u001b[39m\u001b[38;5;124m'\u001b[39m]\u001b[38;5;132;01m}\u001b[39;00m\u001b[38;5;124m\"\u001b[39m\n\u001b[0;32m    290\u001b[0m         )\n\u001b[1;32m--> 291\u001b[0m     pydantic_objects\u001b[38;5;241m.\u001b[39mappend(\u001b[43mname_dict\u001b[49m\u001b[43m[\u001b[49m\u001b[43mres\u001b[49m\u001b[43m[\u001b[49m\u001b[38;5;124;43m\"\u001b[39;49m\u001b[38;5;124;43mtype\u001b[39;49m\u001b[38;5;124;43m\"\u001b[39;49m\u001b[43m]\u001b[49m\u001b[43m]\u001b[49m\u001b[43m(\u001b[49m\u001b[38;5;241;43m*\u001b[39;49m\u001b[38;5;241;43m*\u001b[39;49m\u001b[43mres\u001b[49m\u001b[43m[\u001b[49m\u001b[38;5;124;43m\"\u001b[39;49m\u001b[38;5;124;43margs\u001b[39;49m\u001b[38;5;124;43m\"\u001b[39;49m\u001b[43m]\u001b[49m\u001b[43m)\u001b[49m)\n\u001b[0;32m    292\u001b[0m \u001b[38;5;28;01mexcept\u001b[39;00m (ValidationError, \u001b[38;5;167;01mValueError\u001b[39;00m) \u001b[38;5;28;01mas\u001b[39;00m e:\n\u001b[0;32m    293\u001b[0m     \u001b[38;5;28;01mif\u001b[39;00m partial:\n",
      "File \u001b[1;32m~\\AppData\\Roaming\\Python\\Python311\\site-packages\\pydantic\\main.py:341\u001b[0m, in \u001b[0;36mpydantic.main.BaseModel.__init__\u001b[1;34m()\u001b[0m\n",
      "\u001b[1;31mValidationError\u001b[0m: 1 validation error for Sentences\nsentences\n  value is not a valid list (type=type_error.list)"
     ]
    }
   ],
   "source": [
    "proposition_list = []\n",
    "\n",
    "for para in paragraphs[10:]:\n",
    "    print(\"paragraph: \",para)\n",
    "    print(\"len: \",len(para))\n",
    "    if len(para) > 50:\n",
    "        propo = get_propositions(para)\n",
    "    \n",
    "    if propo:\n",
    "        proposition_list.extend(propo.sentences)"
   ]
  },
  {
   "cell_type": "markdown",
   "metadata": {},
   "source": [
    "Let's take a look at what the propositions look like"
   ]
  },
  {
   "cell_type": "code",
   "execution_count": 307,
   "metadata": {},
   "outputs": [
    {
     "name": "stdout",
     "output_type": "stream",
     "text": [
      "You have 41 propositions\n"
     ]
    },
    {
     "data": {
      "text/plain": [
       "['Lore in Elden Ring covers all the information related to the world.',\n",
       " 'The world refers to the Lands Between.',\n",
       " 'The lore also covers past events that occurred long ago.',\n",
       " 'These past events are part of the history of the Lands Between.',\n",
       " 'There is a mystery surrounding the elusive Elden Ring.',\n",
       " 'This page contains heavy spoilers.',\n",
       " 'The Mythos of Elden Ring was written by George R. R. Martin.',\n",
       " 'George R. R. Martin wrote the overall narrative theme or plot structure of Elden Ring.',\n",
       " 'Mythos can also be interpreted as a belief system.',\n",
       " 'The Story of Elden Ring was written by Hidetaka Miyazaki and his team at FromSoftware.',\n",
       " 'Hidetaka Miyazaki and his team at FromSoftware wrote the story of Elden Ring.',\n",
       " \"The Lore and Story of Elden Ring are told in a similar manner to other FromSoftware 'Souls' games.\",\n",
       " 'Players should expect to find plenty left to interpretation about various game characters, elements, and concepts.',\n",
       " 'Seemingly contradictory statements will be found about various game characters, elements, and concepts.',\n",
       " 'The Lands Between is the world of Elden Ring.',\n",
       " 'Those who live in The Lands Between were blessed by Grace through the Elden Ring and the Erdtree.',\n",
       " 'Those who were blessed by the Elden Ring are characterized by having a golden aura that can be seen in their eyes.',\n",
       " 'Some of those who were blessed lost their grace; they were exiled and labeled the Tarnished.',\n",
       " 'The Elden Ring was shattered at some point, for unknown reasons.',\n",
       " 'The shards of the Elden Ring were scattered across The Lands Between.',\n",
       " 'The largest pieces of the Elden Ring are called Great Runes.',\n",
       " 'The six Demigod children of Queen Marika the Eternal claimed the Great Runes.',\n",
       " 'The Demigod children inherited different powers due to being corrupted by the power of the Great Runes.',\n",
       " 'The power of the Great Runes physically changed and twisted the Demigod children.',\n",
       " 'The Lands Between is divided into 7 distinct areas.',\n",
       " 'Limgrave exists.',\n",
       " 'Caelid exists.',\n",
       " 'Liurnia of the Lakes exists.',\n",
       " 'Altus Plateau exists.',\n",
       " 'Mt. Gelmir exists.',\n",
       " 'Mountaintops of the Giants exist.',\n",
       " 'The River Kingdoms (underground) exist.',\n",
       " 'Each area is overseen by a Demigod.',\n",
       " \"A central 'overworld' connects all areas.\",\n",
       " 'Players have total freedom to choose the order in which they tackle each area.',\n",
       " 'It is up to the player how they want to approach each area.',\n",
       " 'The hub area, similar to Firelink Shrine or Majula, will not be accessible at the beginning of the game.',\n",
       " 'Players must progress through the game until they reach the hub area.',\n",
       " 'The lore of the characters in the Elden Ring exists.',\n",
       " 'The lore provides background information about the characters in the Elden Ring.',\n",
       " 'The characters are part of the lore of the Elden Ring.']"
      ]
     },
     "execution_count": 307,
     "metadata": {},
     "output_type": "execute_result"
    }
   ],
   "source": [
    "print (f\"You have {len(proposition_list)} propositions\")\n",
    "proposition_list"
   ]
  },
  {
   "cell_type": "code",
   "execution_count": null,
   "metadata": {},
   "outputs": [],
   "source": [
    "from proposition2 import eldenring_propositions as erp"
   ]
  },
  {
   "cell_type": "code",
   "execution_count": null,
   "metadata": {},
   "outputs": [],
   "source": [
    "print (f\"You have {len(erp)} propositions\")"
   ]
  },
  {
   "cell_type": "code",
   "execution_count": null,
   "metadata": {},
   "outputs": [],
   "source": [
    "erp\n",
    "proposition_list = erp[:11]\n",
    "\n",
    "proposition_list"
   ]
  },
  {
   "cell_type": "markdown",
   "metadata": {},
   "source": [
    "So you'll see that they look like regular sentences, but they are actually statements that are able to stand on their own. For example, one of the sentences in the raw text is \"They meant well, but this is rarely true.\" if you were to chunk that on it's own, the LLM would have no idea who you're talking about. Who meant well? What is rarely true? But those have been covered by the propositions."
   ]
  },
  {
   "cell_type": "markdown",
   "metadata": {},
   "source": [
    "### Group each proposition to a chunk (Optional)\n",
    "\n",
    " Use an LLM that can reason about each proposition and determine whether or not it should be a part of an existing chunk or if a new chunk should be made.\n",
    "\n",
    "\n",
    " (Note: After testing, i found out that grouping each proposition to a chunks is not every effective.)"
   ]
  },
  {
   "cell_type": "code",
   "execution_count": null,
   "metadata": {},
   "outputs": [],
   "source": [
    "from agentic_chunker import AgenticChunker"
   ]
  },
  {
   "cell_type": "code",
   "execution_count": null,
   "metadata": {},
   "outputs": [],
   "source": [
    "ac = AgenticChunker()"
   ]
  },
  {
   "cell_type": "code",
   "execution_count": null,
   "metadata": {},
   "outputs": [],
   "source": [
    "ac.add_propositions(erp)"
   ]
  },
  {
   "cell_type": "code",
   "execution_count": null,
   "metadata": {},
   "outputs": [],
   "source": [
    "ac.pretty_print_chunks()"
   ]
  },
  {
   "cell_type": "code",
   "execution_count": null,
   "metadata": {},
   "outputs": [],
   "source": [
    "ac.pretty_print_chunk_outline()"
   ]
  },
  {
   "cell_type": "code",
   "execution_count": null,
   "metadata": {},
   "outputs": [],
   "source": [
    "print(ac.get_chunks(get_type='list_of_strings'))"
   ]
  },
  {
   "cell_type": "code",
   "execution_count": null,
   "metadata": {},
   "outputs": [],
   "source": [
    "mylist = ac.get_chunks(get_type='list_of_strings')"
   ]
  },
  {
   "cell_type": "code",
   "execution_count": null,
   "metadata": {},
   "outputs": [],
   "source": [
    "len(mylist)"
   ]
  },
  {
   "cell_type": "code",
   "execution_count": null,
   "metadata": {},
   "outputs": [],
   "source": [
    "mylist"
   ]
  },
  {
   "cell_type": "markdown",
   "metadata": {},
   "source": [
    "## Create the knowledge graph"
   ]
  },
  {
   "cell_type": "markdown",
   "metadata": {},
   "source": [
    "### Define the Ontology\n",
    "\n",
    "The ontology is a pydantic model with the following schema. \n",
    "\n",
    "```python\n",
    "class Ontology(BaseModel):\n",
    "    label: List[Union[str, Dict]]\n",
    "    relationships: List[str]\n",
    "```\n",
    "\n"
   ]
  },
  {
   "cell_type": "code",
   "execution_count": null,
   "metadata": {},
   "outputs": [],
   "source": [
    "ontology = Ontology(\n",
    "    labels=[\n",
    "        {\"Person\": \"Person name without any adjectives, Remember a person may be referenced by their name or using a pronoun\"},\n",
    "        {\"Object\": \"Do not add the definite article 'the' in the object name\"},\n",
    "        {\"Event\": \"Event involving multiple people. Do not include qualifiers or verbs like gives, leaves, works etc.\"},\n",
    "        {\"Place\": \"Locations where specific events took place\"},\n",
    "        {\"Faction\": \"Name of a group that a person belongs without any adjectives, Remember, a person may one belong to one faction\"},\n",
    "        {\"Miscellaneous\": \"Any important concept can not be categorised with any other given label\"},\n",
    "    ],\n",
    "    relationships=[\n",
    "        \"Relation between any pair of Entities\"\n",
    "        ],\n",
    ")"
   ]
  },
  {
   "cell_type": "markdown",
   "metadata": {},
   "source": [
    "### Select a LLM \n",
    "\n",
    "This model will:\n",
    "- Generate summaries each proposition\n",
    "- Extract the nodes and edges from the pydantic documents\n"
   ]
  },
  {
   "cell_type": "code",
   "execution_count": null,
   "metadata": {},
   "outputs": [],
   "source": [
    "## Groq models\n",
    "model = \"mistral-openorca:latest\"\n",
    "# model = \"mixtral-8x7b-32768\"\n",
    "# model =\"llama3-8b-8192\"\n",
    "# model = \"llama3-70b-8192\"\n",
    "# model=\"gemma-7b-it\"\n",
    "\n",
    "## Open AI models\n",
    "# oai_model=\"gpt-4o-mini\"\n",
    "\n",
    "## Use Groq\n",
    "# llm = GroqClient(model=model, temperature=0.1, top_p=0.5)\n",
    "\n",
    "## OR Use OpenAI\n",
    "# llm = OpenAIClient(model=oai_model, temperature=0.1, top_p=0.5)\n",
    "\n",
    "## Use Ollama\n",
    "llm = OllamaClient(model=model, temperature=0.1, top_p=0.5)\n"
   ]
  },
  {
   "cell_type": "markdown",
   "metadata": {},
   "source": [
    "### Create pydantic documents from chunks\n",
    "\n",
    "Documents is a pydantic model with the following schema \n",
    "\n",
    "```python\n",
    "class Document(BaseModel):\n",
    "    text: str\n",
    "    metadata: dict\n",
    "```\n",
    "\n",
    "The metadata we add to the document here is copied to every relation that is extracted out of the document. More often than not, the node pairs have multiple relation with each other. The metadata helps add more context to these relations\n",
    "\n",
    "In this example I am generating a summary of the text chunk, and the timestamp of the run, to be used as metadata. "
   ]
  },
  {
   "cell_type": "code",
   "execution_count": null,
   "metadata": {},
   "outputs": [],
   "source": [
    "import datetime\n",
    "current_time = str(datetime.datetime.now())"
   ]
  },
  {
   "cell_type": "code",
   "execution_count": null,
   "metadata": {},
   "outputs": [],
   "source": [
    "def generate_summary(text):\n",
    "    SYS_PROMPT = (\n",
    "        \"Succintly summarise the text provided by the user. \"\n",
    "        \"Respond only with the summary and no other comments\"\n",
    "    )\n",
    "    try:\n",
    "        summary = llm.generate(user_message=text, system_message=SYS_PROMPT)\n",
    "    except:\n",
    "        summary = \"\"\n",
    "    finally:\n",
    "        return summary"
   ]
  },
  {
   "cell_type": "code",
   "execution_count": null,
   "metadata": {},
   "outputs": [],
   "source": [
    "docs = map(\n",
    "    lambda t: Document(text=t, metadata={\"summary\": generate_summary(t), 'generated_at': current_time}),\n",
    "    proposition_list\n",
    ")"
   ]
  },
  {
   "cell_type": "code",
   "execution_count": null,
   "metadata": {},
   "outputs": [],
   "source": [
    "mylist = list(docs)\n",
    "mylist"
   ]
  },
  {
   "cell_type": "markdown",
   "metadata": {},
   "source": [
    "### Generate graph from pydantic documents"
   ]
  },
  {
   "cell_type": "code",
   "execution_count": null,
   "metadata": {},
   "outputs": [],
   "source": [
    "graph_maker = GraphMaker(ontology=ontology, llm_client=llm, verbose=False)"
   ]
  },
  {
   "cell_type": "code",
   "execution_count": null,
   "metadata": {},
   "outputs": [],
   "source": [
    "graph = graph_maker.from_documents(\n",
    "    list(docs), \n",
    "    delay_s_between=0 ## delay_s_between because otherwise groq api maxes out pretty fast. \n",
    "    ) \n",
    "print(\"Total number of Edges\", len(graph))"
   ]
  },
  {
   "cell_type": "code",
   "execution_count": null,
   "metadata": {},
   "outputs": [],
   "source": [
    "graph"
   ]
  },
  {
   "cell_type": "code",
   "execution_count": null,
   "metadata": {},
   "outputs": [],
   "source": [
    "for edge in graph:\n",
    "    print(edge.model_dump)\n",
    "    print(edge.model_dump(exclude=['metadata']), \"\\n\\n\")"
   ]
  },
  {
   "cell_type": "markdown",
   "metadata": {},
   "source": [
    "## Save the graph to a graph database"
   ]
  },
  {
   "cell_type": "code",
   "execution_count": null,
   "metadata": {},
   "outputs": [],
   "source": [
    "os.environ[\"NEO4J_USERNAME\"] = \"neo4j\"\n",
    "os.environ[\"NEO4J_PASSWORD\"] = \"12345678\"\n",
    "os.environ[\"NEO4J_URI\"]= \"bolt://localhost:7687\""
   ]
  },
  {
   "cell_type": "code",
   "execution_count": null,
   "metadata": {},
   "outputs": [],
   "source": [
    "from knowledge_graph_maker import Neo4jGraphModel\n",
    "\n",
    "create_indices = False\n",
    "neo4j_graph = Neo4jGraphModel(edges=graph, create_indices=create_indices)\n",
    "neo4j_graph.save()"
   ]
  }
 ],
 "metadata": {
  "kernelspec": {
   "display_name": ".venv",
   "language": "python",
   "name": "python3"
  },
  "language_info": {
   "codemirror_mode": {
    "name": "ipython",
    "version": 3
   },
   "file_extension": ".py",
   "mimetype": "text/x-python",
   "name": "python",
   "nbconvert_exporter": "python",
   "pygments_lexer": "ipython3",
   "version": "3.11.0"
  }
 },
 "nbformat": 4,
 "nbformat_minor": 2
}

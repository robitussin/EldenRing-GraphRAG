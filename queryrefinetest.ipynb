{
 "cells": [
  {
   "cell_type": "code",
   "execution_count": 101,
   "metadata": {},
   "outputs": [],
   "source": [
    "from langchain.graphs import Neo4jGraph\n",
    "from langchain.chains import GraphCypherQAChain\n",
    "from langchain.prompts.prompt import PromptTemplate\n",
    "from langchain_openai import ChatOpenAI\n",
    "import os\n",
    "\n",
    "# OpenAI API configuration\n",
    "os.environ[\"OPENAI_API_KEY\"] = os.getenv(\"OPENAI_API_KEY\")"
   ]
  },
  {
   "cell_type": "code",
   "execution_count": 102,
   "metadata": {},
   "outputs": [],
   "source": [
    "llm = ChatOpenAI(\n",
    "    model=\"gpt-4o-mini\",\n",
    "    temperature=0,\n",
    "    max_tokens=None,\n",
    "    timeout=None,\n",
    "    max_retries=2,\n",
    "    api_key= os.environ[\"OPENAI_API_KEY\"]\n",
    ")"
   ]
  },
  {
   "cell_type": "code",
   "execution_count": 103,
   "metadata": {},
   "outputs": [],
   "source": [
    "neo4j_url = \"bolt://localhost:7687\"\n",
    "neo4j_user = \"neo4j\"\n",
    "neo4j_password = \"12345678\"\n",
    "graph = Neo4jGraph(url=neo4j_url, username=neo4j_user, password=neo4j_password)"
   ]
  },
  {
   "cell_type": "code",
   "execution_count": 104,
   "metadata": {},
   "outputs": [],
   "source": [
    "# Cypher generation prompt\n",
    "cypher_generation_template = \"\"\"\n",
    "You are an expert Neo4j Cypher translator who converts English to Cypher based on the Neo4j Schema provided, following the instructions below:\n",
    "1. Generate Cypher query compatible ONLY for Neo4j Version 5\n",
    "2. Do not use EXISTS, SIZE, HAVING keywords in the cypher. Use alias when using the WITH keyword\n",
    "3. Use only nodes and relationships mentioned in the schema\n",
    "4. Always do a case-insensitive and fuzzy search for any properties related search. Eg: to search for a Person, use `toLower(entity.name) contains 'neo4j'`. \n",
    "5. Never use relationships that are not mentioned in the given schema\n",
    "6. When asked about entities, Match the properties using case-insensitive matching, E.g, to find a person named Radagon , use `toLower(entity.name) contains 'radagon'`.\n",
    "7. When asked about a person, Match the label property with the word \"person\", E.g, to find a person named Marika , use `toLower(entity.label) = 'person'`.\n",
    "7. When asked about a place, Match the label property with the word \"place\", E.g, to find a place named limgrave , use `toLower(entity.label) = 'place'`.\n",
    "8. If a person, place, object or event does not match an entity, Try matching the description property or the metadata property of a relationship using case-insensitive matching, E.g, to find information about Blackguard Big Boggart, use toLower(r.description) contains 'blackguard big boggart' OR toLower(r.metadata) contains 'blackguard big boggart'.\n",
    "9. When asked about any information of an entity, Do not simply give the entity label. Try to get the answer from the entity's relationship description or metadata property\n",
    "\n",
    "schema: {schema}\n",
    "\n",
    "Examples:\n",
    "Question: Who is Blackguard Big Boggart?\n",
    "MATCH (e:Entity)-[r:RELATED]->(re:Entity)\n",
    "WHERE toLower(r.description) CONTAINS 'blackguard big boggart'\n",
    "OR toLower(r.metadata) CONTAINS 'blackguard big boggart'\n",
    "RETURN e.name, r.metadata, r.description, re.name\n",
    "\n",
    "Question: Where is Limgrave?\n",
    "MATCH (e:Entity)-[r:RELATED]->(re:Entity)\n",
    "WHERE toLower(e.label) = 'place' AND toLower(e.name) = \"limgrave\"\n",
    "RETURN e.name, r.metadata, r.description, re.name\n",
    "\n",
    "Question: List all the locations in elden ring\n",
    "Answer: ```MATCH (e:Entity)\n",
    "WHERE e.label =\"Place\"\n",
    "RETURN e```\n",
    "\n",
    "Question: {question}\n",
    "\"\"\"\n",
    "\n",
    "cypher_prompt = PromptTemplate(\n",
    "    template = cypher_generation_template,\n",
    "    input_variables = [\"schema\", \"question\"]\n",
    ")\n",
    "\n",
    "CYPHER_QA_TEMPLATE = \"\"\"You are an assistant that helps to form nice and human understandable answers.\n",
    "The information part contains the provided information that you must use to construct an answer.\n",
    "The provided information is authoritative, you must never doubt it or try to use your internal knowledge to correct it.\n",
    "Make the answer sound as a response to the question. Do not mention that you based the result on the given information.\n",
    "If the provided information is empty, say that you don't know the answer.\n",
    "Final answer should be easily readable and structured.\n",
    "Information:\n",
    "{context}\n",
    "\n",
    "Question: {question}\n",
    "Helpful Answer:\"\"\"\n",
    "\n",
    "qa_prompt = PromptTemplate(\n",
    "    input_variables=[\"context\", \"question\"], template=CYPHER_QA_TEMPLATE\n",
    ")"
   ]
  },
  {
   "cell_type": "code",
   "execution_count": 105,
   "metadata": {},
   "outputs": [],
   "source": [
    "def query_graph(user_input):\n",
    "    chain = GraphCypherQAChain.from_llm(\n",
    "        llm=llm,\n",
    "        graph=graph,\n",
    "        verbose=True,\n",
    "        return_intermediate_steps=True,\n",
    "        cypher_prompt=cypher_prompt,\n",
    "        qa_prompt=qa_prompt\n",
    "        )\n",
    "    result = chain(user_input)\n",
    "    return result"
   ]
  },
  {
   "cell_type": "code",
   "execution_count": 106,
   "metadata": {},
   "outputs": [],
   "source": [
    "def refine_query(previous_query, user_input):\n",
    "\n",
    "   cypher_refine_template = f\"\"\"\" \n",
    "   Context: I am working with a Neo4j database containing information.\n",
    "\n",
    "   Initial Cypher Query:\n",
    "      {previous_query}\n",
    "   \"\"\"\n",
    "\n",
    "   cypher_refine_template += \"\"\"\n",
    "   Problem:\n",
    "   The above Cypher Query returned no results. \n",
    "   I need to refine this query to achieve to answer the question {question}: \n",
    "\n",
    "   Schema: {schema}\n",
    "\n",
    "   Request:\n",
    "   Can you please refine the Initial Cypher Query to answer the question?\n",
    "   \"\"\"\n",
    "    \n",
    "   cypher_refine_prompt = PromptTemplate(\n",
    "      input_variables=[\"schema\", \"question\"], template=cypher_refine_template\n",
    "   )\n",
    "\n",
    "   graph = Neo4jGraph(url=neo4j_url, username=neo4j_user, password=neo4j_password)\n",
    "   chain = GraphCypherQAChain.from_llm(\n",
    "       llm=llm,\n",
    "       graph=graph,\n",
    "       verbose=True,\n",
    "       return_intermediate_steps=True,\n",
    "       cypher_prompt=cypher_refine_prompt\n",
    "   )\n",
    "   \n",
    "   print(cypher_refine_prompt.format(question=user_input, schema=graph.schema, prevquery=previous_query))\n",
    "   result = chain(user_input)\n",
    "   return result"
   ]
  },
  {
   "cell_type": "code",
   "execution_count": 110,
   "metadata": {},
   "outputs": [],
   "source": [
    "user_input = \"What is an Amber Egg?\""
   ]
  },
  {
   "cell_type": "code",
   "execution_count": 111,
   "metadata": {},
   "outputs": [
    {
     "name": "stdout",
     "output_type": "stream",
     "text": [
      "\n",
      "\n",
      "\u001b[1m> Entering new GraphCypherQAChain chain...\u001b[0m\n",
      "Generated Cypher:\n",
      "\u001b[32;1m\u001b[1;3mcypher\n",
      "MATCH (e:Entity)-[r:RELATED]->(re:Entity)\n",
      "WHERE toLower(re.name) CONTAINS 'amber egg'\n",
      "OR toLower(r.description) CONTAINS 'amber egg'\n",
      "OR toLower(r.metadata) CONTAINS 'amber egg'\n",
      "RETURN e.name, r.metadata, r.description, re.name\n",
      "\u001b[0m\n",
      "Full Context:\n",
      "\u001b[32;1m\u001b[1;3m[{'e.name': 'Tarnished', 'r.metadata': '{\"summary\": \"The Tarnished discovers Rennala holding the Amber Egg.\", \"generated_at\": \"2024-08-24 20:26:22.238546\"}', 'r.description': 'The Tarnished is in a situation where they find Rennala.', 're.name': 'Rennala'}, {'e.name': 'Radagon', 'r.metadata': '{\"summary\": \"Radagon gave Rennala an Amber Egg.\", \"generated_at\": \"2024-08-24 20:26:22.238546\"}', 'r.description': 'Radagon and Rennala are involved in an event where Radagon gifts an Amber Egg to Rennala.', 're.name': 'Rennala'}, {'e.name': 'Rennala', 'r.metadata': '{\"summary\": \"The Tarnished discovers Rennala holding the Amber Egg.\", \"generated_at\": \"2024-08-24 20:26:22.238546\"}', 'r.description': 'Rennala is cradling the Amber Egg.', 're.name': 'Amber Egg'}, {'e.name': 'Rennala', 'r.metadata': '{\"summary\": \"Radagon gave Rennala an Amber Egg.\", \"generated_at\": \"2024-08-24 20:26:22.238546\"}', 'r.description': 'Rennala is associated with the Amber Egg as the recipient in the event.', 're.name': 'Amber Egg'}, {'e.name': 'Radagon', 'r.metadata': '{\"summary\": \"Radagon gave Rennala an Amber Egg.\", \"generated_at\": \"2024-08-24 20:26:22.238546\"}', 'r.description': 'Radagon is associated with the Amber Egg as the giver in the event.', 're.name': 'Amber Egg'}]\u001b[0m\n",
      "\n",
      "\u001b[1m> Finished chain.\u001b[0m\n"
     ]
    }
   ],
   "source": [
    "result = query_graph(user_input)\n",
    "intermediate_steps = result[\"intermediate_steps\"]\n",
    "cypher_query = intermediate_steps[0][\"query\"]\n",
    "database_results = intermediate_steps[1][\"context\"]\n",
    "answer = result[\"result\"]   "
   ]
  },
  {
   "cell_type": "code",
   "execution_count": 112,
   "metadata": {},
   "outputs": [
    {
     "data": {
      "text/plain": [
       "'The Amber Egg is a significant object in the context of the characters Radagon and Rennala. Radagon gifted the Amber Egg to Rennala, and at one point, the Tarnished discovers Rennala cradling it. This egg symbolizes a connection between these characters, with Radagon being the giver and Rennala the recipient.'"
      ]
     },
     "execution_count": 112,
     "metadata": {},
     "output_type": "execute_result"
    }
   ],
   "source": [
    "answer"
   ]
  },
  {
   "cell_type": "code",
   "execution_count": 82,
   "metadata": {},
   "outputs": [
    {
     "name": "stdout",
     "output_type": "stream",
     "text": [
      "No answer!\n",
      "\" \n",
      "   Context: I am working with a Neo4j database containing information.\n",
      "\n",
      "   Initial Cypher Query:\n",
      "      \n",
      "MATCH (e:Entity)-[r:RELATED]->(re:Entity)\n",
      "WHERE toLower(r.description) CONTAINS 'apple'\n",
      "OR toLower(r.metadata) CONTAINS 'apple'\n",
      "RETURN e.name, r.metadata, r.description, re.name\n",
      "\n",
      "   \n",
      "   Problem:\n",
      "   The above Cypher Query returned no results. \n",
      "   I need to refine this query to achieve to answer the question What is an Apple?: \n",
      "\n",
      "   Schema: Node properties:\n",
      "Entity {name: STRING, label: STRING}\n",
      "Relationship properties:\n",
      "RELATED {description: STRING, metadata: STRING, order: INTEGER}\n",
      "The relationships:\n",
      "(:Entity)-[:RELATED]->(:Entity)\n",
      "\n",
      "   Request:\n",
      "   Can you please refine the Initial Cypher Query to answer the question?\n",
      "   \n",
      "\n",
      "\n",
      "\u001b[1m> Entering new GraphCypherQAChain chain...\u001b[0m\n",
      "Generated Cypher:\n",
      "\u001b[32;1m\u001b[1;3mcypher\n",
      "MATCH (e:Entity)-[r:RELATED]->(re:Entity)\n",
      "WHERE toLower(e.name) = 'apple' \n",
      "   OR toLower(r.description) CONTAINS 'apple' \n",
      "   OR toLower(r.metadata) CONTAINS 'apple' \n",
      "   OR toLower(re.name) = 'apple'\n",
      "RETURN e.name AS EntityName, r.metadata AS RelationshipMetadata, r.description AS RelationshipDescription, re.name AS RelatedEntityName\n",
      "\u001b[0m\n",
      "Full Context:\n",
      "\u001b[32;1m\u001b[1;3m[]\u001b[0m\n",
      "\n",
      "\u001b[1m> Finished chain.\u001b[0m\n"
     ]
    }
   ],
   "source": [
    "result = \"\"\n",
    "if answer == \"I don't know the answer.\":\n",
    "    print(\"No answer!\")\n",
    "    result = refine_query(cypher_query[6:], user_input)\n",
    "else:\n",
    "    print(answer)"
   ]
  },
  {
   "cell_type": "code",
   "execution_count": 85,
   "metadata": {},
   "outputs": [
    {
     "data": {
      "text/plain": [
       "{'query': 'What is an Apple?',\n",
       " 'result': \"I don't know the answer.\",\n",
       " 'intermediate_steps': [{'query': \"cypher\\nMATCH (e:Entity)-[r:RELATED]->(re:Entity)\\nWHERE toLower(e.name) = 'apple' \\n   OR toLower(r.description) CONTAINS 'apple' \\n   OR toLower(r.metadata) CONTAINS 'apple' \\n   OR toLower(re.name) = 'apple'\\nRETURN e.name AS EntityName, r.metadata AS RelationshipMetadata, r.description AS RelationshipDescription, re.name AS RelatedEntityName\\n\"},\n",
       "  {'context': []}]}"
      ]
     },
     "execution_count": 85,
     "metadata": {},
     "output_type": "execute_result"
    }
   ],
   "source": [
    "result"
   ]
  },
  {
   "cell_type": "code",
   "execution_count": 100,
   "metadata": {},
   "outputs": [
    {
     "name": "stdout",
     "output_type": "stream",
     "text": [
      "cypher\n",
      "MATCH (e:Entity)-[r:RELATED]->(re:Entity)\n",
      "WHERE toLower(r.description) CONTAINS 'apple'\n",
      "OR toLower(r.metadata) CONTAINS 'apple'\n",
      "RETURN e.name, r.metadata, r.description, re.name\n",
      "\n"
     ]
    }
   ],
   "source": [
    "oldquery = cypher_query\n",
    "print(f\"\"\"{oldquery}\"\"\")"
   ]
  },
  {
   "cell_type": "code",
   "execution_count": 96,
   "metadata": {},
   "outputs": [],
   "source": [
    "newquery = result[\"intermediate_steps\"][0]['query']"
   ]
  },
  {
   "cell_type": "code",
   "execution_count": 97,
   "metadata": {},
   "outputs": [
    {
     "name": "stdout",
     "output_type": "stream",
     "text": [
      "cypher\n",
      "MATCH (e:Entity)-[r:RELATED]->(re:Entity)\n",
      "WHERE toLower(e.name) = 'apple' \n",
      "   OR toLower(r.description) CONTAINS 'apple' \n",
      "   OR toLower(r.metadata) CONTAINS 'apple' \n",
      "   OR toLower(re.name) = 'apple'\n",
      "RETURN e.name AS EntityName, r.metadata AS RelationshipMetadata, r.description AS RelationshipDescription, re.name AS RelatedEntityName\n",
      "\n"
     ]
    }
   ],
   "source": [
    "print(f\"\"\"{newquery}\"\"\")"
   ]
  }
 ],
 "metadata": {
  "kernelspec": {
   "display_name": "graphrag",
   "language": "python",
   "name": "python3"
  },
  "language_info": {
   "codemirror_mode": {
    "name": "ipython",
    "version": 3
   },
   "file_extension": ".py",
   "mimetype": "text/x-python",
   "name": "python",
   "nbconvert_exporter": "python",
   "pygments_lexer": "ipython3",
   "version": "3.9.18"
  }
 },
 "nbformat": 4,
 "nbformat_minor": 2
}
